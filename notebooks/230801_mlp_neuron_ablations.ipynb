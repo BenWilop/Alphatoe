{
 "cells": [
  {
   "cell_type": "code",
   "execution_count": 1,
   "metadata": {},
   "outputs": [],
   "source": [
    "%load_ext autoreload\n",
    "%autoreload 2\n",
    "import torch\n",
    "import torch.nn.functional as F\n",
    "from alphatoe import plot, game, data\n",
    "from transformer_lens import HookedTransformer, HookedTransformerConfig\n",
    "import json\n",
    "import einops\n",
    "import circuitsvis as cv\n",
    "from plotly.subplots import make_subplots\n",
    "import plotly.graph_objects as go\n",
    "from functools import partial\n",
    "from copy import copy\n",
    "import tqdm\n",
    "import pandas as pd\n",
    "import numpy as np\n",
    "from collections import Counter\n",
    "import matplotlib.pyplot as plt"
   ]
  },
  {
   "cell_type": "code",
   "execution_count": 2,
   "metadata": {},
   "outputs": [],
   "source": [
    "weights = torch.load(\"../scripts/models/prob all 8 layer control-20230718-185339.pt\")\n",
    "with open(\"../scripts/models/prob all 8 layer control-20230718-185339.json\", \"r\") as f:\n",
    "    args = json.load(f)"
   ]
  },
  {
   "cell_type": "code",
   "execution_count": 3,
   "metadata": {},
   "outputs": [
    {
     "data": {
      "text/plain": [
       "<All keys matched successfully>"
      ]
     },
     "execution_count": 3,
     "metadata": {},
     "output_type": "execute_result"
    }
   ],
   "source": [
    "model_cfg = HookedTransformerConfig(\n",
    "    n_layers=args[\"n_layers\"],\n",
    "    n_heads=args[\"n_heads\"],\n",
    "    d_model=args[\"d_model\"],\n",
    "    d_head=args[\"d_head\"],\n",
    "    d_mlp=args[\"d_mlp\"],\n",
    "    act_fn=args[\"act_fn\"],\n",
    "    normalization_type=args[\"normalization_type\"],\n",
    "    d_vocab=11,\n",
    "    d_vocab_out=10,\n",
    "    n_ctx=10,\n",
    "    init_weights=True,\n",
    "    device=args[\"device\"],\n",
    "    seed=args[\"seed\"],\n",
    ")\n",
    "model = HookedTransformer(model_cfg)\n",
    "model.load_state_dict(weights)"
   ]
  },
  {
   "cell_type": "code",
   "execution_count": 33,
   "metadata": {},
   "outputs": [],
   "source": [
    "neurons = [5, 117, 160, 195, 248, 342, 384]\n",
    "loss_fn = F.cross_entropy\n",
    "\n",
    "\n",
    "def get_neuron_acts(model, seq):\n",
    "    with torch.no_grad():\n",
    "        logits, cache = model.run_with_cache(torch.tensor(seq))\n",
    "    neuron_activations = copy(cache[\"post\", 0][0])\n",
    "    return neuron_activations\n",
    "\n",
    "\n",
    "def ablate_one_neuron(neuron, seq):\n",
    "    def hook(module, input, output):\n",
    "        result = output.clone()\n",
    "        result[:, :, neuron] = 0\n",
    "        return result\n",
    "\n",
    "    try:\n",
    "        handle = model.blocks[0].mlp.hook_post.register_forward_hook(hook)\n",
    "        logits = model(torch.tensor(seq))\n",
    "        handle.remove()\n",
    "    except Exception as e:\n",
    "        handle.remove()\n",
    "        raise e\n",
    "\n",
    "    return logits\n",
    "\n",
    "\n",
    "def neuron_ablated_loss(data, neuron):\n",
    "    data_size = data.shape[0]\n",
    "    target = einops.repeat(\n",
    "        torch.tensor([0.0] * 9 + [1.0]),\n",
    "        \"logit_dim -> data_size logit_dim\",\n",
    "        data_size=data_size,\n",
    "    ).to(\"cuda\")\n",
    "    logits = ablate_one_neuron(neuron, data)[:, -1, :]\n",
    "    loss = F.cross_entropy(logits, target, reduction=\"none\")\n",
    "    loss.to(\"cpu\").detach().numpy()\n",
    "    return loss"
   ]
  },
  {
   "cell_type": "code",
   "execution_count": 5,
   "metadata": {},
   "outputs": [
    {
     "name": "stdout",
     "output_type": "stream",
     "text": [
      "left column: 24228\n",
      "top left -> bottom right: 38196\n",
      "top row: 24228\n",
      "middle column: 24228\n",
      "bottom left -> top right: 38196\n",
      "right column: 24228\n",
      "middle row: 24228\n",
      "bottom row: 24228\n"
     ]
    },
    {
     "name": "stderr",
     "output_type": "stream",
     "text": [
      "/tmp/ipykernel_57662/4271538171.py:1: DtypeWarning: Columns (11) have mixed types. Specify dtype option on import or set low_memory=False.\n",
      "  df = pd.read_csv(\"../data/prob all 8 layer control-20230718-185339_stats.csv\")\n"
     ]
    }
   ],
   "source": [
    "df = pd.read_csv(\"../data/prob all 8 layer control-20230718-185339_stats.csv\")\n",
    "# count uniques in df\n",
    "first_conditions = Counter(df[\"first win condition\"])\n",
    "second_conditions = Counter(df[\"second win condition\"])\n",
    "for key, val in (first_conditions + second_conditions).items():\n",
    "    if isinstance(key, str):\n",
    "        print(f\"{key}: {val}\")"
   ]
  },
  {
   "cell_type": "code",
   "execution_count": 12,
   "metadata": {},
   "outputs": [
    {
     "data": {
      "text/html": [
       "<div>\n",
       "<style scoped>\n",
       "    .dataframe tbody tr th:only-of-type {\n",
       "        vertical-align: middle;\n",
       "    }\n",
       "\n",
       "    .dataframe tbody tr th {\n",
       "        vertical-align: top;\n",
       "    }\n",
       "\n",
       "    .dataframe thead th {\n",
       "        text-align: right;\n",
       "    }\n",
       "</style>\n",
       "<table border=\"1\" class=\"dataframe\">\n",
       "  <thead>\n",
       "    <tr style=\"text-align: right;\">\n",
       "      <th></th>\n",
       "      <th>moves played</th>\n",
       "      <th>steps till end state</th>\n",
       "      <th>winner</th>\n",
       "      <th>rotation 1</th>\n",
       "      <th>rotation 2</th>\n",
       "      <th>rotation 3</th>\n",
       "      <th>horizontal flip</th>\n",
       "      <th>vertical flip</th>\n",
       "      <th>training index</th>\n",
       "      <th>train or test</th>\n",
       "      <th>first win condition</th>\n",
       "      <th>second win condition</th>\n",
       "      <th>end move loss</th>\n",
       "    </tr>\n",
       "  </thead>\n",
       "  <tbody>\n",
       "    <tr>\n",
       "      <th>0</th>\n",
       "      <td>[0, 1, 3, 2, 6]</td>\n",
       "      <td>5</td>\n",
       "      <td>X</td>\n",
       "      <td>399</td>\n",
       "      <td>1439</td>\n",
       "      <td>1040</td>\n",
       "      <td>1114</td>\n",
       "      <td>325</td>\n",
       "      <td>241912</td>\n",
       "      <td>test</td>\n",
       "      <td>left column</td>\n",
       "      <td>NaN</td>\n",
       "      <td>0.000005</td>\n",
       "    </tr>\n",
       "    <tr>\n",
       "      <th>1</th>\n",
       "      <td>[0, 1, 3, 4, 6]</td>\n",
       "      <td>5</td>\n",
       "      <td>X</td>\n",
       "      <td>396</td>\n",
       "      <td>1438</td>\n",
       "      <td>1043</td>\n",
       "      <td>1112</td>\n",
       "      <td>327</td>\n",
       "      <td>190522</td>\n",
       "      <td>train</td>\n",
       "      <td>left column</td>\n",
       "      <td>NaN</td>\n",
       "      <td>0.000114</td>\n",
       "    </tr>\n",
       "    <tr>\n",
       "      <th>2</th>\n",
       "      <td>[0, 1, 3, 5, 6]</td>\n",
       "      <td>5</td>\n",
       "      <td>X</td>\n",
       "      <td>398</td>\n",
       "      <td>1437</td>\n",
       "      <td>1041</td>\n",
       "      <td>1113</td>\n",
       "      <td>326</td>\n",
       "      <td>90275</td>\n",
       "      <td>train</td>\n",
       "      <td>left column</td>\n",
       "      <td>NaN</td>\n",
       "      <td>0.000007</td>\n",
       "    </tr>\n",
       "    <tr>\n",
       "      <th>3</th>\n",
       "      <td>[0, 1, 3, 7, 6]</td>\n",
       "      <td>5</td>\n",
       "      <td>X</td>\n",
       "      <td>395</td>\n",
       "      <td>1436</td>\n",
       "      <td>1044</td>\n",
       "      <td>1110</td>\n",
       "      <td>329</td>\n",
       "      <td>21994</td>\n",
       "      <td>train</td>\n",
       "      <td>left column</td>\n",
       "      <td>NaN</td>\n",
       "      <td>0.000008</td>\n",
       "    </tr>\n",
       "    <tr>\n",
       "      <th>4</th>\n",
       "      <td>[0, 1, 3, 8, 6]</td>\n",
       "      <td>5</td>\n",
       "      <td>X</td>\n",
       "      <td>397</td>\n",
       "      <td>1435</td>\n",
       "      <td>1042</td>\n",
       "      <td>1111</td>\n",
       "      <td>328</td>\n",
       "      <td>48696</td>\n",
       "      <td>train</td>\n",
       "      <td>left column</td>\n",
       "      <td>NaN</td>\n",
       "      <td>0.000013</td>\n",
       "    </tr>\n",
       "  </tbody>\n",
       "</table>\n",
       "</div>"
      ],
      "text/plain": [
       "      moves played  steps till end state winner  rotation 1  rotation 2   \n",
       "0  [0, 1, 3, 2, 6]                     5      X         399        1439  \\\n",
       "1  [0, 1, 3, 4, 6]                     5      X         396        1438   \n",
       "2  [0, 1, 3, 5, 6]                     5      X         398        1437   \n",
       "3  [0, 1, 3, 7, 6]                     5      X         395        1436   \n",
       "4  [0, 1, 3, 8, 6]                     5      X         397        1435   \n",
       "\n",
       "   rotation 3  horizontal flip  vertical flip  training index train or test   \n",
       "0        1040             1114            325          241912          test  \\\n",
       "1        1043             1112            327          190522         train   \n",
       "2        1041             1113            326           90275         train   \n",
       "3        1044             1110            329           21994         train   \n",
       "4        1042             1111            328           48696         train   \n",
       "\n",
       "  first win condition second win condition  end move loss  \n",
       "0         left column                  NaN       0.000005  \n",
       "1         left column                  NaN       0.000114  \n",
       "2         left column                  NaN       0.000007  \n",
       "3         left column                  NaN       0.000008  \n",
       "4         left column                  NaN       0.000013  "
      ]
     },
     "execution_count": 12,
     "metadata": {},
     "output_type": "execute_result"
    }
   ],
   "source": [
    "df.head()"
   ]
  },
  {
   "cell_type": "code",
   "execution_count": 39,
   "metadata": {},
   "outputs": [
    {
     "name": "stderr",
     "output_type": "stream",
     "text": [
      "/tmp/ipykernel_57662/1016717474.py:20: UserWarning: To copy construct from a tensor, it is recommended to use sourceTensor.clone().detach() or sourceTensor.clone().detach().requires_grad_(True), rather than torch.tensor(sourceTensor).\n",
      "  logits = model(torch.tensor(seq))\n"
     ]
    },
    {
     "name": "stdout",
     "output_type": "stream",
     "text": [
      "  moves played         5  117  160  195  248  342  384\n",
      "0          NaN  1.097605  NaN  NaN  NaN  NaN  NaN  NaN\n",
      "1          NaN  3.076243  NaN  NaN  NaN  NaN  NaN  NaN\n",
      "2          NaN  1.423348  NaN  NaN  NaN  NaN  NaN  NaN\n",
      "3          NaN  1.009675  NaN  NaN  NaN  NaN  NaN  NaN\n",
      "4          NaN  1.193816  NaN  NaN  NaN  NaN  NaN  NaN\n"
     ]
    },
    {
     "name": "stderr",
     "output_type": "stream",
     "text": [
      "/tmp/ipykernel_57662/1016717474.py:20: UserWarning: To copy construct from a tensor, it is recommended to use sourceTensor.clone().detach() or sourceTensor.clone().detach().requires_grad_(True), rather than torch.tensor(sourceTensor).\n",
      "  logits = model(torch.tensor(seq))\n"
     ]
    },
    {
     "name": "stdout",
     "output_type": "stream",
     "text": [
      "  moves played         5       117  160  195  248  342  384\n",
      "0          NaN  1.097605  0.000362  NaN  NaN  NaN  NaN  NaN\n",
      "1          NaN  3.076243  0.002625  NaN  NaN  NaN  NaN  NaN\n",
      "2          NaN  1.423348  0.000116  NaN  NaN  NaN  NaN  NaN\n",
      "3          NaN  1.009675  0.000683  NaN  NaN  NaN  NaN  NaN\n",
      "4          NaN  1.193816  0.000973  NaN  NaN  NaN  NaN  NaN\n"
     ]
    },
    {
     "name": "stderr",
     "output_type": "stream",
     "text": [
      "/tmp/ipykernel_57662/1016717474.py:20: UserWarning: To copy construct from a tensor, it is recommended to use sourceTensor.clone().detach() or sourceTensor.clone().detach().requires_grad_(True), rather than torch.tensor(sourceTensor).\n",
      "  logits = model(torch.tensor(seq))\n"
     ]
    },
    {
     "name": "stdout",
     "output_type": "stream",
     "text": [
      "  moves played         5       117       160  195  248  342  384\n",
      "0          NaN  1.097605  0.000362  0.000005  NaN  NaN  NaN  NaN\n",
      "1          NaN  3.076243  0.002625  0.000114  NaN  NaN  NaN  NaN\n",
      "2          NaN  1.423348  0.000116  0.000007  NaN  NaN  NaN  NaN\n",
      "3          NaN  1.009675  0.000683  0.000008  NaN  NaN  NaN  NaN\n",
      "4          NaN  1.193816  0.000973  0.000013  NaN  NaN  NaN  NaN\n"
     ]
    },
    {
     "name": "stderr",
     "output_type": "stream",
     "text": [
      "/tmp/ipykernel_57662/1016717474.py:20: UserWarning: To copy construct from a tensor, it is recommended to use sourceTensor.clone().detach() or sourceTensor.clone().detach().requires_grad_(True), rather than torch.tensor(sourceTensor).\n",
      "  logits = model(torch.tensor(seq))\n"
     ]
    },
    {
     "name": "stdout",
     "output_type": "stream",
     "text": [
      "  moves played         5       117       160       195  248  342  384\n",
      "0          NaN  1.097605  0.000362  0.000005  0.000005  NaN  NaN  NaN\n",
      "1          NaN  3.076243  0.002625  0.000114  0.000114  NaN  NaN  NaN\n",
      "2          NaN  1.423348  0.000116  0.000007  0.000007  NaN  NaN  NaN\n",
      "3          NaN  1.009675  0.000683  0.000008  0.000008  NaN  NaN  NaN\n",
      "4          NaN  1.193816  0.000973  0.000013  0.000013  NaN  NaN  NaN\n"
     ]
    },
    {
     "name": "stderr",
     "output_type": "stream",
     "text": [
      "/tmp/ipykernel_57662/1016717474.py:20: UserWarning: To copy construct from a tensor, it is recommended to use sourceTensor.clone().detach() or sourceTensor.clone().detach().requires_grad_(True), rather than torch.tensor(sourceTensor).\n",
      "  logits = model(torch.tensor(seq))\n"
     ]
    },
    {
     "name": "stdout",
     "output_type": "stream",
     "text": [
      "  moves played         5       117       160       195       248  342  384\n",
      "0          NaN  1.097605  0.000362  0.000005  0.000005  0.000005  NaN  NaN\n",
      "1          NaN  3.076243  0.002625  0.000114  0.000114  0.000114  NaN  NaN\n",
      "2          NaN  1.423348  0.000116  0.000007  0.000007  0.000007  NaN  NaN\n",
      "3          NaN  1.009675  0.000683  0.000008  0.000008  0.000008  NaN  NaN\n",
      "4          NaN  1.193816  0.000973  0.000013  0.000013  0.000013  NaN  NaN\n"
     ]
    },
    {
     "name": "stderr",
     "output_type": "stream",
     "text": [
      "/tmp/ipykernel_57662/1016717474.py:20: UserWarning: To copy construct from a tensor, it is recommended to use sourceTensor.clone().detach() or sourceTensor.clone().detach().requires_grad_(True), rather than torch.tensor(sourceTensor).\n",
      "  logits = model(torch.tensor(seq))\n"
     ]
    },
    {
     "name": "stdout",
     "output_type": "stream",
     "text": [
      "  moves played         5       117       160       195       248       342   \n",
      "0          NaN  1.097605  0.000362  0.000005  0.000005  0.000005  0.001539  \\\n",
      "1          NaN  3.076243  0.002625  0.000114  0.000114  0.000114  0.088433   \n",
      "2          NaN  1.423348  0.000116  0.000007  0.000007  0.000007  0.002219   \n",
      "3          NaN  1.009675  0.000683  0.000008  0.000008  0.000008  0.002747   \n",
      "4          NaN  1.193816  0.000973  0.000013  0.000013  0.000013  0.001735   \n",
      "\n",
      "   384  \n",
      "0  NaN  \n",
      "1  NaN  \n",
      "2  NaN  \n",
      "3  NaN  \n",
      "4  NaN  \n"
     ]
    },
    {
     "name": "stderr",
     "output_type": "stream",
     "text": [
      "/tmp/ipykernel_57662/1016717474.py:20: UserWarning: To copy construct from a tensor, it is recommended to use sourceTensor.clone().detach() or sourceTensor.clone().detach().requires_grad_(True), rather than torch.tensor(sourceTensor).\n",
      "  logits = model(torch.tensor(seq))\n"
     ]
    },
    {
     "name": "stdout",
     "output_type": "stream",
     "text": [
      "  moves played         5       117       160       195       248       342   \n",
      "0          NaN  1.097605  0.000362  0.000005  0.000005  0.000005  0.001539  \\\n",
      "1          NaN  3.076243  0.002625  0.000114  0.000114  0.000114  0.088433   \n",
      "2          NaN  1.423348  0.000116  0.000007  0.000007  0.000007  0.002219   \n",
      "3          NaN  1.009675  0.000683  0.000008  0.000008  0.000008  0.002747   \n",
      "4          NaN  1.193816  0.000973  0.000013  0.000013  0.000013  0.001735   \n",
      "\n",
      "        384  \n",
      "0  0.000005  \n",
      "1  0.000114  \n",
      "2  0.000007  \n",
      "3  0.000008  \n",
      "4  0.000013  \n"
     ]
    }
   ],
   "source": [
    "# long run time\n",
    "batch_restarts = (\n",
    "    [0]\n",
    "    + [df.loc[df[\"steps till end state\"] == i].index[0] for i in [6, 7, 8, 9]]\n",
    "    + [len(df)]\n",
    ")\n",
    "batch_size = 4096\n",
    "df_ablation_losses = pd.DataFrame(columns=[\"moves played\"] + neurons)\n",
    "with torch.no_grad():\n",
    "    for neuron in neurons:\n",
    "        neuron_losses = []\n",
    "        for j in range(len(batch_restarts) - 1):\n",
    "            batch_size = min(batch_restarts[j + 1], batch_size)\n",
    "            for i in range(batch_restarts[j], batch_restarts[j + 1], batch_size):\n",
    "                batch_gap = batch_restarts[j + 1] - i\n",
    "                batch_size = batch_gap if batch_gap < batch_size else batch_size\n",
    "                games = torch.stack(\n",
    "                    [\n",
    "                        torch.tensor([10] + eval(game))\n",
    "                        for game in df[\"moves played\"].iloc[i : i + batch_size]\n",
    "                    ]\n",
    "                ).to(\"cuda\")\n",
    "                loss = neuron_ablated_loss(games, neuron)\n",
    "                neuron_losses.append(loss)\n",
    "        inter = [\n",
    "            loss.item()\n",
    "            for loss in torch.cat(\n",
    "                [torch.flatten(batch_losses) for batch_losses in neuron_losses]\n",
    "            )\n",
    "        ]\n",
    "\n",
    "        df_ablation_losses[neuron] = inter"
   ]
  },
  {
   "cell_type": "code",
   "execution_count": 40,
   "metadata": {},
   "outputs": [],
   "source": [
    "df_ablation_losses[\"moves played\"] = df[\"moves played\"]\n",
    "df_ablation_losses[\"first win condition\"] = df[\"first win condition\"]\n",
    "df_ablation_losses[\"second win condition\"] = df[\"second win condition\"]"
   ]
  },
  {
   "cell_type": "code",
   "execution_count": 41,
   "metadata": {},
   "outputs": [],
   "source": [
    "# save csv\n",
    "df_ablation_losses.to_csv(\"../data/230801_mlp_neuron_ablations.csv\", index=False)"
   ]
  },
  {
   "cell_type": "code",
   "execution_count": 48,
   "metadata": {},
   "outputs": [
    {
     "data": {
      "text/html": [
       "<div>\n",
       "<style scoped>\n",
       "    .dataframe tbody tr th:only-of-type {\n",
       "        vertical-align: middle;\n",
       "    }\n",
       "\n",
       "    .dataframe tbody tr th {\n",
       "        vertical-align: top;\n",
       "    }\n",
       "\n",
       "    .dataframe thead th {\n",
       "        text-align: right;\n",
       "    }\n",
       "</style>\n",
       "<table border=\"1\" class=\"dataframe\">\n",
       "  <thead>\n",
       "    <tr style=\"text-align: right;\">\n",
       "      <th></th>\n",
       "      <th>moves played</th>\n",
       "      <th>5</th>\n",
       "      <th>117</th>\n",
       "      <th>160</th>\n",
       "      <th>195</th>\n",
       "      <th>248</th>\n",
       "      <th>342</th>\n",
       "      <th>384</th>\n",
       "      <th>first win condition</th>\n",
       "      <th>second win condition</th>\n",
       "    </tr>\n",
       "  </thead>\n",
       "  <tbody>\n",
       "    <tr>\n",
       "      <th>0</th>\n",
       "      <td>[0, 1, 3, 2, 6]</td>\n",
       "      <td>1.097605</td>\n",
       "      <td>0.000362</td>\n",
       "      <td>0.000005</td>\n",
       "      <td>0.000005</td>\n",
       "      <td>0.000005</td>\n",
       "      <td>0.001539</td>\n",
       "      <td>0.000005</td>\n",
       "      <td>left column</td>\n",
       "      <td>NaN</td>\n",
       "    </tr>\n",
       "    <tr>\n",
       "      <th>1</th>\n",
       "      <td>[0, 1, 3, 4, 6]</td>\n",
       "      <td>3.076243</td>\n",
       "      <td>0.002625</td>\n",
       "      <td>0.000114</td>\n",
       "      <td>0.000114</td>\n",
       "      <td>0.000114</td>\n",
       "      <td>0.088433</td>\n",
       "      <td>0.000114</td>\n",
       "      <td>left column</td>\n",
       "      <td>NaN</td>\n",
       "    </tr>\n",
       "    <tr>\n",
       "      <th>2</th>\n",
       "      <td>[0, 1, 3, 5, 6]</td>\n",
       "      <td>1.423348</td>\n",
       "      <td>0.000116</td>\n",
       "      <td>0.000007</td>\n",
       "      <td>0.000007</td>\n",
       "      <td>0.000007</td>\n",
       "      <td>0.002219</td>\n",
       "      <td>0.000007</td>\n",
       "      <td>left column</td>\n",
       "      <td>NaN</td>\n",
       "    </tr>\n",
       "    <tr>\n",
       "      <th>3</th>\n",
       "      <td>[0, 1, 3, 7, 6]</td>\n",
       "      <td>1.009675</td>\n",
       "      <td>0.000683</td>\n",
       "      <td>0.000008</td>\n",
       "      <td>0.000008</td>\n",
       "      <td>0.000008</td>\n",
       "      <td>0.002747</td>\n",
       "      <td>0.000008</td>\n",
       "      <td>left column</td>\n",
       "      <td>NaN</td>\n",
       "    </tr>\n",
       "    <tr>\n",
       "      <th>4</th>\n",
       "      <td>[0, 1, 3, 8, 6]</td>\n",
       "      <td>1.193816</td>\n",
       "      <td>0.000973</td>\n",
       "      <td>0.000013</td>\n",
       "      <td>0.000013</td>\n",
       "      <td>0.000013</td>\n",
       "      <td>0.001735</td>\n",
       "      <td>0.000013</td>\n",
       "      <td>left column</td>\n",
       "      <td>NaN</td>\n",
       "    </tr>\n",
       "  </tbody>\n",
       "</table>\n",
       "</div>"
      ],
      "text/plain": [
       "      moves played         5       117       160       195       248   \n",
       "0  [0, 1, 3, 2, 6]  1.097605  0.000362  0.000005  0.000005  0.000005  \\\n",
       "1  [0, 1, 3, 4, 6]  3.076243  0.002625  0.000114  0.000114  0.000114   \n",
       "2  [0, 1, 3, 5, 6]  1.423348  0.000116  0.000007  0.000007  0.000007   \n",
       "3  [0, 1, 3, 7, 6]  1.009675  0.000683  0.000008  0.000008  0.000008   \n",
       "4  [0, 1, 3, 8, 6]  1.193816  0.000973  0.000013  0.000013  0.000013   \n",
       "\n",
       "        342       384 first win condition second win condition  \n",
       "0  0.001539  0.000005         left column                  NaN  \n",
       "1  0.088433  0.000114         left column                  NaN  \n",
       "2  0.002219  0.000007         left column                  NaN  \n",
       "3  0.002747  0.000008         left column                  NaN  \n",
       "4  0.001735  0.000013         left column                  NaN  "
      ]
     },
     "execution_count": 48,
     "metadata": {},
     "output_type": "execute_result"
    }
   ],
   "source": [
    "df_ablation_losses.head()"
   ]
  },
  {
   "cell_type": "code",
   "execution_count": 58,
   "metadata": {},
   "outputs": [
    {
     "ename": "KeyError",
     "evalue": "\"['moves played'] not found in axis\"",
     "output_type": "error",
     "traceback": [
      "\u001b[0;31m---------------------------------------------------------------------------\u001b[0m",
      "\u001b[0;31mKeyError\u001b[0m                                  Traceback (most recent call last)",
      "Cell \u001b[0;32mIn[58], line 2\u001b[0m\n\u001b[1;32m      1\u001b[0m df_ablation_losses\u001b[39m.\u001b[39mdrop(\u001b[39m\"\u001b[39m\u001b[39msecond win condition\u001b[39m\u001b[39m\"\u001b[39m, axis\u001b[39m=\u001b[39m\u001b[39m1\u001b[39m, inplace\u001b[39m=\u001b[39m\u001b[39mTrue\u001b[39;00m)\n\u001b[0;32m----> 2\u001b[0m df_ablation_losses\u001b[39m.\u001b[39;49mdrop(\u001b[39m\"\u001b[39;49m\u001b[39mmoves played\u001b[39;49m\u001b[39m\"\u001b[39;49m, axis\u001b[39m=\u001b[39;49m\u001b[39m1\u001b[39;49m, inplace\u001b[39m=\u001b[39;49m\u001b[39mTrue\u001b[39;49;00m)\n",
      "File \u001b[0;32m~/.local/lib/python3.10/site-packages/pandas/core/frame.py:5268\u001b[0m, in \u001b[0;36mDataFrame.drop\u001b[0;34m(self, labels, axis, index, columns, level, inplace, errors)\u001b[0m\n\u001b[1;32m   5120\u001b[0m \u001b[39mdef\u001b[39;00m \u001b[39mdrop\u001b[39m(\n\u001b[1;32m   5121\u001b[0m     \u001b[39mself\u001b[39m,\n\u001b[1;32m   5122\u001b[0m     labels: IndexLabel \u001b[39m=\u001b[39m \u001b[39mNone\u001b[39;00m,\n\u001b[0;32m   (...)\u001b[0m\n\u001b[1;32m   5129\u001b[0m     errors: IgnoreRaise \u001b[39m=\u001b[39m \u001b[39m\"\u001b[39m\u001b[39mraise\u001b[39m\u001b[39m\"\u001b[39m,\n\u001b[1;32m   5130\u001b[0m ) \u001b[39m-\u001b[39m\u001b[39m>\u001b[39m DataFrame \u001b[39m|\u001b[39m \u001b[39mNone\u001b[39;00m:\n\u001b[1;32m   5131\u001b[0m \u001b[39m    \u001b[39m\u001b[39m\"\"\"\u001b[39;00m\n\u001b[1;32m   5132\u001b[0m \u001b[39m    Drop specified labels from rows or columns.\u001b[39;00m\n\u001b[1;32m   5133\u001b[0m \n\u001b[0;32m   (...)\u001b[0m\n\u001b[1;32m   5266\u001b[0m \u001b[39m            weight  1.0     0.8\u001b[39;00m\n\u001b[1;32m   5267\u001b[0m \u001b[39m    \"\"\"\u001b[39;00m\n\u001b[0;32m-> 5268\u001b[0m     \u001b[39mreturn\u001b[39;00m \u001b[39msuper\u001b[39;49m()\u001b[39m.\u001b[39;49mdrop(\n\u001b[1;32m   5269\u001b[0m         labels\u001b[39m=\u001b[39;49mlabels,\n\u001b[1;32m   5270\u001b[0m         axis\u001b[39m=\u001b[39;49maxis,\n\u001b[1;32m   5271\u001b[0m         index\u001b[39m=\u001b[39;49mindex,\n\u001b[1;32m   5272\u001b[0m         columns\u001b[39m=\u001b[39;49mcolumns,\n\u001b[1;32m   5273\u001b[0m         level\u001b[39m=\u001b[39;49mlevel,\n\u001b[1;32m   5274\u001b[0m         inplace\u001b[39m=\u001b[39;49minplace,\n\u001b[1;32m   5275\u001b[0m         errors\u001b[39m=\u001b[39;49merrors,\n\u001b[1;32m   5276\u001b[0m     )\n",
      "File \u001b[0;32m~/.local/lib/python3.10/site-packages/pandas/core/generic.py:4549\u001b[0m, in \u001b[0;36mNDFrame.drop\u001b[0;34m(self, labels, axis, index, columns, level, inplace, errors)\u001b[0m\n\u001b[1;32m   4547\u001b[0m \u001b[39mfor\u001b[39;00m axis, labels \u001b[39min\u001b[39;00m axes\u001b[39m.\u001b[39mitems():\n\u001b[1;32m   4548\u001b[0m     \u001b[39mif\u001b[39;00m labels \u001b[39mis\u001b[39;00m \u001b[39mnot\u001b[39;00m \u001b[39mNone\u001b[39;00m:\n\u001b[0;32m-> 4549\u001b[0m         obj \u001b[39m=\u001b[39m obj\u001b[39m.\u001b[39;49m_drop_axis(labels, axis, level\u001b[39m=\u001b[39;49mlevel, errors\u001b[39m=\u001b[39;49merrors)\n\u001b[1;32m   4551\u001b[0m \u001b[39mif\u001b[39;00m inplace:\n\u001b[1;32m   4552\u001b[0m     \u001b[39mself\u001b[39m\u001b[39m.\u001b[39m_update_inplace(obj)\n",
      "File \u001b[0;32m~/.local/lib/python3.10/site-packages/pandas/core/generic.py:4591\u001b[0m, in \u001b[0;36mNDFrame._drop_axis\u001b[0;34m(self, labels, axis, level, errors, only_slice)\u001b[0m\n\u001b[1;32m   4589\u001b[0m         new_axis \u001b[39m=\u001b[39m axis\u001b[39m.\u001b[39mdrop(labels, level\u001b[39m=\u001b[39mlevel, errors\u001b[39m=\u001b[39merrors)\n\u001b[1;32m   4590\u001b[0m     \u001b[39melse\u001b[39;00m:\n\u001b[0;32m-> 4591\u001b[0m         new_axis \u001b[39m=\u001b[39m axis\u001b[39m.\u001b[39;49mdrop(labels, errors\u001b[39m=\u001b[39;49merrors)\n\u001b[1;32m   4592\u001b[0m     indexer \u001b[39m=\u001b[39m axis\u001b[39m.\u001b[39mget_indexer(new_axis)\n\u001b[1;32m   4594\u001b[0m \u001b[39m# Case for non-unique axis\u001b[39;00m\n\u001b[1;32m   4595\u001b[0m \u001b[39melse\u001b[39;00m:\n",
      "File \u001b[0;32m~/.local/lib/python3.10/site-packages/pandas/core/indexes/base.py:6696\u001b[0m, in \u001b[0;36mIndex.drop\u001b[0;34m(self, labels, errors)\u001b[0m\n\u001b[1;32m   6694\u001b[0m \u001b[39mif\u001b[39;00m mask\u001b[39m.\u001b[39many():\n\u001b[1;32m   6695\u001b[0m     \u001b[39mif\u001b[39;00m errors \u001b[39m!=\u001b[39m \u001b[39m\"\u001b[39m\u001b[39mignore\u001b[39m\u001b[39m\"\u001b[39m:\n\u001b[0;32m-> 6696\u001b[0m         \u001b[39mraise\u001b[39;00m \u001b[39mKeyError\u001b[39;00m(\u001b[39mf\u001b[39m\u001b[39m\"\u001b[39m\u001b[39m{\u001b[39;00m\u001b[39mlist\u001b[39m(labels[mask])\u001b[39m}\u001b[39;00m\u001b[39m not found in axis\u001b[39m\u001b[39m\"\u001b[39m)\n\u001b[1;32m   6697\u001b[0m     indexer \u001b[39m=\u001b[39m indexer[\u001b[39m~\u001b[39mmask]\n\u001b[1;32m   6698\u001b[0m \u001b[39mreturn\u001b[39;00m \u001b[39mself\u001b[39m\u001b[39m.\u001b[39mdelete(indexer)\n",
      "\u001b[0;31mKeyError\u001b[0m: \"['moves played'] not found in axis\""
     ]
    }
   ],
   "source": [
    "df_ablation_losses.drop(\"second win condition\", axis=1, inplace=True)\n",
    "df_ablation_losses.drop(\"moves played\", axis=1, inplace=True)"
   ]
  },
  {
   "cell_type": "code",
   "execution_count": 59,
   "metadata": {},
   "outputs": [
    {
     "data": {
      "text/html": [
       "<div>\n",
       "<style scoped>\n",
       "    .dataframe tbody tr th:only-of-type {\n",
       "        vertical-align: middle;\n",
       "    }\n",
       "\n",
       "    .dataframe tbody tr th {\n",
       "        vertical-align: top;\n",
       "    }\n",
       "\n",
       "    .dataframe thead th {\n",
       "        text-align: right;\n",
       "    }\n",
       "</style>\n",
       "<table border=\"1\" class=\"dataframe\">\n",
       "  <thead>\n",
       "    <tr style=\"text-align: right;\">\n",
       "      <th></th>\n",
       "      <th>5</th>\n",
       "      <th>117</th>\n",
       "      <th>160</th>\n",
       "      <th>195</th>\n",
       "      <th>248</th>\n",
       "      <th>342</th>\n",
       "      <th>384</th>\n",
       "      <th>first win condition</th>\n",
       "    </tr>\n",
       "  </thead>\n",
       "  <tbody>\n",
       "    <tr>\n",
       "      <th>0</th>\n",
       "      <td>1.097605</td>\n",
       "      <td>0.000362</td>\n",
       "      <td>0.000005</td>\n",
       "      <td>0.000005</td>\n",
       "      <td>0.000005</td>\n",
       "      <td>0.001539</td>\n",
       "      <td>0.000005</td>\n",
       "      <td>left column</td>\n",
       "    </tr>\n",
       "    <tr>\n",
       "      <th>1</th>\n",
       "      <td>3.076243</td>\n",
       "      <td>0.002625</td>\n",
       "      <td>0.000114</td>\n",
       "      <td>0.000114</td>\n",
       "      <td>0.000114</td>\n",
       "      <td>0.088433</td>\n",
       "      <td>0.000114</td>\n",
       "      <td>left column</td>\n",
       "    </tr>\n",
       "    <tr>\n",
       "      <th>2</th>\n",
       "      <td>1.423348</td>\n",
       "      <td>0.000116</td>\n",
       "      <td>0.000007</td>\n",
       "      <td>0.000007</td>\n",
       "      <td>0.000007</td>\n",
       "      <td>0.002219</td>\n",
       "      <td>0.000007</td>\n",
       "      <td>left column</td>\n",
       "    </tr>\n",
       "    <tr>\n",
       "      <th>3</th>\n",
       "      <td>1.009675</td>\n",
       "      <td>0.000683</td>\n",
       "      <td>0.000008</td>\n",
       "      <td>0.000008</td>\n",
       "      <td>0.000008</td>\n",
       "      <td>0.002747</td>\n",
       "      <td>0.000008</td>\n",
       "      <td>left column</td>\n",
       "    </tr>\n",
       "    <tr>\n",
       "      <th>4</th>\n",
       "      <td>1.193816</td>\n",
       "      <td>0.000973</td>\n",
       "      <td>0.000013</td>\n",
       "      <td>0.000013</td>\n",
       "      <td>0.000013</td>\n",
       "      <td>0.001735</td>\n",
       "      <td>0.000013</td>\n",
       "      <td>left column</td>\n",
       "    </tr>\n",
       "  </tbody>\n",
       "</table>\n",
       "</div>"
      ],
      "text/plain": [
       "          5       117       160       195       248       342       384   \n",
       "0  1.097605  0.000362  0.000005  0.000005  0.000005  0.001539  0.000005  \\\n",
       "1  3.076243  0.002625  0.000114  0.000114  0.000114  0.088433  0.000114   \n",
       "2  1.423348  0.000116  0.000007  0.000007  0.000007  0.002219  0.000007   \n",
       "3  1.009675  0.000683  0.000008  0.000008  0.000008  0.002747  0.000008   \n",
       "4  1.193816  0.000973  0.000013  0.000013  0.000013  0.001735  0.000013   \n",
       "\n",
       "  first win condition  \n",
       "0         left column  \n",
       "1         left column  \n",
       "2         left column  \n",
       "3         left column  \n",
       "4         left column  "
      ]
     },
     "execution_count": 59,
     "metadata": {},
     "output_type": "execute_result"
    }
   ],
   "source": [
    "df_ablation_losses.head()"
   ]
  },
  {
   "cell_type": "code",
   "execution_count": 60,
   "metadata": {},
   "outputs": [
    {
     "data": {
      "image/png": "[encoded data removed]",
      "text/plain": [
       "<Figure size 640x480 with 2 Axes>"
      ]
     },
     "metadata": {},
     "output_type": "display_data"
    }
   ],
   "source": [
    "grouped = df_ablation_losses.groupby([\"first win condition\"])\n",
    "plt.imshow(grouped.mean(), cmap=\"jet\", interpolation=\"nearest\")\n",
    "plt.colorbar()\n",
    "# legend\n",
    "plt.xticks(np.arange(0, 7), labels=grouped.mean().columns)\n",
    "# yticks\n",
    "plt.yticks(np.arange(0, 8), labels=grouped.mean().index)\n",
    "# dpi\n",
    "plt.rcParams[\"figure.dpi\"] = 150"
   ]
  },
  {
   "cell_type": "code",
   "execution_count": null,
   "metadata": {},
   "outputs": [],
   "source": []
  }
 ],
 "metadata": {
  "kernelspec": {
   "display_name": "Python 3",
   "language": "python",
   "name": "python3"
  },
  "language_info": {
   "codemirror_mode": {
    "name": "ipython",
    "version": 3
   },
   "file_extension": ".py",
   "mimetype": "text/x-python",
   "name": "python",
   "nbconvert_exporter": "python",
   "pygments_lexer": "ipython3",
   "version": "3.10.9"
  },
  "orig_nbformat": 4
 },
 "nbformat": 4,
 "nbformat_minor": 2
}
