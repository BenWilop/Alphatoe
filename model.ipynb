{
 "cells": [
  {
   "cell_type": "code",
   "execution_count": 1,
   "metadata": {},
   "outputs": [],
   "source": [
    "import torch\n",
    "from torch import Tensor\n",
    "import transformer_lens\n",
    "import transformer_lens.utils as utils\n",
    "from transformer_lens.hook_points import (\n",
    "    HookedRootModule,\n",
    "    HookPoint,\n",
    ")  # Hooking utilities\n",
    "from transformer_lens import HookedTransformer, HookedTransformerConfig, FactoredMatrix, ActivationCache\n",
    "import numpy as np\n",
    "import torch as t\n",
    "import tqdm\n",
    "#functional\n",
    "import torch.nn.functional as F\n",
    "import matplotlib.pyplot as plt\n",
    "import plotly.io as pio\n",
    "import plotly.express as px\n",
    "import plotly.graph_objects as go\n",
    "from functools import partial\n",
    "import einops\n",
    "import circuitsvis as cv\n",
    "from src.game import Board, apply_best_moves, get_best_moves, generate_all_games"
   ]
  },
  {
   "attachments": {},
   "cell_type": "markdown",
   "metadata": {},
   "source": [
    "# Graphing stuff"
   ]
  },
  {
   "cell_type": "code",
   "execution_count": 2,
   "metadata": {},
   "outputs": [],
   "source": [
    "def to_numpy(tensor, flat=False):\n",
    "    if type(tensor)!=torch.Tensor:\n",
    "        return tensor\n",
    "    if flat:\n",
    "        return tensor.flatten().detach().cpu().numpy()\n",
    "    else:\n",
    "        return tensor.detach().cpu().numpy()\n",
    "\n",
    "def imshow(tensor, xaxis=None, yaxis=None, animation_name='Snapshot', **kwargs):\n",
    "    tensor = torch.squeeze(tensor)\n",
    "    px.imshow(to_numpy(tensor, flat=False),aspect='auto', \n",
    "              labels={'x':xaxis, 'y':yaxis, 'animation_name':animation_name}, \n",
    "              **kwargs).show()\n",
    "# Set default colour scheme\n",
    "imshow = partial(imshow, color_continuous_scale='Blues')\n",
    "# Creates good defaults for showing divergent colour scales (ie with both \n",
    "# positive and negative values, where 0 is white)\n",
    "imshow_div = partial(imshow, color_continuous_scale='RdBu', color_continuous_midpoint=0.0)\n",
    "# Presets a bunch of defaults to imshow to make it suitable for showing heatmaps \n",
    "# of activations with x axis being input 1 and y axis being input 2.\n",
    "inputs_heatmap = partial(imshow, xaxis='Input 1', yaxis='Input 2', color_continuous_scale='RdBu', color_continuous_midpoint=0.0)\n",
    "\n",
    "def line(x, y=None, hover=None, xaxis='', yaxis='', **kwargs):\n",
    "    if type(y)==torch.Tensor:\n",
    "        y = to_numpy(y, flat=True)\n",
    "    if type(x)==torch.Tensor:\n",
    "        x = to_numpy(x, flat=True)\n",
    "    fig = px.line(x, y=y, hover_name=hover, **kwargs)\n",
    "    fig.update_layout(xaxis_title=xaxis, yaxis_title=yaxis)\n",
    "    fig.show()\n",
    "\n",
    "def lines(lines_list, x=None, mode='lines', labels=None, xaxis='', yaxis='', title = '', log_y=False, hover=None, **kwargs):\n",
    "    if type(lines_list)==torch.Tensor:\n",
    "        lines_list = [lines_list[i] for i in range(lines_list.shape[0])]\n",
    "    if x is None:\n",
    "        x=np.arange(len(lines_list[0]))\n",
    "    fig = go.Figure(layout={'title':title})\n",
    "    fig.update_xaxes(title=xaxis)\n",
    "    fig.update_yaxes(title=yaxis)\n",
    "    for c, line in enumerate(lines_list):\n",
    "        if type(line)==torch.Tensor:\n",
    "            line = to_numpy(line)\n",
    "        if labels is not None:\n",
    "            label = labels[c]\n",
    "        else:\n",
    "            label = c\n",
    "        fig.add_trace(go.Scatter(x=x, y=line, mode=mode, name=label, hovertext=hover, **kwargs))\n",
    "    if log_y:\n",
    "        fig.update_layout(yaxis_type=\"log\")\n",
    "    fig.show()"
   ]
  },
  {
   "attachments": {},
   "cell_type": "markdown",
   "metadata": {},
   "source": [
    "# Training Config Stuff"
   ]
  },
  {
   "cell_type": "code",
   "execution_count": 3,
   "metadata": {},
   "outputs": [],
   "source": [
    "cfg = HookedTransformerConfig(\n",
    "    n_layers = 8,\n",
    "    n_heads = 8,\n",
    "    d_model = 128,\n",
    "    d_head = 16,\n",
    "    d_mlp = 512,\n",
    "    act_fn = \"relu\",\n",
    "    normalization_type=None,\n",
    "    d_vocab=11,\n",
    "    d_vocab_out=10,\n",
    "    n_ctx=10,\n",
    "    init_weights=True,\n",
    "    device=\"cuda\",\n",
    "    seed = 1337,\n",
    ")\n",
    "\n",
    "lr = 1e-4\n",
    "weight_decay = 1e-4\n",
    "test_train_split = 0.8\n",
    "epochs = 10\n",
    "batch_size = 8192\n",
    "\n"
   ]
  },
  {
   "cell_type": "code",
   "execution_count": 5,
   "metadata": {},
   "outputs": [
    {
     "name": "stdout",
     "output_type": "stream",
     "text": [
      "we're on the 1th loop!\n"
     ]
    },
    {
     "ename": "ValueError",
     "evalue": "Not a valid move nerd!!",
     "output_type": "error",
     "traceback": [
      "\u001b[0;31m---------------------------------------------------------------------------\u001b[0m",
      "\u001b[0;31mValueError\u001b[0m                                Traceback (most recent call last)",
      "Cell \u001b[0;32mIn[5], line 2\u001b[0m\n\u001b[1;32m      1\u001b[0m boards \u001b[39m=\u001b[39m [Board()]\n\u001b[0;32m----> 2\u001b[0m game_list \u001b[39m=\u001b[39m apply_best_moves(boards)\n",
      "File \u001b[0;32m~/Code/Tic-Tac-Transformer/src/game.py:127\u001b[0m, in \u001b[0;36mapply_best_moves\u001b[0;34m(boards)\u001b[0m\n\u001b[1;32m    125\u001b[0m new_boards: \u001b[39mlist\u001b[39m[Board] \u001b[39m=\u001b[39m []\n\u001b[1;32m    126\u001b[0m \u001b[39mfor\u001b[39;00m board \u001b[39min\u001b[39;00m boards:\n\u001b[0;32m--> 127\u001b[0m     \u001b[39mfor\u001b[39;00m move \u001b[39min\u001b[39;00m get_best_moves(board):\n\u001b[1;32m    128\u001b[0m         _board \u001b[39m=\u001b[39m deepcopy(board)\n\u001b[1;32m    129\u001b[0m         new_boards\u001b[39m.\u001b[39mappend(_board\u001b[39m.\u001b[39mmake_move(move))\n",
      "File \u001b[0;32m~/Code/Tic-Tac-Transformer/src/game.py:110\u001b[0m, in \u001b[0;36mget_best_moves\u001b[0;34m(board)\u001b[0m\n\u001b[1;32m    108\u001b[0m \u001b[39mfor\u001b[39;00m move \u001b[39min\u001b[39;00m board\u001b[39m.\u001b[39mget_possible_moves():\n\u001b[1;32m    109\u001b[0m     board\u001b[39m.\u001b[39mmake_move(move)\n\u001b[0;32m--> 110\u001b[0m     score \u001b[39m=\u001b[39m minimax(board)\n\u001b[1;32m    111\u001b[0m     board\u001b[39m.\u001b[39mundo()\n\u001b[1;32m    112\u001b[0m     \u001b[39mif\u001b[39;00m board\u001b[39m.\u001b[39mis_maximizer \u001b[39m&\u001b[39m (score \u001b[39m>\u001b[39m\u001b[39m=\u001b[39m bestScore):\n",
      "File \u001b[0;32m~/Code/Tic-Tac-Transformer/src/game.py:173\u001b[0m, in \u001b[0;36mminimax\u001b[0;34m(board)\u001b[0m\n\u001b[1;32m    171\u001b[0m \u001b[39mfor\u001b[39;00m move \u001b[39min\u001b[39;00m board\u001b[39m.\u001b[39mget_possible_moves():\n\u001b[1;32m    172\u001b[0m     board\u001b[39m.\u001b[39mmake_move(move)\n\u001b[0;32m--> 173\u001b[0m     scores\u001b[39m.\u001b[39mappend(minimax(board))\n\u001b[1;32m    174\u001b[0m     board\u001b[39m.\u001b[39mundo()\n\u001b[1;32m    176\u001b[0m \u001b[39mreturn\u001b[39;00m \u001b[39mmax\u001b[39m(scores) \u001b[39mif\u001b[39;00m board\u001b[39m.\u001b[39mis_maximizer \u001b[39melse\u001b[39;00m \u001b[39mmin\u001b[39m(scores)\n",
      "File \u001b[0;32m~/Code/Tic-Tac-Transformer/src/game.py:173\u001b[0m, in \u001b[0;36mminimax\u001b[0;34m(board)\u001b[0m\n\u001b[1;32m    171\u001b[0m \u001b[39mfor\u001b[39;00m move \u001b[39min\u001b[39;00m board\u001b[39m.\u001b[39mget_possible_moves():\n\u001b[1;32m    172\u001b[0m     board\u001b[39m.\u001b[39mmake_move(move)\n\u001b[0;32m--> 173\u001b[0m     scores\u001b[39m.\u001b[39mappend(minimax(board))\n\u001b[1;32m    174\u001b[0m     board\u001b[39m.\u001b[39mundo()\n\u001b[1;32m    176\u001b[0m \u001b[39mreturn\u001b[39;00m \u001b[39mmax\u001b[39m(scores) \u001b[39mif\u001b[39;00m board\u001b[39m.\u001b[39mis_maximizer \u001b[39melse\u001b[39;00m \u001b[39mmin\u001b[39m(scores)\n",
      "    \u001b[0;31m[... skipping similar frames: minimax at line 173 (2 times)]\u001b[0m\n",
      "File \u001b[0;32m~/Code/Tic-Tac-Transformer/src/game.py:173\u001b[0m, in \u001b[0;36mminimax\u001b[0;34m(board)\u001b[0m\n\u001b[1;32m    171\u001b[0m \u001b[39mfor\u001b[39;00m move \u001b[39min\u001b[39;00m board\u001b[39m.\u001b[39mget_possible_moves():\n\u001b[1;32m    172\u001b[0m     board\u001b[39m.\u001b[39mmake_move(move)\n\u001b[0;32m--> 173\u001b[0m     scores\u001b[39m.\u001b[39mappend(minimax(board))\n\u001b[1;32m    174\u001b[0m     board\u001b[39m.\u001b[39mundo()\n\u001b[1;32m    176\u001b[0m \u001b[39mreturn\u001b[39;00m \u001b[39mmax\u001b[39m(scores) \u001b[39mif\u001b[39;00m board\u001b[39m.\u001b[39mis_maximizer \u001b[39melse\u001b[39;00m \u001b[39mmin\u001b[39m(scores)\n",
      "File \u001b[0;32m~/Code/Tic-Tac-Transformer/src/game.py:172\u001b[0m, in \u001b[0;36mminimax\u001b[0;34m(board)\u001b[0m\n\u001b[1;32m    170\u001b[0m scores: \u001b[39mlist\u001b[39m[\u001b[39mint\u001b[39m]\u001b[39m=\u001b[39m []\n\u001b[1;32m    171\u001b[0m \u001b[39mfor\u001b[39;00m move \u001b[39min\u001b[39;00m board\u001b[39m.\u001b[39mget_possible_moves():\n\u001b[0;32m--> 172\u001b[0m     board\u001b[39m.\u001b[39;49mmake_move(move)\n\u001b[1;32m    173\u001b[0m     scores\u001b[39m.\u001b[39mappend(minimax(board))\n\u001b[1;32m    174\u001b[0m     board\u001b[39m.\u001b[39mundo()\n",
      "File \u001b[0;32m~/Code/Tic-Tac-Transformer/src/game.py:42\u001b[0m, in \u001b[0;36mBoard.make_move\u001b[0;34m(self, move)\u001b[0m\n\u001b[1;32m     40\u001b[0m \u001b[39mdef\u001b[39;00m \u001b[39mmake_move\u001b[39m(\u001b[39mself\u001b[39m, move: \u001b[39mint\u001b[39m):\n\u001b[1;32m     41\u001b[0m     \u001b[39mif\u001b[39;00m move \u001b[39mnot\u001b[39;00m \u001b[39min\u001b[39;00m \u001b[39mself\u001b[39m\u001b[39m.\u001b[39mget_possible_moves():\n\u001b[0;32m---> 42\u001b[0m         \u001b[39mraise\u001b[39;00m \u001b[39mValueError\u001b[39;00m(\u001b[39m\"\u001b[39m\u001b[39mNot a valid move nerd!!\u001b[39m\u001b[39m\"\u001b[39m)\n\u001b[1;32m     43\u001b[0m     \u001b[39mself\u001b[39m\u001b[39m.\u001b[39mgrid[move] \u001b[39m=\u001b[39m \u001b[39mself\u001b[39m\u001b[39m.\u001b[39mturn\n\u001b[1;32m     44\u001b[0m     \u001b[39mself\u001b[39m\u001b[39m.\u001b[39mmoves_played\u001b[39m.\u001b[39mappend(move)\n",
      "\u001b[0;31mValueError\u001b[0m: Not a valid move nerd!!"
     ]
    }
   ],
   "source": [
    "boards = [Board()]\n",
    "game_list = apply_best_moves(boards)"
   ]
  },
  {
   "cell_type": "code",
   "execution_count": 4,
   "metadata": {},
   "outputs": [
    {
     "name": "stdout",
     "output_type": "stream",
     "text": [
      "we're on the 1th loop!\n"
     ]
    },
    {
     "ename": "ValueError",
     "evalue": "Not a valid move nerd!!",
     "output_type": "error",
     "traceback": [
      "\u001b[0;31m---------------------------------------------------------------------------\u001b[0m",
      "\u001b[0;31mValueError\u001b[0m                                Traceback (most recent call last)",
      "Cell \u001b[0;32mIn[4], line 2\u001b[0m\n\u001b[1;32m      1\u001b[0m boards \u001b[39m=\u001b[39m [Board()]\n\u001b[0;32m----> 2\u001b[0m game_list \u001b[39m=\u001b[39m apply_best_moves(boards)\n\u001b[1;32m      3\u001b[0m moves \u001b[39m=\u001b[39m np\u001b[39m.\u001b[39marray([[\u001b[39m10\u001b[39m] \u001b[39m+\u001b[39m game\u001b[39m.\u001b[39mmoves_played \u001b[39m+\u001b[39m [\u001b[39m9\u001b[39m] \u001b[39mfor\u001b[39;00m game \u001b[39min\u001b[39;00m game_list])\n",
      "File \u001b[0;32m~/Code/Tic-Tac-Transformer/src/game.py:127\u001b[0m, in \u001b[0;36mapply_best_moves\u001b[0;34m(boards)\u001b[0m\n\u001b[1;32m    125\u001b[0m new_boards: \u001b[39mlist\u001b[39m[Board] \u001b[39m=\u001b[39m []\n\u001b[1;32m    126\u001b[0m \u001b[39mfor\u001b[39;00m board \u001b[39min\u001b[39;00m boards:\n\u001b[0;32m--> 127\u001b[0m     \u001b[39mfor\u001b[39;00m move \u001b[39min\u001b[39;00m get_best_moves(board):\n\u001b[1;32m    128\u001b[0m         _board \u001b[39m=\u001b[39m deepcopy(board)\n\u001b[1;32m    129\u001b[0m         new_boards\u001b[39m.\u001b[39mappend(_board\u001b[39m.\u001b[39mmake_move(move))\n",
      "File \u001b[0;32m~/Code/Tic-Tac-Transformer/src/game.py:110\u001b[0m, in \u001b[0;36mget_best_moves\u001b[0;34m(board)\u001b[0m\n\u001b[1;32m    108\u001b[0m \u001b[39mfor\u001b[39;00m move \u001b[39min\u001b[39;00m board\u001b[39m.\u001b[39mget_possible_moves():\n\u001b[1;32m    109\u001b[0m     board\u001b[39m.\u001b[39mmake_move(move)\n\u001b[0;32m--> 110\u001b[0m     score \u001b[39m=\u001b[39m minimax(board)\n\u001b[1;32m    111\u001b[0m     board\u001b[39m.\u001b[39mundo()\n\u001b[1;32m    112\u001b[0m     \u001b[39mif\u001b[39;00m board\u001b[39m.\u001b[39mis_maximizer \u001b[39m&\u001b[39m (score \u001b[39m>\u001b[39m\u001b[39m=\u001b[39m bestScore):\n",
      "File \u001b[0;32m~/Code/Tic-Tac-Transformer/src/game.py:173\u001b[0m, in \u001b[0;36mminimax\u001b[0;34m(board)\u001b[0m\n\u001b[1;32m    171\u001b[0m \u001b[39mfor\u001b[39;00m move \u001b[39min\u001b[39;00m board\u001b[39m.\u001b[39mget_possible_moves():\n\u001b[1;32m    172\u001b[0m     board\u001b[39m.\u001b[39mmake_move(move)\n\u001b[0;32m--> 173\u001b[0m     scores\u001b[39m.\u001b[39mappend(minimax(board))\n\u001b[1;32m    174\u001b[0m     board\u001b[39m.\u001b[39mundo()\n\u001b[1;32m    176\u001b[0m \u001b[39mreturn\u001b[39;00m \u001b[39mmax\u001b[39m(scores) \u001b[39mif\u001b[39;00m board\u001b[39m.\u001b[39mis_maximizer \u001b[39melse\u001b[39;00m \u001b[39mmin\u001b[39m(scores)\n",
      "File \u001b[0;32m~/Code/Tic-Tac-Transformer/src/game.py:173\u001b[0m, in \u001b[0;36mminimax\u001b[0;34m(board)\u001b[0m\n\u001b[1;32m    171\u001b[0m \u001b[39mfor\u001b[39;00m move \u001b[39min\u001b[39;00m board\u001b[39m.\u001b[39mget_possible_moves():\n\u001b[1;32m    172\u001b[0m     board\u001b[39m.\u001b[39mmake_move(move)\n\u001b[0;32m--> 173\u001b[0m     scores\u001b[39m.\u001b[39mappend(minimax(board))\n\u001b[1;32m    174\u001b[0m     board\u001b[39m.\u001b[39mundo()\n\u001b[1;32m    176\u001b[0m \u001b[39mreturn\u001b[39;00m \u001b[39mmax\u001b[39m(scores) \u001b[39mif\u001b[39;00m board\u001b[39m.\u001b[39mis_maximizer \u001b[39melse\u001b[39;00m \u001b[39mmin\u001b[39m(scores)\n",
      "    \u001b[0;31m[... skipping similar frames: minimax at line 173 (2 times)]\u001b[0m\n",
      "File \u001b[0;32m~/Code/Tic-Tac-Transformer/src/game.py:173\u001b[0m, in \u001b[0;36mminimax\u001b[0;34m(board)\u001b[0m\n\u001b[1;32m    171\u001b[0m \u001b[39mfor\u001b[39;00m move \u001b[39min\u001b[39;00m board\u001b[39m.\u001b[39mget_possible_moves():\n\u001b[1;32m    172\u001b[0m     board\u001b[39m.\u001b[39mmake_move(move)\n\u001b[0;32m--> 173\u001b[0m     scores\u001b[39m.\u001b[39mappend(minimax(board))\n\u001b[1;32m    174\u001b[0m     board\u001b[39m.\u001b[39mundo()\n\u001b[1;32m    176\u001b[0m \u001b[39mreturn\u001b[39;00m \u001b[39mmax\u001b[39m(scores) \u001b[39mif\u001b[39;00m board\u001b[39m.\u001b[39mis_maximizer \u001b[39melse\u001b[39;00m \u001b[39mmin\u001b[39m(scores)\n",
      "File \u001b[0;32m~/Code/Tic-Tac-Transformer/src/game.py:172\u001b[0m, in \u001b[0;36mminimax\u001b[0;34m(board)\u001b[0m\n\u001b[1;32m    170\u001b[0m scores: \u001b[39mlist\u001b[39m[\u001b[39mint\u001b[39m]\u001b[39m=\u001b[39m []\n\u001b[1;32m    171\u001b[0m \u001b[39mfor\u001b[39;00m move \u001b[39min\u001b[39;00m board\u001b[39m.\u001b[39mget_possible_moves():\n\u001b[0;32m--> 172\u001b[0m     board\u001b[39m.\u001b[39;49mmake_move(move)\n\u001b[1;32m    173\u001b[0m     scores\u001b[39m.\u001b[39mappend(minimax(board))\n\u001b[1;32m    174\u001b[0m     board\u001b[39m.\u001b[39mundo()\n",
      "File \u001b[0;32m~/Code/Tic-Tac-Transformer/src/game.py:42\u001b[0m, in \u001b[0;36mBoard.make_move\u001b[0;34m(self, move)\u001b[0m\n\u001b[1;32m     40\u001b[0m \u001b[39mdef\u001b[39;00m \u001b[39mmake_move\u001b[39m(\u001b[39mself\u001b[39m, move: \u001b[39mint\u001b[39m):\n\u001b[1;32m     41\u001b[0m     \u001b[39mif\u001b[39;00m move \u001b[39mnot\u001b[39;00m \u001b[39min\u001b[39;00m \u001b[39mself\u001b[39m\u001b[39m.\u001b[39mget_possible_moves():\n\u001b[0;32m---> 42\u001b[0m         \u001b[39mraise\u001b[39;00m \u001b[39mValueError\u001b[39;00m(\u001b[39m\"\u001b[39m\u001b[39mNot a valid move nerd!!\u001b[39m\u001b[39m\"\u001b[39m)\n\u001b[1;32m     43\u001b[0m     \u001b[39mself\u001b[39m\u001b[39m.\u001b[39mgrid[move] \u001b[39m=\u001b[39m \u001b[39mself\u001b[39m\u001b[39m.\u001b[39mturn\n\u001b[1;32m     44\u001b[0m     \u001b[39mself\u001b[39m\u001b[39m.\u001b[39mmoves_played\u001b[39m.\u001b[39mappend(move)\n",
      "\u001b[0;31mValueError\u001b[0m: Not a valid move nerd!!"
     ]
    }
   ],
   "source": [
    "boards = [Board()]\n",
    "game_list = apply_best_moves(boards)\n",
    "moves = np.array([[10] + game.moves_played + [9] for game in game_list])"
   ]
  },
  {
   "cell_type": "code",
   "execution_count": 6,
   "metadata": {},
   "outputs": [],
   "source": [
    "boards = [Board()]\n",
    "game_list = generate_all_games(boards)\n",
    "moves = np.array([[10] + game.moves_played + ([9] * (cfg.n_ctx - len(game.moves_played))) for game in game_list])"
   ]
  },
  {
   "cell_type": "code",
   "execution_count": 7,
   "metadata": {},
   "outputs": [
    {
     "name": "stdout",
     "output_type": "stream",
     "text": [
      "[10  0  1  3  2  6  9  9  9  9  9]\n"
     ]
    }
   ],
   "source": [
    "print(moves[0])"
   ]
  },
  {
   "cell_type": "code",
   "execution_count": 20,
   "metadata": {},
   "outputs": [
    {
     "name": "stdout",
     "output_type": "stream",
     "text": [
      "we're on the 1th loop!\n"
     ]
    },
    {
     "ename": "ValueError",
     "evalue": "Not a valid move nerd!!",
     "output_type": "error",
     "traceback": [
      "\u001b[0;31m---------------------------------------------------------------------------\u001b[0m",
      "\u001b[0;31mValueError\u001b[0m                                Traceback (most recent call last)",
      "Cell \u001b[0;32mIn[20], line 2\u001b[0m\n\u001b[1;32m      1\u001b[0m boards \u001b[39m=\u001b[39m [Board()]\n\u001b[0;32m----> 2\u001b[0m game_list \u001b[39m=\u001b[39m apply_best_moves(boards)\n\u001b[1;32m      3\u001b[0m moves \u001b[39m=\u001b[39m np\u001b[39m.\u001b[39marray([game\u001b[39m.\u001b[39mmoves_played \u001b[39m+\u001b[39m [\u001b[39m9\u001b[39m] \u001b[39mfor\u001b[39;00m game \u001b[39min\u001b[39;00m game_list])\n\u001b[1;32m      4\u001b[0m data \u001b[39m=\u001b[39m moves\n",
      "File \u001b[0;32m~/Code/Tic-Tac-Transformer/src/game.py:108\u001b[0m, in \u001b[0;36mapply_best_moves\u001b[0;34m(boards)\u001b[0m\n\u001b[1;32m    106\u001b[0m new_boards \u001b[39m=\u001b[39m []\n\u001b[1;32m    107\u001b[0m \u001b[39mfor\u001b[39;00m board \u001b[39min\u001b[39;00m boards:\n\u001b[0;32m--> 108\u001b[0m     \u001b[39mfor\u001b[39;00m move \u001b[39min\u001b[39;00m get_best_moves(board):\n\u001b[1;32m    109\u001b[0m         _board \u001b[39m=\u001b[39m deepcopy(board)\n\u001b[1;32m    110\u001b[0m         new_boards\u001b[39m.\u001b[39mappend(_board\u001b[39m.\u001b[39mmake_move(move))\n",
      "File \u001b[0;32m~/Code/Tic-Tac-Transformer/src/game.py:132\u001b[0m, in \u001b[0;36mget_best_moves\u001b[0;34m(board)\u001b[0m\n\u001b[1;32m    130\u001b[0m \u001b[39mfor\u001b[39;00m move \u001b[39min\u001b[39;00m board\u001b[39m.\u001b[39mget_possible_moves():\n\u001b[1;32m    131\u001b[0m     board\u001b[39m.\u001b[39mmake_move(move)\n\u001b[0;32m--> 132\u001b[0m     score \u001b[39m=\u001b[39m minimax(board)\n\u001b[1;32m    133\u001b[0m     board\u001b[39m.\u001b[39mundo()\n\u001b[1;32m    134\u001b[0m     \u001b[39mif\u001b[39;00m board\u001b[39m.\u001b[39mis_maximizer \u001b[39m&\u001b[39m (score \u001b[39m>\u001b[39m\u001b[39m=\u001b[39m bestScore):\n",
      "File \u001b[0;32m~/Code/Tic-Tac-Transformer/src/game.py:175\u001b[0m, in \u001b[0;36mminimax\u001b[0;34m(board)\u001b[0m\n\u001b[1;32m    173\u001b[0m \u001b[39mfor\u001b[39;00m move \u001b[39min\u001b[39;00m board\u001b[39m.\u001b[39mget_possible_moves():\n\u001b[1;32m    174\u001b[0m     board\u001b[39m.\u001b[39mmake_move(move)\n\u001b[0;32m--> 175\u001b[0m     scores\u001b[39m.\u001b[39mappend(minimax(board))\n\u001b[1;32m    176\u001b[0m     board\u001b[39m.\u001b[39mundo()\n\u001b[1;32m    178\u001b[0m \u001b[39mreturn\u001b[39;00m \u001b[39mmax\u001b[39m(scores) \u001b[39mif\u001b[39;00m board\u001b[39m.\u001b[39mis_maximizer \u001b[39melse\u001b[39;00m \u001b[39mmin\u001b[39m(scores)\n",
      "File \u001b[0;32m~/Code/Tic-Tac-Transformer/src/game.py:175\u001b[0m, in \u001b[0;36mminimax\u001b[0;34m(board)\u001b[0m\n\u001b[1;32m    173\u001b[0m \u001b[39mfor\u001b[39;00m move \u001b[39min\u001b[39;00m board\u001b[39m.\u001b[39mget_possible_moves():\n\u001b[1;32m    174\u001b[0m     board\u001b[39m.\u001b[39mmake_move(move)\n\u001b[0;32m--> 175\u001b[0m     scores\u001b[39m.\u001b[39mappend(minimax(board))\n\u001b[1;32m    176\u001b[0m     board\u001b[39m.\u001b[39mundo()\n\u001b[1;32m    178\u001b[0m \u001b[39mreturn\u001b[39;00m \u001b[39mmax\u001b[39m(scores) \u001b[39mif\u001b[39;00m board\u001b[39m.\u001b[39mis_maximizer \u001b[39melse\u001b[39;00m \u001b[39mmin\u001b[39m(scores)\n",
      "    \u001b[0;31m[... skipping similar frames: minimax at line 175 (2 times)]\u001b[0m\n",
      "File \u001b[0;32m~/Code/Tic-Tac-Transformer/src/game.py:175\u001b[0m, in \u001b[0;36mminimax\u001b[0;34m(board)\u001b[0m\n\u001b[1;32m    173\u001b[0m \u001b[39mfor\u001b[39;00m move \u001b[39min\u001b[39;00m board\u001b[39m.\u001b[39mget_possible_moves():\n\u001b[1;32m    174\u001b[0m     board\u001b[39m.\u001b[39mmake_move(move)\n\u001b[0;32m--> 175\u001b[0m     scores\u001b[39m.\u001b[39mappend(minimax(board))\n\u001b[1;32m    176\u001b[0m     board\u001b[39m.\u001b[39mundo()\n\u001b[1;32m    178\u001b[0m \u001b[39mreturn\u001b[39;00m \u001b[39mmax\u001b[39m(scores) \u001b[39mif\u001b[39;00m board\u001b[39m.\u001b[39mis_maximizer \u001b[39melse\u001b[39;00m \u001b[39mmin\u001b[39m(scores)\n",
      "File \u001b[0;32m~/Code/Tic-Tac-Transformer/src/game.py:174\u001b[0m, in \u001b[0;36mminimax\u001b[0;34m(board)\u001b[0m\n\u001b[1;32m    172\u001b[0m scores \u001b[39m=\u001b[39m []\n\u001b[1;32m    173\u001b[0m \u001b[39mfor\u001b[39;00m move \u001b[39min\u001b[39;00m board\u001b[39m.\u001b[39mget_possible_moves():\n\u001b[0;32m--> 174\u001b[0m     board\u001b[39m.\u001b[39;49mmake_move(move)\n\u001b[1;32m    175\u001b[0m     scores\u001b[39m.\u001b[39mappend(minimax(board))\n\u001b[1;32m    176\u001b[0m     board\u001b[39m.\u001b[39mundo()\n",
      "File \u001b[0;32m~/Code/Tic-Tac-Transformer/src/game.py:43\u001b[0m, in \u001b[0;36mBoard.make_move\u001b[0;34m(self, move)\u001b[0m\n\u001b[1;32m     41\u001b[0m \u001b[39mdef\u001b[39;00m \u001b[39mmake_move\u001b[39m(\u001b[39mself\u001b[39m, move: \u001b[39mint\u001b[39m):\n\u001b[1;32m     42\u001b[0m     \u001b[39mif\u001b[39;00m move \u001b[39mnot\u001b[39;00m \u001b[39min\u001b[39;00m \u001b[39mself\u001b[39m\u001b[39m.\u001b[39mget_possible_moves():\n\u001b[0;32m---> 43\u001b[0m         \u001b[39mraise\u001b[39;00m \u001b[39mValueError\u001b[39;00m(\u001b[39m\"\u001b[39m\u001b[39mNot a valid move nerd!!\u001b[39m\u001b[39m\"\u001b[39m)\n\u001b[1;32m     44\u001b[0m     \u001b[39mself\u001b[39m\u001b[39m.\u001b[39mgrid[move] \u001b[39m=\u001b[39m \u001b[39mself\u001b[39m\u001b[39m.\u001b[39mturn\n\u001b[1;32m     45\u001b[0m     \u001b[39mself\u001b[39m\u001b[39m.\u001b[39mmoves_played\u001b[39m.\u001b[39mappend(move)\n",
      "\u001b[0;31mValueError\u001b[0m: Not a valid move nerd!!"
     ]
    }
   ],
   "source": [
    "boards = [Board()]\n",
    "game_list = apply_best_moves(boards)\n",
    "moves = np.array([game.moves_played + [9] for game in game_list])"
   ]
  },
  {
   "cell_type": "code",
   "execution_count": 8,
   "metadata": {},
   "outputs": [],
   "source": [
    "boards = [Board()]\n",
    "game_list = generate_all_games(boards)"
   ]
  },
  {
   "cell_type": "code",
   "execution_count": 9,
   "metadata": {},
   "outputs": [
    {
     "data": {
      "text/plain": [
       "255168"
      ]
     },
     "execution_count": 9,
     "metadata": {},
     "output_type": "execute_result"
    }
   ],
   "source": [
    "len(game_list)"
   ]
  },
  {
   "cell_type": "code",
   "execution_count": 8,
   "metadata": {},
   "outputs": [
    {
     "name": "stdout",
     "output_type": "stream",
     "text": [
      "255168\n",
      "255168\n",
      "[10  0  1  3  2  6  9  9  9  9]\n",
      "[0 1 3 2 6 9 9 9 9 9]\n"
     ]
    }
   ],
   "source": [
    "#load npy file\n",
    "# np_data = np.load('data/moves.npy')\n",
    "data = moves[:, :-1]\n",
    "labels = moves[:, 1:]\n",
    "\n",
    "print(len(data))\n",
    "print(len(labels))\n",
    "print(data[0])\n",
    "print(labels[0])"
   ]
  },
  {
   "cell_type": "code",
   "execution_count": 11,
   "metadata": {},
   "outputs": [],
   "source": [
    "encoded_labels = F.one_hot(t.tensor(labels))"
   ]
  },
  {
   "cell_type": "code",
   "execution_count": 12,
   "metadata": {},
   "outputs": [
    {
     "name": "stdout",
     "output_type": "stream",
     "text": [
      "tensor([[0, 0, 0, 0, 0, 0, 0, 0, 0, 0, 1],\n",
      "        [0, 0, 0, 0, 0, 0, 0, 1, 0, 0, 0],\n",
      "        [0, 0, 0, 0, 0, 1, 0, 0, 0, 0, 0],\n",
      "        [0, 0, 0, 0, 0, 0, 0, 0, 1, 0, 0],\n",
      "        [0, 0, 0, 1, 0, 0, 0, 0, 0, 0, 0],\n",
      "        [0, 0, 0, 0, 0, 0, 1, 0, 0, 0, 0],\n",
      "        [0, 0, 0, 0, 0, 0, 0, 0, 0, 1, 0],\n",
      "        [0, 0, 0, 0, 0, 0, 0, 0, 0, 1, 0],\n",
      "        [0, 0, 0, 0, 0, 0, 0, 0, 0, 1, 0],\n",
      "        [0, 0, 0, 0, 0, 0, 0, 0, 0, 1, 0]])\n"
     ]
    }
   ],
   "source": [
    "encoded_data = F.one_hot(t.tensor(data))\n",
    "print(encoded_data[1238])"
   ]
  },
  {
   "cell_type": "code",
   "execution_count": 13,
   "metadata": {},
   "outputs": [
    {
     "data": {
      "text/plain": [
       "tensor([[1, 0, 0, 0, 0, 0, 0, 0, 0, 0],\n",
       "        [0, 1, 0, 0, 0, 0, 0, 0, 0, 0],\n",
       "        [0, 0, 0, 1, 0, 0, 0, 0, 0, 0],\n",
       "        [0, 0, 1, 0, 0, 0, 0, 0, 0, 0],\n",
       "        [0, 0, 0, 0, 0, 0, 1, 0, 0, 0],\n",
       "        [0, 0, 0, 0, 0, 0, 0, 0, 0, 1],\n",
       "        [0, 0, 0, 0, 0, 0, 0, 0, 0, 1],\n",
       "        [0, 0, 0, 0, 0, 0, 0, 0, 0, 1],\n",
       "        [0, 0, 0, 0, 0, 0, 0, 0, 0, 1],\n",
       "        [0, 0, 0, 0, 0, 0, 0, 0, 0, 1]])"
      ]
     },
     "execution_count": 13,
     "metadata": {},
     "output_type": "execute_result"
    }
   ],
   "source": [
    "encoded_labels[0,:,:]"
   ]
  },
  {
   "cell_type": "code",
   "execution_count": 14,
   "metadata": {},
   "outputs": [],
   "source": [
    "#data and labels as numpy arrays\n",
    "data = np.array(data)\n",
    "encoded_labels = np.array(encoded_labels)\n",
    "#data and encoded_labels as tensors\n",
    "data = t.from_numpy(data)\n",
    "encoded_labels = t.from_numpy(encoded_labels).to(t.float)\n",
    "total_data = list(zip(data, encoded_labels))\n",
    "num_samples = len(total_data)\n",
    "train_size = int(test_train_split * num_samples)\n",
    "test_size = num_samples - train_size\n",
    "split_data = list(t.utils.data.random_split(total_data, [train_size, test_size]))\n",
    "train_pairs = split_data[0]\n",
    "test_pairs= split_data[1]\n",
    "train_data, train_labels = zip(*train_pairs)\n",
    "test_data, test_labels = zip(*test_pairs)\n",
    "\n",
    "train_data = t.stack(train_data).to(cfg.device)\n",
    "train_labels = t.stack(train_labels).to(cfg.device)\n",
    "test_data = t.stack(test_data).to(cfg.device)\n",
    "test_labels = t.stack(test_labels).to(cfg.device)\n",
    "\n"
   ]
  },
  {
   "attachments": {},
   "cell_type": "markdown",
   "metadata": {},
   "source": [
    "#test train split\n",
    "train_data = data[:int(len(data)*test_train_split)]\n",
    "train_labels = encoded_labels[:int(len(data)*test_train_split)]\n",
    "test_data = data[int(len(data)*test_train_split):]\n",
    "test_labels = encoded_labels[int(len(data)*test_train_split):]"
   ]
  },
  {
   "cell_type": "code",
   "execution_count": 15,
   "metadata": {},
   "outputs": [],
   "source": [
    "def loss_fn(logits: Tensor, labels: Tensor):\n",
    "    return t.nn.functional.cross_entropy(logits, labels)"
   ]
  },
  {
   "cell_type": "code",
   "execution_count": 20,
   "metadata": {},
   "outputs": [],
   "source": [
    "def seq_is_matched(input: list[int], seq: list[int]) -> bool:\n",
    "    return all(seq[i] == input[i] for i in range(len(seq)))"
   ]
  },
  {
   "cell_type": "code",
   "execution_count": 21,
   "metadata": {},
   "outputs": [
    {
     "ename": "NameError",
     "evalue": "name 'seqs' is not defined",
     "output_type": "error",
     "traceback": [
      "\u001b[0;31m---------------------------------------------------------------------------\u001b[0m",
      "\u001b[0;31mNameError\u001b[0m                                 Traceback (most recent call last)",
      "\u001b[1;32m/home/obayyub/p/Tic-Tac-Transformer/model.ipynb Cell 26\u001b[0m in \u001b[0;36m<module>\u001b[0;34m\u001b[0m\n\u001b[0;32m----> <a href='vscode-notebook-cell:/home/obayyub/p/Tic-Tac-Transformer/model.ipynb#X33sZmlsZQ%3D%3D?line=0'>1</a>\u001b[0m [seq \u001b[39mfor\u001b[39;00m seq \u001b[39min\u001b[39;00m seqs \u001b[39mif\u001b[39;00m seq_is_matched(seq, [\u001b[39m4\u001b[39m])]\n",
      "\u001b[0;31mNameError\u001b[0m: name 'seqs' is not defined"
     ]
    }
   ],
   "source": [
    "[seq for seq in seqs if seq_is_matched(seq, [4])]"
   ]
  },
  {
   "cell_type": "code",
   "execution_count": 16,
   "metadata": {},
   "outputs": [
    {
     "name": "stdout",
     "output_type": "stream",
     "text": [
      "Moving model to device:  cuda\n",
      "Epoch 0 | Train Loss: 2.8080050945281982 | Test Loss: 2.3766825199127197\n",
      "Epoch 0 | Train Loss: 2.37743878364563 | Test Loss: 2.243098497390747\n",
      "Epoch 0 | Train Loss: 2.242861270904541 | Test Loss: 2.147594690322876\n",
      "Epoch 0 | Train Loss: 2.1462807655334473 | Test Loss: 2.0750679969787598\n",
      "Epoch 0 | Train Loss: 2.0747716426849365 | Test Loss: 2.017258405685425\n",
      "Epoch 0 | Train Loss: 2.0150792598724365 | Test Loss: 1.9754102230072021\n",
      "Epoch 0 | Train Loss: 1.9754637479782104 | Test Loss: 1.9378716945648193\n",
      "Epoch 0 | Train Loss: 1.9352155923843384 | Test Loss: 1.8938804864883423\n",
      "Epoch 0 | Train Loss: 1.8929462432861328 | Test Loss: 1.8461593389511108\n",
      "Epoch 0 | Train Loss: 1.8454378843307495 | Test Loss: 1.801153540611267\n",
      "Epoch 0 | Train Loss: 1.798885703086853 | Test Loss: 1.7607389688491821\n",
      "Epoch 0 | Train Loss: 1.7615665197372437 | Test Loss: 1.719709038734436\n",
      "Epoch 0 | Train Loss: 1.7215832471847534 | Test Loss: 1.6757651567459106\n",
      "Epoch 0 | Train Loss: 1.6756536960601807 | Test Loss: 1.6326981782913208\n",
      "Epoch 0 | Train Loss: 1.6301854848861694 | Test Loss: 1.5933970212936401\n",
      "Epoch 0 | Train Loss: 1.591797947883606 | Test Loss: 1.5557435750961304\n",
      "Epoch 0 | Train Loss: 1.5564578771591187 | Test Loss: 1.5171303749084473\n",
      "Epoch 0 | Train Loss: 1.5193551778793335 | Test Loss: 1.4770243167877197\n",
      "Epoch 0 | Train Loss: 1.4755833148956299 | Test Loss: 1.436069369316101\n",
      "Epoch 0 | Train Loss: 1.4367454051971436 | Test Loss: 1.3944423198699951\n",
      "Epoch 0 | Train Loss: 1.3959301710128784 | Test Loss: 1.3520495891571045\n",
      "Epoch 0 | Train Loss: 1.3505833148956299 | Test Loss: 1.3098030090332031\n",
      "Epoch 0 | Train Loss: 1.3131237030029297 | Test Loss: 1.267351746559143\n",
      "Epoch 0 | Train Loss: 1.2706594467163086 | Test Loss: 1.2248327732086182\n",
      "Epoch 0 | Train Loss: 1.224825143814087 | Test Loss: 1.1827198266983032\n",
      "Epoch 1 | Train Loss: 1.182677149772644 | Test Loss: 1.1409310102462769\n",
      "Epoch 1 | Train Loss: 1.1408798694610596 | Test Loss: 1.0995064973831177\n",
      "Epoch 1 | Train Loss: 1.1016119718551636 | Test Loss: 1.0587974786758423\n",
      "Epoch 1 | Train Loss: 1.0592880249023438 | Test Loss: 1.018149495124817\n",
      "Epoch 1 | Train Loss: 1.0177980661392212 | Test Loss: 0.9774212837219238\n",
      "Epoch 1 | Train Loss: 0.9775671362876892 | Test Loss: 0.93719482421875\n",
      "Epoch 1 | Train Loss: 0.9371286630630493 | Test Loss: 0.8973662257194519\n",
      "Epoch 1 | Train Loss: 0.895053505897522 | Test Loss: 0.8577096462249756\n",
      "Epoch 1 | Train Loss: 0.8566175699234009 | Test Loss: 0.8190063834190369\n",
      "Epoch 1 | Train Loss: 0.8209537863731384 | Test Loss: 0.7809986472129822\n",
      "Epoch 1 | Train Loss: 0.7793704867362976 | Test Loss: 0.743642270565033\n",
      "Epoch 1 | Train Loss: 0.7448383569717407 | Test Loss: 0.7073895931243896\n",
      "Epoch 1 | Train Loss: 0.7081493735313416 | Test Loss: 0.6722399592399597\n",
      "Epoch 1 | Train Loss: 0.6728139519691467 | Test Loss: 0.638526439666748\n",
      "Epoch 1 | Train Loss: 0.6401405930519104 | Test Loss: 0.6063086986541748\n",
      "Epoch 1 | Train Loss: 0.6059673428535461 | Test Loss: 0.575282633304596\n",
      "Epoch 1 | Train Loss: 0.5742062926292419 | Test Loss: 0.5455979704856873\n",
      "Epoch 1 | Train Loss: 0.5450895428657532 | Test Loss: 0.5171860456466675\n",
      "Epoch 1 | Train Loss: 0.5155925750732422 | Test Loss: 0.49040189385414124\n",
      "Epoch 1 | Train Loss: 0.48695945739746094 | Test Loss: 0.46444106101989746\n",
      "Epoch 1 | Train Loss: 0.4649779498577118 | Test Loss: 0.4406437873840332\n",
      "Epoch 1 | Train Loss: 0.4414531886577606 | Test Loss: 0.4180130958557129\n",
      "Epoch 1 | Train Loss: 0.4192572236061096 | Test Loss: 0.3971012532711029\n",
      "Epoch 1 | Train Loss: 0.3950992226600647 | Test Loss: 0.3774178922176361\n",
      "Epoch 1 | Train Loss: 0.3796736001968384 | Test Loss: 0.35905033349990845\n",
      "Epoch 2 | Train Loss: 0.3576085567474365 | Test Loss: 0.3411436975002289\n",
      "Epoch 2 | Train Loss: 0.339712917804718 | Test Loss: 0.325325608253479\n",
      "Epoch 2 | Train Loss: 0.32445740699768066 | Test Loss: 0.3102540969848633\n",
      "Epoch 2 | Train Loss: 0.3120124638080597 | Test Loss: 0.2965911030769348\n",
      "Epoch 2 | Train Loss: 0.30084356665611267 | Test Loss: 0.28397661447525024\n",
      "Epoch 2 | Train Loss: 0.2828828990459442 | Test Loss: 0.27216655015945435\n",
      "Epoch 2 | Train Loss: 0.2716478407382965 | Test Loss: 0.2613648474216461\n",
      "Epoch 2 | Train Loss: 0.26104292273521423 | Test Loss: 0.2513301968574524\n",
      "Epoch 2 | Train Loss: 0.24947766959667206 | Test Loss: 0.24190662801265717\n",
      "Epoch 2 | Train Loss: 0.243340402841568 | Test Loss: 0.23316815495491028\n",
      "Epoch 2 | Train Loss: 0.2355431169271469 | Test Loss: 0.22519390285015106\n",
      "Epoch 2 | Train Loss: 0.2265046387910843 | Test Loss: 0.2179746776819229\n",
      "Epoch 2 | Train Loss: 0.21649034321308136 | Test Loss: 0.21117649972438812\n",
      "Epoch 2 | Train Loss: 0.2109721451997757 | Test Loss: 0.20505620539188385\n",
      "Epoch 2 | Train Loss: 0.20444755256175995 | Test Loss: 0.19952842593193054\n",
      "Epoch 2 | Train Loss: 0.19893959164619446 | Test Loss: 0.1941417157649994\n",
      "Epoch 2 | Train Loss: 0.19276586174964905 | Test Loss: 0.1898326277732849\n",
      "Epoch 2 | Train Loss: 0.18757449090480804 | Test Loss: 0.18527798354625702\n",
      "Epoch 2 | Train Loss: 0.18337956070899963 | Test Loss: 0.1810338944196701\n",
      "Epoch 2 | Train Loss: 0.17841672897338867 | Test Loss: 0.1772795021533966\n",
      "Epoch 2 | Train Loss: 0.17890039086341858 | Test Loss: 0.17369140684604645\n",
      "Epoch 2 | Train Loss: 0.17289531230926514 | Test Loss: 0.1705644428730011\n",
      "Epoch 2 | Train Loss: 0.17229528725147247 | Test Loss: 0.16754387319087982\n",
      "Epoch 2 | Train Loss: 0.16412030160427094 | Test Loss: 0.16491487622261047\n",
      "Epoch 2 | Train Loss: 0.1663275957107544 | Test Loss: 0.16251228749752045\n",
      "Epoch 3 | Train Loss: 0.16123409569263458 | Test Loss: 0.1601942926645279\n",
      "Epoch 3 | Train Loss: 0.1574077606201172 | Test Loss: 0.15807980298995972\n",
      "Epoch 3 | Train Loss: 0.15517966449260712 | Test Loss: 0.1559157371520996\n",
      "Epoch 3 | Train Loss: 0.15757887065410614 | Test Loss: 0.154312863945961\n",
      "Epoch 3 | Train Loss: 0.1580035537481308 | Test Loss: 0.15265434980392456\n",
      "Epoch 3 | Train Loss: 0.15334421396255493 | Test Loss: 0.15105432271957397\n",
      "Epoch 3 | Train Loss: 0.15008904039859772 | Test Loss: 0.14959289133548737\n",
      "Epoch 3 | Train Loss: 0.1485394984483719 | Test Loss: 0.14813493192195892\n",
      "Epoch 3 | Train Loss: 0.14596442878246307 | Test Loss: 0.1471344381570816\n",
      "Epoch 3 | Train Loss: 0.14840319752693176 | Test Loss: 0.14598987996578217\n",
      "Epoch 3 | Train Loss: 0.14760343730449677 | Test Loss: 0.14462873339653015\n",
      "Epoch 3 | Train Loss: 0.1449640840291977 | Test Loss: 0.14376425743103027\n",
      "Epoch 3 | Train Loss: 0.14187653362751007 | Test Loss: 0.14274372160434723\n",
      "Epoch 3 | Train Loss: 0.14242736995220184 | Test Loss: 0.14180906116962433\n",
      "Epoch 3 | Train Loss: 0.1406169980764389 | Test Loss: 0.14101456105709076\n",
      "Epoch 3 | Train Loss: 0.1404487043619156 | Test Loss: 0.14023438096046448\n",
      "Epoch 3 | Train Loss: 0.138347789645195 | Test Loss: 0.13936254382133484\n",
      "Epoch 3 | Train Loss: 0.13727052509784698 | Test Loss: 0.13881482183933258\n",
      "Epoch 3 | Train Loss: 0.13664136826992035 | Test Loss: 0.13805489242076874\n",
      "Epoch 3 | Train Loss: 0.13566812872886658 | Test Loss: 0.13742142915725708\n",
      "Epoch 3 | Train Loss: 0.13908539712429047 | Test Loss: 0.13672257959842682\n",
      "Epoch 3 | Train Loss: 0.136225625872612 | Test Loss: 0.136131152510643\n",
      "Epoch 3 | Train Loss: 0.13769488036632538 | Test Loss: 0.13567402958869934\n",
      "Epoch 3 | Train Loss: 0.13198979198932648 | Test Loss: 0.13514035940170288\n",
      "Epoch 3 | Train Loss: 0.1364511251449585 | Test Loss: 0.1346680074930191\n",
      "Epoch 4 | Train Loss: 0.13344939053058624 | Test Loss: 0.13424664735794067\n",
      "Epoch 4 | Train Loss: 0.13162153959274292 | Test Loss: 0.13375923037528992\n",
      "Epoch 4 | Train Loss: 0.1301063895225525 | Test Loss: 0.13334056735038757\n",
      "Epoch 4 | Train Loss: 0.13494303822517395 | Test Loss: 0.13308562338352203\n",
      "Epoch 4 | Train Loss: 0.13633720576763153 | Test Loss: 0.13261397182941437\n",
      "Epoch 4 | Train Loss: 0.1333167552947998 | Test Loss: 0.13227230310440063\n",
      "Epoch 4 | Train Loss: 0.1313001960515976 | Test Loss: 0.13195592164993286\n",
      "Epoch 4 | Train Loss: 0.13076014816761017 | Test Loss: 0.13156571984291077\n",
      "Epoch 4 | Train Loss: 0.12954512238502502 | Test Loss: 0.13138259947299957\n",
      "Epoch 4 | Train Loss: 0.13276457786560059 | Test Loss: 0.13098491728305817\n",
      "Epoch 4 | Train Loss: 0.13228514790534973 | Test Loss: 0.1306731104850769\n",
      "Epoch 4 | Train Loss: 0.13124020397663116 | Test Loss: 0.13045324385166168\n",
      "Epoch 4 | Train Loss: 0.12862665951251984 | Test Loss: 0.13011083006858826\n",
      "Epoch 4 | Train Loss: 0.12958310544490814 | Test Loss: 0.129908949136734\n",
      "Epoch 4 | Train Loss: 0.1288212090730667 | Test Loss: 0.12967781722545624\n",
      "Epoch 4 | Train Loss: 0.12912054359912872 | Test Loss: 0.12943555414676666\n",
      "Epoch 4 | Train Loss: 0.12731991708278656 | Test Loss: 0.12918099761009216\n",
      "Epoch 4 | Train Loss: 0.12724918127059937 | Test Loss: 0.12899203598499298\n",
      "Epoch 4 | Train Loss: 0.12677748501300812 | Test Loss: 0.12873370945453644\n",
      "Epoch 4 | Train Loss: 0.12640024721622467 | Test Loss: 0.12863802909851074\n",
      "Epoch 4 | Train Loss: 0.13035990297794342 | Test Loss: 0.12837918102741241\n",
      "Epoch 4 | Train Loss: 0.12796296179294586 | Test Loss: 0.12820610404014587\n",
      "Epoch 4 | Train Loss: 0.12979304790496826 | Test Loss: 0.12804816663265228\n",
      "Epoch 4 | Train Loss: 0.1244659423828125 | Test Loss: 0.12782511115074158\n",
      "Epoch 4 | Train Loss: 0.12907132506370544 | Test Loss: 0.1276494413614273\n",
      "Epoch 5 | Train Loss: 0.12642233073711395 | Test Loss: 0.1274939626455307\n",
      "Epoch 5 | Train Loss: 0.12488564103841782 | Test Loss: 0.12732204794883728\n",
      "Epoch 5 | Train Loss: 0.12348911911249161 | Test Loss: 0.12718097865581512\n",
      "Epoch 5 | Train Loss: 0.12887659668922424 | Test Loss: 0.12706401944160461\n",
      "Epoch 5 | Train Loss: 0.13015270233154297 | Test Loss: 0.12687084078788757\n",
      "Epoch 5 | Train Loss: 0.1275065392255783 | Test Loss: 0.12677150964736938\n",
      "Epoch 5 | Train Loss: 0.12577739357948303 | Test Loss: 0.12661373615264893\n",
      "Epoch 5 | Train Loss: 0.12545843422412872 | Test Loss: 0.12649324536323547\n",
      "Epoch 5 | Train Loss: 0.12434855848550797 | Test Loss: 0.12640416622161865\n",
      "Epoch 5 | Train Loss: 0.127783864736557 | Test Loss: 0.1262119561433792\n",
      "Epoch 5 | Train Loss: 0.12754352390766144 | Test Loss: 0.12612706422805786\n",
      "Epoch 5 | Train Loss: 0.12662984430789948 | Test Loss: 0.1260467916727066\n",
      "Epoch 5 | Train Loss: 0.12417848408222198 | Test Loss: 0.12585808336734772\n",
      "Epoch 5 | Train Loss: 0.12537841498851776 | Test Loss: 0.12577015161514282\n",
      "Epoch 5 | Train Loss: 0.12466259300708771 | Test Loss: 0.12572064995765686\n",
      "Epoch 5 | Train Loss: 0.12502296268939972 | Test Loss: 0.12558934092521667\n",
      "Epoch 5 | Train Loss: 0.12339873611927032 | Test Loss: 0.12544681131839752\n",
      "Epoch 5 | Train Loss: 0.12363679707050323 | Test Loss: 0.1254195272922516\n",
      "Epoch 5 | Train Loss: 0.12311770021915436 | Test Loss: 0.12522165477275848\n",
      "Epoch 5 | Train Loss: 0.1229594349861145 | Test Loss: 0.1251934915781021\n",
      "Epoch 5 | Train Loss: 0.1270655393600464 | Test Loss: 0.1250678300857544\n",
      "Epoch 5 | Train Loss: 0.12471484392881393 | Test Loss: 0.12494595348834991\n",
      "Epoch 5 | Train Loss: 0.12643995881080627 | Test Loss: 0.1248895674943924\n",
      "Epoch 5 | Train Loss: 0.12131829559803009 | Test Loss: 0.12480498850345612\n",
      "Epoch 5 | Train Loss: 0.12587769329547882 | Test Loss: 0.12468466907739639\n",
      "Epoch 6 | Train Loss: 0.12332047522068024 | Test Loss: 0.12467289716005325\n",
      "Epoch 6 | Train Loss: 0.12210772186517715 | Test Loss: 0.12459263950586319\n",
      "Epoch 6 | Train Loss: 0.12062633037567139 | Test Loss: 0.1244625523686409\n",
      "Epoch 6 | Train Loss: 0.12610729038715363 | Test Loss: 0.12446795403957367\n",
      "Epoch 6 | Train Loss: 0.1274273842573166 | Test Loss: 0.12432662397623062\n",
      "Epoch 6 | Train Loss: 0.12502646446228027 | Test Loss: 0.12421496957540512\n",
      "Epoch 6 | Train Loss: 0.12324948608875275 | Test Loss: 0.12417152523994446\n",
      "Epoch 6 | Train Loss: 0.12295923382043839 | Test Loss: 0.12407737970352173\n",
      "Epoch 6 | Train Loss: 0.12197156250476837 | Test Loss: 0.12403745949268341\n",
      "Epoch 6 | Train Loss: 0.12536396086215973 | Test Loss: 0.12396295368671417\n",
      "Epoch 6 | Train Loss: 0.12518177926540375 | Test Loss: 0.12385241687297821\n",
      "Epoch 6 | Train Loss: 0.12438696622848511 | Test Loss: 0.12384855002164841\n",
      "Epoch 6 | Train Loss: 0.12190687656402588 | Test Loss: 0.12378422915935516\n",
      "Epoch 6 | Train Loss: 0.12330164760351181 | Test Loss: 0.12367603182792664\n",
      "Epoch 6 | Train Loss: 0.12258534878492355 | Test Loss: 0.12372440844774246\n",
      "Epoch 6 | Train Loss: 0.12301500141620636 | Test Loss: 0.12371271103620529\n",
      "Epoch 6 | Train Loss: 0.12156889587640762 | Test Loss: 0.12349551171064377\n",
      "Epoch 6 | Train Loss: 0.12177393585443497 | Test Loss: 0.12353197485208511\n",
      "Epoch 6 | Train Loss: 0.12116211652755737 | Test Loss: 0.12339400500059128\n",
      "Epoch 6 | Train Loss: 0.12110910564661026 | Test Loss: 0.1233416348695755\n",
      "Epoch 6 | Train Loss: 0.12519033253192902 | Test Loss: 0.12334941327571869\n",
      "Epoch 6 | Train Loss: 0.12299495190382004 | Test Loss: 0.12324462085962296\n",
      "Epoch 6 | Train Loss: 0.12481977790594101 | Test Loss: 0.1231575533747673\n",
      "Epoch 6 | Train Loss: 0.11970718950033188 | Test Loss: 0.12316480278968811\n",
      "Epoch 6 | Train Loss: 0.12417113035917282 | Test Loss: 0.12305299937725067\n",
      "Epoch 7 | Train Loss: 0.12166740745306015 | Test Loss: 0.12302396446466446\n",
      "Epoch 7 | Train Loss: 0.1204736977815628 | Test Loss: 0.1230241060256958\n",
      "Epoch 7 | Train Loss: 0.11908479034900665 | Test Loss: 0.12290588766336441\n",
      "Epoch 7 | Train Loss: 0.12451737374067307 | Test Loss: 0.12289337813854218\n",
      "Epoch 7 | Train Loss: 0.12583990395069122 | Test Loss: 0.12285258620977402\n",
      "Epoch 7 | Train Loss: 0.12355773895978928 | Test Loss: 0.1227385401725769\n",
      "Epoch 7 | Train Loss: 0.12176044285297394 | Test Loss: 0.1227421686053276\n",
      "Epoch 7 | Train Loss: 0.12158817052841187 | Test Loss: 0.1226942166686058\n",
      "Epoch 7 | Train Loss: 0.12050749361515045 | Test Loss: 0.12264102697372437\n",
      "Epoch 7 | Train Loss: 0.12396373599767685 | Test Loss: 0.122640460729599\n",
      "Epoch 7 | Train Loss: 0.1238357350230217 | Test Loss: 0.12255144119262695\n",
      "Epoch 7 | Train Loss: 0.12316518276929855 | Test Loss: 0.12253663688898087\n",
      "Epoch 7 | Train Loss: 0.12067241966724396 | Test Loss: 0.1225740984082222\n",
      "Epoch 7 | Train Loss: 0.12213434278964996 | Test Loss: 0.12244506180286407\n",
      "Epoch 7 | Train Loss: 0.12137094885110855 | Test Loss: 0.12245526909828186\n",
      "Epoch 7 | Train Loss: 0.1217108964920044 | Test Loss: 0.12255458533763885\n",
      "Epoch 7 | Train Loss: 0.12039065361022949 | Test Loss: 0.1223139613866806\n",
      "Epoch 7 | Train Loss: 0.12052621692419052 | Test Loss: 0.12234976887702942\n",
      "Epoch 7 | Train Loss: 0.11994265764951706 | Test Loss: 0.12230558693408966\n",
      "Epoch 7 | Train Loss: 0.11995726078748703 | Test Loss: 0.12221413850784302\n",
      "Epoch 7 | Train Loss: 0.12411611527204514 | Test Loss: 0.12227678298950195\n",
      "Epoch 7 | Train Loss: 0.12190039455890656 | Test Loss: 0.12221277505159378\n",
      "Epoch 7 | Train Loss: 0.12372063845396042 | Test Loss: 0.12209614366292953\n",
      "Epoch 7 | Train Loss: 0.11859257519245148 | Test Loss: 0.12218058109283447\n",
      "Epoch 7 | Train Loss: 0.1230611801147461 | Test Loss: 0.1221042200922966\n",
      "Epoch 8 | Train Loss: 0.12062595039606094 | Test Loss: 0.12203095853328705\n",
      "Epoch 8 | Train Loss: 0.11945686489343643 | Test Loss: 0.1220800057053566\n",
      "Epoch 8 | Train Loss: 0.11813177168369293 | Test Loss: 0.12196334451436996\n",
      "Epoch 8 | Train Loss: 0.1235460564494133 | Test Loss: 0.12191268056631088\n",
      "Epoch 8 | Train Loss: 0.12480511516332626 | Test Loss: 0.12194591015577316\n",
      "Epoch 8 | Train Loss: 0.1226939782500267 | Test Loss: 0.12185800075531006\n",
      "Epoch 8 | Train Loss: 0.12083547562360764 | Test Loss: 0.12180592119693756\n",
      "Epoch 8 | Train Loss: 0.12064038962125778 | Test Loss: 0.12180979549884796\n",
      "Epoch 8 | Train Loss: 0.11965620517730713 | Test Loss: 0.12174836546182632\n",
      "Epoch 8 | Train Loss: 0.1229865700006485 | Test Loss: 0.12173545360565186\n",
      "Epoch 8 | Train Loss: 0.12288022041320801 | Test Loss: 0.12173071503639221\n",
      "Epoch 8 | Train Loss: 0.12231471389532089 | Test Loss: 0.12165571749210358\n",
      "Epoch 8 | Train Loss: 0.11979684978723526 | Test Loss: 0.12168478965759277\n",
      "Epoch 8 | Train Loss: 0.12123581022024155 | Test Loss: 0.12164175510406494\n",
      "Epoch 8 | Train Loss: 0.12055826187133789 | Test Loss: 0.12158062309026718\n",
      "Epoch 8 | Train Loss: 0.12082727253437042 | Test Loss: 0.12167223542928696\n",
      "Epoch 8 | Train Loss: 0.11954834312200546 | Test Loss: 0.12155064195394516\n",
      "Epoch 8 | Train Loss: 0.11975874751806259 | Test Loss: 0.12151813507080078\n",
      "Epoch 8 | Train Loss: 0.11906421184539795 | Test Loss: 0.12149982899427414\n",
      "Epoch 8 | Train Loss: 0.11907706409692764 | Test Loss: 0.12143408507108688\n",
      "Epoch 8 | Train Loss: 0.12337090075016022 | Test Loss: 0.12146475166082382\n",
      "Epoch 8 | Train Loss: 0.12105735391378403 | Test Loss: 0.12145056575536728\n",
      "Epoch 8 | Train Loss: 0.12299793213605881 | Test Loss: 0.12137669324874878\n",
      "Epoch 8 | Train Loss: 0.11794954538345337 | Test Loss: 0.12140581011772156\n",
      "Epoch 8 | Train Loss: 0.12227001041173935 | Test Loss: 0.12138185650110245\n",
      "Epoch 9 | Train Loss: 0.11994011700153351 | Test Loss: 0.12129182368516922\n",
      "Epoch 9 | Train Loss: 0.11877176910638809 | Test Loss: 0.12130820006132126\n",
      "Epoch 9 | Train Loss: 0.11737262457609177 | Test Loss: 0.12126059085130692\n",
      "Epoch 9 | Train Loss: 0.12281733006238937 | Test Loss: 0.12120625376701355\n",
      "Epoch 9 | Train Loss: 0.12410900741815567 | Test Loss: 0.12123458087444305\n",
      "Epoch 9 | Train Loss: 0.1220371350646019 | Test Loss: 0.12120376527309418\n",
      "Epoch 9 | Train Loss: 0.12017934769392014 | Test Loss: 0.12115079909563065\n",
      "Epoch 9 | Train Loss: 0.12003438919782639 | Test Loss: 0.1211354210972786\n",
      "Epoch 9 | Train Loss: 0.11900551617145538 | Test Loss: 0.12110085040330887\n",
      "Epoch 9 | Train Loss: 0.12245338410139084 | Test Loss: 0.12106317281723022\n",
      "Epoch 9 | Train Loss: 0.1221892386674881 | Test Loss: 0.12105805426836014\n",
      "Epoch 9 | Train Loss: 0.12169792503118515 | Test Loss: 0.12102461606264114\n",
      "Epoch 9 | Train Loss: 0.11916277557611465 | Test Loss: 0.12104025483131409\n",
      "Epoch 9 | Train Loss: 0.12058339267969131 | Test Loss: 0.12103430181741714\n",
      "Epoch 9 | Train Loss: 0.11998011916875839 | Test Loss: 0.12098214030265808\n",
      "Epoch 9 | Train Loss: 0.12024205178022385 | Test Loss: 0.12102384865283966\n",
      "Epoch 9 | Train Loss: 0.1189141795039177 | Test Loss: 0.12096960842609406\n",
      "Epoch 9 | Train Loss: 0.11919911205768585 | Test Loss: 0.12093254923820496\n",
      "Epoch 9 | Train Loss: 0.11852140724658966 | Test Loss: 0.12093579024076462\n",
      "Epoch 9 | Train Loss: 0.11849541962146759 | Test Loss: 0.12090100347995758\n",
      "Epoch 9 | Train Loss: 0.12283433973789215 | Test Loss: 0.12089741975069046\n",
      "Epoch 9 | Train Loss: 0.12048450857400894 | Test Loss: 0.12087824195623398\n",
      "Epoch 9 | Train Loss: 0.1224217340350151 | Test Loss: 0.12082477658987045\n",
      "Epoch 9 | Train Loss: 0.11744692176580429 | Test Loss: 0.12082652747631073\n",
      "Epoch 9 | Train Loss: 0.1217244416475296 | Test Loss: 0.1208309531211853\n"
     ]
    }
   ],
   "source": [
    "train_losses = []\n",
    "test_losses = []\n",
    "# ALPHATOE\n",
    "model = HookedTransformer(cfg).to(cfg.device)\n",
    "optimizer = t.optim.AdamW(model.parameters(), lr=lr, weight_decay=weight_decay)\n",
    "\n",
    "# for epoch in tqdm.tqdm(range(epochs)):\n",
    "for epoch in range(epochs):\n",
    "    for batch in range(0, len(train_data), batch_size):\n",
    "        train_logits = model(train_data[batch:batch+batch_size])\n",
    "        train_loss = loss_fn(train_logits, train_labels[batch:batch+batch_size])\n",
    "\n",
    "        train_loss.backward()\n",
    "\n",
    "        train_losses.append(train_loss.item())\n",
    "        optimizer.step()\n",
    "        optimizer.zero_grad()\n",
    "\n",
    "        with t.inference_mode():\n",
    "            test_logits = model(test_data)\n",
    "            test_loss = loss_fn(test_logits, test_labels)\n",
    "            test_losses.append(test_loss.item())\n",
    "\n",
    "        print(f\"Epoch {epoch} | Train Loss: {train_loss.item()} | Test Loss: {test_loss.item()}\")"
   ]
  },
  {
   "cell_type": "code",
   "execution_count": null,
   "metadata": {},
   "outputs": [
    {
     "data": {
      "text/plain": [
       "tensor([[0., 1., 0., 0., 0., 0., 0., 0., 0., 0.],\n",
       "        [0., 0., 0., 0., 0., 0., 0., 1., 0., 0.],\n",
       "        [0., 0., 0., 0., 0., 1., 0., 0., 0., 0.],\n",
       "        [0., 0., 1., 0., 0., 0., 0., 0., 0., 0.],\n",
       "        [0., 0., 0., 0., 0., 0., 1., 0., 0., 0.],\n",
       "        [0., 0., 0., 1., 0., 0., 0., 0., 0., 0.],\n",
       "        [0., 0., 0., 0., 1., 0., 0., 0., 0., 0.],\n",
       "        [0., 0., 0., 0., 0., 0., 0., 0., 1., 0.],\n",
       "        [1., 0., 0., 0., 0., 0., 0., 0., 0., 0.],\n",
       "        [0., 0., 0., 0., 0., 0., 0., 0., 0., 1.]], device='cuda:0')"
      ]
     },
     "execution_count": 150,
     "metadata": {},
     "output_type": "execute_result"
    }
   ],
   "source": [
    "train_labels[0]"
   ]
  },
  {
   "cell_type": "code",
   "execution_count": 37,
   "metadata": {},
   "outputs": [
    {
     "name": "stdout",
     "output_type": "stream",
     "text": [
      "tensor(20.2244, device='cuda:0', grad_fn=<MaxBackward1>)\n",
      "tensor(3, device='cuda:0')\n",
      "torch.Size([10])\n"
     ]
    }
   ],
   "source": [
    "seq_test = [10,3,1,7]\n",
    "print(t.max(model(t.tensor(seq_test))[0, -1]))\n",
    "print(t.argmax(model(t.tensor(seq_test))[0, -1]))\n",
    "print(model(t.tensor(seq_test))[0, -1].shape)\n",
    "\n"
   ]
  },
  {
   "cell_type": "code",
   "execution_count": 20,
   "metadata": {},
   "outputs": [
    {
     "data": {
      "application/vnd.plotly.v1+json": {
       "config": {
        "plotlyServerURL": "https://plot.ly"
       },
       "data": [
        {
         "mode": "lines",
         "name": "0",
         "type": "scatter",
         "x": [
          0,
          1,
          2,
          3,
          4,
          5,
          6,
          7,
          8,
          9,
          10,
          11,
          12,
          13,
          14,
          15,
          16,
          17,
          18,
          19,
          20,
          21,
          22,
          23,
          24,
          25,
          26,
          27,
          28,
          29,
          30,
          31,
          32,
          33,
          34,
          35,
          36,
          37,
          38,
          39,
          40,
          41,
          42,
          43,
          44,
          45,
          46,
          47,
          48,
          49,
          50,
          51,
          52,
          53,
          54,
          55,
          56,
          57,
          58,
          59,
          60,
          61,
          62,
          63,
          64,
          65,
          66,
          67,
          68,
          69,
          70,
          71,
          72,
          73,
          74,
          75,
          76,
          77,
          78,
          79,
          80,
          81,
          82,
          83,
          84,
          85,
          86,
          87,
          88,
          89,
          90,
          91,
          92,
          93,
          94,
          95,
          96,
          97,
          98,
          99,
          100,
          101,
          102,
          103,
          104,
          105,
          106,
          107,
          108,
          109,
          110,
          111,
          112,
          113,
          114,
          115,
          116,
          117,
          118,
          119,
          120,
          121,
          122,
          123,
          124,
          125,
          126,
          127,
          128,
          129,
          130,
          131,
          132,
          133,
          134,
          135,
          136,
          137,
          138,
          139,
          140,
          141,
          142,
          143,
          144,
          145,
          146,
          147,
          148,
          149,
          150,
          151,
          152,
          153,
          154,
          155,
          156,
          157,
          158,
          159,
          160,
          161,
          162,
          163,
          164,
          165,
          166,
          167,
          168,
          169,
          170,
          171,
          172,
          173,
          174,
          175,
          176,
          177,
          178,
          179,
          180,
          181,
          182,
          183,
          184,
          185,
          186,
          187,
          188,
          189,
          190,
          191,
          192,
          193,
          194,
          195,
          196,
          197,
          198,
          199,
          200,
          201,
          202,
          203,
          204,
          205,
          206,
          207,
          208,
          209,
          210,
          211,
          212,
          213,
          214,
          215,
          216,
          217,
          218,
          219,
          220,
          221,
          222,
          223,
          224,
          225,
          226,
          227,
          228,
          229,
          230,
          231,
          232,
          233,
          234,
          235,
          236,
          237,
          238,
          239,
          240,
          241,
          242,
          243,
          244,
          245,
          246,
          247,
          248,
          249
         ],
         "y": [
          2.3766825199127197,
          2.243098497390747,
          2.147594690322876,
          2.0750679969787598,
          2.017258405685425,
          1.9754102230072021,
          1.9378716945648193,
          1.8938804864883423,
          1.8461593389511108,
          1.801153540611267,
          1.7607389688491821,
          1.719709038734436,
          1.6757651567459106,
          1.6326981782913208,
          1.5933970212936401,
          1.5557435750961304,
          1.5171303749084473,
          1.4770243167877197,
          1.436069369316101,
          1.3944423198699951,
          1.3520495891571045,
          1.3098030090332031,
          1.267351746559143,
          1.2248327732086182,
          1.1827198266983032,
          1.1409310102462769,
          1.0995064973831177,
          1.0587974786758423,
          1.018149495124817,
          0.9774212837219238,
          0.93719482421875,
          0.8973662257194519,
          0.8577096462249756,
          0.8190063834190369,
          0.7809986472129822,
          0.743642270565033,
          0.7073895931243896,
          0.6722399592399597,
          0.638526439666748,
          0.6063086986541748,
          0.575282633304596,
          0.5455979704856873,
          0.5171860456466675,
          0.49040189385414124,
          0.46444106101989746,
          0.4406437873840332,
          0.4180130958557129,
          0.3971012532711029,
          0.3774178922176361,
          0.35905033349990845,
          0.3411436975002289,
          0.325325608253479,
          0.3102540969848633,
          0.2965911030769348,
          0.28397661447525024,
          0.27216655015945435,
          0.2613648474216461,
          0.2513301968574524,
          0.24190662801265717,
          0.23316815495491028,
          0.22519390285015106,
          0.2179746776819229,
          0.21117649972438812,
          0.20505620539188385,
          0.19952842593193054,
          0.1941417157649994,
          0.1898326277732849,
          0.18527798354625702,
          0.1810338944196701,
          0.1772795021533966,
          0.17369140684604645,
          0.1705644428730011,
          0.16754387319087982,
          0.16491487622261047,
          0.16251228749752045,
          0.1601942926645279,
          0.15807980298995972,
          0.1559157371520996,
          0.154312863945961,
          0.15265434980392456,
          0.15105432271957397,
          0.14959289133548737,
          0.14813493192195892,
          0.1471344381570816,
          0.14598987996578217,
          0.14462873339653015,
          0.14376425743103027,
          0.14274372160434723,
          0.14180906116962433,
          0.14101456105709076,
          0.14023438096046448,
          0.13936254382133484,
          0.13881482183933258,
          0.13805489242076874,
          0.13742142915725708,
          0.13672257959842682,
          0.136131152510643,
          0.13567402958869934,
          0.13514035940170288,
          0.1346680074930191,
          0.13424664735794067,
          0.13375923037528992,
          0.13334056735038757,
          0.13308562338352203,
          0.13261397182941437,
          0.13227230310440063,
          0.13195592164993286,
          0.13156571984291077,
          0.13138259947299957,
          0.13098491728305817,
          0.1306731104850769,
          0.13045324385166168,
          0.13011083006858826,
          0.129908949136734,
          0.12967781722545624,
          0.12943555414676666,
          0.12918099761009216,
          0.12899203598499298,
          0.12873370945453644,
          0.12863802909851074,
          0.12837918102741241,
          0.12820610404014587,
          0.12804816663265228,
          0.12782511115074158,
          0.1276494413614273,
          0.1274939626455307,
          0.12732204794883728,
          0.12718097865581512,
          0.12706401944160461,
          0.12687084078788757,
          0.12677150964736938,
          0.12661373615264893,
          0.12649324536323547,
          0.12640416622161865,
          0.1262119561433792,
          0.12612706422805786,
          0.1260467916727066,
          0.12585808336734772,
          0.12577015161514282,
          0.12572064995765686,
          0.12558934092521667,
          0.12544681131839752,
          0.1254195272922516,
          0.12522165477275848,
          0.1251934915781021,
          0.1250678300857544,
          0.12494595348834991,
          0.1248895674943924,
          0.12480498850345612,
          0.12468466907739639,
          0.12467289716005325,
          0.12459263950586319,
          0.1244625523686409,
          0.12446795403957367,
          0.12432662397623062,
          0.12421496957540512,
          0.12417152523994446,
          0.12407737970352173,
          0.12403745949268341,
          0.12396295368671417,
          0.12385241687297821,
          0.12384855002164841,
          0.12378422915935516,
          0.12367603182792664,
          0.12372440844774246,
          0.12371271103620529,
          0.12349551171064377,
          0.12353197485208511,
          0.12339400500059128,
          0.1233416348695755,
          0.12334941327571869,
          0.12324462085962296,
          0.1231575533747673,
          0.12316480278968811,
          0.12305299937725067,
          0.12302396446466446,
          0.1230241060256958,
          0.12290588766336441,
          0.12289337813854218,
          0.12285258620977402,
          0.1227385401725769,
          0.1227421686053276,
          0.1226942166686058,
          0.12264102697372437,
          0.122640460729599,
          0.12255144119262695,
          0.12253663688898087,
          0.1225740984082222,
          0.12244506180286407,
          0.12245526909828186,
          0.12255458533763885,
          0.1223139613866806,
          0.12234976887702942,
          0.12230558693408966,
          0.12221413850784302,
          0.12227678298950195,
          0.12221277505159378,
          0.12209614366292953,
          0.12218058109283447,
          0.1221042200922966,
          0.12203095853328705,
          0.1220800057053566,
          0.12196334451436996,
          0.12191268056631088,
          0.12194591015577316,
          0.12185800075531006,
          0.12180592119693756,
          0.12180979549884796,
          0.12174836546182632,
          0.12173545360565186,
          0.12173071503639221,
          0.12165571749210358,
          0.12168478965759277,
          0.12164175510406494,
          0.12158062309026718,
          0.12167223542928696,
          0.12155064195394516,
          0.12151813507080078,
          0.12149982899427414,
          0.12143408507108688,
          0.12146475166082382,
          0.12145056575536728,
          0.12137669324874878,
          0.12140581011772156,
          0.12138185650110245,
          0.12129182368516922,
          0.12130820006132126,
          0.12126059085130692,
          0.12120625376701355,
          0.12123458087444305,
          0.12120376527309418,
          0.12115079909563065,
          0.1211354210972786,
          0.12110085040330887,
          0.12106317281723022,
          0.12105805426836014,
          0.12102461606264114,
          0.12104025483131409,
          0.12103430181741714,
          0.12098214030265808,
          0.12102384865283966,
          0.12096960842609406,
          0.12093254923820496,
          0.12093579024076462,
          0.12090100347995758,
          0.12089741975069046,
          0.12087824195623398,
          0.12082477658987045,
          0.12082652747631073,
          0.1208309531211853
         ]
        },
        {
         "mode": "lines",
         "name": "1",
         "type": "scatter",
         "x": [
          0,
          1,
          2,
          3,
          4,
          5,
          6,
          7,
          8,
          9,
          10,
          11,
          12,
          13,
          14,
          15,
          16,
          17,
          18,
          19,
          20,
          21,
          22,
          23,
          24,
          25,
          26,
          27,
          28,
          29,
          30,
          31,
          32,
          33,
          34,
          35,
          36,
          37,
          38,
          39,
          40,
          41,
          42,
          43,
          44,
          45,
          46,
          47,
          48,
          49,
          50,
          51,
          52,
          53,
          54,
          55,
          56,
          57,
          58,
          59,
          60,
          61,
          62,
          63,
          64,
          65,
          66,
          67,
          68,
          69,
          70,
          71,
          72,
          73,
          74,
          75,
          76,
          77,
          78,
          79,
          80,
          81,
          82,
          83,
          84,
          85,
          86,
          87,
          88,
          89,
          90,
          91,
          92,
          93,
          94,
          95,
          96,
          97,
          98,
          99,
          100,
          101,
          102,
          103,
          104,
          105,
          106,
          107,
          108,
          109,
          110,
          111,
          112,
          113,
          114,
          115,
          116,
          117,
          118,
          119,
          120,
          121,
          122,
          123,
          124,
          125,
          126,
          127,
          128,
          129,
          130,
          131,
          132,
          133,
          134,
          135,
          136,
          137,
          138,
          139,
          140,
          141,
          142,
          143,
          144,
          145,
          146,
          147,
          148,
          149,
          150,
          151,
          152,
          153,
          154,
          155,
          156,
          157,
          158,
          159,
          160,
          161,
          162,
          163,
          164,
          165,
          166,
          167,
          168,
          169,
          170,
          171,
          172,
          173,
          174,
          175,
          176,
          177,
          178,
          179,
          180,
          181,
          182,
          183,
          184,
          185,
          186,
          187,
          188,
          189,
          190,
          191,
          192,
          193,
          194,
          195,
          196,
          197,
          198,
          199,
          200,
          201,
          202,
          203,
          204,
          205,
          206,
          207,
          208,
          209,
          210,
          211,
          212,
          213,
          214,
          215,
          216,
          217,
          218,
          219,
          220,
          221,
          222,
          223,
          224,
          225,
          226,
          227,
          228,
          229,
          230,
          231,
          232,
          233,
          234,
          235,
          236,
          237,
          238,
          239,
          240,
          241,
          242,
          243,
          244,
          245,
          246,
          247,
          248,
          249
         ],
         "y": [
          2.8080050945281982,
          2.37743878364563,
          2.242861270904541,
          2.1462807655334473,
          2.0747716426849365,
          2.0150792598724365,
          1.9754637479782104,
          1.9352155923843384,
          1.8929462432861328,
          1.8454378843307495,
          1.798885703086853,
          1.7615665197372437,
          1.7215832471847534,
          1.6756536960601807,
          1.6301854848861694,
          1.591797947883606,
          1.5564578771591187,
          1.5193551778793335,
          1.4755833148956299,
          1.4367454051971436,
          1.3959301710128784,
          1.3505833148956299,
          1.3131237030029297,
          1.2706594467163086,
          1.224825143814087,
          1.182677149772644,
          1.1408798694610596,
          1.1016119718551636,
          1.0592880249023438,
          1.0177980661392212,
          0.9775671362876892,
          0.9371286630630493,
          0.895053505897522,
          0.8566175699234009,
          0.8209537863731384,
          0.7793704867362976,
          0.7448383569717407,
          0.7081493735313416,
          0.6728139519691467,
          0.6401405930519104,
          0.6059673428535461,
          0.5742062926292419,
          0.5450895428657532,
          0.5155925750732422,
          0.48695945739746094,
          0.4649779498577118,
          0.4414531886577606,
          0.4192572236061096,
          0.3950992226600647,
          0.3796736001968384,
          0.3576085567474365,
          0.339712917804718,
          0.32445740699768066,
          0.3120124638080597,
          0.30084356665611267,
          0.2828828990459442,
          0.2716478407382965,
          0.26104292273521423,
          0.24947766959667206,
          0.243340402841568,
          0.2355431169271469,
          0.2265046387910843,
          0.21649034321308136,
          0.2109721451997757,
          0.20444755256175995,
          0.19893959164619446,
          0.19276586174964905,
          0.18757449090480804,
          0.18337956070899963,
          0.17841672897338867,
          0.17890039086341858,
          0.17289531230926514,
          0.17229528725147247,
          0.16412030160427094,
          0.1663275957107544,
          0.16123409569263458,
          0.1574077606201172,
          0.15517966449260712,
          0.15757887065410614,
          0.1580035537481308,
          0.15334421396255493,
          0.15008904039859772,
          0.1485394984483719,
          0.14596442878246307,
          0.14840319752693176,
          0.14760343730449677,
          0.1449640840291977,
          0.14187653362751007,
          0.14242736995220184,
          0.1406169980764389,
          0.1404487043619156,
          0.138347789645195,
          0.13727052509784698,
          0.13664136826992035,
          0.13566812872886658,
          0.13908539712429047,
          0.136225625872612,
          0.13769488036632538,
          0.13198979198932648,
          0.1364511251449585,
          0.13344939053058624,
          0.13162153959274292,
          0.1301063895225525,
          0.13494303822517395,
          0.13633720576763153,
          0.1333167552947998,
          0.1313001960515976,
          0.13076014816761017,
          0.12954512238502502,
          0.13276457786560059,
          0.13228514790534973,
          0.13124020397663116,
          0.12862665951251984,
          0.12958310544490814,
          0.1288212090730667,
          0.12912054359912872,
          0.12731991708278656,
          0.12724918127059937,
          0.12677748501300812,
          0.12640024721622467,
          0.13035990297794342,
          0.12796296179294586,
          0.12979304790496826,
          0.1244659423828125,
          0.12907132506370544,
          0.12642233073711395,
          0.12488564103841782,
          0.12348911911249161,
          0.12887659668922424,
          0.13015270233154297,
          0.1275065392255783,
          0.12577739357948303,
          0.12545843422412872,
          0.12434855848550797,
          0.127783864736557,
          0.12754352390766144,
          0.12662984430789948,
          0.12417848408222198,
          0.12537841498851776,
          0.12466259300708771,
          0.12502296268939972,
          0.12339873611927032,
          0.12363679707050323,
          0.12311770021915436,
          0.1229594349861145,
          0.1270655393600464,
          0.12471484392881393,
          0.12643995881080627,
          0.12131829559803009,
          0.12587769329547882,
          0.12332047522068024,
          0.12210772186517715,
          0.12062633037567139,
          0.12610729038715363,
          0.1274273842573166,
          0.12502646446228027,
          0.12324948608875275,
          0.12295923382043839,
          0.12197156250476837,
          0.12536396086215973,
          0.12518177926540375,
          0.12438696622848511,
          0.12190687656402588,
          0.12330164760351181,
          0.12258534878492355,
          0.12301500141620636,
          0.12156889587640762,
          0.12177393585443497,
          0.12116211652755737,
          0.12110910564661026,
          0.12519033253192902,
          0.12299495190382004,
          0.12481977790594101,
          0.11970718950033188,
          0.12417113035917282,
          0.12166740745306015,
          0.1204736977815628,
          0.11908479034900665,
          0.12451737374067307,
          0.12583990395069122,
          0.12355773895978928,
          0.12176044285297394,
          0.12158817052841187,
          0.12050749361515045,
          0.12396373599767685,
          0.1238357350230217,
          0.12316518276929855,
          0.12067241966724396,
          0.12213434278964996,
          0.12137094885110855,
          0.1217108964920044,
          0.12039065361022949,
          0.12052621692419052,
          0.11994265764951706,
          0.11995726078748703,
          0.12411611527204514,
          0.12190039455890656,
          0.12372063845396042,
          0.11859257519245148,
          0.1230611801147461,
          0.12062595039606094,
          0.11945686489343643,
          0.11813177168369293,
          0.1235460564494133,
          0.12480511516332626,
          0.1226939782500267,
          0.12083547562360764,
          0.12064038962125778,
          0.11965620517730713,
          0.1229865700006485,
          0.12288022041320801,
          0.12231471389532089,
          0.11979684978723526,
          0.12123581022024155,
          0.12055826187133789,
          0.12082727253437042,
          0.11954834312200546,
          0.11975874751806259,
          0.11906421184539795,
          0.11907706409692764,
          0.12337090075016022,
          0.12105735391378403,
          0.12299793213605881,
          0.11794954538345337,
          0.12227001041173935,
          0.11994011700153351,
          0.11877176910638809,
          0.11737262457609177,
          0.12281733006238937,
          0.12410900741815567,
          0.1220371350646019,
          0.12017934769392014,
          0.12003438919782639,
          0.11900551617145538,
          0.12245338410139084,
          0.1221892386674881,
          0.12169792503118515,
          0.11916277557611465,
          0.12058339267969131,
          0.11998011916875839,
          0.12024205178022385,
          0.1189141795039177,
          0.11919911205768585,
          0.11852140724658966,
          0.11849541962146759,
          0.12283433973789215,
          0.12048450857400894,
          0.1224217340350151,
          0.11744692176580429,
          0.1217244416475296
         ]
        }
       ],
       "layout": {
        "template": {
         "data": {
          "bar": [
           {
            "error_x": {
             "color": "#2a3f5f"
            },
            "error_y": {
             "color": "#2a3f5f"
            },
            "marker": {
             "line": {
              "color": "#E5ECF6",
              "width": 0.5
             },
             "pattern": {
              "fillmode": "overlay",
              "size": 10,
              "solidity": 0.2
             }
            },
            "type": "bar"
           }
          ],
          "barpolar": [
           {
            "marker": {
             "line": {
              "color": "#E5ECF6",
              "width": 0.5
             },
             "pattern": {
              "fillmode": "overlay",
              "size": 10,
              "solidity": 0.2
             }
            },
            "type": "barpolar"
           }
          ],
          "carpet": [
           {
            "aaxis": {
             "endlinecolor": "#2a3f5f",
             "gridcolor": "white",
             "linecolor": "white",
             "minorgridcolor": "white",
             "startlinecolor": "#2a3f5f"
            },
            "baxis": {
             "endlinecolor": "#2a3f5f",
             "gridcolor": "white",
             "linecolor": "white",
             "minorgridcolor": "white",
             "startlinecolor": "#2a3f5f"
            },
            "type": "carpet"
           }
          ],
          "choropleth": [
           {
            "colorbar": {
             "outlinewidth": 0,
             "ticks": ""
            },
            "type": "choropleth"
           }
          ],
          "contour": [
           {
            "colorbar": {
             "outlinewidth": 0,
             "ticks": ""
            },
            "colorscale": [
             [
              0,
              "#0d0887"
             ],
             [
              0.1111111111111111,
              "#46039f"
             ],
             [
              0.2222222222222222,
              "#7201a8"
             ],
             [
              0.3333333333333333,
              "#9c179e"
             ],
             [
              0.4444444444444444,
              "#bd3786"
             ],
             [
              0.5555555555555556,
              "#d8576b"
             ],
             [
              0.6666666666666666,
              "#ed7953"
             ],
             [
              0.7777777777777778,
              "#fb9f3a"
             ],
             [
              0.8888888888888888,
              "#fdca26"
             ],
             [
              1,
              "#f0f921"
             ]
            ],
            "type": "contour"
           }
          ],
          "contourcarpet": [
           {
            "colorbar": {
             "outlinewidth": 0,
             "ticks": ""
            },
            "type": "contourcarpet"
           }
          ],
          "heatmap": [
           {
            "colorbar": {
             "outlinewidth": 0,
             "ticks": ""
            },
            "colorscale": [
             [
              0,
              "#0d0887"
             ],
             [
              0.1111111111111111,
              "#46039f"
             ],
             [
              0.2222222222222222,
              "#7201a8"
             ],
             [
              0.3333333333333333,
              "#9c179e"
             ],
             [
              0.4444444444444444,
              "#bd3786"
             ],
             [
              0.5555555555555556,
              "#d8576b"
             ],
             [
              0.6666666666666666,
              "#ed7953"
             ],
             [
              0.7777777777777778,
              "#fb9f3a"
             ],
             [
              0.8888888888888888,
              "#fdca26"
             ],
             [
              1,
              "#f0f921"
             ]
            ],
            "type": "heatmap"
           }
          ],
          "heatmapgl": [
           {
            "colorbar": {
             "outlinewidth": 0,
             "ticks": ""
            },
            "colorscale": [
             [
              0,
              "#0d0887"
             ],
             [
              0.1111111111111111,
              "#46039f"
             ],
             [
              0.2222222222222222,
              "#7201a8"
             ],
             [
              0.3333333333333333,
              "#9c179e"
             ],
             [
              0.4444444444444444,
              "#bd3786"
             ],
             [
              0.5555555555555556,
              "#d8576b"
             ],
             [
              0.6666666666666666,
              "#ed7953"
             ],
             [
              0.7777777777777778,
              "#fb9f3a"
             ],
             [
              0.8888888888888888,
              "#fdca26"
             ],
             [
              1,
              "#f0f921"
             ]
            ],
            "type": "heatmapgl"
           }
          ],
          "histogram": [
           {
            "marker": {
             "pattern": {
              "fillmode": "overlay",
              "size": 10,
              "solidity": 0.2
             }
            },
            "type": "histogram"
           }
          ],
          "histogram2d": [
           {
            "colorbar": {
             "outlinewidth": 0,
             "ticks": ""
            },
            "colorscale": [
             [
              0,
              "#0d0887"
             ],
             [
              0.1111111111111111,
              "#46039f"
             ],
             [
              0.2222222222222222,
              "#7201a8"
             ],
             [
              0.3333333333333333,
              "#9c179e"
             ],
             [
              0.4444444444444444,
              "#bd3786"
             ],
             [
              0.5555555555555556,
              "#d8576b"
             ],
             [
              0.6666666666666666,
              "#ed7953"
             ],
             [
              0.7777777777777778,
              "#fb9f3a"
             ],
             [
              0.8888888888888888,
              "#fdca26"
             ],
             [
              1,
              "#f0f921"
             ]
            ],
            "type": "histogram2d"
           }
          ],
          "histogram2dcontour": [
           {
            "colorbar": {
             "outlinewidth": 0,
             "ticks": ""
            },
            "colorscale": [
             [
              0,
              "#0d0887"
             ],
             [
              0.1111111111111111,
              "#46039f"
             ],
             [
              0.2222222222222222,
              "#7201a8"
             ],
             [
              0.3333333333333333,
              "#9c179e"
             ],
             [
              0.4444444444444444,
              "#bd3786"
             ],
             [
              0.5555555555555556,
              "#d8576b"
             ],
             [
              0.6666666666666666,
              "#ed7953"
             ],
             [
              0.7777777777777778,
              "#fb9f3a"
             ],
             [
              0.8888888888888888,
              "#fdca26"
             ],
             [
              1,
              "#f0f921"
             ]
            ],
            "type": "histogram2dcontour"
           }
          ],
          "mesh3d": [
           {
            "colorbar": {
             "outlinewidth": 0,
             "ticks": ""
            },
            "type": "mesh3d"
           }
          ],
          "parcoords": [
           {
            "line": {
             "colorbar": {
              "outlinewidth": 0,
              "ticks": ""
             }
            },
            "type": "parcoords"
           }
          ],
          "pie": [
           {
            "automargin": true,
            "type": "pie"
           }
          ],
          "scatter": [
           {
            "fillpattern": {
             "fillmode": "overlay",
             "size": 10,
             "solidity": 0.2
            },
            "type": "scatter"
           }
          ],
          "scatter3d": [
           {
            "line": {
             "colorbar": {
              "outlinewidth": 0,
              "ticks": ""
             }
            },
            "marker": {
             "colorbar": {
              "outlinewidth": 0,
              "ticks": ""
             }
            },
            "type": "scatter3d"
           }
          ],
          "scattercarpet": [
           {
            "marker": {
             "colorbar": {
              "outlinewidth": 0,
              "ticks": ""
             }
            },
            "type": "scattercarpet"
           }
          ],
          "scattergeo": [
           {
            "marker": {
             "colorbar": {
              "outlinewidth": 0,
              "ticks": ""
             }
            },
            "type": "scattergeo"
           }
          ],
          "scattergl": [
           {
            "marker": {
             "colorbar": {
              "outlinewidth": 0,
              "ticks": ""
             }
            },
            "type": "scattergl"
           }
          ],
          "scattermapbox": [
           {
            "marker": {
             "colorbar": {
              "outlinewidth": 0,
              "ticks": ""
             }
            },
            "type": "scattermapbox"
           }
          ],
          "scatterpolar": [
           {
            "marker": {
             "colorbar": {
              "outlinewidth": 0,
              "ticks": ""
             }
            },
            "type": "scatterpolar"
           }
          ],
          "scatterpolargl": [
           {
            "marker": {
             "colorbar": {
              "outlinewidth": 0,
              "ticks": ""
             }
            },
            "type": "scatterpolargl"
           }
          ],
          "scatterternary": [
           {
            "marker": {
             "colorbar": {
              "outlinewidth": 0,
              "ticks": ""
             }
            },
            "type": "scatterternary"
           }
          ],
          "surface": [
           {
            "colorbar": {
             "outlinewidth": 0,
             "ticks": ""
            },
            "colorscale": [
             [
              0,
              "#0d0887"
             ],
             [
              0.1111111111111111,
              "#46039f"
             ],
             [
              0.2222222222222222,
              "#7201a8"
             ],
             [
              0.3333333333333333,
              "#9c179e"
             ],
             [
              0.4444444444444444,
              "#bd3786"
             ],
             [
              0.5555555555555556,
              "#d8576b"
             ],
             [
              0.6666666666666666,
              "#ed7953"
             ],
             [
              0.7777777777777778,
              "#fb9f3a"
             ],
             [
              0.8888888888888888,
              "#fdca26"
             ],
             [
              1,
              "#f0f921"
             ]
            ],
            "type": "surface"
           }
          ],
          "table": [
           {
            "cells": {
             "fill": {
              "color": "#EBF0F8"
             },
             "line": {
              "color": "white"
             }
            },
            "header": {
             "fill": {
              "color": "#C8D4E3"
             },
             "line": {
              "color": "white"
             }
            },
            "type": "table"
           }
          ]
         },
         "layout": {
          "annotationdefaults": {
           "arrowcolor": "#2a3f5f",
           "arrowhead": 0,
           "arrowwidth": 1
          },
          "autotypenumbers": "strict",
          "coloraxis": {
           "colorbar": {
            "outlinewidth": 0,
            "ticks": ""
           }
          },
          "colorscale": {
           "diverging": [
            [
             0,
             "#8e0152"
            ],
            [
             0.1,
             "#c51b7d"
            ],
            [
             0.2,
             "#de77ae"
            ],
            [
             0.3,
             "#f1b6da"
            ],
            [
             0.4,
             "#fde0ef"
            ],
            [
             0.5,
             "#f7f7f7"
            ],
            [
             0.6,
             "#e6f5d0"
            ],
            [
             0.7,
             "#b8e186"
            ],
            [
             0.8,
             "#7fbc41"
            ],
            [
             0.9,
             "#4d9221"
            ],
            [
             1,
             "#276419"
            ]
           ],
           "sequential": [
            [
             0,
             "#0d0887"
            ],
            [
             0.1111111111111111,
             "#46039f"
            ],
            [
             0.2222222222222222,
             "#7201a8"
            ],
            [
             0.3333333333333333,
             "#9c179e"
            ],
            [
             0.4444444444444444,
             "#bd3786"
            ],
            [
             0.5555555555555556,
             "#d8576b"
            ],
            [
             0.6666666666666666,
             "#ed7953"
            ],
            [
             0.7777777777777778,
             "#fb9f3a"
            ],
            [
             0.8888888888888888,
             "#fdca26"
            ],
            [
             1,
             "#f0f921"
            ]
           ],
           "sequentialminus": [
            [
             0,
             "#0d0887"
            ],
            [
             0.1111111111111111,
             "#46039f"
            ],
            [
             0.2222222222222222,
             "#7201a8"
            ],
            [
             0.3333333333333333,
             "#9c179e"
            ],
            [
             0.4444444444444444,
             "#bd3786"
            ],
            [
             0.5555555555555556,
             "#d8576b"
            ],
            [
             0.6666666666666666,
             "#ed7953"
            ],
            [
             0.7777777777777778,
             "#fb9f3a"
            ],
            [
             0.8888888888888888,
             "#fdca26"
            ],
            [
             1,
             "#f0f921"
            ]
           ]
          },
          "colorway": [
           "#636efa",
           "#EF553B",
           "#00cc96",
           "#ab63fa",
           "#FFA15A",
           "#19d3f3",
           "#FF6692",
           "#B6E880",
           "#FF97FF",
           "#FECB52"
          ],
          "font": {
           "color": "#2a3f5f"
          },
          "geo": {
           "bgcolor": "white",
           "lakecolor": "white",
           "landcolor": "#E5ECF6",
           "showlakes": true,
           "showland": true,
           "subunitcolor": "white"
          },
          "hoverlabel": {
           "align": "left"
          },
          "hovermode": "closest",
          "mapbox": {
           "style": "light"
          },
          "paper_bgcolor": "white",
          "plot_bgcolor": "#E5ECF6",
          "polar": {
           "angularaxis": {
            "gridcolor": "white",
            "linecolor": "white",
            "ticks": ""
           },
           "bgcolor": "#E5ECF6",
           "radialaxis": {
            "gridcolor": "white",
            "linecolor": "white",
            "ticks": ""
           }
          },
          "scene": {
           "xaxis": {
            "backgroundcolor": "#E5ECF6",
            "gridcolor": "white",
            "gridwidth": 2,
            "linecolor": "white",
            "showbackground": true,
            "ticks": "",
            "zerolinecolor": "white"
           },
           "yaxis": {
            "backgroundcolor": "#E5ECF6",
            "gridcolor": "white",
            "gridwidth": 2,
            "linecolor": "white",
            "showbackground": true,
            "ticks": "",
            "zerolinecolor": "white"
           },
           "zaxis": {
            "backgroundcolor": "#E5ECF6",
            "gridcolor": "white",
            "gridwidth": 2,
            "linecolor": "white",
            "showbackground": true,
            "ticks": "",
            "zerolinecolor": "white"
           }
          },
          "shapedefaults": {
           "line": {
            "color": "#2a3f5f"
           }
          },
          "ternary": {
           "aaxis": {
            "gridcolor": "white",
            "linecolor": "white",
            "ticks": ""
           },
           "baxis": {
            "gridcolor": "white",
            "linecolor": "white",
            "ticks": ""
           },
           "bgcolor": "#E5ECF6",
           "caxis": {
            "gridcolor": "white",
            "linecolor": "white",
            "ticks": ""
           }
          },
          "title": {
           "x": 0.05
          },
          "xaxis": {
           "automargin": true,
           "gridcolor": "white",
           "linecolor": "white",
           "ticks": "",
           "title": {
            "standoff": 15
           },
           "zerolinecolor": "white",
           "zerolinewidth": 2
          },
          "yaxis": {
           "automargin": true,
           "gridcolor": "white",
           "linecolor": "white",
           "ticks": "",
           "title": {
            "standoff": 15
           },
           "zerolinecolor": "white",
           "zerolinewidth": 2
          }
         }
        },
        "title": {
         "text": ""
        },
        "xaxis": {
         "title": {
          "text": ""
         }
        },
        "yaxis": {
         "title": {
          "text": ""
         }
        }
       }
      }
     },
     "metadata": {},
     "output_type": "display_data"
    }
   ],
   "source": [
    "lines([test_losses, train_losses])"
   ]
  },
  {
   "cell_type": "code",
   "execution_count": null,
   "metadata": {},
   "outputs": [
    {
     "data": {
      "text/plain": [
       "(0.0, 100.0)"
      ]
     },
     "execution_count": 65,
     "metadata": {},
     "output_type": "execute_result"
    },
    {
     "data": {
      "image/png": "[encoded data removed]",
      "text/plain": [
       "<Figure size 720x720 with 1 Axes>"
      ]
     },
     "metadata": {
      "needs_background": "light"
     },
     "output_type": "display_data"
    }
   ],
   "source": [
    "#difference of lists test_losses and train_losses\n",
    "diff = [test_losses[i] - train_losses[i] for i in range(len(test_losses))]\n",
    "plt.figure(figsize=(10, 10))\n",
    "plt.plot(diff)\n",
    "#xlim\n",
    "plt.xlim(0, 100)"
   ]
  },
  {
   "cell_type": "code",
   "execution_count": null,
   "metadata": {},
   "outputs": [],
   "source": [
    "seq = t.tensor([10] * 10).to(cfg.device)\n",
    "out = model(seq)"
   ]
  },
  {
   "cell_type": "code",
   "execution_count": null,
   "metadata": {},
   "outputs": [
    {
     "data": {
      "text/plain": [
       "tensor([[-68.5691, -53.3248, -33.7109,  28.4673, -47.1521,  49.8403,  20.7787,\n",
       "          18.6870, -19.6562,  14.9037]], device='cuda:0',\n",
       "       grad_fn=<SliceBackward0>)"
      ]
     },
     "execution_count": 16,
     "metadata": {},
     "output_type": "execute_result"
    }
   ],
   "source": [
    "out[:,-1,:]"
   ]
  },
  {
   "cell_type": "code",
   "execution_count": null,
   "metadata": {},
   "outputs": [
    {
     "data": {
      "application/vnd.plotly.v1+json": {
       "config": {
        "plotlyServerURL": "https://plot.ly"
       },
       "data": [
        {
         "hovertemplate": "variable=0<br>index=%{x}<br>value=%{y}<extra></extra>",
         "legendgroup": "0",
         "line": {
          "color": "#636efa",
          "dash": "solid"
         },
         "marker": {
          "symbol": "circle"
         },
         "mode": "lines",
         "name": "0",
         "orientation": "v",
         "showlegend": true,
         "type": "scatter",
         "x": [
          0,
          1,
          2,
          3,
          4,
          5,
          6,
          7,
          8,
          9,
          10,
          11,
          12,
          13,
          14,
          15,
          16,
          17,
          18,
          19,
          20,
          21,
          22,
          23,
          24,
          25,
          26,
          27,
          28,
          29,
          30,
          31,
          32,
          33,
          34,
          35,
          36,
          37,
          38,
          39,
          40,
          41,
          42,
          43,
          44,
          45,
          46,
          47,
          48,
          49,
          50,
          51,
          52,
          53,
          54,
          55,
          56,
          57,
          58,
          59,
          60,
          61,
          62,
          63,
          64,
          65,
          66,
          67,
          68,
          69,
          70,
          71,
          72,
          73,
          74,
          75,
          76,
          77,
          78,
          79,
          80,
          81,
          82,
          83,
          84,
          85,
          86,
          87,
          88,
          89,
          90,
          91,
          92,
          93,
          94,
          95,
          96,
          97,
          98,
          99,
          100,
          101,
          102,
          103,
          104,
          105,
          106,
          107,
          108,
          109,
          110,
          111,
          112,
          113,
          114,
          115,
          116,
          117,
          118,
          119,
          120,
          121,
          122,
          123,
          124,
          125,
          126,
          127,
          128,
          129,
          130,
          131,
          132,
          133,
          134,
          135,
          136,
          137,
          138,
          139,
          140,
          141,
          142,
          143,
          144,
          145,
          146,
          147,
          148,
          149,
          150,
          151,
          152,
          153,
          154,
          155,
          156,
          157,
          158,
          159,
          160,
          161,
          162,
          163,
          164,
          165,
          166,
          167,
          168,
          169,
          170,
          171,
          172,
          173,
          174,
          175,
          176,
          177,
          178,
          179,
          180,
          181,
          182,
          183,
          184,
          185,
          186,
          187,
          188,
          189,
          190,
          191,
          192,
          193,
          194,
          195,
          196,
          197,
          198,
          199,
          200,
          201,
          202,
          203,
          204,
          205,
          206,
          207,
          208,
          209,
          210,
          211,
          212,
          213,
          214,
          215,
          216,
          217,
          218,
          219,
          220,
          221,
          222,
          223,
          224,
          225,
          226,
          227,
          228,
          229,
          230,
          231,
          232,
          233,
          234,
          235,
          236,
          237,
          238,
          239,
          240,
          241,
          242,
          243,
          244,
          245,
          246,
          247,
          248,
          249,
          250,
          251,
          252,
          253,
          254,
          255,
          256,
          257,
          258,
          259,
          260,
          261,
          262,
          263,
          264,
          265,
          266,
          267,
          268,
          269,
          270,
          271,
          272,
          273,
          274,
          275,
          276,
          277,
          278,
          279,
          280,
          281,
          282,
          283,
          284,
          285,
          286,
          287,
          288,
          289,
          290,
          291,
          292,
          293,
          294,
          295,
          296,
          297,
          298,
          299,
          300,
          301,
          302,
          303,
          304,
          305,
          306,
          307,
          308,
          309,
          310,
          311,
          312,
          313,
          314,
          315,
          316,
          317,
          318,
          319,
          320,
          321,
          322,
          323,
          324,
          325,
          326,
          327,
          328,
          329,
          330,
          331,
          332,
          333,
          334,
          335,
          336,
          337,
          338,
          339,
          340,
          341,
          342,
          343,
          344,
          345,
          346,
          347,
          348,
          349,
          350,
          351,
          352,
          353,
          354,
          355,
          356,
          357,
          358,
          359,
          360,
          361,
          362,
          363,
          364,
          365,
          366,
          367,
          368,
          369,
          370,
          371,
          372,
          373,
          374,
          375,
          376,
          377,
          378,
          379,
          380,
          381,
          382,
          383,
          384,
          385,
          386,
          387,
          388,
          389,
          390,
          391,
          392,
          393,
          394,
          395,
          396,
          397,
          398,
          399,
          400,
          401,
          402,
          403,
          404,
          405,
          406,
          407,
          408,
          409,
          410,
          411,
          412,
          413,
          414,
          415,
          416,
          417,
          418,
          419,
          420,
          421,
          422,
          423,
          424,
          425,
          426,
          427,
          428,
          429,
          430,
          431,
          432,
          433,
          434,
          435,
          436,
          437,
          438,
          439,
          440,
          441,
          442,
          443,
          444,
          445,
          446,
          447,
          448,
          449,
          450,
          451,
          452,
          453,
          454,
          455,
          456,
          457,
          458,
          459,
          460,
          461,
          462,
          463,
          464,
          465,
          466,
          467,
          468,
          469,
          470,
          471,
          472,
          473,
          474,
          475,
          476,
          477,
          478,
          479,
          480,
          481,
          482,
          483,
          484,
          485,
          486,
          487,
          488,
          489,
          490,
          491,
          492,
          493,
          494,
          495,
          496,
          497,
          498,
          499,
          500,
          501,
          502,
          503,
          504,
          505,
          506,
          507,
          508,
          509,
          510,
          511,
          512,
          513,
          514,
          515,
          516,
          517,
          518,
          519,
          520,
          521,
          522,
          523,
          524,
          525,
          526,
          527,
          528,
          529,
          530,
          531,
          532,
          533,
          534,
          535,
          536,
          537,
          538,
          539,
          540,
          541,
          542,
          543,
          544,
          545,
          546,
          547,
          548,
          549,
          550,
          551,
          552,
          553,
          554,
          555,
          556,
          557,
          558,
          559,
          560,
          561,
          562,
          563,
          564,
          565,
          566,
          567,
          568,
          569,
          570,
          571,
          572,
          573,
          574,
          575,
          576,
          577,
          578,
          579,
          580,
          581,
          582,
          583,
          584,
          585,
          586,
          587,
          588,
          589,
          590,
          591,
          592,
          593,
          594,
          595,
          596,
          597,
          598,
          599,
          600,
          601,
          602,
          603,
          604,
          605,
          606,
          607,
          608,
          609,
          610,
          611,
          612,
          613,
          614,
          615,
          616,
          617,
          618,
          619,
          620,
          621,
          622,
          623,
          624,
          625,
          626,
          627,
          628,
          629,
          630,
          631,
          632,
          633,
          634,
          635,
          636,
          637,
          638,
          639,
          640,
          641,
          642,
          643,
          644,
          645,
          646,
          647,
          648,
          649,
          650,
          651,
          652,
          653,
          654,
          655,
          656,
          657,
          658,
          659,
          660,
          661,
          662,
          663,
          664,
          665,
          666,
          667,
          668,
          669,
          670,
          671,
          672,
          673,
          674,
          675,
          676,
          677,
          678,
          679,
          680,
          681,
          682,
          683,
          684,
          685,
          686,
          687,
          688,
          689,
          690,
          691,
          692,
          693,
          694,
          695,
          696,
          697,
          698,
          699,
          700,
          701,
          702,
          703,
          704,
          705,
          706,
          707,
          708,
          709,
          710,
          711,
          712,
          713,
          714,
          715,
          716,
          717,
          718,
          719,
          720,
          721,
          722,
          723,
          724,
          725,
          726,
          727,
          728,
          729,
          730,
          731,
          732,
          733,
          734,
          735,
          736,
          737,
          738,
          739,
          740,
          741,
          742,
          743,
          744,
          745,
          746,
          747,
          748,
          749,
          750,
          751,
          752,
          753,
          754,
          755,
          756,
          757,
          758,
          759,
          760,
          761,
          762,
          763,
          764,
          765,
          766,
          767,
          768,
          769,
          770,
          771,
          772,
          773,
          774,
          775,
          776,
          777,
          778,
          779,
          780,
          781,
          782,
          783,
          784,
          785,
          786,
          787,
          788,
          789,
          790,
          791,
          792,
          793,
          794,
          795,
          796,
          797,
          798,
          799,
          800,
          801,
          802,
          803,
          804,
          805,
          806,
          807,
          808,
          809,
          810,
          811,
          812,
          813,
          814,
          815,
          816,
          817,
          818,
          819,
          820,
          821,
          822,
          823,
          824,
          825,
          826,
          827,
          828,
          829,
          830,
          831,
          832,
          833,
          834,
          835,
          836,
          837,
          838,
          839,
          840,
          841,
          842,
          843,
          844,
          845,
          846,
          847,
          848,
          849,
          850,
          851,
          852,
          853,
          854,
          855,
          856,
          857,
          858,
          859,
          860,
          861,
          862,
          863,
          864,
          865,
          866,
          867,
          868,
          869,
          870,
          871,
          872,
          873,
          874,
          875,
          876,
          877,
          878,
          879,
          880,
          881,
          882,
          883,
          884,
          885,
          886,
          887,
          888,
          889,
          890,
          891,
          892,
          893,
          894,
          895,
          896,
          897,
          898,
          899
         ],
         "xaxis": "x",
         "y": [
          2.2703514099121094,
          2.2395405769348145,
          2.2085189819335938,
          2.1764636039733887,
          2.142791748046875,
          2.10731840133667,
          2.0705783367156982,
          2.0336356163024902,
          1.9981554746627808,
          1.965922474861145,
          1.937679648399353,
          1.9128265380859375,
          1.8900750875473022,
          1.8686412572860718,
          1.8483537435531616,
          1.8294475078582764,
          1.812081217765808,
          1.7959147691726685,
          1.7800649404525757,
          1.7634681463241577,
          1.7454668283462524,
          1.7260545492172241,
          1.7056715488433838,
          1.6847436428070068,
          1.6626578569412231,
          1.63853919506073,
          1.61211359500885,
          1.583520531654358,
          1.5527479648590088,
          1.519374966621399,
          1.4836188554763794,
          1.4458200931549072,
          1.406359076499939,
          1.364904522895813,
          1.3204925060272217,
          1.2731270790100098,
          1.22353994846344,
          1.1708508729934692,
          1.1150083541870117,
          1.0571264028549194,
          0.9966414570808411,
          0.9336987137794495,
          0.8701422810554504,
          0.8066260814666748,
          0.7441383600234985,
          0.6831145286560059,
          0.6247608065605164,
          0.5698306560516357,
          0.5179246664047241,
          0.46841806173324585,
          0.4207397699356079,
          0.3750752806663513,
          0.33206844329833984,
          0.291416198015213,
          0.25355300307273865,
          0.21901148557662964,
          0.18773473799228668,
          0.15960176289081573,
          0.13492557406425476,
          0.11380327492952347,
          0.09573955833911896,
          0.08052349090576172,
          0.06809712946414948,
          0.05818776786327362,
          0.04973116144537926,
          0.04219410941004753,
          0.035934869199991226,
          0.031008217483758926,
          0.027041928842663765,
          0.023780616000294685,
          0.02103719301521778,
          0.01870683953166008,
          0.016702858731150627,
          0.014957020059227943,
          0.01343599148094654,
          0.012132631614804268,
          0.011043697595596313,
          0.010113473050296307,
          0.00927244033664465,
          0.008504824712872505,
          0.007827955298125744,
          0.007231445051729679,
          0.00669760862365365,
          0.006213771644979715,
          0.005779371131211519,
          0.0053921290673315525,
          0.00504921842366457,
          0.004745654296129942,
          0.004474232438951731,
          0.004229612648487091,
          0.004006821196526289,
          0.003802781691774726,
          0.0036154550034552813,
          0.003442961722612381,
          0.0032842967193573713,
          0.0031389787327498198,
          0.003006163751706481,
          0.0028854282572865486,
          0.002775507280603051,
          0.0026750783436000347,
          0.0025827172212302685,
          0.002497381065040827,
          0.0024180614855140448,
          0.00234392611309886,
          0.0022742105647921562,
          0.0022089567501097918,
          0.0021481411531567574,
          0.002091736299917102,
          0.002039363607764244,
          0.0019905806984752417,
          0.0019450061954557896,
          0.0019021208863705397,
          0.00186159648001194,
          0.0018231758149340749,
          0.0017866413109004498,
          0.0017519420944154263,
          0.0017189469654113054,
          0.001687486656010151,
          0.001657444634474814,
          0.0016287794569507241,
          0.0016013813437893987,
          0.0015751435421407223,
          0.001549951615743339,
          0.0015257014892995358,
          0.0015023474115878344,
          0.0014798303600400686,
          0.001458054524846375,
          0.0014369753189384937,
          0.001416612882167101,
          0.0013969428837299347,
          0.0013779043219983578,
          0.0013594356132671237,
          0.0013415053253993392,
          0.0013240998378023505,
          0.0013071896973997355,
          0.001290717045776546,
          0.0012746559223160148,
          0.001258987351320684,
          0.0012436764081940055,
          0.0012287106364965439,
          0.0012140895705670118,
          0.0011997767724096775,
          0.0011858086800202727,
          0.0011721622431650758,
          0.0011588024208322167,
          0.0011457238579168916,
          0.0011329231783747673,
          0.0011203923495486379,
          0.001108107273466885,
          0.0010960428044199944,
          0.0010841808980330825,
          0.0010725517058745027,
          0.0010611464967951179,
          0.0010499432682991028,
          0.0010389399249106646,
          0.0010281448485329747,
          0.0010175458155572414,
          0.0010071264114230871,
          0.0009968697559088469,
          0.000986766186542809,
          0.000976838287897408,
          0.0009670790750533342,
          0.0009574713767506182,
          0.0009480128646828234,
          0.0009387098252773285,
          0.0009295524214394391,
          0.0009205344831570983,
          0.000911643379367888,
          0.0009028696804307401,
          0.0008942388813011348,
          0.0008857441716827452,
          0.0008773694862611592,
          0.0008691144757904112,
          0.000860988802742213,
          0.0008529868791811168,
          0.000845093687530607,
          0.000837305560708046,
          0.0008296119049191475,
          0.000822033325675875,
          0.0008145676692947745,
          0.00080720434198156,
          0.0007999375811778009,
          0.0007927807746455073,
          0.000785722688306123,
          0.000778756570070982,
          0.0007718782871961594,
          0.0007650773040950298,
          0.000758373353164643,
          0.0007517627673223615,
          0.0007452411227859557,
          0.0007388003286905587,
          0.0007324504549615085,
          0.000726187601685524,
          0.0007200014661066234,
          0.0007138896617107093,
          0.0007078427588567138,
          0.0007018781616352499,
          0.0006959927850402892,
          0.0006901820888742805,
          0.0006844415329396725,
          0.0006787788588553667,
          0.0006731878966093063,
          0.0006676629418507218,
          0.0006621999200433493,
          0.0006567931268364191,
          0.0006514590932056308,
          0.0006461917073465884,
          0.0006409883499145508,
          0.0006358455284498632,
          0.000630769704002887,
          0.0006257587228901684,
          0.000620804843492806,
          0.000615903118159622,
          0.0006110514514148235,
          0.0006062620086595416,
          0.0006015316466800869,
          0.0005968562327325344,
          0.0005922324489802122,
          0.0005876714130863547,
          0.0005831631715409458,
          0.0005787057452835143,
          0.0005742929060943425,
          0.000569922907743603,
          0.0005656053544953465,
          0.0005613414687104523,
          0.000557125371415168,
          0.0005529549089260399,
          0.000548834097571671,
          0.0005447638686746359,
          0.0005407357239164412,
          0.0005367479170672596,
          0.0005327966646291316,
          0.0005288926186040044,
          0.0005250347894616425,
          0.0005212196265347302,
          0.0005174422403797507,
          0.0005137121770530939,
          0.0005100247217342257,
          0.0005063759163022041,
          0.0005027607548981905,
          0.0004991774912923574,
          0.0004956367774866521,
          0.0004921347717754543,
          0.0004886719980277121,
          0.0004852437705267221,
          0.00048185570631176233,
          0.0004785051860380918,
          0.0004751876404043287,
          0.00047190109035000205,
          0.000468641024781391,
          0.00046541940537281334,
          0.00046223122626543045,
          0.0004590777098201215,
          0.0004559553926810622,
          0.00045286849490366876,
          0.0004498138732742518,
          0.0004467903927434236,
          0.0004437931929714978,
          0.0004408188397064805,
          0.000437877926742658,
          0.0004349696100689471,
          0.00043208911665715277,
          0.00042923673754557967,
          0.0004264171584509313,
          0.00042362604290246964,
          0.0004208609461784363,
          0.00041811863775365055,
          0.0004153990594204515,
          0.0004127078573219478,
          0.000410045322496444,
          0.00040740828262642026,
          0.0004047964175697416,
          0.00040221205563284457,
          0.00039965510950423777,
          0.0003971206024289131,
          0.0003946075157728046,
          0.0003921138704754412,
          0.000389645661925897,
          0.0003872033266816288,
          0.00038478177157230675,
          0.00038238507113419473,
          0.00038001281791366637,
          0.0003776629746425897,
          0.0003753348719328642,
          0.00037302623968571424,
          0.0003707318683154881,
          0.0003684640978462994,
          0.0003662157978396863,
          0.00036398976226337254,
          0.00036178308073431253,
          0.0003595988964661956,
          0.00035743621992878616,
          0.0003552911221049726,
          0.0003531624097377062,
          0.0003510491515044123,
          0.00034895632416009903,
          0.00034688482992351055,
          0.00034483091440051794,
          0.00034279562532901764,
          0.000340779748512432,
          0.0003387836623005569,
          0.0003368027973920107,
          0.00033483767765574157,
          0.0003328874008730054,
          0.0003309535386506468,
          0.0003290392633061856,
          0.0003271415189374238,
          0.0003252580645494163,
          0.00032339521567337215,
          0.00032155014923773706,
          0.0003197167534381151,
          0.0003178993647452444,
          0.00031609315192326903,
          0.00031430349918082356,
          0.0003125302609987557,
          0.0003107719530817121,
          0.00030902816797606647,
          0.0003073005354963243,
          0.0003055886772926897,
          0.0003038910508621484,
          0.000302202592138201,
          0.0003005281905643642,
          0.000298868166282773,
          0.0002972227812279016,
          0.0002955911331810057,
          0.00029397165053524077,
          0.0002923674474004656,
          0.00029077869839966297,
          0.0002892013581003994,
          0.00028763432055711746,
          0.0002860776148736477,
          0.00028453487902879715,
          0.0002830049197655171,
          0.0002814882027450949,
          0.00027998225414194167,
          0.0002784915850497782,
          0.0002770129940472543,
          0.0002755463938228786,
          0.00027408829191699624,
          0.00027263900847174227,
          0.0002712029963731766,
          0.00026977804373018444,
          0.00026836697361432016,
          0.000266965595073998,
          0.00026557472301647067,
          0.00026419784990139306,
          0.00026282991166226566,
          0.00026147073367610574,
          0.000260121509199962,
          0.0002587822964414954,
          0.0002574539103079587,
          0.00025613655452616513,
          0.00025482839555479586,
          0.0002535332168918103,
          0.0002522474096622318,
          0.0002509711775928736,
          0.0002497025125194341,
          0.00024844237486831844,
          0.00024719134671613574,
          0.00024595099966973066,
          0.00024472008226439357,
          0.00024349801242351532,
          0.00024228819529525936,
          0.00024108534853439778,
          0.00023989318287931383,
          0.00023870653240010142,
          0.00023752832203172147,
          0.00023635885736439377,
          0.00023519707610830665,
          0.00023404670355375856,
          0.00023290314129553735,
          0.00023176969261839986,
          0.0002306456008227542,
          0.00022952807194087654,
          0.0002284167130710557,
          0.00022731312492396683,
          0.00022621717653237283,
          0.0002251297264592722,
          0.0002240507019450888,
          0.000222981019760482,
          0.00022191782773006707,
          0.00022086358512751758,
          0.00021981667669024318,
          0.000218775006942451,
          0.00021774003107566386,
          0.00021671106514986604,
          0.00021569266391452402,
          0.00021468033082783222,
          0.00021367458975873888,
          0.0002126771432813257,
          0.0002116867690347135,
          0.0002107047475874424,
          0.00020972710626665503,
          0.00020875393238384277,
          0.00020778887846972793,
          0.0002068315225187689,
          0.00020588030747603625,
          0.00020493488409556448,
          0.00020399958884809166,
          0.00020306839724071324,
          0.00020214510732330382,
          0.00020122523710597306,
          0.00020031226449646056,
          0.0001994050689972937,
          0.00019850354874506593,
          0.00019761022122111171,
          0.00019672133203130215,
          0.00019584133406169713,
          0.00019496624008752406,
          0.00019409632659517229,
          0.00019323098240420222,
          0.00019237142987549305,
          0.00019151595188304782,
          0.00019066780805587769,
          0.0001898268674267456,
          0.00018898963753599674,
          0.00018816010560840368,
          0.00018733479373622686,
          0.0001865155209088698,
          0.00018570059910416603,
          0.00018488845671527088,
          0.0001840836921473965,
          0.0001832839334383607,
          0.0001824907521950081,
          0.00018170078692492098,
          0.0001809180248528719,
          0.00018014013767242432,
          0.00017936722724698484,
          0.00017859786748886108,
          0.00017783221846912056,
          0.00017707253573462367,
          0.000176317582372576,
          0.0001755676930770278,
          0.00017482374096289277,
          0.0001740831066854298,
          0.0001733500830596313,
          0.0001726202026475221,
          0.00017189189384225756,
          0.0001711696822894737,
          0.00017045212734956294,
          0.00016973901074379683,
          0.0001690309145487845,
          0.00016832680557854474,
          0.0001676274259807542,
          0.00016693337238393724,
          0.0001662420982029289,
          0.00016555600450374186,
          0.00016487273387610912,
          0.00016419304301962256,
          0.00016351933300029486,
          0.00016285052697639912,
          0.00016218343807850033,
          0.00016152230091392994,
          0.0001608665188541636,
          0.0001602129195816815,
          0.00015956370043568313,
          0.00015891641669441015,
          0.0001582736149430275,
          0.00015763497503940016,
          0.00015700106450822204,
          0.00015636993339285254,
          0.00015574412827845663,
          0.00015512316895183176,
          0.00015450383943971246,
          0.0001538883661851287,
          0.00015327564324252307,
          0.0001526666892459616,
          0.0001520612568128854,
          0.0001514599280199036,
          0.0001508630666648969,
          0.0001502690720371902,
          0.00014967971947044134,
          0.00014909377205185592,
          0.00014851041487418115,
          0.0001479279453633353,
          0.00014735069999005646,
          0.00014677834406029433,
          0.00014620661386288702,
          0.0001456402096664533,
          0.00014507726882584393,
          0.00014451798051595688,
          0.0001439620100427419,
          0.0001434069126844406,
          0.0001428549294359982,
          0.00014230776287149638,
          0.00014176327385939658,
          0.00014122112770564854,
          0.00014068307064007968,
          0.00014014898624736816,
          0.00013961701188236475,
          0.0001390880352118984,
          0.00013856159057468176,
          0.00013803664478473365,
          0.00013751622464042157,
          0.00013699947157874703,
          0.0001364853815175593,
          0.00013597344513982534,
          0.00013546491391025484,
          0.00013495991879608482,
          0.00013445767399389297,
          0.00013395535643212497,
          0.00013345840852707624,
          0.00013296173710841686,
          0.0001324689801549539,
          0.0001319803559454158,
          0.00013149381265975535,
          0.00013101020886097103,
          0.00013052980648353696,
          0.0001300506992265582,
          0.00012957466242369264,
          0.00012910037185065448,
          0.0001286291517317295,
          0.00012816049274988472,
          0.00012769544264301658,
          0.00012723154213745147,
          0.0001267706393264234,
          0.00012631391291506588,
          0.00012585839431267232,
          0.00012540401075966656,
          0.00012495268310885876,
          0.00012450305803213269,
          0.00012405644520185888,
          0.00012361217522993684,
          0.00012317078653723001,
          0.0001227331958943978,
          0.000122297162306495,
          0.00012186289677629247,
          0.00012143031199229881,
          0.00012100039020879194,
          0.00012057104322593659,
          0.00012014565436402336,
          0.00011972244101343676,
          0.00011930118489544839,
          0.00011888358858413994,
          0.00011846734560094774,
          0.00011805156827904284,
          0.00011763966176658869,
          0.00011722950875991955,
          0.00011682001786539331,
          0.00011641505261650309,
          0.00011601150617934763,
          0.0001156078651547432,
          0.00011520938278408721,
          0.00011481294495752081,
          0.00011441731476224959,
          0.00011402335803722963,
          0.00011363098019501194,
          0.00011324074876029044,
          0.00011285315849818289,
          0.00011246812937315553,
          0.00011208317300770432,
          0.00011170162906637415,
          0.0001113230682676658,
          0.00011094583169324324,
          0.00011056895891670138,
          0.0001101940797525458,
          0.00010982179082930088,
          0.00010945076792268082,
          0.00010908194235526025,
          0.00010871562699321657,
          0.00010835030116140842,
          0.00010798784933285788,
          0.00010762727470137179,
          0.00010726747859735042,
          0.00010690993804018945,
          0.0001065531323547475,
          0.00010619939712341875,
          0.00010584726260276511,
          0.00010549685976002365,
          0.000105148101283703,
          0.00010480011405888945,
          0.00010445644147694111,
          0.00010411145922262222,
          0.00010376901627751067,
          0.00010342831956222653,
          0.00010308927448932081,
          0.0001027525941026397,
          0.00010241592826787382,
          0.00010208332241745666,
          0.00010175068018725142,
          0.00010142206883756444,
          0.0001010914784274064,
          0.0001007636237773113,
          0.00010043707879958674,
          0.00010011216363636777,
          0.00009978978778235614,
          0.0000994682777673006,
          0.00009914778638631105,
          0.00009882986341835931,
          0.00009851455979514867,
          0.00009819842671277002,
          0.00009788454917725176,
          0.00009757113002706319,
          0.00009726065763970837,
          0.00009695099288364872,
          0.0000966433944995515,
          0.00009633646550355479,
          0.00009603229409549385,
          0.0000957283700699918,
          0.00009542668703943491,
          0.00009512484393781051,
          0.00009482490713708103,
          0.00009452673111809418,
          0.00009423040319234133,
          0.00009393509390065446,
          0.00009364181460114196,
          0.00009334916830994189,
          0.00009305899584433064,
          0.0000927686269278638,
          0.00009247891284758225,
          0.00009219249477609992,
          0.00009190665878122672,
          0.00009162179776467383,
          0.00009133891580859199,
          0.00009105657954933122,
          0.00009077702998183668,
          0.00009049779328051955,
          0.00009021856385516003,
          0.00008994252129923552,
          0.00008966594032244757,
          0.00008939144754549488,
          0.00008911819895729423,
          0.00008884574344847351,
          0.00008857509237714112,
          0.00008830673323245719,
          0.00008803904347587377,
          0.00008777180482866243,
          0.00008750568667892367,
          0.00008724067447474226,
          0.00008697700104676187,
          0.0000867146736709401,
          0.00008645302295917645,
          0.000086194348114077,
          0.00008593669190304354,
          0.00008567737677367404,
          0.00008542118303012103,
          0.00008516534580849111,
          0.00008491146581945941,
          0.00008465755672659725,
          0.00008440639066975564,
          0.00008415467164013535,
          0.0000839052299852483,
          0.0000836564286146313,
          0.00008340929343830794,
          0.00008316228922922164,
          0.00008291725680464879,
          0.0000826726682134904,
          0.00008242733747465536,
          0.00008218600851250812,
          0.00008194510155590251,
          0.00008170521323336288,
          0.0000814660670584999,
          0.0000812283469713293,
          0.00008099075785139576,
          0.00008075494406512007,
          0.00008051852637436241,
          0.00008028510637814179,
          0.00008005173003766686,
          0.00007981985254446045,
          0.00007958876813063398,
          0.00007935972098493949,
          0.0000791306301834993,
          0.0000789026526035741,
          0.00007867461681598797,
          0.00007844873471185565,
          0.00007822277984814718,
          0.00007799967715982348,
          0.0000777757159085013,
          0.00007755433034617454,
          0.00007733221718808636,
          0.00007711263606324792,
          0.00007689172343816608,
          0.00007667347381357104,
          0.00007645547884749249,
          0.00007623796409461647,
          0.00007602317782584578,
          0.00007580833334941417,
          0.00007559406367363408,
          0.00007538139470852911,
          0.0000751689076423645,
          0.00007495813770219684,
          0.0000747469239286147,
          0.00007453673606505617,
          0.00007432940765284002,
          0.00007412122067762539,
          0.00007391339750029147,
          0.00007370692765107378,
          0.00007350283703999594,
          0.00007329812069656327,
          0.00007309435022762045,
          0.00007289140921784565,
          0.00007268793706316501,
          0.00007248748443089426,
          0.00007228793401736766,
          0.00007208852184703574,
          0.00007188934250734746,
          0.00007169215678004548,
          0.00007149457087507471,
          0.00007129891309887171,
          0.00007110235310392454,
          0.00007090784492902458,
          0.00007071351137710735,
          0.00007052087312331423,
          0.00007032808935036883,
          0.00007013633876340464,
          0.00006994667637627572,
          0.00006975589349167421,
          0.00006956636207178235,
          0.0000693779657012783,
          0.0000691903114784509,
          0.00006900267180753872,
          0.00006881551234982908,
          0.00006863150338176638,
          0.00006844630115665495,
          0.00006826176831964403,
          0.00006807931640651077,
          0.00006789638428017497,
          0.00006771401240257546,
          0.00006753300840500742,
          0.00006735307397320867,
          0.0000671722082188353,
          0.00006699362711515278,
          0.00006681502418359742,
          0.00006663887324975803,
          0.00006646040128543973,
          0.00006628474511671811,
          0.00006611046410398558,
          0.00006593309808522463,
          0.00006575923907803372,
          0.00006558666791534051,
          0.00006541279435623437,
          0.00006524119817186147,
          0.00006506993668153882,
          0.00006490003579529002,
          0.00006472897075582296,
          0.00006455900438595563,
          0.00006438972195610404,
          0.00006422298611141741,
          0.0000640547732473351,
          0.00006388621841324493,
          0.00006372118514264002,
          0.00006355615187203512,
          0.00006338992534438148,
          0.00006322610715869814,
          0.00006306219438556582,
          0.00006289935845416039,
          0.00006273452891036868,
          0.00006257386121433228,
          0.00006241184019017965,
          0.00006225262768566608,
          0.00006209143612068146,
          0.00006193338049342856,
          0.0000617737096035853,
          0.000061615755839739,
          0.00006145717634353787,
          0.0000613012962276116,
          0.00006114276038715616,
          0.0000609880116826389,
          0.000060832542658317834,
          0.00006067817594157532,
          0.00006052486423868686,
          0.00006037066486896947,
          0.00006021603985573165,
          0.000060064725403208286,
          0.00005991220677969977,
          0.00005976149986963719,
          0.00005961009082966484,
          0.00005946042438154109,
          0.000059311481891199946,
          0.00005916235750191845,
          0.00005901376425754279,
          0.000058864236052613705,
          0.00005871767643839121,
          0.00005857040741830133,
          0.00005842433893121779,
          0.00005827758286613971,
          0.00005813304233015515,
          0.00005798911661258899,
          0.00005784438326372765,
          0.000057700050092535093,
          0.000057557681429898366,
          0.000057415007177041844,
          0.00005727259485865943,
          0.00005713083010050468,
          0.00005698936729459092,
          0.00005685014548362233,
          0.00005670926839229651,
          0.0000565696791454684,
          0.00005643088661599904,
          0.00005629241422866471,
          0.0000561540546186734,
          0.000056016349844867364,
          0.00005587952182395384,
          0.000055742275435477495,
          0.0000556067461729981,
          0.000055471416999353096,
          0.00005533589865081012,
          0.00005520130071090534,
          0.00005506748129846528,
          0.00005493345815921202,
          0.00005480086474562995,
          0.00005466671791509725,
          0.000054535645176656544,
          0.00005440476525109261,
          0.00005427300129667856,
          0.0000541422632522881,
          0.00005401071030064486,
          0.000053881762141827494,
          0.000053751191444462165,
          0.000053623287385562435,
          0.00005349344064597972,
          0.00005336624235496856,
          0.000053238611144479364,
          0.000053111041779629886,
          0.00005298515679896809,
          0.00005285854422254488,
          0.000052732459153048694,
          0.00005260774923954159,
          0.00005248177330940962,
          0.000052356688684085384,
          0.00005223318294156343,
          0.000052109982789261267,
          0.000051985945901833475,
          0.000051864171837223694,
          0.00005174168472876772,
          0.00005161904118722305,
          0.00005149667413206771,
          0.000051376267947489396,
          0.000051255196012789384,
          0.000051135706598870456,
          0.00005101603164803237,
          0.000050896447646664456,
          0.000050776889111148193,
          0.00005065797449788079,
          0.000050540165830170736,
          0.00005042129851062782,
          0.00005030533793615177,
          0.00005018713272875175,
          0.00005006990613765083,
          0.00004995435301680118,
          0.00004983928010915406,
          0.000049723614210961387,
          0.000049607919208938256,
          0.00004949361755279824,
          0.000049379017582396045,
          0.00004926435212837532,
          0.00004915124372928403,
          0.00004903860462945886,
          0.000048925492592388764,
          0.00004881285349256359,
          0.000048700003389967605,
          0.00004859014370595105,
          0.0000484778756799642,
          0.000048365298425778747,
          0.00004825624273507856,
          0.00004814544445252977,
          0.00004803640331374481,
          0.00004792683830601163,
          0.00004781710231327452,
          0.00004770937084686011,
          0.00004760175943374634,
          0.00004749251820612699,
          0.00004738548523164354,
          0.000047277691919589415,
          0.00004717012416222133,
          0.00004706411709776148,
          0.00004695865209214389,
          0.000046852510422468185,
          0.00004674650699598715,
          0.00004664259176934138,
          0.00004653623545891605,
          0.00004643200009013526,
          0.00004632792479242198,
          0.00004622337291948497,
          0.00004612081102095544,
          0.00004601804539561272,
          0.00004591475226334296,
          0.000045811910240445286,
          0.000045709151891060174,
          0.00004560881279758178,
          0.000045507018512580544,
          0.00004540707959677093,
          0.000045304757804842666,
          0.00004520450602285564,
          0.00004510373037192039,
          0.00004500426075537689,
          0.00004490549326874316,
          0.00004480564166442491,
          0.00004470654312171973,
          0.000044608521420741454,
          0.00004451032873475924,
          0.00004441173223312944,
          0.00004431409979588352,
          0.00004421750418259762,
          0.00004411974805407226,
          0.000044024262024322525,
          0.00004392766277305782,
          0.0000438314164057374,
          0.000043735602957895026,
          0.00004364071719464846
         ],
         "yaxis": "y"
        }
       ],
       "layout": {
        "legend": {
         "title": {
          "text": "variable"
         },
         "tracegroupgap": 0
        },
        "margin": {
         "t": 60
        },
        "template": {
         "data": {
          "bar": [
           {
            "error_x": {
             "color": "#2a3f5f"
            },
            "error_y": {
             "color": "#2a3f5f"
            },
            "marker": {
             "line": {
              "color": "#E5ECF6",
              "width": 0.5
             },
             "pattern": {
              "fillmode": "overlay",
              "size": 10,
              "solidity": 0.2
             }
            },
            "type": "bar"
           }
          ],
          "barpolar": [
           {
            "marker": {
             "line": {
              "color": "#E5ECF6",
              "width": 0.5
             },
             "pattern": {
              "fillmode": "overlay",
              "size": 10,
              "solidity": 0.2
             }
            },
            "type": "barpolar"
           }
          ],
          "carpet": [
           {
            "aaxis": {
             "endlinecolor": "#2a3f5f",
             "gridcolor": "white",
             "linecolor": "white",
             "minorgridcolor": "white",
             "startlinecolor": "#2a3f5f"
            },
            "baxis": {
             "endlinecolor": "#2a3f5f",
             "gridcolor": "white",
             "linecolor": "white",
             "minorgridcolor": "white",
             "startlinecolor": "#2a3f5f"
            },
            "type": "carpet"
           }
          ],
          "choropleth": [
           {
            "colorbar": {
             "outlinewidth": 0,
             "ticks": ""
            },
            "type": "choropleth"
           }
          ],
          "contour": [
           {
            "colorbar": {
             "outlinewidth": 0,
             "ticks": ""
            },
            "colorscale": [
             [
              0,
              "#0d0887"
             ],
             [
              0.1111111111111111,
              "#46039f"
             ],
             [
              0.2222222222222222,
              "#7201a8"
             ],
             [
              0.3333333333333333,
              "#9c179e"
             ],
             [
              0.4444444444444444,
              "#bd3786"
             ],
             [
              0.5555555555555556,
              "#d8576b"
             ],
             [
              0.6666666666666666,
              "#ed7953"
             ],
             [
              0.7777777777777778,
              "#fb9f3a"
             ],
             [
              0.8888888888888888,
              "#fdca26"
             ],
             [
              1,
              "#f0f921"
             ]
            ],
            "type": "contour"
           }
          ],
          "contourcarpet": [
           {
            "colorbar": {
             "outlinewidth": 0,
             "ticks": ""
            },
            "type": "contourcarpet"
           }
          ],
          "heatmap": [
           {
            "colorbar": {
             "outlinewidth": 0,
             "ticks": ""
            },
            "colorscale": [
             [
              0,
              "#0d0887"
             ],
             [
              0.1111111111111111,
              "#46039f"
             ],
             [
              0.2222222222222222,
              "#7201a8"
             ],
             [
              0.3333333333333333,
              "#9c179e"
             ],
             [
              0.4444444444444444,
              "#bd3786"
             ],
             [
              0.5555555555555556,
              "#d8576b"
             ],
             [
              0.6666666666666666,
              "#ed7953"
             ],
             [
              0.7777777777777778,
              "#fb9f3a"
             ],
             [
              0.8888888888888888,
              "#fdca26"
             ],
             [
              1,
              "#f0f921"
             ]
            ],
            "type": "heatmap"
           }
          ],
          "heatmapgl": [
           {
            "colorbar": {
             "outlinewidth": 0,
             "ticks": ""
            },
            "colorscale": [
             [
              0,
              "#0d0887"
             ],
             [
              0.1111111111111111,
              "#46039f"
             ],
             [
              0.2222222222222222,
              "#7201a8"
             ],
             [
              0.3333333333333333,
              "#9c179e"
             ],
             [
              0.4444444444444444,
              "#bd3786"
             ],
             [
              0.5555555555555556,
              "#d8576b"
             ],
             [
              0.6666666666666666,
              "#ed7953"
             ],
             [
              0.7777777777777778,
              "#fb9f3a"
             ],
             [
              0.8888888888888888,
              "#fdca26"
             ],
             [
              1,
              "#f0f921"
             ]
            ],
            "type": "heatmapgl"
           }
          ],
          "histogram": [
           {
            "marker": {
             "pattern": {
              "fillmode": "overlay",
              "size": 10,
              "solidity": 0.2
             }
            },
            "type": "histogram"
           }
          ],
          "histogram2d": [
           {
            "colorbar": {
             "outlinewidth": 0,
             "ticks": ""
            },
            "colorscale": [
             [
              0,
              "#0d0887"
             ],
             [
              0.1111111111111111,
              "#46039f"
             ],
             [
              0.2222222222222222,
              "#7201a8"
             ],
             [
              0.3333333333333333,
              "#9c179e"
             ],
             [
              0.4444444444444444,
              "#bd3786"
             ],
             [
              0.5555555555555556,
              "#d8576b"
             ],
             [
              0.6666666666666666,
              "#ed7953"
             ],
             [
              0.7777777777777778,
              "#fb9f3a"
             ],
             [
              0.8888888888888888,
              "#fdca26"
             ],
             [
              1,
              "#f0f921"
             ]
            ],
            "type": "histogram2d"
           }
          ],
          "histogram2dcontour": [
           {
            "colorbar": {
             "outlinewidth": 0,
             "ticks": ""
            },
            "colorscale": [
             [
              0,
              "#0d0887"
             ],
             [
              0.1111111111111111,
              "#46039f"
             ],
             [
              0.2222222222222222,
              "#7201a8"
             ],
             [
              0.3333333333333333,
              "#9c179e"
             ],
             [
              0.4444444444444444,
              "#bd3786"
             ],
             [
              0.5555555555555556,
              "#d8576b"
             ],
             [
              0.6666666666666666,
              "#ed7953"
             ],
             [
              0.7777777777777778,
              "#fb9f3a"
             ],
             [
              0.8888888888888888,
              "#fdca26"
             ],
             [
              1,
              "#f0f921"
             ]
            ],
            "type": "histogram2dcontour"
           }
          ],
          "mesh3d": [
           {
            "colorbar": {
             "outlinewidth": 0,
             "ticks": ""
            },
            "type": "mesh3d"
           }
          ],
          "parcoords": [
           {
            "line": {
             "colorbar": {
              "outlinewidth": 0,
              "ticks": ""
             }
            },
            "type": "parcoords"
           }
          ],
          "pie": [
           {
            "automargin": true,
            "type": "pie"
           }
          ],
          "scatter": [
           {
            "fillpattern": {
             "fillmode": "overlay",
             "size": 10,
             "solidity": 0.2
            },
            "type": "scatter"
           }
          ],
          "scatter3d": [
           {
            "line": {
             "colorbar": {
              "outlinewidth": 0,
              "ticks": ""
             }
            },
            "marker": {
             "colorbar": {
              "outlinewidth": 0,
              "ticks": ""
             }
            },
            "type": "scatter3d"
           }
          ],
          "scattercarpet": [
           {
            "marker": {
             "colorbar": {
              "outlinewidth": 0,
              "ticks": ""
             }
            },
            "type": "scattercarpet"
           }
          ],
          "scattergeo": [
           {
            "marker": {
             "colorbar": {
              "outlinewidth": 0,
              "ticks": ""
             }
            },
            "type": "scattergeo"
           }
          ],
          "scattergl": [
           {
            "marker": {
             "colorbar": {
              "outlinewidth": 0,
              "ticks": ""
             }
            },
            "type": "scattergl"
           }
          ],
          "scattermapbox": [
           {
            "marker": {
             "colorbar": {
              "outlinewidth": 0,
              "ticks": ""
             }
            },
            "type": "scattermapbox"
           }
          ],
          "scatterpolar": [
           {
            "marker": {
             "colorbar": {
              "outlinewidth": 0,
              "ticks": ""
             }
            },
            "type": "scatterpolar"
           }
          ],
          "scatterpolargl": [
           {
            "marker": {
             "colorbar": {
              "outlinewidth": 0,
              "ticks": ""
             }
            },
            "type": "scatterpolargl"
           }
          ],
          "scatterternary": [
           {
            "marker": {
             "colorbar": {
              "outlinewidth": 0,
              "ticks": ""
             }
            },
            "type": "scatterternary"
           }
          ],
          "surface": [
           {
            "colorbar": {
             "outlinewidth": 0,
             "ticks": ""
            },
            "colorscale": [
             [
              0,
              "#0d0887"
             ],
             [
              0.1111111111111111,
              "#46039f"
             ],
             [
              0.2222222222222222,
              "#7201a8"
             ],
             [
              0.3333333333333333,
              "#9c179e"
             ],
             [
              0.4444444444444444,
              "#bd3786"
             ],
             [
              0.5555555555555556,
              "#d8576b"
             ],
             [
              0.6666666666666666,
              "#ed7953"
             ],
             [
              0.7777777777777778,
              "#fb9f3a"
             ],
             [
              0.8888888888888888,
              "#fdca26"
             ],
             [
              1,
              "#f0f921"
             ]
            ],
            "type": "surface"
           }
          ],
          "table": [
           {
            "cells": {
             "fill": {
              "color": "#EBF0F8"
             },
             "line": {
              "color": "white"
             }
            },
            "header": {
             "fill": {
              "color": "#C8D4E3"
             },
             "line": {
              "color": "white"
             }
            },
            "type": "table"
           }
          ]
         },
         "layout": {
          "annotationdefaults": {
           "arrowcolor": "#2a3f5f",
           "arrowhead": 0,
           "arrowwidth": 1
          },
          "autotypenumbers": "strict",
          "coloraxis": {
           "colorbar": {
            "outlinewidth": 0,
            "ticks": ""
           }
          },
          "colorscale": {
           "diverging": [
            [
             0,
             "#8e0152"
            ],
            [
             0.1,
             "#c51b7d"
            ],
            [
             0.2,
             "#de77ae"
            ],
            [
             0.3,
             "#f1b6da"
            ],
            [
             0.4,
             "#fde0ef"
            ],
            [
             0.5,
             "#f7f7f7"
            ],
            [
             0.6,
             "#e6f5d0"
            ],
            [
             0.7,
             "#b8e186"
            ],
            [
             0.8,
             "#7fbc41"
            ],
            [
             0.9,
             "#4d9221"
            ],
            [
             1,
             "#276419"
            ]
           ],
           "sequential": [
            [
             0,
             "#0d0887"
            ],
            [
             0.1111111111111111,
             "#46039f"
            ],
            [
             0.2222222222222222,
             "#7201a8"
            ],
            [
             0.3333333333333333,
             "#9c179e"
            ],
            [
             0.4444444444444444,
             "#bd3786"
            ],
            [
             0.5555555555555556,
             "#d8576b"
            ],
            [
             0.6666666666666666,
             "#ed7953"
            ],
            [
             0.7777777777777778,
             "#fb9f3a"
            ],
            [
             0.8888888888888888,
             "#fdca26"
            ],
            [
             1,
             "#f0f921"
            ]
           ],
           "sequentialminus": [
            [
             0,
             "#0d0887"
            ],
            [
             0.1111111111111111,
             "#46039f"
            ],
            [
             0.2222222222222222,
             "#7201a8"
            ],
            [
             0.3333333333333333,
             "#9c179e"
            ],
            [
             0.4444444444444444,
             "#bd3786"
            ],
            [
             0.5555555555555556,
             "#d8576b"
            ],
            [
             0.6666666666666666,
             "#ed7953"
            ],
            [
             0.7777777777777778,
             "#fb9f3a"
            ],
            [
             0.8888888888888888,
             "#fdca26"
            ],
            [
             1,
             "#f0f921"
            ]
           ]
          },
          "colorway": [
           "#636efa",
           "#EF553B",
           "#00cc96",
           "#ab63fa",
           "#FFA15A",
           "#19d3f3",
           "#FF6692",
           "#B6E880",
           "#FF97FF",
           "#FECB52"
          ],
          "font": {
           "color": "#2a3f5f"
          },
          "geo": {
           "bgcolor": "white",
           "lakecolor": "white",
           "landcolor": "#E5ECF6",
           "showlakes": true,
           "showland": true,
           "subunitcolor": "white"
          },
          "hoverlabel": {
           "align": "left"
          },
          "hovermode": "closest",
          "mapbox": {
           "style": "light"
          },
          "paper_bgcolor": "white",
          "plot_bgcolor": "#E5ECF6",
          "polar": {
           "angularaxis": {
            "gridcolor": "white",
            "linecolor": "white",
            "ticks": ""
           },
           "bgcolor": "#E5ECF6",
           "radialaxis": {
            "gridcolor": "white",
            "linecolor": "white",
            "ticks": ""
           }
          },
          "scene": {
           "xaxis": {
            "backgroundcolor": "#E5ECF6",
            "gridcolor": "white",
            "gridwidth": 2,
            "linecolor": "white",
            "showbackground": true,
            "ticks": "",
            "zerolinecolor": "white"
           },
           "yaxis": {
            "backgroundcolor": "#E5ECF6",
            "gridcolor": "white",
            "gridwidth": 2,
            "linecolor": "white",
            "showbackground": true,
            "ticks": "",
            "zerolinecolor": "white"
           },
           "zaxis": {
            "backgroundcolor": "#E5ECF6",
            "gridcolor": "white",
            "gridwidth": 2,
            "linecolor": "white",
            "showbackground": true,
            "ticks": "",
            "zerolinecolor": "white"
           }
          },
          "shapedefaults": {
           "line": {
            "color": "#2a3f5f"
           }
          },
          "ternary": {
           "aaxis": {
            "gridcolor": "white",
            "linecolor": "white",
            "ticks": ""
           },
           "baxis": {
            "gridcolor": "white",
            "linecolor": "white",
            "ticks": ""
           },
           "bgcolor": "#E5ECF6",
           "caxis": {
            "gridcolor": "white",
            "linecolor": "white",
            "ticks": ""
           }
          },
          "title": {
           "x": 0.05
          },
          "xaxis": {
           "automargin": true,
           "gridcolor": "white",
           "linecolor": "white",
           "ticks": "",
           "title": {
            "standoff": 15
           },
           "zerolinecolor": "white",
           "zerolinewidth": 2
          },
          "yaxis": {
           "automargin": true,
           "gridcolor": "white",
           "linecolor": "white",
           "ticks": "",
           "title": {
            "standoff": 15
           },
           "zerolinecolor": "white",
           "zerolinewidth": 2
          }
         }
        },
        "xaxis": {
         "anchor": "y",
         "domain": [
          0,
          1
         ],
         "title": {
          "text": ""
         }
        },
        "yaxis": {
         "anchor": "x",
         "domain": [
          0,
          1
         ],
         "title": {
          "text": ""
         },
         "type": "log"
        }
       }
      }
     },
     "metadata": {},
     "output_type": "display_data"
    }
   ],
   "source": [
    "line(test_losses, log_y=True)\n",
    "# plt.plot(train_losses)"
   ]
  },
  {
   "cell_type": "code",
   "execution_count": null,
   "metadata": {},
   "outputs": [
    {
     "data": {
      "application/vnd.plotly.v1+json": {
       "config": {
        "plotlyServerURL": "https://plot.ly"
       },
       "data": [
        {
         "hovertemplate": "variable=0<br>index=%{x}<br>value=%{y}<extra></extra>",
         "legendgroup": "0",
         "line": {
          "color": "#636efa",
          "dash": "solid"
         },
         "marker": {
          "symbol": "circle"
         },
         "mode": "lines",
         "name": "0",
         "orientation": "v",
         "showlegend": true,
         "type": "scatter",
         "x": [
          0,
          1,
          2,
          3,
          4,
          5,
          6,
          7,
          8,
          9,
          10,
          11,
          12,
          13,
          14,
          15,
          16,
          17,
          18,
          19,
          20,
          21,
          22,
          23,
          24,
          25,
          26,
          27,
          28,
          29,
          30,
          31,
          32,
          33,
          34,
          35,
          36,
          37,
          38,
          39,
          40,
          41,
          42,
          43,
          44,
          45,
          46,
          47,
          48,
          49,
          50,
          51,
          52,
          53,
          54,
          55,
          56,
          57,
          58,
          59,
          60,
          61,
          62,
          63,
          64,
          65,
          66,
          67,
          68,
          69,
          70,
          71,
          72,
          73,
          74,
          75,
          76,
          77,
          78,
          79,
          80,
          81,
          82,
          83,
          84,
          85,
          86,
          87,
          88,
          89,
          90,
          91,
          92,
          93,
          94,
          95,
          96,
          97,
          98,
          99,
          100,
          101,
          102,
          103,
          104,
          105,
          106,
          107,
          108,
          109,
          110,
          111,
          112,
          113,
          114,
          115,
          116,
          117,
          118,
          119,
          120,
          121,
          122,
          123,
          124,
          125,
          126,
          127,
          128,
          129,
          130,
          131,
          132,
          133,
          134,
          135,
          136,
          137,
          138,
          139,
          140,
          141,
          142,
          143,
          144,
          145,
          146,
          147,
          148,
          149,
          150,
          151,
          152,
          153,
          154,
          155,
          156,
          157,
          158,
          159,
          160,
          161,
          162,
          163,
          164,
          165,
          166,
          167,
          168,
          169,
          170,
          171,
          172,
          173,
          174,
          175,
          176,
          177,
          178,
          179,
          180,
          181,
          182,
          183,
          184,
          185,
          186,
          187,
          188,
          189,
          190,
          191,
          192,
          193,
          194,
          195,
          196,
          197,
          198,
          199,
          200,
          201,
          202,
          203,
          204,
          205,
          206,
          207,
          208,
          209,
          210,
          211,
          212,
          213,
          214,
          215,
          216,
          217,
          218,
          219,
          220,
          221,
          222,
          223,
          224,
          225,
          226,
          227,
          228,
          229,
          230,
          231,
          232,
          233,
          234,
          235,
          236,
          237,
          238,
          239,
          240,
          241,
          242,
          243,
          244,
          245,
          246,
          247,
          248,
          249,
          250,
          251,
          252,
          253,
          254,
          255,
          256,
          257,
          258,
          259,
          260,
          261,
          262,
          263,
          264,
          265,
          266,
          267,
          268,
          269,
          270,
          271,
          272,
          273,
          274,
          275,
          276,
          277,
          278,
          279,
          280,
          281,
          282,
          283,
          284,
          285,
          286,
          287,
          288,
          289,
          290,
          291,
          292,
          293,
          294,
          295,
          296,
          297,
          298,
          299,
          300,
          301,
          302,
          303,
          304,
          305,
          306,
          307,
          308,
          309,
          310,
          311,
          312,
          313,
          314,
          315,
          316,
          317,
          318,
          319,
          320,
          321,
          322,
          323,
          324,
          325,
          326,
          327,
          328,
          329,
          330,
          331,
          332,
          333,
          334,
          335,
          336,
          337,
          338,
          339,
          340,
          341,
          342,
          343,
          344,
          345,
          346,
          347,
          348,
          349,
          350,
          351,
          352,
          353,
          354,
          355,
          356,
          357,
          358,
          359,
          360,
          361,
          362,
          363,
          364,
          365,
          366,
          367,
          368,
          369,
          370,
          371,
          372,
          373,
          374,
          375,
          376,
          377,
          378,
          379,
          380,
          381,
          382,
          383,
          384,
          385,
          386,
          387,
          388,
          389,
          390,
          391,
          392,
          393,
          394,
          395,
          396,
          397,
          398,
          399,
          400,
          401,
          402,
          403,
          404,
          405,
          406,
          407,
          408,
          409,
          410,
          411,
          412,
          413,
          414,
          415,
          416,
          417,
          418,
          419,
          420,
          421,
          422,
          423,
          424,
          425,
          426,
          427,
          428,
          429,
          430,
          431,
          432,
          433,
          434,
          435,
          436,
          437,
          438,
          439,
          440,
          441,
          442,
          443,
          444,
          445,
          446,
          447,
          448,
          449,
          450,
          451,
          452,
          453,
          454,
          455,
          456,
          457,
          458,
          459,
          460,
          461,
          462,
          463,
          464,
          465,
          466,
          467,
          468,
          469,
          470,
          471,
          472,
          473,
          474,
          475,
          476,
          477,
          478,
          479,
          480,
          481,
          482,
          483,
          484,
          485,
          486,
          487,
          488,
          489,
          490,
          491,
          492,
          493,
          494,
          495,
          496,
          497,
          498,
          499,
          500,
          501,
          502,
          503,
          504,
          505,
          506,
          507,
          508,
          509,
          510,
          511,
          512,
          513,
          514,
          515,
          516,
          517,
          518,
          519,
          520,
          521,
          522,
          523,
          524,
          525,
          526,
          527,
          528,
          529,
          530,
          531,
          532,
          533,
          534,
          535,
          536,
          537,
          538,
          539,
          540,
          541,
          542,
          543,
          544,
          545,
          546,
          547,
          548,
          549,
          550,
          551,
          552,
          553,
          554,
          555,
          556,
          557,
          558,
          559,
          560,
          561,
          562,
          563,
          564,
          565,
          566,
          567,
          568,
          569,
          570,
          571,
          572,
          573,
          574,
          575,
          576,
          577,
          578,
          579,
          580,
          581,
          582,
          583,
          584,
          585,
          586,
          587,
          588,
          589,
          590,
          591,
          592,
          593,
          594,
          595,
          596,
          597,
          598,
          599,
          600,
          601,
          602,
          603,
          604,
          605,
          606,
          607,
          608,
          609,
          610,
          611,
          612,
          613,
          614,
          615,
          616,
          617,
          618,
          619,
          620,
          621,
          622,
          623,
          624,
          625,
          626,
          627,
          628,
          629,
          630,
          631,
          632,
          633,
          634,
          635,
          636,
          637,
          638,
          639,
          640,
          641,
          642,
          643,
          644,
          645,
          646,
          647,
          648,
          649,
          650,
          651,
          652,
          653,
          654,
          655,
          656,
          657,
          658,
          659,
          660,
          661,
          662,
          663,
          664,
          665,
          666,
          667,
          668,
          669,
          670,
          671,
          672,
          673,
          674,
          675,
          676,
          677,
          678,
          679,
          680,
          681,
          682,
          683,
          684,
          685,
          686,
          687,
          688,
          689,
          690,
          691,
          692,
          693,
          694,
          695,
          696,
          697,
          698,
          699,
          700,
          701,
          702,
          703,
          704,
          705,
          706,
          707,
          708,
          709,
          710,
          711,
          712,
          713,
          714,
          715,
          716,
          717,
          718,
          719,
          720,
          721,
          722,
          723,
          724,
          725,
          726,
          727,
          728,
          729,
          730,
          731,
          732,
          733,
          734,
          735,
          736,
          737,
          738,
          739,
          740,
          741,
          742,
          743,
          744,
          745,
          746,
          747,
          748,
          749,
          750,
          751,
          752,
          753,
          754,
          755,
          756,
          757,
          758,
          759,
          760,
          761,
          762,
          763,
          764,
          765,
          766,
          767,
          768,
          769,
          770,
          771,
          772,
          773,
          774,
          775,
          776,
          777,
          778,
          779,
          780,
          781,
          782,
          783,
          784,
          785,
          786,
          787,
          788,
          789,
          790,
          791,
          792,
          793,
          794,
          795,
          796,
          797,
          798,
          799,
          800,
          801,
          802,
          803,
          804,
          805,
          806,
          807,
          808,
          809,
          810,
          811,
          812,
          813,
          814,
          815,
          816,
          817,
          818,
          819,
          820,
          821,
          822,
          823,
          824,
          825,
          826,
          827,
          828,
          829,
          830,
          831,
          832,
          833,
          834,
          835,
          836,
          837,
          838,
          839,
          840,
          841,
          842,
          843,
          844,
          845,
          846,
          847,
          848,
          849,
          850,
          851,
          852,
          853,
          854,
          855,
          856,
          857,
          858,
          859,
          860,
          861,
          862,
          863,
          864,
          865,
          866,
          867,
          868,
          869,
          870,
          871,
          872,
          873,
          874,
          875,
          876,
          877,
          878,
          879,
          880,
          881,
          882,
          883,
          884,
          885,
          886,
          887,
          888,
          889,
          890,
          891,
          892,
          893,
          894,
          895,
          896,
          897,
          898,
          899
         ],
         "xaxis": "x",
         "y": [
          2.301990032196045,
          2.271068572998047,
          2.23994779586792,
          2.2092206478118896,
          2.176811695098877,
          2.1434266567230225,
          2.1076362133026123,
          2.070155382156372,
          2.0340754985809326,
          1.9980801343917847,
          1.9673292636871338,
          1.9375600814819336,
          1.9140328168869019,
          1.890297293663025,
          1.8703263998031616,
          1.8486641645431519,
          1.8285305500030518,
          1.813177466392517,
          1.7977007627487183,
          1.7850780487060547,
          1.7640475034713745,
          1.7470600605010986,
          1.7282990217208862,
          1.707759141921997,
          1.684143304824829,
          1.6615384817123413,
          1.6412895917892456,
          1.615416407585144,
          1.589840292930603,
          1.5554484128952026,
          1.5207288265228271,
          1.4847495555877686,
          1.447853684425354,
          1.4046601057052612,
          1.3644217252731323,
          1.321488857269287,
          1.273688554763794,
          1.2271744012832642,
          1.1740831136703491,
          1.1145362854003906,
          1.055804967880249,
          0.998585045337677,
          0.9344625473022461,
          0.8709927797317505,
          0.8093199729919434,
          0.745267391204834,
          0.6857129335403442,
          0.6265265345573425,
          0.5715181231498718,
          0.517713725566864,
          0.468394011259079,
          0.42351245880126953,
          0.37480154633522034,
          0.33606210350990295,
          0.291221559047699,
          0.2551015317440033,
          0.22010841965675354,
          0.18895862996578217,
          0.1602020114660263,
          0.13458159565925598,
          0.11567258834838867,
          0.0959727093577385,
          0.08155813813209534,
          0.06833237409591675,
          0.05873221904039383,
          0.04990093410015106,
          0.04259960353374481,
          0.036075372248888016,
          0.031222213059663773,
          0.02733251266181469,
          0.023842643946409225,
          0.021040376275777817,
          0.018808340653777122,
          0.016962168738245964,
          0.014978194609284401,
          0.013585934415459633,
          0.012280702590942383,
          0.011148259043693542,
          0.010222080163657665,
          0.009298953227698803,
          0.008500603027641773,
          0.007950401864945889,
          0.007358204107731581,
          0.006756930146366358,
          0.006286424584686756,
          0.005878004245460033,
          0.005444241221994162,
          0.005101026501506567,
          0.004754047840833664,
          0.004473147448152304,
          0.0042833187617361546,
          0.004071654286235571,
          0.0038156979717314243,
          0.0036514431703835726,
          0.0034920405596494675,
          0.0033131130039691925,
          0.0031851574312895536,
          0.003001949517056346,
          0.0028868354856967926,
          0.002803441369906068,
          0.0027193098794668913,
          0.0025895119179040194,
          0.002522281603887677,
          0.0024464253801852465,
          0.002365282503888011,
          0.0023117659147828817,
          0.0022096955217421055,
          0.0021499854046851397,
          0.0021094840485602617,
          0.002068719593808055,
          0.001994180493056774,
          0.001963801681995392,
          0.0019234666833654046,
          0.0018742409301921725,
          0.001853539957664907,
          0.0017879009246826172,
          0.0017546433955430984,
          0.0017314881552010775,
          0.0017078530509024858,
          0.0016591619933024049,
          0.0016421641921624541,
          0.0016184309497475624,
          0.001583910547196865,
          0.001575800939463079,
          0.0015281018568202853,
          0.0015064658364281058,
          0.0014901889953762293,
          0.001474240212701261,
          0.0014386108377948403,
          0.0014276693109422922,
          0.0014114391524344683,
          0.0013845361536368728,
          0.0013822632608935237,
          0.0013434424763545394,
          0.001328883576206863,
          0.0013156587956473231,
          0.001303959870710969,
          0.0012757342774420977,
          0.0012688622809946537,
          0.0012565639335662127,
          0.0012337457155808806,
          0.0012346971780061722,
          0.00120096979662776,
          0.0011905819410458207,
          0.0011792590375989676,
          0.0011705746874213219,
          0.0011463674018159509,
          0.0011415740009397268,
          0.001132023986428976,
          0.001112615573219955,
          0.0011146877659484744,
          0.001085318741388619,
          0.0010770575609058142,
          0.0010671202326193452,
          0.001060417271219194,
          0.0010392090771347284,
          0.0010360372252762318,
          0.0010282632429152727,
          0.0010110483272001147,
          0.0010136757045984268,
          0.000987728824838996,
          0.0009809726616367698,
          0.0009720977395772934,
          0.0009667680715210736,
          0.0009480101871304214,
          0.0009458890999667346,
          0.0009394578519277275,
          0.0009238924249075353,
          0.0009269340080209076,
          0.0009037085110321641,
          0.0008980572456493974,
          0.0008900508400984108,
          0.0008857574430294335,
          0.0008689725073054433,
          0.0008675504359416664,
          0.0008621698361821473,
          0.0008480476099066436,
          0.0008513244101777673,
          0.0008304223301820457,
          0.00082563137402758,
          0.0008183288737200201,
          0.0008147937478497624,
          0.0007997145876288414,
          0.0007988822762854397,
          0.0007942959782667458,
          0.000781369861215353,
          0.0007847623201087117,
          0.0007658340036869049,
          0.0007617971277795732,
          0.000755111628677696,
          0.0007521556690335274,
          0.000738547823857516,
          0.0007381337927654386,
          0.0007342075114138424,
          0.0007223595748655498,
          0.0007257675752043724,
          0.0007085629622451961,
          0.0007051440188661218,
          0.0006990195834077895,
          0.0006965243956074119,
          0.0006841927533969283,
          0.000684079306665808,
          0.0006807096651755273,
          0.0006698283250443637,
          0.0006731941248290241,
          0.000657488708384335,
          0.0006545586511492729,
          0.0006489493534900248,
          0.0006468213396146894,
          0.000635601463727653,
          0.0006357257370837033,
          0.0006328379386104643,
          0.0006228075362741947,
          0.0006261146045289934,
          0.0006117022130638361,
          0.000609199982136488,
          0.0006040645530447364,
          0.0006022504530847073,
          0.0005919968243688345,
          0.0005923061980865896,
          0.0005898429080843925,
          0.0005805619293823838,
          0.0005838011275045574,
          0.0005705235525965691,
          0.0005683886120095849,
          0.0005636804853565991,
          0.000562127330340445,
          0.0005527297034859657,
          0.0005531699862331152,
          0.0005510695627890527,
          0.0005424552364274859,
          0.0005456233047880232,
          0.0005333537119440734,
          0.0005315309972502291,
          0.000527199765201658,
          0.0005258712917566299,
          0.0005172318196855485,
          0.0005177754792384803,
          0.0005159850115887821,
          0.0005079704569652677,
          0.000511059770360589,
          0.0004996950156055391,
          0.0004981373785994947,
          0.000494147592689842,
          0.0004930117866024375,
          0.0004850531986448914,
          0.0004856671148445457,
          0.00048414740012958646,
          0.0004766701895277947,
          0.0004796783032361418,
          0.00046912222751416266,
          0.0004677890974562615,
          0.00046411162475124,
          0.00046313609345816076,
          0.00045578545541502535,
          0.0004564494302030653,
          0.00045515852980315685,
          0.00044817267917096615,
          0.00045109959319233894,
          0.00044126613647677004,
          0.0004401266050990671,
          0.00043673402979038656,
          0.00043589179404079914,
          0.0004290817305445671,
          0.0004297848790884018,
          0.0004286973853595555,
          0.0004221529816277325,
          0.00042499788105487823,
          0.0004158135561738163,
          0.00041483977111056447,
          0.0004117040953133255,
          0.000410973938414827,
          0.00040465276106260717,
          0.00040537910535931587,
          0.00040447135688737035,
          0.00039832876063883305,
          0.0004010929842479527,
          0.0003924966440536082,
          0.00039166491478681564,
          0.0003887642815243453,
          0.00038812780985608697,
          0.0003822518337983638,
          0.0003829921188298613,
          0.0003822420258074999,
          0.00037646389682777226,
          0.0003791486378759146,
          0.000371084752259776,
          0.0003703770926222205,
          0.0003676869091577828,
          0.0003671359736472368,
          0.00036165924393571913,
          0.00036240750341676176,
          0.00036179713788442314,
          0.0003563494828995317,
          0.0003589499683585018,
          0.00035137261147610843,
          0.0003507730725686997,
          0.0003482690663076937,
          0.0003477955178823322,
          0.00034268127637915313,
          0.0003434311074670404,
          0.00034294271608814597,
          0.00033779931254684925,
          0.0003403176961001009,
          0.0003331846965011209,
          0.000332680472638458,
          0.0003303417470306158,
          0.000329941714880988,
          0.0003251537855248898,
          0.0003259000077378005,
          0.00032551976619288325,
          0.0003206559631507844,
          0.0003230949805583805,
          0.00031636565108783543,
          0.00031594614847563207,
          0.00031375783146359026,
          0.00031342310830950737,
          0.00030893218354322016,
          0.0003096718282904476,
          0.00030937898554839194,
          0.0003047810459975153,
          0.00030713420710526407,
          0.0003007777559105307,
          0.00030043229344300926,
          0.0002983839367516339,
          0.0002981042198371142,
          0.00029388206894509494,
          0.00029461688245646656,
          0.0002944006701000035,
          0.00029004650423303246,
          0.0002923195715993643,
          0.00028630546876229346,
          0.000286028312984854,
          0.00028410652885213494,
          0.0002838734944816679,
          0.0002798969217110425,
          0.0002806284464895725,
          0.0002804772520903498,
          0.0002763477386906743,
          0.00027854222571477294,
          0.00027284384123049676,
          0.0002726298407651484,
          0.00027082403539679945,
          0.0002706336963456124,
          0.00026688427897170186,
          0.00026760660693980753,
          0.0002675143477972597,
          0.00026358963805250823,
          0.00026571014313958585,
          0.0002603039611130953,
          0.0002601470332592726,
          0.00025844815536402166,
          0.00025829518563114107,
          0.00025474984431639314,
          0.0002554673992563039,
          0.00025542356888763607,
          0.0002516921085771173,
          0.0002537420659791678,
          0.00024860582198016346,
          0.00024849988403730094,
          0.00024689818383194506,
          0.0002467793528921902,
          0.00024342343385796994,
          0.00024413126811850816,
          0.0002441310789436102,
          0.00024057865084614605,
          0.00024255788594018668,
          0.00023767542734276503,
          0.00023761378542985767,
          0.00023610061907675117,
          0.00023601397697348148,
          0.00023283051268663257,
          0.0002335268072783947,
          0.0002335682074772194,
          0.00023018075444269925,
          0.00023209214850794524,
          0.00022744557645637542,
          0.00022742045985069126,
          0.0002259925240650773,
          0.00022593094035983086,
          0.000222908376599662,
          0.00022359447029884905,
          0.00022366979101207107,
          0.00022043616627343,
          0.00022228500165510923,
          0.00021785787248518318,
          0.00021786575962323695,
          0.00021651785937137902,
          0.00021647852554451674,
          0.0002136028342647478,
          0.00021427958563435823,
          0.00021438280236907303,
          0.00021129508968442678,
          0.00021308135183062404,
          0.00020885842968709767,
          0.00020889700681436807,
          0.00020762217172887176,
          0.00020760312327183783,
          0.00020486643188633025,
          0.00020553162903524935,
          0.00020566035527735949,
          0.00020270806271582842,
          0.00020443453104235232,
          0.00020040613890159875,
          0.00020046760619152337,
          0.0001992624020203948,
          0.00019926088862121105,
          0.0001966545096365735,
          0.0001973066246137023,
          0.00019745994359254837,
          0.00019463167700450867,
          0.00019630312453955412,
          0.00019245412840973586,
          0.00019253518257755786,
          0.00019139597134198993,
          0.00019141126540489495,
          0.00018892389198299497,
          0.00018956430722028017,
          0.00018973635451402515,
          0.00018702638044487685,
          0.00018864368030335754,
          0.000184961871127598,
          0.00018506291962694377,
          0.0001839831384131685,
          0.00018401276611257344,
          0.00018163624918088317,
          0.00018226401880383492,
          0.0001824552018661052,
          0.0001798549055820331,
          0.00018141807231586426,
          0.0001778965670382604,
          0.00017801379726734012,
          0.00017698899318929762,
          0.00017703097546473145,
          0.00017475987260695547,
          0.0001753754186211154,
          0.00017558271065354347,
          0.00017308622773271054,
          0.00017459677474107593,
          0.00017122688586823642,
          0.00017135788220912218,
          0.00017038661462720484,
          0.0001704374299151823,
          0.0001682633883319795,
          0.00016886909725144506,
          0.00016908835095819086,
          0.00016668780881445855,
          0.0001681517605902627,
          0.00016492295253556222,
          0.0001650651392992586,
          0.00016414219862781465,
          0.00016420264728367329,
          0.00016212051559705287,
          0.00016271538333967328,
          0.0001629468606552109,
          0.00016063857765402645,
          0.00016205667634494603,
          0.0001589602034073323,
          0.00015911283844616264,
          0.0001582356489961967,
          0.0001583019911777228,
          0.0001563067053211853,
          0.0001568914158269763,
          0.0001571332395542413,
          0.0001549104053992778,
          0.00015628435357939452,
          0.00015331286704167724,
          0.00015347350563388318,
          0.00015263927343767136,
          0.00015271086886059493,
          0.00015079951845109463,
          0.0001513726165285334,
          0.00015162226918619126,
          0.0001494823954999447,
          0.0001508150016888976,
          0.0001479599013691768,
          0.00014812688459642231,
          0.00014733619173057377,
          0.0001474116725148633,
          0.0001455760357202962,
          0.00014613995153922588,
          0.00014639760775025934,
          0.000144334597280249,
          0.00014562490105163306,
          0.00014288185047917068,
          0.0001430543779861182,
          0.00014230083615984768,
          0.00014238145377021283,
          0.00014061776164453477,
          0.00014117239334154874,
          0.0001414365106029436,
          0.0001394440623698756,
          0.00014069740427657962,
          0.00013805933122057468,
          0.000138235351187177,
          0.00013751850929111242,
          0.0001376036088913679,
          0.00013590687012765557,
          0.0001364522468065843,
          0.00013672148634213954,
          0.00013479792687576264,
          0.00013601405953522772,
          0.00013347754429560155,
          0.00013365519407670945,
          0.00013297161785885692,
          0.0001330589147983119,
          0.0001314260734943673,
          0.0001319626608164981,
          0.00013223545101936907,
          0.0001303771568927914,
          0.0001315593544859439,
          0.000129115825984627,
          0.00012929728836752474,
          0.0001286463375436142,
          0.00012873606465291232,
          0.00012716064520645887,
          0.00012768949090968817,
          0.00012796740338671952,
          0.00012617082393262535,
          0.00012731879542116076,
          0.000124965314171277,
          0.00012514674745034426,
          0.00012452545342966914,
          0.00012461686856113374,
          0.00012309869634918869,
          0.00012361937842797488,
          0.00012389985204208642,
          0.00012216343020554632,
          0.00012327880540397018,
          0.0001210101690958254,
          0.00012119189341319725,
          0.00012059907021466643,
          0.00012069315562257543,
          0.00011922812700504437,
          0.00011973911750828847,
          0.00012002227595075965,
          0.00011833906319225207,
          0.00011942535638809204,
          0.00011723684292519465,
          0.00011741912749130279,
          0.00011685430217767134,
          0.00011694955173879862,
          0.0001155335339717567,
          0.00011603676102822646,
          0.00011632197856670246,
          0.00011469283344922587,
          0.0001157494043582119,
          0.00011363637167960405,
          0.00011382007505744696,
          0.00011327788524795324,
          0.0001133746700361371,
          0.0001120075976359658,
          0.0001125007911468856,
          0.00011278777674306184,
          0.00011121023271698505,
          0.0001122385510825552,
          0.00011019755766028538,
          0.00011038122465834022,
          0.00010986238339683041,
          0.00010995881166309118,
          0.00010863868374144658,
          0.00010912407014984637,
          0.00010940999345621094,
          0.00010788103099912405,
          0.00010888336692005396,
          0.00010691144416341558,
          0.00010709406342357397,
          0.00010659772669896483,
          0.0001066961485776119,
          0.00010542001109570265,
          0.00010589690646156669,
          0.00010618211672408506,
          0.00010469984408700839,
          0.00010567633580649272,
          0.0001037681577145122,
          0.00010395183926448226,
          0.00010347592615289614,
          0.00010357455175835639,
          0.00010233847569907084,
          0.00010280816786689684,
          0.00010309489880455658,
          0.00010165637650061399,
          0.00010260617273161188,
          0.00010076124453917146,
          0.00010094331082655117,
          0.00010048670083051547,
          0.0001005862868623808,
          0.00009938951552612707,
          0.00009985054202843457,
          0.00010013727296609432,
          0.00009873984527075663,
          0.00009966702054953203,
          0.00009787989984033629,
          0.00009806102752918378,
          0.00009762388799572363,
          0.00009772311750566587,
          0.00009656447218731046,
          0.00009701723320176825,
          0.0000973042770056054,
          0.00009594548464519903,
          0.00009685056284070015,
          0.00009511932148598135,
          0.0000952991031226702,
          0.0000948795277508907,
          0.00009497906285105273,
          0.00009385561861563474,
          0.00009430235513718799,
          0.0000945873252931051,
          0.0000932676630327478,
          0.0000941497492021881,
          0.00009247234993381426,
          0.00009265122207580134,
          0.00009224807581631467,
          0.00009234821482095867,
          0.00009125890210270882,
          0.00009169741679215804,
          0.00009198264160659164,
          0.00009069905354408547,
          0.00009155816223938018,
          0.00008993388473754749,
          0.0000901096427696757,
          0.00008972325304057449,
          0.00008982264262158424,
          0.000088765453256201,
          0.00008919710671762004,
          0.00008948146569309756,
          0.00008823328244034201,
          0.00008907149458536878,
          0.00008749649714445695,
          0.00008767056715441868,
          0.00008729867840884253,
          0.00008739794429857284,
          0.00008637202699901536,
          0.00008679823076818138,
          0.00008708085806574672,
          0.00008586419426137581,
          0.00008668270311318338,
          0.00008515497029293329,
          0.00008532760693924502,
          0.00008497003000229597,
          0.00008506996528012678,
          0.00008407289715250954,
          0.0000844916285132058,
          0.00008477184746880084,
          0.00008358899503946304,
          0.00008438771328656003,
          0.00008290573896374553,
          0.00008307619282277301,
          0.0000827311523607932,
          0.00008282998169306666,
          0.00008186345075955614,
          0.00008227559010265395,
          0.00008255357533926144,
          0.00008140203863149509,
          0.00008218085713451728,
          0.00008074261131696403,
          0.00008090945630101487,
          0.00008057924424065277,
          0.00008067831367952749,
          0.00007973733590915799,
          0.00008014315244508907,
          0.00008042050467338413,
          0.0000792976570664905,
          0.00008005924610188231,
          0.00007866100349929184,
          0.00007882807403802872,
          0.00007850825932109728,
          0.00007860839104978368,
          0.00007769309013383463,
          0.00007809328963048756,
          0.00007836746226530522,
          0.00007727299089310691,
          0.00007801698666298762,
          0.00007665866723982617,
          0.00007682364230277017,
          0.00007651581836398691,
          0.0000766144585213624,
          0.00007572530739707872,
          0.00007611827459186316,
          0.00007639094110345468,
          0.00007532360177719966,
          0.00007605203427374363,
          0.00007473136065527797,
          0.00007489421841455624,
          0.00007459901098627597,
          0.00007469661068171263,
          0.00007383071351796389,
          0.00007421689224429429,
          0.00007448897667927667,
          0.00007344682671828195,
          0.00007415891013806686,
          0.00007287473272299394,
          0.00007303550228243694,
          0.00007274961535586044,
          0.00007284804451046512,
          0.00007200597610790282,
          0.0000723857301636599,
          0.00007265424210345373,
          0.00007163833652157336,
          0.00007233552605612203,
          0.0000710843742126599,
          0.00007124624971766025,
          0.00007096906483639032,
          0.00007106604607542977,
          0.00007024521619314328,
          0.00007062072836561128,
          0.00007088622805895284,
          0.0000698945441399701,
          0.00007057568291202188,
          0.00006935915007488802,
          0.00006951892282813787,
          0.00006925214984221384,
          0.00006934661359991878,
          0.00006854895036667585,
          0.00006891774683026597,
          0.0000691800523782149,
          0.00006821381248300895,
          0.00006887941708555445,
          0.00006769465107936412,
          0.00006785267032682896,
          0.00006759525422239676,
          0.00006768861203454435,
          0.00006691108137601987,
          0.0000672740425216034,
          0.00006753613706678152,
          0.00006659032078459859,
          0.00006724255945300683,
          0.00006608951662201434,
          0.00006624406523769721,
          0.00006599527841899544,
          0.00006608924741158262,
          0.00006533063424285501,
          0.00006568824028363451,
          0.00006594687147298828,
          0.00006502569158328697,
          0.00006566262163687497,
          0.00006453745299950242,
          0.00006469259096775204,
          0.000064452899096068,
          0.0000645443651592359,
          0.0000638034543953836,
          0.00006415706593543291,
          0.00006441424193326384,
          0.0000635113101452589,
          0.00006413574010366574,
          0.00006304005364654586,
          0.00006319398380583152,
          0.00006295914499787614,
          0.00006305065471678972,
          0.00006232900341274217,
          0.00006267743447097018,
          0.00006293020851444453,
          0.00006205063255038112,
          0.00006266161653911695,
          0.00006159243639558554,
          0.00006174383452162147,
          0.00006152060814201832,
          0.00006160731572890654,
          0.000060904480051249266,
          0.00006124709034338593,
          0.000061498794821091,
          0.00006063778346288018,
          0.00006123663479229435,
          0.00006019217107677832,
          0.000060344140365486965,
          0.000060125708841951564,
          0.00006021382432663813,
          0.0000595268102188129,
          0.000059864858485525474,
          0.000060114263760624453,
          0.000059271755162626505,
          0.000059858051827177405,
          0.000058838904806179926,
          0.00005898890594835393,
          0.00005877863077330403,
          0.00005886489088879898,
          0.000058194105804432184,
          0.000058528130466584116,
          0.00005877532021258958,
          0.00005795078686787747,
          0.00005852470712852664,
          0.000057531229685992,
          0.000057680044847074896,
          0.000057475710491416976,
          0.00005756008977186866,
          0.00005690605757990852,
          0.00005723576759919524,
          0.00005747838440584019,
          0.000056671906349947676,
          0.00005723509821109474,
          0.00005626518031931482,
          0.000056412332924082875,
          0.000056214277719845995,
          0.00005629828592645936,
          0.00005565887113334611,
          0.00005598340794676915,
          0.00005622449316433631,
          0.00005543442603084259,
          0.00005598719508270733,
          0.000055039996368577704,
          0.00005518439138540998,
          0.00005499413964571431,
          0.00005507491368916817,
          0.000054452371841762215,
          0.000054772128351032734,
          0.00005500989573192783,
          0.00005423790935310535,
          0.00005477888771565631,
          0.00005385379699873738,
          0.00005399627843871713,
          0.000053811760153621435,
          0.000053891355491941795,
          0.000053282052249414846,
          0.000053598032536683604,
          0.00005383332245401107,
          0.0000530778088432271,
          0.00005360872091841884,
          0.000052702973334817216,
          0.000052846404287265614,
          0.000052666349802166224,
          0.00005274572686175816,
          0.000052149513066979125,
          0.00005246133150649257,
          0.000052693369070766494,
          0.000051953607908217236,
          0.00005247439185041003,
          0.00005158861677045934,
          0.00005172856253921054,
          0.00005155688995728269,
          0.00005163446985534392,
          0.00005105164018459618,
          0.00005135930405231193,
          0.00005158887506695464,
          0.000050863975047832355,
          0.000051374907343415543,
          0.00005050955951446667,
          0.00005064783545094542,
          0.000050481397920520976,
          0.00005055640576756559,
          0.00004998631993657909,
          0.000050290487706661224,
          0.00005051810512668453,
          0.0000498075460200198,
          0.00005030847023590468,
          0.00004946239278069697,
          0.00004959994839737192,
          0.00004943623207509518,
          0.00004951289156451821,
          0.00004895469101029448,
          0.00004925378743791953,
          0.000049478327127872035,
          0.0000487815668748226,
          0.000049275255150860175,
          0.00004844596332986839,
          0.00004858102693106048,
          0.000048424219130538404,
          0.000048499197873752564,
          0.000047953602916095406,
          0.000048247802624246106,
          0.00004846909359912388,
          0.00004778803850058466,
          0.00004827157317777164,
          0.000047460209316341206,
          0.00004759611329063773,
          0.00004744193938677199,
          0.00004751505912281573,
          0.00004698144766734913,
          0.00004727340638055466,
          0.00004749152503791265,
          0.00004682282451540232,
          0.00004729807915282436,
          0.000046502846089424565,
          0.00004663770232582465,
          0.00004648849062505178,
          0.00004656014425563626,
          0.00004603829074767418,
          0.000046326244046213105,
          0.000046541401388822123,
          0.00004588545925798826,
          0.00004635014192899689,
          0.00004557508509606123,
          0.00004570792953018099,
          0.00004556403655442409,
          0.000045633543777512386,
          0.0000451212799816858,
          0.00004540538429864682,
          0.000045619421143783256,
          0.000044976233766647056,
          0.000045432938350131735,
          0.00004467231337912381,
          0.000044805212382925674,
          0.00004466392783797346,
          0.00004473371882340871,
          0.00004423230348038487,
          0.00004451301720109768,
          0.000044723052269546315,
          0.00004409309622133151,
          0.0000445414443674963,
          0.00004379630263429135,
          0.0000439273972006049
         ],
         "yaxis": "y"
        }
       ],
       "layout": {
        "legend": {
         "title": {
          "text": "variable"
         },
         "tracegroupgap": 0
        },
        "margin": {
         "t": 60
        },
        "template": {
         "data": {
          "bar": [
           {
            "error_x": {
             "color": "#2a3f5f"
            },
            "error_y": {
             "color": "#2a3f5f"
            },
            "marker": {
             "line": {
              "color": "#E5ECF6",
              "width": 0.5
             },
             "pattern": {
              "fillmode": "overlay",
              "size": 10,
              "solidity": 0.2
             }
            },
            "type": "bar"
           }
          ],
          "barpolar": [
           {
            "marker": {
             "line": {
              "color": "#E5ECF6",
              "width": 0.5
             },
             "pattern": {
              "fillmode": "overlay",
              "size": 10,
              "solidity": 0.2
             }
            },
            "type": "barpolar"
           }
          ],
          "carpet": [
           {
            "aaxis": {
             "endlinecolor": "#2a3f5f",
             "gridcolor": "white",
             "linecolor": "white",
             "minorgridcolor": "white",
             "startlinecolor": "#2a3f5f"
            },
            "baxis": {
             "endlinecolor": "#2a3f5f",
             "gridcolor": "white",
             "linecolor": "white",
             "minorgridcolor": "white",
             "startlinecolor": "#2a3f5f"
            },
            "type": "carpet"
           }
          ],
          "choropleth": [
           {
            "colorbar": {
             "outlinewidth": 0,
             "ticks": ""
            },
            "type": "choropleth"
           }
          ],
          "contour": [
           {
            "colorbar": {
             "outlinewidth": 0,
             "ticks": ""
            },
            "colorscale": [
             [
              0,
              "#0d0887"
             ],
             [
              0.1111111111111111,
              "#46039f"
             ],
             [
              0.2222222222222222,
              "#7201a8"
             ],
             [
              0.3333333333333333,
              "#9c179e"
             ],
             [
              0.4444444444444444,
              "#bd3786"
             ],
             [
              0.5555555555555556,
              "#d8576b"
             ],
             [
              0.6666666666666666,
              "#ed7953"
             ],
             [
              0.7777777777777778,
              "#fb9f3a"
             ],
             [
              0.8888888888888888,
              "#fdca26"
             ],
             [
              1,
              "#f0f921"
             ]
            ],
            "type": "contour"
           }
          ],
          "contourcarpet": [
           {
            "colorbar": {
             "outlinewidth": 0,
             "ticks": ""
            },
            "type": "contourcarpet"
           }
          ],
          "heatmap": [
           {
            "colorbar": {
             "outlinewidth": 0,
             "ticks": ""
            },
            "colorscale": [
             [
              0,
              "#0d0887"
             ],
             [
              0.1111111111111111,
              "#46039f"
             ],
             [
              0.2222222222222222,
              "#7201a8"
             ],
             [
              0.3333333333333333,
              "#9c179e"
             ],
             [
              0.4444444444444444,
              "#bd3786"
             ],
             [
              0.5555555555555556,
              "#d8576b"
             ],
             [
              0.6666666666666666,
              "#ed7953"
             ],
             [
              0.7777777777777778,
              "#fb9f3a"
             ],
             [
              0.8888888888888888,
              "#fdca26"
             ],
             [
              1,
              "#f0f921"
             ]
            ],
            "type": "heatmap"
           }
          ],
          "heatmapgl": [
           {
            "colorbar": {
             "outlinewidth": 0,
             "ticks": ""
            },
            "colorscale": [
             [
              0,
              "#0d0887"
             ],
             [
              0.1111111111111111,
              "#46039f"
             ],
             [
              0.2222222222222222,
              "#7201a8"
             ],
             [
              0.3333333333333333,
              "#9c179e"
             ],
             [
              0.4444444444444444,
              "#bd3786"
             ],
             [
              0.5555555555555556,
              "#d8576b"
             ],
             [
              0.6666666666666666,
              "#ed7953"
             ],
             [
              0.7777777777777778,
              "#fb9f3a"
             ],
             [
              0.8888888888888888,
              "#fdca26"
             ],
             [
              1,
              "#f0f921"
             ]
            ],
            "type": "heatmapgl"
           }
          ],
          "histogram": [
           {
            "marker": {
             "pattern": {
              "fillmode": "overlay",
              "size": 10,
              "solidity": 0.2
             }
            },
            "type": "histogram"
           }
          ],
          "histogram2d": [
           {
            "colorbar": {
             "outlinewidth": 0,
             "ticks": ""
            },
            "colorscale": [
             [
              0,
              "#0d0887"
             ],
             [
              0.1111111111111111,
              "#46039f"
             ],
             [
              0.2222222222222222,
              "#7201a8"
             ],
             [
              0.3333333333333333,
              "#9c179e"
             ],
             [
              0.4444444444444444,
              "#bd3786"
             ],
             [
              0.5555555555555556,
              "#d8576b"
             ],
             [
              0.6666666666666666,
              "#ed7953"
             ],
             [
              0.7777777777777778,
              "#fb9f3a"
             ],
             [
              0.8888888888888888,
              "#fdca26"
             ],
             [
              1,
              "#f0f921"
             ]
            ],
            "type": "histogram2d"
           }
          ],
          "histogram2dcontour": [
           {
            "colorbar": {
             "outlinewidth": 0,
             "ticks": ""
            },
            "colorscale": [
             [
              0,
              "#0d0887"
             ],
             [
              0.1111111111111111,
              "#46039f"
             ],
             [
              0.2222222222222222,
              "#7201a8"
             ],
             [
              0.3333333333333333,
              "#9c179e"
             ],
             [
              0.4444444444444444,
              "#bd3786"
             ],
             [
              0.5555555555555556,
              "#d8576b"
             ],
             [
              0.6666666666666666,
              "#ed7953"
             ],
             [
              0.7777777777777778,
              "#fb9f3a"
             ],
             [
              0.8888888888888888,
              "#fdca26"
             ],
             [
              1,
              "#f0f921"
             ]
            ],
            "type": "histogram2dcontour"
           }
          ],
          "mesh3d": [
           {
            "colorbar": {
             "outlinewidth": 0,
             "ticks": ""
            },
            "type": "mesh3d"
           }
          ],
          "parcoords": [
           {
            "line": {
             "colorbar": {
              "outlinewidth": 0,
              "ticks": ""
             }
            },
            "type": "parcoords"
           }
          ],
          "pie": [
           {
            "automargin": true,
            "type": "pie"
           }
          ],
          "scatter": [
           {
            "fillpattern": {
             "fillmode": "overlay",
             "size": 10,
             "solidity": 0.2
            },
            "type": "scatter"
           }
          ],
          "scatter3d": [
           {
            "line": {
             "colorbar": {
              "outlinewidth": 0,
              "ticks": ""
             }
            },
            "marker": {
             "colorbar": {
              "outlinewidth": 0,
              "ticks": ""
             }
            },
            "type": "scatter3d"
           }
          ],
          "scattercarpet": [
           {
            "marker": {
             "colorbar": {
              "outlinewidth": 0,
              "ticks": ""
             }
            },
            "type": "scattercarpet"
           }
          ],
          "scattergeo": [
           {
            "marker": {
             "colorbar": {
              "outlinewidth": 0,
              "ticks": ""
             }
            },
            "type": "scattergeo"
           }
          ],
          "scattergl": [
           {
            "marker": {
             "colorbar": {
              "outlinewidth": 0,
              "ticks": ""
             }
            },
            "type": "scattergl"
           }
          ],
          "scattermapbox": [
           {
            "marker": {
             "colorbar": {
              "outlinewidth": 0,
              "ticks": ""
             }
            },
            "type": "scattermapbox"
           }
          ],
          "scatterpolar": [
           {
            "marker": {
             "colorbar": {
              "outlinewidth": 0,
              "ticks": ""
             }
            },
            "type": "scatterpolar"
           }
          ],
          "scatterpolargl": [
           {
            "marker": {
             "colorbar": {
              "outlinewidth": 0,
              "ticks": ""
             }
            },
            "type": "scatterpolargl"
           }
          ],
          "scatterternary": [
           {
            "marker": {
             "colorbar": {
              "outlinewidth": 0,
              "ticks": ""
             }
            },
            "type": "scatterternary"
           }
          ],
          "surface": [
           {
            "colorbar": {
             "outlinewidth": 0,
             "ticks": ""
            },
            "colorscale": [
             [
              0,
              "#0d0887"
             ],
             [
              0.1111111111111111,
              "#46039f"
             ],
             [
              0.2222222222222222,
              "#7201a8"
             ],
             [
              0.3333333333333333,
              "#9c179e"
             ],
             [
              0.4444444444444444,
              "#bd3786"
             ],
             [
              0.5555555555555556,
              "#d8576b"
             ],
             [
              0.6666666666666666,
              "#ed7953"
             ],
             [
              0.7777777777777778,
              "#fb9f3a"
             ],
             [
              0.8888888888888888,
              "#fdca26"
             ],
             [
              1,
              "#f0f921"
             ]
            ],
            "type": "surface"
           }
          ],
          "table": [
           {
            "cells": {
             "fill": {
              "color": "#EBF0F8"
             },
             "line": {
              "color": "white"
             }
            },
            "header": {
             "fill": {
              "color": "#C8D4E3"
             },
             "line": {
              "color": "white"
             }
            },
            "type": "table"
           }
          ]
         },
         "layout": {
          "annotationdefaults": {
           "arrowcolor": "#2a3f5f",
           "arrowhead": 0,
           "arrowwidth": 1
          },
          "autotypenumbers": "strict",
          "coloraxis": {
           "colorbar": {
            "outlinewidth": 0,
            "ticks": ""
           }
          },
          "colorscale": {
           "diverging": [
            [
             0,
             "#8e0152"
            ],
            [
             0.1,
             "#c51b7d"
            ],
            [
             0.2,
             "#de77ae"
            ],
            [
             0.3,
             "#f1b6da"
            ],
            [
             0.4,
             "#fde0ef"
            ],
            [
             0.5,
             "#f7f7f7"
            ],
            [
             0.6,
             "#e6f5d0"
            ],
            [
             0.7,
             "#b8e186"
            ],
            [
             0.8,
             "#7fbc41"
            ],
            [
             0.9,
             "#4d9221"
            ],
            [
             1,
             "#276419"
            ]
           ],
           "sequential": [
            [
             0,
             "#0d0887"
            ],
            [
             0.1111111111111111,
             "#46039f"
            ],
            [
             0.2222222222222222,
             "#7201a8"
            ],
            [
             0.3333333333333333,
             "#9c179e"
            ],
            [
             0.4444444444444444,
             "#bd3786"
            ],
            [
             0.5555555555555556,
             "#d8576b"
            ],
            [
             0.6666666666666666,
             "#ed7953"
            ],
            [
             0.7777777777777778,
             "#fb9f3a"
            ],
            [
             0.8888888888888888,
             "#fdca26"
            ],
            [
             1,
             "#f0f921"
            ]
           ],
           "sequentialminus": [
            [
             0,
             "#0d0887"
            ],
            [
             0.1111111111111111,
             "#46039f"
            ],
            [
             0.2222222222222222,
             "#7201a8"
            ],
            [
             0.3333333333333333,
             "#9c179e"
            ],
            [
             0.4444444444444444,
             "#bd3786"
            ],
            [
             0.5555555555555556,
             "#d8576b"
            ],
            [
             0.6666666666666666,
             "#ed7953"
            ],
            [
             0.7777777777777778,
             "#fb9f3a"
            ],
            [
             0.8888888888888888,
             "#fdca26"
            ],
            [
             1,
             "#f0f921"
            ]
           ]
          },
          "colorway": [
           "#636efa",
           "#EF553B",
           "#00cc96",
           "#ab63fa",
           "#FFA15A",
           "#19d3f3",
           "#FF6692",
           "#B6E880",
           "#FF97FF",
           "#FECB52"
          ],
          "font": {
           "color": "#2a3f5f"
          },
          "geo": {
           "bgcolor": "white",
           "lakecolor": "white",
           "landcolor": "#E5ECF6",
           "showlakes": true,
           "showland": true,
           "subunitcolor": "white"
          },
          "hoverlabel": {
           "align": "left"
          },
          "hovermode": "closest",
          "mapbox": {
           "style": "light"
          },
          "paper_bgcolor": "white",
          "plot_bgcolor": "#E5ECF6",
          "polar": {
           "angularaxis": {
            "gridcolor": "white",
            "linecolor": "white",
            "ticks": ""
           },
           "bgcolor": "#E5ECF6",
           "radialaxis": {
            "gridcolor": "white",
            "linecolor": "white",
            "ticks": ""
           }
          },
          "scene": {
           "xaxis": {
            "backgroundcolor": "#E5ECF6",
            "gridcolor": "white",
            "gridwidth": 2,
            "linecolor": "white",
            "showbackground": true,
            "ticks": "",
            "zerolinecolor": "white"
           },
           "yaxis": {
            "backgroundcolor": "#E5ECF6",
            "gridcolor": "white",
            "gridwidth": 2,
            "linecolor": "white",
            "showbackground": true,
            "ticks": "",
            "zerolinecolor": "white"
           },
           "zaxis": {
            "backgroundcolor": "#E5ECF6",
            "gridcolor": "white",
            "gridwidth": 2,
            "linecolor": "white",
            "showbackground": true,
            "ticks": "",
            "zerolinecolor": "white"
           }
          },
          "shapedefaults": {
           "line": {
            "color": "#2a3f5f"
           }
          },
          "ternary": {
           "aaxis": {
            "gridcolor": "white",
            "linecolor": "white",
            "ticks": ""
           },
           "baxis": {
            "gridcolor": "white",
            "linecolor": "white",
            "ticks": ""
           },
           "bgcolor": "#E5ECF6",
           "caxis": {
            "gridcolor": "white",
            "linecolor": "white",
            "ticks": ""
           }
          },
          "title": {
           "x": 0.05
          },
          "xaxis": {
           "automargin": true,
           "gridcolor": "white",
           "linecolor": "white",
           "ticks": "",
           "title": {
            "standoff": 15
           },
           "zerolinecolor": "white",
           "zerolinewidth": 2
          },
          "yaxis": {
           "automargin": true,
           "gridcolor": "white",
           "linecolor": "white",
           "ticks": "",
           "title": {
            "standoff": 15
           },
           "zerolinecolor": "white",
           "zerolinewidth": 2
          }
         }
        },
        "xaxis": {
         "anchor": "y",
         "domain": [
          0,
          1
         ],
         "title": {
          "text": ""
         }
        },
        "yaxis": {
         "anchor": "x",
         "domain": [
          0,
          1
         ],
         "title": {
          "text": ""
         },
         "type": "log"
        }
       }
      }
     },
     "metadata": {},
     "output_type": "display_data"
    }
   ],
   "source": [
    "line(train_losses, log_y=True)"
   ]
  },
  {
   "cell_type": "code",
   "execution_count": 17,
   "metadata": {},
   "outputs": [
    {
     "data": {
      "application/vnd.plotly.v1+json": {
       "config": {
        "plotlyServerURL": "https://plot.ly"
       },
       "data": [
        {
         "coloraxis": "coloraxis",
         "hovertemplate": "x: %{x}<br>y: %{y}<br>color: %{z}<extra></extra>",
         "name": "0",
         "type": "heatmap",
         "xaxis": "x",
         "yaxis": "y",
         "z": [
          [
           0.014990489,
           -0.0017157671,
           -0.025079815,
           -0.06260852,
           0.04395788,
           -0.0005217633,
           0.0718814,
           0.0008011282,
           0.028232686,
           0.08256022,
           -0.09430053,
           -0.03475543,
           0.013821922,
           -0.017815601,
           -0.06680304,
           0.11308761,
           0.09927825,
           -0.0070235776,
           0.018649196,
           0.073381625,
           -0.147253,
           0.04016489,
           0.105138816,
           0.047662452,
           0.012149092,
           -0.112045966,
           -0.08498347,
           -0.024371097,
           0.037236616,
           -0.05941191,
           0.10320724,
           0.17889516,
           -0.051811166,
           -0.02177628,
           0.07401117,
           0.012219758,
           0.01373771,
           0.082893275,
           -0.07956709,
           -0.017961336,
           -0.0364994,
           -0.061465587,
           0.03841881,
           -0.1101263,
           -0.08446932,
           0.041207667,
           -0.04135979,
           -0.051282242,
           0.11176498,
           -0.05855611,
           0.091856316,
           -0.022039616,
           -0.1171811,
           0.14255221,
           0.20050529,
           -0.12349571,
           0.10793029,
           -0.1058911,
           0.06096942,
           -0.014191632,
           0.055988945,
           0.11456419,
           0.118134886,
           -0.023278134,
           -0.06494809,
           0.039850734,
           0.0007339936,
           -0.005747151,
           -0.03335358,
           0.038729064,
           -0.01737773,
           -0.07606777,
           0.14560358,
           -0.042341627,
           0.018012691,
           0.053188,
           -0.10594352,
           0.062030267,
           0.010619442,
           0.019916654,
           0.18199804,
           -0.08838186,
           0.075191066,
           0.035509408,
           -0.11175803,
           -0.090157166,
           0.04619784,
           -0.010988197,
           0.028245823,
           -0.029026482,
           0.031906918,
           -0.052328583,
           -0.03125356,
           -0.0323402,
           -0.07248,
           -0.035183426,
           -0.11302138,
           -0.10110314,
           -0.0127419485,
           0.063274086,
           -0.0037468649,
           -0.046956584,
           -0.019801326,
           0.00272006,
           -0.010285398,
           -0.010941009,
           0.02579493,
           0.1051007,
           0.0069785607,
           0.18575493,
           -0.047383007,
           -0.14413182,
           -0.022796351,
           0.0028352507,
           0.07077765,
           -0.13851282,
           0.012080378,
           0.037495553,
           -0.13018717,
           0.043354414,
           0.12647685,
           0.016540034,
           0.017611561,
           -0.043303028,
           -0.045138847,
           0.019577822,
           -0.04464861,
           -0.10392817
          ],
          [
           -0.14818557,
           0.13342254,
           0.09687745,
           -0.036694676,
           0.09546691,
           0.122122616,
           -0.0066750073,
           -0.12536924,
           0.0025096168,
           0.009599952,
           0.07907317,
           0.047144394,
           0.017043967,
           -0.04750304,
           0.050659746,
           0.060220476,
           0.16785435,
           0.07377062,
           -0.11260541,
           -0.023956107,
           -0.0122723365,
           -0.029088486,
           -0.049180727,
           0.07820225,
           -0.07087406,
           0.0111435205,
           0.08276421,
           -0.0124809975,
           -0.07781306,
           -0.05084437,
           0.115862,
           -0.0538216,
           -0.062048834,
           0.0019847543,
           -0.0043405117,
           0.17144041,
           -0.19799423,
           0.041873332,
           -0.060591713,
           -0.015568297,
           0.002692819,
           0.14073275,
           -0.014779077,
           -0.017251886,
           -0.098396905,
           -0.0072150743,
           -0.13713989,
           -0.101816624,
           -0.03119083,
           -0.07951179,
           0.01169537,
           0.014232628,
           0.05160028,
           0.06690393,
           -0.1253782,
           0.094734505,
           0.064074315,
           0.080138735,
           0.049006045,
           -0.09305951,
           -0.052633736,
           0.15416268,
           0.032432348,
           0.09292125,
           0.011794916,
           -0.019513592,
           0.13068886,
           0.10347524,
           0.08023105,
           -0.04714596,
           -0.037210044,
           0.042963486,
           0.005105123,
           -0.12243517,
           0.079162516,
           0.032635193,
           -0.08801652,
           -0.07092858,
           -0.004901498,
           0.0030413251,
           0.025365772,
           -0.045906287,
           -0.025001105,
           -0.034922324,
           0.041437764,
           0.03958205,
           0.09147294,
           0.05462759,
           0.036478266,
           0.05727581,
           -0.01698746,
           -0.04886303,
           -0.04542125,
           0.020515595,
           -0.036982518,
           -0.026563084,
           -0.04105986,
           -0.020223726,
           -0.0011388755,
           -0.026441768,
           -0.0051616547,
           0.06056891,
           -0.0033978825,
           -0.0279437,
           0.050131883,
           -0.10534526,
           0.03713667,
           -0.1357185,
           -0.0748035,
           0.0010332812,
           -0.031870876,
           -0.029112225,
           0.11127222,
           -0.0069710277,
           -0.056575704,
           -0.08741133,
           0.030150156,
           -0.017253768,
           -0.0059687067,
           -0.059710227,
           -0.018807575,
           0.01330719,
           -0.06370905,
           -0.09296638,
           0.0828829,
           -0.14023475,
           -0.039566267,
           0.074577175
          ],
          [
           0.035436653,
           -0.08068835,
           -0.05873687,
           0.13464856,
           0.055276677,
           -0.008396674,
           0.10434285,
           0.024115613,
           -0.13584344,
           0.014788745,
           -0.08318765,
           -0.005439839,
           -0.13047476,
           -0.05435629,
           -0.033004805,
           -0.08888284,
           -0.020804081,
           0.0647531,
           -0.05372052,
           0.00973958,
           0.050612338,
           -0.0047322786,
           -0.055842932,
           0.073039986,
           -0.0525269,
           -0.11117422,
           -0.19771254,
           -0.20468503,
           -0.017391425,
           0.007204776,
           -0.041272547,
           -0.18556267,
           -0.001914827,
           0.07653403,
           -0.08466265,
           0.016897615,
           -0.04920486,
           -0.025130732,
           -0.093471356,
           -0.07928534,
           0.018821687,
           -0.058417737,
           0.05254025,
           0.03640628,
           0.052104086,
           -0.094013445,
           0.036217786,
           0.007953261,
           0.030428467,
           -0.11209734,
           -0.058396105,
           0.0032973127,
           0.07600354,
           -0.018490992,
           0.07317518,
           -0.1462563,
           -0.101014845,
           0.08773045,
           -0.07964874,
           0.036107983,
           -0.09642196,
           0.061528064,
           -0.08216944,
           0.09070985,
           0.1587927,
           -0.016878998,
           0.037980616,
           0.18333085,
           -0.032114882,
           -0.011362529,
           0.031699836,
           -0.021840576,
           -0.09995995,
           0.00055061904,
           -0.015304026,
           -0.11576972,
           -0.002229549,
           -0.0024576564,
           -0.040380437,
           -0.03317174,
           -0.01838104,
           -0.15382595,
           0.056172773,
           0.052711226,
           -0.086772986,
           0.043384816,
           -0.14885306,
           -0.035220537,
           -0.049556803,
           -0.051569898,
           0.021944433,
           -0.093437366,
           0.021458467,
           -0.04815937,
           0.08105195,
           -0.059244603,
           0.025269384,
           0.0928692,
           0.09096624,
           -0.025580853,
           -0.1502357,
           0.07984805,
           -0.07201574,
           0.068932116,
           -0.0005484747,
           0.08220553,
           0.012165063,
           0.03323414,
           0.12215597,
           0.04539383,
           -0.1318802,
           0.08709149,
           -0.022357885,
           -0.1390986,
           0.040392693,
           0.06132209,
           -0.062731095,
           0.032002237,
           -0.068628035,
           -0.05665317,
           0.010619586,
           0.041093398,
           0.002544013,
           -0.06462535,
           0.107651316,
           0.03317864,
           -0.02800114,
           0.027973862
          ],
          [
           0.0061120237,
           -0.006705488,
           0.064452335,
           -0.03480793,
           0.07043824,
           0.11597075,
           0.02627213,
           0.020155884,
           -0.033845156,
           -0.052540895,
           0.06724601,
           -0.07021217,
           0.09589882,
           -0.15567486,
           0.0422302,
           -0.009968056,
           0.012789557,
           0.003740423,
           -0.083712764,
           -0.07396285,
           -0.01987753,
           -0.05278747,
           0.011854462,
           -0.10027691,
           0.069845736,
           -0.055541746,
           -0.12174235,
           0.053374033,
           -0.020141173,
           0.02185945,
           0.0130390255,
           0.03990575,
           0.0264627,
           0.084539086,
           -0.15287374,
           -0.073190406,
           0.07385762,
           0.23270525,
           -0.27050915,
           -0.036846425,
           0.050655592,
           -0.11366865,
           -0.04249961,
           -0.020007342,
           0.04105719,
           -0.08709734,
           0.071602896,
           0.050857056,
           -0.10264544,
           0.09087537,
           0.003095808,
           -0.15809605,
           -0.075751774,
           0.17562933,
           0.11318345,
           -0.13077097,
           0.14474922,
           0.013250277,
           0.0049637384,
           -0.0126040755,
           0.12054556,
           0.04254196,
           0.046169203,
           0.040174693,
           0.011393967,
           -0.019123655,
           0.055154532,
           -0.06313864,
           -0.11620314,
           -0.06641005,
           -0.10916962,
           0.021349948,
           -0.119890004,
           0.026589792,
           0.03812361,
           -0.051482208,
           -0.07139091,
           0.0012735671,
           -0.0008324508,
           0.0071150144,
           0.007935678,
           -0.11108894,
           -0.1453433,
           -0.086109586,
           0.0009748021,
           0.04408184,
           -0.032169454,
           -0.016075103,
           0.00043545358,
           0.0000953112,
           0.0007415558,
           -0.08991472,
           0.080960706,
           -0.115224294,
           0.09637319,
           0.053647444,
           0.0519243,
           -0.021894721,
           -0.07263222,
           0.063754074,
           0.09525457,
           0.038468227,
           -0.036091343,
           -0.03667813,
           0.08348478,
           -0.044015475,
           -0.0018337643,
           -0.08517855,
           0.035679754,
           0.027928492,
           -0.04593567,
           0.09078469,
           -0.054477476,
           0.02669381,
           0.011726052,
           -0.15651324,
           0.12437254,
           -0.0028722556,
           -0.008829316,
           0.06949498,
           -0.003537546,
           0.021164177,
           0.040457428,
           -0.060554467,
           0.12903586,
           0.0075001162,
           -0.022663424,
           -0.03233832
          ],
          [
           -0.045602992,
           0.12954512,
           0.025884686,
           0.0023768132,
           0.15606965,
           -0.05254388,
           -0.11667052,
           -0.013782733,
           0.08471961,
           0.064198546,
           -0.16795772,
           -0.09661755,
           -0.073410004,
           -0.145515,
           -0.0069966186,
           -0.0535256,
           0.060555197,
           -0.11028605,
           0.009254162,
           -0.12264508,
           0.14607875,
           -0.034207173,
           -0.0056477254,
           -0.021304559,
           0.093013294,
           -0.021898095,
           -0.087388635,
           -0.059355292,
           -0.019347297,
           0.06621929,
           0.06574584,
           0.013528346,
           -0.015861578,
           -0.012518018,
           0.0021873785,
           0.06601665,
           0.06275905,
           -0.009489036,
           0.055588726,
           0.10510467,
           -0.03457561,
           -0.08545687,
           0.020348618,
           0.022395432,
           -0.10990803,
           -0.027519224,
           0.054586794,
           0.022760686,
           0.07680938,
           0.024761938,
           0.0043340344,
           -0.010362917,
           0.026775502,
           0.015305371,
           -0.09215906,
           0.124334075,
           0.06680562,
           0.012068623,
           0.032803662,
           0.02154778,
           -0.027508989,
           0.053792838,
           0.055135768,
           -0.036027,
           -0.07958391,
           0.042262357,
           -0.060339376,
           0.029749095,
           0.016882423,
           -0.16041848,
           0.02654868,
           0.107749775,
           -0.07925831,
           -0.07034767,
           -0.044275865,
           0.02967952,
           0.021951903,
           -0.06147411,
           0.02900729,
           -0.040396698,
           -0.00047959294,
           -0.031942163,
           0.0037603753,
           0.12287159,
           -0.14810528,
           -0.13739637,
           -0.058001626,
           0.025581788,
           0.08981785,
           0.022658069,
           -0.0013197274,
           0.06533549,
           -0.11655968,
           0.0760442,
           0.040185295,
           -0.034324322,
           0.09074786,
           -0.15571864,
           0.07137143,
           -0.11613193,
           0.024084337,
           -0.069750346,
           0.17560497,
           -0.053082164,
           0.188452,
           0.07293368,
           -0.028190868,
           -0.011401584,
           -0.0009344735,
           -0.0035635992,
           -0.16545555,
           -0.0041466947,
           -0.0003957102,
           0.032862995,
           0.027627734,
           0.028625224,
           0.0024501309,
           0.18463102,
           -0.096702136,
           -0.032237105,
           -0.016080663,
           -0.097885534,
           -0.00667544,
           -0.0073857643,
           -0.071947664,
           0.044177897,
           0.012828482,
           0.041263506
          ],
          [
           -0.051032845,
           0.008363552,
           0.09217248,
           -0.05265489,
           -0.04183068,
           0.033445273,
           -0.15775587,
           0.020883095,
           0.0079476135,
           -0.22016285,
           -0.09495077,
           -0.022976525,
           -0.047505774,
           -0.05011116,
           0.044824667,
           0.043451376,
           0.00801566,
           -0.13290697,
           0.095974326,
           0.124798454,
           0.04138523,
           -0.08781043,
           -0.08395681,
           0.05181522,
           0.0021599368,
           0.2580832,
           -0.009867135,
           -0.038125917,
           -0.100211576,
           0.006719836,
           -0.07467928,
           0.033469696,
           -0.05136789,
           -0.05257144,
           -0.015679536,
           0.0526825,
           0.000241717,
           -0.083715364,
           0.06419006,
           -0.09076882,
           -0.15521249,
           -0.14311981,
           0.051448565,
           -0.044041306,
           0.07601751,
           -0.030573891,
           -0.01534167,
           -0.13422976,
           0.04187916,
           0.013090373,
           -0.0011876276,
           -0.07893403,
           0.05823893,
           0.027844453,
           -0.14606154,
           0.07624535,
           0.03852494,
           0.039520442,
           -0.039114255,
           -0.0022116937,
           0.017289706,
           -0.14035112,
           -0.08194286,
           -0.014054592,
           0.08020826,
           0.08658015,
           0.037007894,
           -0.058552973,
           0.030283513,
           0.002332604,
           0.0570167,
           0.12737152,
           0.106014,
           -0.09734054,
           0.09355184,
           -0.02293127,
           0.029935261,
           -0.024442287,
           -0.13909525,
           -0.09679629,
           -0.005100972,
           -0.09527044,
           -0.06904531,
           0.09717805,
           0.029547956,
           0.039176423,
           0.070370525,
           0.057041127,
           0.1682739,
           -0.11720726,
           -0.12953097,
           0.023924612,
           0.008520428,
           0.037853107,
           0.0026755878,
           0.0054694377,
           0.008860458,
           0.08207525,
           0.054162707,
           0.0276342,
           -0.063016705,
           -0.08955938,
           0.0035732253,
           0.007562043,
           0.032892488,
           0.079588726,
           0.011173915,
           0.0035443336,
           -0.026140025,
           -0.017404879,
           -0.1858068,
           -0.006389737,
           -0.074246675,
           0.009689557,
           0.11651268,
           -0.046254426,
           -0.10526767,
           -0.013186446,
           -0.03525537,
           -0.05791368,
           -0.00035860963,
           0.033309795,
           0.043988954,
           -0.10860157,
           -0.058239855,
           0.030789249,
           -0.06520786,
           0.039856594
          ],
          [
           0.021140076,
           0.07757827,
           0.025104148,
           -0.0786137,
           -0.0031689436,
           -0.09119811,
           -0.05662252,
           0.04940435,
           0.05441374,
           -0.023763109,
           -0.0023723696,
           0.01847494,
           -0.14776428,
           -0.03641069,
           0.0076509323,
           0.05203741,
           0.023319023,
           -0.1101153,
           0.044975556,
           -0.018329747,
           -0.01329608,
           0.02996441,
           0.03959239,
           -0.035447393,
           0.013863256,
           -0.13218819,
           0.04503203,
           -0.06588495,
           -0.10094266,
           0.12066499,
           -0.031161882,
           0.03677124,
           -0.070251755,
           0.07209332,
           -0.15692149,
           0.028525498,
           -0.022675687,
           -0.07762078,
           -0.07710435,
           0.16157444,
           -0.079164036,
           -0.090499684,
           0.06782473,
           0.028756257,
           -0.1283275,
           0.019441957,
           -0.01716964,
           -0.11079297,
           -0.048822124,
           0.14922671,
           -0.045339357,
           0.11990257,
           -0.056253143,
           0.044501033,
           0.07574837,
           -0.028635243,
           -0.03243301,
           0.016851576,
           0.089989506,
           0.00231681,
           0.000985845,
           -0.048138797,
           0.006707264,
           -0.027967844,
           0.104649134,
           0.07678688,
           0.10152621,
           0.121460475,
           0.052456908,
           0.10037402,
           -0.052505102,
           0.106676236,
           -0.065731086,
           0.14898244,
           0.0035049764,
           0.07896413,
           -0.024994045,
           0.016990772,
           0.063432045,
           0.025509663,
           -0.0028346295,
           -0.13862102,
           0.109819375,
           -0.08507971,
           0.10879564,
           0.044950075,
           0.008732349,
           0.11844683,
           -0.07423171,
           -0.035062082,
           0.041544575,
           -0.09293427,
           -0.12997083,
           -0.008714419,
           -0.02150149,
           -0.054162018,
           0.027607135,
           0.039027,
           0.041567195,
           0.079954594,
           0.007607228,
           0.089477494,
           -0.06712287,
           -0.055127304,
           -0.028450925,
           -0.024235602,
           -0.031975012,
           -0.0075703645,
           0.03756522,
           0.04845084,
           0.16833343,
           0.052207973,
           -0.016074494,
           0.10373251,
           -0.020152839,
           -0.12799627,
           0.04128779,
           -0.024950031,
           0.17145805,
           0.01169866,
           -0.09583995,
           -0.06739663,
           -0.13798916,
           0.0014398495,
           0.0025379916,
           -0.20133583,
           0.0724651,
           -0.07163859
          ],
          [
           0.06284008,
           -0.08990473,
           -0.0358727,
           0.005673676,
           -0.022732843,
           0.02481464,
           -0.06963505,
           -0.013565784,
           -0.04809051,
           -0.04126873,
           -0.041143373,
           -0.06728891,
           -0.04283129,
           -0.023424756,
           -0.053471204,
           -0.027039446,
           0.06853786,
           -0.04185218,
           0.00890287,
           0.021296794,
           0.015801571,
           0.0994653,
           -0.040494613,
           -0.043373507,
           -0.1247948,
           -0.012609383,
           0.015900344,
           0.014034963,
           0.046062388,
           0.05936133,
           0.09204695,
           -0.10397159,
           0.05610666,
           0.05501094,
           0.095756575,
           -0.04749439,
           -0.06434173,
           0.06477398,
           0.15016586,
           0.06399857,
           0.116114505,
           0.09829085,
           0.03270785,
           -0.0042360006,
           -0.013343874,
           0.08153779,
           0.14829479,
           0.09347687,
           -0.05967215,
           -0.049124956,
           -0.014180634,
           -0.03845616,
           -0.031848103,
           0.0026196684,
           -0.036909536,
           0.0945118,
           0.008620803,
           0.020875204,
           0.069105096,
           -0.00032152902,
           -0.0039773607,
           0.13480967,
           0.1435018,
           0.14862978,
           0.00518759,
           -0.044228144,
           0.026220988,
           0.12729248,
           -0.029859887,
           0.039092217,
           -0.13252403,
           0.014705418,
           -0.049618818,
           0.03535442,
           -0.0662548,
           0.038008824,
           -0.05628688,
           0.08987264,
           0.05562689,
           -0.013260902,
           0.117662184,
           0.01110609,
           -0.08884815,
           0.09655801,
           0.036618475,
           -0.059935633,
           0.101246335,
           -0.14126334,
           -0.060913626,
           -0.096068464,
           -0.032398835,
           0.029999971,
           0.018036583,
           -0.018352706,
           -0.002202891,
           0.07030899,
           0.06970535,
           0.027205462,
           0.04788968,
           0.055474564,
           0.014121071,
           0.1358448,
           0.12052043,
           -0.1107144,
           0.020754667,
           -0.15023406,
           0.03565663,
           0.03175147,
           -0.103319876,
           -0.050788015,
           -0.028344687,
           -0.01904143,
           0.06127625,
           0.05063366,
           -0.006518644,
           0.065143056,
           -0.053196426,
           -0.022448761,
           -0.08637795,
           0.05610483,
           -0.149332,
           0.0058993422,
           -0.021234049,
           -0.042779654,
           -0.020665385,
           0.055356886,
           -0.030236691,
           0.13258496
          ],
          [
           0.018980427,
           0.013494543,
           -0.0041958494,
           -0.0042657168,
           -0.005603961,
           0.004374824,
           -0.03998407,
           -0.14080906,
           -0.0577268,
           -0.05272578,
           -0.003961361,
           0.021003006,
           -0.03481271,
           0.038814984,
           -0.039538126,
           -0.12971349,
           -0.13999616,
           -0.014149423,
           -0.049746517,
           -0.016924592,
           0.124585964,
           -0.08702749,
           -0.014215136,
           0.04837351,
           0.14670166,
           0.093589775,
           0.021441778,
           -0.08841296,
           -0.0695132,
           0.03547775,
           -0.043220602,
           0.08535154,
           -0.031253874,
           0.036842834,
           -0.021695303,
           0.01036625,
           0.105012394,
           0.050427865,
           0.04401514,
           0.031424444,
           -0.04170747,
           0.09153724,
           -0.10962833,
           0.030808624,
           -0.029933222,
           -0.047785573,
           -0.02797148,
           -0.13201876,
           0.06480264,
           0.08382075,
           -0.006173293,
           0.12643741,
           0.06090994,
           0.02390869,
           -0.028317,
           -0.118210934,
           -0.01861385,
           -0.046128314,
           0.045663647,
           -0.028583765,
           -0.014325008,
           -0.06403093,
           0.019237055,
           -0.05129627,
           -0.122059815,
           -0.10195356,
           -0.099016584,
           -0.04342971,
           0.13502401,
           0.016644336,
           0.026001457,
           0.10975676,
           -0.11930125,
           -0.072900675,
           -0.026830744,
           0.038774878,
           -0.15268773,
           -0.13427539,
           0.0605766,
           0.103421785,
           0.031058928,
           -0.037482798,
           -0.1863289,
           0.103743866,
           0.024437468,
           -0.072150506,
           -0.060938857,
           -0.116420396,
           0.06461505,
           -0.026312891,
           0.10219391,
           -0.02212684,
           0.055573348,
           0.065196685,
           -0.03453551,
           -0.05042968,
           0.039558675,
           0.012408273,
           -0.0522779,
           -0.113537535,
           0.07688614,
           0.14349806,
           -0.029147806,
           0.117355764,
           0.030899566,
           -0.06535815,
           -0.03324236,
           0.020433635,
           -0.059866257,
           0.013485812,
           0.11780646,
           0.14520264,
           -0.06575177,
           0.0291608,
           -0.056289274,
           -0.023288626,
           -0.04362368,
           0.11625679,
           0.03829759,
           0.06330262,
           0.0842669,
           0.034531265,
           0.014630076,
           -0.08972987,
           0.02730106,
           -0.086630024,
           -0.16082756,
           -0.017089887
          ],
          [
           -0.013436149,
           -0.02952841,
           -0.06490931,
           0.019489132,
           -0.009446315,
           0.02682588,
           0.04299098,
           -0.07535052,
           0.05738263,
           0.14875238,
           0.117997676,
           0.04897586,
           -0.03429248,
           -0.00055585033,
           0.075928286,
           -0.10145043,
           0.016132522,
           -0.08277456,
           -0.0141351605,
           -0.04408228,
           -0.018735576,
           0.17006297,
           0.05486723,
           0.009120529,
           -0.08832628,
           0.08962794,
           0.10187726,
           -0.12919468,
           -0.06736468,
           0.054034296,
           -0.03299259,
           -0.013907161,
           0.05231115,
           0.045512345,
           -0.015702892,
           0.07658645,
           -0.002430465,
           0.0060736667,
           -0.13964981,
           0.051467493,
           0.068966955,
           -0.04259839,
           -0.012280702,
           0.120756365,
           -0.0064680288,
           -0.0026704073,
           0.0031098728,
           -0.0418999,
           -0.014986801,
           -0.018687714,
           -0.014753387,
           0.039364498,
           0.0736457,
           0.050768867,
           0.02489615,
           -0.03792308,
           0.04262207,
           0.007965483,
           0.11413166,
           -0.08861759,
           0.07587171,
           -0.08146107,
           0.0038845788,
           -0.08220132,
           0.078520805,
           -0.029242931,
           -0.03545988,
           -0.00089221366,
           0.10664866,
           -0.08102898,
           -0.0012619428,
           0.111134514,
           0.01638875,
           0.0959447,
           -0.040322542,
           0.027389564,
           0.062702425,
           0.046261344,
           -0.027761687,
           -0.0052903895,
           -0.035721254,
           -0.093382105,
           0.024619834,
           -0.07428491,
           -0.06478799,
           -0.12461405,
           -0.049301982,
           0.047326326,
           0.017666778,
           0.07807306,
           -0.046576615,
           -0.011297683,
           -0.07164968,
           0.031875696,
           -0.052230522,
           -0.019477477,
           -0.021619568,
           -0.030039463,
           -0.090256356,
           -0.031247627,
           -0.14582916,
           0.061126173,
           0.08710825,
           -0.044535067,
           -0.12812236,
           0.1653286,
           -0.07420086,
           -0.03404485,
           0.023201985,
           0.1018142,
           -0.07692974,
           -0.0511967,
           0.008825519,
           0.07048762,
           0.1550041,
           0.041691575,
           -0.0038444395,
           -0.12387516,
           -0.071019374,
           0.14266221,
           0.018613728,
           0.028766716,
           -0.079315424,
           -0.011697763,
           -0.04509826,
           -0.019096399,
           0.003781944,
           0.023927107
          ],
          [
           -0.033232547,
           -0.08616395,
           -0.118189305,
           0.13055742,
           -0.046792068,
           0.07693008,
           -0.063001014,
           -0.032898083,
           0.022225395,
           -0.010151892,
           -0.054764356,
           0.04034168,
           -0.09643303,
           -0.07894419,
           -0.041024916,
           0.06274354,
           -0.009295137,
           -0.04051707,
           0.026819745,
           -0.008376111,
           -0.122121856,
           -0.12808146,
           -0.07933819,
           -0.065221995,
           -0.06250257,
           -0.053432923,
           -0.049342018,
           0.10219613,
           -0.009306032,
           0.0128397085,
           -0.022662496,
           0.048761863,
           -0.020935921,
           0.12717187,
           -0.00058367447,
           0.021797787,
           -0.009471733,
           0.029171051,
           -0.005843969,
           -0.12507619,
           -0.028334549,
           -0.014551051,
           -0.046654023,
           -0.056466505,
           -0.057919167,
           -0.02081407,
           0.029880106,
           0.025083581,
           -0.021221431,
           -0.026939658,
           0.035572506,
           -0.017978754,
           -0.044747308,
           0.03597246,
           0.07118323,
           0.04475769,
           0.019532725,
           0.010167537,
           0.019385522,
           -0.045770187,
           -0.11356277,
           -0.041162144,
           0.058347028,
           0.040550746,
           -0.052546795,
           -0.0030614429,
           -0.057395134,
           -0.1427567,
           -0.055728953,
           0.029639754,
           -0.067108,
           -0.108194396,
           0.044823885,
           0.070355676,
           0.019068876,
           0.016765233,
           0.010151848,
           -0.0863942,
           0.019706136,
           -0.07989625,
           -0.099234104,
           -0.053904295,
           0.11845537,
           -0.010361841,
           0.039105684,
           -0.15585005,
           -0.05413593,
           0.13952285,
           0.065542825,
           0.16418462,
           0.11195575,
           0.088929735,
           0.059017345,
           0.045122124,
           0.06609648,
           -0.054737516,
           -0.16094315,
           -0.049678873,
           -0.0110996915,
           0.16362236,
           -0.13648307,
           0.030956505,
           0.020987924,
           0.081177674,
           -0.00081357884,
           -0.04570456,
           0.05426527,
           0.09073887,
           0.070353895,
           -0.040058926,
           0.08367509,
           0.08317938,
           0.011506246,
           0.0038411866,
           0.05307717,
           0.02945422,
           -0.12707701,
           -0.0008081582,
           0.0276304,
           0.1500888,
           0.055192653,
           -0.039176416,
           -0.09781647,
           -0.06789487,
           0.005668636,
           0.002748626,
           0.11909096,
           0.109559536
          ]
         ]
        }
       ],
       "layout": {
        "coloraxis": {
         "colorscale": [
          [
           0,
           "rgb(247,251,255)"
          ],
          [
           0.125,
           "rgb(222,235,247)"
          ],
          [
           0.25,
           "rgb(198,219,239)"
          ],
          [
           0.375,
           "rgb(158,202,225)"
          ],
          [
           0.5,
           "rgb(107,174,214)"
          ],
          [
           0.625,
           "rgb(66,146,198)"
          ],
          [
           0.75,
           "rgb(33,113,181)"
          ],
          [
           0.875,
           "rgb(8,81,156)"
          ],
          [
           1,
           "rgb(8,48,107)"
          ]
         ]
        },
        "margin": {
         "t": 60
        },
        "template": {
         "data": {
          "bar": [
           {
            "error_x": {
             "color": "#2a3f5f"
            },
            "error_y": {
             "color": "#2a3f5f"
            },
            "marker": {
             "line": {
              "color": "#E5ECF6",
              "width": 0.5
             },
             "pattern": {
              "fillmode": "overlay",
              "size": 10,
              "solidity": 0.2
             }
            },
            "type": "bar"
           }
          ],
          "barpolar": [
           {
            "marker": {
             "line": {
              "color": "#E5ECF6",
              "width": 0.5
             },
             "pattern": {
              "fillmode": "overlay",
              "size": 10,
              "solidity": 0.2
             }
            },
            "type": "barpolar"
           }
          ],
          "carpet": [
           {
            "aaxis": {
             "endlinecolor": "#2a3f5f",
             "gridcolor": "white",
             "linecolor": "white",
             "minorgridcolor": "white",
             "startlinecolor": "#2a3f5f"
            },
            "baxis": {
             "endlinecolor": "#2a3f5f",
             "gridcolor": "white",
             "linecolor": "white",
             "minorgridcolor": "white",
             "startlinecolor": "#2a3f5f"
            },
            "type": "carpet"
           }
          ],
          "choropleth": [
           {
            "colorbar": {
             "outlinewidth": 0,
             "ticks": ""
            },
            "type": "choropleth"
           }
          ],
          "contour": [
           {
            "colorbar": {
             "outlinewidth": 0,
             "ticks": ""
            },
            "colorscale": [
             [
              0,
              "#0d0887"
             ],
             [
              0.1111111111111111,
              "#46039f"
             ],
             [
              0.2222222222222222,
              "#7201a8"
             ],
             [
              0.3333333333333333,
              "#9c179e"
             ],
             [
              0.4444444444444444,
              "#bd3786"
             ],
             [
              0.5555555555555556,
              "#d8576b"
             ],
             [
              0.6666666666666666,
              "#ed7953"
             ],
             [
              0.7777777777777778,
              "#fb9f3a"
             ],
             [
              0.8888888888888888,
              "#fdca26"
             ],
             [
              1,
              "#f0f921"
             ]
            ],
            "type": "contour"
           }
          ],
          "contourcarpet": [
           {
            "colorbar": {
             "outlinewidth": 0,
             "ticks": ""
            },
            "type": "contourcarpet"
           }
          ],
          "heatmap": [
           {
            "colorbar": {
             "outlinewidth": 0,
             "ticks": ""
            },
            "colorscale": [
             [
              0,
              "#0d0887"
             ],
             [
              0.1111111111111111,
              "#46039f"
             ],
             [
              0.2222222222222222,
              "#7201a8"
             ],
             [
              0.3333333333333333,
              "#9c179e"
             ],
             [
              0.4444444444444444,
              "#bd3786"
             ],
             [
              0.5555555555555556,
              "#d8576b"
             ],
             [
              0.6666666666666666,
              "#ed7953"
             ],
             [
              0.7777777777777778,
              "#fb9f3a"
             ],
             [
              0.8888888888888888,
              "#fdca26"
             ],
             [
              1,
              "#f0f921"
             ]
            ],
            "type": "heatmap"
           }
          ],
          "heatmapgl": [
           {
            "colorbar": {
             "outlinewidth": 0,
             "ticks": ""
            },
            "colorscale": [
             [
              0,
              "#0d0887"
             ],
             [
              0.1111111111111111,
              "#46039f"
             ],
             [
              0.2222222222222222,
              "#7201a8"
             ],
             [
              0.3333333333333333,
              "#9c179e"
             ],
             [
              0.4444444444444444,
              "#bd3786"
             ],
             [
              0.5555555555555556,
              "#d8576b"
             ],
             [
              0.6666666666666666,
              "#ed7953"
             ],
             [
              0.7777777777777778,
              "#fb9f3a"
             ],
             [
              0.8888888888888888,
              "#fdca26"
             ],
             [
              1,
              "#f0f921"
             ]
            ],
            "type": "heatmapgl"
           }
          ],
          "histogram": [
           {
            "marker": {
             "pattern": {
              "fillmode": "overlay",
              "size": 10,
              "solidity": 0.2
             }
            },
            "type": "histogram"
           }
          ],
          "histogram2d": [
           {
            "colorbar": {
             "outlinewidth": 0,
             "ticks": ""
            },
            "colorscale": [
             [
              0,
              "#0d0887"
             ],
             [
              0.1111111111111111,
              "#46039f"
             ],
             [
              0.2222222222222222,
              "#7201a8"
             ],
             [
              0.3333333333333333,
              "#9c179e"
             ],
             [
              0.4444444444444444,
              "#bd3786"
             ],
             [
              0.5555555555555556,
              "#d8576b"
             ],
             [
              0.6666666666666666,
              "#ed7953"
             ],
             [
              0.7777777777777778,
              "#fb9f3a"
             ],
             [
              0.8888888888888888,
              "#fdca26"
             ],
             [
              1,
              "#f0f921"
             ]
            ],
            "type": "histogram2d"
           }
          ],
          "histogram2dcontour": [
           {
            "colorbar": {
             "outlinewidth": 0,
             "ticks": ""
            },
            "colorscale": [
             [
              0,
              "#0d0887"
             ],
             [
              0.1111111111111111,
              "#46039f"
             ],
             [
              0.2222222222222222,
              "#7201a8"
             ],
             [
              0.3333333333333333,
              "#9c179e"
             ],
             [
              0.4444444444444444,
              "#bd3786"
             ],
             [
              0.5555555555555556,
              "#d8576b"
             ],
             [
              0.6666666666666666,
              "#ed7953"
             ],
             [
              0.7777777777777778,
              "#fb9f3a"
             ],
             [
              0.8888888888888888,
              "#fdca26"
             ],
             [
              1,
              "#f0f921"
             ]
            ],
            "type": "histogram2dcontour"
           }
          ],
          "mesh3d": [
           {
            "colorbar": {
             "outlinewidth": 0,
             "ticks": ""
            },
            "type": "mesh3d"
           }
          ],
          "parcoords": [
           {
            "line": {
             "colorbar": {
              "outlinewidth": 0,
              "ticks": ""
             }
            },
            "type": "parcoords"
           }
          ],
          "pie": [
           {
            "automargin": true,
            "type": "pie"
           }
          ],
          "scatter": [
           {
            "fillpattern": {
             "fillmode": "overlay",
             "size": 10,
             "solidity": 0.2
            },
            "type": "scatter"
           }
          ],
          "scatter3d": [
           {
            "line": {
             "colorbar": {
              "outlinewidth": 0,
              "ticks": ""
             }
            },
            "marker": {
             "colorbar": {
              "outlinewidth": 0,
              "ticks": ""
             }
            },
            "type": "scatter3d"
           }
          ],
          "scattercarpet": [
           {
            "marker": {
             "colorbar": {
              "outlinewidth": 0,
              "ticks": ""
             }
            },
            "type": "scattercarpet"
           }
          ],
          "scattergeo": [
           {
            "marker": {
             "colorbar": {
              "outlinewidth": 0,
              "ticks": ""
             }
            },
            "type": "scattergeo"
           }
          ],
          "scattergl": [
           {
            "marker": {
             "colorbar": {
              "outlinewidth": 0,
              "ticks": ""
             }
            },
            "type": "scattergl"
           }
          ],
          "scattermapbox": [
           {
            "marker": {
             "colorbar": {
              "outlinewidth": 0,
              "ticks": ""
             }
            },
            "type": "scattermapbox"
           }
          ],
          "scatterpolar": [
           {
            "marker": {
             "colorbar": {
              "outlinewidth": 0,
              "ticks": ""
             }
            },
            "type": "scatterpolar"
           }
          ],
          "scatterpolargl": [
           {
            "marker": {
             "colorbar": {
              "outlinewidth": 0,
              "ticks": ""
             }
            },
            "type": "scatterpolargl"
           }
          ],
          "scatterternary": [
           {
            "marker": {
             "colorbar": {
              "outlinewidth": 0,
              "ticks": ""
             }
            },
            "type": "scatterternary"
           }
          ],
          "surface": [
           {
            "colorbar": {
             "outlinewidth": 0,
             "ticks": ""
            },
            "colorscale": [
             [
              0,
              "#0d0887"
             ],
             [
              0.1111111111111111,
              "#46039f"
             ],
             [
              0.2222222222222222,
              "#7201a8"
             ],
             [
              0.3333333333333333,
              "#9c179e"
             ],
             [
              0.4444444444444444,
              "#bd3786"
             ],
             [
              0.5555555555555556,
              "#d8576b"
             ],
             [
              0.6666666666666666,
              "#ed7953"
             ],
             [
              0.7777777777777778,
              "#fb9f3a"
             ],
             [
              0.8888888888888888,
              "#fdca26"
             ],
             [
              1,
              "#f0f921"
             ]
            ],
            "type": "surface"
           }
          ],
          "table": [
           {
            "cells": {
             "fill": {
              "color": "#EBF0F8"
             },
             "line": {
              "color": "white"
             }
            },
            "header": {
             "fill": {
              "color": "#C8D4E3"
             },
             "line": {
              "color": "white"
             }
            },
            "type": "table"
           }
          ]
         },
         "layout": {
          "annotationdefaults": {
           "arrowcolor": "#2a3f5f",
           "arrowhead": 0,
           "arrowwidth": 1
          },
          "autotypenumbers": "strict",
          "coloraxis": {
           "colorbar": {
            "outlinewidth": 0,
            "ticks": ""
           }
          },
          "colorscale": {
           "diverging": [
            [
             0,
             "#8e0152"
            ],
            [
             0.1,
             "#c51b7d"
            ],
            [
             0.2,
             "#de77ae"
            ],
            [
             0.3,
             "#f1b6da"
            ],
            [
             0.4,
             "#fde0ef"
            ],
            [
             0.5,
             "#f7f7f7"
            ],
            [
             0.6,
             "#e6f5d0"
            ],
            [
             0.7,
             "#b8e186"
            ],
            [
             0.8,
             "#7fbc41"
            ],
            [
             0.9,
             "#4d9221"
            ],
            [
             1,
             "#276419"
            ]
           ],
           "sequential": [
            [
             0,
             "#0d0887"
            ],
            [
             0.1111111111111111,
             "#46039f"
            ],
            [
             0.2222222222222222,
             "#7201a8"
            ],
            [
             0.3333333333333333,
             "#9c179e"
            ],
            [
             0.4444444444444444,
             "#bd3786"
            ],
            [
             0.5555555555555556,
             "#d8576b"
            ],
            [
             0.6666666666666666,
             "#ed7953"
            ],
            [
             0.7777777777777778,
             "#fb9f3a"
            ],
            [
             0.8888888888888888,
             "#fdca26"
            ],
            [
             1,
             "#f0f921"
            ]
           ],
           "sequentialminus": [
            [
             0,
             "#0d0887"
            ],
            [
             0.1111111111111111,
             "#46039f"
            ],
            [
             0.2222222222222222,
             "#7201a8"
            ],
            [
             0.3333333333333333,
             "#9c179e"
            ],
            [
             0.4444444444444444,
             "#bd3786"
            ],
            [
             0.5555555555555556,
             "#d8576b"
            ],
            [
             0.6666666666666666,
             "#ed7953"
            ],
            [
             0.7777777777777778,
             "#fb9f3a"
            ],
            [
             0.8888888888888888,
             "#fdca26"
            ],
            [
             1,
             "#f0f921"
            ]
           ]
          },
          "colorway": [
           "#636efa",
           "#EF553B",
           "#00cc96",
           "#ab63fa",
           "#FFA15A",
           "#19d3f3",
           "#FF6692",
           "#B6E880",
           "#FF97FF",
           "#FECB52"
          ],
          "font": {
           "color": "#2a3f5f"
          },
          "geo": {
           "bgcolor": "white",
           "lakecolor": "white",
           "landcolor": "#E5ECF6",
           "showlakes": true,
           "showland": true,
           "subunitcolor": "white"
          },
          "hoverlabel": {
           "align": "left"
          },
          "hovermode": "closest",
          "mapbox": {
           "style": "light"
          },
          "paper_bgcolor": "white",
          "plot_bgcolor": "#E5ECF6",
          "polar": {
           "angularaxis": {
            "gridcolor": "white",
            "linecolor": "white",
            "ticks": ""
           },
           "bgcolor": "#E5ECF6",
           "radialaxis": {
            "gridcolor": "white",
            "linecolor": "white",
            "ticks": ""
           }
          },
          "scene": {
           "xaxis": {
            "backgroundcolor": "#E5ECF6",
            "gridcolor": "white",
            "gridwidth": 2,
            "linecolor": "white",
            "showbackground": true,
            "ticks": "",
            "zerolinecolor": "white"
           },
           "yaxis": {
            "backgroundcolor": "#E5ECF6",
            "gridcolor": "white",
            "gridwidth": 2,
            "linecolor": "white",
            "showbackground": true,
            "ticks": "",
            "zerolinecolor": "white"
           },
           "zaxis": {
            "backgroundcolor": "#E5ECF6",
            "gridcolor": "white",
            "gridwidth": 2,
            "linecolor": "white",
            "showbackground": true,
            "ticks": "",
            "zerolinecolor": "white"
           }
          },
          "shapedefaults": {
           "line": {
            "color": "#2a3f5f"
           }
          },
          "ternary": {
           "aaxis": {
            "gridcolor": "white",
            "linecolor": "white",
            "ticks": ""
           },
           "baxis": {
            "gridcolor": "white",
            "linecolor": "white",
            "ticks": ""
           },
           "bgcolor": "#E5ECF6",
           "caxis": {
            "gridcolor": "white",
            "linecolor": "white",
            "ticks": ""
           }
          },
          "title": {
           "x": 0.05
          },
          "xaxis": {
           "automargin": true,
           "gridcolor": "white",
           "linecolor": "white",
           "ticks": "",
           "title": {
            "standoff": 15
           },
           "zerolinecolor": "white",
           "zerolinewidth": 2
          },
          "yaxis": {
           "automargin": true,
           "gridcolor": "white",
           "linecolor": "white",
           "ticks": "",
           "title": {
            "standoff": 15
           },
           "zerolinecolor": "white",
           "zerolinewidth": 2
          }
         }
        },
        "xaxis": {
         "anchor": "y",
         "domain": [
          0,
          1
         ]
        },
        "yaxis": {
         "anchor": "x",
         "autorange": "reversed",
         "domain": [
          0,
          1
         ]
        }
       }
      }
     },
     "metadata": {},
     "output_type": "display_data"
    }
   ],
   "source": [
    "imshow(model.embed.W_E)"
   ]
  },
  {
   "cell_type": "code",
   "execution_count": 18,
   "metadata": {},
   "outputs": [
    {
     "name": "stdout",
     "output_type": "stream",
     "text": [
      "The embedding shape is torch.Size([11, 128]), so our vectors of length 128\n"
     ]
    }
   ],
   "source": [
    "# Take the dot product of all the embedding vectors\n",
    "emb = model.embed.W_E\n",
    "vec_count = emb.shape[0]\n",
    "vec_dim = emb.shape[1]\n",
    "print(f\"The embedding shape is {emb.shape}, so our vectors of length {emb.shape[1]}\")\n",
    "\n",
    "dot_products = einops.einsum(emb, emb, \"v2 embs, v1 emb -> v1 v2\")"
   ]
  },
  {
   "cell_type": "code",
   "execution_count": 19,
   "metadata": {},
   "outputs": [
    {
     "name": "stdout",
     "output_type": "stream",
     "text": [
      "torch.Size([11, 11])\n"
     ]
    },
    {
     "data": {
      "application/vnd.plotly.v1+json": {
       "config": {
        "plotlyServerURL": "https://plot.ly"
       },
       "data": [
        {
         "coloraxis": "coloraxis",
         "hovertemplate": "x: %{x}<br>y: %{y}<br>color: %{z}<extra></extra>",
         "name": "0",
         "type": "heatmap",
         "xaxis": "x",
         "yaxis": "y",
         "z": [
          [
           0.031688277,
           -0.015521754,
           -0.29327112,
           -0.09646457,
           -0.0332596,
           -0.21164064,
           0.025786422,
           0.18120697,
           -0.12289112,
           0.035517912,
           -0.075020984
          ],
          [
           -0.015521754,
           0.0076029645,
           0.14365193,
           0.04725089,
           0.016291428,
           0.10366717,
           -0.01263087,
           -0.08875996,
           0.060195312,
           -0.01739761,
           0.03674726
          ],
          [
           -0.29327112,
           0.14365193,
           2.7141883,
           0.8927678,
           0.30781353,
           1.9587083,
           -0.23865019,
           -1.6770484,
           1.1373423,
           -0.32871395,
           0.69431007
          ],
          [
           -0.09646457,
           0.04725089,
           0.8927678,
           0.29365474,
           0.101247944,
           0.64427054,
           -0.078498304,
           -0.55162525,
           0.37410173,
           -0.10812264,
           0.22837679
          ],
          [
           -0.0332596,
           0.016291428,
           0.30781353,
           0.101247944,
           0.03490884,
           0.22213525,
           -0.02706509,
           -0.19019246,
           0.12898491,
           -0.037279136,
           0.078741044
          ],
          [
           -0.21164064,
           0.10366717,
           1.9587083,
           0.64427054,
           0.22213525,
           1.4135121,
           -0.17222315,
           -1.2102507,
           0.8207691,
           -0.23721814,
           0.5010525
          ],
          [
           0.025786422,
           -0.01263087,
           -0.23865019,
           -0.078498304,
           -0.02706509,
           -0.17222315,
           0.020983772,
           0.14745767,
           -0.10000299,
           0.028902799,
           -0.061048534
          ],
          [
           0.18120697,
           -0.08875996,
           -1.6770484,
           -0.55162525,
           -0.19019246,
           -1.2102507,
           0.14745767,
           1.0362182,
           -0.7027435,
           0.20310646,
           -0.42900175
          ],
          [
           -0.12289112,
           0.060195312,
           1.1373423,
           0.37410173,
           0.12898491,
           0.8207691,
           -0.10000299,
           -0.7027435,
           0.47658724,
           -0.13774294,
           0.29094082
          ],
          [
           0.035517912,
           -0.01739761,
           -0.32871395,
           -0.10812264,
           -0.037279136,
           -0.23721814,
           0.028902799,
           0.20310646,
           -0.13774294,
           0.039810374,
           -0.08408753
          ],
          [
           -0.075020984,
           0.03674726,
           0.69431007,
           0.22837679,
           0.078741044,
           0.5010525,
           -0.061048534,
           -0.42900175,
           0.29094082,
           -0.08408753,
           0.1776098
          ]
         ]
        }
       ],
       "layout": {
        "coloraxis": {
         "cmid": 0,
         "colorscale": [
          [
           0,
           "rgb(103,0,31)"
          ],
          [
           0.1,
           "rgb(178,24,43)"
          ],
          [
           0.2,
           "rgb(214,96,77)"
          ],
          [
           0.3,
           "rgb(244,165,130)"
          ],
          [
           0.4,
           "rgb(253,219,199)"
          ],
          [
           0.5,
           "rgb(247,247,247)"
          ],
          [
           0.6,
           "rgb(209,229,240)"
          ],
          [
           0.7,
           "rgb(146,197,222)"
          ],
          [
           0.8,
           "rgb(67,147,195)"
          ],
          [
           0.9,
           "rgb(33,102,172)"
          ],
          [
           1,
           "rgb(5,48,97)"
          ]
         ]
        },
        "margin": {
         "t": 60
        },
        "template": {
         "data": {
          "bar": [
           {
            "error_x": {
             "color": "#2a3f5f"
            },
            "error_y": {
             "color": "#2a3f5f"
            },
            "marker": {
             "line": {
              "color": "#E5ECF6",
              "width": 0.5
             },
             "pattern": {
              "fillmode": "overlay",
              "size": 10,
              "solidity": 0.2
             }
            },
            "type": "bar"
           }
          ],
          "barpolar": [
           {
            "marker": {
             "line": {
              "color": "#E5ECF6",
              "width": 0.5
             },
             "pattern": {
              "fillmode": "overlay",
              "size": 10,
              "solidity": 0.2
             }
            },
            "type": "barpolar"
           }
          ],
          "carpet": [
           {
            "aaxis": {
             "endlinecolor": "#2a3f5f",
             "gridcolor": "white",
             "linecolor": "white",
             "minorgridcolor": "white",
             "startlinecolor": "#2a3f5f"
            },
            "baxis": {
             "endlinecolor": "#2a3f5f",
             "gridcolor": "white",
             "linecolor": "white",
             "minorgridcolor": "white",
             "startlinecolor": "#2a3f5f"
            },
            "type": "carpet"
           }
          ],
          "choropleth": [
           {
            "colorbar": {
             "outlinewidth": 0,
             "ticks": ""
            },
            "type": "choropleth"
           }
          ],
          "contour": [
           {
            "colorbar": {
             "outlinewidth": 0,
             "ticks": ""
            },
            "colorscale": [
             [
              0,
              "#0d0887"
             ],
             [
              0.1111111111111111,
              "#46039f"
             ],
             [
              0.2222222222222222,
              "#7201a8"
             ],
             [
              0.3333333333333333,
              "#9c179e"
             ],
             [
              0.4444444444444444,
              "#bd3786"
             ],
             [
              0.5555555555555556,
              "#d8576b"
             ],
             [
              0.6666666666666666,
              "#ed7953"
             ],
             [
              0.7777777777777778,
              "#fb9f3a"
             ],
             [
              0.8888888888888888,
              "#fdca26"
             ],
             [
              1,
              "#f0f921"
             ]
            ],
            "type": "contour"
           }
          ],
          "contourcarpet": [
           {
            "colorbar": {
             "outlinewidth": 0,
             "ticks": ""
            },
            "type": "contourcarpet"
           }
          ],
          "heatmap": [
           {
            "colorbar": {
             "outlinewidth": 0,
             "ticks": ""
            },
            "colorscale": [
             [
              0,
              "#0d0887"
             ],
             [
              0.1111111111111111,
              "#46039f"
             ],
             [
              0.2222222222222222,
              "#7201a8"
             ],
             [
              0.3333333333333333,
              "#9c179e"
             ],
             [
              0.4444444444444444,
              "#bd3786"
             ],
             [
              0.5555555555555556,
              "#d8576b"
             ],
             [
              0.6666666666666666,
              "#ed7953"
             ],
             [
              0.7777777777777778,
              "#fb9f3a"
             ],
             [
              0.8888888888888888,
              "#fdca26"
             ],
             [
              1,
              "#f0f921"
             ]
            ],
            "type": "heatmap"
           }
          ],
          "heatmapgl": [
           {
            "colorbar": {
             "outlinewidth": 0,
             "ticks": ""
            },
            "colorscale": [
             [
              0,
              "#0d0887"
             ],
             [
              0.1111111111111111,
              "#46039f"
             ],
             [
              0.2222222222222222,
              "#7201a8"
             ],
             [
              0.3333333333333333,
              "#9c179e"
             ],
             [
              0.4444444444444444,
              "#bd3786"
             ],
             [
              0.5555555555555556,
              "#d8576b"
             ],
             [
              0.6666666666666666,
              "#ed7953"
             ],
             [
              0.7777777777777778,
              "#fb9f3a"
             ],
             [
              0.8888888888888888,
              "#fdca26"
             ],
             [
              1,
              "#f0f921"
             ]
            ],
            "type": "heatmapgl"
           }
          ],
          "histogram": [
           {
            "marker": {
             "pattern": {
              "fillmode": "overlay",
              "size": 10,
              "solidity": 0.2
             }
            },
            "type": "histogram"
           }
          ],
          "histogram2d": [
           {
            "colorbar": {
             "outlinewidth": 0,
             "ticks": ""
            },
            "colorscale": [
             [
              0,
              "#0d0887"
             ],
             [
              0.1111111111111111,
              "#46039f"
             ],
             [
              0.2222222222222222,
              "#7201a8"
             ],
             [
              0.3333333333333333,
              "#9c179e"
             ],
             [
              0.4444444444444444,
              "#bd3786"
             ],
             [
              0.5555555555555556,
              "#d8576b"
             ],
             [
              0.6666666666666666,
              "#ed7953"
             ],
             [
              0.7777777777777778,
              "#fb9f3a"
             ],
             [
              0.8888888888888888,
              "#fdca26"
             ],
             [
              1,
              "#f0f921"
             ]
            ],
            "type": "histogram2d"
           }
          ],
          "histogram2dcontour": [
           {
            "colorbar": {
             "outlinewidth": 0,
             "ticks": ""
            },
            "colorscale": [
             [
              0,
              "#0d0887"
             ],
             [
              0.1111111111111111,
              "#46039f"
             ],
             [
              0.2222222222222222,
              "#7201a8"
             ],
             [
              0.3333333333333333,
              "#9c179e"
             ],
             [
              0.4444444444444444,
              "#bd3786"
             ],
             [
              0.5555555555555556,
              "#d8576b"
             ],
             [
              0.6666666666666666,
              "#ed7953"
             ],
             [
              0.7777777777777778,
              "#fb9f3a"
             ],
             [
              0.8888888888888888,
              "#fdca26"
             ],
             [
              1,
              "#f0f921"
             ]
            ],
            "type": "histogram2dcontour"
           }
          ],
          "mesh3d": [
           {
            "colorbar": {
             "outlinewidth": 0,
             "ticks": ""
            },
            "type": "mesh3d"
           }
          ],
          "parcoords": [
           {
            "line": {
             "colorbar": {
              "outlinewidth": 0,
              "ticks": ""
             }
            },
            "type": "parcoords"
           }
          ],
          "pie": [
           {
            "automargin": true,
            "type": "pie"
           }
          ],
          "scatter": [
           {
            "fillpattern": {
             "fillmode": "overlay",
             "size": 10,
             "solidity": 0.2
            },
            "type": "scatter"
           }
          ],
          "scatter3d": [
           {
            "line": {
             "colorbar": {
              "outlinewidth": 0,
              "ticks": ""
             }
            },
            "marker": {
             "colorbar": {
              "outlinewidth": 0,
              "ticks": ""
             }
            },
            "type": "scatter3d"
           }
          ],
          "scattercarpet": [
           {
            "marker": {
             "colorbar": {
              "outlinewidth": 0,
              "ticks": ""
             }
            },
            "type": "scattercarpet"
           }
          ],
          "scattergeo": [
           {
            "marker": {
             "colorbar": {
              "outlinewidth": 0,
              "ticks": ""
             }
            },
            "type": "scattergeo"
           }
          ],
          "scattergl": [
           {
            "marker": {
             "colorbar": {
              "outlinewidth": 0,
              "ticks": ""
             }
            },
            "type": "scattergl"
           }
          ],
          "scattermapbox": [
           {
            "marker": {
             "colorbar": {
              "outlinewidth": 0,
              "ticks": ""
             }
            },
            "type": "scattermapbox"
           }
          ],
          "scatterpolar": [
           {
            "marker": {
             "colorbar": {
              "outlinewidth": 0,
              "ticks": ""
             }
            },
            "type": "scatterpolar"
           }
          ],
          "scatterpolargl": [
           {
            "marker": {
             "colorbar": {
              "outlinewidth": 0,
              "ticks": ""
             }
            },
            "type": "scatterpolargl"
           }
          ],
          "scatterternary": [
           {
            "marker": {
             "colorbar": {
              "outlinewidth": 0,
              "ticks": ""
             }
            },
            "type": "scatterternary"
           }
          ],
          "surface": [
           {
            "colorbar": {
             "outlinewidth": 0,
             "ticks": ""
            },
            "colorscale": [
             [
              0,
              "#0d0887"
             ],
             [
              0.1111111111111111,
              "#46039f"
             ],
             [
              0.2222222222222222,
              "#7201a8"
             ],
             [
              0.3333333333333333,
              "#9c179e"
             ],
             [
              0.4444444444444444,
              "#bd3786"
             ],
             [
              0.5555555555555556,
              "#d8576b"
             ],
             [
              0.6666666666666666,
              "#ed7953"
             ],
             [
              0.7777777777777778,
              "#fb9f3a"
             ],
             [
              0.8888888888888888,
              "#fdca26"
             ],
             [
              1,
              "#f0f921"
             ]
            ],
            "type": "surface"
           }
          ],
          "table": [
           {
            "cells": {
             "fill": {
              "color": "#EBF0F8"
             },
             "line": {
              "color": "white"
             }
            },
            "header": {
             "fill": {
              "color": "#C8D4E3"
             },
             "line": {
              "color": "white"
             }
            },
            "type": "table"
           }
          ]
         },
         "layout": {
          "annotationdefaults": {
           "arrowcolor": "#2a3f5f",
           "arrowhead": 0,
           "arrowwidth": 1
          },
          "autotypenumbers": "strict",
          "coloraxis": {
           "colorbar": {
            "outlinewidth": 0,
            "ticks": ""
           }
          },
          "colorscale": {
           "diverging": [
            [
             0,
             "#8e0152"
            ],
            [
             0.1,
             "#c51b7d"
            ],
            [
             0.2,
             "#de77ae"
            ],
            [
             0.3,
             "#f1b6da"
            ],
            [
             0.4,
             "#fde0ef"
            ],
            [
             0.5,
             "#f7f7f7"
            ],
            [
             0.6,
             "#e6f5d0"
            ],
            [
             0.7,
             "#b8e186"
            ],
            [
             0.8,
             "#7fbc41"
            ],
            [
             0.9,
             "#4d9221"
            ],
            [
             1,
             "#276419"
            ]
           ],
           "sequential": [
            [
             0,
             "#0d0887"
            ],
            [
             0.1111111111111111,
             "#46039f"
            ],
            [
             0.2222222222222222,
             "#7201a8"
            ],
            [
             0.3333333333333333,
             "#9c179e"
            ],
            [
             0.4444444444444444,
             "#bd3786"
            ],
            [
             0.5555555555555556,
             "#d8576b"
            ],
            [
             0.6666666666666666,
             "#ed7953"
            ],
            [
             0.7777777777777778,
             "#fb9f3a"
            ],
            [
             0.8888888888888888,
             "#fdca26"
            ],
            [
             1,
             "#f0f921"
            ]
           ],
           "sequentialminus": [
            [
             0,
             "#0d0887"
            ],
            [
             0.1111111111111111,
             "#46039f"
            ],
            [
             0.2222222222222222,
             "#7201a8"
            ],
            [
             0.3333333333333333,
             "#9c179e"
            ],
            [
             0.4444444444444444,
             "#bd3786"
            ],
            [
             0.5555555555555556,
             "#d8576b"
            ],
            [
             0.6666666666666666,
             "#ed7953"
            ],
            [
             0.7777777777777778,
             "#fb9f3a"
            ],
            [
             0.8888888888888888,
             "#fdca26"
            ],
            [
             1,
             "#f0f921"
            ]
           ]
          },
          "colorway": [
           "#636efa",
           "#EF553B",
           "#00cc96",
           "#ab63fa",
           "#FFA15A",
           "#19d3f3",
           "#FF6692",
           "#B6E880",
           "#FF97FF",
           "#FECB52"
          ],
          "font": {
           "color": "#2a3f5f"
          },
          "geo": {
           "bgcolor": "white",
           "lakecolor": "white",
           "landcolor": "#E5ECF6",
           "showlakes": true,
           "showland": true,
           "subunitcolor": "white"
          },
          "hoverlabel": {
           "align": "left"
          },
          "hovermode": "closest",
          "mapbox": {
           "style": "light"
          },
          "paper_bgcolor": "white",
          "plot_bgcolor": "#E5ECF6",
          "polar": {
           "angularaxis": {
            "gridcolor": "white",
            "linecolor": "white",
            "ticks": ""
           },
           "bgcolor": "#E5ECF6",
           "radialaxis": {
            "gridcolor": "white",
            "linecolor": "white",
            "ticks": ""
           }
          },
          "scene": {
           "xaxis": {
            "backgroundcolor": "#E5ECF6",
            "gridcolor": "white",
            "gridwidth": 2,
            "linecolor": "white",
            "showbackground": true,
            "ticks": "",
            "zerolinecolor": "white"
           },
           "yaxis": {
            "backgroundcolor": "#E5ECF6",
            "gridcolor": "white",
            "gridwidth": 2,
            "linecolor": "white",
            "showbackground": true,
            "ticks": "",
            "zerolinecolor": "white"
           },
           "zaxis": {
            "backgroundcolor": "#E5ECF6",
            "gridcolor": "white",
            "gridwidth": 2,
            "linecolor": "white",
            "showbackground": true,
            "ticks": "",
            "zerolinecolor": "white"
           }
          },
          "shapedefaults": {
           "line": {
            "color": "#2a3f5f"
           }
          },
          "ternary": {
           "aaxis": {
            "gridcolor": "white",
            "linecolor": "white",
            "ticks": ""
           },
           "baxis": {
            "gridcolor": "white",
            "linecolor": "white",
            "ticks": ""
           },
           "bgcolor": "#E5ECF6",
           "caxis": {
            "gridcolor": "white",
            "linecolor": "white",
            "ticks": ""
           }
          },
          "title": {
           "x": 0.05
          },
          "xaxis": {
           "automargin": true,
           "gridcolor": "white",
           "linecolor": "white",
           "ticks": "",
           "title": {
            "standoff": 15
           },
           "zerolinecolor": "white",
           "zerolinewidth": 2
          },
          "yaxis": {
           "automargin": true,
           "gridcolor": "white",
           "linecolor": "white",
           "ticks": "",
           "title": {
            "standoff": 15
           },
           "zerolinecolor": "white",
           "zerolinewidth": 2
          }
         }
        },
        "xaxis": {
         "anchor": "y",
         "domain": [
          0,
          1
         ]
        },
        "yaxis": {
         "anchor": "x",
         "autorange": "reversed",
         "domain": [
          0,
          1
         ]
        }
       }
      }
     },
     "metadata": {},
     "output_type": "display_data"
    }
   ],
   "source": [
    "print(dot_products.shape)\n",
    "imshow_div(dot_products)"
   ]
  },
  {
   "attachments": {},
   "cell_type": "markdown",
   "metadata": {},
   "source": [
    "## What would your hypothesis around the attention head activations be based on seeing this?\n",
    "+ Jack - My poorly informed guess is that tokens with low dot products and/or low norms won't have any strong attentional interaction\n",
    "+ Omar - I think that corner moves [0, 2, 6, 8] will have similar attention patterns\n",
    "+ Ari - I think same as Omar, plus center attends to everything, middle edges have attention symmetry too"
   ]
  },
  {
   "cell_type": "code",
   "execution_count": 54,
   "metadata": {},
   "outputs": [
    {
     "name": "stdout",
     "output_type": "stream",
     "text": [
      "<class 'transformer_lens.ActivationCache.ActivationCache'>\n",
      "torch.Size([8, 3, 3])\n"
     ]
    },
    {
     "data": {
      "text/html": [
       "<div id=\"circuits-vis-0abd3acf-0642\" style=\"margin: 15px 0;\"/>\n",
       "    <script crossorigin type=\"module\">\n",
       "    import { render, AttentionPatterns } from \"https://unpkg.com/circuitsvis@1.39.1/dist/cdn/esm.js\";\n",
       "    render(\n",
       "      \"circuits-vis-0abd3acf-0642\",\n",
       "      AttentionPatterns,\n",
       "      {\"tokens\": [\"10\", \"0\", \"2\"], \"attention\": [[[1.0, 0.0, 0.0], [0.5240195989608765, 0.47598040103912354, 0.0], [0.2810288667678833, 0.26403579115867615, 0.45493537187576294]], [[1.0, 0.0, 0.0], [0.4234985113143921, 0.5765015482902527, 0.0], [0.3256113529205322, 0.37678006291389465, 0.2976085841655731]], [[1.0, 0.0, 0.0], [0.4763963520526886, 0.5236036777496338, 0.0], [0.30136385560035706, 0.3840942680835724, 0.31454184651374817]], [[1.0, 0.0, 0.0], [0.5770627856254578, 0.422937273979187, 0.0], [0.4069257080554962, 0.32499608397483826, 0.2680782377719879]], [[1.0, 0.0, 0.0], [0.6146308779716492, 0.38536906242370605, 0.0], [0.20430782437324524, 0.191360741853714, 0.6043314933776855]], [[1.0, 0.0, 0.0], [0.4553534984588623, 0.5446465015411377, 0.0], [0.3150535225868225, 0.33740007877349854, 0.34754639863967896]], [[1.0, 0.0, 0.0], [0.46721452474594116, 0.5327854752540588, 0.0], [0.2579633295536041, 0.30932262539863586, 0.4327141046524048]], [[1.0, 0.0, 0.0], [0.5332695841789246, 0.46673038601875305, 0.0], [0.3559171259403229, 0.31818950176239014, 0.325893372297287]]]}\n",
       "    )\n",
       "    </script>"
      ],
      "text/plain": [
       "<circuitsvis.utils.render.RenderedHTML at 0x7fbcdca56c80>"
      ]
     },
     "execution_count": 54,
     "metadata": {},
     "output_type": "execute_result"
    }
   ],
   "source": [
    "tokens = [10,0,2]\n",
    "# tokens = ([10] * 5) + [1,2,5,8,7]\n",
    "str_tokens = [str(token) for token in tokens]\n",
    "logits, cache = model.run_with_cache(torch.tensor(tokens).to('cuda'), remove_batch_dim=True)\n",
    "\n",
    "print(type(cache))\n",
    "attention_pattern = cache[\"pattern\", 3, \"attn\"]\n",
    "print(attention_pattern.shape)\n",
    "cv.attention.attention_patterns(tokens=str_tokens, attention=attention_pattern)"
   ]
  },
  {
   "cell_type": "code",
   "execution_count": null,
   "metadata": {},
   "outputs": [],
   "source": []
  }
 ],
 "metadata": {
  "kernelspec": {
   "display_name": "Python 3",
   "language": "python",
   "name": "python3"
  },
  "language_info": {
   "codemirror_mode": {
    "name": "ipython",
    "version": 3
   },
   "file_extension": ".py",
   "mimetype": "text/x-python",
   "name": "python",
   "nbconvert_exporter": "python",
   "pygments_lexer": "ipython3",
   "version": "3.10.9"
  },
  "orig_nbformat": 4
 },
 "nbformat": 4,
 "nbformat_minor": 2
}
