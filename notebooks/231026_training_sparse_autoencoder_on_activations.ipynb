{
 "cells": [
  {
   "cell_type": "code",
   "execution_count": 1,
   "metadata": {},
   "outputs": [],
   "source": [
    "from alphatoe import models, plot, interpretability, game\n",
    "import pandas as pd\n",
    "import torch\n",
    "from pytorch_memlab import LineProfiler, MemReporter\n",
    "from showmethetypes import SMTT\n",
    "import einops\n",
    "import matplotlib.pyplot as plt\n",
    "from matplotlib.ticker import LogFormatter\n",
    "import numpy as np\n",
    "import tqdm"
   ]
  },
  {
   "cell_type": "code",
   "execution_count": 2,
   "metadata": {},
   "outputs": [],
   "source": [
    "tt = SMTT(\"torch\")"
   ]
  },
  {
   "cell_type": "code",
   "execution_count": 3,
   "metadata": {},
   "outputs": [],
   "source": [
    "model = interpretability.load_model(\n",
    "    \"../scripts/models/prob all 8 layer control-20230718-185339\"\n",
    ")"
   ]
  },
  {
   "cell_type": "code",
   "execution_count": 4,
   "metadata": {},
   "outputs": [
    {
     "name": "stderr",
     "output_type": "stream",
     "text": [
      "/tmp/ipykernel_15197/629368561.py:1: DtypeWarning: Columns (11) have mixed types. Specify dtype option on import or set low_memory=False.\n",
      "  games = pd.read_csv(\"../data/prob all 8 layer control-20230718-185339_stats.csv\")\n"
     ]
    },
    {
     "data": {
      "text/html": [
       "<div>\n",
       "<style scoped>\n",
       "    .dataframe tbody tr th:only-of-type {\n",
       "        vertical-align: middle;\n",
       "    }\n",
       "\n",
       "    .dataframe tbody tr th {\n",
       "        vertical-align: top;\n",
       "    }\n",
       "\n",
       "    .dataframe thead th {\n",
       "        text-align: right;\n",
       "    }\n",
       "</style>\n",
       "<table border=\"1\" class=\"dataframe\">\n",
       "  <thead>\n",
       "    <tr style=\"text-align: right;\">\n",
       "      <th></th>\n",
       "      <th>moves played</th>\n",
       "      <th>steps till end state</th>\n",
       "      <th>winner</th>\n",
       "      <th>rotation 1</th>\n",
       "      <th>rotation 2</th>\n",
       "      <th>rotation 3</th>\n",
       "      <th>horizontal flip</th>\n",
       "      <th>vertical flip</th>\n",
       "      <th>training index</th>\n",
       "      <th>train or test</th>\n",
       "      <th>first win condition</th>\n",
       "      <th>second win condition</th>\n",
       "      <th>end move loss</th>\n",
       "    </tr>\n",
       "  </thead>\n",
       "  <tbody>\n",
       "    <tr>\n",
       "      <th>0</th>\n",
       "      <td>[0, 1, 3, 2, 6]</td>\n",
       "      <td>5</td>\n",
       "      <td>X</td>\n",
       "      <td>399</td>\n",
       "      <td>1439</td>\n",
       "      <td>1040</td>\n",
       "      <td>1114</td>\n",
       "      <td>325</td>\n",
       "      <td>241912</td>\n",
       "      <td>test</td>\n",
       "      <td>left column</td>\n",
       "      <td>NaN</td>\n",
       "      <td>0.000005</td>\n",
       "    </tr>\n",
       "    <tr>\n",
       "      <th>1</th>\n",
       "      <td>[0, 1, 3, 4, 6]</td>\n",
       "      <td>5</td>\n",
       "      <td>X</td>\n",
       "      <td>396</td>\n",
       "      <td>1438</td>\n",
       "      <td>1043</td>\n",
       "      <td>1112</td>\n",
       "      <td>327</td>\n",
       "      <td>190522</td>\n",
       "      <td>train</td>\n",
       "      <td>left column</td>\n",
       "      <td>NaN</td>\n",
       "      <td>0.000114</td>\n",
       "    </tr>\n",
       "    <tr>\n",
       "      <th>2</th>\n",
       "      <td>[0, 1, 3, 5, 6]</td>\n",
       "      <td>5</td>\n",
       "      <td>X</td>\n",
       "      <td>398</td>\n",
       "      <td>1437</td>\n",
       "      <td>1041</td>\n",
       "      <td>1113</td>\n",
       "      <td>326</td>\n",
       "      <td>90275</td>\n",
       "      <td>train</td>\n",
       "      <td>left column</td>\n",
       "      <td>NaN</td>\n",
       "      <td>0.000007</td>\n",
       "    </tr>\n",
       "    <tr>\n",
       "      <th>3</th>\n",
       "      <td>[0, 1, 3, 7, 6]</td>\n",
       "      <td>5</td>\n",
       "      <td>X</td>\n",
       "      <td>395</td>\n",
       "      <td>1436</td>\n",
       "      <td>1044</td>\n",
       "      <td>1110</td>\n",
       "      <td>329</td>\n",
       "      <td>21994</td>\n",
       "      <td>train</td>\n",
       "      <td>left column</td>\n",
       "      <td>NaN</td>\n",
       "      <td>0.000008</td>\n",
       "    </tr>\n",
       "    <tr>\n",
       "      <th>4</th>\n",
       "      <td>[0, 1, 3, 8, 6]</td>\n",
       "      <td>5</td>\n",
       "      <td>X</td>\n",
       "      <td>397</td>\n",
       "      <td>1435</td>\n",
       "      <td>1042</td>\n",
       "      <td>1111</td>\n",
       "      <td>328</td>\n",
       "      <td>48696</td>\n",
       "      <td>train</td>\n",
       "      <td>left column</td>\n",
       "      <td>NaN</td>\n",
       "      <td>0.000013</td>\n",
       "    </tr>\n",
       "  </tbody>\n",
       "</table>\n",
       "</div>"
      ],
      "text/plain": [
       "      moves played  steps till end state winner  rotation 1  rotation 2  \\\n",
       "0  [0, 1, 3, 2, 6]                     5      X         399        1439   \n",
       "1  [0, 1, 3, 4, 6]                     5      X         396        1438   \n",
       "2  [0, 1, 3, 5, 6]                     5      X         398        1437   \n",
       "3  [0, 1, 3, 7, 6]                     5      X         395        1436   \n",
       "4  [0, 1, 3, 8, 6]                     5      X         397        1435   \n",
       "\n",
       "   rotation 3  horizontal flip  vertical flip  training index train or test  \\\n",
       "0        1040             1114            325          241912          test   \n",
       "1        1043             1112            327          190522         train   \n",
       "2        1041             1113            326           90275         train   \n",
       "3        1044             1110            329           21994         train   \n",
       "4        1042             1111            328           48696         train   \n",
       "\n",
       "  first win condition second win condition  end move loss  \n",
       "0         left column                  NaN       0.000005  \n",
       "1         left column                  NaN       0.000114  \n",
       "2         left column                  NaN       0.000007  \n",
       "3         left column                  NaN       0.000008  \n",
       "4         left column                  NaN       0.000013  "
      ]
     },
     "execution_count": 4,
     "metadata": {},
     "output_type": "execute_result"
    }
   ],
   "source": [
    "games = pd.read_csv(\"../data/prob all 8 layer control-20230718-185339_stats.csv\")\n",
    "games.head()"
   ]
  },
  {
   "cell_type": "markdown",
   "metadata": {},
   "source": [
    "- Sort games by game length [X]\n",
    "- batch inference for games of length [X]\n",
    "- extract activations with hooks [X]\n",
    "- train autoencoder on data reconstruction (anthropic has tips here) [X]\n",
    "- find good metrics + start looking at data (anthropic has tips here)"
   ]
  },
  {
   "cell_type": "code",
   "execution_count": 5,
   "metadata": {},
   "outputs": [],
   "source": [
    "all_games = game.generate_all_games([game.Board()])"
   ]
  },
  {
   "cell_type": "code",
   "execution_count": 6,
   "metadata": {},
   "outputs": [
    {
     "data": {
      "text/plain": [
       "255168"
      ]
     },
     "execution_count": 6,
     "metadata": {},
     "output_type": "execute_result"
    }
   ],
   "source": [
    "len(all_games)"
   ]
  },
  {
   "cell_type": "code",
   "execution_count": 7,
   "metadata": {},
   "outputs": [],
   "source": [
    "games_len_dict = {5: [], 6: [], 7: [], 8: [], 9: []}\n",
    "for game in all_games:\n",
    "    games_len_dict[len(game.moves_played)].append(game.moves_played)"
   ]
  },
  {
   "cell_type": "code",
   "execution_count": 8,
   "metadata": {},
   "outputs": [
    {
     "name": "stdout",
     "output_type": "stream",
     "text": [
      "255168\n"
     ]
    }
   ],
   "source": [
    "s = 0\n",
    "for key in games_len_dict.keys():\n",
    "    s += len(games_len_dict[key])\n",
    "print(s)"
   ]
  },
  {
   "cell_type": "code",
   "execution_count": 9,
   "metadata": {},
   "outputs": [],
   "source": [
    "games_len_tensors = {}\n",
    "for key in games_len_dict.keys():\n",
    "    games_len_tensors[key] = torch.stack(\n",
    "        [torch.tensor([10] + game) for game in games_len_dict[key]]\n",
    "    )"
   ]
  },
  {
   "cell_type": "code",
   "execution_count": 10,
   "metadata": {},
   "outputs": [
    {
     "data": {
      "text/plain": [
       "dict_keys([5, 6, 7, 8, 9])"
      ]
     },
     "execution_count": 10,
     "metadata": {},
     "output_type": "execute_result"
    }
   ],
   "source": [
    "games_len_tensors.keys()"
   ]
  },
  {
   "cell_type": "code",
   "execution_count": 11,
   "metadata": {},
   "outputs": [
    {
     "data": {
      "text/plain": [
       "device(type='cpu')"
      ]
     },
     "execution_count": 11,
     "metadata": {},
     "output_type": "execute_result"
    }
   ],
   "source": [
    "games_len_tensors[9].device"
   ]
  },
  {
   "cell_type": "code",
   "execution_count": 12,
   "metadata": {},
   "outputs": [],
   "source": [
    "# Activation hook\n",
    "def neuron_activations(seq):\n",
    "    def hook(module, input, output):\n",
    "        result = output.clone()\n",
    "        module.captured_activations = result\n",
    "\n",
    "    try:\n",
    "        with torch.inference_mode():\n",
    "            handle = model.blocks[0].mlp.hook_post.register_forward_hook(hook)\n",
    "            _ = model(seq)\n",
    "            activations = model.blocks[0].mlp.hook_post.captured_activations\n",
    "            handle.remove()\n",
    "    except Exception as e:\n",
    "        handle.remove()\n",
    "        raise e\n",
    "\n",
    "    return activations"
   ]
  },
  {
   "cell_type": "code",
   "execution_count": 13,
   "metadata": {},
   "outputs": [],
   "source": [
    "# a = neuron_activations(games_len_tensors[5])[:, -1]"
   ]
  },
  {
   "cell_type": "code",
   "execution_count": 14,
   "metadata": {},
   "outputs": [],
   "source": [
    "# a.numel() * a.element_size()"
   ]
  },
  {
   "cell_type": "code",
   "execution_count": 15,
   "metadata": {},
   "outputs": [],
   "source": [
    "# b = neuron_activations(games_len_tensors[9])\n",
    "# reporter = MemReporter()\n",
    "# reporter.report()"
   ]
  },
  {
   "cell_type": "code",
   "execution_count": 16,
   "metadata": {},
   "outputs": [],
   "source": [
    "torch.cuda.empty_cache()"
   ]
  },
  {
   "cell_type": "code",
   "execution_count": 17,
   "metadata": {},
   "outputs": [],
   "source": [
    "length = games_len_tensors[9].shape[0]\n",
    "batchy_size = length // 4"
   ]
  },
  {
   "cell_type": "code",
   "execution_count": 18,
   "metadata": {},
   "outputs": [
    {
     "name": "stdout",
     "output_type": "stream",
     "text": [
      "0\n",
      "cuda:0\n",
      "1\n",
      "cuda:0\n",
      "2\n"
     ]
    },
    {
     "name": "stderr",
     "output_type": "stream",
     "text": [
      "Batch 2: 100%|██████████| 2/2 [00:00<00:00,  6.50it/s]\n"
     ]
    },
    {
     "name": "stdout",
     "output_type": "stream",
     "text": [
      "cuda:0\n",
      "3\n"
     ]
    },
    {
     "name": "stderr",
     "output_type": "stream",
     "text": [
      "Batch 3: 100%|██████████| 3/3 [00:00<00:00,  5.57it/s]\n"
     ]
    },
    {
     "name": "stdout",
     "output_type": "stream",
     "text": [
      "cuda:0\n",
      "4\n"
     ]
    },
    {
     "name": "stderr",
     "output_type": "stream",
     "text": [
      "Batch 4: 100%|██████████| 4/4 [00:01<00:00,  3.74it/s]"
     ]
    },
    {
     "name": "stdout",
     "output_type": "stream",
     "text": [
      "cuda:0\n"
     ]
    },
    {
     "name": "stderr",
     "output_type": "stream",
     "text": [
      "\n"
     ]
    }
   ],
   "source": [
    "# Inference loop\n",
    "# will there be a difference across game lengths?\n",
    "# Doesn't fit in memory?\n",
    "# 512 neurons * 255168 games * 32 bit floats * 10 seq len = 5.22 gigabytes???\n",
    "\n",
    "all_acts = []\n",
    "for i, key in enumerate(games_len_tensors.keys()):\n",
    "    print(i)\n",
    "    if games_len_tensors[key].shape[0] < batchy_size:\n",
    "        acts = neuron_activations(games_len_tensors[key])\n",
    "        all_acts.append(acts.to(\"cpu\"))\n",
    "    else:\n",
    "        for j in tqdm.trange(\n",
    "            0, games_len_tensors[key].shape[0], batchy_size, desc=f\"Batch {i}\"\n",
    "        ):\n",
    "            acts = neuron_activations(games_len_tensors[key][j : j + batchy_size])\n",
    "            all_acts.append(acts.to(\"cpu\"))\n",
    "    print(acts.device)\n",
    "    torch.cuda.empty_cache()"
   ]
  },
  {
   "cell_type": "code",
   "execution_count": 19,
   "metadata": {},
   "outputs": [
    {
     "name": "stderr",
     "output_type": "stream",
     "text": [
      "/home/obayyub/.local/lib/python3.10/site-packages/torch/distributed/distributed_c10d.py:181: UserWarning: torch.distributed.reduce_op is deprecated, please use torch.distributed.ReduceOp instead\n",
      "  warnings.warn(\n"
     ]
    },
    {
     "name": "stdout",
     "output_type": "stream",
     "text": [
      "Element type                                            Size  Used MEM\n",
      "-------------------------------------------------------------------------------\n",
      "Storage on cpu\n",
      "Tensor0                                      (31968, 8, 512)   499.50M\n",
      "Tensor1                                      (15984, 8, 512)   249.75M\n",
      "Tensor2                                      (31968, 9, 512)   561.94M\n",
      "Tensor3                                      (31968, 9, 512)   561.94M\n",
      "Tensor4                                       (8640, 9, 512)   151.88M\n",
      "Tensor5                                     (31968, 10, 512)   624.38M\n",
      "Tensor6                                     (31968, 10, 512)   624.38M\n",
      "Tensor7                                     (31968, 10, 512)   624.38M\n",
      "Tensor8                                     (31968, 10, 512)   624.38M\n",
      "Tensor9                                         (127872, 10)     9.76M\n",
      "Tensor10                                      (1440, 6, 512)    16.88M\n",
      "Tensor11                                      (5328, 7, 512)    72.84M\n",
      "Tensor12                                           (1440, 6)    67.50K\n",
      "Tensor13                                           (5328, 7)   291.50K\n",
      "Tensor14                                          (47952, 8)     2.93M\n",
      "Tensor15                                          (72576, 9)     4.98M\n",
      "-------------------------------------------------------------------------------\n",
      "Total Tensors: 1211426928 \tUsed Memory: 4.52G\n",
      "-------------------------------------------------------------------------------\n",
      "-------------------------------------------------------------------------------\n",
      "Storage on cuda:0\n",
      "Tensor16                                    (31968, 10, 512)   624.38M\n",
      "Parameter17                                        (11, 128)     5.50K\n",
      "Parameter18                                        (10, 128)     5.00K\n",
      "Parameter19                                        (128, 10)     5.00K\n",
      "Parameter20                                            (10,)   512.00B\n",
      "Parameter21                                     (8, 128, 16)    64.00K\n",
      "Parameter22                                     (8, 128, 16)    64.00K\n",
      "Parameter23                                     (8, 128, 16)    64.00K\n",
      "Parameter24                                     (8, 16, 128)    64.00K\n",
      "Parameter25                                          (8, 16)   512.00B\n",
      "Parameter26                                          (8, 16)   512.00B\n",
      "Parameter27                                          (8, 16)   512.00B\n",
      "Parameter28                                           (128,)   512.00B\n",
      "Tensor29                                            (10, 10)   512.00B\n",
      "Tensor30                                                (1,)   512.00B\n",
      "Parameter31                                       (128, 512)   256.00K\n",
      "Parameter32                                           (512,)     2.00K\n",
      "Parameter33                                       (512, 128)   256.00K\n",
      "Parameter34                                           (128,)   512.00B\n",
      "-------------------------------------------------------------------------------\n",
      "Total Tensors: 163877999 \tUsed Memory: 625.15M\n",
      "The allocated memory on cuda:0: 625.15M\n",
      "-------------------------------------------------------------------------------\n"
     ]
    }
   ],
   "source": [
    "reporter = MemReporter()\n",
    "reporter.report()"
   ]
  },
  {
   "cell_type": "code",
   "execution_count": 20,
   "metadata": {},
   "outputs": [
    {
     "data": {
      "text/plain": [
       "device(type='cpu')"
      ]
     },
     "execution_count": 20,
     "metadata": {},
     "output_type": "execute_result"
    }
   ],
   "source": [
    "games_len_tensors[9].device"
   ]
  },
  {
   "cell_type": "code",
   "execution_count": 33,
   "metadata": {},
   "outputs": [
    {
     "name": "stdout",
     "output_type": "stream",
     "text": [
      "Tensor (dtype: torch.float32)\n",
      "    |  (device: cpu)\n",
      "    |__dim_0 (1440)\n",
      "    |__dim_1 (6)\n",
      "    |__dim_2 (512)\n",
      "Tensor (dtype: torch.float32)\n",
      "    |  (device: cpu)\n",
      "    |__dim_0 (5328)\n",
      "    |__dim_1 (7)\n",
      "    |__dim_2 (512)\n",
      "Tensor (dtype: torch.float32)\n",
      "    |  (device: cpu)\n",
      "    |__dim_0 (31968)\n",
      "    |__dim_1 (8)\n",
      "    |__dim_2 (512)\n",
      "Tensor (dtype: torch.float32)\n",
      "    |  (device: cpu)\n",
      "    |__dim_0 (15984)\n",
      "    |__dim_1 (8)\n",
      "    |__dim_2 (512)\n",
      "Tensor (dtype: torch.float32)\n",
      "    |  (device: cpu)\n",
      "    |__dim_0 (31968)\n",
      "    |__dim_1 (9)\n",
      "    |__dim_2 (512)\n",
      "Tensor (dtype: torch.float32)\n",
      "    |  (device: cpu)\n",
      "    |__dim_0 (31968)\n",
      "    |__dim_1 (9)\n",
      "    |__dim_2 (512)\n",
      "Tensor (dtype: torch.float32)\n",
      "    |  (device: cpu)\n",
      "    |__dim_0 (8640)\n",
      "    |__dim_1 (9)\n",
      "    |__dim_2 (512)\n",
      "Tensor (dtype: torch.float32)\n",
      "    |  (device: cpu)\n",
      "    |__dim_0 (31968)\n",
      "    |__dim_1 (10)\n",
      "    |__dim_2 (512)\n",
      "Tensor (dtype: torch.float32)\n",
      "    |  (device: cpu)\n",
      "    |__dim_0 (31968)\n",
      "    |__dim_1 (10)\n",
      "    |__dim_2 (512)\n",
      "Tensor (dtype: torch.float32)\n",
      "    |  (device: cpu)\n",
      "    |__dim_0 (31968)\n",
      "    |__dim_1 (10)\n",
      "    |__dim_2 (512)\n",
      "Tensor (dtype: torch.float32)\n",
      "    |  (device: cpu)\n",
      "    |__dim_0 (31968)\n",
      "    |__dim_1 (10)\n",
      "    |__dim_2 (512)\n"
     ]
    }
   ],
   "source": [
    "for act in all_acts:\n",
    "    tt(act)"
   ]
  },
  {
   "cell_type": "code",
   "execution_count": 34,
   "metadata": {},
   "outputs": [
    {
     "name": "stdout",
     "output_type": "stream",
     "text": [
      "2361456\n"
     ]
    }
   ],
   "source": [
    "out = 0\n",
    "for act in all_acts:\n",
    "    out += act.shape[0] * act.shape[1]\n",
    "print(out)\n"
   ]
  },
  {
   "cell_type": "code",
   "execution_count": 29,
   "metadata": {},
   "outputs": [],
   "source": [
    "act_data = torch.cat(\n",
    "    [einops.rearrange(acts, \"batch seq dim -> (batch seq) dim\") for acts in all_acts],\n",
    "    dim=0,\n",
    ")"
   ]
  },
  {
   "cell_type": "code",
   "execution_count": 23,
   "metadata": {},
   "outputs": [],
   "source": [
    "torch.save(act_data, \"all_games_act_data.pt\")"
   ]
  },
  {
   "cell_type": "markdown",
   "metadata": {},
   "source": [
    "Note that since there's a lot of repeated phrases in the input, we'll have lots of identical activations. Not sure how that'll change things yet though.."
   ]
  },
  {
   "cell_type": "code",
   "execution_count": 30,
   "metadata": {},
   "outputs": [
    {
     "name": "stdout",
     "output_type": "stream",
     "text": [
      "Tensor (dtype: torch.float32)\n",
      "    |  (device: cpu)\n",
      "    |__dim_0 (2361456)\n",
      "    |__dim_1 (512)\n"
     ]
    }
   ],
   "source": [
    "tt(act_data)"
   ]
  },
  {
   "cell_type": "code",
   "execution_count": 33,
   "metadata": {},
   "outputs": [],
   "source": []
  },
  {
   "cell_type": "code",
   "execution_count": 107,
   "metadata": {},
   "outputs": [],
   "source": [
    "autoenc = models.SparseAutoEncoder(512, 1024).to(\"cuda\")\n",
    "\n",
    "loss_fn = torch.nn.functional.mse_loss\n",
    "optimizer = torch.optim.Adam(autoenc.parameters(), lr=1e-4, weight_decay=1e-3)"
   ]
  },
  {
   "cell_type": "code",
   "execution_count": 24,
   "metadata": {},
   "outputs": [],
   "source": [
    "act_data = torch.load(\"all_games_act_data.pt\")"
   ]
  },
  {
   "cell_type": "code",
   "execution_count": 11,
   "metadata": {},
   "outputs": [
    {
     "name": "stdout",
     "output_type": "stream",
     "text": [
      "Tensor (dtype: torch.float32)\n",
      "    |  (device: cpu)\n",
      "    |__dim_0 (2361456)\n",
      "    |__dim_1 (512)\n"
     ]
    }
   ],
   "source": [
    "tt(act_data)"
   ]
  },
  {
   "cell_type": "code",
   "execution_count": 70,
   "metadata": {},
   "outputs": [
    {
     "data": {
      "text/plain": [
       "tensor(0.6646)"
      ]
     },
     "execution_count": 70,
     "metadata": {},
     "output_type": "execute_result"
    }
   ],
   "source": [
    "act_data[0].mean()"
   ]
  },
  {
   "cell_type": "code",
   "execution_count": 73,
   "metadata": {},
   "outputs": [
    {
     "data": {
      "text/plain": [
       "tensor([[1., 1.],\n",
       "        [1., 1.]])"
      ]
     },
     "execution_count": 73,
     "metadata": {},
     "output_type": "execute_result"
    }
   ],
   "source": [
    "test = loss_fn(torch.zeros(2,2), torch.ones(2,2), reduction=\"none\")\n",
    "test"
   ]
  },
  {
   "cell_type": "code",
   "execution_count": 108,
   "metadata": {},
   "outputs": [
    {
     "name": "stdout",
     "output_type": "stream",
     "text": [
      "[array(3.7362485, dtype=float32), tensor(1.5239, device='cuda:0', grad_fn=<MulBackward0>)]\n",
      "[array(3.2995763, dtype=float32), tensor(1.4498, device='cuda:0', grad_fn=<MulBackward0>)]\n",
      "[array(2.9917812, dtype=float32), tensor(1.3956, device='cuda:0', grad_fn=<MulBackward0>)]\n",
      "[array(2.9089925, dtype=float32), tensor(1.3895, device='cuda:0', grad_fn=<MulBackward0>)]\n",
      "[array(2.6021442, dtype=float32), tensor(1.3093, device='cuda:0', grad_fn=<MulBackward0>)]\n",
      "[array(2.3322031, dtype=float32), tensor(1.2705, device='cuda:0', grad_fn=<MulBackward0>)]\n",
      "[array(2.2020402, dtype=float32), tensor(1.2586, device='cuda:0', grad_fn=<MulBackward0>)]\n",
      "[array(2.0453753, dtype=float32), tensor(1.2236, device='cuda:0', grad_fn=<MulBackward0>)]\n",
      "[array(1.7957475, dtype=float32), tensor(1.1255, device='cuda:0', grad_fn=<MulBackward0>)]\n",
      "[array(1.7530041, dtype=float32), tensor(1.1034, device='cuda:0', grad_fn=<MulBackward0>)]\n",
      "[array(1.6585131, dtype=float32), tensor(1.0819, device='cuda:0', grad_fn=<MulBackward0>)]\n",
      "[array(1.5277021, dtype=float32), tensor(1.0563, device='cuda:0', grad_fn=<MulBackward0>)]\n",
      "[array(1.3623464, dtype=float32), tensor(1.0076, device='cuda:0', grad_fn=<MulBackward0>)]\n",
      "[array(1.3511343, dtype=float32), tensor(1.0054, device='cuda:0', grad_fn=<MulBackward0>)]\n",
      "[array(1.2639726, dtype=float32), tensor(0.9628, device='cuda:0', grad_fn=<MulBackward0>)]\n",
      "[array(1.2735687, dtype=float32), tensor(0.9733, device='cuda:0', grad_fn=<MulBackward0>)]\n",
      "[array(1.2120717, dtype=float32), tensor(0.9515, device='cuda:0', grad_fn=<MulBackward0>)]\n",
      "[array(1.1394832, dtype=float32), tensor(0.9202, device='cuda:0', grad_fn=<MulBackward0>)]\n",
      "[array(1.0856831, dtype=float32), tensor(0.8959, device='cuda:0', grad_fn=<MulBackward0>)]\n",
      "[array(1.0265818, dtype=float32), tensor(0.8609, device='cuda:0', grad_fn=<MulBackward0>)]\n",
      "[array(0.99407554, dtype=float32), tensor(0.8573, device='cuda:0', grad_fn=<MulBackward0>)]\n",
      "[array(0.9495876, dtype=float32), tensor(0.8203, device='cuda:0', grad_fn=<MulBackward0>)]\n",
      "[array(0.92399395, dtype=float32), tensor(0.8177, device='cuda:0', grad_fn=<MulBackward0>)]\n",
      "[array(0.8989332, dtype=float32), tensor(0.7873, device='cuda:0', grad_fn=<MulBackward0>)]\n",
      "[array(0.8278792, dtype=float32), tensor(0.7290, device='cuda:0', grad_fn=<MulBackward0>)]\n",
      "[array(0.8007872, dtype=float32), tensor(0.7065, device='cuda:0', grad_fn=<MulBackward0>)]\n",
      "[array(0.8101353, dtype=float32), tensor(0.7051, device='cuda:0', grad_fn=<MulBackward0>)]\n",
      "[array(0.80551857, dtype=float32), tensor(0.7003, device='cuda:0', grad_fn=<MulBackward0>)]\n",
      "[array(0.78856957, dtype=float32), tensor(0.6884, device='cuda:0', grad_fn=<MulBackward0>)]\n",
      "[array(0.78699493, dtype=float32), tensor(0.6820, device='cuda:0', grad_fn=<MulBackward0>)]\n",
      "[array(0.73597586, dtype=float32), tensor(0.6418, device='cuda:0', grad_fn=<MulBackward0>)]\n",
      "[array(0.69994414, dtype=float32), tensor(0.6302, device='cuda:0', grad_fn=<MulBackward0>)]\n",
      "[array(0.67554426, dtype=float32), tensor(0.6099, device='cuda:0', grad_fn=<MulBackward0>)]\n",
      "[array(0.69525874, dtype=float32), tensor(0.6007, device='cuda:0', grad_fn=<MulBackward0>)]\n",
      "[array(0.677909, dtype=float32), tensor(0.5832, device='cuda:0', grad_fn=<MulBackward0>)]\n",
      "[array(0.6587501, dtype=float32), tensor(0.5635, device='cuda:0', grad_fn=<MulBackward0>)]\n",
      "[array(0.6427179, dtype=float32), tensor(0.5480, device='cuda:0', grad_fn=<MulBackward0>)]\n",
      "[array(0.6454644, dtype=float32), tensor(0.5437, device='cuda:0', grad_fn=<MulBackward0>)]\n",
      "[array(0.6540308, dtype=float32), tensor(0.5486, device='cuda:0', grad_fn=<MulBackward0>)]\n",
      "[array(0.63385916, dtype=float32), tensor(0.5335, device='cuda:0', grad_fn=<MulBackward0>)]\n",
      "[array(0.6198698, dtype=float32), tensor(0.5136, device='cuda:0', grad_fn=<MulBackward0>)]\n",
      "[array(0.6053221, dtype=float32), tensor(0.5038, device='cuda:0', grad_fn=<MulBackward0>)]\n",
      "[array(0.62234247, dtype=float32), tensor(0.5082, device='cuda:0', grad_fn=<MulBackward0>)]\n",
      "[array(0.6003379, dtype=float32), tensor(0.4949, device='cuda:0', grad_fn=<MulBackward0>)]\n",
      "[array(0.5866461, dtype=float32), tensor(0.4697, device='cuda:0', grad_fn=<MulBackward0>)]\n",
      "[array(0.57567066, dtype=float32), tensor(0.4683, device='cuda:0', grad_fn=<MulBackward0>)]\n",
      "[array(0.58139944, dtype=float32), tensor(0.4620, device='cuda:0', grad_fn=<MulBackward0>)]\n",
      "[array(0.5730858, dtype=float32), tensor(0.4606, device='cuda:0', grad_fn=<MulBackward0>)]\n",
      "[array(0.5536412, dtype=float32), tensor(0.4327, device='cuda:0', grad_fn=<MulBackward0>)]\n",
      "[array(0.561726, dtype=float32), tensor(0.4389, device='cuda:0', grad_fn=<MulBackward0>)]\n",
      "[array(0.5487591, dtype=float32), tensor(0.4328, device='cuda:0', grad_fn=<MulBackward0>)]\n",
      "[array(0.55678946, dtype=float32), tensor(0.4465, device='cuda:0', grad_fn=<MulBackward0>)]\n",
      "[array(0.5481411, dtype=float32), tensor(0.4275, device='cuda:0', grad_fn=<MulBackward0>)]\n",
      "[array(0.5512208, dtype=float32), tensor(0.4231, device='cuda:0', grad_fn=<MulBackward0>)]\n",
      "[array(0.52314234, dtype=float32), tensor(0.3983, device='cuda:0', grad_fn=<MulBackward0>)]\n",
      "[array(0.5157119, dtype=float32), tensor(0.3763, device='cuda:0', grad_fn=<MulBackward0>)]\n",
      "[array(0.50254935, dtype=float32), tensor(0.3677, device='cuda:0', grad_fn=<MulBackward0>)]\n",
      "[array(0.5011064, dtype=float32), tensor(0.3659, device='cuda:0', grad_fn=<MulBackward0>)]\n",
      "[array(0.49160302, dtype=float32), tensor(0.3546, device='cuda:0', grad_fn=<MulBackward0>)]\n",
      "[array(0.51696205, dtype=float32), tensor(0.3789, device='cuda:0', grad_fn=<MulBackward0>)]\n",
      "[array(0.50379956, dtype=float32), tensor(0.3782, device='cuda:0', grad_fn=<MulBackward0>)]\n",
      "[array(0.4942265, dtype=float32), tensor(0.3707, device='cuda:0', grad_fn=<MulBackward0>)]\n",
      "[array(0.49144495, dtype=float32), tensor(0.3664, device='cuda:0', grad_fn=<MulBackward0>)]\n",
      "[array(0.4929403, dtype=float32), tensor(0.3653, device='cuda:0', grad_fn=<MulBackward0>)]\n",
      "[array(0.4879666, dtype=float32), tensor(0.3645, device='cuda:0', grad_fn=<MulBackward0>)]\n",
      "[array(0.47983742, dtype=float32), tensor(0.3624, device='cuda:0', grad_fn=<MulBackward0>)]\n",
      "[array(0.4687078, dtype=float32), tensor(0.3474, device='cuda:0', grad_fn=<MulBackward0>)]\n",
      "[array(0.4588332, dtype=float32), tensor(0.3457, device='cuda:0', grad_fn=<MulBackward0>)]\n",
      "[array(0.45403248, dtype=float32), tensor(0.3446, device='cuda:0', grad_fn=<MulBackward0>)]\n",
      "[array(0.44181976, dtype=float32), tensor(0.3423, device='cuda:0', grad_fn=<MulBackward0>)]\n",
      "[array(0.43664563, dtype=float32), tensor(0.3289, device='cuda:0', grad_fn=<MulBackward0>)]\n",
      "[array(0.43401417, dtype=float32), tensor(0.3303, device='cuda:0', grad_fn=<MulBackward0>)]\n",
      "[array(0.42353135, dtype=float32), tensor(0.0214, device='cuda:0', grad_fn=<MulBackward0>)]\n",
      "[array(0.51551396, dtype=float32), tensor(0.3759, device='cuda:0', grad_fn=<MulBackward0>)]\n",
      "[array(0.5017599, dtype=float32), tensor(0.3657, device='cuda:0', grad_fn=<MulBackward0>)]\n",
      "[array(0.4945394, dtype=float32), tensor(0.3596, device='cuda:0', grad_fn=<MulBackward0>)]\n",
      "[array(0.48760962, dtype=float32), tensor(0.3666, device='cuda:0', grad_fn=<MulBackward0>)]\n",
      "[array(0.48313737, dtype=float32), tensor(0.3695, device='cuda:0', grad_fn=<MulBackward0>)]\n",
      "[array(0.4703139, dtype=float32), tensor(0.3620, device='cuda:0', grad_fn=<MulBackward0>)]\n",
      "[array(0.4613371, dtype=float32), tensor(0.3685, device='cuda:0', grad_fn=<MulBackward0>)]\n",
      "[array(0.4490812, dtype=float32), tensor(0.3674, device='cuda:0', grad_fn=<MulBackward0>)]\n",
      "[array(0.44169953, dtype=float32), tensor(0.3303, device='cuda:0', grad_fn=<MulBackward0>)]\n",
      "[array(0.4456099, dtype=float32), tensor(0.3406, device='cuda:0', grad_fn=<MulBackward0>)]\n",
      "[array(0.43928277, dtype=float32), tensor(0.3404, device='cuda:0', grad_fn=<MulBackward0>)]\n",
      "[array(0.42670158, dtype=float32), tensor(0.3356, device='cuda:0', grad_fn=<MulBackward0>)]\n",
      "[array(0.41174287, dtype=float32), tensor(0.3242, device='cuda:0', grad_fn=<MulBackward0>)]\n",
      "[array(0.4345321, dtype=float32), tensor(0.3339, device='cuda:0', grad_fn=<MulBackward0>)]\n",
      "[array(0.42786855, dtype=float32), tensor(0.3240, device='cuda:0', grad_fn=<MulBackward0>)]\n",
      "[array(0.43782216, dtype=float32), tensor(0.3320, device='cuda:0', grad_fn=<MulBackward0>)]\n",
      "[array(0.4253484, dtype=float32), tensor(0.3279, device='cuda:0', grad_fn=<MulBackward0>)]\n",
      "[array(0.42082834, dtype=float32), tensor(0.3252, device='cuda:0', grad_fn=<MulBackward0>)]\n",
      "[array(0.41750073, dtype=float32), tensor(0.3286, device='cuda:0', grad_fn=<MulBackward0>)]\n",
      "[array(0.41161406, dtype=float32), tensor(0.3206, device='cuda:0', grad_fn=<MulBackward0>)]\n",
      "[array(0.41174725, dtype=float32), tensor(0.3236, device='cuda:0', grad_fn=<MulBackward0>)]\n",
      "[array(0.40107077, dtype=float32), tensor(0.3153, device='cuda:0', grad_fn=<MulBackward0>)]\n",
      "[array(0.39513105, dtype=float32), tensor(0.3216, device='cuda:0', grad_fn=<MulBackward0>)]\n",
      "[array(0.39115375, dtype=float32), tensor(0.3155, device='cuda:0', grad_fn=<MulBackward0>)]\n",
      "[array(0.3889396, dtype=float32), tensor(0.2937, device='cuda:0', grad_fn=<MulBackward0>)]\n",
      "[array(0.378603, dtype=float32), tensor(0.2918, device='cuda:0', grad_fn=<MulBackward0>)]\n",
      "[array(0.38698173, dtype=float32), tensor(0.2951, device='cuda:0', grad_fn=<MulBackward0>)]\n",
      "[array(0.3831216, dtype=float32), tensor(0.3001, device='cuda:0', grad_fn=<MulBackward0>)]\n",
      "[array(0.38304728, dtype=float32), tensor(0.3007, device='cuda:0', grad_fn=<MulBackward0>)]\n",
      "[array(0.37860954, dtype=float32), tensor(0.3070, device='cuda:0', grad_fn=<MulBackward0>)]\n",
      "[array(0.37068754, dtype=float32), tensor(0.2915, device='cuda:0', grad_fn=<MulBackward0>)]\n",
      "[array(0.36091888, dtype=float32), tensor(0.2894, device='cuda:0', grad_fn=<MulBackward0>)]\n",
      "[array(0.352845, dtype=float32), tensor(0.2840, device='cuda:0', grad_fn=<MulBackward0>)]\n",
      "[array(0.35770017, dtype=float32), tensor(0.2913, device='cuda:0', grad_fn=<MulBackward0>)]\n",
      "[array(0.3525657, dtype=float32), tensor(0.2893, device='cuda:0', grad_fn=<MulBackward0>)]\n",
      "[array(0.34596002, dtype=float32), tensor(0.2843, device='cuda:0', grad_fn=<MulBackward0>)]\n",
      "[array(0.34360656, dtype=float32), tensor(0.2811, device='cuda:0', grad_fn=<MulBackward0>)]\n",
      "[array(0.3467924, dtype=float32), tensor(0.2821, device='cuda:0', grad_fn=<MulBackward0>)]\n",
      "[array(0.3483885, dtype=float32), tensor(0.2893, device='cuda:0', grad_fn=<MulBackward0>)]\n",
      "[array(0.33947474, dtype=float32), tensor(0.2854, device='cuda:0', grad_fn=<MulBackward0>)]\n",
      "[array(0.33806235, dtype=float32), tensor(0.2796, device='cuda:0', grad_fn=<MulBackward0>)]\n",
      "[array(0.33333206, dtype=float32), tensor(0.2795, device='cuda:0', grad_fn=<MulBackward0>)]\n",
      "[array(0.336967, dtype=float32), tensor(0.2888, device='cuda:0', grad_fn=<MulBackward0>)]\n",
      "[array(0.329414, dtype=float32), tensor(0.2833, device='cuda:0', grad_fn=<MulBackward0>)]\n",
      "[array(0.3267731, dtype=float32), tensor(0.2732, device='cuda:0', grad_fn=<MulBackward0>)]\n",
      "[array(0.32332712, dtype=float32), tensor(0.2757, device='cuda:0', grad_fn=<MulBackward0>)]\n",
      "[array(0.32854906, dtype=float32), tensor(0.2759, device='cuda:0', grad_fn=<MulBackward0>)]\n",
      "[array(0.3225392, dtype=float32), tensor(0.2776, device='cuda:0', grad_fn=<MulBackward0>)]\n",
      "[array(0.316327, dtype=float32), tensor(0.2680, device='cuda:0', grad_fn=<MulBackward0>)]\n",
      "[array(0.32046574, dtype=float32), tensor(0.2702, device='cuda:0', grad_fn=<MulBackward0>)]\n",
      "[array(0.3137418, dtype=float32), tensor(0.2707, device='cuda:0', grad_fn=<MulBackward0>)]\n",
      "[array(0.31349558, dtype=float32), tensor(0.2798, device='cuda:0', grad_fn=<MulBackward0>)]\n",
      "[array(0.30968064, dtype=float32), tensor(0.2732, device='cuda:0', grad_fn=<MulBackward0>)]\n",
      "[array(0.31352362, dtype=float32), tensor(0.2709, device='cuda:0', grad_fn=<MulBackward0>)]\n",
      "[array(0.30630168, dtype=float32), tensor(0.2596, device='cuda:0', grad_fn=<MulBackward0>)]\n",
      "[array(0.30367303, dtype=float32), tensor(0.2512, device='cuda:0', grad_fn=<MulBackward0>)]\n",
      "[array(0.30115497, dtype=float32), tensor(0.2472, device='cuda:0', grad_fn=<MulBackward0>)]\n",
      "[array(0.30006036, dtype=float32), tensor(0.2473, device='cuda:0', grad_fn=<MulBackward0>)]\n",
      "[array(0.29996532, dtype=float32), tensor(0.2412, device='cuda:0', grad_fn=<MulBackward0>)]\n",
      "[array(0.3157204, dtype=float32), tensor(0.2517, device='cuda:0', grad_fn=<MulBackward0>)]\n",
      "[array(0.30787483, dtype=float32), tensor(0.2521, device='cuda:0', grad_fn=<MulBackward0>)]\n",
      "[array(0.30545723, dtype=float32), tensor(0.2492, device='cuda:0', grad_fn=<MulBackward0>)]\n",
      "[array(0.30937538, dtype=float32), tensor(0.2466, device='cuda:0', grad_fn=<MulBackward0>)]\n",
      "[array(0.30520105, dtype=float32), tensor(0.2518, device='cuda:0', grad_fn=<MulBackward0>)]\n",
      "[array(0.29838952, dtype=float32), tensor(0.2550, device='cuda:0', grad_fn=<MulBackward0>)]\n",
      "[array(0.29414272, dtype=float32), tensor(0.2542, device='cuda:0', grad_fn=<MulBackward0>)]\n",
      "[array(0.29442537, dtype=float32), tensor(0.2451, device='cuda:0', grad_fn=<MulBackward0>)]\n",
      "[array(0.29209846, dtype=float32), tensor(0.2419, device='cuda:0', grad_fn=<MulBackward0>)]\n",
      "[array(0.28641576, dtype=float32), tensor(0.2418, device='cuda:0', grad_fn=<MulBackward0>)]\n",
      "[array(0.2825024, dtype=float32), tensor(0.2391, device='cuda:0', grad_fn=<MulBackward0>)]\n",
      "[array(0.28228468, dtype=float32), tensor(0.2324, device='cuda:0', grad_fn=<MulBackward0>)]\n",
      "[array(0.28265244, dtype=float32), tensor(0.2332, device='cuda:0', grad_fn=<MulBackward0>)]\n",
      "[array(0.27932104, dtype=float32), tensor(0.0151, device='cuda:0', grad_fn=<MulBackward0>)]\n",
      "[array(0.32818988, dtype=float32), tensor(0.2728, device='cuda:0', grad_fn=<MulBackward0>)]\n",
      "[array(0.3188104, dtype=float32), tensor(0.2684, device='cuda:0', grad_fn=<MulBackward0>)]\n",
      "[array(0.31257057, dtype=float32), tensor(0.2682, device='cuda:0', grad_fn=<MulBackward0>)]\n",
      "[array(0.3101272, dtype=float32), tensor(0.2701, device='cuda:0', grad_fn=<MulBackward0>)]\n",
      "[array(0.3053827, dtype=float32), tensor(0.2723, device='cuda:0', grad_fn=<MulBackward0>)]\n",
      "[array(0.30156112, dtype=float32), tensor(0.2688, device='cuda:0', grad_fn=<MulBackward0>)]\n",
      "[array(0.29816687, dtype=float32), tensor(0.2718, device='cuda:0', grad_fn=<MulBackward0>)]\n",
      "[array(0.2935394, dtype=float32), tensor(0.2700, device='cuda:0', grad_fn=<MulBackward0>)]\n",
      "[array(0.2899033, dtype=float32), tensor(0.2511, device='cuda:0', grad_fn=<MulBackward0>)]\n",
      "[array(0.30317134, dtype=float32), tensor(0.2508, device='cuda:0', grad_fn=<MulBackward0>)]\n",
      "[array(0.30085975, dtype=float32), tensor(0.2523, device='cuda:0', grad_fn=<MulBackward0>)]\n",
      "[array(0.29042953, dtype=float32), tensor(0.2504, device='cuda:0', grad_fn=<MulBackward0>)]\n",
      "[array(0.28630233, dtype=float32), tensor(0.2395, device='cuda:0', grad_fn=<MulBackward0>)]\n",
      "[array(0.29179364, dtype=float32), tensor(0.2500, device='cuda:0', grad_fn=<MulBackward0>)]\n",
      "[array(0.28972054, dtype=float32), tensor(0.2455, device='cuda:0', grad_fn=<MulBackward0>)]\n",
      "[array(0.29805487, dtype=float32), tensor(0.2479, device='cuda:0', grad_fn=<MulBackward0>)]\n",
      "[array(0.29039457, dtype=float32), tensor(0.2462, device='cuda:0', grad_fn=<MulBackward0>)]\n",
      "[array(0.28814584, dtype=float32), tensor(0.2462, device='cuda:0', grad_fn=<MulBackward0>)]\n",
      "[array(0.28187418, dtype=float32), tensor(0.2495, device='cuda:0', grad_fn=<MulBackward0>)]\n",
      "[array(0.27985168, dtype=float32), tensor(0.2456, device='cuda:0', grad_fn=<MulBackward0>)]\n",
      "[array(0.28070694, dtype=float32), tensor(0.2486, device='cuda:0', grad_fn=<MulBackward0>)]\n",
      "[array(0.2749794, dtype=float32), tensor(0.2453, device='cuda:0', grad_fn=<MulBackward0>)]\n",
      "[array(0.27143836, dtype=float32), tensor(0.2489, device='cuda:0', grad_fn=<MulBackward0>)]\n",
      "[array(0.2695145, dtype=float32), tensor(0.2458, device='cuda:0', grad_fn=<MulBackward0>)]\n",
      "[array(0.26438183, dtype=float32), tensor(0.2364, device='cuda:0', grad_fn=<MulBackward0>)]\n",
      "[array(0.26299784, dtype=float32), tensor(0.2339, device='cuda:0', grad_fn=<MulBackward0>)]\n",
      "[array(0.27330554, dtype=float32), tensor(0.2333, device='cuda:0', grad_fn=<MulBackward0>)]\n",
      "[array(0.2755535, dtype=float32), tensor(0.2348, device='cuda:0', grad_fn=<MulBackward0>)]\n",
      "[array(0.2732125, dtype=float32), tensor(0.2377, device='cuda:0', grad_fn=<MulBackward0>)]\n",
      "[array(0.266411, dtype=float32), tensor(0.2423, device='cuda:0', grad_fn=<MulBackward0>)]\n",
      "[array(0.26612592, dtype=float32), tensor(0.2312, device='cuda:0', grad_fn=<MulBackward0>)]\n",
      "[array(0.26004738, dtype=float32), tensor(0.2272, device='cuda:0', grad_fn=<MulBackward0>)]\n",
      "[array(0.25784683, dtype=float32), tensor(0.2224, device='cuda:0', grad_fn=<MulBackward0>)]\n",
      "[array(0.2542956, dtype=float32), tensor(0.2305, device='cuda:0', grad_fn=<MulBackward0>)]\n",
      "[array(0.24850568, dtype=float32), tensor(0.2303, device='cuda:0', grad_fn=<MulBackward0>)]\n",
      "[array(0.24749877, dtype=float32), tensor(0.2271, device='cuda:0', grad_fn=<MulBackward0>)]\n",
      "[array(0.24726929, dtype=float32), tensor(0.2250, device='cuda:0', grad_fn=<MulBackward0>)]\n",
      "[array(0.25158724, dtype=float32), tensor(0.2242, device='cuda:0', grad_fn=<MulBackward0>)]\n",
      "[array(0.2510431, dtype=float32), tensor(0.2290, device='cuda:0', grad_fn=<MulBackward0>)]\n",
      "[array(0.24597606, dtype=float32), tensor(0.2275, device='cuda:0', grad_fn=<MulBackward0>)]\n",
      "[array(0.2465941, dtype=float32), tensor(0.2248, device='cuda:0', grad_fn=<MulBackward0>)]\n",
      "[array(0.24213111, dtype=float32), tensor(0.2255, device='cuda:0', grad_fn=<MulBackward0>)]\n",
      "[array(0.24138361, dtype=float32), tensor(0.2323, device='cuda:0', grad_fn=<MulBackward0>)]\n",
      "[array(0.23633245, dtype=float32), tensor(0.2287, device='cuda:0', grad_fn=<MulBackward0>)]\n",
      "[array(0.23493499, dtype=float32), tensor(0.2226, device='cuda:0', grad_fn=<MulBackward0>)]\n",
      "[array(0.23383182, dtype=float32), tensor(0.2245, device='cuda:0', grad_fn=<MulBackward0>)]\n",
      "[array(0.23677258, dtype=float32), tensor(0.2262, device='cuda:0', grad_fn=<MulBackward0>)]\n",
      "[array(0.23574042, dtype=float32), tensor(0.2259, device='cuda:0', grad_fn=<MulBackward0>)]\n",
      "[array(0.23263977, dtype=float32), tensor(0.2205, device='cuda:0', grad_fn=<MulBackward0>)]\n",
      "[array(0.23673064, dtype=float32), tensor(0.2213, device='cuda:0', grad_fn=<MulBackward0>)]\n",
      "[array(0.23210031, dtype=float32), tensor(0.2209, device='cuda:0', grad_fn=<MulBackward0>)]\n",
      "[array(0.23141566, dtype=float32), tensor(0.2269, device='cuda:0', grad_fn=<MulBackward0>)]\n",
      "[array(0.23026808, dtype=float32), tensor(0.2222, device='cuda:0', grad_fn=<MulBackward0>)]\n",
      "[array(0.23458451, dtype=float32), tensor(0.2200, device='cuda:0', grad_fn=<MulBackward0>)]\n",
      "[array(0.22991204, dtype=float32), tensor(0.2127, device='cuda:0', grad_fn=<MulBackward0>)]\n",
      "[array(0.2262603, dtype=float32), tensor(0.2096, device='cuda:0', grad_fn=<MulBackward0>)]\n",
      "[array(0.22588135, dtype=float32), tensor(0.2069, device='cuda:0', grad_fn=<MulBackward0>)]\n",
      "[array(0.22698648, dtype=float32), tensor(0.2070, device='cuda:0', grad_fn=<MulBackward0>)]\n",
      "[array(0.22622424, dtype=float32), tensor(0.2029, device='cuda:0', grad_fn=<MulBackward0>)]\n",
      "[array(0.24076882, dtype=float32), tensor(0.2096, device='cuda:0', grad_fn=<MulBackward0>)]\n",
      "[array(0.2352776, dtype=float32), tensor(0.2093, device='cuda:0', grad_fn=<MulBackward0>)]\n",
      "[array(0.23532751, dtype=float32), tensor(0.2078, device='cuda:0', grad_fn=<MulBackward0>)]\n",
      "[array(0.23805086, dtype=float32), tensor(0.2075, device='cuda:0', grad_fn=<MulBackward0>)]\n",
      "[array(0.2328434, dtype=float32), tensor(0.2114, device='cuda:0', grad_fn=<MulBackward0>)]\n",
      "[array(0.2267761, dtype=float32), tensor(0.2146, device='cuda:0', grad_fn=<MulBackward0>)]\n",
      "[array(0.22401044, dtype=float32), tensor(0.2135, device='cuda:0', grad_fn=<MulBackward0>)]\n",
      "[array(0.22470596, dtype=float32), tensor(0.2083, device='cuda:0', grad_fn=<MulBackward0>)]\n",
      "[array(0.22487503, dtype=float32), tensor(0.2036, device='cuda:0', grad_fn=<MulBackward0>)]\n",
      "[array(0.21984291, dtype=float32), tensor(0.2033, device='cuda:0', grad_fn=<MulBackward0>)]\n",
      "[array(0.21733925, dtype=float32), tensor(0.2010, device='cuda:0', grad_fn=<MulBackward0>)]\n",
      "[array(0.21788174, dtype=float32), tensor(0.1970, device='cuda:0', grad_fn=<MulBackward0>)]\n",
      "[array(0.21859136, dtype=float32), tensor(0.1981, device='cuda:0', grad_fn=<MulBackward0>)]\n",
      "[array(0.21643458, dtype=float32), tensor(0.0129, device='cuda:0', grad_fn=<MulBackward0>)]\n",
      "[array(0.2507394, dtype=float32), tensor(0.2319, device='cuda:0', grad_fn=<MulBackward0>)]\n",
      "[array(0.24208513, dtype=float32), tensor(0.2299, device='cuda:0', grad_fn=<MulBackward0>)]\n",
      "[array(0.2372885, dtype=float32), tensor(0.2305, device='cuda:0', grad_fn=<MulBackward0>)]\n",
      "[array(0.2382657, dtype=float32), tensor(0.2303, device='cuda:0', grad_fn=<MulBackward0>)]\n",
      "[array(0.22959857, dtype=float32), tensor(0.2327, device='cuda:0', grad_fn=<MulBackward0>)]\n",
      "[array(0.22974548, dtype=float32), tensor(0.2294, device='cuda:0', grad_fn=<MulBackward0>)]\n",
      "[array(0.22917897, dtype=float32), tensor(0.2306, device='cuda:0', grad_fn=<MulBackward0>)]\n",
      "[array(0.22701073, dtype=float32), tensor(0.2284, device='cuda:0', grad_fn=<MulBackward0>)]\n",
      "[array(0.22687708, dtype=float32), tensor(0.2152, device='cuda:0', grad_fn=<MulBackward0>)]\n",
      "[array(0.23793757, dtype=float32), tensor(0.2143, device='cuda:0', grad_fn=<MulBackward0>)]\n",
      "[array(0.23603815, dtype=float32), tensor(0.2168, device='cuda:0', grad_fn=<MulBackward0>)]\n",
      "[array(0.22784156, dtype=float32), tensor(0.2151, device='cuda:0', grad_fn=<MulBackward0>)]\n",
      "[array(0.22522083, dtype=float32), tensor(0.2059, device='cuda:0', grad_fn=<MulBackward0>)]\n",
      "[array(0.22709334, dtype=float32), tensor(0.2140, device='cuda:0', grad_fn=<MulBackward0>)]\n",
      "[array(0.22530887, dtype=float32), tensor(0.2119, device='cuda:0', grad_fn=<MulBackward0>)]\n",
      "[array(0.23457706, dtype=float32), tensor(0.2124, device='cuda:0', grad_fn=<MulBackward0>)]\n",
      "[array(0.22879918, dtype=float32), tensor(0.2126, device='cuda:0', grad_fn=<MulBackward0>)]\n",
      "[array(0.22454795, dtype=float32), tensor(0.2142, device='cuda:0', grad_fn=<MulBackward0>)]\n",
      "[array(0.21580464, dtype=float32), tensor(0.2176, device='cuda:0', grad_fn=<MulBackward0>)]\n",
      "[array(0.21353784, dtype=float32), tensor(0.2160, device='cuda:0', grad_fn=<MulBackward0>)]\n",
      "[array(0.21714127, dtype=float32), tensor(0.2173, device='cuda:0', grad_fn=<MulBackward0>)]\n",
      "[array(0.21321619, dtype=float32), tensor(0.2156, device='cuda:0', grad_fn=<MulBackward0>)]\n",
      "[array(0.21072131, dtype=float32), tensor(0.2173, device='cuda:0', grad_fn=<MulBackward0>)]\n",
      "[array(0.2098375, dtype=float32), tensor(0.2149, device='cuda:0', grad_fn=<MulBackward0>)]\n",
      "[array(0.2084114, dtype=float32), tensor(0.2080, device='cuda:0', grad_fn=<MulBackward0>)]\n",
      "[array(0.20866455, dtype=float32), tensor(0.2058, device='cuda:0', grad_fn=<MulBackward0>)]\n",
      "[array(0.21542558, dtype=float32), tensor(0.2049, device='cuda:0', grad_fn=<MulBackward0>)]\n",
      "[array(0.21814433, dtype=float32), tensor(0.2054, device='cuda:0', grad_fn=<MulBackward0>)]\n",
      "[array(0.21575975, dtype=float32), tensor(0.2084, device='cuda:0', grad_fn=<MulBackward0>)]\n",
      "[array(0.21006201, dtype=float32), tensor(0.2112, device='cuda:0', grad_fn=<MulBackward0>)]\n",
      "[array(0.21046601, dtype=float32), tensor(0.2032, device='cuda:0', grad_fn=<MulBackward0>)]\n",
      "[array(0.20731184, dtype=float32), tensor(0.1981, device='cuda:0', grad_fn=<MulBackward0>)]\n",
      "[array(0.20581545, dtype=float32), tensor(0.1954, device='cuda:0', grad_fn=<MulBackward0>)]\n",
      "[array(0.20199612, dtype=float32), tensor(0.2010, device='cuda:0', grad_fn=<MulBackward0>)]\n",
      "[array(0.19472131, dtype=float32), tensor(0.2023, device='cuda:0', grad_fn=<MulBackward0>)]\n",
      "[array(0.1947763, dtype=float32), tensor(0.2008, device='cuda:0', grad_fn=<MulBackward0>)]\n",
      "[array(0.19245735, dtype=float32), tensor(0.2007, device='cuda:0', grad_fn=<MulBackward0>)]\n",
      "[array(0.19950667, dtype=float32), tensor(0.1991, device='cuda:0', grad_fn=<MulBackward0>)]\n",
      "[array(0.19908822, dtype=float32), tensor(0.2026, device='cuda:0', grad_fn=<MulBackward0>)]\n",
      "[array(0.19574896, dtype=float32), tensor(0.2023, device='cuda:0', grad_fn=<MulBackward0>)]\n",
      "[array(0.19541198, dtype=float32), tensor(0.2017, device='cuda:0', grad_fn=<MulBackward0>)]\n",
      "[array(0.19098231, dtype=float32), tensor(0.2020, device='cuda:0', grad_fn=<MulBackward0>)]\n",
      "[array(0.18771756, dtype=float32), tensor(0.2074, device='cuda:0', grad_fn=<MulBackward0>)]\n",
      "[array(0.18409595, dtype=float32), tensor(0.2044, device='cuda:0', grad_fn=<MulBackward0>)]\n",
      "[array(0.18340766, dtype=float32), tensor(0.1999, device='cuda:0', grad_fn=<MulBackward0>)]\n",
      "[array(0.18176779, dtype=float32), tensor(0.2010, device='cuda:0', grad_fn=<MulBackward0>)]\n",
      "[array(0.18797249, dtype=float32), tensor(0.2007, device='cuda:0', grad_fn=<MulBackward0>)]\n",
      "[array(0.1885862, dtype=float32), tensor(0.1996, device='cuda:0', grad_fn=<MulBackward0>)]\n",
      "[array(0.18749844, dtype=float32), tensor(0.1951, device='cuda:0', grad_fn=<MulBackward0>)]\n",
      "[array(0.18858045, dtype=float32), tensor(0.1967, device='cuda:0', grad_fn=<MulBackward0>)]\n",
      "[array(0.18553275, dtype=float32), tensor(0.1958, device='cuda:0', grad_fn=<MulBackward0>)]\n",
      "[array(0.18434647, dtype=float32), tensor(0.2002, device='cuda:0', grad_fn=<MulBackward0>)]\n",
      "[array(0.18381113, dtype=float32), tensor(0.1970, device='cuda:0', grad_fn=<MulBackward0>)]\n",
      "[array(0.1845499, dtype=float32), tensor(0.1969, device='cuda:0', grad_fn=<MulBackward0>)]\n",
      "[array(0.18337819, dtype=float32), tensor(0.1912, device='cuda:0', grad_fn=<MulBackward0>)]\n",
      "[array(0.18202971, dtype=float32), tensor(0.1895, device='cuda:0', grad_fn=<MulBackward0>)]\n",
      "[array(0.18108024, dtype=float32), tensor(0.1882, device='cuda:0', grad_fn=<MulBackward0>)]\n",
      "[array(0.18056723, dtype=float32), tensor(0.1893, device='cuda:0', grad_fn=<MulBackward0>)]\n",
      "[array(0.17951618, dtype=float32), tensor(0.1864, device='cuda:0', grad_fn=<MulBackward0>)]\n",
      "[array(0.18738836, dtype=float32), tensor(0.1924, device='cuda:0', grad_fn=<MulBackward0>)]\n",
      "[array(0.18348894, dtype=float32), tensor(0.1915, device='cuda:0', grad_fn=<MulBackward0>)]\n",
      "[array(0.18410811, dtype=float32), tensor(0.1907, device='cuda:0', grad_fn=<MulBackward0>)]\n",
      "[array(0.1849091, dtype=float32), tensor(0.1911, device='cuda:0', grad_fn=<MulBackward0>)]\n",
      "[array(0.18281198, dtype=float32), tensor(0.1932, device='cuda:0', grad_fn=<MulBackward0>)]\n",
      "[array(0.17873792, dtype=float32), tensor(0.1953, device='cuda:0', grad_fn=<MulBackward0>)]\n",
      "[array(0.17569676, dtype=float32), tensor(0.1943, device='cuda:0', grad_fn=<MulBackward0>)]\n",
      "[array(0.17588732, dtype=float32), tensor(0.1908, device='cuda:0', grad_fn=<MulBackward0>)]\n",
      "[array(0.1781857, dtype=float32), tensor(0.1856, device='cuda:0', grad_fn=<MulBackward0>)]\n",
      "[array(0.17671782, dtype=float32), tensor(0.1841, device='cuda:0', grad_fn=<MulBackward0>)]\n",
      "[array(0.17374098, dtype=float32), tensor(0.1828, device='cuda:0', grad_fn=<MulBackward0>)]\n",
      "[array(0.17435664, dtype=float32), tensor(0.1802, device='cuda:0', grad_fn=<MulBackward0>)]\n",
      "[array(0.17337891, dtype=float32), tensor(0.1818, device='cuda:0', grad_fn=<MulBackward0>)]\n",
      "[array(0.17073923, dtype=float32), tensor(0.0120, device='cuda:0', grad_fn=<MulBackward0>)]\n",
      "[array(0.19773182, dtype=float32), tensor(0.2118, device='cuda:0', grad_fn=<MulBackward0>)]\n",
      "[array(0.18881772, dtype=float32), tensor(0.2113, device='cuda:0', grad_fn=<MulBackward0>)]\n",
      "[array(0.18589593, dtype=float32), tensor(0.2116, device='cuda:0', grad_fn=<MulBackward0>)]\n",
      "[array(0.1898182, dtype=float32), tensor(0.2105, device='cuda:0', grad_fn=<MulBackward0>)]\n",
      "[array(0.17838657, dtype=float32), tensor(0.2131, device='cuda:0', grad_fn=<MulBackward0>)]\n",
      "[array(0.18067053, dtype=float32), tensor(0.2096, device='cuda:0', grad_fn=<MulBackward0>)]\n",
      "[array(0.1806646, dtype=float32), tensor(0.2099, device='cuda:0', grad_fn=<MulBackward0>)]\n",
      "[array(0.17859042, dtype=float32), tensor(0.2077, device='cuda:0', grad_fn=<MulBackward0>)]\n",
      "[array(0.18357639, dtype=float32), tensor(0.1961, device='cuda:0', grad_fn=<MulBackward0>)]\n",
      "[array(0.187094, dtype=float32), tensor(0.1967, device='cuda:0', grad_fn=<MulBackward0>)]\n",
      "[array(0.18396863, dtype=float32), tensor(0.1999, device='cuda:0', grad_fn=<MulBackward0>)]\n",
      "[array(0.17929445, dtype=float32), tensor(0.1979, device='cuda:0', grad_fn=<MulBackward0>)]\n",
      "[array(0.17947336, dtype=float32), tensor(0.1893, device='cuda:0', grad_fn=<MulBackward0>)]\n",
      "[array(0.18025474, dtype=float32), tensor(0.1960, device='cuda:0', grad_fn=<MulBackward0>)]\n",
      "[array(0.17741014, dtype=float32), tensor(0.1954, device='cuda:0', grad_fn=<MulBackward0>)]\n",
      "[array(0.18802434, dtype=float32), tensor(0.1954, device='cuda:0', grad_fn=<MulBackward0>)]\n",
      "[array(0.18295304, dtype=float32), tensor(0.1965, device='cuda:0', grad_fn=<MulBackward0>)]\n",
      "[array(0.17742363, dtype=float32), tensor(0.1985, device='cuda:0', grad_fn=<MulBackward0>)]\n",
      "[array(0.16852075, dtype=float32), tensor(0.2015, device='cuda:0', grad_fn=<MulBackward0>)]\n",
      "[array(0.16567622, dtype=float32), tensor(0.2007, device='cuda:0', grad_fn=<MulBackward0>)]\n",
      "[array(0.17142357, dtype=float32), tensor(0.2008, device='cuda:0', grad_fn=<MulBackward0>)]\n",
      "[array(0.16797687, dtype=float32), tensor(0.1992, device='cuda:0', grad_fn=<MulBackward0>)]\n",
      "[array(0.16688621, dtype=float32), tensor(0.1996, device='cuda:0', grad_fn=<MulBackward0>)]\n",
      "[array(0.16604887, dtype=float32), tensor(0.1976, device='cuda:0', grad_fn=<MulBackward0>)]\n",
      "[array(0.16933262, dtype=float32), tensor(0.1911, device='cuda:0', grad_fn=<MulBackward0>)]\n",
      "[array(0.16833425, dtype=float32), tensor(0.1896, device='cuda:0', grad_fn=<MulBackward0>)]\n",
      "[array(0.1704464, dtype=float32), tensor(0.1893, device='cuda:0', grad_fn=<MulBackward0>)]\n",
      "[array(0.17034772, dtype=float32), tensor(0.1904, device='cuda:0', grad_fn=<MulBackward0>)]\n",
      "[array(0.16867536, dtype=float32), tensor(0.1934, device='cuda:0', grad_fn=<MulBackward0>)]\n",
      "[array(0.16397224, dtype=float32), tensor(0.1956, device='cuda:0', grad_fn=<MulBackward0>)]\n",
      "[array(0.16336623, dtype=float32), tensor(0.1901, device='cuda:0', grad_fn=<MulBackward0>)]\n",
      "[array(0.1657401, dtype=float32), tensor(0.1835, device='cuda:0', grad_fn=<MulBackward0>)]\n",
      "[array(0.16300365, dtype=float32), tensor(0.1827, device='cuda:0', grad_fn=<MulBackward0>)]\n",
      "[array(0.15987486, dtype=float32), tensor(0.1869, device='cuda:0', grad_fn=<MulBackward0>)]\n",
      "[array(0.1529674, dtype=float32), tensor(0.1883, device='cuda:0', grad_fn=<MulBackward0>)]\n",
      "[array(0.15289065, dtype=float32), tensor(0.1879, device='cuda:0', grad_fn=<MulBackward0>)]\n",
      "[array(0.14950319, dtype=float32), tensor(0.1883, device='cuda:0', grad_fn=<MulBackward0>)]\n",
      "[array(0.15812616, dtype=float32), tensor(0.1866, device='cuda:0', grad_fn=<MulBackward0>)]\n",
      "[array(0.15832439, dtype=float32), tensor(0.1891, device='cuda:0', grad_fn=<MulBackward0>)]\n",
      "[array(0.15631631, dtype=float32), tensor(0.1890, device='cuda:0', grad_fn=<MulBackward0>)]\n",
      "[array(0.15474665, dtype=float32), tensor(0.1892, device='cuda:0', grad_fn=<MulBackward0>)]\n",
      "[array(0.15163562, dtype=float32), tensor(0.1881, device='cuda:0', grad_fn=<MulBackward0>)]\n",
      "[array(0.1483095, dtype=float32), tensor(0.1915, device='cuda:0', grad_fn=<MulBackward0>)]\n",
      "[array(0.14630848, dtype=float32), tensor(0.1887, device='cuda:0', grad_fn=<MulBackward0>)]\n",
      "[array(0.1452066, dtype=float32), tensor(0.1855, device='cuda:0', grad_fn=<MulBackward0>)]\n",
      "[array(0.14281416, dtype=float32), tensor(0.1861, device='cuda:0', grad_fn=<MulBackward0>)]\n",
      "[array(0.15095942, dtype=float32), tensor(0.1849, device='cuda:0', grad_fn=<MulBackward0>)]\n",
      "[array(0.15126207, dtype=float32), tensor(0.1844, device='cuda:0', grad_fn=<MulBackward0>)]\n",
      "[array(0.15138048, dtype=float32), tensor(0.1811, device='cuda:0', grad_fn=<MulBackward0>)]\n",
      "[array(0.1482431, dtype=float32), tensor(0.1834, device='cuda:0', grad_fn=<MulBackward0>)]\n",
      "[array(0.14775813, dtype=float32), tensor(0.1823, device='cuda:0', grad_fn=<MulBackward0>)]\n",
      "[array(0.14618166, dtype=float32), tensor(0.1862, device='cuda:0', grad_fn=<MulBackward0>)]\n",
      "[array(0.14590564, dtype=float32), tensor(0.1840, device='cuda:0', grad_fn=<MulBackward0>)]\n",
      "[array(0.14313053, dtype=float32), tensor(0.1852, device='cuda:0', grad_fn=<MulBackward0>)]\n",
      "[array(0.1457748, dtype=float32), tensor(0.1798, device='cuda:0', grad_fn=<MulBackward0>)]\n",
      "[array(0.14615752, dtype=float32), tensor(0.1787, device='cuda:0', grad_fn=<MulBackward0>)]\n",
      "[array(0.14581488, dtype=float32), tensor(0.1774, device='cuda:0', grad_fn=<MulBackward0>)]\n",
      "[array(0.1434076, dtype=float32), tensor(0.1787, device='cuda:0', grad_fn=<MulBackward0>)]\n",
      "[array(0.14332193, dtype=float32), tensor(0.1759, device='cuda:0', grad_fn=<MulBackward0>)]\n",
      "[array(0.14454591, dtype=float32), tensor(0.1816, device='cuda:0', grad_fn=<MulBackward0>)]\n",
      "[array(0.14217061, dtype=float32), tensor(0.1800, device='cuda:0', grad_fn=<MulBackward0>)]\n",
      "[array(0.14271209, dtype=float32), tensor(0.1794, device='cuda:0', grad_fn=<MulBackward0>)]\n",
      "[array(0.14198133, dtype=float32), tensor(0.1802, device='cuda:0', grad_fn=<MulBackward0>)]\n",
      "[array(0.14271846, dtype=float32), tensor(0.1815, device='cuda:0', grad_fn=<MulBackward0>)]\n",
      "[array(0.13979544, dtype=float32), tensor(0.1833, device='cuda:0', grad_fn=<MulBackward0>)]\n",
      "[array(0.13674426, dtype=float32), tensor(0.1823, device='cuda:0', grad_fn=<MulBackward0>)]\n",
      "[array(0.13532953, dtype=float32), tensor(0.1806, device='cuda:0', grad_fn=<MulBackward0>)]\n",
      "[array(0.13947752, dtype=float32), tensor(0.1754, device='cuda:0', grad_fn=<MulBackward0>)]\n",
      "[array(0.14159155, dtype=float32), tensor(0.1730, device='cuda:0', grad_fn=<MulBackward0>)]\n",
      "[array(0.1384792, dtype=float32), tensor(0.1724, device='cuda:0', grad_fn=<MulBackward0>)]\n",
      "[array(0.13839811, dtype=float32), tensor(0.1711, device='cuda:0', grad_fn=<MulBackward0>)]\n",
      "[array(0.13564862, dtype=float32), tensor(0.1730, device='cuda:0', grad_fn=<MulBackward0>)]\n",
      "[array(0.13321851, dtype=float32), tensor(0.0114, device='cuda:0', grad_fn=<MulBackward0>)]\n",
      "[array(0.15429239, dtype=float32), tensor(0.1999, device='cuda:0', grad_fn=<MulBackward0>)]\n",
      "[array(0.14588937, dtype=float32), tensor(0.1996, device='cuda:0', grad_fn=<MulBackward0>)]\n",
      "[array(0.14435774, dtype=float32), tensor(0.1997, device='cuda:0', grad_fn=<MulBackward0>)]\n",
      "[array(0.14934888, dtype=float32), tensor(0.1985, device='cuda:0', grad_fn=<MulBackward0>)]\n",
      "[array(0.13904804, dtype=float32), tensor(0.1992, device='cuda:0', grad_fn=<MulBackward0>)]\n",
      "[array(0.1423293, dtype=float32), tensor(0.1957, device='cuda:0', grad_fn=<MulBackward0>)]\n",
      "[array(0.14313155, dtype=float32), tensor(0.1953, device='cuda:0', grad_fn=<MulBackward0>)]\n",
      "[array(0.14158426, dtype=float32), tensor(0.1932, device='cuda:0', grad_fn=<MulBackward0>)]\n",
      "[array(0.14806089, dtype=float32), tensor(0.1838, device='cuda:0', grad_fn=<MulBackward0>)]\n",
      "[array(0.14547205, dtype=float32), tensor(0.1852, device='cuda:0', grad_fn=<MulBackward0>)]\n",
      "[array(0.1410775, dtype=float32), tensor(0.1889, device='cuda:0', grad_fn=<MulBackward0>)]\n",
      "[array(0.13916147, dtype=float32), tensor(0.1872, device='cuda:0', grad_fn=<MulBackward0>)]\n",
      "[array(0.1418328, dtype=float32), tensor(0.1792, device='cuda:0', grad_fn=<MulBackward0>)]\n",
      "[array(0.14121005, dtype=float32), tensor(0.1854, device='cuda:0', grad_fn=<MulBackward0>)]\n",
      "[array(0.13756442, dtype=float32), tensor(0.1855, device='cuda:0', grad_fn=<MulBackward0>)]\n",
      "[array(0.14758897, dtype=float32), tensor(0.1864, device='cuda:0', grad_fn=<MulBackward0>)]\n",
      "[array(0.14323637, dtype=float32), tensor(0.1881, device='cuda:0', grad_fn=<MulBackward0>)]\n",
      "[array(0.13856606, dtype=float32), tensor(0.1888, device='cuda:0', grad_fn=<MulBackward0>)]\n",
      "[array(0.13162902, dtype=float32), tensor(0.1906, device='cuda:0', grad_fn=<MulBackward0>)]\n",
      "[array(0.1288451, dtype=float32), tensor(0.1894, device='cuda:0', grad_fn=<MulBackward0>)]\n",
      "[array(0.1352134, dtype=float32), tensor(0.1889, device='cuda:0', grad_fn=<MulBackward0>)]\n",
      "[array(0.13254881, dtype=float32), tensor(0.1871, device='cuda:0', grad_fn=<MulBackward0>)]\n",
      "[array(0.13341555, dtype=float32), tensor(0.1862, device='cuda:0', grad_fn=<MulBackward0>)]\n",
      "[array(0.13263884, dtype=float32), tensor(0.1847, device='cuda:0', grad_fn=<MulBackward0>)]\n",
      "[array(0.13761505, dtype=float32), tensor(0.1791, device='cuda:0', grad_fn=<MulBackward0>)]\n",
      "[array(0.13481855, dtype=float32), tensor(0.1786, device='cuda:0', grad_fn=<MulBackward0>)]\n",
      "[array(0.13425887, dtype=float32), tensor(0.1783, device='cuda:0', grad_fn=<MulBackward0>)]\n",
      "[array(0.13206366, dtype=float32), tensor(0.1798, device='cuda:0', grad_fn=<MulBackward0>)]\n",
      "[array(0.13064888, dtype=float32), tensor(0.1829, device='cuda:0', grad_fn=<MulBackward0>)]\n",
      "[array(0.1265255, dtype=float32), tensor(0.1853, device='cuda:0', grad_fn=<MulBackward0>)]\n",
      "[array(0.12505901, dtype=float32), tensor(0.1815, device='cuda:0', grad_fn=<MulBackward0>)]\n",
      "[array(0.13180472, dtype=float32), tensor(0.1740, device='cuda:0', grad_fn=<MulBackward0>)]\n",
      "[array(0.12832618, dtype=float32), tensor(0.1745, device='cuda:0', grad_fn=<MulBackward0>)]\n",
      "[array(0.12544297, dtype=float32), tensor(0.1777, device='cuda:0', grad_fn=<MulBackward0>)]\n",
      "[array(0.119469, dtype=float32), tensor(0.1788, device='cuda:0', grad_fn=<MulBackward0>)]\n",
      "[array(0.11934162, dtype=float32), tensor(0.1787, device='cuda:0', grad_fn=<MulBackward0>)]\n",
      "[array(0.11623791, dtype=float32), tensor(0.1786, device='cuda:0', grad_fn=<MulBackward0>)]\n",
      "[array(0.12531626, dtype=float32), tensor(0.1771, device='cuda:0', grad_fn=<MulBackward0>)]\n",
      "[array(0.12621167, dtype=float32), tensor(0.1786, device='cuda:0', grad_fn=<MulBackward0>)]\n",
      "[array(0.12517145, dtype=float32), tensor(0.1786, device='cuda:0', grad_fn=<MulBackward0>)]\n",
      "[array(0.12264705, dtype=float32), tensor(0.1789, device='cuda:0', grad_fn=<MulBackward0>)]\n",
      "[array(0.12079951, dtype=float32), tensor(0.1772, device='cuda:0', grad_fn=<MulBackward0>)]\n",
      "[array(0.11774544, dtype=float32), tensor(0.1795, device='cuda:0', grad_fn=<MulBackward0>)]\n",
      "[array(0.11651012, dtype=float32), tensor(0.1774, device='cuda:0', grad_fn=<MulBackward0>)]\n",
      "[array(0.11500345, dtype=float32), tensor(0.1749, device='cuda:0', grad_fn=<MulBackward0>)]\n",
      "[array(0.11232938, dtype=float32), tensor(0.1755, device='cuda:0', grad_fn=<MulBackward0>)]\n",
      "[array(0.11975916, dtype=float32), tensor(0.1750, device='cuda:0', grad_fn=<MulBackward0>)]\n",
      "[array(0.11996052, dtype=float32), tensor(0.1744, device='cuda:0', grad_fn=<MulBackward0>)]\n",
      "[array(0.12094387, dtype=float32), tensor(0.1722, device='cuda:0', grad_fn=<MulBackward0>)]\n",
      "[array(0.11606367, dtype=float32), tensor(0.1742, device='cuda:0', grad_fn=<MulBackward0>)]\n",
      "[array(0.11773631, dtype=float32), tensor(0.1725, device='cuda:0', grad_fn=<MulBackward0>)]\n",
      "[array(0.11664987, dtype=float32), tensor(0.1760, device='cuda:0', grad_fn=<MulBackward0>)]\n",
      "[array(0.11658579, dtype=float32), tensor(0.1737, device='cuda:0', grad_fn=<MulBackward0>)]\n",
      "[array(0.11273816, dtype=float32), tensor(0.1753, device='cuda:0', grad_fn=<MulBackward0>)]\n",
      "[array(0.11665218, dtype=float32), tensor(0.1706, device='cuda:0', grad_fn=<MulBackward0>)]\n",
      "[array(0.11773339, dtype=float32), tensor(0.1700, device='cuda:0', grad_fn=<MulBackward0>)]\n",
      "[array(0.11764573, dtype=float32), tensor(0.1688, device='cuda:0', grad_fn=<MulBackward0>)]\n",
      "[array(0.11397664, dtype=float32), tensor(0.1701, device='cuda:0', grad_fn=<MulBackward0>)]\n",
      "[array(0.11461656, dtype=float32), tensor(0.1674, device='cuda:0', grad_fn=<MulBackward0>)]\n",
      "[array(0.11280167, dtype=float32), tensor(0.1717, device='cuda:0', grad_fn=<MulBackward0>)]\n",
      "[array(0.11179633, dtype=float32), tensor(0.1698, device='cuda:0', grad_fn=<MulBackward0>)]\n",
      "[array(0.11198527, dtype=float32), tensor(0.1696, device='cuda:0', grad_fn=<MulBackward0>)]\n",
      "[array(0.11041386, dtype=float32), tensor(0.1704, device='cuda:0', grad_fn=<MulBackward0>)]\n",
      "[array(0.11196512, dtype=float32), tensor(0.1719, device='cuda:0', grad_fn=<MulBackward0>)]\n",
      "[array(0.1095618, dtype=float32), tensor(0.1736, device='cuda:0', grad_fn=<MulBackward0>)]\n",
      "[array(0.10674722, dtype=float32), tensor(0.1730, device='cuda:0', grad_fn=<MulBackward0>)]\n",
      "[array(0.10441562, dtype=float32), tensor(0.1722, device='cuda:0', grad_fn=<MulBackward0>)]\n",
      "[array(0.10943481, dtype=float32), tensor(0.1671, device='cuda:0', grad_fn=<MulBackward0>)]\n",
      "[array(0.11368899, dtype=float32), tensor(0.1644, device='cuda:0', grad_fn=<MulBackward0>)]\n",
      "[array(0.11151138, dtype=float32), tensor(0.1638, device='cuda:0', grad_fn=<MulBackward0>)]\n",
      "[array(0.11099003, dtype=float32), tensor(0.1630, device='cuda:0', grad_fn=<MulBackward0>)]\n",
      "[array(0.10786124, dtype=float32), tensor(0.1646, device='cuda:0', grad_fn=<MulBackward0>)]\n",
      "[array(0.10622977, dtype=float32), tensor(0.0108, device='cuda:0', grad_fn=<MulBackward0>)]\n",
      "[array(0.121599, dtype=float32), tensor(0.1888, device='cuda:0', grad_fn=<MulBackward0>)]\n",
      "[array(0.11394985, dtype=float32), tensor(0.1885, device='cuda:0', grad_fn=<MulBackward0>)]\n",
      "[array(0.11262276, dtype=float32), tensor(0.1887, device='cuda:0', grad_fn=<MulBackward0>)]\n",
      "[array(0.11737826, dtype=float32), tensor(0.1883, device='cuda:0', grad_fn=<MulBackward0>)]\n",
      "[array(0.10969669, dtype=float32), tensor(0.1869, device='cuda:0', grad_fn=<MulBackward0>)]\n",
      "[array(0.1127931, dtype=float32), tensor(0.1841, device='cuda:0', grad_fn=<MulBackward0>)]\n",
      "[array(0.11400074, dtype=float32), tensor(0.1838, device='cuda:0', grad_fn=<MulBackward0>)]\n",
      "[array(0.11284958, dtype=float32), tensor(0.1820, device='cuda:0', grad_fn=<MulBackward0>)]\n",
      "[array(0.11888288, dtype=float32), tensor(0.1745, device='cuda:0', grad_fn=<MulBackward0>)]\n",
      "[array(0.113633, dtype=float32), tensor(0.1761, device='cuda:0', grad_fn=<MulBackward0>)]\n",
      "[array(0.10919812, dtype=float32), tensor(0.1795, device='cuda:0', grad_fn=<MulBackward0>)]\n",
      "[array(0.10897671, dtype=float32), tensor(0.1778, device='cuda:0', grad_fn=<MulBackward0>)]\n",
      "[array(0.1132495, dtype=float32), tensor(0.1704, device='cuda:0', grad_fn=<MulBackward0>)]\n",
      "[array(0.1113995, dtype=float32), tensor(0.1764, device='cuda:0', grad_fn=<MulBackward0>)]\n",
      "[array(0.10759041, dtype=float32), tensor(0.1768, device='cuda:0', grad_fn=<MulBackward0>)]\n",
      "[array(0.11609843, dtype=float32), tensor(0.1784, device='cuda:0', grad_fn=<MulBackward0>)]\n",
      "[array(0.11271591, dtype=float32), tensor(0.1799, device='cuda:0', grad_fn=<MulBackward0>)]\n",
      "[array(0.10923496, dtype=float32), tensor(0.1796, device='cuda:0', grad_fn=<MulBackward0>)]\n",
      "[array(0.10457955, dtype=float32), tensor(0.1799, device='cuda:0', grad_fn=<MulBackward0>)]\n",
      "[array(0.10211177, dtype=float32), tensor(0.1785, device='cuda:0', grad_fn=<MulBackward0>)]\n",
      "[array(0.10787179, dtype=float32), tensor(0.1780, device='cuda:0', grad_fn=<MulBackward0>)]\n",
      "[array(0.10619038, dtype=float32), tensor(0.1762, device='cuda:0', grad_fn=<MulBackward0>)]\n",
      "[array(0.10805458, dtype=float32), tensor(0.1750, device='cuda:0', grad_fn=<MulBackward0>)]\n",
      "[array(0.10720548, dtype=float32), tensor(0.1740, device='cuda:0', grad_fn=<MulBackward0>)]\n",
      "[array(0.11174177, dtype=float32), tensor(0.1698, device='cuda:0', grad_fn=<MulBackward0>)]\n",
      "[array(0.10799582, dtype=float32), tensor(0.1697, device='cuda:0', grad_fn=<MulBackward0>)]\n",
      "[array(0.10681286, dtype=float32), tensor(0.1691, device='cuda:0', grad_fn=<MulBackward0>)]\n",
      "[array(0.10429008, dtype=float32), tensor(0.1704, device='cuda:0', grad_fn=<MulBackward0>)]\n",
      "[array(0.1028854, dtype=float32), tensor(0.1734, device='cuda:0', grad_fn=<MulBackward0>)]\n",
      "[array(0.09922314, dtype=float32), tensor(0.1757, device='cuda:0', grad_fn=<MulBackward0>)]\n",
      "[array(0.09768862, dtype=float32), tensor(0.1729, device='cuda:0', grad_fn=<MulBackward0>)]\n",
      "[array(0.10609376, dtype=float32), tensor(0.1656, device='cuda:0', grad_fn=<MulBackward0>)]\n",
      "[array(0.1028626, dtype=float32), tensor(0.1663, device='cuda:0', grad_fn=<MulBackward0>)]\n",
      "[array(0.09987875, dtype=float32), tensor(0.1693, device='cuda:0', grad_fn=<MulBackward0>)]\n",
      "[array(0.09482266, dtype=float32), tensor(0.1699, device='cuda:0', grad_fn=<MulBackward0>)]\n",
      "[array(0.09461908, dtype=float32), tensor(0.1699, device='cuda:0', grad_fn=<MulBackward0>)]\n",
      "[array(0.0921642, dtype=float32), tensor(0.1693, device='cuda:0', grad_fn=<MulBackward0>)]\n",
      "[array(0.10008476, dtype=float32), tensor(0.1684, device='cuda:0', grad_fn=<MulBackward0>)]\n",
      "[array(0.10094649, dtype=float32), tensor(0.1695, device='cuda:0', grad_fn=<MulBackward0>)]\n",
      "[array(0.10056661, dtype=float32), tensor(0.1698, device='cuda:0', grad_fn=<MulBackward0>)]\n",
      "[array(0.09748381, dtype=float32), tensor(0.1701, device='cuda:0', grad_fn=<MulBackward0>)]\n",
      "[array(0.09675737, dtype=float32), tensor(0.1680, device='cuda:0', grad_fn=<MulBackward0>)]\n",
      "[array(0.09459732, dtype=float32), tensor(0.1692, device='cuda:0', grad_fn=<MulBackward0>)]\n",
      "[array(0.09395935, dtype=float32), tensor(0.1676, device='cuda:0', grad_fn=<MulBackward0>)]\n",
      "[array(0.0923261, dtype=float32), tensor(0.1655, device='cuda:0', grad_fn=<MulBackward0>)]\n",
      "[array(0.08994683, dtype=float32), tensor(0.1659, device='cuda:0', grad_fn=<MulBackward0>)]\n",
      "[array(0.09574378, dtype=float32), tensor(0.1665, device='cuda:0', grad_fn=<MulBackward0>)]\n",
      "[array(0.09600016, dtype=float32), tensor(0.1658, device='cuda:0', grad_fn=<MulBackward0>)]\n",
      "[array(0.09756792, dtype=float32), tensor(0.1641, device='cuda:0', grad_fn=<MulBackward0>)]\n",
      "[array(0.09295905, dtype=float32), tensor(0.1654, device='cuda:0', grad_fn=<MulBackward0>)]\n",
      "[array(0.09538415, dtype=float32), tensor(0.1636, device='cuda:0', grad_fn=<MulBackward0>)]\n",
      "[array(0.09478746, dtype=float32), tensor(0.1668, device='cuda:0', grad_fn=<MulBackward0>)]\n",
      "[array(0.09473751, dtype=float32), tensor(0.1644, device='cuda:0', grad_fn=<MulBackward0>)]\n",
      "[array(0.09112068, dtype=float32), tensor(0.1659, device='cuda:0', grad_fn=<MulBackward0>)]\n",
      "[array(0.09466375, dtype=float32), tensor(0.1621, device='cuda:0', grad_fn=<MulBackward0>)]\n",
      "[array(0.095649, dtype=float32), tensor(0.1621, device='cuda:0', grad_fn=<MulBackward0>)]\n",
      "[array(0.09551384, dtype=float32), tensor(0.1610, device='cuda:0', grad_fn=<MulBackward0>)]\n",
      "[array(0.09144188, dtype=float32), tensor(0.1622, device='cuda:0', grad_fn=<MulBackward0>)]\n",
      "[array(0.09248915, dtype=float32), tensor(0.1595, device='cuda:0', grad_fn=<MulBackward0>)]\n",
      "[array(0.09028637, dtype=float32), tensor(0.1625, device='cuda:0', grad_fn=<MulBackward0>)]\n",
      "[array(0.09023303, dtype=float32), tensor(0.1604, device='cuda:0', grad_fn=<MulBackward0>)]\n",
      "[array(0.09010235, dtype=float32), tensor(0.1607, device='cuda:0', grad_fn=<MulBackward0>)]\n",
      "[array(0.08842994, dtype=float32), tensor(0.1613, device='cuda:0', grad_fn=<MulBackward0>)]\n",
      "[array(0.08987059, dtype=float32), tensor(0.1631, device='cuda:0', grad_fn=<MulBackward0>)]\n",
      "[array(0.08770208, dtype=float32), tensor(0.1647, device='cuda:0', grad_fn=<MulBackward0>)]\n",
      "[array(0.08561842, dtype=float32), tensor(0.1641, device='cuda:0', grad_fn=<MulBackward0>)]\n",
      "[array(0.08306384, dtype=float32), tensor(0.1638, device='cuda:0', grad_fn=<MulBackward0>)]\n",
      "[array(0.08797944, dtype=float32), tensor(0.1590, device='cuda:0', grad_fn=<MulBackward0>)]\n",
      "[array(0.09278621, dtype=float32), tensor(0.1564, device='cuda:0', grad_fn=<MulBackward0>)]\n",
      "[array(0.09166598, dtype=float32), tensor(0.1556, device='cuda:0', grad_fn=<MulBackward0>)]\n",
      "[array(0.09067065, dtype=float32), tensor(0.1551, device='cuda:0', grad_fn=<MulBackward0>)]\n",
      "[array(0.08802032, dtype=float32), tensor(0.1563, device='cuda:0', grad_fn=<MulBackward0>)]\n",
      "[array(0.08691269, dtype=float32), tensor(0.0103, device='cuda:0', grad_fn=<MulBackward0>)]\n",
      "[array(0.09730273, dtype=float32), tensor(0.1786, device='cuda:0', grad_fn=<MulBackward0>)]\n",
      "[array(0.09081393, dtype=float32), tensor(0.1784, device='cuda:0', grad_fn=<MulBackward0>)]\n",
      "[array(0.08923921, dtype=float32), tensor(0.1789, device='cuda:0', grad_fn=<MulBackward0>)]\n",
      "[array(0.09317454, dtype=float32), tensor(0.1789, device='cuda:0', grad_fn=<MulBackward0>)]\n",
      "[array(0.08855212, dtype=float32), tensor(0.1755, device='cuda:0', grad_fn=<MulBackward0>)]\n",
      "[array(0.09096263, dtype=float32), tensor(0.1736, device='cuda:0', grad_fn=<MulBackward0>)]\n",
      "[array(0.09239203, dtype=float32), tensor(0.1737, device='cuda:0', grad_fn=<MulBackward0>)]\n",
      "[array(0.09170882, dtype=float32), tensor(0.1719, device='cuda:0', grad_fn=<MulBackward0>)]\n",
      "[array(0.09621337, dtype=float32), tensor(0.1661, device='cuda:0', grad_fn=<MulBackward0>)]\n",
      "[array(0.09134991, dtype=float32), tensor(0.1669, device='cuda:0', grad_fn=<MulBackward0>)]\n",
      "[array(0.08751044, dtype=float32), tensor(0.1699, device='cuda:0', grad_fn=<MulBackward0>)]\n",
      "[array(0.08771666, dtype=float32), tensor(0.1685, device='cuda:0', grad_fn=<MulBackward0>)]\n",
      "[array(0.09225623, dtype=float32), tensor(0.1620, device='cuda:0', grad_fn=<MulBackward0>)]\n",
      "[array(0.09002671, dtype=float32), tensor(0.1676, device='cuda:0', grad_fn=<MulBackward0>)]\n",
      "[array(0.08625111, dtype=float32), tensor(0.1681, device='cuda:0', grad_fn=<MulBackward0>)]\n",
      "[array(0.09281702, dtype=float32), tensor(0.1702, device='cuda:0', grad_fn=<MulBackward0>)]\n",
      "[array(0.09008753, dtype=float32), tensor(0.1717, device='cuda:0', grad_fn=<MulBackward0>)]\n",
      "[array(0.08787206, dtype=float32), tensor(0.1705, device='cuda:0', grad_fn=<MulBackward0>)]\n",
      "[array(0.08513938, dtype=float32), tensor(0.1698, device='cuda:0', grad_fn=<MulBackward0>)]\n",
      "[array(0.08311275, dtype=float32), tensor(0.1683, device='cuda:0', grad_fn=<MulBackward0>)]\n",
      "[array(0.087504, dtype=float32), tensor(0.1682, device='cuda:0', grad_fn=<MulBackward0>)]\n",
      "[array(0.08668365, dtype=float32), tensor(0.1665, device='cuda:0', grad_fn=<MulBackward0>)]\n",
      "[array(0.08892417, dtype=float32), tensor(0.1654, device='cuda:0', grad_fn=<MulBackward0>)]\n",
      "[array(0.08804231, dtype=float32), tensor(0.1648, device='cuda:0', grad_fn=<MulBackward0>)]\n",
      "[array(0.09125986, dtype=float32), tensor(0.1619, device='cuda:0', grad_fn=<MulBackward0>)]\n",
      "[array(0.08741977, dtype=float32), tensor(0.1619, device='cuda:0', grad_fn=<MulBackward0>)]\n",
      "[array(0.08674017, dtype=float32), tensor(0.1607, device='cuda:0', grad_fn=<MulBackward0>)]\n",
      "[array(0.08474833, dtype=float32), tensor(0.1616, device='cuda:0', grad_fn=<MulBackward0>)]\n",
      "[array(0.08354377, dtype=float32), tensor(0.1645, device='cuda:0', grad_fn=<MulBackward0>)]\n",
      "[array(0.08031725, dtype=float32), tensor(0.1664, device='cuda:0', grad_fn=<MulBackward0>)]\n",
      "[array(0.07906675, dtype=float32), tensor(0.1641, device='cuda:0', grad_fn=<MulBackward0>)]\n",
      "[array(0.0873166, dtype=float32), tensor(0.1574, device='cuda:0', grad_fn=<MulBackward0>)]\n",
      "[array(0.0845983, dtype=float32), tensor(0.1581, device='cuda:0', grad_fn=<MulBackward0>)]\n",
      "[array(0.08155803, dtype=float32), tensor(0.1610, device='cuda:0', grad_fn=<MulBackward0>)]\n",
      "[array(0.07750355, dtype=float32), tensor(0.1611, device='cuda:0', grad_fn=<MulBackward0>)]\n",
      "[array(0.07697758, dtype=float32), tensor(0.1612, device='cuda:0', grad_fn=<MulBackward0>)]\n",
      "[array(0.07519625, dtype=float32), tensor(0.1605, device='cuda:0', grad_fn=<MulBackward0>)]\n",
      "[array(0.08150651, dtype=float32), tensor(0.1600, device='cuda:0', grad_fn=<MulBackward0>)]\n",
      "[array(0.08206707, dtype=float32), tensor(0.1611, device='cuda:0', grad_fn=<MulBackward0>)]\n",
      "[array(0.08223211, dtype=float32), tensor(0.1614, device='cuda:0', grad_fn=<MulBackward0>)]\n",
      "[array(0.07906978, dtype=float32), tensor(0.1615, device='cuda:0', grad_fn=<MulBackward0>)]\n",
      "[array(0.07911658, dtype=float32), tensor(0.1595, device='cuda:0', grad_fn=<MulBackward0>)]\n",
      "[array(0.07796861, dtype=float32), tensor(0.1599, device='cuda:0', grad_fn=<MulBackward0>)]\n",
      "[array(0.07773007, dtype=float32), tensor(0.1584, device='cuda:0', grad_fn=<MulBackward0>)]\n",
      "[array(0.07611906, dtype=float32), tensor(0.1566, device='cuda:0', grad_fn=<MulBackward0>)]\n",
      "[array(0.07458316, dtype=float32), tensor(0.1567, device='cuda:0', grad_fn=<MulBackward0>)]\n",
      "[array(0.07869866, dtype=float32), tensor(0.1580, device='cuda:0', grad_fn=<MulBackward0>)]\n",
      "[array(0.07900268, dtype=float32), tensor(0.1571, device='cuda:0', grad_fn=<MulBackward0>)]\n",
      "[array(0.08052383, dtype=float32), tensor(0.1559, device='cuda:0', grad_fn=<MulBackward0>)]\n",
      "[array(0.07686418, dtype=float32), tensor(0.1565, device='cuda:0', grad_fn=<MulBackward0>)]\n",
      "[array(0.0792574, dtype=float32), tensor(0.1551, device='cuda:0', grad_fn=<MulBackward0>)]\n",
      "[array(0.07895878, dtype=float32), tensor(0.1582, device='cuda:0', grad_fn=<MulBackward0>)]\n",
      "[array(0.07847387, dtype=float32), tensor(0.1562, device='cuda:0', grad_fn=<MulBackward0>)]\n",
      "[array(0.07556769, dtype=float32), tensor(0.1572, device='cuda:0', grad_fn=<MulBackward0>)]\n",
      "[array(0.07813117, dtype=float32), tensor(0.1545, device='cuda:0', grad_fn=<MulBackward0>)]\n",
      "[array(0.07880707, dtype=float32), tensor(0.1549, device='cuda:0', grad_fn=<MulBackward0>)]\n",
      "[array(0.07844815, dtype=float32), tensor(0.1539, device='cuda:0', grad_fn=<MulBackward0>)]\n",
      "[array(0.07478798, dtype=float32), tensor(0.1547, device='cuda:0', grad_fn=<MulBackward0>)]\n",
      "[array(0.07603616, dtype=float32), tensor(0.1522, device='cuda:0', grad_fn=<MulBackward0>)]\n",
      "[array(0.07476041, dtype=float32), tensor(0.1538, device='cuda:0', grad_fn=<MulBackward0>)]\n",
      "[array(0.07524238, dtype=float32), tensor(0.1516, device='cuda:0', grad_fn=<MulBackward0>)]\n",
      "[array(0.07492977, dtype=float32), tensor(0.1521, device='cuda:0', grad_fn=<MulBackward0>)]\n",
      "[array(0.07342311, dtype=float32), tensor(0.1526, device='cuda:0', grad_fn=<MulBackward0>)]\n",
      "[array(0.07441433, dtype=float32), tensor(0.1548, device='cuda:0', grad_fn=<MulBackward0>)]\n",
      "[array(0.07237367, dtype=float32), tensor(0.1562, device='cuda:0', grad_fn=<MulBackward0>)]\n",
      "[array(0.0708075, dtype=float32), tensor(0.1557, device='cuda:0', grad_fn=<MulBackward0>)]\n",
      "[array(0.06845801, dtype=float32), tensor(0.1553, device='cuda:0', grad_fn=<MulBackward0>)]\n",
      "[array(0.07267909, dtype=float32), tensor(0.1513, device='cuda:0', grad_fn=<MulBackward0>)]\n",
      "[array(0.07727629, dtype=float32), tensor(0.1490, device='cuda:0', grad_fn=<MulBackward0>)]\n",
      "[array(0.0769539, dtype=float32), tensor(0.1480, device='cuda:0', grad_fn=<MulBackward0>)]\n",
      "[array(0.07562655, dtype=float32), tensor(0.1477, device='cuda:0', grad_fn=<MulBackward0>)]\n",
      "[array(0.07362307, dtype=float32), tensor(0.1486, device='cuda:0', grad_fn=<MulBackward0>)]\n",
      "[array(0.07281139, dtype=float32), tensor(0.0098, device='cuda:0', grad_fn=<MulBackward0>)]\n",
      "[array(0.07987305, dtype=float32), tensor(0.1689, device='cuda:0', grad_fn=<MulBackward0>)]\n",
      "[array(0.07458562, dtype=float32), tensor(0.1688, device='cuda:0', grad_fn=<MulBackward0>)]\n",
      "[array(0.07274648, dtype=float32), tensor(0.1694, device='cuda:0', grad_fn=<MulBackward0>)]\n",
      "[array(0.07575552, dtype=float32), tensor(0.1697, device='cuda:0', grad_fn=<MulBackward0>)]\n",
      "[array(0.07347281, dtype=float32), tensor(0.1655, device='cuda:0', grad_fn=<MulBackward0>)]\n",
      "[array(0.07517422, dtype=float32), tensor(0.1641, device='cuda:0', grad_fn=<MulBackward0>)]\n",
      "[array(0.07682859, dtype=float32), tensor(0.1644, device='cuda:0', grad_fn=<MulBackward0>)]\n",
      "[array(0.07647157, dtype=float32), tensor(0.1627, device='cuda:0', grad_fn=<MulBackward0>)]\n",
      "[array(0.07951196, dtype=float32), tensor(0.1581, device='cuda:0', grad_fn=<MulBackward0>)]\n",
      "[array(0.07560195, dtype=float32), tensor(0.1583, device='cuda:0', grad_fn=<MulBackward0>)]\n",
      "[array(0.07245818, dtype=float32), tensor(0.1608, device='cuda:0', grad_fn=<MulBackward0>)]\n",
      "[array(0.07267272, dtype=float32), tensor(0.1596, device='cuda:0', grad_fn=<MulBackward0>)]\n",
      "[array(0.07703032, dtype=float32), tensor(0.1540, device='cuda:0', grad_fn=<MulBackward0>)]\n",
      "[array(0.07455943, dtype=float32), tensor(0.1596, device='cuda:0', grad_fn=<MulBackward0>)]\n",
      "[array(0.07100067, dtype=float32), tensor(0.1601, device='cuda:0', grad_fn=<MulBackward0>)]\n",
      "[array(0.07609868, dtype=float32), tensor(0.1620, device='cuda:0', grad_fn=<MulBackward0>)]\n",
      "[array(0.07396436, dtype=float32), tensor(0.1633, device='cuda:0', grad_fn=<MulBackward0>)]\n",
      "[array(0.07269137, dtype=float32), tensor(0.1617, device='cuda:0', grad_fn=<MulBackward0>)]\n",
      "[array(0.07113122, dtype=float32), tensor(0.1606, device='cuda:0', grad_fn=<MulBackward0>)]\n",
      "[array(0.06960182, dtype=float32), tensor(0.1590, device='cuda:0', grad_fn=<MulBackward0>)]\n",
      "[array(0.07271755, dtype=float32), tensor(0.1594, device='cuda:0', grad_fn=<MulBackward0>)]\n",
      "[array(0.0724362, dtype=float32), tensor(0.1577, device='cuda:0', grad_fn=<MulBackward0>)]\n",
      "[array(0.07500456, dtype=float32), tensor(0.1568, device='cuda:0', grad_fn=<MulBackward0>)]\n",
      "[array(0.07419287, dtype=float32), tensor(0.1563, device='cuda:0', grad_fn=<MulBackward0>)]\n",
      "[array(0.07582546, dtype=float32), tensor(0.1546, device='cuda:0', grad_fn=<MulBackward0>)]\n",
      "[array(0.07240902, dtype=float32), tensor(0.1544, device='cuda:0', grad_fn=<MulBackward0>)]\n",
      "[array(0.072436, dtype=float32), tensor(0.1528, device='cuda:0', grad_fn=<MulBackward0>)]\n",
      "[array(0.0711754, dtype=float32), tensor(0.1532, device='cuda:0', grad_fn=<MulBackward0>)]\n",
      "[array(0.07015349, dtype=float32), tensor(0.1559, device='cuda:0', grad_fn=<MulBackward0>)]\n",
      "[array(0.06731507, dtype=float32), tensor(0.1575, device='cuda:0', grad_fn=<MulBackward0>)]\n",
      "[array(0.06626667, dtype=float32), tensor(0.1554, device='cuda:0', grad_fn=<MulBackward0>)]\n",
      "[array(0.0739198, dtype=float32), tensor(0.1496, device='cuda:0', grad_fn=<MulBackward0>)]\n",
      "[array(0.07151478, dtype=float32), tensor(0.1502, device='cuda:0', grad_fn=<MulBackward0>)]\n",
      "[array(0.0685887, dtype=float32), tensor(0.1533, device='cuda:0', grad_fn=<MulBackward0>)]\n",
      "[array(0.06546497, dtype=float32), tensor(0.1529, device='cuda:0', grad_fn=<MulBackward0>)]\n",
      "[array(0.06456634, dtype=float32), tensor(0.1531, device='cuda:0', grad_fn=<MulBackward0>)]\n",
      "[array(0.06333458, dtype=float32), tensor(0.1522, device='cuda:0', grad_fn=<MulBackward0>)]\n",
      "[array(0.06819255, dtype=float32), tensor(0.1522, device='cuda:0', grad_fn=<MulBackward0>)]\n",
      "[array(0.06850347, dtype=float32), tensor(0.1530, device='cuda:0', grad_fn=<MulBackward0>)]\n",
      "[array(0.06889217, dtype=float32), tensor(0.1536, device='cuda:0', grad_fn=<MulBackward0>)]\n",
      "[array(0.06596558, dtype=float32), tensor(0.1534, device='cuda:0', grad_fn=<MulBackward0>)]\n",
      "[array(0.06643956, dtype=float32), tensor(0.1516, device='cuda:0', grad_fn=<MulBackward0>)]\n",
      "[array(0.06615587, dtype=float32), tensor(0.1515, device='cuda:0', grad_fn=<MulBackward0>)]\n",
      "[array(0.06595167, dtype=float32), tensor(0.1503, device='cuda:0', grad_fn=<MulBackward0>)]\n",
      "[array(0.06454039, dtype=float32), tensor(0.1484, device='cuda:0', grad_fn=<MulBackward0>)]\n",
      "[array(0.06368781, dtype=float32), tensor(0.1483, device='cuda:0', grad_fn=<MulBackward0>)]\n",
      "[array(0.06642626, dtype=float32), tensor(0.1501, device='cuda:0', grad_fn=<MulBackward0>)]\n",
      "[array(0.06670803, dtype=float32), tensor(0.1492, device='cuda:0', grad_fn=<MulBackward0>)]\n",
      "[array(0.06789447, dtype=float32), tensor(0.1484, device='cuda:0', grad_fn=<MulBackward0>)]\n",
      "[array(0.06532817, dtype=float32), tensor(0.1485, device='cuda:0', grad_fn=<MulBackward0>)]\n",
      "[array(0.06756163, dtype=float32), tensor(0.1474, device='cuda:0', grad_fn=<MulBackward0>)]\n",
      "[array(0.06743699, dtype=float32), tensor(0.1504, device='cuda:0', grad_fn=<MulBackward0>)]\n",
      "[array(0.06670859, dtype=float32), tensor(0.1486, device='cuda:0', grad_fn=<MulBackward0>)]\n",
      "[array(0.06453366, dtype=float32), tensor(0.1493, device='cuda:0', grad_fn=<MulBackward0>)]\n",
      "[array(0.06614451, dtype=float32), tensor(0.1472, device='cuda:0', grad_fn=<MulBackward0>)]\n",
      "[array(0.06650792, dtype=float32), tensor(0.1478, device='cuda:0', grad_fn=<MulBackward0>)]\n",
      "[array(0.06601019, dtype=float32), tensor(0.1469, device='cuda:0', grad_fn=<MulBackward0>)]\n",
      "[array(0.06303, dtype=float32), tensor(0.1473, device='cuda:0', grad_fn=<MulBackward0>)]\n",
      "[array(0.06425875, dtype=float32), tensor(0.1449, device='cuda:0', grad_fn=<MulBackward0>)]\n",
      "[array(0.06396714, dtype=float32), tensor(0.1458, device='cuda:0', grad_fn=<MulBackward0>)]\n",
      "[array(0.06466161, dtype=float32), tensor(0.1435, device='cuda:0', grad_fn=<MulBackward0>)]\n",
      "[array(0.0642162, dtype=float32), tensor(0.1443, device='cuda:0', grad_fn=<MulBackward0>)]\n",
      "[array(0.063026, dtype=float32), tensor(0.1446, device='cuda:0', grad_fn=<MulBackward0>)]\n",
      "[array(0.0634014, dtype=float32), tensor(0.1471, device='cuda:0', grad_fn=<MulBackward0>)]\n",
      "[array(0.0613653, dtype=float32), tensor(0.1484, device='cuda:0', grad_fn=<MulBackward0>)]\n",
      "[array(0.0602191, dtype=float32), tensor(0.1480, device='cuda:0', grad_fn=<MulBackward0>)]\n",
      "[array(0.05826818, dtype=float32), tensor(0.1474, device='cuda:0', grad_fn=<MulBackward0>)]\n",
      "[array(0.06184387, dtype=float32), tensor(0.1439, device='cuda:0', grad_fn=<MulBackward0>)]\n",
      "[array(0.06618346, dtype=float32), tensor(0.1419, device='cuda:0', grad_fn=<MulBackward0>)]\n",
      "[array(0.06643012, dtype=float32), tensor(0.1407, device='cuda:0', grad_fn=<MulBackward0>)]\n",
      "[array(0.064725, dtype=float32), tensor(0.1407, device='cuda:0', grad_fn=<MulBackward0>)]\n",
      "[array(0.0631998, dtype=float32), tensor(0.1413, device='cuda:0', grad_fn=<MulBackward0>)]\n",
      "[array(0.06260268, dtype=float32), tensor(0.0093, device='cuda:0', grad_fn=<MulBackward0>)]\n",
      "[array(0.0676131, dtype=float32), tensor(0.1600, device='cuda:0', grad_fn=<MulBackward0>)]\n",
      "[array(0.06342795, dtype=float32), tensor(0.1599, device='cuda:0', grad_fn=<MulBackward0>)]\n",
      "[array(0.06145811, dtype=float32), tensor(0.1606, device='cuda:0', grad_fn=<MulBackward0>)]\n",
      "[array(0.06360652, dtype=float32), tensor(0.1610, device='cuda:0', grad_fn=<MulBackward0>)]\n",
      "[array(0.06305733, dtype=float32), tensor(0.1562, device='cuda:0', grad_fn=<MulBackward0>)]\n",
      "[array(0.06411134, dtype=float32), tensor(0.1554, device='cuda:0', grad_fn=<MulBackward0>)]\n",
      "[array(0.06593478, dtype=float32), tensor(0.1557, device='cuda:0', grad_fn=<MulBackward0>)]\n",
      "[array(0.06586501, dtype=float32), tensor(0.1541, device='cuda:0', grad_fn=<MulBackward0>)]\n",
      "[array(0.067385, dtype=float32), tensor(0.1505, device='cuda:0', grad_fn=<MulBackward0>)]\n",
      "[array(0.06472677, dtype=float32), tensor(0.1500, device='cuda:0', grad_fn=<MulBackward0>)]\n",
      "[array(0.06209982, dtype=float32), tensor(0.1522, device='cuda:0', grad_fn=<MulBackward0>)]\n",
      "[array(0.06195033, dtype=float32), tensor(0.1515, device='cuda:0', grad_fn=<MulBackward0>)]\n",
      "[array(0.0658819, dtype=float32), tensor(0.1466, device='cuda:0', grad_fn=<MulBackward0>)]\n",
      "[array(0.06384435, dtype=float32), tensor(0.1519, device='cuda:0', grad_fn=<MulBackward0>)]\n",
      "[array(0.06050842, dtype=float32), tensor(0.1523, device='cuda:0', grad_fn=<MulBackward0>)]\n",
      "[array(0.06428251, dtype=float32), tensor(0.1544, device='cuda:0', grad_fn=<MulBackward0>)]\n",
      "[array(0.06244764, dtype=float32), tensor(0.1554, device='cuda:0', grad_fn=<MulBackward0>)]\n",
      "[array(0.06223907, dtype=float32), tensor(0.1533, device='cuda:0', grad_fn=<MulBackward0>)]\n",
      "[array(0.06159206, dtype=float32), tensor(0.1519, device='cuda:0', grad_fn=<MulBackward0>)]\n",
      "[array(0.06049259, dtype=float32), tensor(0.1501, device='cuda:0', grad_fn=<MulBackward0>)]\n",
      "[array(0.06271879, dtype=float32), tensor(0.1508, device='cuda:0', grad_fn=<MulBackward0>)]\n",
      "[array(0.0626446, dtype=float32), tensor(0.1493, device='cuda:0', grad_fn=<MulBackward0>)]\n",
      "[array(0.06534852, dtype=float32), tensor(0.1486, device='cuda:0', grad_fn=<MulBackward0>)]\n",
      "[array(0.06447297, dtype=float32), tensor(0.1483, device='cuda:0', grad_fn=<MulBackward0>)]\n",
      "[array(0.06466401, dtype=float32), tensor(0.1474, device='cuda:0', grad_fn=<MulBackward0>)]\n",
      "[array(0.06156306, dtype=float32), tensor(0.1473, device='cuda:0', grad_fn=<MulBackward0>)]\n",
      "[array(0.06215535, dtype=float32), tensor(0.1455, device='cuda:0', grad_fn=<MulBackward0>)]\n",
      "[array(0.06138527, dtype=float32), tensor(0.1456, device='cuda:0', grad_fn=<MulBackward0>)]\n",
      "[array(0.06055956, dtype=float32), tensor(0.1481, device='cuda:0', grad_fn=<MulBackward0>)]\n",
      "[array(0.05787849, dtype=float32), tensor(0.1497, device='cuda:0', grad_fn=<MulBackward0>)]\n",
      "[array(0.05708381, dtype=float32), tensor(0.1476, device='cuda:0', grad_fn=<MulBackward0>)]\n",
      "[array(0.06403575, dtype=float32), tensor(0.1425, device='cuda:0', grad_fn=<MulBackward0>)]\n",
      "[array(0.06198219, dtype=float32), tensor(0.1429, device='cuda:0', grad_fn=<MulBackward0>)]\n",
      "[array(0.05996444, dtype=float32), tensor(0.1456, device='cuda:0', grad_fn=<MulBackward0>)]\n",
      "[array(0.05732694, dtype=float32), tensor(0.1449, device='cuda:0', grad_fn=<MulBackward0>)]\n",
      "[array(0.05614382, dtype=float32), tensor(0.1453, device='cuda:0', grad_fn=<MulBackward0>)]\n",
      "[array(0.05514513, dtype=float32), tensor(0.1445, device='cuda:0', grad_fn=<MulBackward0>)]\n",
      "[array(0.05877312, dtype=float32), tensor(0.1450, device='cuda:0', grad_fn=<MulBackward0>)]\n",
      "[array(0.05879073, dtype=float32), tensor(0.1456, device='cuda:0', grad_fn=<MulBackward0>)]\n",
      "[array(0.05912983, dtype=float32), tensor(0.1465, device='cuda:0', grad_fn=<MulBackward0>)]\n",
      "[array(0.05650537, dtype=float32), tensor(0.1460, device='cuda:0', grad_fn=<MulBackward0>)]\n",
      "[array(0.05738355, dtype=float32), tensor(0.1442, device='cuda:0', grad_fn=<MulBackward0>)]\n",
      "[array(0.05774622, dtype=float32), tensor(0.1439, device='cuda:0', grad_fn=<MulBackward0>)]\n",
      "[array(0.05755512, dtype=float32), tensor(0.1428, device='cuda:0', grad_fn=<MulBackward0>)]\n",
      "[array(0.05644535, dtype=float32), tensor(0.1407, device='cuda:0', grad_fn=<MulBackward0>)]\n",
      "[array(0.05603015, dtype=float32), tensor(0.1405, device='cuda:0', grad_fn=<MulBackward0>)]\n",
      "[array(0.05766746, dtype=float32), tensor(0.1428, device='cuda:0', grad_fn=<MulBackward0>)]\n",
      "[array(0.05803051, dtype=float32), tensor(0.1419, device='cuda:0', grad_fn=<MulBackward0>)]\n",
      "[array(0.05876225, dtype=float32), tensor(0.1413, device='cuda:0', grad_fn=<MulBackward0>)]\n",
      "[array(0.05714809, dtype=float32), tensor(0.1411, device='cuda:0', grad_fn=<MulBackward0>)]\n",
      "[array(0.05919796, dtype=float32), tensor(0.1403, device='cuda:0', grad_fn=<MulBackward0>)]\n",
      "[array(0.05937391, dtype=float32), tensor(0.1430, device='cuda:0', grad_fn=<MulBackward0>)]\n",
      "[array(0.05833793, dtype=float32), tensor(0.1415, device='cuda:0', grad_fn=<MulBackward0>)]\n",
      "[array(0.05691308, dtype=float32), tensor(0.1417, device='cuda:0', grad_fn=<MulBackward0>)]\n",
      "[array(0.05764148, dtype=float32), tensor(0.1402, device='cuda:0', grad_fn=<MulBackward0>)]\n",
      "[array(0.0576038, dtype=float32), tensor(0.1410, device='cuda:0', grad_fn=<MulBackward0>)]\n",
      "[array(0.05693706, dtype=float32), tensor(0.1401, device='cuda:0', grad_fn=<MulBackward0>)]\n",
      "[array(0.05459828, dtype=float32), tensor(0.1403, device='cuda:0', grad_fn=<MulBackward0>)]\n",
      "[array(0.05580974, dtype=float32), tensor(0.1380, device='cuda:0', grad_fn=<MulBackward0>)]\n",
      "[array(0.0563611, dtype=float32), tensor(0.1384, device='cuda:0', grad_fn=<MulBackward0>)]\n",
      "[array(0.05719152, dtype=float32), tensor(0.1361, device='cuda:0', grad_fn=<MulBackward0>)]\n",
      "[array(0.05658288, dtype=float32), tensor(0.1371, device='cuda:0', grad_fn=<MulBackward0>)]\n",
      "[array(0.05566449, dtype=float32), tensor(0.1372, device='cuda:0', grad_fn=<MulBackward0>)]\n",
      "[array(0.0557185, dtype=float32), tensor(0.1398, device='cuda:0', grad_fn=<MulBackward0>)]\n",
      "[array(0.0537468, dtype=float32), tensor(0.1410, device='cuda:0', grad_fn=<MulBackward0>)]\n",
      "[array(0.05281043, dtype=float32), tensor(0.1408, device='cuda:0', grad_fn=<MulBackward0>)]\n",
      "[array(0.05103151, dtype=float32), tensor(0.1400, device='cuda:0', grad_fn=<MulBackward0>)]\n",
      "[array(0.05406045, dtype=float32), tensor(0.1372, device='cuda:0', grad_fn=<MulBackward0>)]\n",
      "[array(0.05803522, dtype=float32), tensor(0.1353, device='cuda:0', grad_fn=<MulBackward0>)]\n",
      "[array(0.05863767, dtype=float32), tensor(0.1340, device='cuda:0', grad_fn=<MulBackward0>)]\n",
      "[array(0.05680354, dtype=float32), tensor(0.1341, device='cuda:0', grad_fn=<MulBackward0>)]\n",
      "[array(0.05564019, dtype=float32), tensor(0.1347, device='cuda:0', grad_fn=<MulBackward0>)]\n",
      "[array(0.0552691, dtype=float32), tensor(0.0088, device='cuda:0', grad_fn=<MulBackward0>)]\n"
     ]
    }
   ],
   "source": [
    "epochs = 10\n",
    "batch_size = 2**15\n",
    "lam = 1e-7\n",
    "losses = []\n",
    "for epoch in range(epochs):\n",
    "    for batch in range(0, act_data.shape[0], batch_size):\n",
    "        dat = act_data[batch : batch + batch_size].to(\"cuda\")\n",
    "        \n",
    "        reg, guess = autoenc(dat)\n",
    "        mse_loss = loss_fn(guess, dat)\n",
    "        \n",
    "        sparse_loss = lam * reg\n",
    "        #sparse_loss = 0\n",
    "        loss = mse_loss + sparse_loss\n",
    "        #losses.append(interpretability.numpy(loss))\n",
    "        losses.append([interpretability.numpy(mse_loss), sparse_loss])\n",
    "        optimizer.zero_grad()\n",
    "        loss.backward()\n",
    "        print(losses[-1])\n",
    "        optimizer.step()\n",
    "\n",
    "        with torch.no_grad():\n",
    "            last_loss = loss_fn(guess, dat, reduction='none')"
   ]
  },
  {
   "cell_type": "code",
   "execution_count": 95,
   "metadata": {},
   "outputs": [
    {
     "data": {
      "text/plain": [
       "torch.return_types.sort(\n",
       "values=tensor([[2.7107e-09, 2.1641e-08, 6.4526e-08,  ..., 1.5872e-02, 1.7356e-02,\n",
       "         2.0082e-02],\n",
       "        [3.0917e-08, 1.3827e-06, 1.5395e-06,  ..., 3.0339e-01, 3.1873e-01,\n",
       "         3.7918e-01],\n",
       "        [2.2036e-08, 5.1561e-07, 5.2325e-07,  ..., 4.1025e-01, 4.6935e-01,\n",
       "         4.7256e-01],\n",
       "        ...,\n",
       "        [5.0763e-08, 2.1926e-07, 2.8169e-06,  ..., 1.6426e-01, 2.6720e-01,\n",
       "         2.8020e-01],\n",
       "        [1.4101e-09, 7.8204e-08, 1.1960e-07,  ..., 1.8770e-01, 2.0642e-01,\n",
       "         2.1161e-01],\n",
       "        [7.5077e-08, 3.8249e-07, 8.7303e-07,  ..., 6.1801e-02, 8.0711e-02,\n",
       "         1.0823e-01]], device='cuda:0'),\n",
       "indices=tensor([[381, 453,  46,  ..., 336, 112, 220],\n",
       "        [124, 420,  53,  ..., 264, 196, 342],\n",
       "        [ 26, 300,  74,  ..., 195, 157, 342],\n",
       "        ...,\n",
       "        [316, 478,  19,  ...,  32, 433, 197],\n",
       "        [376, 205,  45,  ..., 221, 272, 473],\n",
       "        [101, 417, 292,  ..., 125,  51, 138]], device='cuda:0'))"
      ]
     },
     "execution_count": 95,
     "metadata": {},
     "output_type": "execute_result"
    }
   ],
   "source": [
    "last_loss.sort()"
   ]
  },
  {
   "cell_type": "code",
   "execution_count": 99,
   "metadata": {},
   "outputs": [
    {
     "data": {
      "text/plain": [
       "[<matplotlib.lines.Line2D at 0x7fa7abf79f60>]"
      ]
     },
     "execution_count": 99,
     "metadata": {},
     "output_type": "execute_result"
    },
    {
     "data": {
      "image/png": "[encoded data removed]",
      "text/plain": [
       "<Figure size 432x288 with 1 Axes>"
      ]
     },
     "metadata": {
      "needs_background": "light"
     },
     "output_type": "display_data"
    }
   ],
   "source": [
    "plt.yscale(\"log\")\n",
    "plt.plot(range(len(losses)), losses)"
   ]
  },
  {
   "cell_type": "markdown",
   "metadata": {},
   "source": [
    "Great. Now we've got an autoencoder, what do we do with it?"
   ]
  },
  {
   "cell_type": "code",
   "execution_count": 27,
   "metadata": {},
   "outputs": [],
   "source": [
    "@torch.no_grad()\n",
    "def get_freqs(num_batches=25, local_encoder=None):\n",
    "    if local_encoder is None:\n",
    "        local_encoder = encoder\n",
    "    act_freq_scores = torch.zeros(\n",
    "        local_encoder.W_in.shape[1], dtype=torch.float32\n",
    "    ).cuda()\n",
    "    total = 0\n",
    "    for i in tqdm.trange(num_batches):\n",
    "        tokens = act_data[torch.randperm(len(act_data))][: 2**14].to(\"cuda\")\n",
    "\n",
    "        hidden = local_encoder.get_act_density(tokens)\n",
    "\n",
    "        act_freq_scores += hidden\n",
    "        total += tokens.shape[0]\n",
    "    act_freq_scores /= total\n",
    "    num_dead = (act_freq_scores == 0).float().mean()\n",
    "    print(\"Num dead\", num_dead)\n",
    "    return act_freq_scores"
   ]
  },
  {
   "cell_type": "code",
   "execution_count": 109,
   "metadata": {},
   "outputs": [
    {
     "name": "stderr",
     "output_type": "stream",
     "text": [
      "100%|██████████| 25/25 [00:22<00:00,  1.11it/s]"
     ]
    },
    {
     "name": "stdout",
     "output_type": "stream",
     "text": [
      "Num dead tensor(0.1455, device='cuda:0')\n"
     ]
    },
    {
     "name": "stderr",
     "output_type": "stream",
     "text": [
      "\n"
     ]
    }
   ],
   "source": [
    "freqs = get_freqs(local_encoder=autoenc)"
   ]
  },
  {
   "cell_type": "code",
   "execution_count": 52,
   "metadata": {},
   "outputs": [
    {
     "name": "stdout",
     "output_type": "stream",
     "text": [
      "Tensor (dtype: torch.float32)\n",
      "    |  (device: cuda:0)\n",
      "    |__dim_0 (1024)\n"
     ]
    }
   ],
   "source": [
    "tt(freqs)"
   ]
  },
  {
   "cell_type": "code",
   "execution_count": 81,
   "metadata": {},
   "outputs": [
    {
     "name": "stdout",
     "output_type": "stream",
     "text": [
      "tensor(1026.2186, device='cuda:0')\n"
     ]
    }
   ],
   "source": [
    "print(freqs[112]*act_data.shape[0])"
   ]
  },
  {
   "cell_type": "code",
   "execution_count": 121,
   "metadata": {},
   "outputs": [
    {
     "data": {
      "image/png": "[encoded data removed]",
      "text/plain": [
       "<Figure size 720x432 with 1 Axes>"
      ]
     },
     "metadata": {
      "needs_background": "light"
     },
     "output_type": "display_data"
    }
   ],
   "source": [
    "x = interpretability.numpy(freqs)*act_data.shape[0];\n",
    "# x = interpretability.numpy(freqs)\n",
    "x = x[np.isfinite(x)];\n",
    "fig, ax = plt.subplots();\n",
    "#set figure size\n",
    "fig.set_size_inches(10, 6);\n",
    "ax.hist(x, bins=np.logspace(np.log10(5), np.log10(10000000), 100));\n",
    "ax.set_xscale(\"log\");\n",
    "#x label\n",
    "#ax.xlabel(\"Number of Moves (log 10 scale)\");\n",
    "#y label\n",
    "#ax.ylabel(\"Count of Features(neuron acts)\");\n",
    "#set xtick and labels of ticks\n",
    "tick_positions = [1, 10, 100, 1000, 10000, 100000, 1000000]\n",
    "tick_labels = ['1', '10', '100', '1k', '10k', '100k', '1M']\n",
    "ax.set_xticks(tick_positions);\n",
    "ax.set_xticklabels(tick_labels);\n",
    "#ax.get_xaxis().set_major_formatter(plt.ScalarFormatter());\n",
    "ax.set_xlabel(\"Number of Times Fired Out of 2,361,456\");\n",
    "ax.set_ylabel(\"Count of Features(neuron acts)\");"
   ]
  },
  {
   "cell_type": "code",
   "execution_count": null,
   "metadata": {},
   "outputs": [],
   "source": []
  }
 ],
 "metadata": {
  "kernelspec": {
   "display_name": "base",
   "language": "python",
   "name": "python3"
  },
  "language_info": {
   "codemirror_mode": {
    "name": "ipython",
    "version": 3
   },
   "file_extension": ".py",
   "mimetype": "text/x-python",
   "name": "python",
   "nbconvert_exporter": "python",
   "pygments_lexer": "ipython3",
   "version": "3.10.9"
  },
  "orig_nbformat": 4
 },
 "nbformat": 4,
 "nbformat_minor": 2
}
