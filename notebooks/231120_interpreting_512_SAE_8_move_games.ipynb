{
 "cells": [
  {
   "cell_type": "code",
   "execution_count": null,
   "metadata": {},
   "outputs": [],
   "source": [
    "%load_ext autoreload\n",
    "%autoreload 2\n",
    "from alphatoe import models, plot, interpretability, game\n",
    "import pandas as pd\n",
    "import torch\n",
    "from pytorch_memlab import LineProfiler, MemReporter\n",
    "from showmethetypes import SMTT\n",
    "import einops\n",
    "import matplotlib.pyplot as plt\n",
    "from matplotlib.ticker import LogFormatter\n",
    "import numpy as np\n",
    "import tqdm\n",
    "import random"
   ]
  },
  {
   "cell_type": "code",
   "execution_count": null,
   "metadata": {},
   "outputs": [],
   "source": [
    "autoenc = models.SparseAutoEncoder(512, 512).cuda()\n",
    "autoenc.load_state_dict(torch.load(\"./512_sparse_autoencoder_on_activations_20NOV2023_parameters.pt\"))"
   ]
  },
  {
   "cell_type": "code",
   "execution_count": null,
   "metadata": {},
   "outputs": [],
   "source": [
    "act_data = torch.load(\"./all_games_act_data.pt\")"
   ]
  },
  {
   "cell_type": "code",
   "execution_count": null,
   "metadata": {},
   "outputs": [],
   "source": [
    "model = interpretability.load_model(\n",
    "    \"../scripts/models/prob all 8 layer control-20230718-185339\"\n",
    ")"
   ]
  },
  {
   "cell_type": "code",
   "execution_count": null,
   "metadata": {},
   "outputs": [],
   "source": [
    "def neuron_activations(seq):\n",
    "    def hook(module, input, output):\n",
    "        result = output.clone()\n",
    "        module.captured_activations = result\n",
    "\n",
    "    try:\n",
    "        handle = model.blocks[0].mlp.hook_post.register_forward_hook(hook)\n",
    "        _ = model(seq)\n",
    "        activations = model.blocks[0].mlp.hook_post.captured_activations\n",
    "        handle.remove()\n",
    "    except Exception as e:\n",
    "        handle.remove()\n",
    "        raise e\n",
    "\n",
    "    return activations"
   ]
  },
  {
   "cell_type": "code",
   "execution_count": null,
   "metadata": {},
   "outputs": [],
   "source": [
    "boards = game.generate_all_games([game.Board()])"
   ]
  },
  {
   "cell_type": "code",
   "execution_count": null,
   "metadata": {},
   "outputs": [],
   "source": [
    "eight_move_games = torch.stack(\n",
    "    [\n",
    "        torch.tensor([10] + board.moves_played)\n",
    "        for board in boards\n",
    "        if len(board.moves_played) == 8\n",
    "    ]\n",
    ")"
   ]
  },
  {
   "cell_type": "code",
   "execution_count": null,
   "metadata": {},
   "outputs": [],
   "source": [
    "eight_move_games.shape"
   ]
  },
  {
   "cell_type": "code",
   "execution_count": null,
   "metadata": {},
   "outputs": [],
   "source": [
    "all_moves = []\n",
    "move = 8\n",
    "yes_move = []\n",
    "no_move = []\n",
    "for board in eight_move_games:\n",
    "    if move in board and board[-1] != move:\n",
    "        yes_move.append(board)\n",
    "    elif move not in board:\n",
    "        no_move.append(board)\n",
    "all_moves.append([yes_move, no_move])"
   ]
  },
  {
   "cell_type": "code",
   "execution_count": null,
   "metadata": {},
   "outputs": [],
   "source": [
    "import random\n",
    "\n",
    "games_taken = 2000\n",
    "\n",
    "eight_move_present_or_not_games = torch.cat(\n",
    "    [\n",
    "        torch.cat(\n",
    "            [\n",
    "                torch.stack(\n",
    "                    [torch.tensor(g) for g in random.sample(l[0], games_taken)]\n",
    "                ),\n",
    "                torch.stack(\n",
    "                    [torch.tensor(g) for g in random.sample(l[1], games_taken)]\n",
    "                ),\n",
    "            ]\n",
    "        )\n",
    "        for l in all_moves\n",
    "        if len(l[0]) >= games_taken and len(l[1]) >= games_taken\n",
    "    ]\n",
    ")"
   ]
  },
  {
   "cell_type": "code",
   "execution_count": null,
   "metadata": {},
   "outputs": [],
   "source": [
    "act = torch.cat(\n",
    "    [\n",
    "        autoenc.get_activations(neuron_activations(eight_move_present_or_not_games))[\n",
    "            :, -2\n",
    "        ],\n",
    "        autoenc.get_activations(neuron_activations(eight_move_present_or_not_games))[\n",
    "            :, -1\n",
    "        ],\n",
    "    ],\n",
    "    dim=0,\n",
    ")"
   ]
  },
  {
   "cell_type": "code",
   "execution_count": null,
   "metadata": {},
   "outputs": [],
   "source": [
    "plt.hist(act[4000:6000, 314].detach().cpu().numpy(), bins=100);\n",
    "plt.hist(act[:2000, 314].detach().cpu().numpy(), bins=100);\n",
    "plt.hist(act[2000:4000, 314].detach().cpu().numpy(), bins=100);\n",
    "plt.hist(act[6000:, 314].detach().cpu().numpy(), bins=100);"
   ]
  },
  {
   "cell_type": "code",
   "execution_count": null,
   "metadata": {},
   "outputs": [],
   "source": [
    "plot.imshow_comp_acts(act, groups=['gno, mp', 'gno, mnp', 'go, mp', 'go, mnp'])"
   ]
  },
  {
   "cell_type": "code",
   "execution_count": null,
   "metadata": {},
   "outputs": [],
   "source": [
    "from alphatoe import game"
   ]
  },
  {
   "cell_type": "code",
   "execution_count": null,
   "metadata": {},
   "outputs": [],
   "source": [
    "#for game not over\n",
    "game.play_game(eight_move_present_or_not_games[1325 % 4000][:-1])"
   ]
  },
  {
   "cell_type": "code",
   "execution_count": null,
   "metadata": {},
   "outputs": [],
   "source": [
    "#for game over\n",
    "game.play_game(eight_move_present_or_not_games[473 % 4000])"
   ]
  }
 ],
 "metadata": {
  "kernelspec": {
   "display_name": ".venv",
   "language": "python",
   "name": "python3"
  },
  "language_info": {
   "codemirror_mode": {
    "name": "ipython",
    "version": 3
   },
   "file_extension": ".py",
   "mimetype": "text/x-python",
   "name": "python",
   "nbconvert_exporter": "python",
   "pygments_lexer": "ipython3",
   "version": "3.10.9"
  }
 },
 "nbformat": 4,
 "nbformat_minor": 2
}
