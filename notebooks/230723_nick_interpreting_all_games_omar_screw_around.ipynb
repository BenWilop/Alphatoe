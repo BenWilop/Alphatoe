{
 "cells": [
  {
   "cell_type": "code",
   "execution_count": 1,
   "metadata": {},
   "outputs": [],
   "source": [
    "import torch\n",
    "from alphatoe import plot, game\n",
    "from transformer_lens import HookedTransformer, HookedTransformerConfig\n",
    "import json\n",
    "import einops\n",
    "import circuitsvis as cv\n",
    "from plotly.subplots import make_subplots\n",
    "import plotly.graph_objects as go\n",
    "\n",
    "import matplotlib.pyplot as plt\n",
    "from importlib import reload"
   ]
  },
  {
   "cell_type": "code",
   "execution_count": 2,
   "metadata": {},
   "outputs": [],
   "source": [
    "torch.set_grad_enabled(False)\n",
    "\n",
    "def numpy(t):\n",
    "    return t.cpu().numpy()"
   ]
  },
  {
   "cell_type": "code",
   "execution_count": 3,
   "metadata": {},
   "outputs": [],
   "source": [
    "weights = torch.load(\"../scripts/models/prob all 8 layer control-20230718-185339.pt\")\n",
    "with open(\"../scripts/models/prob all 8 layer control-20230718-185339.json\", \"r\") as f:\n",
    "    args= json.load(f)"
   ]
  },
  {
   "cell_type": "code",
   "execution_count": 4,
   "metadata": {},
   "outputs": [],
   "source": [
    "model_cfg = HookedTransformerConfig(\n",
    "        n_layers=args[\"n_layers\"],\n",
    "        n_heads=args[\"n_heads\"],\n",
    "        d_model=args[\"d_model\"],\n",
    "        d_head=args[\"d_head\"],\n",
    "        d_mlp=args[\"d_mlp\"],\n",
    "        act_fn=args[\"act_fn\"],\n",
    "        normalization_type=args[\"normalization_type\"],\n",
    "        d_vocab=11,\n",
    "        d_vocab_out=10,\n",
    "        n_ctx=10,\n",
    "        init_weights=True,\n",
    "        device=args[\"device\"],\n",
    "        seed=args[\"seed\"])"
   ]
  },
  {
   "cell_type": "code",
   "execution_count": 5,
   "metadata": {},
   "outputs": [
    {
     "data": {
      "text/plain": [
       "<All keys matched successfully>"
      ]
     },
     "execution_count": 5,
     "metadata": {},
     "output_type": "execute_result"
    }
   ],
   "source": [
    "model =  HookedTransformer(model_cfg)\n",
    "model.load_state_dict(weights)"
   ]
  },
  {
   "cell_type": "code",
   "execution_count": 6,
   "metadata": {},
   "outputs": [],
   "source": [
    "n_heads = 8\n",
    "\n",
    "We = model.W_E\n",
    "pos_emb = model.pos_embed(torch.zeros(1, 10, 128), 0)[0]\n",
    "\n",
    "Wq = model.blocks[0].attn.W_Q\n",
    "Wk = model.blocks[0].attn.W_K\n",
    "Wv = model.blocks[0].attn.W_V\n",
    "Wo = model.blocks[0].attn.W_O\n",
    "\n",
    "device = We.device"
   ]
  },
  {
   "cell_type": "code",
   "execution_count": 22,
   "metadata": {},
   "outputs": [
    {
     "data": {
      "text/plain": [
       "torch.Size([128, 16])"
      ]
     },
     "execution_count": 22,
     "metadata": {},
     "output_type": "execute_result"
    }
   ],
   "source": [
    "Wq[0].shape"
   ]
  },
  {
   "cell_type": "code",
   "execution_count": 7,
   "metadata": {},
   "outputs": [],
   "source": [
    "# SVD code from gpt-omics\n",
    "class SVD:\n",
    "    def __init__(self, U: torch.Tensor, S: torch.Tensor, Vt: torch.Tensor):\n",
    "        self.U = U\n",
    "        self.S = S\n",
    "        self.Vt = Vt\n",
    "\n",
    "    def __matmul__(self, other):\n",
    "        if isinstance(other, torch.Tensor):\n",
    "            other = SVD.frommatrix(other)\n",
    "\n",
    "        # \"inner core\" of the product, p -> prime\n",
    "        Sp = (self.S[:, None] * self.Vt) @ (other.U * other.S)\n",
    "\n",
    "        Up, Sp, Vtp = torch.linalg.svd(Sp, full_matrices=False)\n",
    "\n",
    "        return SVD(self.U @ Up, Sp, Vtp @ other.Vt)\n",
    "\n",
    "    @property\n",
    "    def T(self):\n",
    "        return SVD(self.Vt.T, self.S, self.U.T)\n",
    "\n",
    "    @classmethod\n",
    "    def frommatrix(cls, M: torch.Tensor):\n",
    "        if len(M.shape) == 1:\n",
    "            norm = torch.linalg.norm(M)\n",
    "            return SVD(\n",
    "                (M / norm).reshape(-1, 1),\n",
    "                torch.tensor([norm], dtype=M.dtype, device=M.device),\n",
    "                torch.tensor([1], dtype=M.dtype, device=M.device).reshape(1, 1),\n",
    "            )\n",
    "\n",
    "        U, S, Vt = torch.linalg.svd(M, full_matrices=False)\n",
    "\n",
    "        return SVD(U, S, Vt)\n",
    "\n",
    "def zeropad(v: torch.Tensor, newlen: int):\n",
    "    \"\"\"Pads the end of a vector with zeros for elementwise multiplication.\"\"\"\n",
    "    assert len(v) <= newlen, f\"cannot zeropad to a smaller length {len(v)}->{newlen}\"\n",
    "\n",
    "    newv = torch.zeros((newlen,), dtype=v.dtype, device=v.device)\n",
    "    newv[: len(v)] = v[:]\n",
    "\n",
    "    return newv\n",
    "\n",
    "def overlap(svd1, svd2):\n",
    "    final_dims = min(len(svd1.S), len(svd2.S))\n",
    "    s1 = svd1.S[:final_dims]\n",
    "    s2 = svd2.S[:final_dims]\n",
    "    return (\n",
    "        torch.linalg.norm((svd1 @ svd2).S)\n",
    "        / torch.linalg.norm(s1 * s2)\n",
    "    )"
   ]
  },
  {
   "cell_type": "code",
   "execution_count": 8,
   "metadata": {},
   "outputs": [],
   "source": [
    "Wqks = [SVD.frommatrix(Wq[i]) @ SVD.frommatrix(Wk[i]).T for i in range(8)]\n",
    "# transposing these to keep the convention of U -> output space and Vt -> input space\n",
    "Wovs = [(SVD.frommatrix(Wv[i]) @ SVD.frommatrix(Wo[i])).T for i in range(8)]"
   ]
  },
  {
   "cell_type": "code",
   "execution_count": 28,
   "metadata": {},
   "outputs": [
    {
     "name": "stdout",
     "output_type": "stream",
     "text": [
      "torch.Size([128, 16])\n",
      "torch.Size([16, 128])\n",
      "torch.Size([16])\n"
     ]
    }
   ],
   "source": [
    "print(Wovs[0].U.shape)\n",
    "print(Wovs[0].Vt.shape)\n",
    "print(Wovs[0].S.shape)"
   ]
  },
  {
   "cell_type": "markdown",
   "metadata": {},
   "source": [
    "# Do the OV matrices read and/or write to the same subspaces?"
   ]
  },
  {
   "cell_type": "code",
   "execution_count": 9,
   "metadata": {},
   "outputs": [],
   "source": [
    "input_overlaps = torch.empty(n_heads, n_heads, device=device)\n",
    "output_overlaps = torch.empty(n_heads, n_heads, device=device)\n",
    "\n",
    "for i in range(n_heads):\n",
    "    for j in range(n_heads):\n",
    "        input_overlaps[i, j] = overlap(Wovs[i], Wovs[j].T)\n",
    "        output_overlaps[i, j] = overlap(Wovs[i].T, Wovs[j])"
   ]
  },
  {
   "cell_type": "code",
   "execution_count": 10,
   "metadata": {},
   "outputs": [],
   "source": [
    "def heatmap(t, vmin=None, vmax=None):\n",
    "    data = numpy(t)\n",
    "\n",
    "    if vmin is None:\n",
    "        vmin = data.min()\n",
    "    if vmax is None:\n",
    "        vmax = data.max()\n",
    "\n",
    "    plt.imshow(data, cmap=\"jet\", vmin=vmin, vmax=vmax)"
   ]
  },
  {
   "cell_type": "code",
   "execution_count": 11,
   "metadata": {},
   "outputs": [
    {
     "data": {
      "image/png": "[encoded data removed]",
      "text/plain": [
       "<Figure size 1512x720 with 4 Axes>"
      ]
     },
     "metadata": {
      "needs_background": "light"
     },
     "output_type": "display_data"
    }
   ],
   "source": [
    "plt.figure(figsize=(21, 10))\n",
    "\n",
    "plt.subplot(1, 2, 1)\n",
    "heatmap(input_overlaps, vmin=0)\n",
    "plt.title(f\"input subspace similarities\", fontsize=20)\n",
    "\n",
    "plt.xlabel(\"Head index\", fontsize=20)\n",
    "plt.ylabel(\"Head index\", fontsize=20)\n",
    "plt.colorbar()\n",
    "\n",
    "\n",
    "plt.subplot(1, 2, 2)\n",
    "heatmap(output_overlaps, vmin=0)\n",
    "plt.title(f\"output subspace similarities\", fontsize=20)\n",
    "\n",
    "plt.xlabel(\"Head index\", fontsize=20)\n",
    "plt.ylabel(\"Head index\", fontsize=20)\n",
    "plt.colorbar()\n",
    "\n",
    "\n",
    "plt.show()\n"
   ]
  },
  {
   "cell_type": "markdown",
   "metadata": {},
   "source": [
    "# Do the attention head output subspaces match the token embedding or position embedding subspaces?"
   ]
  },
  {
   "cell_type": "code",
   "execution_count": 47,
   "metadata": {},
   "outputs": [
    {
     "name": "stdout",
     "output_type": "stream",
     "text": [
      "orig_svd.U.shape: torch.Size([11, 11])\n",
      "orig_svd.S.shape: torch.Size([11])\n",
      "orig_svd.Vt.shape: torch.Size([128, 128])\n",
      "orig_svd.U.shape: torch.Size([10, 10])\n",
      "orig_svd.S.shape: torch.Size([10])\n",
      "orig_svd.Vt.shape: torch.Size([128, 128])\n"
     ]
    }
   ],
   "source": [
    "We_svd = SVD.frommatrix(We)\n",
    "pos_emb_svd = SVD.frommatrix(pos_emb)\n",
    "\n",
    "def nullspace(mat):\n",
    "    m, n = mat.shape\n",
    "    orig_svd = SVD(*torch.linalg.svd(mat, full_matrices=True))\n",
    "    d = min(m, n)\n",
    "    d_null = max(m, n) - d\n",
    "\n",
    "    print(f\"orig_svd.U.shape: {orig_svd.U.shape}\")\n",
    "    print(f\"orig_svd.S.shape: {orig_svd.S.shape}\")\n",
    "    print(f\"orig_svd.Vt.shape: {orig_svd.Vt.shape}\")\n",
    "    orig_svd.S = torch.ones((d_null,), device=mat.device)\n",
    "    if orig_svd.U.shape[0] == d:\n",
    "        orig_svd.U = torch.eye(d_null, device=mat.device)\n",
    "        orig_svd.Vt = orig_svd.Vt[d:]\n",
    "    else:\n",
    "        orig_svd.U = orig_svd.U[:, d:]\n",
    "        orig_svd.Vt = torch.tensor(d_null, device=mat.device)\n",
    "\n",
    "    return orig_svd\n",
    "\n",
    "We_null = nullspace(We)\n",
    "pos_null = nullspace(pos_emb)"
   ]
  },
  {
   "cell_type": "code",
   "execution_count": 43,
   "metadata": {},
   "outputs": [
    {
     "data": {
      "text/plain": [
       "torch.Size([11, 128])"
      ]
     },
     "execution_count": 43,
     "metadata": {},
     "output_type": "execute_result"
    }
   ],
   "source": [
    "We.shape"
   ]
  },
  {
   "cell_type": "code",
   "execution_count": 44,
   "metadata": {},
   "outputs": [
    {
     "name": "stdout",
     "output_type": "stream",
     "text": [
      "tensor([[1., 0., 0.,  ..., 0., 0., 0.],\n",
      "        [0., 1., 0.,  ..., 0., 0., 0.],\n",
      "        [0., 0., 1.,  ..., 0., 0., 0.],\n",
      "        ...,\n",
      "        [0., 0., 0.,  ..., 1., 0., 0.],\n",
      "        [0., 0., 0.,  ..., 0., 1., 0.],\n",
      "        [0., 0., 0.,  ..., 0., 0., 1.]], device='cuda:0')\n",
      "tensor([[-0.0033, -0.0933, -0.0026,  ...,  0.0458,  0.0088,  0.0175],\n",
      "        [-0.0399, -0.0212, -0.1569,  ..., -0.0219,  0.0136,  0.0256],\n",
      "        [-0.0464, -0.0273, -0.0504,  ...,  0.0180,  0.0273,  0.0358],\n",
      "        ...,\n",
      "        [-0.0709,  0.1798,  0.0289,  ...,  0.8976,  0.0054, -0.0240],\n",
      "        [ 0.0653, -0.0168,  0.0555,  ...,  0.0020,  0.9228, -0.0157],\n",
      "        [ 0.1424,  0.0168,  0.0697,  ..., -0.0384, -0.0145,  0.9035]],\n",
      "       device='cuda:0')\n",
      "tensor([1., 1., 1., 1., 1., 1., 1., 1., 1., 1., 1., 1., 1., 1., 1., 1., 1., 1.,\n",
      "        1., 1., 1., 1., 1., 1., 1., 1., 1., 1., 1., 1., 1., 1., 1., 1., 1., 1.,\n",
      "        1., 1., 1., 1., 1., 1., 1., 1., 1., 1., 1., 1., 1., 1., 1., 1., 1., 1.,\n",
      "        1., 1., 1., 1., 1., 1., 1., 1., 1., 1., 1., 1., 1., 1., 1., 1., 1., 1.,\n",
      "        1., 1., 1., 1., 1., 1., 1., 1., 1., 1., 1., 1., 1., 1., 1., 1., 1., 1.,\n",
      "        1., 1., 1., 1., 1., 1., 1., 1., 1., 1., 1., 1., 1., 1., 1., 1., 1., 1.,\n",
      "        1., 1., 1., 1., 1., 1., 1., 1., 1.], device='cuda:0')\n",
      "tensor([-1.1205,  0.4043, -1.3339, -0.4287,  0.1926,  0.9966, -0.1396,  1.5082,\n",
      "        -0.3762, -0.3321, -0.3702,  1.0213,  0.7874,  0.8012,  1.2232,  0.9278,\n",
      "         0.8725,  1.1003,  0.8532,  0.9118,  1.1710,  0.5981,  0.8351,  1.2024,\n",
      "         1.3292,  1.1494,  0.7039,  0.5963,  0.8086,  0.7764,  0.6592,  0.7847,\n",
      "         0.8768,  1.0819,  0.4934,  1.2298,  1.0506,  0.8905,  0.6152,  0.7121,\n",
      "         0.7289,  0.7254,  1.0025,  1.1758,  1.2393,  0.5153,  0.7832,  0.7513,\n",
      "         1.1218,  0.8703,  0.7592,  0.8934,  1.3179,  1.0040,  0.8361,  0.8564,\n",
      "         0.9079,  1.2740,  0.5489,  1.0500,  0.8070,  0.7480,  0.4538,  0.9793,\n",
      "         1.3383,  1.0310,  1.2550,  1.0766,  0.9826,  1.0082,  1.2972,  1.1580,\n",
      "         0.8140,  0.7867,  1.3231,  0.5446,  1.1462,  0.6682,  0.7092,  0.9480,\n",
      "         0.7276,  0.6009,  0.9919,  0.9315,  0.9299,  1.3753,  0.6562,  1.1645,\n",
      "         1.2719,  0.9250,  0.8550,  0.6244,  1.0622,  0.9515,  1.2000,  0.8735,\n",
      "         1.0081,  1.2737,  1.2140,  0.8942,  0.7378,  0.8255,  0.5520,  1.2419,\n",
      "         1.0335,  1.4438,  1.0313,  0.7210,  1.2577,  1.0643,  0.6180,  1.3411,\n",
      "         0.6674,  0.7219,  1.0222,  0.8872,  1.0166,  0.8989,  1.1006,  0.6360,\n",
      "         1.1985,  1.0005,  1.1101,  0.7990,  1.3509,  0.8447,  1.0253,  0.9627],\n",
      "       device='cuda:0')\n"
     ]
    }
   ],
   "source": [
    "print(We_null.U)\n",
    "print(We_null.Vt)\n",
    "print(We_null.S)\n",
    "friends = We_null.U @ We_null.S @ We_null.Vt\n",
    "print(friends)"
   ]
  },
  {
   "cell_type": "code",
   "execution_count": 13,
   "metadata": {},
   "outputs": [],
   "source": [
    "content_overlaps = torch.tensor([overlap(We_svd, Wovs[i]) for i in range(n_heads)])\n",
    "position_overlaps = torch.tensor([overlap(pos_emb_svd, Wovs[i]) for i in range(n_heads)])\n",
    "content_null_overlaps = torch.tensor([overlap(We_null, Wovs[i]) for i in range(n_heads)])\n",
    "position_null_overlaps = torch.tensor([overlap(pos_null, Wovs[i]) for i in range(n_heads)])"
   ]
  },
  {
   "cell_type": "code",
   "execution_count": 48,
   "metadata": {},
   "outputs": [
    {
     "data": {
      "image/png": "[encoded data removed]",
      "text/plain": [
       "<Figure size 432x288 with 2 Axes>"
      ]
     },
     "metadata": {
      "needs_background": "light"
     },
     "output_type": "display_data"
    }
   ],
   "source": [
    "heatmap(\n",
    "    torch.stack(\n",
    "        (content_overlaps, content_null_overlaps, position_overlaps, position_null_overlaps)\n",
    "        , axis=0\n",
    "    ),\n",
    "    vmin=0, vmax=1\n",
    ")\n",
    "\n",
    "plt.colorbar()\n",
    "plt.yticks([0, 1, 2, 3], labels=[\"content\", \"content null\", \"position\", \"position null\"])\n",
    "plt.xlabel(\"Head index\")\n",
    "#label the squares\n",
    "for i in range(4):\n",
    "    for j in range(8):\n",
    "        plt.text(j, i, f\"{float(numpy(torch.stack((content_overlaps, content_null_overlaps, position_overlaps, position_null_overlaps), axis=0)[i, j])):.2f}\", ha=\"center\", va=\"center\", color=\"w\")\n",
    "plt.show()"
   ]
  },
  {
   "cell_type": "markdown",
   "metadata": {},
   "source": [
    "#### Do the pos embedding and content spaces overlap?"
   ]
  },
  {
   "cell_type": "code",
   "execution_count": 15,
   "metadata": {},
   "outputs": [
    {
     "data": {
      "text/plain": [
       "tensor(0.2329, device='cuda:0')"
      ]
     },
     "execution_count": 15,
     "metadata": {},
     "output_type": "execute_result"
    }
   ],
   "source": [
    "overlap(We_svd, pos_emb_svd.T)"
   ]
  },
  {
   "cell_type": "markdown",
   "metadata": {},
   "source": [
    "Not much, and this looks similar to the magnitude of overlap between pos embed and the attention outputs, so this probably explains that."
   ]
  },
  {
   "cell_type": "markdown",
   "metadata": {},
   "source": [
    "# Do all of the heads send the same amount of information to the mlp?"
   ]
  },
  {
   "cell_type": "code",
   "execution_count": 16,
   "metadata": {},
   "outputs": [],
   "source": [
    "mlp_in = SVD.frommatrix(model.blocks[0].mlp.W_in)"
   ]
  },
  {
   "cell_type": "code",
   "execution_count": 17,
   "metadata": {},
   "outputs": [
    {
     "data": {
      "text/plain": [
       "(128, 512)"
      ]
     },
     "execution_count": 17,
     "metadata": {},
     "output_type": "execute_result"
    }
   ],
   "source": [
    "mlp_in.U.shape[0], mlp_in.Vt.shape[1]"
   ]
  },
  {
   "cell_type": "code",
   "execution_count": 18,
   "metadata": {},
   "outputs": [],
   "source": [
    "mlp_overlaps = torch.tensor([overlap(Wovs[i].T, mlp_in) for i in range(n_heads)])"
   ]
  },
  {
   "cell_type": "code",
   "execution_count": 19,
   "metadata": {},
   "outputs": [
    {
     "data": {
      "image/png": "[encoded data removed]",
      "text/plain": [
       "<Figure size 432x288 with 2 Axes>"
      ]
     },
     "metadata": {
      "needs_background": "light"
     },
     "output_type": "display_data"
    }
   ],
   "source": [
    "heatmap(mlp_overlaps.unsqueeze(0), vmin=0, vmax=1)\n",
    "\n",
    "plt.colorbar()\n",
    "plt.yticks([])\n",
    "plt.xlabel(\"Head index\")\n",
    "plt.show()"
   ]
  },
  {
   "cell_type": "code",
   "execution_count": 20,
   "metadata": {},
   "outputs": [
    {
     "data": {
      "text/plain": [
       "(tensor(0.6251, device='cuda:0'), tensor(0.4717, device='cuda:0'))"
      ]
     },
     "execution_count": 20,
     "metadata": {},
     "output_type": "execute_result"
    }
   ],
   "source": [
    "overlap(We_svd, mlp_in), overlap(pos_emb_svd, mlp_in)"
   ]
  }
 ],
 "metadata": {
  "kernelspec": {
   "display_name": "Python 3",
   "language": "python",
   "name": "python3"
  },
  "language_info": {
   "codemirror_mode": {
    "name": "ipython",
    "version": 3
   },
   "file_extension": ".py",
   "mimetype": "text/x-python",
   "name": "python",
   "nbconvert_exporter": "python",
   "pygments_lexer": "ipython3",
   "version": "3.10.9"
  },
  "orig_nbformat": 4
 },
 "nbformat": 4,
 "nbformat_minor": 2
}
