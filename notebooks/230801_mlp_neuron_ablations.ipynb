{
 "cells": [
  {
   "cell_type": "code",
   "execution_count": 24,
   "metadata": {},
   "outputs": [
    {
     "name": "stdout",
     "output_type": "stream",
     "text": [
      "The autoreload extension is already loaded. To reload it, use:\n",
      "  %reload_ext autoreload\n"
     ]
    }
   ],
   "source": [
    "%load_ext autoreload\n",
    "%autoreload 2\n",
    "import torch\n",
    "import torch.nn.functional as F\n",
    "from alphatoe import plot, game, data\n",
    "from transformer_lens import HookedTransformer, HookedTransformerConfig\n",
    "import json\n",
    "import einops\n",
    "import circuitsvis as cv\n",
    "from plotly.subplots import make_subplots\n",
    "import plotly.graph_objects as go\n",
    "from functools import partial\n",
    "from copy import copy\n",
    "import tqdm\n",
    "import pandas as pd\n",
    "import numpy as np\n",
    "from collections import Counter\n",
    "import matplotlib.pyplot as plt"
   ]
  },
  {
   "cell_type": "code",
   "execution_count": 2,
   "metadata": {},
   "outputs": [],
   "source": [
    "weights = torch.load(\"../scripts/models/prob all 8 layer control-20230718-185339.pt\")\n",
    "with open(\"../scripts/models/prob all 8 layer control-20230718-185339.json\", \"r\") as f:\n",
    "    args = json.load(f)"
   ]
  },
  {
   "cell_type": "code",
   "execution_count": 3,
   "metadata": {},
   "outputs": [
    {
     "data": {
      "text/plain": [
       "<All keys matched successfully>"
      ]
     },
     "execution_count": 3,
     "metadata": {},
     "output_type": "execute_result"
    }
   ],
   "source": [
    "model_cfg = HookedTransformerConfig(\n",
    "    n_layers=args[\"n_layers\"],\n",
    "    n_heads=args[\"n_heads\"],\n",
    "    d_model=args[\"d_model\"],\n",
    "    d_head=args[\"d_head\"],\n",
    "    d_mlp=args[\"d_mlp\"],\n",
    "    act_fn=args[\"act_fn\"],\n",
    "    normalization_type=args[\"normalization_type\"],\n",
    "    d_vocab=11,\n",
    "    d_vocab_out=10,\n",
    "    n_ctx=10,\n",
    "    init_weights=True,\n",
    "    device=args[\"device\"],\n",
    "    seed=args[\"seed\"],\n",
    ")\n",
    "model = HookedTransformer(model_cfg)\n",
    "model.load_state_dict(weights)"
   ]
  },
  {
   "cell_type": "code",
   "execution_count": 4,
   "metadata": {},
   "outputs": [],
   "source": [
    "neurons = [5, 117, 160, 195, 248, 342, 384]\n",
    "\n",
    "loss_fn = F.cross_entropy\n",
    "\n",
    "def get_neuron_acts(model, seq):\n",
    "    with torch.no_grad():\n",
    "        logits, cache = model.run_with_cache(torch.tensor(seq))\n",
    "    neuron_activations = copy(cache[\"post\", 0][0])\n",
    "    return neuron_activations\n",
    "\n",
    "def ablate_one_neuron(neuron, seq):\n",
    "    def hook(module, input, output):\n",
    "        result = output.clone()\n",
    "        result[:, :, neuron] = 0\n",
    "        return result\n",
    "    try:\n",
    "        handle = model.blocks[0].mlp.hook_post.register_forward_hook(hook)\n",
    "        logits = model(torch.tensor([10]+seq))\n",
    "        handle.remove()\n",
    "    except Exception as e:\n",
    "        handle.remove()\n",
    "        raise e\n",
    "\n",
    "    return logits\n",
    "\n",
    "target = torch.tensor([0.]*9 + [1.]).to(\"cuda\")    \n",
    "\n",
    "def neuron_ablated_loss(data, neuron):\n",
    "    \n",
    "    logits = ablate_one_neuron(neuron, data)[0,-1]\n",
    "    \n",
    "    loss = loss_fn(logits, target)\n",
    "    loss.to(\"cpu\").detach().numpy()\n",
    "    return loss"
   ]
  },
  {
   "cell_type": "code",
   "execution_count": 5,
   "metadata": {},
   "outputs": [
    {
     "name": "stdout",
     "output_type": "stream",
     "text": [
      "left column: 24228\n",
      "top left -> bottom right: 38196\n",
      "top row: 24228\n",
      "middle column: 24228\n",
      "bottom left -> top right: 38196\n",
      "right column: 24228\n",
      "middle row: 24228\n",
      "bottom row: 24228\n"
     ]
    },
    {
     "name": "stderr",
     "output_type": "stream",
     "text": [
      "/tmp/ipykernel_6764/4102556678.py:1: DtypeWarning: Columns (11) have mixed types. Specify dtype option on import or set low_memory=False.\n",
      "  df = pd.read_csv('../data/prob all 8 layer control-20230718-185339_stats.csv')\n"
     ]
    }
   ],
   "source": [
    "df = pd.read_csv('../data/prob all 8 layer control-20230718-185339_stats.csv')\n",
    "#count uniques in df\n",
    "first_conditions = Counter(df['first win condition'])\n",
    "second_conditions = Counter(df['second win condition'])\n",
    "for key, val in (first_conditions+second_conditions).items():\n",
    "    if isinstance(key, str):\n",
    "        print(f'{key}: {val}')\n",
    "\n"
   ]
  },
  {
   "cell_type": "code",
   "execution_count": 7,
   "metadata": {},
   "outputs": [
    {
     "data": {
      "text/html": [
       "<div>\n",
       "<style scoped>\n",
       "    .dataframe tbody tr th:only-of-type {\n",
       "        vertical-align: middle;\n",
       "    }\n",
       "\n",
       "    .dataframe tbody tr th {\n",
       "        vertical-align: top;\n",
       "    }\n",
       "\n",
       "    .dataframe thead th {\n",
       "        text-align: right;\n",
       "    }\n",
       "</style>\n",
       "<table border=\"1\" class=\"dataframe\">\n",
       "  <thead>\n",
       "    <tr style=\"text-align: right;\">\n",
       "      <th></th>\n",
       "      <th>moves played</th>\n",
       "      <th>steps till end state</th>\n",
       "      <th>winner</th>\n",
       "      <th>rotation 1</th>\n",
       "      <th>rotation 2</th>\n",
       "      <th>rotation 3</th>\n",
       "      <th>horizontal flip</th>\n",
       "      <th>vertical flip</th>\n",
       "      <th>training index</th>\n",
       "      <th>train or test</th>\n",
       "      <th>first win condition</th>\n",
       "      <th>second win condition</th>\n",
       "      <th>end move loss</th>\n",
       "    </tr>\n",
       "  </thead>\n",
       "  <tbody>\n",
       "    <tr>\n",
       "      <th>0</th>\n",
       "      <td>[0, 1, 3, 2, 6]</td>\n",
       "      <td>5</td>\n",
       "      <td>X</td>\n",
       "      <td>399</td>\n",
       "      <td>1439</td>\n",
       "      <td>1040</td>\n",
       "      <td>1114</td>\n",
       "      <td>325</td>\n",
       "      <td>241912</td>\n",
       "      <td>test</td>\n",
       "      <td>left column</td>\n",
       "      <td>NaN</td>\n",
       "      <td>0.000005</td>\n",
       "    </tr>\n",
       "    <tr>\n",
       "      <th>1</th>\n",
       "      <td>[0, 1, 3, 4, 6]</td>\n",
       "      <td>5</td>\n",
       "      <td>X</td>\n",
       "      <td>396</td>\n",
       "      <td>1438</td>\n",
       "      <td>1043</td>\n",
       "      <td>1112</td>\n",
       "      <td>327</td>\n",
       "      <td>190522</td>\n",
       "      <td>train</td>\n",
       "      <td>left column</td>\n",
       "      <td>NaN</td>\n",
       "      <td>0.000114</td>\n",
       "    </tr>\n",
       "    <tr>\n",
       "      <th>2</th>\n",
       "      <td>[0, 1, 3, 5, 6]</td>\n",
       "      <td>5</td>\n",
       "      <td>X</td>\n",
       "      <td>398</td>\n",
       "      <td>1437</td>\n",
       "      <td>1041</td>\n",
       "      <td>1113</td>\n",
       "      <td>326</td>\n",
       "      <td>90275</td>\n",
       "      <td>train</td>\n",
       "      <td>left column</td>\n",
       "      <td>NaN</td>\n",
       "      <td>0.000007</td>\n",
       "    </tr>\n",
       "    <tr>\n",
       "      <th>3</th>\n",
       "      <td>[0, 1, 3, 7, 6]</td>\n",
       "      <td>5</td>\n",
       "      <td>X</td>\n",
       "      <td>395</td>\n",
       "      <td>1436</td>\n",
       "      <td>1044</td>\n",
       "      <td>1110</td>\n",
       "      <td>329</td>\n",
       "      <td>21994</td>\n",
       "      <td>train</td>\n",
       "      <td>left column</td>\n",
       "      <td>NaN</td>\n",
       "      <td>0.000008</td>\n",
       "    </tr>\n",
       "    <tr>\n",
       "      <th>4</th>\n",
       "      <td>[0, 1, 3, 8, 6]</td>\n",
       "      <td>5</td>\n",
       "      <td>X</td>\n",
       "      <td>397</td>\n",
       "      <td>1435</td>\n",
       "      <td>1042</td>\n",
       "      <td>1111</td>\n",
       "      <td>328</td>\n",
       "      <td>48696</td>\n",
       "      <td>train</td>\n",
       "      <td>left column</td>\n",
       "      <td>NaN</td>\n",
       "      <td>0.000013</td>\n",
       "    </tr>\n",
       "  </tbody>\n",
       "</table>\n",
       "</div>"
      ],
      "text/plain": [
       "      moves played  steps till end state winner  rotation 1  rotation 2  \\\n",
       "0  [0, 1, 3, 2, 6]                     5      X         399        1439   \n",
       "1  [0, 1, 3, 4, 6]                     5      X         396        1438   \n",
       "2  [0, 1, 3, 5, 6]                     5      X         398        1437   \n",
       "3  [0, 1, 3, 7, 6]                     5      X         395        1436   \n",
       "4  [0, 1, 3, 8, 6]                     5      X         397        1435   \n",
       "\n",
       "   rotation 3  horizontal flip  vertical flip  training index train or test  \\\n",
       "0        1040             1114            325          241912          test   \n",
       "1        1043             1112            327          190522         train   \n",
       "2        1041             1113            326           90275         train   \n",
       "3        1044             1110            329           21994         train   \n",
       "4        1042             1111            328           48696         train   \n",
       "\n",
       "  first win condition second win condition  end move loss  \n",
       "0         left column                  NaN       0.000005  \n",
       "1         left column                  NaN       0.000114  \n",
       "2         left column                  NaN       0.000007  \n",
       "3         left column                  NaN       0.000008  \n",
       "4         left column                  NaN       0.000013  "
      ]
     },
     "execution_count": 7,
     "metadata": {},
     "output_type": "execute_result"
    }
   ],
   "source": [
    "df.head()"
   ]
  },
  {
   "cell_type": "code",
   "execution_count": 6,
   "metadata": {},
   "outputs": [
    {
     "name": "stderr",
     "output_type": "stream",
     "text": [
      "/tmp/ipykernel_6764/2039791098.py:18: UserWarning: To copy construct from a tensor, it is recommended to use sourceTensor.clone().detach() or sourceTensor.clone().detach().requires_grad_(True), rather than torch.tensor(sourceTensor).\n",
      "  logits = model(torch.tensor(seq))\n"
     ]
    },
    {
     "name": "stdout",
     "output_type": "stream",
     "text": [
      "tensor(27.6008, device='cuda:0')\n",
      "tensor(41.1278, device='cuda:0')\n"
     ]
    }
   ],
   "source": [
    "with torch.no_grad():\n",
    "    game = df.iloc[0]['moves played']\n",
    "    game = torch.tensor(eval(game)).to('cuda')\n",
    "    print(neuron_ablated_loss(game, 5))\n",
    "    game = df.iloc[1]['moves played']\n",
    "    game = torch.tensor(eval(game)).to('cuda')\n",
    "    print(neuron_ablated_loss(game, 5))\n",
    "torch.cuda.empty_cache()\n"
   ]
  },
  {
   "cell_type": "code",
   "execution_count": 8,
   "metadata": {},
   "outputs": [
    {
     "name": "stderr",
     "output_type": "stream",
     "text": [
      "  0%|          | 0/7 [00:00<?, ?it/s]"
     ]
    },
    {
     "name": "stderr",
     "output_type": "stream",
     "text": [
      "/tmp/ipykernel_6764/2039791098.py:18: UserWarning: To copy construct from a tensor, it is recommended to use sourceTensor.clone().detach() or sourceTensor.clone().detach().requires_grad_(True), rather than torch.tensor(sourceTensor).\n",
      "  logits = model(torch.tensor(seq))\n",
      "100%|██████████| 255168/255168 [06:04<00:00, 699.47it/s]\n",
      "100%|██████████| 255168/255168 [05:30<00:00, 770.94it/s]\n",
      "100%|██████████| 255168/255168 [05:25<00:00, 783.15it/s]\n",
      "100%|██████████| 255168/255168 [05:26<00:00, 781.20it/s]\n",
      "100%|██████████| 255168/255168 [05:26<00:00, 782.43it/s]\n",
      "100%|██████████| 255168/255168 [05:26<00:00, 781.70it/s]\n",
      "100%|██████████| 255168/255168 [05:26<00:00, 781.97it/s]\n",
      "100%|██████████| 7/7 [38:47<00:00, 332.48s/it]\n"
     ]
    }
   ],
   "source": [
    "#long run time\n",
    "df_ablation_losses = pd.DataFrame(columns=['moves played']+neurons)\n",
    "for neuron in tqdm.tqdm(neurons):\n",
    "    neuron_losses = []\n",
    "    for game in tqdm.tqdm(df['moves played']):\n",
    "        game = torch.tensor(eval(game)).to('cuda')\n",
    "        neuron_losses.append(neuron_ablated_loss(game, neuron).item())\n",
    "    df_ablation_losses[neuron] = neuron_losses"
   ]
  },
  {
   "cell_type": "code",
   "execution_count": 14,
   "metadata": {},
   "outputs": [],
   "source": [
    "df_ablation_losses['moves played'] = df['moves played']\n",
    "df_ablation_losses['first win condition'] = df['first win condition']\n",
    "df_ablation_losses['second win condition'] = df['second win condition']"
   ]
  },
  {
   "cell_type": "code",
   "execution_count": 15,
   "metadata": {},
   "outputs": [],
   "source": [
    "#save csv\n",
    "df_ablation_losses.to_csv('../data/230801_mlp_neuron_ablations.csv', index=False)"
   ]
  },
  {
   "cell_type": "code",
   "execution_count": 28,
   "metadata": {},
   "outputs": [
    {
     "data": {
      "text/html": [
       "<div>\n",
       "<style scoped>\n",
       "    .dataframe tbody tr th:only-of-type {\n",
       "        vertical-align: middle;\n",
       "    }\n",
       "\n",
       "    .dataframe tbody tr th {\n",
       "        vertical-align: top;\n",
       "    }\n",
       "\n",
       "    .dataframe thead th {\n",
       "        text-align: right;\n",
       "    }\n",
       "</style>\n",
       "<table border=\"1\" class=\"dataframe\">\n",
       "  <thead>\n",
       "    <tr style=\"text-align: right;\">\n",
       "      <th></th>\n",
       "      <th>moves played</th>\n",
       "      <th>5</th>\n",
       "      <th>117</th>\n",
       "      <th>160</th>\n",
       "      <th>195</th>\n",
       "      <th>248</th>\n",
       "      <th>342</th>\n",
       "      <th>384</th>\n",
       "      <th>first win condition</th>\n",
       "      <th>second win condition</th>\n",
       "    </tr>\n",
       "  </thead>\n",
       "  <tbody>\n",
       "    <tr>\n",
       "      <th>0</th>\n",
       "      <td>[0, 1, 3, 2, 6]</td>\n",
       "      <td>27.600830</td>\n",
       "      <td>25.984032</td>\n",
       "      <td>20.650963</td>\n",
       "      <td>21.021225</td>\n",
       "      <td>24.808592</td>\n",
       "      <td>24.553686</td>\n",
       "      <td>20.650963</td>\n",
       "      <td>left column</td>\n",
       "      <td>NaN</td>\n",
       "    </tr>\n",
       "    <tr>\n",
       "      <th>1</th>\n",
       "      <td>[0, 1, 3, 4, 6]</td>\n",
       "      <td>41.127792</td>\n",
       "      <td>38.450790</td>\n",
       "      <td>37.021679</td>\n",
       "      <td>37.479591</td>\n",
       "      <td>37.021679</td>\n",
       "      <td>44.526112</td>\n",
       "      <td>37.021679</td>\n",
       "      <td>left column</td>\n",
       "      <td>NaN</td>\n",
       "    </tr>\n",
       "    <tr>\n",
       "      <th>2</th>\n",
       "      <td>[0, 1, 3, 5, 6]</td>\n",
       "      <td>40.524685</td>\n",
       "      <td>34.400578</td>\n",
       "      <td>33.738380</td>\n",
       "      <td>33.738380</td>\n",
       "      <td>33.738380</td>\n",
       "      <td>38.221973</td>\n",
       "      <td>33.738380</td>\n",
       "      <td>left column</td>\n",
       "      <td>NaN</td>\n",
       "    </tr>\n",
       "    <tr>\n",
       "      <th>3</th>\n",
       "      <td>[0, 1, 3, 7, 6]</td>\n",
       "      <td>35.960464</td>\n",
       "      <td>36.924595</td>\n",
       "      <td>31.302052</td>\n",
       "      <td>31.302052</td>\n",
       "      <td>31.302052</td>\n",
       "      <td>35.596428</td>\n",
       "      <td>31.302052</td>\n",
       "      <td>left column</td>\n",
       "      <td>NaN</td>\n",
       "    </tr>\n",
       "    <tr>\n",
       "      <th>4</th>\n",
       "      <td>[0, 1, 3, 8, 6]</td>\n",
       "      <td>37.377480</td>\n",
       "      <td>38.659790</td>\n",
       "      <td>33.185169</td>\n",
       "      <td>33.185169</td>\n",
       "      <td>33.185169</td>\n",
       "      <td>34.629082</td>\n",
       "      <td>33.185169</td>\n",
       "      <td>left column</td>\n",
       "      <td>NaN</td>\n",
       "    </tr>\n",
       "  </tbody>\n",
       "</table>\n",
       "</div>"
      ],
      "text/plain": [
       "      moves played          5        117        160        195        248  \\\n",
       "0  [0, 1, 3, 2, 6]  27.600830  25.984032  20.650963  21.021225  24.808592   \n",
       "1  [0, 1, 3, 4, 6]  41.127792  38.450790  37.021679  37.479591  37.021679   \n",
       "2  [0, 1, 3, 5, 6]  40.524685  34.400578  33.738380  33.738380  33.738380   \n",
       "3  [0, 1, 3, 7, 6]  35.960464  36.924595  31.302052  31.302052  31.302052   \n",
       "4  [0, 1, 3, 8, 6]  37.377480  38.659790  33.185169  33.185169  33.185169   \n",
       "\n",
       "         342        384 first win condition second win condition  \n",
       "0  24.553686  20.650963         left column                  NaN  \n",
       "1  44.526112  37.021679         left column                  NaN  \n",
       "2  38.221973  33.738380         left column                  NaN  \n",
       "3  35.596428  31.302052         left column                  NaN  \n",
       "4  34.629082  33.185169         left column                  NaN  "
      ]
     },
     "execution_count": 28,
     "metadata": {},
     "output_type": "execute_result"
    }
   ],
   "source": [
    "df_ablation_losses.head()"
   ]
  },
  {
   "cell_type": "code",
   "execution_count": 36,
   "metadata": {},
   "outputs": [
    {
     "data": {
      "image/png": "[encoded data removed]",
      "text/plain": [
       "<Figure size 900x600 with 2 Axes>"
      ]
     },
     "metadata": {
      "needs_background": "light"
     },
     "output_type": "display_data"
    }
   ],
   "source": [
    "#groupby first win condition\n",
    "grouped = df_ablation_losses.groupby(['first win condition'])\n",
    "#imshow the mean of the groupby for each neuron\n",
    "plt.imshow(grouped.mean(), cmap='jet', interpolation='nearest')\n",
    "plt.colorbar()\n",
    "#legend\n",
    "plt.xticks(np.arange(0, 7), labels=grouped.mean().columns);\n",
    "#yticks\n",
    "plt.yticks(np.arange(0, 8), labels=grouped.mean().index);\n",
    "#dpi\n",
    "plt.rcParams['figure.dpi'] = 150"
   ]
  }
 ],
 "metadata": {
  "kernelspec": {
   "display_name": "Python 3",
   "language": "python",
   "name": "python3"
  },
  "language_info": {
   "codemirror_mode": {
    "name": "ipython",
    "version": 3
   },
   "file_extension": ".py",
   "mimetype": "text/x-python",
   "name": "python",
   "nbconvert_exporter": "python",
   "pygments_lexer": "ipython3",
   "version": "3.10.9"
  },
  "orig_nbformat": 4
 },
 "nbformat": 4,
 "nbformat_minor": 2
}
