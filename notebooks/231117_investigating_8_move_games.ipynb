{
 "cells": [
  {
   "cell_type": "code",
   "execution_count": null,
   "metadata": {},
   "outputs": [],
   "source": [
    "%load_ext autoreload\n",
    "%autoreload 2\n",
    "from alphatoe import models, plot, interpretability, game\n",
    "import pandas as pd\n",
    "import torch\n",
    "from pytorch_memlab import LineProfiler, MemReporter\n",
    "from showmethetypes import SMTT\n",
    "import einops\n",
    "import matplotlib.pyplot as plt\n",
    "from matplotlib.ticker import LogFormatter\n",
    "import numpy as np\n",
    "import tqdm\n",
    "import random"
   ]
  },
  {
   "cell_type": "code",
   "execution_count": null,
   "metadata": {},
   "outputs": [],
   "source": [
    "tt = SMTT()"
   ]
  },
  {
   "cell_type": "code",
   "execution_count": null,
   "metadata": {},
   "outputs": [],
   "source": [
    "games = game.generate_all_games([game.Board()])"
   ]
  },
  {
   "cell_type": "code",
   "execution_count": null,
   "metadata": {},
   "outputs": [],
   "source": [
    "five_move_games = torch.stack(\n",
    "    [\n",
    "        torch.tensor([10] + game.moves_played)\n",
    "        for game in games\n",
    "        if len(game.moves_played) == 5\n",
    "    ]\n",
    ")"
   ]
  },
  {
   "cell_type": "code",
   "execution_count": null,
   "metadata": {},
   "outputs": [],
   "source": []
  },
  {
   "cell_type": "code",
   "execution_count": null,
   "metadata": {},
   "outputs": [],
   "source": [
    "five_move_games"
   ]
  },
  {
   "cell_type": "code",
   "execution_count": null,
   "metadata": {},
   "outputs": [],
   "source": [
    "model = interpretability.load_model(\n",
    "    \"../scripts/models/prob all 8 layer control-20230718-185339\"\n",
    ")"
   ]
  },
  {
   "cell_type": "code",
   "execution_count": null,
   "metadata": {},
   "outputs": [],
   "source": [
    "autoenc = models.SparseAutoEncoder(512, 1024).cuda()\n",
    "autoenc.load_state_dict(\n",
    "    torch.load(\"./sparse_autoencoder_on_activations_07NOV2023_parameters.pt\")\n",
    ")"
   ]
  },
  {
   "cell_type": "code",
   "execution_count": null,
   "metadata": {},
   "outputs": [],
   "source": [
    "def neuron_activations(seq):\n",
    "    def hook(module, input, output):\n",
    "        result = output.clone()\n",
    "        module.captured_activations = result\n",
    "\n",
    "    try:\n",
    "        handle = model.blocks[0].mlp.hook_post.register_forward_hook(hook)\n",
    "        _ = model(seq)\n",
    "        activations = model.blocks[0].mlp.hook_post.captured_activations\n",
    "        handle.remove()\n",
    "    except Exception as e:\n",
    "        handle.remove()\n",
    "        raise e\n",
    "\n",
    "    return activations"
   ]
  },
  {
   "cell_type": "code",
   "execution_count": null,
   "metadata": {},
   "outputs": [],
   "source": [
    "activations = autoenc.get_activations(neuron_activations(five_move_games))[:, -1]"
   ]
  },
  {
   "cell_type": "code",
   "execution_count": null,
   "metadata": {},
   "outputs": [],
   "source": [
    "tt(activations)"
   ]
  },
  {
   "cell_type": "code",
   "execution_count": null,
   "metadata": {},
   "outputs": [],
   "source": [
    "\"\"\"\n",
    "if act on 995 > 0 and 600 == 0 or vice versa, keep game\n",
    "\"\"\"\n",
    "\n",
    "on_995 = []\n",
    "on_600 = []\n",
    "on_both = []\n",
    "for i in range(activations.shape[0]):\n",
    "    if activations[i][995] > 0.5 and activations[i][600] == 0:\n",
    "        on_995.append(i)\n",
    "    elif 0 <= activations[i][600] < 2 and activations[i][995] == 0:\n",
    "        on_600.append(i)\n",
    "    elif activations[i][600] > 2 and activations[i][995] > 0.5:\n",
    "        on_both.append(i)"
   ]
  },
  {
   "cell_type": "code",
   "execution_count": null,
   "metadata": {},
   "outputs": [],
   "source": [
    "on_both"
   ]
  },
  {
   "cell_type": "code",
   "execution_count": null,
   "metadata": {},
   "outputs": [],
   "source": [
    "for i, j, k in zip(on_995, on_600, on_both):\n",
    "    # print(\"995\")\n",
    "    # game.play_game(list(five_move_games[i]))\n",
    "    # print(\"600\")\n",
    "    # game.play_game(list(five_move_games[j]))\n",
    "    print(\"both\")\n",
    "    game.play_game(list(five_move_games[k]))"
   ]
  },
  {
   "cell_type": "code",
   "execution_count": null,
   "metadata": {},
   "outputs": [],
   "source": [
    "for i in on_600:\n",
    "    print()\n",
    "    game.play_game(list(five_move_games[i]))"
   ]
  },
  {
   "cell_type": "code",
   "execution_count": null,
   "metadata": {},
   "outputs": [],
   "source": [
    "for i in on_both:\n",
    "    print()\n",
    "    game.play_game(list(five_move_games[i]))"
   ]
  },
  {
   "cell_type": "code",
   "execution_count": null,
   "metadata": {},
   "outputs": [],
   "source": [
    "len(on_both)"
   ]
  },
  {
   "cell_type": "code",
   "execution_count": null,
   "metadata": {},
   "outputs": [],
   "source": [
    "plt.subplot(1, 2, 1)\n",
    "plt.hist(interpretability.numpy(activations[:, 995]))\n",
    "plt.subplot(1, 2, 2)\n",
    "plt.hist(interpretability.numpy(activations[:, 600]))\n",
    "# activations[:,600]"
   ]
  },
  {
   "cell_type": "code",
   "execution_count": null,
   "metadata": {},
   "outputs": [],
   "source": [
    "eight_move_games = torch.stack(\n",
    "    [\n",
    "        torch.tensor([10] + game.moves_played)\n",
    "        for game in games\n",
    "        if len(game.moves_played) == 8\n",
    "    ]\n",
    ")"
   ]
  },
  {
   "cell_type": "code",
   "execution_count": null,
   "metadata": {},
   "outputs": [],
   "source": [
    "# all_moves = []\n",
    "# for move in range(9):\n",
    "#     yes_move = []\n",
    "#     no_move = []\n",
    "#     for game in eight_move_games:\n",
    "#         if move in game and game[-1] != move:\n",
    "#             yes_move.append(game)\n",
    "#         elif move not in game:\n",
    "#             no_move.append(game)\n",
    "#     all_moves.append([yes_move, no_move])"
   ]
  },
  {
   "cell_type": "code",
   "execution_count": null,
   "metadata": {},
   "outputs": [],
   "source": [
    "all_moves = []\n",
    "move = 8\n",
    "yes_move = []\n",
    "no_move = []\n",
    "for game in eight_move_games:\n",
    "    if move in game and game[-1] != move:\n",
    "        yes_move.append(game)\n",
    "    elif move not in game:\n",
    "        no_move.append(game)\n",
    "all_moves.append([yes_move, no_move])"
   ]
  },
  {
   "cell_type": "code",
   "execution_count": null,
   "metadata": {},
   "outputs": [],
   "source": [
    "for i, l in enumerate(all_moves):\n",
    "    print(f\"move {i} present in {len(l[0])}\", len(l[1]))"
   ]
  },
  {
   "cell_type": "code",
   "execution_count": null,
   "metadata": {},
   "outputs": [],
   "source": [
    "games_taken = 2000\n",
    "eight_move_present_or_not_games = torch.cat(\n",
    "    [\n",
    "        torch.cat(\n",
    "            [\n",
    "                torch.stack([torch.tensor(g) for g in l[0][:games_taken]]),\n",
    "                torch.stack([torch.tensor(g) for g in l[1][:games_taken]]),\n",
    "            ]\n",
    "        )\n",
    "        for l in all_moves\n",
    "    ]\n",
    ")"
   ]
  },
  {
   "cell_type": "code",
   "execution_count": null,
   "metadata": {},
   "outputs": [],
   "source": [
    "tt(torch.stack([torch.tensor(g) for g in l[0][:games_taken]]))"
   ]
  },
  {
   "cell_type": "code",
   "execution_count": null,
   "metadata": {},
   "outputs": [],
   "source": [
    "c = (torch.stack([torch.tensor(g) for g in random.sample(l[0], games_taken)]),)"
   ]
  },
  {
   "cell_type": "code",
   "execution_count": null,
   "metadata": {},
   "outputs": [],
   "source": [
    "tt(c)"
   ]
  },
  {
   "cell_type": "code",
   "execution_count": null,
   "metadata": {},
   "outputs": [],
   "source": [
    "tt(eight_move_present_or_not_games)"
   ]
  },
  {
   "cell_type": "code",
   "execution_count": null,
   "metadata": {},
   "outputs": [],
   "source": [
    "import random\n",
    "\n",
    "games_taken = 2000\n",
    "\n",
    "eight_move_present_or_not_games = torch.cat(\n",
    "    [\n",
    "        torch.cat(\n",
    "            [\n",
    "                torch.stack(\n",
    "                    [torch.tensor(g) for g in random.sample(l[0], games_taken)]\n",
    "                ),\n",
    "                torch.stack(\n",
    "                    [torch.tensor(g) for g in random.sample(l[1], games_taken)]\n",
    "                ),\n",
    "            ]\n",
    "        )\n",
    "        for l in all_moves\n",
    "        if len(l[0]) >= games_taken and len(l[1]) >= games_taken\n",
    "    ]\n",
    ")"
   ]
  },
  {
   "cell_type": "code",
   "execution_count": null,
   "metadata": {},
   "outputs": [],
   "source": [
    "tt(eight_move_present_or_not_games)"
   ]
  },
  {
   "cell_type": "code",
   "execution_count": null,
   "metadata": {},
   "outputs": [],
   "source": [
    "# acts = autoenc.get_activations(neuron_activations(eight_move_present_or_not_games))"
   ]
  },
  {
   "cell_type": "code",
   "execution_count": null,
   "metadata": {},
   "outputs": [],
   "source": [
    "# tt(acts)"
   ]
  },
  {
   "cell_type": "code",
   "execution_count": null,
   "metadata": {},
   "outputs": [],
   "source": [
    "# assert false"
   ]
  },
  {
   "cell_type": "code",
   "execution_count": null,
   "metadata": {},
   "outputs": [],
   "source": [
    "tt(eight_move_present_or_not_games[0])"
   ]
  },
  {
   "cell_type": "code",
   "execution_count": null,
   "metadata": {},
   "outputs": [],
   "source": [
    "act = torch.cat(\n",
    "    [\n",
    "        autoenc.get_activations(neuron_activations(eight_move_present_or_not_games))[\n",
    "            :, -2\n",
    "        ],\n",
    "        autoenc.get_activations(neuron_activations(eight_move_present_or_not_games))[\n",
    "            :, -1\n",
    "        ],\n",
    "    ],\n",
    "    dim=0,\n",
    ")"
   ]
  },
  {
   "cell_type": "code",
   "execution_count": null,
   "metadata": {},
   "outputs": [],
   "source": [
    "tt(act)"
   ]
  },
  {
   "cell_type": "code",
   "execution_count": null,
   "metadata": {},
   "outputs": [],
   "source": [
    "plt.xticks(\n",
    "    ticks=[1000, 3000, 5000, 7000], labels=[\"gno, mp\", \"gno, mnp\", \"go, mp\", \"go, mnp\"]\n",
    ")\n",
    "plt.axvline(x=2000, color=\"r\")\n",
    "plt.axvline(x=4000, color=\"r\")\n",
    "plt.axvline(x=6000, color=\"r\")\n",
    "plt.imshow(\n",
    "    interpretability.numpy(act).T, aspect=\"auto\", cmap=\"Greys\", interpolation=\"none\"\n",
    ")\n",
    "#fig size\n",
    "plt.rcParams[\"figure.figsize\"] = (20, 10)\n",
    "#fig resolution\n",
    "plt.rcParams[\"figure.dpi\"] = 600"
   ]
  },
  {
   "cell_type": "code",
   "execution_count": null,
   "metadata": {},
   "outputs": [],
   "source": [
    "acc = 0\n",
    "for g in eight_move_games:\n",
    "    if game.play_game(g).winner == \"O\":\n",
    "        print()\n",
    "        acc += 1"
   ]
  },
  {
   "cell_type": "code",
   "execution_count": null,
   "metadata": {},
   "outputs": [],
   "source": [
    "len(set(eight_move_games))"
   ]
  },
  {
   "cell_type": "code",
   "execution_count": null,
   "metadata": {},
   "outputs": [],
   "source": [
    "acc"
   ]
  },
  {
   "cell_type": "code",
   "execution_count": null,
   "metadata": {},
   "outputs": [],
   "source": [
    "len(eight_move_games)"
   ]
  },
  {
   "cell_type": "code",
   "execution_count": null,
   "metadata": {},
   "outputs": [],
   "source": [
    "plot.imshow_div(act.T, aspect=\"auto\", width=1000, height=1000)"
   ]
  },
  {
   "cell_type": "code",
   "execution_count": null,
   "metadata": {},
   "outputs": [],
   "source": [
    "plot.imshow_comp_acts(act, groups=['gno, mp', 'gno, mnp', 'go, mp', 'go, mnp'])"
   ]
  },
  {
   "cell_type": "code",
   "execution_count": null,
   "metadata": {},
   "outputs": [],
   "source": []
  },
  {
   "cell_type": "code",
   "execution_count": null,
   "metadata": {},
   "outputs": [],
   "source": [
    "from alphatoe import game"
   ]
  },
  {
   "cell_type": "code",
   "execution_count": null,
   "metadata": {},
   "outputs": [],
   "source": [
    "game.play_game(eight_move_present_or_not_games[467 % 4000])\n"
   ]
  },
  {
   "cell_type": "code",
   "execution_count": null,
   "metadata": {},
   "outputs": [],
   "source": [
    "# feature 600 is on\n",
    "for i in range(1528, 1538):\n",
    "    game.play_game(eight_move_present_or_not_games[i])\n",
    "    print(\"\")"
   ]
  },
  {
   "cell_type": "code",
   "execution_count": null,
   "metadata": {},
   "outputs": [],
   "source": [
    "# feature 600 is on\n",
    "for i in range(761, 767):\n",
    "    game.play_game(eight_move_present_or_not_games[i])\n",
    "    print(\"\")"
   ]
  },
  {
   "cell_type": "code",
   "execution_count": null,
   "metadata": {},
   "outputs": [],
   "source": [
    "# feature 995 is on\n",
    "for i in range(722, 730):\n",
    "    game.play_game(eight_move_present_or_not_games[i])\n",
    "    print(\"\")"
   ]
  },
  {
   "cell_type": "code",
   "execution_count": null,
   "metadata": {},
   "outputs": [],
   "source": [
    "# feature 995 is off\n",
    "for i in range(957, 974):\n",
    "    game.play_game(eight_move_present_or_not_games[i])\n",
    "    print(\"\")"
   ]
  },
  {
   "cell_type": "code",
   "execution_count": null,
   "metadata": {},
   "outputs": [],
   "source": [
    "neuron_activations(\n",
    "    model(\n",
    "        torch.tensor(\n",
    "            [\n",
    "                10,\n",
    "            ]\n",
    "        )\n",
    "    )\n",
    ")"
   ]
  },
  {
   "cell_type": "code",
   "execution_count": null,
   "metadata": {},
   "outputs": [],
   "source": [
    "tt(act)"
   ]
  },
  {
   "cell_type": "code",
   "execution_count": null,
   "metadata": {},
   "outputs": [],
   "source": [
    "non_zero_acts = act[:, :, act.max(0).values.max(0).values > 0]"
   ]
  },
  {
   "cell_type": "code",
   "execution_count": null,
   "metadata": {},
   "outputs": [],
   "source": [
    "tt(non_zero_acts)"
   ]
  },
  {
   "cell_type": "code",
   "execution_count": null,
   "metadata": {},
   "outputs": [],
   "source": [
    "plt.subplot(1, 2, 1)\n",
    "plt.hist(interpretability.numpy(activations[:, 995]))\n",
    "plt.subplot(1, 2, 2)\n",
    "plt.hist(interpretability.numpy(activations[:, 600]))"
   ]
  },
  {
   "cell_type": "code",
   "execution_count": null,
   "metadata": {},
   "outputs": [],
   "source": [
    "\"\"\"\n",
    "- Clean up dead neurons\n",
    "- Make 9 even split plots containing a bunch of games with and without particular moves\n",
    "\"\"\""
   ]
  },
  {
   "cell_type": "code",
   "execution_count": null,
   "metadata": {},
   "outputs": [],
   "source": []
  },
  {
   "cell_type": "code",
   "execution_count": null,
   "metadata": {},
   "outputs": [],
   "source": [
    "# plt.subplot(9,1, 1)\n",
    "plt.imshow(\n",
    "    interpretability.numpy(non_zero_acts[4]).T,\n",
    "    cmap=\"jet\",\n",
    "    aspect=\"auto\",\n",
    "    interpolation=\"none\",\n",
    ")\n",
    "plt.xticks(ticks=[2500, 7500], labels=[\"move present\", \"move not present\"])\n",
    "# plt.subplot(9,1, 2)\n",
    "# plt.imshow(non_zero_acts[1], cmap=\"jet\", aspect=\"auto\", interpolation=\"none\")\n",
    "# plt.subplot(9,1, 3)\n",
    "# plt.imshow(non_zero_acts[2], cmap=\"jet\", aspect=\"auto\", interpolation=\"none\")"
   ]
  }
 ],
 "metadata": {
  "kernelspec": {
   "display_name": "base",
   "language": "python",
   "name": "python3"
  },
  "language_info": {
   "codemirror_mode": {
    "name": "ipython",
    "version": 3
   },
   "file_extension": ".py",
   "mimetype": "text/x-python",
   "name": "python",
   "nbconvert_exporter": "python",
   "pygments_lexer": "ipython3",
   "version": "3.10.9"
  },
  "orig_nbformat": 4
 },
 "nbformat": 4,
 "nbformat_minor": 2
}
