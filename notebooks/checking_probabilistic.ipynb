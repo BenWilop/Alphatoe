{
 "cells": [
  {
   "cell_type": "code",
   "execution_count": 5,
   "metadata": {},
   "outputs": [],
   "source": [
    "from alphatoe import game, data, train, evals\n",
    "import torch\n",
    "from torch.nn.functional import cross_entropy\n",
    "from tqdm import tqdm\n",
    "import einops"
   ]
  },
  {
   "cell_type": "code",
   "execution_count": 2,
   "metadata": {},
   "outputs": [
    {
     "name": "stdout",
     "output_type": "stream",
     "text": [
      "Generating all possible games...\n",
      "Generated 255168 games\n",
      "Generated array of moves\n",
      "torch.Size([255168, 10])\n",
      "Generated data and labels\n",
      "One hot encoded labels\n"
     ]
    }
   ],
   "source": [
    "# Combine all data to get loss across all games\n",
    "train_data, train_labels, test_data, test_labels = data.gen_data(\"all\")\n",
    "all_data = torch.cat([train_data, test_data])\n",
    "all_labels = torch.cat([train_labels, test_labels])"
   ]
  },
  {
   "cell_type": "code",
   "execution_count": 12,
   "metadata": {},
   "outputs": [
    {
     "name": "stderr",
     "output_type": "stream",
     "text": [
      "100%|██████████| 255168/255168 [02:11<00:00, 1934.11it/s]\n"
     ]
    }
   ],
   "source": [
    "# Drop the dummy dimension here\n",
    "logits = einops.rearrange(torch.stack([game.autoregressive_guess(seq)[0] for seq in tqdm(all_data) ]), 'batch seq tokens -> (batch seq) tokens')\n",
    "arranged_labels = train.rearrange(all_labels)"
   ]
  },
  {
   "cell_type": "code",
   "execution_count": 13,
   "metadata": {},
   "outputs": [],
   "source": [
    "loss = cross_entropy(logits, arranged_labels)"
   ]
  },
  {
   "cell_type": "code",
   "execution_count": 14,
   "metadata": {},
   "outputs": [
    {
     "name": "stdout",
     "output_type": "stream",
     "text": [
      "tensor(nan)\n"
     ]
    }
   ],
   "source": [
    "print(loss)"
   ]
  },
  {
   "cell_type": "code",
   "execution_count": 15,
   "metadata": {},
   "outputs": [
    {
     "name": "stderr",
     "output_type": "stream",
     "text": [
      "100%|██████████| 10000/10000 [00:20<00:00, 496.45it/s]\n"
     ]
    }
   ],
   "source": [
    "sampled_games = evals.sample_games(game.autoregressive_guess, temp=1, num_games = 10000)"
   ]
  },
  {
   "cell_type": "code",
   "execution_count": 16,
   "metadata": {},
   "outputs": [
    {
     "name": "stdout",
     "output_type": "stream",
     "text": [
      "0.4404\n"
     ]
    }
   ],
   "source": [
    "error_rate = evals.error_rate(sampled_games)\n",
    "print(error_rate)\n"
   ]
  },
  {
   "cell_type": "code",
   "execution_count": null,
   "metadata": {},
   "outputs": [],
   "source": []
  }
 ],
 "metadata": {
  "kernelspec": {
   "display_name": "base",
   "language": "python",
   "name": "python3"
  },
  "language_info": {
   "codemirror_mode": {
    "name": "ipython",
    "version": 3
   },
   "file_extension": ".py",
   "mimetype": "text/x-python",
   "name": "python",
   "nbconvert_exporter": "python",
   "pygments_lexer": "ipython3",
   "version": "3.10.9"
  },
  "orig_nbformat": 4
 },
 "nbformat": 4,
 "nbformat_minor": 2
}
