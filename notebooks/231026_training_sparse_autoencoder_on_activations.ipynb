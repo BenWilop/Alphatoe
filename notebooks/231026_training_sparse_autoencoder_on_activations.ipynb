{
 "cells": [
  {
   "cell_type": "code",
   "execution_count": 20,
   "metadata": {},
   "outputs": [],
   "source": [
    "from alphatoe import models, plot, interpretability, game\n",
    "import pandas as pd\n",
    "import torch\n",
    "from pytorch_memlab import LineProfiler, MemReporter\n",
    "from showmethetypes import SMTT\n",
    "import einops"
   ]
  },
  {
   "cell_type": "code",
   "execution_count": 2,
   "metadata": {},
   "outputs": [],
   "source": [
    "tt = SMTT(\"torch\")"
   ]
  },
  {
   "cell_type": "code",
   "execution_count": 3,
   "metadata": {},
   "outputs": [],
   "source": [
    "model = interpretability.load_model(\n",
    "    \"../scripts/models/prob all 8 layer control-20230718-185339\"\n",
    ")"
   ]
  },
  {
   "cell_type": "code",
   "execution_count": 4,
   "metadata": {},
   "outputs": [
    {
     "name": "stderr",
     "output_type": "stream",
     "text": [
      "/tmp/ipykernel_47258/629368561.py:1: DtypeWarning: Columns (11) have mixed types. Specify dtype option on import or set low_memory=False.\n",
      "  games = pd.read_csv(\"../data/prob all 8 layer control-20230718-185339_stats.csv\")\n"
     ]
    },
    {
     "data": {
      "text/html": [
       "<div>\n",
       "<style scoped>\n",
       "    .dataframe tbody tr th:only-of-type {\n",
       "        vertical-align: middle;\n",
       "    }\n",
       "\n",
       "    .dataframe tbody tr th {\n",
       "        vertical-align: top;\n",
       "    }\n",
       "\n",
       "    .dataframe thead th {\n",
       "        text-align: right;\n",
       "    }\n",
       "</style>\n",
       "<table border=\"1\" class=\"dataframe\">\n",
       "  <thead>\n",
       "    <tr style=\"text-align: right;\">\n",
       "      <th></th>\n",
       "      <th>moves played</th>\n",
       "      <th>steps till end state</th>\n",
       "      <th>winner</th>\n",
       "      <th>rotation 1</th>\n",
       "      <th>rotation 2</th>\n",
       "      <th>rotation 3</th>\n",
       "      <th>horizontal flip</th>\n",
       "      <th>vertical flip</th>\n",
       "      <th>training index</th>\n",
       "      <th>train or test</th>\n",
       "      <th>first win condition</th>\n",
       "      <th>second win condition</th>\n",
       "      <th>end move loss</th>\n",
       "    </tr>\n",
       "  </thead>\n",
       "  <tbody>\n",
       "    <tr>\n",
       "      <th>0</th>\n",
       "      <td>[0, 1, 3, 2, 6]</td>\n",
       "      <td>5</td>\n",
       "      <td>X</td>\n",
       "      <td>399</td>\n",
       "      <td>1439</td>\n",
       "      <td>1040</td>\n",
       "      <td>1114</td>\n",
       "      <td>325</td>\n",
       "      <td>241912</td>\n",
       "      <td>test</td>\n",
       "      <td>left column</td>\n",
       "      <td>NaN</td>\n",
       "      <td>0.000005</td>\n",
       "    </tr>\n",
       "    <tr>\n",
       "      <th>1</th>\n",
       "      <td>[0, 1, 3, 4, 6]</td>\n",
       "      <td>5</td>\n",
       "      <td>X</td>\n",
       "      <td>396</td>\n",
       "      <td>1438</td>\n",
       "      <td>1043</td>\n",
       "      <td>1112</td>\n",
       "      <td>327</td>\n",
       "      <td>190522</td>\n",
       "      <td>train</td>\n",
       "      <td>left column</td>\n",
       "      <td>NaN</td>\n",
       "      <td>0.000114</td>\n",
       "    </tr>\n",
       "    <tr>\n",
       "      <th>2</th>\n",
       "      <td>[0, 1, 3, 5, 6]</td>\n",
       "      <td>5</td>\n",
       "      <td>X</td>\n",
       "      <td>398</td>\n",
       "      <td>1437</td>\n",
       "      <td>1041</td>\n",
       "      <td>1113</td>\n",
       "      <td>326</td>\n",
       "      <td>90275</td>\n",
       "      <td>train</td>\n",
       "      <td>left column</td>\n",
       "      <td>NaN</td>\n",
       "      <td>0.000007</td>\n",
       "    </tr>\n",
       "    <tr>\n",
       "      <th>3</th>\n",
       "      <td>[0, 1, 3, 7, 6]</td>\n",
       "      <td>5</td>\n",
       "      <td>X</td>\n",
       "      <td>395</td>\n",
       "      <td>1436</td>\n",
       "      <td>1044</td>\n",
       "      <td>1110</td>\n",
       "      <td>329</td>\n",
       "      <td>21994</td>\n",
       "      <td>train</td>\n",
       "      <td>left column</td>\n",
       "      <td>NaN</td>\n",
       "      <td>0.000008</td>\n",
       "    </tr>\n",
       "    <tr>\n",
       "      <th>4</th>\n",
       "      <td>[0, 1, 3, 8, 6]</td>\n",
       "      <td>5</td>\n",
       "      <td>X</td>\n",
       "      <td>397</td>\n",
       "      <td>1435</td>\n",
       "      <td>1042</td>\n",
       "      <td>1111</td>\n",
       "      <td>328</td>\n",
       "      <td>48696</td>\n",
       "      <td>train</td>\n",
       "      <td>left column</td>\n",
       "      <td>NaN</td>\n",
       "      <td>0.000013</td>\n",
       "    </tr>\n",
       "  </tbody>\n",
       "</table>\n",
       "</div>"
      ],
      "text/plain": [
       "      moves played  steps till end state winner  rotation 1  rotation 2   \n",
       "0  [0, 1, 3, 2, 6]                     5      X         399        1439  \\\n",
       "1  [0, 1, 3, 4, 6]                     5      X         396        1438   \n",
       "2  [0, 1, 3, 5, 6]                     5      X         398        1437   \n",
       "3  [0, 1, 3, 7, 6]                     5      X         395        1436   \n",
       "4  [0, 1, 3, 8, 6]                     5      X         397        1435   \n",
       "\n",
       "   rotation 3  horizontal flip  vertical flip  training index train or test   \n",
       "0        1040             1114            325          241912          test  \\\n",
       "1        1043             1112            327          190522         train   \n",
       "2        1041             1113            326           90275         train   \n",
       "3        1044             1110            329           21994         train   \n",
       "4        1042             1111            328           48696         train   \n",
       "\n",
       "  first win condition second win condition  end move loss  \n",
       "0         left column                  NaN       0.000005  \n",
       "1         left column                  NaN       0.000114  \n",
       "2         left column                  NaN       0.000007  \n",
       "3         left column                  NaN       0.000008  \n",
       "4         left column                  NaN       0.000013  "
      ]
     },
     "execution_count": 4,
     "metadata": {},
     "output_type": "execute_result"
    }
   ],
   "source": [
    "games = pd.read_csv(\"../data/prob all 8 layer control-20230718-185339_stats.csv\")\n",
    "games.head()"
   ]
  },
  {
   "cell_type": "markdown",
   "metadata": {},
   "source": [
    "- Sort games by game length [X]\n",
    "- batch inference for games of length [X]\n",
    "- extract activations with hooks [X]\n",
    "- train autoencoder on data reconstruction (anthropic has tips here)\n",
    "- find good metrics + start looking at data (anthropic has tips here)"
   ]
  },
  {
   "cell_type": "code",
   "execution_count": 5,
   "metadata": {},
   "outputs": [],
   "source": [
    "all_games = game.generate_all_games([game.Board()])"
   ]
  },
  {
   "cell_type": "code",
   "execution_count": 6,
   "metadata": {},
   "outputs": [
    {
     "data": {
      "text/plain": [
       "255168"
      ]
     },
     "execution_count": 6,
     "metadata": {},
     "output_type": "execute_result"
    }
   ],
   "source": [
    "len(all_games)"
   ]
  },
  {
   "cell_type": "code",
   "execution_count": 7,
   "metadata": {},
   "outputs": [],
   "source": [
    "games_len_dict = {5: [], 6: [], 7: [], 8: [], 9: []}\n",
    "for game in all_games:\n",
    "    games_len_dict[len(game.moves_played)].append(game.moves_played)"
   ]
  },
  {
   "cell_type": "code",
   "execution_count": 8,
   "metadata": {},
   "outputs": [
    {
     "name": "stdout",
     "output_type": "stream",
     "text": [
      "255168\n"
     ]
    }
   ],
   "source": [
    "s = 0\n",
    "for key in games_len_dict.keys():\n",
    "    s += len(games_len_dict[key])\n",
    "print(s)"
   ]
  },
  {
   "cell_type": "code",
   "execution_count": 9,
   "metadata": {},
   "outputs": [],
   "source": [
    "games_len_tensors = {}\n",
    "for key in games_len_dict.keys():\n",
    "    games_len_tensors[key] = torch.stack(\n",
    "        [torch.tensor([10] + game) for game in games_len_dict[key]]\n",
    "    )"
   ]
  },
  {
   "cell_type": "code",
   "execution_count": 10,
   "metadata": {},
   "outputs": [
    {
     "data": {
      "text/plain": [
       "tensor([[10,  0,  1,  ...,  7,  6,  8],\n",
       "        [10,  0,  1,  ...,  7,  8,  6],\n",
       "        [10,  0,  1,  ...,  5,  7,  8],\n",
       "        ...,\n",
       "        [10,  8,  7,  ...,  3,  1,  0],\n",
       "        [10,  8,  7,  ...,  1,  0,  2],\n",
       "        [10,  8,  7,  ...,  1,  2,  0]])"
      ]
     },
     "execution_count": 10,
     "metadata": {},
     "output_type": "execute_result"
    }
   ],
   "source": [
    "games_len_tensors[9]"
   ]
  },
  {
   "cell_type": "code",
   "execution_count": 11,
   "metadata": {},
   "outputs": [],
   "source": [
    "# Activation hook\n",
    "def neuron_activations(seq):\n",
    "    def hook(module, input, output):\n",
    "        result = output.clone()\n",
    "        module.captured_activations = result\n",
    "\n",
    "    try:\n",
    "        with torch.inference_mode():\n",
    "            handle = model.blocks[0].mlp.hook_post.register_forward_hook(hook)\n",
    "            _ = model(seq)\n",
    "            activations = model.blocks[0].mlp.hook_post.captured_activations\n",
    "            handle.remove()\n",
    "    except Exception as e:\n",
    "        handle.remove()\n",
    "        raise e\n",
    "\n",
    "    return activations"
   ]
  },
  {
   "cell_type": "code",
   "execution_count": 12,
   "metadata": {},
   "outputs": [],
   "source": [
    "# a = neuron_activations(games_len_tensors[5])[:, -1]"
   ]
  },
  {
   "cell_type": "code",
   "execution_count": 13,
   "metadata": {},
   "outputs": [],
   "source": [
    "# a.numel() * a.element_size()"
   ]
  },
  {
   "cell_type": "code",
   "execution_count": 18,
   "metadata": {},
   "outputs": [
    {
     "name": "stdout",
     "output_type": "stream",
     "text": [
      "Element type                                            Size  Used MEM\n",
      "-------------------------------------------------------------------------------\n",
      "Storage on cuda:0\n",
      "Tensor0                                       (1440, 6, 512)    16.88M\n",
      "Tensor1                                       (5328, 7, 512)    72.84M\n",
      "Tensor2                                      (47952, 8, 512)   749.25M\n",
      "Tensor3                                      (72576, 9, 512)     1.25G\n",
      "Tensor4                                    (127872, 10, 512)     2.44G\n",
      "Tensor5                                    (127872, 10, 512)     2.44G\n",
      "Parameter6                                         (11, 128)     5.50K\n",
      "Parameter7                                         (10, 128)     5.00K\n",
      "Parameter8                                         (128, 10)     5.00K\n",
      "Parameter9                                             (10,)   512.00B\n",
      "Parameter10                                     (8, 128, 16)    64.00K\n",
      "Parameter11                                     (8, 128, 16)    64.00K\n",
      "Parameter12                                     (8, 128, 16)    64.00K\n",
      "Parameter13                                     (8, 16, 128)    64.00K\n",
      "Parameter14                                          (8, 16)   512.00B\n",
      "Parameter15                                          (8, 16)   512.00B\n",
      "Parameter16                                          (8, 16)   512.00B\n",
      "Parameter17                                           (128,)   512.00B\n",
      "Tensor18                                            (10, 10)   512.00B\n",
      "Tensor19                                                (1,)   512.00B\n",
      "Parameter20                                       (128, 512)   256.00K\n",
      "Parameter21                                           (512,)     2.00K\n",
      "Parameter22                                       (512, 128)   256.00K\n",
      "Parameter23                                           (128,)   512.00B\n",
      "-------------------------------------------------------------------------------\n",
      "Total Tensors: 1863971951 \tUsed Memory: 6.94G\n",
      "The allocated memory on cuda:0: 6.95G\n",
      "Memory differs due to the matrix alignment or invisible gradient buffer tensors\n",
      "-------------------------------------------------------------------------------\n",
      "-------------------------------------------------------------------------------\n",
      "Storage on cpu\n",
      "Tensor24                                           (1440, 6)    67.50K\n",
      "Tensor25                                           (5328, 7)   291.50K\n",
      "Tensor26                                          (47952, 8)     2.93M\n",
      "Tensor27                                          (72576, 9)     4.98M\n",
      "Tensor28                                        (127872, 10)     9.76M\n",
      "-------------------------------------------------------------------------------\n",
      "Total Tensors: 2361456 \tUsed Memory: 18.02M\n",
      "-------------------------------------------------------------------------------\n"
     ]
    }
   ],
   "source": [
    "b = neuron_activations(games_len_tensors[9])\n",
    "reporter = MemReporter()\n",
    "reporter.report()"
   ]
  },
  {
   "cell_type": "code",
   "execution_count": 15,
   "metadata": {},
   "outputs": [],
   "source": [
    "torch.cuda.empty_cache()"
   ]
  },
  {
   "cell_type": "code",
   "execution_count": 16,
   "metadata": {},
   "outputs": [
    {
     "ename": "AssertionError",
     "evalue": "",
     "output_type": "error",
     "traceback": [
      "\u001b[0;31m---------------------------------------------------------------------------\u001b[0m",
      "\u001b[0;31mAssertionError\u001b[0m                            Traceback (most recent call last)",
      "Cell \u001b[0;32mIn[16], line 1\u001b[0m\n\u001b[0;32m----> 1\u001b[0m \u001b[39massert\u001b[39;00m \u001b[39mFalse\u001b[39;00m\n",
      "\u001b[0;31mAssertionError\u001b[0m: "
     ]
    }
   ],
   "source": [
    "assert False"
   ]
  },
  {
   "cell_type": "code",
   "execution_count": null,
   "metadata": {},
   "outputs": [
    {
     "data": {
      "text/plain": [
       "261881856"
      ]
     },
     "execution_count": 15,
     "metadata": {},
     "output_type": "execute_result"
    }
   ],
   "source": [
    "b.numel() * b.element_size()"
   ]
  },
  {
   "cell_type": "code",
   "execution_count": null,
   "metadata": {},
   "outputs": [
    {
     "ename": "NameError",
     "evalue": "name 'all_acts' is not defined",
     "output_type": "error",
     "traceback": [
      "\u001b[0;31m---------------------------------------------------------------------------\u001b[0m",
      "\u001b[0;31mNameError\u001b[0m                                 Traceback (most recent call last)",
      "Cell \u001b[0;32mIn[18], line 1\u001b[0m\n\u001b[0;32m----> 1\u001b[0m \u001b[39mfor\u001b[39;00m elt \u001b[39min\u001b[39;00m all_acts:\n\u001b[1;32m      2\u001b[0m     \u001b[39mprint\u001b[39m(elt\u001b[39m.\u001b[39mnumel() \u001b[39m*\u001b[39m elt\u001b[39m.\u001b[39melement_size())\n",
      "\u001b[0;31mNameError\u001b[0m: name 'all_acts' is not defined"
     ]
    }
   ],
   "source": [
    "for elt in all_acts:\n",
    "    print(elt.numel() * elt.element_size())"
   ]
  },
  {
   "cell_type": "code",
   "execution_count": 17,
   "metadata": {},
   "outputs": [
    {
     "name": "stdout",
     "output_type": "stream",
     "text": [
      "0\n",
      "1\n",
      "2\n",
      "3\n",
      "4\n"
     ]
    }
   ],
   "source": [
    "# Inference loop\n",
    "# will there be a difference across game lengths?\n",
    "# Doesn't fit in memory?\n",
    "# 512 neurons * 255168 games * 32 bit floats * 10 seq len = 5.22 gigabytes???\n",
    "all_acts = []\n",
    "for i, key in enumerate(games_len_tensors.keys()):\n",
    "    print(i)\n",
    "    acts = neuron_activations(games_len_tensors[key])\n",
    "    all_acts.append(acts)\n",
    "    torch.cuda.empty_cache()"
   ]
  },
  {
   "cell_type": "code",
   "execution_count": null,
   "metadata": {},
   "outputs": [
    {
     "name": "stdout",
     "output_type": "stream",
     "text": [
      "list (5)\n",
      "    |__Tensor (dtype: torch.float32)\n",
      "        |  (device: cuda:0)\n",
      "        |__dim_0 (1440)\n",
      "        |__dim_1 (512)\n"
     ]
    }
   ],
   "source": [
    "tt(all_acts)"
   ]
  },
  {
   "cell_type": "code",
   "execution_count": 21,
   "metadata": {},
   "outputs": [],
   "source": [
    "act_data = torch.cat(\n",
    "    [einops.rearrange(acts, \"batch seq dim -> (batch seq) dim\") for act in all_acts],\n",
    "    dim=0,\n",
    ")"
   ]
  },
  {
   "cell_type": "markdown",
   "metadata": {},
   "source": [
    "Note that since there's a lot of repeated phrases in the input, we'll have lots of identical activations. Not sure how that'll change things yet though.."
   ]
  },
  {
   "cell_type": "code",
   "execution_count": 22,
   "metadata": {},
   "outputs": [
    {
     "name": "stdout",
     "output_type": "stream",
     "text": [
      "Tensor (dtype: torch.float32)\n",
      "    |  (device: cuda:0)\n",
      "    |__dim_0 (6393600)\n",
      "    |__dim_1 (512)\n"
     ]
    }
   ],
   "source": [
    "tt(act_data)"
   ]
  },
  {
   "cell_type": "code",
   "execution_count": null,
   "metadata": {},
   "outputs": [],
   "source": [
    "autoenc = models.SparseAutoEncoder(512, 1024).to(\"cuda\")"
   ]
  },
  {
   "cell_type": "code",
   "execution_count": null,
   "metadata": {},
   "outputs": [],
   "source": [
    "loss_fn = torch.nn.functional.mse_loss\n",
    "optimizer = torch.optim.Adam(autoenc.parameters(), lr=1e-4, weight_decay=0)"
   ]
  },
  {
   "cell_type": "code",
   "execution_count": null,
   "metadata": {},
   "outputs": [],
   "source": [
    "epochs = 10\n",
    "batch_size = 2**15\n",
    "lam = 1e-2\n",
    "for epoch in range(epochs):\n",
    "    for batch in range(0, act_data.shape[0], batch_size):\n",
    "        reg, guess = autoenc(act_data[batch : batch + batch_size])\n",
    "        loss = loss_fn(guess, act_data[batch : batch + batch_size]) + lam * reg\n",
    "        losses.append(interpretability.numpy(loss))\n",
    "        optimizer.zero_grad()\n",
    "        loss.backward()\n",
    "        print(loss)\n",
    "        optimizer.step()"
   ]
  },
  {
   "cell_type": "code",
   "execution_count": 25,
   "metadata": {},
   "outputs": [
    {
     "data": {
      "text/plain": [
       "16384"
      ]
     },
     "execution_count": 25,
     "metadata": {},
     "output_type": "execute_result"
    }
   ],
   "source": [
    "2**14"
   ]
  }
 ],
 "metadata": {
  "kernelspec": {
   "display_name": "base",
   "language": "python",
   "name": "python3"
  },
  "language_info": {
   "codemirror_mode": {
    "name": "ipython",
    "version": 3
   },
   "file_extension": ".py",
   "mimetype": "text/x-python",
   "name": "python",
   "nbconvert_exporter": "python",
   "pygments_lexer": "ipython3",
   "version": "3.10.13"
  },
  "orig_nbformat": 4
 },
 "nbformat": 4,
 "nbformat_minor": 2
}
