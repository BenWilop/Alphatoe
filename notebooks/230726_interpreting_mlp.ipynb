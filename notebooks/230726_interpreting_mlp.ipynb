{
 "cells": [
  {
   "cell_type": "code",
   "execution_count": 18,
   "metadata": {},
   "outputs": [
    {
     "name": "stdout",
     "output_type": "stream",
     "text": [
      "The autoreload extension is already loaded. To reload it, use:\n",
      "  %reload_ext autoreload\n"
     ]
    }
   ],
   "source": [
    "%load_ext autoreload\n",
    "%autoreload 2\n",
    "import torch\n",
    "import torch.nn.functional as F\n",
    "from alphatoe import plot, game, data\n",
    "from transformer_lens import HookedTransformer, HookedTransformerConfig\n",
    "import json\n",
    "import einops\n",
    "import circuitsvis as cv\n",
    "from plotly.subplots import make_subplots\n",
    "import plotly.graph_objects as go\n",
    "from functools import partial\n",
    "from copy import copy\n",
    "import tqdm\n",
    "import pandas as pd\n",
    "import numpy as np"
   ]
  },
  {
   "cell_type": "code",
   "execution_count": 11,
   "metadata": {},
   "outputs": [],
   "source": [
    "weights = torch.load(\"../scripts/models/prob all 8 layer control-20230718-185339.pt\")\n",
    "with open(\"../scripts/models/prob all 8 layer control-20230718-185339.json\", \"r\") as f:\n",
    "    args = json.load(f)"
   ]
  },
  {
   "cell_type": "code",
   "execution_count": 12,
   "metadata": {},
   "outputs": [],
   "source": [
    "model_cfg = HookedTransformerConfig(\n",
    "    n_layers=args[\"n_layers\"],\n",
    "    n_heads=args[\"n_heads\"],\n",
    "    d_model=args[\"d_model\"],\n",
    "    d_head=args[\"d_head\"],\n",
    "    d_mlp=args[\"d_mlp\"],\n",
    "    act_fn=args[\"act_fn\"],\n",
    "    normalization_type=args[\"normalization_type\"],\n",
    "    d_vocab=11,\n",
    "    d_vocab_out=10,\n",
    "    n_ctx=10,\n",
    "    init_weights=True,\n",
    "    device=args[\"device\"],\n",
    "    seed=args[\"seed\"],\n",
    ")"
   ]
  },
  {
   "cell_type": "code",
   "execution_count": 13,
   "metadata": {},
   "outputs": [
    {
     "data": {
      "text/plain": [
       "<All keys matched successfully>"
      ]
     },
     "execution_count": 13,
     "metadata": {},
     "output_type": "execute_result"
    }
   ],
   "source": [
    "model = HookedTransformer(model_cfg)\n",
    "model.cfg.use_attn_result = True\n",
    "model.load_state_dict(weights)"
   ]
  },
  {
   "cell_type": "code",
   "execution_count": null,
   "metadata": {},
   "outputs": [],
   "source": [
    "def ablate_output(module, input, output):\n",
    "    zeros = [\n",
    "        0,\n",
    "        2,\n",
    "        4,\n",
    "        6,\n",
    "    ]  # NOTE: ints here refer to head indices. All included indices will be zeroed\n",
    "    print(output.shape)\n",
    "    for i in zeros:\n",
    "        output[0, :, i] = 0\n",
    "    return output"
   ]
  },
  {
   "cell_type": "code",
   "execution_count": null,
   "metadata": {},
   "outputs": [],
   "source": [
    "handle.remove()"
   ]
  },
  {
   "cell_type": "code",
   "execution_count": null,
   "metadata": {},
   "outputs": [],
   "source": [
    "ablate_output"
   ]
  },
  {
   "cell_type": "code",
   "execution_count": null,
   "metadata": {},
   "outputs": [],
   "source": [
    "def ablate_all_but_one_head(head, seq):\n",
    "    def hook(module, input, output):\n",
    "        result = torch.zeros_like(output)\n",
    "        result[:, :, head, :] = output[:, :, head, :]\n",
    "        return result\n",
    "\n",
    "    model.cfg.use_attn_result = True\n",
    "    try:\n",
    "        handle = model.blocks[0].attn.hook_result.register_forward_hook(hook)\n",
    "        logits = model(torch.tensor(seq))\n",
    "        handle.remove()\n",
    "    except Exception as e:\n",
    "        handle.remove()\n",
    "        raise e\n",
    "\n",
    "    return logits"
   ]
  },
  {
   "cell_type": "code",
   "execution_count": null,
   "metadata": {},
   "outputs": [],
   "source": [
    "def ablate_one_head(head, seq):\n",
    "    def hook(module, input, output):\n",
    "        result = output.clone()\n",
    "        result[:, :, head, :] = 0\n",
    "        return result\n",
    "\n",
    "    model.cfg.use_attn_result = True\n",
    "    try:\n",
    "        handle = model.blocks[0].attn.hook_result.register_forward_hook(hook)\n",
    "        logits = model.run_with_cache(torch.tensor(seq))\n",
    "        handle.remove()\n",
    "    except Exception as e:\n",
    "        handle.remove()\n",
    "        raise e\n",
    "\n",
    "    return logits"
   ]
  },
  {
   "cell_type": "code",
   "execution_count": null,
   "metadata": {},
   "outputs": [],
   "source": [
    "try:\n",
    "    handle.remove()\n",
    "except:\n",
    "    pass\n",
    "handle = model.blocks[0].attn.hook_result.register_forward_hook(ablate_all)"
   ]
  },
  {
   "cell_type": "code",
   "execution_count": null,
   "metadata": {},
   "outputs": [],
   "source": [
    "seq = [10, 1, 2, 3, 4]\n",
    "with torch.no_grad():\n",
    "    logits, cache = model.run_with_cache(torch.tensor(seq))"
   ]
  },
  {
   "cell_type": "code",
   "execution_count": null,
   "metadata": {},
   "outputs": [],
   "source": [
    "transformer_lens\n",
    "model.blocks[0].mlp.W_in"
   ]
  },
  {
   "cell_type": "code",
   "execution_count": null,
   "metadata": {},
   "outputs": [],
   "source": [
    "neuron_activations = copy(cache[\"post\", 0][0])"
   ]
  },
  {
   "cell_type": "code",
   "execution_count": null,
   "metadata": {},
   "outputs": [],
   "source": [
    "logits, cache = ablate_one_head(2, seq)"
   ]
  },
  {
   "cell_type": "code",
   "execution_count": null,
   "metadata": {},
   "outputs": [],
   "source": [
    "ablation_activations = copy(cache[\"post\", 0][0])"
   ]
  },
  {
   "cell_type": "code",
   "execution_count": null,
   "metadata": {},
   "outputs": [],
   "source": [
    "plot.lines(neuron_activations)"
   ]
  },
  {
   "cell_type": "code",
   "execution_count": null,
   "metadata": {},
   "outputs": [],
   "source": [
    "plot.lines(ablation_activations)"
   ]
  },
  {
   "cell_type": "code",
   "execution_count": null,
   "metadata": {},
   "outputs": [],
   "source": [
    "plot.lines(neuron_activations - ablation_activations)"
   ]
  },
  {
   "cell_type": "code",
   "execution_count": null,
   "metadata": {},
   "outputs": [],
   "source": [
    "vals, indices = torch.sort(neuron_activations - ablation_activations)"
   ]
  },
  {
   "cell_type": "code",
   "execution_count": null,
   "metadata": {},
   "outputs": [],
   "source": [
    "vals"
   ]
  },
  {
   "cell_type": "code",
   "execution_count": null,
   "metadata": {},
   "outputs": [],
   "source": [
    "plot.lines(vals)"
   ]
  },
  {
   "cell_type": "code",
   "execution_count": null,
   "metadata": {},
   "outputs": [],
   "source": [
    "effect_sizes = {}\n",
    "for token in range(vals.shape[0]):\n",
    "    for index, effect in zip(indices[token], vals[token]):\n",
    "        effect_sizes[index.item()] = effect_sizes.setdefault(index.item(), 0.0) + abs(\n",
    "            effect.item()\n",
    "        )"
   ]
  },
  {
   "cell_type": "code",
   "execution_count": null,
   "metadata": {},
   "outputs": [],
   "source": [
    "effects = [(effect_sizes[index], index) for index in effect_sizes.keys()]\n",
    "effects.sort()\n",
    "effects = [(index, effect) for (effect, index) in effects]"
   ]
  },
  {
   "cell_type": "code",
   "execution_count": null,
   "metadata": {},
   "outputs": [],
   "source": [
    "print(effects)"
   ]
  },
  {
   "cell_type": "code",
   "execution_count": null,
   "metadata": {},
   "outputs": [],
   "source": [
    "plot.line(effects)"
   ]
  },
  {
   "attachments": {},
   "cell_type": "markdown",
   "metadata": {},
   "source": [
    "Which neurons strongly activate for game over states?"
   ]
  },
  {
   "cell_type": "code",
   "execution_count": null,
   "metadata": {},
   "outputs": [],
   "source": [
    "game_overs = torch.tensor(\n",
    "    [\n",
    "        [10, 0, 3, 1, 4, 2],\n",
    "        [10, 3, 0, 4, 1, 5],\n",
    "        [10, 6, 0, 7, 1, 8],\n",
    "        [10, 0, 1, 3, 4, 6],\n",
    "        [10, 1, 0, 4, 3, 7],\n",
    "        [10, 2, 0, 5, 3, 8],\n",
    "        [10, 0, 1, 4, 2, 8],\n",
    "        [10, 2, 1, 4, 0, 6],\n",
    "        [10, 2, 1, 4, 3, 6],\n",
    "    ]\n",
    ")\n",
    "game_goings = torch.tensor(\n",
    "    [\n",
    "        [10, 0, 3, 1, 4],\n",
    "        [10, 3, 0, 4, 1],\n",
    "        [10, 6, 0, 7, 1],\n",
    "        [10, 0, 1, 3, 4],\n",
    "        [10, 1, 0, 4, 3],\n",
    "        [10, 2, 0, 5, 3],\n",
    "        [10, 0, 1, 4, 2],\n",
    "        [10, 2, 1, 4, 0],\n",
    "    ]\n",
    ")"
   ]
  },
  {
   "cell_type": "code",
   "execution_count": null,
   "metadata": {},
   "outputs": [],
   "source": [
    "for board in game_overs:\n",
    "    bd = game.play_game(list(board) + [9])\n",
    "    bd.get_winner()\n",
    "    print(\"--------------------\")"
   ]
  },
  {
   "cell_type": "code",
   "execution_count": null,
   "metadata": {},
   "outputs": [],
   "source": [
    "with torch.no_grad():\n",
    "    game_over_logits_cache = [\n",
    "        model.run_with_cache(torch.tensor(seq)) for seq in tqdm.tqdm(game_overs)\n",
    "    ]\n",
    "game_over_logits, game_over_cache = map(list, zip(*game_over_logits_cache))"
   ]
  },
  {
   "cell_type": "code",
   "execution_count": null,
   "metadata": {},
   "outputs": [],
   "source": [
    "game_over_activations = torch.stack([cache[\"post\", 0][0] for cache in game_over_cache])\n",
    "game_over_acts, game_over_indices = torch.sort(game_over_activations)"
   ]
  },
  {
   "cell_type": "code",
   "execution_count": null,
   "metadata": {},
   "outputs": [],
   "source": [
    "activation_differences, difference_indices = torch.sort(\n",
    "    game_over_activations[:, -1, ...] - game_over_activations[:, -2, ...]\n",
    ")"
   ]
  },
  {
   "cell_type": "code",
   "execution_count": null,
   "metadata": {},
   "outputs": [],
   "source": [
    "over_acts = game_over_acts[:, -1]\n",
    "over_indices = game_over_indices[:, -1]\n",
    "pre_over_acts = game_over_acts[:, -2]\n",
    "pre_over_indices = game_over_indices[:, -2]"
   ]
  },
  {
   "cell_type": "code",
   "execution_count": null,
   "metadata": {},
   "outputs": [],
   "source": [
    "print(over_acts.shape)\n",
    "print(pre_over_acts.shape)\n",
    "print(activation_differences.shape)"
   ]
  },
  {
   "cell_type": "code",
   "execution_count": null,
   "metadata": {},
   "outputs": [],
   "source": [
    "game_over_logits[0].shape"
   ]
  },
  {
   "cell_type": "code",
   "execution_count": null,
   "metadata": {},
   "outputs": [],
   "source": [
    "unembedded_logits = game_over_logits[0][0] @ model.W_U.T"
   ]
  },
  {
   "cell_type": "code",
   "execution_count": 33,
   "metadata": {},
   "outputs": [
    {
     "ename": "NameError",
     "evalue": "name 'game_over_logits' is not defined",
     "output_type": "error",
     "traceback": [
      "\u001b[0;31m---------------------------------------------------------------------------\u001b[0m",
      "\u001b[0;31mNameError\u001b[0m                                 Traceback (most recent call last)",
      "\u001b[1;32m/home/obayyub/p/Tic-Tac-Transformer/notebooks/230726_interpreting_mlp.ipynb Cell 36\u001b[0m in \u001b[0;36m<module>\u001b[0;34m\u001b[0m\n\u001b[1;32m      <a href='vscode-notebook-cell:/home/obayyub/p/Tic-Tac-Transformer/notebooks/230726_interpreting_mlp.ipynb#X50sZmlsZQ%3D%3D?line=0'>1</a>\u001b[0m label \u001b[39m=\u001b[39m torch\u001b[39m.\u001b[39mtensor([\u001b[39m0.0\u001b[39m] \u001b[39m*\u001b[39m \u001b[39m9\u001b[39m \u001b[39m+\u001b[39m [\u001b[39m1.0\u001b[39m])\u001b[39m.\u001b[39mto(\u001b[39m\"\u001b[39m\u001b[39mcuda\u001b[39m\u001b[39m\"\u001b[39m)\n\u001b[1;32m      <a href='vscode-notebook-cell:/home/obayyub/p/Tic-Tac-Transformer/notebooks/230726_interpreting_mlp.ipynb#X50sZmlsZQ%3D%3D?line=1'>2</a>\u001b[0m loss_fn \u001b[39m=\u001b[39m F\u001b[39m.\u001b[39mcross_entropy\n\u001b[0;32m----> <a href='vscode-notebook-cell:/home/obayyub/p/Tic-Tac-Transformer/notebooks/230726_interpreting_mlp.ipynb#X50sZmlsZQ%3D%3D?line=2'>3</a>\u001b[0m og_loss \u001b[39m=\u001b[39m loss_fn(game_over_logits[\u001b[39m0\u001b[39m][\u001b[39m0\u001b[39m, \u001b[39m-\u001b[39m\u001b[39m1\u001b[39m, :], label)\n",
      "\u001b[0;31mNameError\u001b[0m: name 'game_over_logits' is not defined"
     ]
    }
   ],
   "source": [
    "label = torch.tensor([0.0] * 9 + [1.0]).to(\"cuda\")\n",
    "loss_fn = F.cross_entropy\n",
    "og_loss = loss_fn(game_over_logits[0][0, -1, :], label)"
   ]
  },
  {
   "cell_type": "code",
   "execution_count": null,
   "metadata": {},
   "outputs": [],
   "source": [
    "print(og_loss)"
   ]
  },
  {
   "cell_type": "code",
   "execution_count": null,
   "metadata": {},
   "outputs": [],
   "source": [
    "def ablate_one_neuron(neuron, seq):\n",
    "    def hook(module, input, output):\n",
    "        result = output.clone()\n",
    "        result[:, :, neuron] = 0\n",
    "        return result\n",
    "\n",
    "    model.cfg.use_attn_result = True\n",
    "    try:\n",
    "        handle = model.blocks[0].mlp.hook_post.register_forward_hook(hook)\n",
    "        logits = model.run_with_cache(torch.tensor(seq))\n",
    "        handle.remove()\n",
    "    except Exception as e:\n",
    "        handle.remove()\n",
    "        raise e\n",
    "\n",
    "    return logits"
   ]
  },
  {
   "cell_type": "code",
   "execution_count": null,
   "metadata": {},
   "outputs": [],
   "source": [
    "def neuron_ablated_logits_losses(data):\n",
    "    modified_logits = []\n",
    "    modified_losses = []\n",
    "    for i in range(512):\n",
    "        logits = ablate_one_neuron(i, data)[0]\n",
    "        neuron_losses = []\n",
    "        for i in range(game_overs.shape[0]):\n",
    "            loss = loss_fn(logits[i, -1, :], label)\n",
    "            neuron_losses.append(loss)\n",
    "        modified_losses.append(torch.tensor(neuron_losses).to(\"cpu\").detach().numpy())\n",
    "        modified_logits.append(logits.to(\"cpu\").detach().numpy())\n",
    "    modified_losses = torch.tensor(np.array(modified_losses))\n",
    "    return modified_logits, modified_losses"
   ]
  },
  {
   "cell_type": "code",
   "execution_count": null,
   "metadata": {},
   "outputs": [],
   "source": [
    "modified_logits, modified_losses = neuron_ablated_logits_losses(game_overs)"
   ]
  },
  {
   "cell_type": "code",
   "execution_count": null,
   "metadata": {},
   "outputs": [],
   "source": [
    "plot.lines(modified_losses.T, log_y=False)"
   ]
  },
  {
   "cell_type": "code",
   "execution_count": null,
   "metadata": {},
   "outputs": [],
   "source": [
    "modified_losses.T[4, 325:328]"
   ]
  },
  {
   "cell_type": "code",
   "execution_count": null,
   "metadata": {},
   "outputs": [],
   "source": [
    "vals, indx = torch.sort(modified_losses.T, descending=True)"
   ]
  },
  {
   "cell_type": "code",
   "execution_count": null,
   "metadata": {},
   "outputs": [],
   "source": [
    "top_vals = vals[:, :7]\n",
    "top_indx = indx[:, :7]"
   ]
  },
  {
   "cell_type": "code",
   "execution_count": null,
   "metadata": {},
   "outputs": [],
   "source": [
    "idx_count = {}\n",
    "for i in range(top_indx.shape[0]):\n",
    "    for j in range(top_indx.shape[1]):\n",
    "        key = top_indx[i, j].item()\n",
    "        idx_count.setdefault(key, [])\n",
    "        idx_count[key] += [(i, top_vals[i, j].item())]"
   ]
  },
  {
   "cell_type": "code",
   "execution_count": null,
   "metadata": {},
   "outputs": [],
   "source": [
    "for key in idx_count:\n",
    "    if len(idx_count[key]) > 1:\n",
    "        print(\"%3s - %d: \" % (str(key), len(idx_count[key])))\n",
    "        for game, val in idx_count[key]:\n",
    "            print(\"    %d %.3f\" % (game, val))"
   ]
  },
  {
   "attachments": {},
   "cell_type": "markdown",
   "metadata": {},
   "source": [
    "Getting logit ablation effects on MLP output.\n",
    "Which neurons are most effected by a head ablation?"
   ]
  },
  {
   "cell_type": "code",
   "execution_count": null,
   "metadata": {},
   "outputs": [],
   "source": [
    "# get normal activations with no ablation\n",
    "# ablate each head and get activations\n",
    "# sort activations by neuron index within each ablated dataset\n",
    "# Which neurons are affected most by which head\n",
    "# see if they line up with our previous data"
   ]
  },
  {
   "cell_type": "code",
   "execution_count": null,
   "metadata": {},
   "outputs": [],
   "source": [
    "logits, cache = model.run_with_cache(game_overs)\n",
    "original_acts = cache[\"post\", 0][:, -1, :]"
   ]
  },
  {
   "cell_type": "code",
   "execution_count": null,
   "metadata": {},
   "outputs": [],
   "source": [
    "ablated_logits = []\n",
    "ablated_activations = []\n",
    "for i in range(8):\n",
    "    logits, cache = ablate_one_head(i, game_overs)\n",
    "    ablated_logits.append(logits)\n",
    "    ablated_activations.append(cache[\"post\", 0][:, -1])\n",
    "ablated_logits = torch.stack(ablated_logits)\n",
    "ablated_activations = torch.stack(ablated_activations)"
   ]
  },
  {
   "cell_type": "code",
   "execution_count": null,
   "metadata": {},
   "outputs": [],
   "source": [
    "ablated_activations.shape"
   ]
  },
  {
   "cell_type": "code",
   "execution_count": null,
   "metadata": {},
   "outputs": [],
   "source": [
    "ablated_diffs = ablated_activations - original_acts"
   ]
  },
  {
   "cell_type": "code",
   "execution_count": null,
   "metadata": {},
   "outputs": [],
   "source": [
    "ablated_vals, ablated_indices = torch.sort(ablated_diffs, descending=True)"
   ]
  },
  {
   "cell_type": "code",
   "execution_count": null,
   "metadata": {},
   "outputs": [],
   "source": [
    "ablated_vals.shape"
   ]
  },
  {
   "cell_type": "code",
   "execution_count": 2,
   "metadata": {},
   "outputs": [],
   "source": [
    "# steps till end-state\n",
    "# who won\n",
    "# win condition\n",
    "# What conditions are rotations of others\n",
    "# All rotations of a game\n",
    "# Flips - middle row and middle column\n",
    "# Index in the train-test set\n",
    "# Whether or not it was trained on or tested on"
   ]
  },
  {
   "cell_type": "code",
   "execution_count": 3,
   "metadata": {},
   "outputs": [],
   "source": [
    "all_games = game.generate_all_games([game.Board()])"
   ]
  },
  {
   "cell_type": "code",
   "execution_count": 4,
   "metadata": {},
   "outputs": [],
   "source": [
    "columns = [\n",
    "    \"moves played\",\n",
    "    \"steps till end state\",\n",
    "    \"winner\",\n",
    "    \"win condition\",\n",
    "    \"game rotations\",\n",
    "    \"horizontal flip\",\n",
    "    \"vertical flip\",\n",
    "    \"training index\",\n",
    "    \"train or test\",\n",
    "]\n",
    "df = pd.DataFrame(columns=columns)"
   ]
  },
  {
   "cell_type": "code",
   "execution_count": 50,
   "metadata": {},
   "outputs": [],
   "source": [
    "index_lookup = {tuple(mp): i for i, mp in zip(df.index, df.get(\"moves played\"))}\n",
    "# dict[tuple(moves_played), int]\n",
    "rotation_ref = {\n",
    "    0: 2,\n",
    "    1: 5,\n",
    "    2: 8,\n",
    "    3: 1,\n",
    "    4: 4,\n",
    "    5: 7,\n",
    "    6: 0,\n",
    "    7: 3,\n",
    "    8: 6,\n",
    "}\n",
    "horizontal_flip_ref = {\n",
    "    0: 6,\n",
    "    1: 7,\n",
    "    2: 8,\n",
    "    3: 3,\n",
    "    4: 4,\n",
    "    5: 5,\n",
    "    6: 0,\n",
    "    7: 1,\n",
    "    8: 2,\n",
    "}\n",
    "vertical_flip_ref = {\n",
    "    0: 2,\n",
    "    1: 1,\n",
    "    2: 0,\n",
    "    3: 5,\n",
    "    4: 4,\n",
    "    5: 3,\n",
    "    6: 8,\n",
    "    7: 7,\n",
    "    8: 6,\n",
    "}\n",
    "\n",
    "\n",
    "def get_rotate_game_state_indices(game) -> list[int]:\n",
    "    # rotates by 90 more deg clockwise each rot\n",
    "    rot1 = [rotation_ref[move] for move in game.moves_played]\n",
    "    rot2 = [rotation_ref[move] for move in rot1]\n",
    "    rot3 = [rotation_ref[move] for move in rot2]\n",
    "    return [index_lookup[tuple(rot)] for rot in [rot1, rot2, rot3]]\n",
    "\n",
    "\n",
    "def get_horizontal_flip_game_state_indices(game) -> list[int]:\n",
    "    return [index_lookup[tuple([horizontal_flip_ref[i] for i in game.moves_played])]]\n",
    "\n",
    "\n",
    "def get_vertical_flip_game_state_indices(game) -> list[int]:\n",
    "    return [index_lookup[tuple([vertical_flip_ref[i] for i in game.moves_played])]]"
   ]
  },
  {
   "cell_type": "code",
   "execution_count": 51,
   "metadata": {},
   "outputs": [],
   "source": [
    "df[\"moves played\"] = [game.moves_played for game in all_games]\n",
    "df[\"winner\"] = [game.get_winner() for game in all_games]\n",
    "df[\"steps till end state\"] = [len(game.moves_played) for game in all_games]\n",
    "df[\"win condition\"] = [game.win_condition for game in all_games]\n",
    "df[\"game rotations\"] = [get_rotate_game_state_indices(game) for game in all_games]\n",
    "df[\"horizontal flip\"] = [\n",
    "    get_horizontal_flip_game_state_indices(game) for game in all_games\n",
    "]\n",
    "df[\"vertical flip\"] = [get_vertical_flip_game_state_indices(game) for game in all_games]"
   ]
  },
  {
   "cell_type": "code",
   "execution_count": 19,
   "metadata": {},
   "outputs": [
    {
     "name": "stdout",
     "output_type": "stream",
     "text": [
      "Generating all possible games...\n",
      "Generated 255168 games\n",
      "Generated array of moves\n",
      "torch.Size([255168, 10])\n",
      "Generated data and labels\n",
      "One hot encoded labels\n",
      "torch.Size([255168, 10, 10])\n",
      "torch.Size([255168, 10, 10])\n"
     ]
    }
   ],
   "source": [
    "inds = data.gen_data(\n",
    "    \"all\",\n",
    "    split_ratio=args[\"train_test_split\"],\n",
    "    device=args[\"device\"],\n",
    "    seed=args[\"seed\"],\n",
    "    returns_inds=True,\n",
    ")"
   ]
  },
  {
   "cell_type": "code",
   "execution_count": 20,
   "metadata": {},
   "outputs": [],
   "source": [
    "indsi = [ind.item() for ind in inds]"
   ]
  },
  {
   "cell_type": "code",
   "execution_count": 21,
   "metadata": {},
   "outputs": [],
   "source": [
    "training_order_table = {\n",
    "    game_index: train_index for train_index, game_index in enumerate(indsi)\n",
    "}"
   ]
  },
  {
   "cell_type": "code",
   "execution_count": 22,
   "metadata": {},
   "outputs": [],
   "source": [
    "df[\"training index\"] = [training_order_table[i] for i in range(len(all_games))]"
   ]
  },
  {
   "cell_type": "code",
   "execution_count": 23,
   "metadata": {},
   "outputs": [
    {
     "data": {
      "text/html": [
       "<div>\n",
       "<style scoped>\n",
       "    .dataframe tbody tr th:only-of-type {\n",
       "        vertical-align: middle;\n",
       "    }\n",
       "\n",
       "    .dataframe tbody tr th {\n",
       "        vertical-align: top;\n",
       "    }\n",
       "\n",
       "    .dataframe thead th {\n",
       "        text-align: right;\n",
       "    }\n",
       "</style>\n",
       "<table border=\"1\" class=\"dataframe\">\n",
       "  <thead>\n",
       "    <tr style=\"text-align: right;\">\n",
       "      <th></th>\n",
       "      <th>moves played</th>\n",
       "      <th>steps till end state</th>\n",
       "      <th>winner</th>\n",
       "      <th>win condition</th>\n",
       "      <th>game rotations</th>\n",
       "      <th>horizontal flip</th>\n",
       "      <th>vertical flip</th>\n",
       "      <th>training index</th>\n",
       "      <th>train or test</th>\n",
       "    </tr>\n",
       "  </thead>\n",
       "  <tbody>\n",
       "    <tr>\n",
       "      <th>0</th>\n",
       "      <td>[0, 1, 3, 2, 6]</td>\n",
       "      <td>5</td>\n",
       "      <td>X</td>\n",
       "      <td>left column</td>\n",
       "      <td>[399, 1439, 1040]</td>\n",
       "      <td>(6, 7, 3, 8, 0)</td>\n",
       "      <td>(2, 1, 5, 0, 8)</td>\n",
       "      <td>241912</td>\n",
       "      <td>NaN</td>\n",
       "    </tr>\n",
       "    <tr>\n",
       "      <th>1</th>\n",
       "      <td>[0, 1, 3, 4, 6]</td>\n",
       "      <td>5</td>\n",
       "      <td>X</td>\n",
       "      <td>left column</td>\n",
       "      <td>[396, 1438, 1043]</td>\n",
       "      <td>(6, 7, 3, 4, 0)</td>\n",
       "      <td>(2, 1, 5, 4, 8)</td>\n",
       "      <td>190522</td>\n",
       "      <td>NaN</td>\n",
       "    </tr>\n",
       "    <tr>\n",
       "      <th>2</th>\n",
       "      <td>[0, 1, 3, 5, 6]</td>\n",
       "      <td>5</td>\n",
       "      <td>X</td>\n",
       "      <td>left column</td>\n",
       "      <td>[398, 1437, 1041]</td>\n",
       "      <td>(6, 7, 3, 5, 0)</td>\n",
       "      <td>(2, 1, 5, 3, 8)</td>\n",
       "      <td>90275</td>\n",
       "      <td>NaN</td>\n",
       "    </tr>\n",
       "    <tr>\n",
       "      <th>3</th>\n",
       "      <td>[0, 1, 3, 7, 6]</td>\n",
       "      <td>5</td>\n",
       "      <td>X</td>\n",
       "      <td>left column</td>\n",
       "      <td>[395, 1436, 1044]</td>\n",
       "      <td>(6, 7, 3, 1, 0)</td>\n",
       "      <td>(2, 1, 5, 7, 8)</td>\n",
       "      <td>21994</td>\n",
       "      <td>NaN</td>\n",
       "    </tr>\n",
       "    <tr>\n",
       "      <th>4</th>\n",
       "      <td>[0, 1, 3, 8, 6]</td>\n",
       "      <td>5</td>\n",
       "      <td>X</td>\n",
       "      <td>left column</td>\n",
       "      <td>[397, 1435, 1042]</td>\n",
       "      <td>(6, 7, 3, 2, 0)</td>\n",
       "      <td>(2, 1, 5, 6, 8)</td>\n",
       "      <td>48696</td>\n",
       "      <td>NaN</td>\n",
       "    </tr>\n",
       "  </tbody>\n",
       "</table>\n",
       "</div>"
      ],
      "text/plain": [
       "      moves played  steps till end state winner win condition  \\\n",
       "0  [0, 1, 3, 2, 6]                     5      X   left column   \n",
       "1  [0, 1, 3, 4, 6]                     5      X   left column   \n",
       "2  [0, 1, 3, 5, 6]                     5      X   left column   \n",
       "3  [0, 1, 3, 7, 6]                     5      X   left column   \n",
       "4  [0, 1, 3, 8, 6]                     5      X   left column   \n",
       "\n",
       "      game rotations  horizontal flip    vertical flip  training index  \\\n",
       "0  [399, 1439, 1040]  (6, 7, 3, 8, 0)  (2, 1, 5, 0, 8)          241912   \n",
       "1  [396, 1438, 1043]  (6, 7, 3, 4, 0)  (2, 1, 5, 4, 8)          190522   \n",
       "2  [398, 1437, 1041]  (6, 7, 3, 5, 0)  (2, 1, 5, 3, 8)           90275   \n",
       "3  [395, 1436, 1044]  (6, 7, 3, 1, 0)  (2, 1, 5, 7, 8)           21994   \n",
       "4  [397, 1435, 1042]  (6, 7, 3, 2, 0)  (2, 1, 5, 6, 8)           48696   \n",
       "\n",
       "  train or test  \n",
       "0           NaN  \n",
       "1           NaN  \n",
       "2           NaN  \n",
       "3           NaN  \n",
       "4           NaN  "
      ]
     },
     "execution_count": 23,
     "metadata": {},
     "output_type": "execute_result"
    }
   ],
   "source": [
    "df.head()"
   ]
  },
  {
   "cell_type": "code",
   "execution_count": 25,
   "metadata": {},
   "outputs": [],
   "source": [
    "split = int(0.8 * len(all_games))\n",
    "train_inds, test_inds = inds[:split], inds[split:]"
   ]
  },
  {
   "cell_type": "code",
   "execution_count": 26,
   "metadata": {},
   "outputs": [],
   "source": [
    "def train_or_test(index):\n",
    "    if training_order_table[index] <= split:\n",
    "        return \"train\"\n",
    "    else:\n",
    "        return \"test\""
   ]
  },
  {
   "cell_type": "code",
   "execution_count": 27,
   "metadata": {},
   "outputs": [],
   "source": [
    "df[\"train or test\"] = [train_or_test(i) for i in range(len(all_games))]"
   ]
  },
  {
   "cell_type": "code",
   "execution_count": 52,
   "metadata": {},
   "outputs": [
    {
     "data": {
      "text/html": [
       "<div>\n",
       "<style scoped>\n",
       "    .dataframe tbody tr th:only-of-type {\n",
       "        vertical-align: middle;\n",
       "    }\n",
       "\n",
       "    .dataframe tbody tr th {\n",
       "        vertical-align: top;\n",
       "    }\n",
       "\n",
       "    .dataframe thead th {\n",
       "        text-align: right;\n",
       "    }\n",
       "</style>\n",
       "<table border=\"1\" class=\"dataframe\">\n",
       "  <thead>\n",
       "    <tr style=\"text-align: right;\">\n",
       "      <th></th>\n",
       "      <th>moves played</th>\n",
       "      <th>steps till end state</th>\n",
       "      <th>winner</th>\n",
       "      <th>win condition</th>\n",
       "      <th>game rotations</th>\n",
       "      <th>horizontal flip</th>\n",
       "      <th>vertical flip</th>\n",
       "      <th>training index</th>\n",
       "      <th>train or test</th>\n",
       "      <th>end move loss</th>\n",
       "    </tr>\n",
       "  </thead>\n",
       "  <tbody>\n",
       "    <tr>\n",
       "      <th>0</th>\n",
       "      <td>[0, 1, 3, 2, 6]</td>\n",
       "      <td>5</td>\n",
       "      <td>X</td>\n",
       "      <td>left column</td>\n",
       "      <td>[399, 1439, 1040]</td>\n",
       "      <td>[1114]</td>\n",
       "      <td>[325]</td>\n",
       "      <td>241912</td>\n",
       "      <td>test</td>\n",
       "      <td>0.000005</td>\n",
       "    </tr>\n",
       "    <tr>\n",
       "      <th>1</th>\n",
       "      <td>[0, 1, 3, 4, 6]</td>\n",
       "      <td>5</td>\n",
       "      <td>X</td>\n",
       "      <td>left column</td>\n",
       "      <td>[396, 1438, 1043]</td>\n",
       "      <td>[1112]</td>\n",
       "      <td>[327]</td>\n",
       "      <td>190522</td>\n",
       "      <td>train</td>\n",
       "      <td>0.000114</td>\n",
       "    </tr>\n",
       "    <tr>\n",
       "      <th>2</th>\n",
       "      <td>[0, 1, 3, 5, 6]</td>\n",
       "      <td>5</td>\n",
       "      <td>X</td>\n",
       "      <td>left column</td>\n",
       "      <td>[398, 1437, 1041]</td>\n",
       "      <td>[1113]</td>\n",
       "      <td>[326]</td>\n",
       "      <td>90275</td>\n",
       "      <td>train</td>\n",
       "      <td>0.000007</td>\n",
       "    </tr>\n",
       "    <tr>\n",
       "      <th>3</th>\n",
       "      <td>[0, 1, 3, 7, 6]</td>\n",
       "      <td>5</td>\n",
       "      <td>X</td>\n",
       "      <td>left column</td>\n",
       "      <td>[395, 1436, 1044]</td>\n",
       "      <td>[1110]</td>\n",
       "      <td>[329]</td>\n",
       "      <td>21994</td>\n",
       "      <td>train</td>\n",
       "      <td>0.000008</td>\n",
       "    </tr>\n",
       "    <tr>\n",
       "      <th>4</th>\n",
       "      <td>[0, 1, 3, 8, 6]</td>\n",
       "      <td>5</td>\n",
       "      <td>X</td>\n",
       "      <td>left column</td>\n",
       "      <td>[397, 1435, 1042]</td>\n",
       "      <td>[1111]</td>\n",
       "      <td>[328]</td>\n",
       "      <td>48696</td>\n",
       "      <td>train</td>\n",
       "      <td>0.000013</td>\n",
       "    </tr>\n",
       "  </tbody>\n",
       "</table>\n",
       "</div>"
      ],
      "text/plain": [
       "      moves played  steps till end state winner win condition  \\\n",
       "0  [0, 1, 3, 2, 6]                     5      X   left column   \n",
       "1  [0, 1, 3, 4, 6]                     5      X   left column   \n",
       "2  [0, 1, 3, 5, 6]                     5      X   left column   \n",
       "3  [0, 1, 3, 7, 6]                     5      X   left column   \n",
       "4  [0, 1, 3, 8, 6]                     5      X   left column   \n",
       "\n",
       "      game rotations horizontal flip vertical flip  training index  \\\n",
       "0  [399, 1439, 1040]          [1114]         [325]          241912   \n",
       "1  [396, 1438, 1043]          [1112]         [327]          190522   \n",
       "2  [398, 1437, 1041]          [1113]         [326]           90275   \n",
       "3  [395, 1436, 1044]          [1110]         [329]           21994   \n",
       "4  [397, 1435, 1042]          [1111]         [328]           48696   \n",
       "\n",
       "  train or test  end move loss  \n",
       "0          test       0.000005  \n",
       "1         train       0.000114  \n",
       "2         train       0.000007  \n",
       "3         train       0.000008  \n",
       "4         train       0.000013  "
      ]
     },
     "execution_count": 52,
     "metadata": {},
     "output_type": "execute_result"
    }
   ],
   "source": [
    "df.head()"
   ]
  },
  {
   "cell_type": "code",
   "execution_count": 34,
   "metadata": {},
   "outputs": [],
   "source": [
    "loss_fn = F.cross_entropy"
   ]
  },
  {
   "cell_type": "code",
   "execution_count": 42,
   "metadata": {},
   "outputs": [
    {
     "name": "stderr",
     "output_type": "stream",
     "text": [
      "  0%|          | 0/255168 [00:00<?, ?it/s]"
     ]
    },
    {
     "name": "stderr",
     "output_type": "stream",
     "text": [
      "100%|██████████| 255168/255168 [04:46<00:00, 891.99it/s]\n"
     ]
    }
   ],
   "source": [
    "target = torch.tensor([0.]*9 + [1.]).to('cuda')\n",
    "with torch.no_grad():\n",
    "    df[\"end move loss\"] = [loss_fn(model(torch.tensor([10]+game))[0,-1], target).to('cpu').item() for game in tqdm.tqdm(df[\"moves played\"])]"
   ]
  },
  {
   "cell_type": "code",
   "execution_count": 57,
   "metadata": {},
   "outputs": [],
   "source": [
    "#save pandas dataframe\n",
    "df.to_csv('../data/prob all 8 layer control-20230718-185339_stats.csv', index=False)"
   ]
  },
  {
   "cell_type": "code",
   "execution_count": 58,
   "metadata": {},
   "outputs": [
    {
     "data": {
      "text/html": [
       "<div>\n",
       "<style scoped>\n",
       "    .dataframe tbody tr th:only-of-type {\n",
       "        vertical-align: middle;\n",
       "    }\n",
       "\n",
       "    .dataframe tbody tr th {\n",
       "        vertical-align: top;\n",
       "    }\n",
       "\n",
       "    .dataframe thead th {\n",
       "        text-align: right;\n",
       "    }\n",
       "</style>\n",
       "<table border=\"1\" class=\"dataframe\">\n",
       "  <thead>\n",
       "    <tr style=\"text-align: right;\">\n",
       "      <th></th>\n",
       "      <th>moves played</th>\n",
       "      <th>steps till end state</th>\n",
       "      <th>winner</th>\n",
       "      <th>win condition</th>\n",
       "      <th>game rotations</th>\n",
       "      <th>horizontal flip</th>\n",
       "      <th>vertical flip</th>\n",
       "      <th>training index</th>\n",
       "      <th>train or test</th>\n",
       "      <th>end move loss</th>\n",
       "    </tr>\n",
       "  </thead>\n",
       "  <tbody>\n",
       "    <tr>\n",
       "      <th>0</th>\n",
       "      <td>[0, 1, 3, 2, 6]</td>\n",
       "      <td>5</td>\n",
       "      <td>X</td>\n",
       "      <td>left column</td>\n",
       "      <td>[399, 1439, 1040]</td>\n",
       "      <td>[1114]</td>\n",
       "      <td>[325]</td>\n",
       "      <td>241912</td>\n",
       "      <td>test</td>\n",
       "      <td>0.000005</td>\n",
       "    </tr>\n",
       "    <tr>\n",
       "      <th>1</th>\n",
       "      <td>[0, 1, 3, 4, 6]</td>\n",
       "      <td>5</td>\n",
       "      <td>X</td>\n",
       "      <td>left column</td>\n",
       "      <td>[396, 1438, 1043]</td>\n",
       "      <td>[1112]</td>\n",
       "      <td>[327]</td>\n",
       "      <td>190522</td>\n",
       "      <td>train</td>\n",
       "      <td>0.000114</td>\n",
       "    </tr>\n",
       "    <tr>\n",
       "      <th>2</th>\n",
       "      <td>[0, 1, 3, 5, 6]</td>\n",
       "      <td>5</td>\n",
       "      <td>X</td>\n",
       "      <td>left column</td>\n",
       "      <td>[398, 1437, 1041]</td>\n",
       "      <td>[1113]</td>\n",
       "      <td>[326]</td>\n",
       "      <td>90275</td>\n",
       "      <td>train</td>\n",
       "      <td>0.000007</td>\n",
       "    </tr>\n",
       "    <tr>\n",
       "      <th>3</th>\n",
       "      <td>[0, 1, 3, 7, 6]</td>\n",
       "      <td>5</td>\n",
       "      <td>X</td>\n",
       "      <td>left column</td>\n",
       "      <td>[395, 1436, 1044]</td>\n",
       "      <td>[1110]</td>\n",
       "      <td>[329]</td>\n",
       "      <td>21994</td>\n",
       "      <td>train</td>\n",
       "      <td>0.000008</td>\n",
       "    </tr>\n",
       "    <tr>\n",
       "      <th>4</th>\n",
       "      <td>[0, 1, 3, 8, 6]</td>\n",
       "      <td>5</td>\n",
       "      <td>X</td>\n",
       "      <td>left column</td>\n",
       "      <td>[397, 1435, 1042]</td>\n",
       "      <td>[1111]</td>\n",
       "      <td>[328]</td>\n",
       "      <td>48696</td>\n",
       "      <td>train</td>\n",
       "      <td>0.000013</td>\n",
       "    </tr>\n",
       "  </tbody>\n",
       "</table>\n",
       "</div>"
      ],
      "text/plain": [
       "      moves played  steps till end state winner win condition  \\\n",
       "0  [0, 1, 3, 2, 6]                     5      X   left column   \n",
       "1  [0, 1, 3, 4, 6]                     5      X   left column   \n",
       "2  [0, 1, 3, 5, 6]                     5      X   left column   \n",
       "3  [0, 1, 3, 7, 6]                     5      X   left column   \n",
       "4  [0, 1, 3, 8, 6]                     5      X   left column   \n",
       "\n",
       "      game rotations horizontal flip vertical flip  training index  \\\n",
       "0  [399, 1439, 1040]          [1114]         [325]          241912   \n",
       "1  [396, 1438, 1043]          [1112]         [327]          190522   \n",
       "2  [398, 1437, 1041]          [1113]         [326]           90275   \n",
       "3  [395, 1436, 1044]          [1110]         [329]           21994   \n",
       "4  [397, 1435, 1042]          [1111]         [328]           48696   \n",
       "\n",
       "  train or test  end move loss  \n",
       "0          test       0.000005  \n",
       "1         train       0.000114  \n",
       "2         train       0.000007  \n",
       "3         train       0.000008  \n",
       "4         train       0.000013  "
      ]
     },
     "execution_count": 58,
     "metadata": {},
     "output_type": "execute_result"
    }
   ],
   "source": [
    "test_df = pd.read_csv(\"../data/prob all 8 layer control-20230718-185339_stats.csv\")\n",
    "test_df.head()"
   ]
  }
 ],
 "metadata": {
  "kernelspec": {
   "display_name": "base",
   "language": "python",
   "name": "python3"
  },
  "language_info": {
   "codemirror_mode": {
    "name": "ipython",
    "version": 3
   },
   "file_extension": ".py",
   "mimetype": "text/x-python",
   "name": "python",
   "nbconvert_exporter": "python",
   "pygments_lexer": "ipython3",
   "version": "3.10.9"
  },
  "orig_nbformat": 4
 },
 "nbformat": 4,
 "nbformat_minor": 2
}
