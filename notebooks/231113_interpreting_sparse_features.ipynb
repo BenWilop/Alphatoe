{
    "cells": [
        {
            "cell_type": "code",
            "execution_count": null,
            "metadata": {},
            "outputs": [],
            "source": [
                "%load_ext autoreload\n",
                "%autoreload 2\n",
                "from alphatoe import models, plot, interpretability, game\n",
                "import pandas as pd\n",
                "import torch\n",
                "from pytorch_memlab import LineProfiler, MemReporter\n",
                "from showmethetypes import SMTT\n",
                "import einops\n",
                "import matplotlib.pyplot as plt\n",
                "from matplotlib.ticker import LogFormatter\n",
                "import numpy as np\n",
                "import tqdm\n",
                "import random"
            ]
        },
        {
            "cell_type": "code",
            "execution_count": null,
            "metadata": {},
            "outputs": [],
            "source": [
                "autoenc = torch.load(\"./sparse_autoencoder_on_activations_07NOV2023.pt\")\n",
                "act_data = torch.load(\"./all_games_act_data.pt\")"
            ]
        },
        {
            "cell_type": "code",
            "execution_count": null,
            "metadata": {},
            "outputs": [],
            "source": [
                "@torch.no_grad()\n",
                "def get_freqs(num_batches=25, local_encoder=None):\n",
                "    if local_encoder is None:\n",
                "        local_encoder = encoder\n",
                "    act_freq_scores = torch.zeros(\n",
                "        local_encoder.W_in.shape[1], dtype=torch.float32\n",
                "    ).cuda()\n",
                "    total = 0\n",
                "    for i in tqdm.trange(num_batches):\n",
                "        tokens = act_data[torch.randperm(len(act_data))][: 2**14].to(\"cuda\")\n",
                "\n",
                "        hidden = local_encoder.get_act_density(tokens)\n",
                "\n",
                "        act_freq_scores += hidden\n",
                "        total += tokens.shape[0]\n",
                "    act_freq_scores /= total\n",
                "    num_dead = (act_freq_scores == 0).float().mean()\n",
                "    print(\"Num dead\", num_dead)\n",
                "    return act_freq_scores"
            ]
        },
        {
            "cell_type": "code",
            "execution_count": null,
            "metadata": {},
            "outputs": [],
            "source": [
                "freqs = get_freqs(local_encoder=autoenc)"
            ]
        },
        {
            "cell_type": "code",
            "execution_count": null,
            "metadata": {},
            "outputs": [],
            "source": [
                "model = interpretability.load_model(\n",
                "    \"../scripts/models/prob all 8 layer control-20230718-185339\"\n",
                ")"
            ]
        },
        {
            "cell_type": "code",
            "execution_count": null,
            "metadata": {},
            "outputs": [],
            "source": [
                "def neuron_posembed_activations(seq):\n",
                "    def hook(module, input, output):\n",
                "        result = output.clone()\n",
                "        module.captured_activations = result\n",
                "\n",
                "    try:\n",
                "        handle = model.blocks[0].mlp.hook_post.register_forward_hook(hook)\n",
                "        _ = model.blocks[0].mlp(seq)\n",
                "        activations = model.blocks[0].mlp.hook_post.captured_activations\n",
                "        handle.remove()\n",
                "    except Exception as e:\n",
                "        handle.remove()\n",
                "        raise e\n",
                "\n",
                "    return activations\n",
                "\n",
                "\n",
                "def neuron_activations(seq):\n",
                "    def hook(module, input, output):\n",
                "        result = output.clone()\n",
                "        module.captured_activations = result\n",
                "\n",
                "    try:\n",
                "        handle = model.blocks[0].mlp.hook_post.register_forward_hook(hook)\n",
                "        _ = model(seq)\n",
                "        activations = model.blocks[0].mlp.hook_post.captured_activations\n",
                "        handle.remove()\n",
                "    except Exception as e:\n",
                "        handle.remove()\n",
                "        raise e\n",
                "\n",
                "    return activations"
            ]
        },
        {
            "cell_type": "code",
            "execution_count": null,
            "metadata": {},
            "outputs": [],
            "source": [
                "games = pd.read_csv(\"../data/prob all 8 layer control-20230718-185339_stats.csv\")\n",
                "games.head()"
            ]
        },
        {
            "cell_type": "code",
            "execution_count": null,
            "metadata": {},
            "outputs": [],
            "source": [
                "end_game_types = list(games[\"first win condition\"].unique())\n",
                "print(end_game_types)"
            ]
        },
        {
            "cell_type": "code",
            "execution_count": null,
            "metadata": {},
            "outputs": [],
            "source": [
                "non_9_move_games = games[games[\"steps till end state\"] != 9]"
            ]
        },
        {
            "cell_type": "code",
            "execution_count": null,
            "metadata": {},
            "outputs": [],
            "source": [
                "# game_types x game x moves\n",
                "game_kinds = [\n",
                "    [\n",
                "        [10] + eval(move)\n",
                "        for move in non_9_move_games[\n",
                "            non_9_move_games[\"first win condition\"] == game_type\n",
                "        ][\"moves played\"]\n",
                "    ]\n",
                "    for game_type in end_game_types[:-1]\n",
                "]"
            ]
        },
        {
            "cell_type": "code",
            "execution_count": null,
            "metadata": {},
            "outputs": [],
            "source": [
                "# 30 seconds\n",
                "game_count = 1_000\n",
                "all_activations = []\n",
                "for games in game_kinds:\n",
                "    kind_activations = []\n",
                "    for _ in range(game_count):\n",
                "        data = torch.tensor(random.choice(games))\n",
                "        kind_activations.append(neuron_activations(data)[0][-1])\n",
                "    all_activations.append(torch.stack(kind_activations))\n",
                "all_activations = torch.cat(all_activations)\n",
                "all_activations = all_activations.detach().cpu().T"
            ]
        },
        {
            "cell_type": "code",
            "execution_count": null,
            "metadata": {},
            "outputs": [],
            "source": [
                "plt.figure(figsize=(10, 10))\n",
                "# dpi\n",
                "plt.figure(dpi=500)\n",
                "plt.imshow(all_activations, cmap=\"jet\", aspect=\"auto\", interpolation=\"none\")\n",
                "# colorbar\n",
                "plt.colorbar()\n",
                "\n",
                "plt.xlabel(\"Games, sorted by end-state\")\n",
                "\n",
                "plt.ylabel(\"Neurons\")\n",
                "# title\n",
                "plt.title(\n",
                "    \"Neuron activations Across 1,000 games sorted by end-state in dMLP=512 Model\",\n",
                "    fontsize=12,\n",
                ")\n",
                "plt.gcf().set_facecolor(\"white\")"
            ]
        },
        {
            "cell_type": "code",
            "execution_count": null,
            "metadata": {},
            "outputs": [],
            "source": [
                "all_activations = all_activations.T"
            ]
        },
        {
            "cell_type": "code",
            "execution_count": null,
            "metadata": {},
            "outputs": [],
            "source": [
                "torch.save(\n",
                "    autoenc.state_dict(), \"./sparse_autoencoder_on_activations_07NOV2023_parameters.pt\"\n",
                ")"
            ]
        },
        {
            "cell_type": "code",
            "execution_count": null,
            "metadata": {},
            "outputs": [],
            "source": [
                "autoenc_cool = models.SparseAutoEncoder(512, 1024).cuda()"
            ]
        },
        {
            "cell_type": "code",
            "execution_count": null,
            "metadata": {},
            "outputs": [],
            "source": [
                "autoenc_cool.load_state_dict(\n",
                "    torch.load(\"./sparse_autoencoder_on_activations_07NOV2023_parameters.pt\")\n",
                ")"
            ]
        },
        {
            "cell_type": "code",
            "execution_count": null,
            "metadata": {},
            "outputs": [],
            "source": [
                "all_activations.to(\"cuda\")"
            ]
        },
        {
            "cell_type": "code",
            "execution_count": null,
            "metadata": {},
            "outputs": [],
            "source": [
                "all_features = torch.stack(\n",
                "    [\n",
                "        autoenc_cool.get_activations(activation.to(\"cuda\"))\n",
                "        for activation in tqdm.tqdm(all_activations)\n",
                "    ]\n",
                ")"
            ]
        },
        {
            "cell_type": "code",
            "execution_count": null,
            "metadata": {},
            "outputs": [],
            "source": [
                "tt = SMTT(\"torch\")"
            ]
        },
        {
            "cell_type": "code",
            "execution_count": null,
            "metadata": {},
            "outputs": [],
            "source": [
                "tt(all_features)"
            ]
        },
        {
            "cell_type": "code",
            "execution_count": null,
            "metadata": {},
            "outputs": [],
            "source": [
                "all_features = all_features.detach().cpu().T"
            ]
        },
        {
            "cell_type": "code",
            "execution_count": null,
            "metadata": {},
            "outputs": [],
            "source": [
                "plt.figure(figsize=(10, 10))\n",
                "# dpi\n",
                "plt.figure(dpi=500)\n",
                "plt.imshow(all_features, cmap=\"jet\", aspect=\"auto\", interpolation=\"none\")\n",
                "# colorbar\n",
                "plt.colorbar()\n",
                "\n",
                "plt.xlabel(\"Games, sorted by end-state\")\n",
                "plt.xticks(\n",
                "    ticks=[0, 1000, 2000, 3000, 4000, 5000, 6000, 7000],\n",
                "    labels=[\"LC\", \"TL -> BR\", \"TR\", \"MC\", \"BL -> TR\", \"RC\", \"MR\", \"BR\"],\n",
                ")\n",
                "# xtick 45 degree\n",
                "plt.xticks(rotation=45)\n",
                "plt.ylabel(\"Features\")\n",
                "# title\n",
                "plt.title(\n",
                "    \"Features Across 1,000 games sorted by end-state in SAE=1024\",\n",
                "    fontsize=12,\n",
                ")\n",
                "plt.gcf().set_facecolor(\"white\")"
            ]
        },
        {
            "cell_type": "code",
            "execution_count": 1,
            "metadata": {},
            "outputs": [],
            "source": [
                "# plot.imshow_div(all_features, width=100, height=100)"
            ]
        },
        {
            "cell_type": "code",
            "execution_count": null,
            "metadata": {},
            "outputs": [],
            "source": [
                "activation_indices = {\n",
                "    245: 4,\n",
                "    496: 3,\n",
                "    566: 0,\n",
                "    600: 8,\n",
                "    631: 1,\n",
                "    639: 7,\n",
                "    811: 2,\n",
                "    830: 5,\n",
                "    931: 6,\n",
                "}\n",
                "\n",
                "win_type_to_moves = {\n",
                "    \"left column\": {0, 3, 6},\n",
                "    \"top left -> bottom right\": {0, 4, 8},\n",
                "    \"top row\": {0, 1, 2},\n",
                "    \"middle column\": {1, 4, 7},\n",
                "    \"bottom left -> top right\": {6, 4, 2},\n",
                "    \"right column\": {2, 5, 8},\n",
                "    \"middle row\": {3, 4, 5},\n",
                "    \"bottom row\": {6, 7, 8},\n",
                "}"
            ]
        },
        {
            "cell_type": "code",
            "execution_count": null,
            "metadata": {},
            "outputs": [],
            "source": [
                "games = pd.read_csv(\"../data/prob all 8 layer control-20230718-185339_stats.csv\")\n",
                "games.head()"
            ]
        },
        {
            "cell_type": "code",
            "execution_count": null,
            "metadata": {},
            "outputs": [],
            "source": [
                "two_col_games = games[[\"moves played\", \"first win condition\"]]"
            ]
        },
        {
            "cell_type": "code",
            "execution_count": null,
            "metadata": {},
            "outputs": [],
            "source": [
                "non_9_move_games = two_col_games.iloc[:100_000]"
            ]
        },
        {
            "cell_type": "code",
            "execution_count": null,
            "metadata": {},
            "outputs": [],
            "source": [
                "len(non_9_move_games)"
            ]
        },
        {
            "cell_type": "code",
            "execution_count": null,
            "metadata": {},
            "outputs": [],
            "source": [
                "all_moves = [\n",
                "    torch.tensor([10] + eval(non_9_move_games[\"moves played\"][i]))\n",
                "    for i in range(100_000)\n",
                "]"
            ]
        },
        {
            "cell_type": "code",
            "execution_count": null,
            "metadata": {},
            "outputs": [],
            "source": [
                "tt(all_moves)"
            ]
        },
        {
            "cell_type": "code",
            "execution_count": null,
            "metadata": {},
            "outputs": [],
            "source": [
                "acts_on_all_games = []\n",
                "for moves in tqdm.tqdm(all_moves):\n",
                "    with torch.no_grad():\n",
                "        acts_on_all_games.append(\n",
                "            autoenc_cool.get_activations(neuron_activations(moves))\n",
                "        )\n",
                "    torch.cuda.empty_cache()"
            ]
        },
        {
            "cell_type": "code",
            "execution_count": null,
            "metadata": {},
            "outputs": [],
            "source": [
                "all_act_tensor = torch.stack([acts[0, -1] for acts in acts_on_all_games])"
            ]
        },
        {
            "cell_type": "code",
            "execution_count": null,
            "metadata": {},
            "outputs": [],
            "source": [
                "tt(all_act_tensor)"
            ]
        },
        {
            "cell_type": "code",
            "execution_count": null,
            "metadata": {},
            "outputs": [],
            "source": [
                "move_indices = torch.zeros(100_000, 9)"
            ]
        },
        {
            "cell_type": "code",
            "execution_count": null,
            "metadata": {},
            "outputs": [],
            "source": [
                "for k, v in activation_indices.items():\n",
                "    move_indices[:, v] = all_act_tensor[:, k]"
            ]
        },
        {
            "cell_type": "code",
            "execution_count": null,
            "metadata": {},
            "outputs": [],
            "source": [
                "tt(move_indices)"
            ]
        },
        {
            "cell_type": "markdown",
            "metadata": {},
            "source": [
                "- All moves playedc\n",
                "- winner moves played\n",
                "- moves played by winner"
            ]
        },
        {
            "cell_type": "code",
            "execution_count": null,
            "metadata": {},
            "outputs": [],
            "source": [
                "all_moves"
            ]
        },
        {
            "cell_type": "code",
            "execution_count": null,
            "metadata": {},
            "outputs": [],
            "source": [
                "game = move_indices[0, [i for i in range(9)]] > 0"
            ]
        },
        {
            "cell_type": "code",
            "execution_count": null,
            "metadata": {},
            "outputs": [],
            "source": [
                "move_indices"
            ]
        },
        {
            "cell_type": "code",
            "execution_count": null,
            "metadata": {},
            "outputs": [],
            "source": [
                "game_cmp = torch.tensor([True if i in all_moves[0][1:] else False for i in range(9)])"
            ]
        },
        {
            "cell_type": "code",
            "execution_count": null,
            "metadata": {},
            "outputs": [],
            "source": [
                "torch.equal(game, game_cmp)"
            ]
        },
        {
            "cell_type": "code",
            "execution_count": null,
            "metadata": {},
            "outputs": [],
            "source": [
                "move"
            ]
        },
        {
            "cell_type": "code",
            "execution_count": null,
            "metadata": {},
            "outputs": [],
            "source": [
                "game_index = 1\n",
                "game = move_indices[game_index, list(range(9))] > 0\n",
                "game_cmp = torch.tensor([i in all_moves[game_index][1:] for i in range(9)])\n",
                "isqual = torch.equal(game, game_cmp)\n",
                "print(game)\n",
                "print(game_cmp)\n",
                "print(isqual)"
            ]
        },
        {
            "cell_type": "code",
            "execution_count": null,
            "metadata": {},
            "outputs": [],
            "source": [
                "is_goods = []\n",
                "\"\"\"\n",
                "Are the acts above 0?\n",
                "are the acts above 0 also the ones that correspond to the moves played?\n",
                "\"\"\"\n",
                "for game_index in range(len(all_moves)):\n",
                "    game = move_indices[game_index, list(range(9))] > 0\n",
                "    game_cmp = torch.tensor([i in all_moves[game_index][1:] for i in range(9)])\n",
                "    is_goods.append(torch.equal(game, game_cmp))"
            ]
        },
        {
            "cell_type": "code",
            "execution_count": null,
            "metadata": {},
            "outputs": [],
            "source": [
                "len(is_goods)"
            ]
        },
        {
            "cell_type": "code",
            "execution_count": null,
            "metadata": {},
            "outputs": [],
            "source": [
                "sum(is_goods)"
            ]
        },
        {
            "cell_type": "code",
            "execution_count": null,
            "metadata": {},
            "outputs": [],
            "source": [
                "is_off_properly = []\n",
                "for game_index in range(len(all_moves)):\n",
                "    game = move_indices[game_index, list(range(9))] > 0\n",
                "    for move, act in enumerate(game):\n",
                "        if act == 0:\n",
                "            pass\n",
                "        else:\n",
                "            if move in all_moves[game_index][1:]:\n",
                "                is_off_properly.append(True)\n",
                "            else:\n",
                "                is_off_properly.append(False)\n",
                "print(len(is_off_properly))\n",
                "print(sum(is_off_properly))\n",
                "print(sum(is_off_properly) / len(is_off_properly))"
            ]
        },
        {
            "cell_type": "markdown",
            "metadata": {},
            "source": [
                "# 99% Monosemantic babyyyyyyy"
            ]
        },
        {
            "cell_type": "markdown",
            "metadata": {},
            "source": [
                "There's two things we can check:\n",
                "- Are the features monosemantic (checking the negative case, making sure that feature isn't present when it shouldn't be present)\n",
                "- Do the features completely cover the features we thought of (is there a 1 to 1 correspondence between the features and moves)"
            ]
        },
        {
            "cell_type": "code",
            "execution_count": null,
            "metadata": {},
            "outputs": [],
            "source": [
                "2 current avenues:\n",
                "- What features do we need to include to get our 64% inference ability up to 99%\n",
                "- What happens if we ablate the features of the autoencoder, does that actually correspond to how we should predict it will?\n"
            ]
        }
    ],
    "metadata": {
        "kernelspec": {
            "display_name": "Python 3",
            "language": "python",
            "name": "python3"
        },
        "language_info": {
            "codemirror_mode": {
                "name": "ipython",
                "version": 3
            },
            "file_extension": ".py",
            "mimetype": "text/x-python",
            "name": "python",
            "nbconvert_exporter": "python",
            "pygments_lexer": "ipython3",
            "version": "3.10.13"
        }
    },
    "nbformat": 4,
    "nbformat_minor": 2
}
