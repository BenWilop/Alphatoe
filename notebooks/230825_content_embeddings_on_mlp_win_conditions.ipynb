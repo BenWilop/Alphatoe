{
 "cells": [
  {
   "cell_type": "code",
   "execution_count": 22,
   "metadata": {},
   "outputs": [
    {
     "name": "stdout",
     "output_type": "stream",
     "text": [
      "The autoreload extension is already loaded. To reload it, use:\n",
      "  %reload_ext autoreload\n"
     ]
    }
   ],
   "source": [
    "%load_ext autoreload\n",
    "%autoreload 2\n",
    "import numpy as np\n",
    "import torch\n",
    "from alphatoe import plot, game, interpretability\n",
    "from transformer_lens import HookedTransformer, HookedTransformerConfig\n",
    "import json\n",
    "import einops\n",
    "import circuitsvis as cv\n",
    "from plotly.subplots import make_subplots\n",
    "import plotly.graph_objects as go\n",
    "\n",
    "import matplotlib.pyplot as plt\n",
    "from importlib import reload\n",
    "from copy import copy\n",
    "import pandas as pd\n",
    "import random\n",
    "from typing import List, Tuple"
   ]
  },
  {
   "cell_type": "markdown",
   "metadata": {},
   "source": [
    "## Looking at the effect of content embedding only on predicting win condition end state\n",
    "Hypothesis - The MLP can use just the content embedding of winning moves to predict a winning '9' end state \n",
    "\n",
    "Result - WRONG BRO - not enough to make the prediction\n",
    "\n",
    "Surprising result - Content embedding alone is enough for the MLP to assign low logits to the moves corresponding to those content embeddings. Content embeddings to the MLP is enough for the don't repeat move behavior. When attention output only is passed directly to the MLP, that is also enough for saying do not repeat move. Attention alone (without the rest of residual stream) is enough to predict a winning end state."
   ]
  },
  {
   "cell_type": "code",
   "execution_count": 23,
   "metadata": {},
   "outputs": [],
   "source": [
    "model = interpretability.load_model(\n",
    "    \"../scripts/models/prob all 8 layer control-20230718-185339\"\n",
    ")"
   ]
  },
  {
   "cell_type": "code",
   "execution_count": 24,
   "metadata": {},
   "outputs": [],
   "source": [
    "def neuron_activations(seq):\n",
    "    def hook(module, input, output):\n",
    "        result = output.clone()\n",
    "        module.captured_activations = result\n",
    "        \n",
    "    try:\n",
    "        handle = model.blocks[0].mlp.hook_post.register_forward_hook(hook)\n",
    "        _ = model(seq)\n",
    "        activations = model.blocks[0].mlp.hook_post.captured_activations\n",
    "        handle.remove()\n",
    "    except Exception as e:\n",
    "        handle.remove()\n",
    "        raise e\n",
    "\n",
    "    return activations\n",
    "\n",
    "def get_content_embedding(seq: List) -> torch.Tensor:\n",
    "    sequence = torch.tensor([seq])\n",
    "    return model.embed(sequence)\n",
    "\n",
    "def get_head_attention(seq: torch.Tensor) -> torch.Tensor:\n",
    "    def hook(module, input, output):\n",
    "        module.attention = output.clone()\n",
    "    try:\n",
    "        handle = model.blocks[0].hook_attn_out.register_forward_hook(hook)\n",
    "        _ = model(seq)\n",
    "        attention = model.blocks[0].hook_attn_out.attention\n",
    "    except Exception as e:\n",
    "        handle.remove()\n",
    "        raise e\n",
    "    \n",
    "    return attention\n",
    "\n"
   ]
  },
  {
   "cell_type": "code",
   "execution_count": 55,
   "metadata": {},
   "outputs": [
    {
     "data": {
      "text/plain": [
       "torch.Size([1, 1, 128])"
      ]
     },
     "execution_count": 55,
     "metadata": {},
     "output_type": "execute_result"
    }
   ],
   "source": [
    "winning_moves = [0,1,2]\n",
    "content_embedding = get_content_embedding(winning_moves)\n",
    "win_con_embedding = torch.sum(content_embedding[0], dim=0).view(1,1,128)\n",
    "win_con_embedding.shape"
   ]
  },
  {
   "cell_type": "code",
   "execution_count": 54,
   "metadata": {},
   "outputs": [
    {
     "data": {
      "text/plain": [
       "torch.Size([1, 1, 128])"
      ]
     },
     "execution_count": 54,
     "metadata": {},
     "output_type": "execute_result"
    }
   ],
   "source": [
    "positional_seq = torch.tensor([10]*10).view(1,10)\n",
    "pos_emb = model.pos_embed(positional_seq)\n",
    "pos_emb_win = [pos_emb[0, i] for i in [1,3,5]]\n",
    "pos_emb_win = torch.sum(torch.stack(pos_emb_win), dim=0).view(1,1,128)\n",
    "pos_emb_win.shape"
   ]
  },
  {
   "cell_type": "code",
   "execution_count": 56,
   "metadata": {},
   "outputs": [],
   "source": [
    "win_embedding = win_con_embedding + pos_emb_win"
   ]
  },
  {
   "cell_type": "code",
   "execution_count": 57,
   "metadata": {},
   "outputs": [
    {
     "data": {
      "text/plain": [
       "tensor([[[ -4.7482,  -3.0545,  -5.9183,   4.1520,   2.3924,   7.5088,   3.7037,\n",
       "            6.1513,   7.5646, -14.8309]]], device='cuda:0',\n",
       "       grad_fn=<UnsafeViewBackward0>)"
      ]
     },
     "execution_count": 57,
     "metadata": {},
     "output_type": "execute_result"
    }
   ],
   "source": [
    "logits_win_con = model.blocks[0].mlp(win_embedding) @ model.W_U\n",
    "logits_win_con"
   ]
  },
  {
   "cell_type": "code",
   "execution_count": 27,
   "metadata": {},
   "outputs": [
    {
     "data": {
      "text/plain": [
       "tensor([[[  16.4406,   16.4415,   16.4427,   16.4385,   16.4421,   16.4415,\n",
       "            16.4397,   16.4371,   16.4422, -117.7469],\n",
       "         [ -73.5781,   13.6657,   13.6675,   13.6603,   13.6619,   13.6677,\n",
       "            13.6644,   13.6623,   13.6662,  -41.8547],\n",
       "         [ -28.0465,   19.5765,   14.9150,   16.1395,   14.9450,   16.9700,\n",
       "            15.4190,   17.5065,   15.6091,  -87.9268],\n",
       "         [ -30.0472,  -29.6935,   13.7019,   14.8522,   14.6196,   16.0425,\n",
       "            13.7595,   14.6526,   15.0848,  -41.4792],\n",
       "         [ -19.3795,  -10.7714,   14.2134,   15.0274,   14.2680,   15.9633,\n",
       "            14.2001,   17.0041,   14.0319,  -64.8916],\n",
       "         [ -33.0726,  -23.2774,  -34.1688,   10.0674,   10.0670,   10.6562,\n",
       "             9.0185,   10.3589,   10.4061,   18.4578]]], device='cuda:0',\n",
       "       grad_fn=<AddBackward0>)"
      ]
     },
     "execution_count": 27,
     "metadata": {},
     "output_type": "execute_result"
    }
   ],
   "source": [
    "fake_win = torch.tensor([10, 0, 10, 1, 10, 2])\n",
    "logits = model(fake_win)\n",
    "logits"
   ]
  },
  {
   "cell_type": "code",
   "execution_count": 28,
   "metadata": {},
   "outputs": [
    {
     "data": {
      "text/plain": [
       "torch.Size([128])"
      ]
     },
     "execution_count": 28,
     "metadata": {},
     "output_type": "execute_result"
    }
   ],
   "source": [
    "attention = get_head_attention(fake_win)\n",
    "sliced = attention[0,-1]\n",
    "sliced.shape"
   ]
  },
  {
   "cell_type": "code",
   "execution_count": 29,
   "metadata": {},
   "outputs": [
    {
     "data": {
      "text/plain": [
       "torch.Size([2, 128])"
      ]
     },
     "execution_count": 29,
     "metadata": {},
     "output_type": "execute_result"
    }
   ],
   "source": [
    "stacked = torch.stack([sliced, win_con_embedding[0,0]])\n",
    "stacked.shape"
   ]
  },
  {
   "cell_type": "code",
   "execution_count": 30,
   "metadata": {},
   "outputs": [
    {
     "data": {
      "text/plain": [
       "<matplotlib.colorbar.Colorbar at 0x7fb175df76a0>"
      ]
     },
     "execution_count": 30,
     "metadata": {},
     "output_type": "execute_result"
    },
    {
     "data": {
      "image/png": "[encoded data removed]",
      "text/plain": [
       "<Figure size 432x288 with 2 Axes>"
      ]
     },
     "metadata": {
      "needs_background": "light"
     },
     "output_type": "display_data"
    }
   ],
   "source": [
    "plt.imshow(stacked.detach().cpu(), cmap='hot', aspect='auto',interpolation='none')\n",
    "plt.colorbar()"
   ]
  },
  {
   "cell_type": "code",
   "execution_count": 31,
   "metadata": {},
   "outputs": [
    {
     "data": {
      "text/plain": [
       "tensor([[[ 13.2350,  12.3861,  12.3048,  13.7939,  14.1248,  14.4413,  11.7881,\n",
       "           10.6163,  16.0264, -96.4960],\n",
       "         [-64.7380,  11.2776,  12.2691,  13.5469,  14.5543,  11.4756,  11.1408,\n",
       "           10.8533,  11.1956, -37.0330],\n",
       "         [-30.3521,  14.0851,  11.9104,  15.7339,  15.0141,  13.4204,  11.8107,\n",
       "           11.8507,  14.9609, -69.2896],\n",
       "         [-32.3730, -22.5299,  10.4497,  13.5965,  13.2419,  10.8109,  11.0146,\n",
       "           10.9845,  10.9871, -28.7890],\n",
       "         [-22.2677, -15.6074,  10.3264,  14.3509,  13.1118,  11.0505,  10.2053,\n",
       "           11.2858,  11.8497, -41.8312],\n",
       "         [-33.9930, -25.0382, -25.0736,   9.9151,  10.0481,   6.3351,   6.9709,\n",
       "            8.4722,   7.8148,  21.1565]]], device='cuda:0',\n",
       "       grad_fn=<UnsafeViewBackward0>)"
      ]
     },
     "execution_count": 31,
     "metadata": {},
     "output_type": "execute_result"
    }
   ],
   "source": [
    "logits_attn = model.blocks[0].mlp(attention) @ model.W_U\n",
    "logits_attn"
   ]
  },
  {
   "cell_type": "code",
   "execution_count": 40,
   "metadata": {},
   "outputs": [],
   "source": [
    "attention_minus_content = attention[0,-1] - win_con_embedding[0,0]\n",
    "attention_minus_content = attention_minus_content.view(1,1,128)"
   ]
  },
  {
   "cell_type": "code",
   "execution_count": 41,
   "metadata": {},
   "outputs": [
    {
     "data": {
      "text/plain": [
       "tensor([[[-27.3886, -19.0932, -17.6540,   7.4534,   8.3427,   0.2983,   5.0659,\n",
       "            6.5888,   3.4145,  19.5694]]], device='cuda:0',\n",
       "       grad_fn=<UnsafeViewBackward0>)"
      ]
     },
     "execution_count": 41,
     "metadata": {},
     "output_type": "execute_result"
    }
   ],
   "source": [
    "logits_attn_minus_content = model.blocks[0].mlp(attention_minus_content) @ model.W_U\n",
    "logits_attn_minus_content"
   ]
  }
 ],
 "metadata": {
  "kernelspec": {
   "display_name": "Python 3",
   "language": "python",
   "name": "python3"
  },
  "language_info": {
   "codemirror_mode": {
    "name": "ipython",
    "version": 3
   },
   "file_extension": ".py",
   "mimetype": "text/x-python",
   "name": "python",
   "nbconvert_exporter": "python",
   "pygments_lexer": "ipython3",
   "version": "3.10.9"
  },
  "orig_nbformat": 4
 },
 "nbformat": 4,
 "nbformat_minor": 2
}
