{
 "cells": [
  {
   "cell_type": "code",
   "execution_count": null,
   "metadata": {},
   "outputs": [],
   "source": [
    "%load_ext autoreload\n",
    "%autoreload 2\n",
    "from alphatoe import models, plot, interpretability, game\n",
    "import pandas as pd\n",
    "import torch\n",
    "from pytorch_memlab import LineProfiler, MemReporter\n",
    "from showmethetypes import SMTT\n",
    "import einops\n",
    "import matplotlib.pyplot as plt\n",
    "from matplotlib.ticker import LogFormatter\n",
    "import numpy as np\n",
    "import tqdm\n",
    "import random"
   ]
  },
  {
   "cell_type": "code",
   "execution_count": null,
   "metadata": {},
   "outputs": [],
   "source": [
    "autoenc = models.SparseAutoEncoder(512, 512).cuda()\n",
    "autoenc.load_state_dict(torch.load(\"./512_sparse_autoencoder_on_activations_20NOV2023_parameters.pt\"))"
   ]
  },
  {
   "cell_type": "code",
   "execution_count": null,
   "metadata": {},
   "outputs": [],
   "source": [
    "act_data = torch.load(\"./all_games_act_data.pt\")"
   ]
  },
  {
   "cell_type": "code",
   "execution_count": null,
   "metadata": {},
   "outputs": [],
   "source": [
    "model = interpretability.load_model(\n",
    "    \"../scripts/models/prob all 8 layer control-20230718-185339\"\n",
    ")"
   ]
  },
  {
   "cell_type": "code",
   "execution_count": null,
   "metadata": {},
   "outputs": [],
   "source": [
    "def neuron_posembed_activations(seq):\n",
    "    def hook(module, input, output):\n",
    "        result = output.clone()\n",
    "        module.captured_activations = result\n",
    "\n",
    "    try:\n",
    "        handle = model.blocks[0].mlp.hook_post.register_forward_hook(hook)\n",
    "        _ = model.blocks[0].mlp(seq)\n",
    "        activations = model.blocks[0].mlp.hook_post.captured_activations\n",
    "        handle.remove()\n",
    "    except Exception as e:\n",
    "        handle.remove()\n",
    "        raise e\n",
    "\n",
    "    return activations\n",
    "\n",
    "\n",
    "def neuron_activations(seq):\n",
    "    def hook(module, input, output):\n",
    "        result = output.clone()\n",
    "        module.captured_activations = result\n",
    "\n",
    "    try:\n",
    "        handle = model.blocks[0].mlp.hook_post.register_forward_hook(hook)\n",
    "        _ = model(seq)\n",
    "        activations = model.blocks[0].mlp.hook_post.captured_activations\n",
    "        handle.remove()\n",
    "    except Exception as e:\n",
    "        handle.remove()\n",
    "        raise e\n",
    "\n",
    "    return activations"
   ]
  },
  {
   "cell_type": "code",
   "execution_count": null,
   "metadata": {},
   "outputs": [],
   "source": [
    "games = pd.read_csv(\"../data/prob all 8 layer control-20230718-185339_stats.csv\")\n",
    "end_game_types = list(games[\"first win condition\"].unique())\n",
    "non_9_move_games = games[games[\"steps till end state\"] != 9]\n",
    "# game_types x game x moves\n",
    "game_kinds = [\n",
    "    [\n",
    "        [10] + eval(move)\n",
    "        for move in non_9_move_games[\n",
    "            non_9_move_games[\"first win condition\"] == game_type\n",
    "        ][\"moves played\"]\n",
    "    ]\n",
    "    for game_type in end_game_types[:-1]\n",
    "]"
   ]
  },
  {
   "cell_type": "code",
   "execution_count": null,
   "metadata": {},
   "outputs": [],
   "source": [
    "# 30 seconds\n",
    "game_count = 1_000\n",
    "all_activations = []\n",
    "for games in game_kinds:\n",
    "    kind_activations = []\n",
    "    for _ in range(game_count):\n",
    "        data = torch.tensor(random.choice(games))\n",
    "        kind_activations.append(neuron_activations(data)[0][-1])\n",
    "    all_activations.append(torch.stack(kind_activations))\n",
    "all_activations = torch.cat(all_activations)\n",
    "all_activations = all_activations.detach().cpu().T"
   ]
  },
  {
   "cell_type": "code",
   "execution_count": null,
   "metadata": {},
   "outputs": [],
   "source": [
    "all_activations = all_activations.T\n",
    "all_activations.to(\"cuda\")"
   ]
  },
  {
   "cell_type": "code",
   "execution_count": null,
   "metadata": {},
   "outputs": [],
   "source": [
    "all_features = torch.stack(\n",
    "    [\n",
    "        autoenc.get_activations(activation.to(\"cuda\"))\n",
    "        for activation in tqdm.tqdm(all_activations)\n",
    "    ]\n",
    ")"
   ]
  },
  {
   "cell_type": "code",
   "execution_count": null,
   "metadata": {},
   "outputs": [],
   "source": [
    "all_features = all_features.detach().cpu().T"
   ]
  },
  {
   "cell_type": "code",
   "execution_count": null,
   "metadata": {},
   "outputs": [],
   "source": [
    "plt.figure(figsize=(10, 10))\n",
    "# dpi\n",
    "plt.figure(dpi=500)\n",
    "plt.imshow(all_features, cmap=\"jet\", aspect=\"auto\", interpolation=\"none\")\n",
    "# colorbar\n",
    "plt.colorbar()\n",
    "\n",
    "plt.xlabel(\"Games, sorted by end-state\")\n",
    "plt.xticks(\n",
    "    ticks=[0, 1000, 2000, 3000, 4000, 5000, 6000, 7000],\n",
    "    labels=[\"LC\", \"TL -> BR\", \"TR\", \"MC\", \"BL -> TR\", \"RC\", \"MR\", \"BR\"],\n",
    ")\n",
    "# xtick 45 degree\n",
    "plt.xticks(rotation=45)\n",
    "plt.ylabel(\"Features\")\n",
    "# title\n",
    "plt.title(\n",
    "    \"Features Across 1,000 games sorted by end-state in SAE=1024\",\n",
    "    fontsize=12,\n",
    ")\n",
    "plt.gcf().set_facecolor(\"white\")"
   ]
  }
 ],
 "metadata": {
  "kernelspec": {
   "display_name": ".venv",
   "language": "python",
   "name": "python3"
  },
  "language_info": {
   "codemirror_mode": {
    "name": "ipython",
    "version": 3
   },
   "file_extension": ".py",
   "mimetype": "text/x-python",
   "name": "python",
   "nbconvert_exporter": "python",
   "pygments_lexer": "ipython3",
   "version": "3.10.9"
  }
 },
 "nbformat": 4,
 "nbformat_minor": 2
}
