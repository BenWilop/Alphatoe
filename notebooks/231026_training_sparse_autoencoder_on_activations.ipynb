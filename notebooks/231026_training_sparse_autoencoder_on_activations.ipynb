{
 "cells": [
  {
   "cell_type": "code",
   "execution_count": 122,
   "metadata": {},
   "outputs": [],
   "source": [
    "from alphatoe import models, plot, interpretability, game\n",
    "import pandas as pd\n",
    "import torch\n",
    "from pytorch_memlab import LineProfiler, MemReporter\n",
    "from showmethetypes import SMTT\n",
    "import einops\n",
    "import matplotlib.pyplot as plt\n",
    "from matplotlib.ticker import LogFormatter\n",
    "import numpy as np\n",
    "import tqdm"
   ]
  },
  {
   "cell_type": "code",
   "execution_count": 2,
   "metadata": {},
   "outputs": [],
   "source": [
    "tt = SMTT(\"torch\")"
   ]
  },
  {
   "cell_type": "code",
   "execution_count": 3,
   "metadata": {},
   "outputs": [],
   "source": [
    "model = interpretability.load_model(\n",
    "    \"../scripts/models/prob all 8 layer control-20230718-185339\"\n",
    ")"
   ]
  },
  {
   "cell_type": "code",
   "execution_count": 4,
   "metadata": {},
   "outputs": [
    {
     "name": "stderr",
     "output_type": "stream",
     "text": [
      "/tmp/ipykernel_15197/629368561.py:1: DtypeWarning: Columns (11) have mixed types. Specify dtype option on import or set low_memory=False.\n",
      "  games = pd.read_csv(\"../data/prob all 8 layer control-20230718-185339_stats.csv\")\n"
     ]
    },
    {
     "data": {
      "text/html": [
       "<div>\n",
       "<style scoped>\n",
       "    .dataframe tbody tr th:only-of-type {\n",
       "        vertical-align: middle;\n",
       "    }\n",
       "\n",
       "    .dataframe tbody tr th {\n",
       "        vertical-align: top;\n",
       "    }\n",
       "\n",
       "    .dataframe thead th {\n",
       "        text-align: right;\n",
       "    }\n",
       "</style>\n",
       "<table border=\"1\" class=\"dataframe\">\n",
       "  <thead>\n",
       "    <tr style=\"text-align: right;\">\n",
       "      <th></th>\n",
       "      <th>moves played</th>\n",
       "      <th>steps till end state</th>\n",
       "      <th>winner</th>\n",
       "      <th>rotation 1</th>\n",
       "      <th>rotation 2</th>\n",
       "      <th>rotation 3</th>\n",
       "      <th>horizontal flip</th>\n",
       "      <th>vertical flip</th>\n",
       "      <th>training index</th>\n",
       "      <th>train or test</th>\n",
       "      <th>first win condition</th>\n",
       "      <th>second win condition</th>\n",
       "      <th>end move loss</th>\n",
       "    </tr>\n",
       "  </thead>\n",
       "  <tbody>\n",
       "    <tr>\n",
       "      <th>0</th>\n",
       "      <td>[0, 1, 3, 2, 6]</td>\n",
       "      <td>5</td>\n",
       "      <td>X</td>\n",
       "      <td>399</td>\n",
       "      <td>1439</td>\n",
       "      <td>1040</td>\n",
       "      <td>1114</td>\n",
       "      <td>325</td>\n",
       "      <td>241912</td>\n",
       "      <td>test</td>\n",
       "      <td>left column</td>\n",
       "      <td>NaN</td>\n",
       "      <td>0.000005</td>\n",
       "    </tr>\n",
       "    <tr>\n",
       "      <th>1</th>\n",
       "      <td>[0, 1, 3, 4, 6]</td>\n",
       "      <td>5</td>\n",
       "      <td>X</td>\n",
       "      <td>396</td>\n",
       "      <td>1438</td>\n",
       "      <td>1043</td>\n",
       "      <td>1112</td>\n",
       "      <td>327</td>\n",
       "      <td>190522</td>\n",
       "      <td>train</td>\n",
       "      <td>left column</td>\n",
       "      <td>NaN</td>\n",
       "      <td>0.000114</td>\n",
       "    </tr>\n",
       "    <tr>\n",
       "      <th>2</th>\n",
       "      <td>[0, 1, 3, 5, 6]</td>\n",
       "      <td>5</td>\n",
       "      <td>X</td>\n",
       "      <td>398</td>\n",
       "      <td>1437</td>\n",
       "      <td>1041</td>\n",
       "      <td>1113</td>\n",
       "      <td>326</td>\n",
       "      <td>90275</td>\n",
       "      <td>train</td>\n",
       "      <td>left column</td>\n",
       "      <td>NaN</td>\n",
       "      <td>0.000007</td>\n",
       "    </tr>\n",
       "    <tr>\n",
       "      <th>3</th>\n",
       "      <td>[0, 1, 3, 7, 6]</td>\n",
       "      <td>5</td>\n",
       "      <td>X</td>\n",
       "      <td>395</td>\n",
       "      <td>1436</td>\n",
       "      <td>1044</td>\n",
       "      <td>1110</td>\n",
       "      <td>329</td>\n",
       "      <td>21994</td>\n",
       "      <td>train</td>\n",
       "      <td>left column</td>\n",
       "      <td>NaN</td>\n",
       "      <td>0.000008</td>\n",
       "    </tr>\n",
       "    <tr>\n",
       "      <th>4</th>\n",
       "      <td>[0, 1, 3, 8, 6]</td>\n",
       "      <td>5</td>\n",
       "      <td>X</td>\n",
       "      <td>397</td>\n",
       "      <td>1435</td>\n",
       "      <td>1042</td>\n",
       "      <td>1111</td>\n",
       "      <td>328</td>\n",
       "      <td>48696</td>\n",
       "      <td>train</td>\n",
       "      <td>left column</td>\n",
       "      <td>NaN</td>\n",
       "      <td>0.000013</td>\n",
       "    </tr>\n",
       "  </tbody>\n",
       "</table>\n",
       "</div>"
      ],
      "text/plain": [
       "      moves played  steps till end state winner  rotation 1  rotation 2  \\\n",
       "0  [0, 1, 3, 2, 6]                     5      X         399        1439   \n",
       "1  [0, 1, 3, 4, 6]                     5      X         396        1438   \n",
       "2  [0, 1, 3, 5, 6]                     5      X         398        1437   \n",
       "3  [0, 1, 3, 7, 6]                     5      X         395        1436   \n",
       "4  [0, 1, 3, 8, 6]                     5      X         397        1435   \n",
       "\n",
       "   rotation 3  horizontal flip  vertical flip  training index train or test  \\\n",
       "0        1040             1114            325          241912          test   \n",
       "1        1043             1112            327          190522         train   \n",
       "2        1041             1113            326           90275         train   \n",
       "3        1044             1110            329           21994         train   \n",
       "4        1042             1111            328           48696         train   \n",
       "\n",
       "  first win condition second win condition  end move loss  \n",
       "0         left column                  NaN       0.000005  \n",
       "1         left column                  NaN       0.000114  \n",
       "2         left column                  NaN       0.000007  \n",
       "3         left column                  NaN       0.000008  \n",
       "4         left column                  NaN       0.000013  "
      ]
     },
     "execution_count": 4,
     "metadata": {},
     "output_type": "execute_result"
    }
   ],
   "source": [
    "games = pd.read_csv(\"../data/prob all 8 layer control-20230718-185339_stats.csv\")\n",
    "games.head()"
   ]
  },
  {
   "cell_type": "markdown",
   "metadata": {},
   "source": [
    "- Sort games by game length [X]\n",
    "- batch inference for games of length [X]\n",
    "- extract activations with hooks [X]\n",
    "- train autoencoder on data reconstruction (anthropic has tips here) [X]\n",
    "- find good metrics + start looking at data (anthropic has tips here)"
   ]
  },
  {
   "cell_type": "code",
   "execution_count": 5,
   "metadata": {},
   "outputs": [],
   "source": [
    "all_games = game.generate_all_games([game.Board()])"
   ]
  },
  {
   "cell_type": "code",
   "execution_count": 6,
   "metadata": {},
   "outputs": [
    {
     "data": {
      "text/plain": [
       "255168"
      ]
     },
     "execution_count": 6,
     "metadata": {},
     "output_type": "execute_result"
    }
   ],
   "source": [
    "len(all_games)"
   ]
  },
  {
   "cell_type": "code",
   "execution_count": 7,
   "metadata": {},
   "outputs": [],
   "source": [
    "games_len_dict = {5: [], 6: [], 7: [], 8: [], 9: []}\n",
    "for game in all_games:\n",
    "    games_len_dict[len(game.moves_played)].append(game.moves_played)"
   ]
  },
  {
   "cell_type": "code",
   "execution_count": 8,
   "metadata": {},
   "outputs": [
    {
     "name": "stdout",
     "output_type": "stream",
     "text": [
      "255168\n"
     ]
    }
   ],
   "source": [
    "s = 0\n",
    "for key in games_len_dict.keys():\n",
    "    s += len(games_len_dict[key])\n",
    "print(s)"
   ]
  },
  {
   "cell_type": "code",
   "execution_count": 9,
   "metadata": {},
   "outputs": [],
   "source": [
    "games_len_tensors = {}\n",
    "for key in games_len_dict.keys():\n",
    "    games_len_tensors[key] = torch.stack(\n",
    "        [torch.tensor([10] + game) for game in games_len_dict[key]]\n",
    "    )"
   ]
  },
  {
   "cell_type": "code",
   "execution_count": 10,
   "metadata": {},
   "outputs": [
    {
     "data": {
      "text/plain": [
       "dict_keys([5, 6, 7, 8, 9])"
      ]
     },
     "execution_count": 10,
     "metadata": {},
     "output_type": "execute_result"
    }
   ],
   "source": [
    "games_len_tensors.keys()"
   ]
  },
  {
   "cell_type": "code",
   "execution_count": 11,
   "metadata": {},
   "outputs": [
    {
     "data": {
      "text/plain": [
       "device(type='cpu')"
      ]
     },
     "execution_count": 11,
     "metadata": {},
     "output_type": "execute_result"
    }
   ],
   "source": [
    "games_len_tensors[9].device"
   ]
  },
  {
   "cell_type": "code",
   "execution_count": 12,
   "metadata": {},
   "outputs": [],
   "source": [
    "# Activation hook\n",
    "def neuron_activations(seq):\n",
    "    def hook(module, input, output):\n",
    "        result = output.clone()\n",
    "        module.captured_activations = result\n",
    "\n",
    "    try:\n",
    "        with torch.inference_mode():\n",
    "            handle = model.blocks[0].mlp.hook_post.register_forward_hook(hook)\n",
    "            _ = model(seq)\n",
    "            activations = model.blocks[0].mlp.hook_post.captured_activations\n",
    "            handle.remove()\n",
    "    except Exception as e:\n",
    "        handle.remove()\n",
    "        raise e\n",
    "\n",
    "    return activations"
   ]
  },
  {
   "cell_type": "code",
   "execution_count": 13,
   "metadata": {},
   "outputs": [],
   "source": [
    "# a = neuron_activations(games_len_tensors[5])[:, -1]"
   ]
  },
  {
   "cell_type": "code",
   "execution_count": 14,
   "metadata": {},
   "outputs": [],
   "source": [
    "# a.numel() * a.element_size()"
   ]
  },
  {
   "cell_type": "code",
   "execution_count": 15,
   "metadata": {},
   "outputs": [],
   "source": [
    "# b = neuron_activations(games_len_tensors[9])\n",
    "# reporter = MemReporter()\n",
    "# reporter.report()"
   ]
  },
  {
   "cell_type": "code",
   "execution_count": 16,
   "metadata": {},
   "outputs": [],
   "source": [
    "torch.cuda.empty_cache()"
   ]
  },
  {
   "cell_type": "code",
   "execution_count": 17,
   "metadata": {},
   "outputs": [],
   "source": [
    "length = games_len_tensors[9].shape[0]\n",
    "batchy_size = length // 4"
   ]
  },
  {
   "cell_type": "code",
   "execution_count": 18,
   "metadata": {},
   "outputs": [
    {
     "name": "stdout",
     "output_type": "stream",
     "text": [
      "0\n",
      "cuda:0\n",
      "1\n",
      "cuda:0\n",
      "2\n"
     ]
    },
    {
     "name": "stderr",
     "output_type": "stream",
     "text": [
      "Batch 2: 100%|██████████| 2/2 [00:00<00:00,  6.50it/s]\n"
     ]
    },
    {
     "name": "stdout",
     "output_type": "stream",
     "text": [
      "cuda:0\n",
      "3\n"
     ]
    },
    {
     "name": "stderr",
     "output_type": "stream",
     "text": [
      "Batch 3: 100%|██████████| 3/3 [00:00<00:00,  5.57it/s]\n"
     ]
    },
    {
     "name": "stdout",
     "output_type": "stream",
     "text": [
      "cuda:0\n",
      "4\n"
     ]
    },
    {
     "name": "stderr",
     "output_type": "stream",
     "text": [
      "Batch 4: 100%|██████████| 4/4 [00:01<00:00,  3.74it/s]"
     ]
    },
    {
     "name": "stdout",
     "output_type": "stream",
     "text": [
      "cuda:0\n"
     ]
    },
    {
     "name": "stderr",
     "output_type": "stream",
     "text": [
      "\n"
     ]
    }
   ],
   "source": [
    "# Inference loop\n",
    "# will there be a difference across game lengths?\n",
    "# Doesn't fit in memory?\n",
    "# 512 neurons * 255168 games * 32 bit floats * 10 seq len = 5.22 gigabytes???\n",
    "\n",
    "all_acts = []\n",
    "for i, key in enumerate(games_len_tensors.keys()):\n",
    "    print(i)\n",
    "    if games_len_tensors[key].shape[0] < batchy_size:\n",
    "        acts = neuron_activations(games_len_tensors[key])\n",
    "        all_acts.append(acts.to(\"cpu\"))\n",
    "    else:\n",
    "        for j in tqdm.trange(\n",
    "            0, games_len_tensors[key].shape[0], batchy_size, desc=f\"Batch {i}\"\n",
    "        ):\n",
    "            acts = neuron_activations(games_len_tensors[key][j : j + batchy_size])\n",
    "            all_acts.append(acts.to(\"cpu\"))\n",
    "    print(acts.device)\n",
    "    torch.cuda.empty_cache()"
   ]
  },
  {
   "cell_type": "code",
   "execution_count": 19,
   "metadata": {},
   "outputs": [
    {
     "name": "stderr",
     "output_type": "stream",
     "text": [
      "/home/obayyub/.local/lib/python3.10/site-packages/torch/distributed/distributed_c10d.py:181: UserWarning: torch.distributed.reduce_op is deprecated, please use torch.distributed.ReduceOp instead\n",
      "  warnings.warn(\n"
     ]
    },
    {
     "name": "stdout",
     "output_type": "stream",
     "text": [
      "Element type                                            Size  Used MEM\n",
      "-------------------------------------------------------------------------------\n",
      "Storage on cpu\n",
      "Tensor0                                      (31968, 8, 512)   499.50M\n",
      "Tensor1                                      (15984, 8, 512)   249.75M\n",
      "Tensor2                                      (31968, 9, 512)   561.94M\n",
      "Tensor3                                      (31968, 9, 512)   561.94M\n",
      "Tensor4                                       (8640, 9, 512)   151.88M\n",
      "Tensor5                                     (31968, 10, 512)   624.38M\n",
      "Tensor6                                     (31968, 10, 512)   624.38M\n",
      "Tensor7                                     (31968, 10, 512)   624.38M\n",
      "Tensor8                                     (31968, 10, 512)   624.38M\n",
      "Tensor9                                         (127872, 10)     9.76M\n",
      "Tensor10                                      (1440, 6, 512)    16.88M\n",
      "Tensor11                                      (5328, 7, 512)    72.84M\n",
      "Tensor12                                           (1440, 6)    67.50K\n",
      "Tensor13                                           (5328, 7)   291.50K\n",
      "Tensor14                                          (47952, 8)     2.93M\n",
      "Tensor15                                          (72576, 9)     4.98M\n",
      "-------------------------------------------------------------------------------\n",
      "Total Tensors: 1211426928 \tUsed Memory: 4.52G\n",
      "-------------------------------------------------------------------------------\n",
      "-------------------------------------------------------------------------------\n",
      "Storage on cuda:0\n",
      "Tensor16                                    (31968, 10, 512)   624.38M\n",
      "Parameter17                                        (11, 128)     5.50K\n",
      "Parameter18                                        (10, 128)     5.00K\n",
      "Parameter19                                        (128, 10)     5.00K\n",
      "Parameter20                                            (10,)   512.00B\n",
      "Parameter21                                     (8, 128, 16)    64.00K\n",
      "Parameter22                                     (8, 128, 16)    64.00K\n",
      "Parameter23                                     (8, 128, 16)    64.00K\n",
      "Parameter24                                     (8, 16, 128)    64.00K\n",
      "Parameter25                                          (8, 16)   512.00B\n",
      "Parameter26                                          (8, 16)   512.00B\n",
      "Parameter27                                          (8, 16)   512.00B\n",
      "Parameter28                                           (128,)   512.00B\n",
      "Tensor29                                            (10, 10)   512.00B\n",
      "Tensor30                                                (1,)   512.00B\n",
      "Parameter31                                       (128, 512)   256.00K\n",
      "Parameter32                                           (512,)     2.00K\n",
      "Parameter33                                       (512, 128)   256.00K\n",
      "Parameter34                                           (128,)   512.00B\n",
      "-------------------------------------------------------------------------------\n",
      "Total Tensors: 163877999 \tUsed Memory: 625.15M\n",
      "The allocated memory on cuda:0: 625.15M\n",
      "-------------------------------------------------------------------------------\n"
     ]
    }
   ],
   "source": [
    "reporter = MemReporter()\n",
    "reporter.report()"
   ]
  },
  {
   "cell_type": "code",
   "execution_count": 20,
   "metadata": {},
   "outputs": [
    {
     "data": {
      "text/plain": [
       "device(type='cpu')"
      ]
     },
     "execution_count": 20,
     "metadata": {},
     "output_type": "execute_result"
    }
   ],
   "source": [
    "games_len_tensors[9].device"
   ]
  },
  {
   "cell_type": "code",
   "execution_count": 33,
   "metadata": {},
   "outputs": [
    {
     "name": "stdout",
     "output_type": "stream",
     "text": [
      "Tensor (dtype: torch.float32)\n",
      "    |  (device: cpu)\n",
      "    |__dim_0 (1440)\n",
      "    |__dim_1 (6)\n",
      "    |__dim_2 (512)\n",
      "Tensor (dtype: torch.float32)\n",
      "    |  (device: cpu)\n",
      "    |__dim_0 (5328)\n",
      "    |__dim_1 (7)\n",
      "    |__dim_2 (512)\n",
      "Tensor (dtype: torch.float32)\n",
      "    |  (device: cpu)\n",
      "    |__dim_0 (31968)\n",
      "    |__dim_1 (8)\n",
      "    |__dim_2 (512)\n",
      "Tensor (dtype: torch.float32)\n",
      "    |  (device: cpu)\n",
      "    |__dim_0 (15984)\n",
      "    |__dim_1 (8)\n",
      "    |__dim_2 (512)\n",
      "Tensor (dtype: torch.float32)\n",
      "    |  (device: cpu)\n",
      "    |__dim_0 (31968)\n",
      "    |__dim_1 (9)\n",
      "    |__dim_2 (512)\n",
      "Tensor (dtype: torch.float32)\n",
      "    |  (device: cpu)\n",
      "    |__dim_0 (31968)\n",
      "    |__dim_1 (9)\n",
      "    |__dim_2 (512)\n",
      "Tensor (dtype: torch.float32)\n",
      "    |  (device: cpu)\n",
      "    |__dim_0 (8640)\n",
      "    |__dim_1 (9)\n",
      "    |__dim_2 (512)\n",
      "Tensor (dtype: torch.float32)\n",
      "    |  (device: cpu)\n",
      "    |__dim_0 (31968)\n",
      "    |__dim_1 (10)\n",
      "    |__dim_2 (512)\n",
      "Tensor (dtype: torch.float32)\n",
      "    |  (device: cpu)\n",
      "    |__dim_0 (31968)\n",
      "    |__dim_1 (10)\n",
      "    |__dim_2 (512)\n",
      "Tensor (dtype: torch.float32)\n",
      "    |  (device: cpu)\n",
      "    |__dim_0 (31968)\n",
      "    |__dim_1 (10)\n",
      "    |__dim_2 (512)\n",
      "Tensor (dtype: torch.float32)\n",
      "    |  (device: cpu)\n",
      "    |__dim_0 (31968)\n",
      "    |__dim_1 (10)\n",
      "    |__dim_2 (512)\n"
     ]
    }
   ],
   "source": [
    "for act in all_acts:\n",
    "    tt(act)"
   ]
  },
  {
   "cell_type": "code",
   "execution_count": 34,
   "metadata": {},
   "outputs": [
    {
     "name": "stdout",
     "output_type": "stream",
     "text": [
      "2361456\n"
     ]
    }
   ],
   "source": [
    "out = 0\n",
    "for act in all_acts:\n",
    "    out += act.shape[0] * act.shape[1]\n",
    "print(out)\n"
   ]
  },
  {
   "cell_type": "code",
   "execution_count": 29,
   "metadata": {},
   "outputs": [],
   "source": [
    "act_data = torch.cat(\n",
    "    [einops.rearrange(acts, \"batch seq dim -> (batch seq) dim\") for acts in all_acts],\n",
    "    dim=0,\n",
    ")"
   ]
  },
  {
   "cell_type": "code",
   "execution_count": 23,
   "metadata": {},
   "outputs": [],
   "source": [
    "torch.save(act_data, \"all_games_act_data.pt\")"
   ]
  },
  {
   "cell_type": "markdown",
   "metadata": {},
   "source": [
    "Note that since there's a lot of repeated phrases in the input, we'll have lots of identical activations. Not sure how that'll change things yet though.."
   ]
  },
  {
   "cell_type": "code",
   "execution_count": 30,
   "metadata": {},
   "outputs": [
    {
     "name": "stdout",
     "output_type": "stream",
     "text": [
      "Tensor (dtype: torch.float32)\n",
      "    |  (device: cpu)\n",
      "    |__dim_0 (2361456)\n",
      "    |__dim_1 (512)\n"
     ]
    }
   ],
   "source": [
    "tt(act_data)"
   ]
  },
  {
   "cell_type": "code",
   "execution_count": 33,
   "metadata": {},
   "outputs": [],
   "source": []
  },
  {
   "cell_type": "code",
   "execution_count": 123,
   "metadata": {},
   "outputs": [],
   "source": [
    "autoenc = models.SparseAutoEncoder(512, 1024).to(\"cuda\")\n",
    "\n",
    "loss_fn = torch.nn.functional.mse_loss\n",
    "optimizer = torch.optim.Adam(autoenc.parameters(), lr=1e-4, weight_decay=1e-3)"
   ]
  },
  {
   "cell_type": "code",
   "execution_count": 124,
   "metadata": {},
   "outputs": [],
   "source": [
    "act_data = torch.load(\"all_games_act_data.pt\")"
   ]
  },
  {
   "cell_type": "code",
   "execution_count": 125,
   "metadata": {},
   "outputs": [
    {
     "name": "stdout",
     "output_type": "stream",
     "text": [
      "Tensor (dtype: torch.float32)\n",
      "    |  (device: cpu)\n",
      "    |__dim_0 (2361456)\n",
      "    |__dim_1 (512)\n"
     ]
    }
   ],
   "source": [
    "tt(act_data)"
   ]
  },
  {
   "cell_type": "code",
   "execution_count": 126,
   "metadata": {},
   "outputs": [
    {
     "data": {
      "text/plain": [
       "tensor(0.6646)"
      ]
     },
     "execution_count": 126,
     "metadata": {},
     "output_type": "execute_result"
    }
   ],
   "source": [
    "act_data[0].mean()"
   ]
  },
  {
   "cell_type": "code",
   "execution_count": 127,
   "metadata": {},
   "outputs": [
    {
     "data": {
      "text/plain": [
       "tensor([[1., 1.],\n",
       "        [1., 1.]])"
      ]
     },
     "execution_count": 127,
     "metadata": {},
     "output_type": "execute_result"
    }
   ],
   "source": [
    "test = loss_fn(torch.zeros(2,2), torch.ones(2,2), reduction=\"none\")\n",
    "test"
   ]
  },
  {
   "cell_type": "code",
   "execution_count": 128,
   "metadata": {},
   "outputs": [
    {
     "name": "stdout",
     "output_type": "stream",
     "text": [
      "[array(3.5028396, dtype=float32), tensor(1.4583, device='cuda:0', grad_fn=<MulBackward0>)]\n",
      "[array(3.1063895, dtype=float32), tensor(1.3853, device='cuda:0', grad_fn=<MulBackward0>)]\n",
      "[array(2.8665009, dtype=float32), tensor(1.3391, device='cuda:0', grad_fn=<MulBackward0>)]\n",
      "[array(2.6947346, dtype=float32), tensor(1.3192, device='cuda:0', grad_fn=<MulBackward0>)]\n",
      "[array(2.4454494, dtype=float32), tensor(1.2715, device='cuda:0', grad_fn=<MulBackward0>)]\n",
      "[array(2.1855767, dtype=float32), tensor(1.2156, device='cuda:0', grad_fn=<MulBackward0>)]\n",
      "[array(2.0985541, dtype=float32), tensor(1.1785, device='cuda:0', grad_fn=<MulBackward0>)]\n",
      "[array(2.0177398, dtype=float32), tensor(1.1414, device='cuda:0', grad_fn=<MulBackward0>)]\n",
      "[array(1.7901512, dtype=float32), tensor(1.0953, device='cuda:0', grad_fn=<MulBackward0>)]\n",
      "[array(1.5927267, dtype=float32), tensor(1.0399, device='cuda:0', grad_fn=<MulBackward0>)]\n",
      "[array(1.5390517, dtype=float32), tensor(1.0239, device='cuda:0', grad_fn=<MulBackward0>)]\n",
      "[array(1.4754955, dtype=float32), tensor(0.9953, device='cuda:0', grad_fn=<MulBackward0>)]\n",
      "[array(1.3592153, dtype=float32), tensor(0.9175, device='cuda:0', grad_fn=<MulBackward0>)]\n",
      "[array(1.3384774, dtype=float32), tensor(0.9413, device='cuda:0', grad_fn=<MulBackward0>)]\n",
      "[array(1.256251, dtype=float32), tensor(0.9067, device='cuda:0', grad_fn=<MulBackward0>)]\n",
      "[array(1.2363161, dtype=float32), tensor(0.9042, device='cuda:0', grad_fn=<MulBackward0>)]\n",
      "[array(1.1724824, dtype=float32), tensor(0.8809, device='cuda:0', grad_fn=<MulBackward0>)]\n",
      "[array(1.1111226, dtype=float32), tensor(0.8460, device='cuda:0', grad_fn=<MulBackward0>)]\n",
      "[array(1.0817432, dtype=float32), tensor(0.8348, device='cuda:0', grad_fn=<MulBackward0>)]\n",
      "[array(1.0148267, dtype=float32), tensor(0.7936, device='cuda:0', grad_fn=<MulBackward0>)]\n",
      "[array(0.9850658, dtype=float32), tensor(0.7802, device='cuda:0', grad_fn=<MulBackward0>)]\n",
      "[array(0.93419456, dtype=float32), tensor(0.7473, device='cuda:0', grad_fn=<MulBackward0>)]\n",
      "[array(0.9448204, dtype=float32), tensor(0.7338, device='cuda:0', grad_fn=<MulBackward0>)]\n",
      "[array(0.9289378, dtype=float32), tensor(0.7194, device='cuda:0', grad_fn=<MulBackward0>)]\n",
      "[array(0.8559416, dtype=float32), tensor(0.6921, device='cuda:0', grad_fn=<MulBackward0>)]\n",
      "[array(0.83545494, dtype=float32), tensor(0.6734, device='cuda:0', grad_fn=<MulBackward0>)]\n",
      "[array(0.81613815, dtype=float32), tensor(0.6421, device='cuda:0', grad_fn=<MulBackward0>)]\n",
      "[array(0.79317415, dtype=float32), tensor(0.6268, device='cuda:0', grad_fn=<MulBackward0>)]\n",
      "[array(0.7952131, dtype=float32), tensor(0.6238, device='cuda:0', grad_fn=<MulBackward0>)]\n",
      "[array(0.7909271, dtype=float32), tensor(0.6284, device='cuda:0', grad_fn=<MulBackward0>)]\n",
      "[array(0.75698197, dtype=float32), tensor(0.5928, device='cuda:0', grad_fn=<MulBackward0>)]\n",
      "[array(0.7346046, dtype=float32), tensor(0.5513, device='cuda:0', grad_fn=<MulBackward0>)]\n",
      "[array(0.7183242, dtype=float32), tensor(0.5354, device='cuda:0', grad_fn=<MulBackward0>)]\n",
      "[array(0.7265148, dtype=float32), tensor(0.5412, device='cuda:0', grad_fn=<MulBackward0>)]\n",
      "[array(0.6997596, dtype=float32), tensor(0.5208, device='cuda:0', grad_fn=<MulBackward0>)]\n",
      "[array(0.6890282, dtype=float32), tensor(0.5102, device='cuda:0', grad_fn=<MulBackward0>)]\n",
      "[array(0.6681166, dtype=float32), tensor(0.4925, device='cuda:0', grad_fn=<MulBackward0>)]\n",
      "[array(0.6749769, dtype=float32), tensor(0.4892, device='cuda:0', grad_fn=<MulBackward0>)]\n",
      "[array(0.6642917, dtype=float32), tensor(0.4910, device='cuda:0', grad_fn=<MulBackward0>)]\n",
      "[array(0.6591872, dtype=float32), tensor(0.4820, device='cuda:0', grad_fn=<MulBackward0>)]\n",
      "[array(0.6373786, dtype=float32), tensor(0.4693, device='cuda:0', grad_fn=<MulBackward0>)]\n",
      "[array(0.62532914, dtype=float32), tensor(0.4563, device='cuda:0', grad_fn=<MulBackward0>)]\n",
      "[array(0.6244701, dtype=float32), tensor(0.4598, device='cuda:0', grad_fn=<MulBackward0>)]\n",
      "[array(0.61291766, dtype=float32), tensor(0.4538, device='cuda:0', grad_fn=<MulBackward0>)]\n",
      "[array(0.5951792, dtype=float32), tensor(0.4357, device='cuda:0', grad_fn=<MulBackward0>)]\n",
      "[array(0.58543146, dtype=float32), tensor(0.4283, device='cuda:0', grad_fn=<MulBackward0>)]\n",
      "[array(0.59364855, dtype=float32), tensor(0.4132, device='cuda:0', grad_fn=<MulBackward0>)]\n",
      "[array(0.58680236, dtype=float32), tensor(0.4148, device='cuda:0', grad_fn=<MulBackward0>)]\n",
      "[array(0.5669239, dtype=float32), tensor(0.4002, device='cuda:0', grad_fn=<MulBackward0>)]\n",
      "[array(0.56801236, dtype=float32), tensor(0.3954, device='cuda:0', grad_fn=<MulBackward0>)]\n",
      "[array(0.57018715, dtype=float32), tensor(0.3903, device='cuda:0', grad_fn=<MulBackward0>)]\n",
      "[array(0.5856545, dtype=float32), tensor(0.4118, device='cuda:0', grad_fn=<MulBackward0>)]\n",
      "[array(0.58116174, dtype=float32), tensor(0.4005, device='cuda:0', grad_fn=<MulBackward0>)]\n",
      "[array(0.5743892, dtype=float32), tensor(0.3928, device='cuda:0', grad_fn=<MulBackward0>)]\n",
      "[array(0.5501123, dtype=float32), tensor(0.3774, device='cuda:0', grad_fn=<MulBackward0>)]\n",
      "[array(0.5295012, dtype=float32), tensor(0.3730, device='cuda:0', grad_fn=<MulBackward0>)]\n",
      "[array(0.5136057, dtype=float32), tensor(0.3604, device='cuda:0', grad_fn=<MulBackward0>)]\n",
      "[array(0.52221465, dtype=float32), tensor(0.3639, device='cuda:0', grad_fn=<MulBackward0>)]\n",
      "[array(0.5114894, dtype=float32), tensor(0.3532, device='cuda:0', grad_fn=<MulBackward0>)]\n",
      "[array(0.5209537, dtype=float32), tensor(0.3495, device='cuda:0', grad_fn=<MulBackward0>)]\n",
      "[array(0.5057763, dtype=float32), tensor(0.3449, device='cuda:0', grad_fn=<MulBackward0>)]\n",
      "[array(0.5015429, dtype=float32), tensor(0.3436, device='cuda:0', grad_fn=<MulBackward0>)]\n",
      "[array(0.499434, dtype=float32), tensor(0.3400, device='cuda:0', grad_fn=<MulBackward0>)]\n",
      "[array(0.50651515, dtype=float32), tensor(0.3441, device='cuda:0', grad_fn=<MulBackward0>)]\n",
      "[array(0.5032778, dtype=float32), tensor(0.3512, device='cuda:0', grad_fn=<MulBackward0>)]\n",
      "[array(0.49842858, dtype=float32), tensor(0.3469, device='cuda:0', grad_fn=<MulBackward0>)]\n",
      "[array(0.4815107, dtype=float32), tensor(0.3391, device='cuda:0', grad_fn=<MulBackward0>)]\n",
      "[array(0.47528362, dtype=float32), tensor(0.3260, device='cuda:0', grad_fn=<MulBackward0>)]\n",
      "[array(0.46588948, dtype=float32), tensor(0.3189, device='cuda:0', grad_fn=<MulBackward0>)]\n",
      "[array(0.45781732, dtype=float32), tensor(0.3167, device='cuda:0', grad_fn=<MulBackward0>)]\n",
      "[array(0.45526698, dtype=float32), tensor(0.3129, device='cuda:0', grad_fn=<MulBackward0>)]\n",
      "[array(0.4470328, dtype=float32), tensor(0.3085, device='cuda:0', grad_fn=<MulBackward0>)]\n",
      "[array(0.436858, dtype=float32), tensor(0.0201, device='cuda:0', grad_fn=<MulBackward0>)]\n",
      "[array(0.5332767, dtype=float32), tensor(0.3584, device='cuda:0', grad_fn=<MulBackward0>)]\n",
      "[array(0.51971257, dtype=float32), tensor(0.3467, device='cuda:0', grad_fn=<MulBackward0>)]\n",
      "[array(0.5118372, dtype=float32), tensor(0.3457, device='cuda:0', grad_fn=<MulBackward0>)]\n",
      "[array(0.4965326, dtype=float32), tensor(0.3522, device='cuda:0', grad_fn=<MulBackward0>)]\n",
      "[array(0.4789793, dtype=float32), tensor(0.3571, device='cuda:0', grad_fn=<MulBackward0>)]\n",
      "[array(0.47108984, dtype=float32), tensor(0.3451, device='cuda:0', grad_fn=<MulBackward0>)]\n",
      "[array(0.48162493, dtype=float32), tensor(0.3475, device='cuda:0', grad_fn=<MulBackward0>)]\n",
      "[array(0.48230326, dtype=float32), tensor(0.3507, device='cuda:0', grad_fn=<MulBackward0>)]\n",
      "[array(0.45421284, dtype=float32), tensor(0.3356, device='cuda:0', grad_fn=<MulBackward0>)]\n",
      "[array(0.44821194, dtype=float32), tensor(0.3275, device='cuda:0', grad_fn=<MulBackward0>)]\n",
      "[array(0.44058678, dtype=float32), tensor(0.3332, device='cuda:0', grad_fn=<MulBackward0>)]\n",
      "[array(0.43322605, dtype=float32), tensor(0.3327, device='cuda:0', grad_fn=<MulBackward0>)]\n",
      "[array(0.41815898, dtype=float32), tensor(0.3146, device='cuda:0', grad_fn=<MulBackward0>)]\n",
      "[array(0.45021623, dtype=float32), tensor(0.3225, device='cuda:0', grad_fn=<MulBackward0>)]\n",
      "[array(0.4406939, dtype=float32), tensor(0.3175, device='cuda:0', grad_fn=<MulBackward0>)]\n",
      "[array(0.44255108, dtype=float32), tensor(0.3228, device='cuda:0', grad_fn=<MulBackward0>)]\n",
      "[array(0.43420938, dtype=float32), tensor(0.3221, device='cuda:0', grad_fn=<MulBackward0>)]\n",
      "[array(0.42059106, dtype=float32), tensor(0.3184, device='cuda:0', grad_fn=<MulBackward0>)]\n",
      "[array(0.4167501, dtype=float32), tensor(0.3250, device='cuda:0', grad_fn=<MulBackward0>)]\n",
      "[array(0.40883827, dtype=float32), tensor(0.3139, device='cuda:0', grad_fn=<MulBackward0>)]\n",
      "[array(0.40918085, dtype=float32), tensor(0.3103, device='cuda:0', grad_fn=<MulBackward0>)]\n",
      "[array(0.40044153, dtype=float32), tensor(0.3039, device='cuda:0', grad_fn=<MulBackward0>)]\n",
      "[array(0.41115767, dtype=float32), tensor(0.3079, device='cuda:0', grad_fn=<MulBackward0>)]\n",
      "[array(0.4146677, dtype=float32), tensor(0.3080, device='cuda:0', grad_fn=<MulBackward0>)]\n",
      "[array(0.39168724, dtype=float32), tensor(0.3006, device='cuda:0', grad_fn=<MulBackward0>)]\n",
      "[array(0.38922137, dtype=float32), tensor(0.2992, device='cuda:0', grad_fn=<MulBackward0>)]\n",
      "[array(0.38758266, dtype=float32), tensor(0.2916, device='cuda:0', grad_fn=<MulBackward0>)]\n",
      "[array(0.3859629, dtype=float32), tensor(0.2903, device='cuda:0', grad_fn=<MulBackward0>)]\n",
      "[array(0.3856627, dtype=float32), tensor(0.2962, device='cuda:0', grad_fn=<MulBackward0>)]\n",
      "[array(0.38662297, dtype=float32), tensor(0.3054, device='cuda:0', grad_fn=<MulBackward0>)]\n",
      "[array(0.37439078, dtype=float32), tensor(0.2944, device='cuda:0', grad_fn=<MulBackward0>)]\n",
      "[array(0.36274177, dtype=float32), tensor(0.2808, device='cuda:0', grad_fn=<MulBackward0>)]\n",
      "[array(0.3588365, dtype=float32), tensor(0.2780, device='cuda:0', grad_fn=<MulBackward0>)]\n",
      "[array(0.37565625, dtype=float32), tensor(0.2818, device='cuda:0', grad_fn=<MulBackward0>)]\n",
      "[array(0.3675454, dtype=float32), tensor(0.2769, device='cuda:0', grad_fn=<MulBackward0>)]\n",
      "[array(0.3635673, dtype=float32), tensor(0.2767, device='cuda:0', grad_fn=<MulBackward0>)]\n",
      "[array(0.3532165, dtype=float32), tensor(0.2744, device='cuda:0', grad_fn=<MulBackward0>)]\n",
      "[array(0.35626587, dtype=float32), tensor(0.2765, device='cuda:0', grad_fn=<MulBackward0>)]\n",
      "[array(0.34870434, dtype=float32), tensor(0.2820, device='cuda:0', grad_fn=<MulBackward0>)]\n",
      "[array(0.34763762, dtype=float32), tensor(0.2814, device='cuda:0', grad_fn=<MulBackward0>)]\n",
      "[array(0.3381737, dtype=float32), tensor(0.2789, device='cuda:0', grad_fn=<MulBackward0>)]\n",
      "[array(0.33274353, dtype=float32), tensor(0.2772, device='cuda:0', grad_fn=<MulBackward0>)]\n",
      "[array(0.3369069, dtype=float32), tensor(0.2838, device='cuda:0', grad_fn=<MulBackward0>)]\n",
      "[array(0.332529, dtype=float32), tensor(0.2832, device='cuda:0', grad_fn=<MulBackward0>)]\n",
      "[array(0.3261174, dtype=float32), tensor(0.2754, device='cuda:0', grad_fn=<MulBackward0>)]\n",
      "[array(0.32212844, dtype=float32), tensor(0.2753, device='cuda:0', grad_fn=<MulBackward0>)]\n",
      "[array(0.3288669, dtype=float32), tensor(0.2687, device='cuda:0', grad_fn=<MulBackward0>)]\n",
      "[array(0.32197893, dtype=float32), tensor(0.2708, device='cuda:0', grad_fn=<MulBackward0>)]\n",
      "[array(0.31292608, dtype=float32), tensor(0.2651, device='cuda:0', grad_fn=<MulBackward0>)]\n",
      "[array(0.3173206, dtype=float32), tensor(0.2649, device='cuda:0', grad_fn=<MulBackward0>)]\n",
      "[array(0.322992, dtype=float32), tensor(0.2623, device='cuda:0', grad_fn=<MulBackward0>)]\n",
      "[array(0.3339249, dtype=float32), tensor(0.2740, device='cuda:0', grad_fn=<MulBackward0>)]\n",
      "[array(0.3307433, dtype=float32), tensor(0.2694, device='cuda:0', grad_fn=<MulBackward0>)]\n",
      "[array(0.3313349, dtype=float32), tensor(0.2660, device='cuda:0', grad_fn=<MulBackward0>)]\n",
      "[array(0.31719714, dtype=float32), tensor(0.2602, device='cuda:0', grad_fn=<MulBackward0>)]\n",
      "[array(0.30459577, dtype=float32), tensor(0.2610, device='cuda:0', grad_fn=<MulBackward0>)]\n",
      "[array(0.2972477, dtype=float32), tensor(0.2552, device='cuda:0', grad_fn=<MulBackward0>)]\n",
      "[array(0.30350894, dtype=float32), tensor(0.2569, device='cuda:0', grad_fn=<MulBackward0>)]\n",
      "[array(0.2968487, dtype=float32), tensor(0.2526, device='cuda:0', grad_fn=<MulBackward0>)]\n",
      "[array(0.3075593, dtype=float32), tensor(0.2519, device='cuda:0', grad_fn=<MulBackward0>)]\n",
      "[array(0.30429295, dtype=float32), tensor(0.2470, device='cuda:0', grad_fn=<MulBackward0>)]\n",
      "[array(0.30120233, dtype=float32), tensor(0.2475, device='cuda:0', grad_fn=<MulBackward0>)]\n",
      "[array(0.2978415, dtype=float32), tensor(0.2483, device='cuda:0', grad_fn=<MulBackward0>)]\n",
      "[array(0.30311167, dtype=float32), tensor(0.2529, device='cuda:0', grad_fn=<MulBackward0>)]\n",
      "[array(0.299228, dtype=float32), tensor(0.2582, device='cuda:0', grad_fn=<MulBackward0>)]\n",
      "[array(0.3022034, dtype=float32), tensor(0.2561, device='cuda:0', grad_fn=<MulBackward0>)]\n",
      "[array(0.29189485, dtype=float32), tensor(0.2525, device='cuda:0', grad_fn=<MulBackward0>)]\n",
      "[array(0.29184246, dtype=float32), tensor(0.2428, device='cuda:0', grad_fn=<MulBackward0>)]\n",
      "[array(0.2868432, dtype=float32), tensor(0.2391, device='cuda:0', grad_fn=<MulBackward0>)]\n",
      "[array(0.28617004, dtype=float32), tensor(0.2362, device='cuda:0', grad_fn=<MulBackward0>)]\n",
      "[array(0.28285584, dtype=float32), tensor(0.2350, device='cuda:0', grad_fn=<MulBackward0>)]\n",
      "[array(0.281803, dtype=float32), tensor(0.2325, device='cuda:0', grad_fn=<MulBackward0>)]\n",
      "[array(0.27783713, dtype=float32), tensor(0.0152, device='cuda:0', grad_fn=<MulBackward0>)]\n",
      "[array(0.33717602, dtype=float32), tensor(0.2705, device='cuda:0', grad_fn=<MulBackward0>)]\n",
      "[array(0.32869917, dtype=float32), tensor(0.2657, device='cuda:0', grad_fn=<MulBackward0>)]\n",
      "[array(0.32127833, dtype=float32), tensor(0.2676, device='cuda:0', grad_fn=<MulBackward0>)]\n",
      "[array(0.30722493, dtype=float32), tensor(0.2727, device='cuda:0', grad_fn=<MulBackward0>)]\n",
      "[array(0.30905193, dtype=float32), tensor(0.2718, device='cuda:0', grad_fn=<MulBackward0>)]\n",
      "[array(0.30112463, dtype=float32), tensor(0.2667, device='cuda:0', grad_fn=<MulBackward0>)]\n",
      "[array(0.30976063, dtype=float32), tensor(0.2676, device='cuda:0', grad_fn=<MulBackward0>)]\n",
      "[array(0.3142765, dtype=float32), tensor(0.2670, device='cuda:0', grad_fn=<MulBackward0>)]\n",
      "[array(0.2940281, dtype=float32), tensor(0.2586, device='cuda:0', grad_fn=<MulBackward0>)]\n",
      "[array(0.29601794, dtype=float32), tensor(0.2529, device='cuda:0', grad_fn=<MulBackward0>)]\n",
      "[array(0.29263526, dtype=float32), tensor(0.2560, device='cuda:0', grad_fn=<MulBackward0>)]\n",
      "[array(0.29120958, dtype=float32), tensor(0.2549, device='cuda:0', grad_fn=<MulBackward0>)]\n",
      "[array(0.287197, dtype=float32), tensor(0.2394, device='cuda:0', grad_fn=<MulBackward0>)]\n",
      "[array(0.3049187, dtype=float32), tensor(0.2475, device='cuda:0', grad_fn=<MulBackward0>)]\n",
      "[array(0.29825038, dtype=float32), tensor(0.2451, device='cuda:0', grad_fn=<MulBackward0>)]\n",
      "[array(0.29885072, dtype=float32), tensor(0.2475, device='cuda:0', grad_fn=<MulBackward0>)]\n",
      "[array(0.2914706, dtype=float32), tensor(0.2483, device='cuda:0', grad_fn=<MulBackward0>)]\n",
      "[array(0.2867187, dtype=float32), tensor(0.2462, device='cuda:0', grad_fn=<MulBackward0>)]\n",
      "[array(0.29024345, dtype=float32), tensor(0.2480, device='cuda:0', grad_fn=<MulBackward0>)]\n",
      "[array(0.28546917, dtype=float32), tensor(0.2432, device='cuda:0', grad_fn=<MulBackward0>)]\n",
      "[array(0.27814752, dtype=float32), tensor(0.2446, device='cuda:0', grad_fn=<MulBackward0>)]\n",
      "[array(0.2732169, dtype=float32), tensor(0.2417, device='cuda:0', grad_fn=<MulBackward0>)]\n",
      "[array(0.2841425, dtype=float32), tensor(0.2433, device='cuda:0', grad_fn=<MulBackward0>)]\n",
      "[array(0.28637967, dtype=float32), tensor(0.2437, device='cuda:0', grad_fn=<MulBackward0>)]\n",
      "[array(0.26756662, dtype=float32), tensor(0.2410, device='cuda:0', grad_fn=<MulBackward0>)]\n",
      "[array(0.26729733, dtype=float32), tensor(0.2392, device='cuda:0', grad_fn=<MulBackward0>)]\n",
      "[array(0.26761496, dtype=float32), tensor(0.2366, device='cuda:0', grad_fn=<MulBackward0>)]\n",
      "[array(0.26881784, dtype=float32), tensor(0.2346, device='cuda:0', grad_fn=<MulBackward0>)]\n",
      "[array(0.26806056, dtype=float32), tensor(0.2397, device='cuda:0', grad_fn=<MulBackward0>)]\n",
      "[array(0.2704866, dtype=float32), tensor(0.2451, device='cuda:0', grad_fn=<MulBackward0>)]\n",
      "[array(0.2645133, dtype=float32), tensor(0.2366, device='cuda:0', grad_fn=<MulBackward0>)]\n",
      "[array(0.26156175, dtype=float32), tensor(0.2264, device='cuda:0', grad_fn=<MulBackward0>)]\n",
      "[array(0.25955564, dtype=float32), tensor(0.2233, device='cuda:0', grad_fn=<MulBackward0>)]\n",
      "[array(0.26274562, dtype=float32), tensor(0.2304, device='cuda:0', grad_fn=<MulBackward0>)]\n",
      "[array(0.25837576, dtype=float32), tensor(0.2278, device='cuda:0', grad_fn=<MulBackward0>)]\n",
      "[array(0.2567451, dtype=float32), tensor(0.2269, device='cuda:0', grad_fn=<MulBackward0>)]\n",
      "[array(0.2502551, dtype=float32), tensor(0.2258, device='cuda:0', grad_fn=<MulBackward0>)]\n",
      "[array(0.2527318, dtype=float32), tensor(0.2266, device='cuda:0', grad_fn=<MulBackward0>)]\n",
      "[array(0.24786687, dtype=float32), tensor(0.2297, device='cuda:0', grad_fn=<MulBackward0>)]\n",
      "[array(0.24538524, dtype=float32), tensor(0.2305, device='cuda:0', grad_fn=<MulBackward0>)]\n",
      "[array(0.23857914, dtype=float32), tensor(0.2296, device='cuda:0', grad_fn=<MulBackward0>)]\n",
      "[array(0.23923202, dtype=float32), tensor(0.2271, device='cuda:0', grad_fn=<MulBackward0>)]\n",
      "[array(0.24722606, dtype=float32), tensor(0.2308, device='cuda:0', grad_fn=<MulBackward0>)]\n",
      "[array(0.24403541, dtype=float32), tensor(0.2289, device='cuda:0', grad_fn=<MulBackward0>)]\n",
      "[array(0.23903862, dtype=float32), tensor(0.2238, device='cuda:0', grad_fn=<MulBackward0>)]\n",
      "[array(0.24007581, dtype=float32), tensor(0.2235, device='cuda:0', grad_fn=<MulBackward0>)]\n",
      "[array(0.23791003, dtype=float32), tensor(0.2245, device='cuda:0', grad_fn=<MulBackward0>)]\n",
      "[array(0.23278752, dtype=float32), tensor(0.2244, device='cuda:0', grad_fn=<MulBackward0>)]\n",
      "[array(0.22813684, dtype=float32), tensor(0.2195, device='cuda:0', grad_fn=<MulBackward0>)]\n",
      "[array(0.23158267, dtype=float32), tensor(0.2204, device='cuda:0', grad_fn=<MulBackward0>)]\n",
      "[array(0.23902285, dtype=float32), tensor(0.2176, device='cuda:0', grad_fn=<MulBackward0>)]\n",
      "[array(0.24563885, dtype=float32), tensor(0.2261, device='cuda:0', grad_fn=<MulBackward0>)]\n",
      "[array(0.24389833, dtype=float32), tensor(0.2225, device='cuda:0', grad_fn=<MulBackward0>)]\n",
      "[array(0.24563378, dtype=float32), tensor(0.2202, device='cuda:0', grad_fn=<MulBackward0>)]\n",
      "[array(0.23653206, dtype=float32), tensor(0.2157, device='cuda:0', grad_fn=<MulBackward0>)]\n",
      "[array(0.22705558, dtype=float32), tensor(0.2161, device='cuda:0', grad_fn=<MulBackward0>)]\n",
      "[array(0.22205743, dtype=float32), tensor(0.2122, device='cuda:0', grad_fn=<MulBackward0>)]\n",
      "[array(0.22599447, dtype=float32), tensor(0.2138, device='cuda:0', grad_fn=<MulBackward0>)]\n",
      "[array(0.22404382, dtype=float32), tensor(0.2106, device='cuda:0', grad_fn=<MulBackward0>)]\n",
      "[array(0.22685596, dtype=float32), tensor(0.2148, device='cuda:0', grad_fn=<MulBackward0>)]\n",
      "[array(0.2261635, dtype=float32), tensor(0.2105, device='cuda:0', grad_fn=<MulBackward0>)]\n",
      "[array(0.22356105, dtype=float32), tensor(0.2109, device='cuda:0', grad_fn=<MulBackward0>)]\n",
      "[array(0.22202575, dtype=float32), tensor(0.2113, device='cuda:0', grad_fn=<MulBackward0>)]\n",
      "[array(0.2252718, dtype=float32), tensor(0.2146, device='cuda:0', grad_fn=<MulBackward0>)]\n",
      "[array(0.22252458, dtype=float32), tensor(0.2180, device='cuda:0', grad_fn=<MulBackward0>)]\n",
      "[array(0.22630972, dtype=float32), tensor(0.2169, device='cuda:0', grad_fn=<MulBackward0>)]\n",
      "[array(0.22039962, dtype=float32), tensor(0.2139, device='cuda:0', grad_fn=<MulBackward0>)]\n",
      "[array(0.2239527, dtype=float32), tensor(0.2055, device='cuda:0', grad_fn=<MulBackward0>)]\n",
      "[array(0.22135788, dtype=float32), tensor(0.2038, device='cuda:0', grad_fn=<MulBackward0>)]\n",
      "[array(0.22217798, dtype=float32), tensor(0.2007, device='cuda:0', grad_fn=<MulBackward0>)]\n",
      "[array(0.2185329, dtype=float32), tensor(0.2004, device='cuda:0', grad_fn=<MulBackward0>)]\n",
      "[array(0.21868433, dtype=float32), tensor(0.1988, device='cuda:0', grad_fn=<MulBackward0>)]\n",
      "[array(0.21689318, dtype=float32), tensor(0.0130, device='cuda:0', grad_fn=<MulBackward0>)]\n",
      "[array(0.2538424, dtype=float32), tensor(0.2328, device='cuda:0', grad_fn=<MulBackward0>)]\n",
      "[array(0.24611633, dtype=float32), tensor(0.2306, device='cuda:0', grad_fn=<MulBackward0>)]\n",
      "[array(0.2397614, dtype=float32), tensor(0.2326, device='cuda:0', grad_fn=<MulBackward0>)]\n",
      "[array(0.23021755, dtype=float32), tensor(0.2354, device='cuda:0', grad_fn=<MulBackward0>)]\n",
      "[array(0.23626435, dtype=float32), tensor(0.2322, device='cuda:0', grad_fn=<MulBackward0>)]\n",
      "[array(0.2297112, dtype=float32), tensor(0.2285, device='cuda:0', grad_fn=<MulBackward0>)]\n",
      "[array(0.23593333, dtype=float32), tensor(0.2291, device='cuda:0', grad_fn=<MulBackward0>)]\n",
      "[array(0.24081701, dtype=float32), tensor(0.2276, device='cuda:0', grad_fn=<MulBackward0>)]\n",
      "[array(0.22973998, dtype=float32), tensor(0.2179, device='cuda:0', grad_fn=<MulBackward0>)]\n",
      "[array(0.22902063, dtype=float32), tensor(0.2165, device='cuda:0', grad_fn=<MulBackward0>)]\n",
      "[array(0.22672018, dtype=float32), tensor(0.2180, device='cuda:0', grad_fn=<MulBackward0>)]\n",
      "[array(0.23002884, dtype=float32), tensor(0.2157, device='cuda:0', grad_fn=<MulBackward0>)]\n",
      "[array(0.22937943, dtype=float32), tensor(0.2044, device='cuda:0', grad_fn=<MulBackward0>)]\n",
      "[array(0.23709649, dtype=float32), tensor(0.2122, device='cuda:0', grad_fn=<MulBackward0>)]\n",
      "[array(0.22973359, dtype=float32), tensor(0.2122, device='cuda:0', grad_fn=<MulBackward0>)]\n",
      "[array(0.23109683, dtype=float32), tensor(0.2138, device='cuda:0', grad_fn=<MulBackward0>)]\n",
      "[array(0.22188513, dtype=float32), tensor(0.2170, device='cuda:0', grad_fn=<MulBackward0>)]\n",
      "[array(0.21964182, dtype=float32), tensor(0.2164, device='cuda:0', grad_fn=<MulBackward0>)]\n",
      "[array(0.22253618, dtype=float32), tensor(0.2170, device='cuda:0', grad_fn=<MulBackward0>)]\n",
      "[array(0.21899572, dtype=float32), tensor(0.2151, device='cuda:0', grad_fn=<MulBackward0>)]\n",
      "[array(0.21027918, dtype=float32), tensor(0.2175, device='cuda:0', grad_fn=<MulBackward0>)]\n",
      "[array(0.20770141, dtype=float32), tensor(0.2154, device='cuda:0', grad_fn=<MulBackward0>)]\n",
      "[array(0.21731248, dtype=float32), tensor(0.2158, device='cuda:0', grad_fn=<MulBackward0>)]\n",
      "[array(0.21942109, dtype=float32), tensor(0.2156, device='cuda:0', grad_fn=<MulBackward0>)]\n",
      "[array(0.20914257, dtype=float32), tensor(0.2102, device='cuda:0', grad_fn=<MulBackward0>)]\n",
      "[array(0.20895556, dtype=float32), tensor(0.2084, device='cuda:0', grad_fn=<MulBackward0>)]\n",
      "[array(0.20831834, dtype=float32), tensor(0.2079, device='cuda:0', grad_fn=<MulBackward0>)]\n",
      "[array(0.20773134, dtype=float32), tensor(0.2067, device='cuda:0', grad_fn=<MulBackward0>)]\n",
      "[array(0.2085732, dtype=float32), tensor(0.2094, device='cuda:0', grad_fn=<MulBackward0>)]\n",
      "[array(0.21219586, dtype=float32), tensor(0.2122, device='cuda:0', grad_fn=<MulBackward0>)]\n",
      "[array(0.20934966, dtype=float32), tensor(0.2060, device='cuda:0', grad_fn=<MulBackward0>)]\n",
      "[array(0.210409, dtype=float32), tensor(0.1980, device='cuda:0', grad_fn=<MulBackward0>)]\n",
      "[array(0.20677716, dtype=float32), tensor(0.1968, device='cuda:0', grad_fn=<MulBackward0>)]\n",
      "[array(0.20413893, dtype=float32), tensor(0.2034, device='cuda:0', grad_fn=<MulBackward0>)]\n",
      "[array(0.20054014, dtype=float32), tensor(0.2022, device='cuda:0', grad_fn=<MulBackward0>)]\n",
      "[array(0.19731727, dtype=float32), tensor(0.2032, device='cuda:0', grad_fn=<MulBackward0>)]\n",
      "[array(0.19225922, dtype=float32), tensor(0.2030, device='cuda:0', grad_fn=<MulBackward0>)]\n",
      "[array(0.19477393, dtype=float32), tensor(0.2035, device='cuda:0', grad_fn=<MulBackward0>)]\n",
      "[array(0.1917021, dtype=float32), tensor(0.2051, device='cuda:0', grad_fn=<MulBackward0>)]\n",
      "[array(0.18863022, dtype=float32), tensor(0.2066, device='cuda:0', grad_fn=<MulBackward0>)]\n",
      "[array(0.18269873, dtype=float32), tensor(0.2064, device='cuda:0', grad_fn=<MulBackward0>)]\n",
      "[array(0.18602449, dtype=float32), tensor(0.2032, device='cuda:0', grad_fn=<MulBackward0>)]\n",
      "[array(0.19428648, dtype=float32), tensor(0.2040, device='cuda:0', grad_fn=<MulBackward0>)]\n",
      "[array(0.19059883, dtype=float32), tensor(0.2027, device='cuda:0', grad_fn=<MulBackward0>)]\n",
      "[array(0.18628022, dtype=float32), tensor(0.1986, device='cuda:0', grad_fn=<MulBackward0>)]\n",
      "[array(0.1892041, dtype=float32), tensor(0.1982, device='cuda:0', grad_fn=<MulBackward0>)]\n",
      "[array(0.18837783, dtype=float32), tensor(0.1989, device='cuda:0', grad_fn=<MulBackward0>)]\n",
      "[array(0.18284744, dtype=float32), tensor(0.1989, device='cuda:0', grad_fn=<MulBackward0>)]\n",
      "[array(0.18130438, dtype=float32), tensor(0.1942, device='cuda:0', grad_fn=<MulBackward0>)]\n",
      "[array(0.18187052, dtype=float32), tensor(0.1970, device='cuda:0', grad_fn=<MulBackward0>)]\n",
      "[array(0.18858801, dtype=float32), tensor(0.1944, device='cuda:0', grad_fn=<MulBackward0>)]\n",
      "[array(0.1912538, dtype=float32), tensor(0.2021, device='cuda:0', grad_fn=<MulBackward0>)]\n",
      "[array(0.1900827, dtype=float32), tensor(0.1993, device='cuda:0', grad_fn=<MulBackward0>)]\n",
      "[array(0.19002724, dtype=float32), tensor(0.1991, device='cuda:0', grad_fn=<MulBackward0>)]\n",
      "[array(0.18569778, dtype=float32), tensor(0.1944, device='cuda:0', grad_fn=<MulBackward0>)]\n",
      "[array(0.17948478, dtype=float32), tensor(0.1936, device='cuda:0', grad_fn=<MulBackward0>)]\n",
      "[array(0.17595032, dtype=float32), tensor(0.1906, device='cuda:0', grad_fn=<MulBackward0>)]\n",
      "[array(0.1773463, dtype=float32), tensor(0.1929, device='cuda:0', grad_fn=<MulBackward0>)]\n",
      "[array(0.17789915, dtype=float32), tensor(0.1900, device='cuda:0', grad_fn=<MulBackward0>)]\n",
      "[array(0.17576873, dtype=float32), tensor(0.1955, device='cuda:0', grad_fn=<MulBackward0>)]\n",
      "[array(0.17471112, dtype=float32), tensor(0.1921, device='cuda:0', grad_fn=<MulBackward0>)]\n",
      "[array(0.17326385, dtype=float32), tensor(0.1921, device='cuda:0', grad_fn=<MulBackward0>)]\n",
      "[array(0.17356038, dtype=float32), tensor(0.1917, device='cuda:0', grad_fn=<MulBackward0>)]\n",
      "[array(0.17562027, dtype=float32), tensor(0.1938, device='cuda:0', grad_fn=<MulBackward0>)]\n",
      "[array(0.17449276, dtype=float32), tensor(0.1958, device='cuda:0', grad_fn=<MulBackward0>)]\n",
      "[array(0.1776028, dtype=float32), tensor(0.1955, device='cuda:0', grad_fn=<MulBackward0>)]\n",
      "[array(0.17426243, dtype=float32), tensor(0.1928, device='cuda:0', grad_fn=<MulBackward0>)]\n",
      "[array(0.17838535, dtype=float32), tensor(0.1865, device='cuda:0', grad_fn=<MulBackward0>)]\n",
      "[array(0.1778476, dtype=float32), tensor(0.1848, device='cuda:0', grad_fn=<MulBackward0>)]\n",
      "[array(0.17724755, dtype=float32), tensor(0.1828, device='cuda:0', grad_fn=<MulBackward0>)]\n",
      "[array(0.17362466, dtype=float32), tensor(0.1830, device='cuda:0', grad_fn=<MulBackward0>)]\n",
      "[array(0.1733723, dtype=float32), tensor(0.1825, device='cuda:0', grad_fn=<MulBackward0>)]\n",
      "[array(0.17231894, dtype=float32), tensor(0.0119, device='cuda:0', grad_fn=<MulBackward0>)]\n",
      "[array(0.19652855, dtype=float32), tensor(0.2129, device='cuda:0', grad_fn=<MulBackward0>)]\n",
      "[array(0.19008648, dtype=float32), tensor(0.2118, device='cuda:0', grad_fn=<MulBackward0>)]\n",
      "[array(0.18524061, dtype=float32), tensor(0.2134, device='cuda:0', grad_fn=<MulBackward0>)]\n",
      "[array(0.17855725, dtype=float32), tensor(0.2146, device='cuda:0', grad_fn=<MulBackward0>)]\n",
      "[array(0.1825611, dtype=float32), tensor(0.2116, device='cuda:0', grad_fn=<MulBackward0>)]\n",
      "[array(0.17921016, dtype=float32), tensor(0.2080, device='cuda:0', grad_fn=<MulBackward0>)]\n",
      "[array(0.1842678, dtype=float32), tensor(0.2078, device='cuda:0', grad_fn=<MulBackward0>)]\n",
      "[array(0.18805629, dtype=float32), tensor(0.2060, device='cuda:0', grad_fn=<MulBackward0>)]\n",
      "[array(0.18320973, dtype=float32), tensor(0.1964, device='cuda:0', grad_fn=<MulBackward0>)]\n",
      "[array(0.17918554, dtype=float32), tensor(0.1972, device='cuda:0', grad_fn=<MulBackward0>)]\n",
      "[array(0.17656423, dtype=float32), tensor(0.1988, device='cuda:0', grad_fn=<MulBackward0>)]\n",
      "[array(0.18151921, dtype=float32), tensor(0.1970, device='cuda:0', grad_fn=<MulBackward0>)]\n",
      "[array(0.18162996, dtype=float32), tensor(0.1882, device='cuda:0', grad_fn=<MulBackward0>)]\n",
      "[array(0.18572153, dtype=float32), tensor(0.1950, device='cuda:0', grad_fn=<MulBackward0>)]\n",
      "[array(0.17859796, dtype=float32), tensor(0.1960, device='cuda:0', grad_fn=<MulBackward0>)]\n",
      "[array(0.17956227, dtype=float32), tensor(0.1977, device='cuda:0', grad_fn=<MulBackward0>)]\n",
      "[array(0.17079318, dtype=float32), tensor(0.2013, device='cuda:0', grad_fn=<MulBackward0>)]\n",
      "[array(0.16995361, dtype=float32), tensor(0.2006, device='cuda:0', grad_fn=<MulBackward0>)]\n",
      "[array(0.17115828, dtype=float32), tensor(0.2009, device='cuda:0', grad_fn=<MulBackward0>)]\n",
      "[array(0.16915594, dtype=float32), tensor(0.1992, device='cuda:0', grad_fn=<MulBackward0>)]\n",
      "[array(0.16346788, dtype=float32), tensor(0.2003, device='cuda:0', grad_fn=<MulBackward0>)]\n",
      "[array(0.16282584, dtype=float32), tensor(0.1979, device='cuda:0', grad_fn=<MulBackward0>)]\n",
      "[array(0.17035101, dtype=float32), tensor(0.1976, device='cuda:0', grad_fn=<MulBackward0>)]\n",
      "[array(0.17183435, dtype=float32), tensor(0.1973, device='cuda:0', grad_fn=<MulBackward0>)]\n",
      "[array(0.16724855, dtype=float32), tensor(0.1909, device='cuda:0', grad_fn=<MulBackward0>)]\n",
      "[array(0.16616693, dtype=float32), tensor(0.1899, device='cuda:0', grad_fn=<MulBackward0>)]\n",
      "[array(0.16415596, dtype=float32), tensor(0.1901, device='cuda:0', grad_fn=<MulBackward0>)]\n",
      "[array(0.16142541, dtype=float32), tensor(0.1904, device='cuda:0', grad_fn=<MulBackward0>)]\n",
      "[array(0.16217437, dtype=float32), tensor(0.1928, device='cuda:0', grad_fn=<MulBackward0>)]\n",
      "[array(0.16488373, dtype=float32), tensor(0.1955, device='cuda:0', grad_fn=<MulBackward0>)]\n",
      "[array(0.16287892, dtype=float32), tensor(0.1913, device='cuda:0', grad_fn=<MulBackward0>)]\n",
      "[array(0.16594225, dtype=float32), tensor(0.1846, device='cuda:0', grad_fn=<MulBackward0>)]\n",
      "[array(0.16137521, dtype=float32), tensor(0.1846, device='cuda:0', grad_fn=<MulBackward0>)]\n",
      "[array(0.15840158, dtype=float32), tensor(0.1891, device='cuda:0', grad_fn=<MulBackward0>)]\n",
      "[array(0.15598078, dtype=float32), tensor(0.1884, device='cuda:0', grad_fn=<MulBackward0>)]\n",
      "[array(0.15253495, dtype=float32), tensor(0.1898, device='cuda:0', grad_fn=<MulBackward0>)]\n",
      "[array(0.14909574, dtype=float32), tensor(0.1891, device='cuda:0', grad_fn=<MulBackward0>)]\n",
      "[array(0.15217525, dtype=float32), tensor(0.1889, device='cuda:0', grad_fn=<MulBackward0>)]\n",
      "[array(0.15086128, dtype=float32), tensor(0.1891, device='cuda:0', grad_fn=<MulBackward0>)]\n",
      "[array(0.14800501, dtype=float32), tensor(0.1906, device='cuda:0', grad_fn=<MulBackward0>)]\n",
      "[array(0.1427091, dtype=float32), tensor(0.1904, device='cuda:0', grad_fn=<MulBackward0>)]\n",
      "[array(0.14681447, dtype=float32), tensor(0.1871, device='cuda:0', grad_fn=<MulBackward0>)]\n",
      "[array(0.15303123, dtype=float32), tensor(0.1873, device='cuda:0', grad_fn=<MulBackward0>)]\n",
      "[array(0.14925617, dtype=float32), tensor(0.1866, device='cuda:0', grad_fn=<MulBackward0>)]\n",
      "[array(0.14459056, dtype=float32), tensor(0.1833, device='cuda:0', grad_fn=<MulBackward0>)]\n",
      "[array(0.14721514, dtype=float32), tensor(0.1835, device='cuda:0', grad_fn=<MulBackward0>)]\n",
      "[array(0.14966443, dtype=float32), tensor(0.1836, device='cuda:0', grad_fn=<MulBackward0>)]\n",
      "[array(0.14356643, dtype=float32), tensor(0.1838, device='cuda:0', grad_fn=<MulBackward0>)]\n",
      "[array(0.1436331, dtype=float32), tensor(0.1799, device='cuda:0', grad_fn=<MulBackward0>)]\n",
      "[array(0.14241269, dtype=float32), tensor(0.1830, device='cuda:0', grad_fn=<MulBackward0>)]\n",
      "[array(0.14778355, dtype=float32), tensor(0.1810, device='cuda:0', grad_fn=<MulBackward0>)]\n",
      "[array(0.14840877, dtype=float32), tensor(0.1877, device='cuda:0', grad_fn=<MulBackward0>)]\n",
      "[array(0.14768787, dtype=float32), tensor(0.1854, device='cuda:0', grad_fn=<MulBackward0>)]\n",
      "[array(0.14651161, dtype=float32), tensor(0.1858, device='cuda:0', grad_fn=<MulBackward0>)]\n",
      "[array(0.1457465, dtype=float32), tensor(0.1809, device='cuda:0', grad_fn=<MulBackward0>)]\n",
      "[array(0.14179134, dtype=float32), tensor(0.1798, device='cuda:0', grad_fn=<MulBackward0>)]\n",
      "[array(0.14004107, dtype=float32), tensor(0.1768, device='cuda:0', grad_fn=<MulBackward0>)]\n",
      "[array(0.1397788, dtype=float32), tensor(0.1789, device='cuda:0', grad_fn=<MulBackward0>)]\n",
      "[array(0.14113545, dtype=float32), tensor(0.1764, device='cuda:0', grad_fn=<MulBackward0>)]\n",
      "[array(0.13743696, dtype=float32), tensor(0.1811, device='cuda:0', grad_fn=<MulBackward0>)]\n",
      "[array(0.13571048, dtype=float32), tensor(0.1785, device='cuda:0', grad_fn=<MulBackward0>)]\n",
      "[array(0.13512364, dtype=float32), tensor(0.1785, device='cuda:0', grad_fn=<MulBackward0>)]\n",
      "[array(0.13588428, dtype=float32), tensor(0.1782, device='cuda:0', grad_fn=<MulBackward0>)]\n",
      "[array(0.13642971, dtype=float32), tensor(0.1805, device='cuda:0', grad_fn=<MulBackward0>)]\n",
      "[array(0.13542679, dtype=float32), tensor(0.1822, device='cuda:0', grad_fn=<MulBackward0>)]\n",
      "[array(0.1374046, dtype=float32), tensor(0.1825, device='cuda:0', grad_fn=<MulBackward0>)]\n",
      "[array(0.13549441, dtype=float32), tensor(0.1801, device='cuda:0', grad_fn=<MulBackward0>)]\n",
      "[array(0.1394875, dtype=float32), tensor(0.1753, device='cuda:0', grad_fn=<MulBackward0>)]\n",
      "[array(0.14107898, dtype=float32), tensor(0.1733, device='cuda:0', grad_fn=<MulBackward0>)]\n",
      "[array(0.13972916, dtype=float32), tensor(0.1718, device='cuda:0', grad_fn=<MulBackward0>)]\n",
      "[array(0.13642336, dtype=float32), tensor(0.1720, device='cuda:0', grad_fn=<MulBackward0>)]\n",
      "[array(0.13607568, dtype=float32), tensor(0.1719, device='cuda:0', grad_fn=<MulBackward0>)]\n",
      "[array(0.13488247, dtype=float32), tensor(0.0113, device='cuda:0', grad_fn=<MulBackward0>)]\n",
      "[array(0.15192309, dtype=float32), tensor(0.1984, device='cuda:0', grad_fn=<MulBackward0>)]\n",
      "[array(0.14660321, dtype=float32), tensor(0.1978, device='cuda:0', grad_fn=<MulBackward0>)]\n",
      "[array(0.14316458, dtype=float32), tensor(0.1990, device='cuda:0', grad_fn=<MulBackward0>)]\n",
      "[array(0.13898456, dtype=float32), tensor(0.1989, device='cuda:0', grad_fn=<MulBackward0>)]\n",
      "[array(0.1408143, dtype=float32), tensor(0.1963, device='cuda:0', grad_fn=<MulBackward0>)]\n",
      "[array(0.1395919, dtype=float32), tensor(0.1931, device='cuda:0', grad_fn=<MulBackward0>)]\n",
      "[array(0.14375575, dtype=float32), tensor(0.1925, device='cuda:0', grad_fn=<MulBackward0>)]\n",
      "[array(0.14617294, dtype=float32), tensor(0.1911, device='cuda:0', grad_fn=<MulBackward0>)]\n",
      "[array(0.14504243, dtype=float32), tensor(0.1825, device='cuda:0', grad_fn=<MulBackward0>)]\n",
      "[array(0.13945964, dtype=float32), tensor(0.1841, device='cuda:0', grad_fn=<MulBackward0>)]\n",
      "[array(0.13682246, dtype=float32), tensor(0.1858, device='cuda:0', grad_fn=<MulBackward0>)]\n",
      "[array(0.14073798, dtype=float32), tensor(0.1850, device='cuda:0', grad_fn=<MulBackward0>)]\n",
      "[array(0.14074619, dtype=float32), tensor(0.1785, device='cuda:0', grad_fn=<MulBackward0>)]\n",
      "[array(0.14396647, dtype=float32), tensor(0.1838, device='cuda:0', grad_fn=<MulBackward0>)]\n",
      "[array(0.13810074, dtype=float32), tensor(0.1848, device='cuda:0', grad_fn=<MulBackward0>)]\n",
      "[array(0.13903414, dtype=float32), tensor(0.1864, device='cuda:0', grad_fn=<MulBackward0>)]\n",
      "[array(0.1321316, dtype=float32), tensor(0.1891, device='cuda:0', grad_fn=<MulBackward0>)]\n",
      "[array(0.13229433, dtype=float32), tensor(0.1880, device='cuda:0', grad_fn=<MulBackward0>)]\n",
      "[array(0.13241768, dtype=float32), tensor(0.1880, device='cuda:0', grad_fn=<MulBackward0>)]\n",
      "[array(0.13118249, dtype=float32), tensor(0.1861, device='cuda:0', grad_fn=<MulBackward0>)]\n",
      "[array(0.12818655, dtype=float32), tensor(0.1862, device='cuda:0', grad_fn=<MulBackward0>)]\n",
      "[array(0.12834235, dtype=float32), tensor(0.1840, device='cuda:0', grad_fn=<MulBackward0>)]\n",
      "[array(0.13410792, dtype=float32), tensor(0.1834, device='cuda:0', grad_fn=<MulBackward0>)]\n",
      "[array(0.13496947, dtype=float32), tensor(0.1833, device='cuda:0', grad_fn=<MulBackward0>)]\n",
      "[array(0.13371414, dtype=float32), tensor(0.1773, device='cuda:0', grad_fn=<MulBackward0>)]\n",
      "[array(0.13163161, dtype=float32), tensor(0.1770, device='cuda:0', grad_fn=<MulBackward0>)]\n",
      "[array(0.12895371, dtype=float32), tensor(0.1777, device='cuda:0', grad_fn=<MulBackward0>)]\n",
      "[array(0.12542386, dtype=float32), tensor(0.1786, device='cuda:0', grad_fn=<MulBackward0>)]\n",
      "[array(0.12555146, dtype=float32), tensor(0.1813, device='cuda:0', grad_fn=<MulBackward0>)]\n",
      "[array(0.12664063, dtype=float32), tensor(0.1841, device='cuda:0', grad_fn=<MulBackward0>)]\n",
      "[array(0.12505737, dtype=float32), tensor(0.1812, device='cuda:0', grad_fn=<MulBackward0>)]\n",
      "[array(0.12945223, dtype=float32), tensor(0.1750, device='cuda:0', grad_fn=<MulBackward0>)]\n",
      "[array(0.1254786, dtype=float32), tensor(0.1750, device='cuda:0', grad_fn=<MulBackward0>)]\n",
      "[array(0.12401506, dtype=float32), tensor(0.1774, device='cuda:0', grad_fn=<MulBackward0>)]\n",
      "[array(0.12249007, dtype=float32), tensor(0.1768, device='cuda:0', grad_fn=<MulBackward0>)]\n",
      "[array(0.11969762, dtype=float32), tensor(0.1776, device='cuda:0', grad_fn=<MulBackward0>)]\n",
      "[array(0.11718271, dtype=float32), tensor(0.1768, device='cuda:0', grad_fn=<MulBackward0>)]\n",
      "[array(0.1203019, dtype=float32), tensor(0.1764, device='cuda:0', grad_fn=<MulBackward0>)]\n",
      "[array(0.11997385, dtype=float32), tensor(0.1760, device='cuda:0', grad_fn=<MulBackward0>)]\n",
      "[array(0.11742872, dtype=float32), tensor(0.1774, device='cuda:0', grad_fn=<MulBackward0>)]\n",
      "[array(0.11284463, dtype=float32), tensor(0.1772, device='cuda:0', grad_fn=<MulBackward0>)]\n",
      "[array(0.11623852, dtype=float32), tensor(0.1750, device='cuda:0', grad_fn=<MulBackward0>)]\n",
      "[array(0.12041613, dtype=float32), tensor(0.1756, device='cuda:0', grad_fn=<MulBackward0>)]\n",
      "[array(0.11662567, dtype=float32), tensor(0.1753, device='cuda:0', grad_fn=<MulBackward0>)]\n",
      "[array(0.11242247, dtype=float32), tensor(0.1719, device='cuda:0', grad_fn=<MulBackward0>)]\n",
      "[array(0.11463463, dtype=float32), tensor(0.1724, device='cuda:0', grad_fn=<MulBackward0>)]\n",
      "[array(0.11790572, dtype=float32), tensor(0.1731, device='cuda:0', grad_fn=<MulBackward0>)]\n",
      "[array(0.1127461, dtype=float32), tensor(0.1727, device='cuda:0', grad_fn=<MulBackward0>)]\n",
      "[array(0.11394559, dtype=float32), tensor(0.1692, device='cuda:0', grad_fn=<MulBackward0>)]\n",
      "[array(0.11226454, dtype=float32), tensor(0.1718, device='cuda:0', grad_fn=<MulBackward0>)]\n",
      "[array(0.11641647, dtype=float32), tensor(0.1701, device='cuda:0', grad_fn=<MulBackward0>)]\n",
      "[array(0.11732848, dtype=float32), tensor(0.1750, device='cuda:0', grad_fn=<MulBackward0>)]\n",
      "[array(0.11629704, dtype=float32), tensor(0.1733, device='cuda:0', grad_fn=<MulBackward0>)]\n",
      "[array(0.11475568, dtype=float32), tensor(0.1738, device='cuda:0', grad_fn=<MulBackward0>)]\n",
      "[array(0.11552642, dtype=float32), tensor(0.1696, device='cuda:0', grad_fn=<MulBackward0>)]\n",
      "[array(0.11326365, dtype=float32), tensor(0.1681, device='cuda:0', grad_fn=<MulBackward0>)]\n",
      "[array(0.11213079, dtype=float32), tensor(0.1657, device='cuda:0', grad_fn=<MulBackward0>)]\n",
      "[array(0.11082901, dtype=float32), tensor(0.1680, device='cuda:0', grad_fn=<MulBackward0>)]\n",
      "[array(0.11174167, dtype=float32), tensor(0.1661, device='cuda:0', grad_fn=<MulBackward0>)]\n",
      "[array(0.10875247, dtype=float32), tensor(0.1697, device='cuda:0', grad_fn=<MulBackward0>)]\n",
      "[array(0.10698835, dtype=float32), tensor(0.1673, device='cuda:0', grad_fn=<MulBackward0>)]\n",
      "[array(0.1068118, dtype=float32), tensor(0.1675, device='cuda:0', grad_fn=<MulBackward0>)]\n",
      "[array(0.10763302, dtype=float32), tensor(0.1677, device='cuda:0', grad_fn=<MulBackward0>)]\n",
      "[array(0.10703407, dtype=float32), tensor(0.1700, device='cuda:0', grad_fn=<MulBackward0>)]\n",
      "[array(0.10600087, dtype=float32), tensor(0.1714, device='cuda:0', grad_fn=<MulBackward0>)]\n",
      "[array(0.10687642, dtype=float32), tensor(0.1719, device='cuda:0', grad_fn=<MulBackward0>)]\n",
      "[array(0.10582185, dtype=float32), tensor(0.1697, device='cuda:0', grad_fn=<MulBackward0>)]\n",
      "[array(0.1094017, dtype=float32), tensor(0.1660, device='cuda:0', grad_fn=<MulBackward0>)]\n",
      "[array(0.11193061, dtype=float32), tensor(0.1638, device='cuda:0', grad_fn=<MulBackward0>)]\n",
      "[array(0.11065412, dtype=float32), tensor(0.1622, device='cuda:0', grad_fn=<MulBackward0>)]\n",
      "[array(0.10786846, dtype=float32), tensor(0.1623, device='cuda:0', grad_fn=<MulBackward0>)]\n",
      "[array(0.10716139, dtype=float32), tensor(0.1630, device='cuda:0', grad_fn=<MulBackward0>)]\n",
      "[array(0.10585555, dtype=float32), tensor(0.0107, device='cuda:0', grad_fn=<MulBackward0>)]\n",
      "[array(0.11896219, dtype=float32), tensor(0.1858, device='cuda:0', grad_fn=<MulBackward0>)]\n",
      "[array(0.11437069, dtype=float32), tensor(0.1857, device='cuda:0', grad_fn=<MulBackward0>)]\n",
      "[array(0.11207605, dtype=float32), tensor(0.1866, device='cuda:0', grad_fn=<MulBackward0>)]\n",
      "[array(0.10921253, dtype=float32), tensor(0.1862, device='cuda:0', grad_fn=<MulBackward0>)]\n",
      "[array(0.11030365, dtype=float32), tensor(0.1835, device='cuda:0', grad_fn=<MulBackward0>)]\n",
      "[array(0.10930084, dtype=float32), tensor(0.1812, device='cuda:0', grad_fn=<MulBackward0>)]\n",
      "[array(0.1128411, dtype=float32), tensor(0.1806, device='cuda:0', grad_fn=<MulBackward0>)]\n",
      "[array(0.11490677, dtype=float32), tensor(0.1790, device='cuda:0', grad_fn=<MulBackward0>)]\n",
      "[array(0.11528106, dtype=float32), tensor(0.1715, device='cuda:0', grad_fn=<MulBackward0>)]\n",
      "[array(0.11024334, dtype=float32), tensor(0.1729, device='cuda:0', grad_fn=<MulBackward0>)]\n",
      "[array(0.10773702, dtype=float32), tensor(0.1748, device='cuda:0', grad_fn=<MulBackward0>)]\n",
      "[array(0.10932808, dtype=float32), tensor(0.1754, device='cuda:0', grad_fn=<MulBackward0>)]\n",
      "[array(0.1095707, dtype=float32), tensor(0.1699, device='cuda:0', grad_fn=<MulBackward0>)]\n",
      "[array(0.11370274, dtype=float32), tensor(0.1736, device='cuda:0', grad_fn=<MulBackward0>)]\n",
      "[array(0.10902042, dtype=float32), tensor(0.1744, device='cuda:0', grad_fn=<MulBackward0>)]\n",
      "[array(0.11007382, dtype=float32), tensor(0.1758, device='cuda:0', grad_fn=<MulBackward0>)]\n",
      "[array(0.10469577, dtype=float32), tensor(0.1777, device='cuda:0', grad_fn=<MulBackward0>)]\n",
      "[array(0.10526246, dtype=float32), tensor(0.1765, device='cuda:0', grad_fn=<MulBackward0>)]\n",
      "[array(0.10497585, dtype=float32), tensor(0.1762, device='cuda:0', grad_fn=<MulBackward0>)]\n",
      "[array(0.10365878, dtype=float32), tensor(0.1747, device='cuda:0', grad_fn=<MulBackward0>)]\n",
      "[array(0.1014584, dtype=float32), tensor(0.1748, device='cuda:0', grad_fn=<MulBackward0>)]\n",
      "[array(0.10182375, dtype=float32), tensor(0.1731, device='cuda:0', grad_fn=<MulBackward0>)]\n",
      "[array(0.10704244, dtype=float32), tensor(0.1719, device='cuda:0', grad_fn=<MulBackward0>)]\n",
      "[array(0.10799526, dtype=float32), tensor(0.1717, device='cuda:0', grad_fn=<MulBackward0>)]\n",
      "[array(0.10766023, dtype=float32), tensor(0.1663, device='cuda:0', grad_fn=<MulBackward0>)]\n",
      "[array(0.10561401, dtype=float32), tensor(0.1661, device='cuda:0', grad_fn=<MulBackward0>)]\n",
      "[array(0.10377891, dtype=float32), tensor(0.1664, device='cuda:0', grad_fn=<MulBackward0>)]\n",
      "[array(0.10079424, dtype=float32), tensor(0.1673, device='cuda:0', grad_fn=<MulBackward0>)]\n",
      "[array(0.09974654, dtype=float32), tensor(0.1709, device='cuda:0', grad_fn=<MulBackward0>)]\n",
      "[array(0.09922434, dtype=float32), tensor(0.1739, device='cuda:0', grad_fn=<MulBackward0>)]\n",
      "[array(0.09780625, dtype=float32), tensor(0.1719, device='cuda:0', grad_fn=<MulBackward0>)]\n",
      "[array(0.10207903, dtype=float32), tensor(0.1662, device='cuda:0', grad_fn=<MulBackward0>)]\n",
      "[array(0.09896022, dtype=float32), tensor(0.1662, device='cuda:0', grad_fn=<MulBackward0>)]\n",
      "[array(0.09919041, dtype=float32), tensor(0.1671, device='cuda:0', grad_fn=<MulBackward0>)]\n",
      "[array(0.09820765, dtype=float32), tensor(0.1665, device='cuda:0', grad_fn=<MulBackward0>)]\n",
      "[array(0.0959969, dtype=float32), tensor(0.1668, device='cuda:0', grad_fn=<MulBackward0>)]\n",
      "[array(0.0938937, dtype=float32), tensor(0.1664, device='cuda:0', grad_fn=<MulBackward0>)]\n",
      "[array(0.09688754, dtype=float32), tensor(0.1659, device='cuda:0', grad_fn=<MulBackward0>)]\n",
      "[array(0.09703144, dtype=float32), tensor(0.1651, device='cuda:0', grad_fn=<MulBackward0>)]\n",
      "[array(0.09491877, dtype=float32), tensor(0.1663, device='cuda:0', grad_fn=<MulBackward0>)]\n",
      "[array(0.09118079, dtype=float32), tensor(0.1660, device='cuda:0', grad_fn=<MulBackward0>)]\n",
      "[array(0.09402904, dtype=float32), tensor(0.1643, device='cuda:0', grad_fn=<MulBackward0>)]\n",
      "[array(0.0973552, dtype=float32), tensor(0.1649, device='cuda:0', grad_fn=<MulBackward0>)]\n",
      "[array(0.09390806, dtype=float32), tensor(0.1645, device='cuda:0', grad_fn=<MulBackward0>)]\n",
      "[array(0.0900932, dtype=float32), tensor(0.1613, device='cuda:0', grad_fn=<MulBackward0>)]\n",
      "[array(0.09180668, dtype=float32), tensor(0.1622, device='cuda:0', grad_fn=<MulBackward0>)]\n",
      "[array(0.0949522, dtype=float32), tensor(0.1632, device='cuda:0', grad_fn=<MulBackward0>)]\n",
      "[array(0.09079319, dtype=float32), tensor(0.1622, device='cuda:0', grad_fn=<MulBackward0>)]\n",
      "[array(0.09225318, dtype=float32), tensor(0.1595, device='cuda:0', grad_fn=<MulBackward0>)]\n",
      "[array(0.09003279, dtype=float32), tensor(0.1620, device='cuda:0', grad_fn=<MulBackward0>)]\n",
      "[array(0.09373638, dtype=float32), tensor(0.1604, device='cuda:0', grad_fn=<MulBackward0>)]\n",
      "[array(0.09539117, dtype=float32), tensor(0.1639, device='cuda:0', grad_fn=<MulBackward0>)]\n",
      "[array(0.0941745, dtype=float32), tensor(0.1627, device='cuda:0', grad_fn=<MulBackward0>)]\n",
      "[array(0.092686, dtype=float32), tensor(0.1633, device='cuda:0', grad_fn=<MulBackward0>)]\n",
      "[array(0.09349442, dtype=float32), tensor(0.1599, device='cuda:0', grad_fn=<MulBackward0>)]\n",
      "[array(0.09176952, dtype=float32), tensor(0.1581, device='cuda:0', grad_fn=<MulBackward0>)]\n",
      "[array(0.09108828, dtype=float32), tensor(0.1563, device='cuda:0', grad_fn=<MulBackward0>)]\n",
      "[array(0.08971366, dtype=float32), tensor(0.1581, device='cuda:0', grad_fn=<MulBackward0>)]\n",
      "[array(0.0900441, dtype=float32), tensor(0.1567, device='cuda:0', grad_fn=<MulBackward0>)]\n",
      "[array(0.08912634, dtype=float32), tensor(0.1591, device='cuda:0', grad_fn=<MulBackward0>)]\n",
      "[array(0.08744871, dtype=float32), tensor(0.1567, device='cuda:0', grad_fn=<MulBackward0>)]\n",
      "[array(0.08742428, dtype=float32), tensor(0.1573, device='cuda:0', grad_fn=<MulBackward0>)]\n",
      "[array(0.08798484, dtype=float32), tensor(0.1579, device='cuda:0', grad_fn=<MulBackward0>)]\n",
      "[array(0.08653285, dtype=float32), tensor(0.1604, device='cuda:0', grad_fn=<MulBackward0>)]\n",
      "[array(0.08522385, dtype=float32), tensor(0.1617, device='cuda:0', grad_fn=<MulBackward0>)]\n",
      "[array(0.08517142, dtype=float32), tensor(0.1626, device='cuda:0', grad_fn=<MulBackward0>)]\n",
      "[array(0.08434214, dtype=float32), tensor(0.1608, device='cuda:0', grad_fn=<MulBackward0>)]\n",
      "[array(0.08713469, dtype=float32), tensor(0.1580, device='cuda:0', grad_fn=<MulBackward0>)]\n",
      "[array(0.08969989, dtype=float32), tensor(0.1557, device='cuda:0', grad_fn=<MulBackward0>)]\n",
      "[array(0.08894835, dtype=float32), tensor(0.1542, device='cuda:0', grad_fn=<MulBackward0>)]\n",
      "[array(0.08679789, dtype=float32), tensor(0.1538, device='cuda:0', grad_fn=<MulBackward0>)]\n",
      "[array(0.08579712, dtype=float32), tensor(0.1552, device='cuda:0', grad_fn=<MulBackward0>)]\n",
      "[array(0.08477503, dtype=float32), tensor(0.0102, device='cuda:0', grad_fn=<MulBackward0>)]\n",
      "[array(0.09570602, dtype=float32), tensor(0.1744, device='cuda:0', grad_fn=<MulBackward0>)]\n",
      "[array(0.09202035, dtype=float32), tensor(0.1746, device='cuda:0', grad_fn=<MulBackward0>)]\n",
      "[array(0.090548, dtype=float32), tensor(0.1750, device='cuda:0', grad_fn=<MulBackward0>)]\n",
      "[array(0.08844486, dtype=float32), tensor(0.1743, device='cuda:0', grad_fn=<MulBackward0>)]\n",
      "[array(0.08938806, dtype=float32), tensor(0.1716, device='cuda:0', grad_fn=<MulBackward0>)]\n",
      "[array(0.08819577, dtype=float32), tensor(0.1701, device='cuda:0', grad_fn=<MulBackward0>)]\n",
      "[array(0.09124936, dtype=float32), tensor(0.1698, device='cuda:0', grad_fn=<MulBackward0>)]\n",
      "[array(0.09366353, dtype=float32), tensor(0.1681, device='cuda:0', grad_fn=<MulBackward0>)]\n",
      "[array(0.09388845, dtype=float32), tensor(0.1611, device='cuda:0', grad_fn=<MulBackward0>)]\n",
      "[array(0.09008975, dtype=float32), tensor(0.1626, device='cuda:0', grad_fn=<MulBackward0>)]\n",
      "[array(0.08767301, dtype=float32), tensor(0.1647, device='cuda:0', grad_fn=<MulBackward0>)]\n",
      "[array(0.08733381, dtype=float32), tensor(0.1661, device='cuda:0', grad_fn=<MulBackward0>)]\n",
      "[array(0.08787978, dtype=float32), tensor(0.1612, device='cuda:0', grad_fn=<MulBackward0>)]\n",
      "[array(0.09261406, dtype=float32), tensor(0.1641, device='cuda:0', grad_fn=<MulBackward0>)]\n",
      "[array(0.08889892, dtype=float32), tensor(0.1645, device='cuda:0', grad_fn=<MulBackward0>)]\n",
      "[array(0.08975808, dtype=float32), tensor(0.1659, device='cuda:0', grad_fn=<MulBackward0>)]\n",
      "[array(0.08568218, dtype=float32), tensor(0.1668, device='cuda:0', grad_fn=<MulBackward0>)]\n",
      "[array(0.08634144, dtype=float32), tensor(0.1658, device='cuda:0', grad_fn=<MulBackward0>)]\n",
      "[array(0.08615814, dtype=float32), tensor(0.1654, device='cuda:0', grad_fn=<MulBackward0>)]\n",
      "[array(0.08485415, dtype=float32), tensor(0.1640, device='cuda:0', grad_fn=<MulBackward0>)]\n",
      "[array(0.08308955, dtype=float32), tensor(0.1640, device='cuda:0', grad_fn=<MulBackward0>)]\n",
      "[array(0.0833527, dtype=float32), tensor(0.1629, device='cuda:0', grad_fn=<MulBackward0>)]\n",
      "[array(0.08835557, dtype=float32), tensor(0.1615, device='cuda:0', grad_fn=<MulBackward0>)]\n",
      "[array(0.08953843, dtype=float32), tensor(0.1611, device='cuda:0', grad_fn=<MulBackward0>)]\n",
      "[array(0.08884205, dtype=float32), tensor(0.1562, device='cuda:0', grad_fn=<MulBackward0>)]\n",
      "[array(0.08691715, dtype=float32), tensor(0.1563, device='cuda:0', grad_fn=<MulBackward0>)]\n",
      "[array(0.08582737, dtype=float32), tensor(0.1566, device='cuda:0', grad_fn=<MulBackward0>)]\n",
      "[array(0.0836795, dtype=float32), tensor(0.1574, device='cuda:0', grad_fn=<MulBackward0>)]\n",
      "[array(0.08186626, dtype=float32), tensor(0.1614, device='cuda:0', grad_fn=<MulBackward0>)]\n",
      "[array(0.08042073, dtype=float32), tensor(0.1643, device='cuda:0', grad_fn=<MulBackward0>)]\n",
      "[array(0.0790906, dtype=float32), tensor(0.1628, device='cuda:0', grad_fn=<MulBackward0>)]\n",
      "[array(0.08278286, dtype=float32), tensor(0.1576, device='cuda:0', grad_fn=<MulBackward0>)]\n",
      "[array(0.08063674, dtype=float32), tensor(0.1575, device='cuda:0', grad_fn=<MulBackward0>)]\n",
      "[array(0.08240906, dtype=float32), tensor(0.1573, device='cuda:0', grad_fn=<MulBackward0>)]\n",
      "[array(0.08158761, dtype=float32), tensor(0.1569, device='cuda:0', grad_fn=<MulBackward0>)]\n",
      "[array(0.079853, dtype=float32), tensor(0.1567, device='cuda:0', grad_fn=<MulBackward0>)]\n",
      "[array(0.07780924, dtype=float32), tensor(0.1566, device='cuda:0', grad_fn=<MulBackward0>)]\n",
      "[array(0.08055335, dtype=float32), tensor(0.1562, device='cuda:0', grad_fn=<MulBackward0>)]\n",
      "[array(0.08070023, dtype=float32), tensor(0.1553, device='cuda:0', grad_fn=<MulBackward0>)]\n",
      "[array(0.07899608, dtype=float32), tensor(0.1563, device='cuda:0', grad_fn=<MulBackward0>)]\n",
      "[array(0.07583146, dtype=float32), tensor(0.1559, device='cuda:0', grad_fn=<MulBackward0>)]\n",
      "[array(0.07812662, dtype=float32), tensor(0.1547, device='cuda:0', grad_fn=<MulBackward0>)]\n",
      "[array(0.08097045, dtype=float32), tensor(0.1554, device='cuda:0', grad_fn=<MulBackward0>)]\n",
      "[array(0.07794241, dtype=float32), tensor(0.1551, device='cuda:0', grad_fn=<MulBackward0>)]\n",
      "[array(0.07468842, dtype=float32), tensor(0.1517, device='cuda:0', grad_fn=<MulBackward0>)]\n",
      "[array(0.07610751, dtype=float32), tensor(0.1528, device='cuda:0', grad_fn=<MulBackward0>)]\n",
      "[array(0.07847925, dtype=float32), tensor(0.1542, device='cuda:0', grad_fn=<MulBackward0>)]\n",
      "[array(0.07526881, dtype=float32), tensor(0.1529, device='cuda:0', grad_fn=<MulBackward0>)]\n",
      "[array(0.07683562, dtype=float32), tensor(0.1505, device='cuda:0', grad_fn=<MulBackward0>)]\n",
      "[array(0.07431933, dtype=float32), tensor(0.1532, device='cuda:0', grad_fn=<MulBackward0>)]\n",
      "[array(0.07775197, dtype=float32), tensor(0.1516, device='cuda:0', grad_fn=<MulBackward0>)]\n",
      "[array(0.08008529, dtype=float32), tensor(0.1543, device='cuda:0', grad_fn=<MulBackward0>)]\n",
      "[array(0.07895617, dtype=float32), tensor(0.1531, device='cuda:0', grad_fn=<MulBackward0>)]\n",
      "[array(0.07758871, dtype=float32), tensor(0.1539, device='cuda:0', grad_fn=<MulBackward0>)]\n",
      "[array(0.07804585, dtype=float32), tensor(0.1509, device='cuda:0', grad_fn=<MulBackward0>)]\n",
      "[array(0.07632421, dtype=float32), tensor(0.1489, device='cuda:0', grad_fn=<MulBackward0>)]\n",
      "[array(0.07592687, dtype=float32), tensor(0.1476, device='cuda:0', grad_fn=<MulBackward0>)]\n",
      "[array(0.07476086, dtype=float32), tensor(0.1491, device='cuda:0', grad_fn=<MulBackward0>)]\n",
      "[array(0.07460624, dtype=float32), tensor(0.1479, device='cuda:0', grad_fn=<MulBackward0>)]\n",
      "[array(0.07548966, dtype=float32), tensor(0.1496, device='cuda:0', grad_fn=<MulBackward0>)]\n",
      "[array(0.07400718, dtype=float32), tensor(0.1473, device='cuda:0', grad_fn=<MulBackward0>)]\n",
      "[array(0.0742109, dtype=float32), tensor(0.1480, device='cuda:0', grad_fn=<MulBackward0>)]\n",
      "[array(0.07431318, dtype=float32), tensor(0.1491, device='cuda:0', grad_fn=<MulBackward0>)]\n",
      "[array(0.07235375, dtype=float32), tensor(0.1515, device='cuda:0', grad_fn=<MulBackward0>)]\n",
      "[array(0.07075202, dtype=float32), tensor(0.1528, device='cuda:0', grad_fn=<MulBackward0>)]\n",
      "[array(0.0704655, dtype=float32), tensor(0.1537, device='cuda:0', grad_fn=<MulBackward0>)]\n",
      "[array(0.06976862, dtype=float32), tensor(0.1521, device='cuda:0', grad_fn=<MulBackward0>)]\n",
      "[array(0.07182606, dtype=float32), tensor(0.1500, device='cuda:0', grad_fn=<MulBackward0>)]\n",
      "[array(0.07420953, dtype=float32), tensor(0.1476, device='cuda:0', grad_fn=<MulBackward0>)]\n",
      "[array(0.07403636, dtype=float32), tensor(0.1461, device='cuda:0', grad_fn=<MulBackward0>)]\n",
      "[array(0.07237629, dtype=float32), tensor(0.1454, device='cuda:0', grad_fn=<MulBackward0>)]\n",
      "[array(0.07102709, dtype=float32), tensor(0.1474, device='cuda:0', grad_fn=<MulBackward0>)]\n",
      "[array(0.07019153, dtype=float32), tensor(0.0097, device='cuda:0', grad_fn=<MulBackward0>)]\n",
      "[array(0.07963112, dtype=float32), tensor(0.1639, device='cuda:0', grad_fn=<MulBackward0>)]\n",
      "[array(0.07668159, dtype=float32), tensor(0.1644, device='cuda:0', grad_fn=<MulBackward0>)]\n",
      "[array(0.07560477, dtype=float32), tensor(0.1647, device='cuda:0', grad_fn=<MulBackward0>)]\n",
      "[array(0.07399018, dtype=float32), tensor(0.1633, device='cuda:0', grad_fn=<MulBackward0>)]\n",
      "[array(0.07498088, dtype=float32), tensor(0.1610, device='cuda:0', grad_fn=<MulBackward0>)]\n",
      "[array(0.07363355, dtype=float32), tensor(0.1599, device='cuda:0', grad_fn=<MulBackward0>)]\n",
      "[array(0.07639208, dtype=float32), tensor(0.1599, device='cuda:0', grad_fn=<MulBackward0>)]\n",
      "[array(0.07919109, dtype=float32), tensor(0.1582, device='cuda:0', grad_fn=<MulBackward0>)]\n",
      "[array(0.07894175, dtype=float32), tensor(0.1514, device='cuda:0', grad_fn=<MulBackward0>)]\n",
      "[array(0.07626353, dtype=float32), tensor(0.1530, device='cuda:0', grad_fn=<MulBackward0>)]\n",
      "[array(0.07382365, dtype=float32), tensor(0.1554, device='cuda:0', grad_fn=<MulBackward0>)]\n",
      "[array(0.07216624, dtype=float32), tensor(0.1573, device='cuda:0', grad_fn=<MulBackward0>)]\n",
      "[array(0.07289375, dtype=float32), tensor(0.1526, device='cuda:0', grad_fn=<MulBackward0>)]\n",
      "[array(0.0777064, dtype=float32), tensor(0.1554, device='cuda:0', grad_fn=<MulBackward0>)]\n",
      "[array(0.07453811, dtype=float32), tensor(0.1558, device='cuda:0', grad_fn=<MulBackward0>)]\n",
      "[array(0.07524516, dtype=float32), tensor(0.1568, device='cuda:0', grad_fn=<MulBackward0>)]\n",
      "[array(0.0721347, dtype=float32), tensor(0.1570, device='cuda:0', grad_fn=<MulBackward0>)]\n",
      "[array(0.07276005, dtype=float32), tensor(0.1562, device='cuda:0', grad_fn=<MulBackward0>)]\n",
      "[array(0.07287282, dtype=float32), tensor(0.1556, device='cuda:0', grad_fn=<MulBackward0>)]\n",
      "[array(0.07173919, dtype=float32), tensor(0.1545, device='cuda:0', grad_fn=<MulBackward0>)]\n",
      "[array(0.0699903, dtype=float32), tensor(0.1545, device='cuda:0', grad_fn=<MulBackward0>)]\n",
      "[array(0.0702806, dtype=float32), tensor(0.1537, device='cuda:0', grad_fn=<MulBackward0>)]\n",
      "[array(0.07513332, dtype=float32), tensor(0.1523, device='cuda:0', grad_fn=<MulBackward0>)]\n",
      "[array(0.0765456, dtype=float32), tensor(0.1518, device='cuda:0', grad_fn=<MulBackward0>)]\n",
      "[array(0.07516687, dtype=float32), tensor(0.1472, device='cuda:0', grad_fn=<MulBackward0>)]\n",
      "[array(0.07344312, dtype=float32), tensor(0.1476, device='cuda:0', grad_fn=<MulBackward0>)]\n",
      "[array(0.07298976, dtype=float32), tensor(0.1478, device='cuda:0', grad_fn=<MulBackward0>)]\n",
      "[array(0.07158312, dtype=float32), tensor(0.1487, device='cuda:0', grad_fn=<MulBackward0>)]\n",
      "[array(0.06916619, dtype=float32), tensor(0.1530, device='cuda:0', grad_fn=<MulBackward0>)]\n",
      "[array(0.06729127, dtype=float32), tensor(0.1557, device='cuda:0', grad_fn=<MulBackward0>)]\n",
      "[array(0.06627157, dtype=float32), tensor(0.1543, device='cuda:0', grad_fn=<MulBackward0>)]\n",
      "[array(0.0694325, dtype=float32), tensor(0.1493, device='cuda:0', grad_fn=<MulBackward0>)]\n",
      "[array(0.06810777, dtype=float32), tensor(0.1489, device='cuda:0', grad_fn=<MulBackward0>)]\n",
      "[array(0.07063597, dtype=float32), tensor(0.1483, device='cuda:0', grad_fn=<MulBackward0>)]\n",
      "[array(0.06992908, dtype=float32), tensor(0.1480, device='cuda:0', grad_fn=<MulBackward0>)]\n",
      "[array(0.06849785, dtype=float32), tensor(0.1476, device='cuda:0', grad_fn=<MulBackward0>)]\n",
      "[array(0.06640993, dtype=float32), tensor(0.1480, device='cuda:0', grad_fn=<MulBackward0>)]\n",
      "[array(0.06873077, dtype=float32), tensor(0.1476, device='cuda:0', grad_fn=<MulBackward0>)]\n",
      "[array(0.06894366, dtype=float32), tensor(0.1464, device='cuda:0', grad_fn=<MulBackward0>)]\n",
      "[array(0.06751647, dtype=float32), tensor(0.1473, device='cuda:0', grad_fn=<MulBackward0>)]\n",
      "[array(0.06487484, dtype=float32), tensor(0.1467, device='cuda:0', grad_fn=<MulBackward0>)]\n",
      "[array(0.06672698, dtype=float32), tensor(0.1459, device='cuda:0', grad_fn=<MulBackward0>)]\n",
      "[array(0.06943804, dtype=float32), tensor(0.1467, device='cuda:0', grad_fn=<MulBackward0>)]\n",
      "[array(0.06680073, dtype=float32), tensor(0.1462, device='cuda:0', grad_fn=<MulBackward0>)]\n",
      "[array(0.06414247, dtype=float32), tensor(0.1429, device='cuda:0', grad_fn=<MulBackward0>)]\n",
      "[array(0.06535655, dtype=float32), tensor(0.1441, device='cuda:0', grad_fn=<MulBackward0>)]\n",
      "[array(0.06686325, dtype=float32), tensor(0.1459, device='cuda:0', grad_fn=<MulBackward0>)]\n",
      "[array(0.06440762, dtype=float32), tensor(0.1444, device='cuda:0', grad_fn=<MulBackward0>)]\n",
      "[array(0.06583887, dtype=float32), tensor(0.1423, device='cuda:0', grad_fn=<MulBackward0>)]\n",
      "[array(0.06328516, dtype=float32), tensor(0.1451, device='cuda:0', grad_fn=<MulBackward0>)]\n",
      "[array(0.06642053, dtype=float32), tensor(0.1436, device='cuda:0', grad_fn=<MulBackward0>)]\n",
      "[array(0.06925958, dtype=float32), tensor(0.1455, device='cuda:0', grad_fn=<MulBackward0>)]\n",
      "[array(0.06809998, dtype=float32), tensor(0.1446, device='cuda:0', grad_fn=<MulBackward0>)]\n",
      "[array(0.06699868, dtype=float32), tensor(0.1454, device='cuda:0', grad_fn=<MulBackward0>)]\n",
      "[array(0.06696073, dtype=float32), tensor(0.1427, device='cuda:0', grad_fn=<MulBackward0>)]\n",
      "[array(0.06514813, dtype=float32), tensor(0.1406, device='cuda:0', grad_fn=<MulBackward0>)]\n",
      "[array(0.06495442, dtype=float32), tensor(0.1396, device='cuda:0', grad_fn=<MulBackward0>)]\n",
      "[array(0.0642001, dtype=float32), tensor(0.1408, device='cuda:0', grad_fn=<MulBackward0>)]\n",
      "[array(0.06369625, dtype=float32), tensor(0.1397, device='cuda:0', grad_fn=<MulBackward0>)]\n",
      "[array(0.06576449, dtype=float32), tensor(0.1411, device='cuda:0', grad_fn=<MulBackward0>)]\n",
      "[array(0.06432489, dtype=float32), tensor(0.1392, device='cuda:0', grad_fn=<MulBackward0>)]\n",
      "[array(0.06473919, dtype=float32), tensor(0.1399, device='cuda:0', grad_fn=<MulBackward0>)]\n",
      "[array(0.06457327, dtype=float32), tensor(0.1412, device='cuda:0', grad_fn=<MulBackward0>)]\n",
      "[array(0.06241089, dtype=float32), tensor(0.1433, device='cuda:0', grad_fn=<MulBackward0>)]\n",
      "[array(0.06075402, dtype=float32), tensor(0.1446, device='cuda:0', grad_fn=<MulBackward0>)]\n",
      "[array(0.06034967, dtype=float32), tensor(0.1455, device='cuda:0', grad_fn=<MulBackward0>)]\n",
      "[array(0.05967408, dtype=float32), tensor(0.1441, device='cuda:0', grad_fn=<MulBackward0>)]\n",
      "[array(0.06108259, dtype=float32), tensor(0.1424, device='cuda:0', grad_fn=<MulBackward0>)]\n",
      "[array(0.06312343, dtype=float32), tensor(0.1401, device='cuda:0', grad_fn=<MulBackward0>)]\n",
      "[array(0.06342768, dtype=float32), tensor(0.1385, device='cuda:0', grad_fn=<MulBackward0>)]\n",
      "[array(0.06225766, dtype=float32), tensor(0.1375, device='cuda:0', grad_fn=<MulBackward0>)]\n",
      "[array(0.06080496, dtype=float32), tensor(0.1400, device='cuda:0', grad_fn=<MulBackward0>)]\n",
      "[array(0.06002196, dtype=float32), tensor(0.0093, device='cuda:0', grad_fn=<MulBackward0>)]\n",
      "[array(0.06830143, dtype=float32), tensor(0.1544, device='cuda:0', grad_fn=<MulBackward0>)]\n",
      "[array(0.06601256, dtype=float32), tensor(0.1550, device='cuda:0', grad_fn=<MulBackward0>)]\n",
      "[array(0.06511442, dtype=float32), tensor(0.1552, device='cuda:0', grad_fn=<MulBackward0>)]\n",
      "[array(0.06356753, dtype=float32), tensor(0.1535, device='cuda:0', grad_fn=<MulBackward0>)]\n",
      "[array(0.06488269, dtype=float32), tensor(0.1513, device='cuda:0', grad_fn=<MulBackward0>)]\n",
      "[array(0.06335999, dtype=float32), tensor(0.1507, device='cuda:0', grad_fn=<MulBackward0>)]\n",
      "[array(0.06588455, dtype=float32), tensor(0.1509, device='cuda:0', grad_fn=<MulBackward0>)]\n",
      "[array(0.06891266, dtype=float32), tensor(0.1492, device='cuda:0', grad_fn=<MulBackward0>)]\n",
      "[array(0.06804138, dtype=float32), tensor(0.1428, device='cuda:0', grad_fn=<MulBackward0>)]\n",
      "[array(0.06642807, dtype=float32), tensor(0.1444, device='cuda:0', grad_fn=<MulBackward0>)]\n",
      "[array(0.06406277, dtype=float32), tensor(0.1470, device='cuda:0', grad_fn=<MulBackward0>)]\n",
      "[array(0.06173412, dtype=float32), tensor(0.1490, device='cuda:0', grad_fn=<MulBackward0>)]\n",
      "[array(0.06273994, dtype=float32), tensor(0.1443, device='cuda:0', grad_fn=<MulBackward0>)]\n",
      "[array(0.06728284, dtype=float32), tensor(0.1473, device='cuda:0', grad_fn=<MulBackward0>)]\n",
      "[array(0.06453369, dtype=float32), tensor(0.1475, device='cuda:0', grad_fn=<MulBackward0>)]\n",
      "[array(0.06494248, dtype=float32), tensor(0.1484, device='cuda:0', grad_fn=<MulBackward0>)]\n",
      "[array(0.06244808, dtype=float32), tensor(0.1481, device='cuda:0', grad_fn=<MulBackward0>)]\n",
      "[array(0.06317422, dtype=float32), tensor(0.1472, device='cuda:0', grad_fn=<MulBackward0>)]\n",
      "[array(0.06366477, dtype=float32), tensor(0.1464, device='cuda:0', grad_fn=<MulBackward0>)]\n",
      "[array(0.06264584, dtype=float32), tensor(0.1456, device='cuda:0', grad_fn=<MulBackward0>)]\n",
      "[array(0.06095074, dtype=float32), tensor(0.1457, device='cuda:0', grad_fn=<MulBackward0>)]\n",
      "[array(0.06117623, dtype=float32), tensor(0.1452, device='cuda:0', grad_fn=<MulBackward0>)]\n",
      "[array(0.06567783, dtype=float32), tensor(0.1440, device='cuda:0', grad_fn=<MulBackward0>)]\n",
      "[array(0.06721286, dtype=float32), tensor(0.1434, device='cuda:0', grad_fn=<MulBackward0>)]\n",
      "[array(0.06510884, dtype=float32), tensor(0.1392, device='cuda:0', grad_fn=<MulBackward0>)]\n",
      "[array(0.06376617, dtype=float32), tensor(0.1396, device='cuda:0', grad_fn=<MulBackward0>)]\n",
      "[array(0.063719, dtype=float32), tensor(0.1399, device='cuda:0', grad_fn=<MulBackward0>)]\n",
      "[array(0.06291111, dtype=float32), tensor(0.1408, device='cuda:0', grad_fn=<MulBackward0>)]\n",
      "[array(0.06010325, dtype=float32), tensor(0.1453, device='cuda:0', grad_fn=<MulBackward0>)]\n",
      "[array(0.05805118, dtype=float32), tensor(0.1478, device='cuda:0', grad_fn=<MulBackward0>)]\n",
      "[array(0.05723219, dtype=float32), tensor(0.1464, device='cuda:0', grad_fn=<MulBackward0>)]\n",
      "[array(0.05997921, dtype=float32), tensor(0.1415, device='cuda:0', grad_fn=<MulBackward0>)]\n",
      "[array(0.05928831, dtype=float32), tensor(0.1410, device='cuda:0', grad_fn=<MulBackward0>)]\n",
      "[array(0.06216829, dtype=float32), tensor(0.1403, device='cuda:0', grad_fn=<MulBackward0>)]\n",
      "[array(0.06140793, dtype=float32), tensor(0.1401, device='cuda:0', grad_fn=<MulBackward0>)]\n",
      "[array(0.06030728, dtype=float32), tensor(0.1394, device='cuda:0', grad_fn=<MulBackward0>)]\n",
      "[array(0.05815388, dtype=float32), tensor(0.1401, device='cuda:0', grad_fn=<MulBackward0>)]\n",
      "[array(0.05999907, dtype=float32), tensor(0.1399, device='cuda:0', grad_fn=<MulBackward0>)]\n",
      "[array(0.06014778, dtype=float32), tensor(0.1387, device='cuda:0', grad_fn=<MulBackward0>)]\n",
      "[array(0.05897152, dtype=float32), tensor(0.1393, device='cuda:0', grad_fn=<MulBackward0>)]\n",
      "[array(0.05657855, dtype=float32), tensor(0.1388, device='cuda:0', grad_fn=<MulBackward0>)]\n",
      "[array(0.0582241, dtype=float32), tensor(0.1381, device='cuda:0', grad_fn=<MulBackward0>)]\n",
      "[array(0.0610868, dtype=float32), tensor(0.1387, device='cuda:0', grad_fn=<MulBackward0>)]\n",
      "[array(0.05873081, dtype=float32), tensor(0.1381, device='cuda:0', grad_fn=<MulBackward0>)]\n",
      "[array(0.0566153, dtype=float32), tensor(0.1349, device='cuda:0', grad_fn=<MulBackward0>)]\n",
      "[array(0.05764048, dtype=float32), tensor(0.1362, device='cuda:0', grad_fn=<MulBackward0>)]\n",
      "[array(0.05843218, dtype=float32), tensor(0.1383, device='cuda:0', grad_fn=<MulBackward0>)]\n",
      "[array(0.05664852, dtype=float32), tensor(0.1366, device='cuda:0', grad_fn=<MulBackward0>)]\n",
      "[array(0.05787548, dtype=float32), tensor(0.1347, device='cuda:0', grad_fn=<MulBackward0>)]\n",
      "[array(0.05540039, dtype=float32), tensor(0.1378, device='cuda:0', grad_fn=<MulBackward0>)]\n",
      "[array(0.05820632, dtype=float32), tensor(0.1363, device='cuda:0', grad_fn=<MulBackward0>)]\n",
      "[array(0.06145364, dtype=float32), tensor(0.1376, device='cuda:0', grad_fn=<MulBackward0>)]\n",
      "[array(0.06030373, dtype=float32), tensor(0.1368, device='cuda:0', grad_fn=<MulBackward0>)]\n",
      "[array(0.05946509, dtype=float32), tensor(0.1377, device='cuda:0', grad_fn=<MulBackward0>)]\n",
      "[array(0.05901579, dtype=float32), tensor(0.1352, device='cuda:0', grad_fn=<MulBackward0>)]\n",
      "[array(0.05703726, dtype=float32), tensor(0.1329, device='cuda:0', grad_fn=<MulBackward0>)]\n",
      "[array(0.05680298, dtype=float32), tensor(0.1325, device='cuda:0', grad_fn=<MulBackward0>)]\n",
      "[array(0.05653652, dtype=float32), tensor(0.1332, device='cuda:0', grad_fn=<MulBackward0>)]\n",
      "[array(0.05573235, dtype=float32), tensor(0.1322, device='cuda:0', grad_fn=<MulBackward0>)]\n",
      "[array(0.05866656, dtype=float32), tensor(0.1336, device='cuda:0', grad_fn=<MulBackward0>)]\n",
      "[array(0.05726118, dtype=float32), tensor(0.1319, device='cuda:0', grad_fn=<MulBackward0>)]\n",
      "[array(0.05782467, dtype=float32), tensor(0.1325, device='cuda:0', grad_fn=<MulBackward0>)]\n",
      "[array(0.05741201, dtype=float32), tensor(0.1341, device='cuda:0', grad_fn=<MulBackward0>)]\n",
      "[array(0.05498813, dtype=float32), tensor(0.1362, device='cuda:0', grad_fn=<MulBackward0>)]\n",
      "[array(0.0533426, dtype=float32), tensor(0.1374, device='cuda:0', grad_fn=<MulBackward0>)]\n",
      "[array(0.05287011, dtype=float32), tensor(0.1384, device='cuda:0', grad_fn=<MulBackward0>)]\n",
      "[array(0.05224133, dtype=float32), tensor(0.1370, device='cuda:0', grad_fn=<MulBackward0>)]\n",
      "[array(0.05332968, dtype=float32), tensor(0.1356, device='cuda:0', grad_fn=<MulBackward0>)]\n",
      "[array(0.05527538, dtype=float32), tensor(0.1331, device='cuda:0', grad_fn=<MulBackward0>)]\n",
      "[array(0.05583245, dtype=float32), tensor(0.1316, device='cuda:0', grad_fn=<MulBackward0>)]\n",
      "[array(0.05502108, dtype=float32), tensor(0.1302, device='cuda:0', grad_fn=<MulBackward0>)]\n",
      "[array(0.05368015, dtype=float32), tensor(0.1329, device='cuda:0', grad_fn=<MulBackward0>)]\n",
      "[array(0.05296297, dtype=float32), tensor(0.0088, device='cuda:0', grad_fn=<MulBackward0>)]\n"
     ]
    }
   ],
   "source": [
    "epochs = 10\n",
    "batch_size = 2**15\n",
    "lam = 1e-7\n",
    "losses = []\n",
    "for epoch in range(epochs):\n",
    "    for batch in range(0, act_data.shape[0], batch_size):\n",
    "        dat = act_data[batch : batch + batch_size].to(\"cuda\")\n",
    "        \n",
    "        reg, guess = autoenc(dat)\n",
    "        mse_loss = loss_fn(guess, dat)\n",
    "        \n",
    "        sparse_loss = lam * reg\n",
    "        #sparse_loss = 0\n",
    "        loss = mse_loss + sparse_loss\n",
    "        #losses.append(interpretability.numpy(loss))\n",
    "        losses.append([interpretability.numpy(mse_loss), sparse_loss])\n",
    "        optimizer.zero_grad()\n",
    "        loss.backward()\n",
    "        print(losses[-1])\n",
    "        optimizer.step()\n",
    "\n",
    "        with torch.no_grad():\n",
    "            last_loss = loss_fn(guess, dat, reduction='none')"
   ]
  },
  {
   "cell_type": "code",
   "execution_count": 129,
   "metadata": {},
   "outputs": [
    {
     "data": {
      "text/plain": [
       "torch.return_types.sort(\n",
       "values=tensor([[5.3487e-09, 7.1918e-09, 3.5960e-08,  ..., 2.6246e-01, 2.6246e-01,\n",
       "         2.8048e-01],\n",
       "        [4.6919e-07, 6.7657e-07, 1.9079e-06,  ..., 1.0078e+00, 1.0573e+00,\n",
       "         1.2321e+00],\n",
       "        [8.9489e-07, 3.3453e-06, 1.2714e-05,  ..., 6.7506e-01, 7.4010e-01,\n",
       "         1.2074e+00],\n",
       "        ...,\n",
       "        [2.1759e-07, 4.2643e-07, 5.7342e-06,  ..., 4.2370e-01, 4.3755e-01,\n",
       "         6.2129e-01],\n",
       "        [1.9072e-06, 2.4738e-06, 3.0429e-06,  ..., 5.2393e-01, 5.3203e-01,\n",
       "         5.3374e-01],\n",
       "        [1.9040e-10, 1.1574e-06, 1.2861e-06,  ..., 2.5548e-01, 2.7523e-01,\n",
       "         3.1692e-01]], device='cuda:0'),\n",
       "indices=tensor([[508, 314, 184,  ..., 393,   7, 168],\n",
       "        [410, 507, 110,  ..., 285, 461, 308],\n",
       "        [213, 335, 320,  ..., 135, 209, 368],\n",
       "        ...,\n",
       "        [191, 443, 265,  ..., 348, 406, 243],\n",
       "        [265, 289, 176,  ...,  97, 158, 252],\n",
       "        [ 40, 483, 242,  ..., 209, 153, 237]], device='cuda:0'))"
      ]
     },
     "execution_count": 129,
     "metadata": {},
     "output_type": "execute_result"
    }
   ],
   "source": [
    "last_loss.sort()"
   ]
  },
  {
   "cell_type": "code",
   "execution_count": 130,
   "metadata": {},
   "outputs": [
    {
     "ename": "TypeError",
     "evalue": "can't convert cuda:0 device type tensor to numpy. Use Tensor.cpu() to copy the tensor to host memory first.",
     "output_type": "error",
     "traceback": [
      "\u001b[0;31m---------------------------------------------------------------------------\u001b[0m",
      "\u001b[0;31mTypeError\u001b[0m                                 Traceback (most recent call last)",
      "\u001b[1;32m/home/obayyub/p/Tic-Tac-Transformer/notebooks/231026_training_sparse_autoencoder_on_activations.ipynb Cell 36\u001b[0m line \u001b[0;36m<module>\u001b[0;34m\u001b[0m\n\u001b[1;32m      <a href='vscode-notebook-cell:/home/obayyub/p/Tic-Tac-Transformer/notebooks/231026_training_sparse_autoencoder_on_activations.ipynb#X45sZmlsZQ%3D%3D?line=0'>1</a>\u001b[0m plt\u001b[39m.\u001b[39myscale(\u001b[39m\"\u001b[39m\u001b[39mlog\u001b[39m\u001b[39m\"\u001b[39m)\n\u001b[0;32m----> <a href='vscode-notebook-cell:/home/obayyub/p/Tic-Tac-Transformer/notebooks/231026_training_sparse_autoencoder_on_activations.ipynb#X45sZmlsZQ%3D%3D?line=1'>2</a>\u001b[0m plt\u001b[39m.\u001b[39;49mplot(\u001b[39mrange\u001b[39;49m(\u001b[39mlen\u001b[39;49m(losses)), losses)\n",
      "File \u001b[0;32m~/.local/lib/python3.10/site-packages/matplotlib/pyplot.py:2769\u001b[0m, in \u001b[0;36mplot\u001b[0;34m(scalex, scaley, data, *args, **kwargs)\u001b[0m\n\u001b[1;32m   2767\u001b[0m \u001b[39m@_copy_docstring_and_deprecators\u001b[39m(Axes\u001b[39m.\u001b[39mplot)\n\u001b[1;32m   2768\u001b[0m \u001b[39mdef\u001b[39;00m \u001b[39mplot\u001b[39m(\u001b[39m*\u001b[39margs, scalex\u001b[39m=\u001b[39m\u001b[39mTrue\u001b[39;00m, scaley\u001b[39m=\u001b[39m\u001b[39mTrue\u001b[39;00m, data\u001b[39m=\u001b[39m\u001b[39mNone\u001b[39;00m, \u001b[39m*\u001b[39m\u001b[39m*\u001b[39mkwargs):\n\u001b[0;32m-> 2769\u001b[0m     \u001b[39mreturn\u001b[39;00m gca()\u001b[39m.\u001b[39;49mplot(\n\u001b[1;32m   2770\u001b[0m         \u001b[39m*\u001b[39;49margs, scalex\u001b[39m=\u001b[39;49mscalex, scaley\u001b[39m=\u001b[39;49mscaley,\n\u001b[1;32m   2771\u001b[0m         \u001b[39m*\u001b[39;49m\u001b[39m*\u001b[39;49m({\u001b[39m\"\u001b[39;49m\u001b[39mdata\u001b[39;49m\u001b[39m\"\u001b[39;49m: data} \u001b[39mif\u001b[39;49;00m data \u001b[39mis\u001b[39;49;00m \u001b[39mnot\u001b[39;49;00m \u001b[39mNone\u001b[39;49;00m \u001b[39melse\u001b[39;49;00m {}), \u001b[39m*\u001b[39;49m\u001b[39m*\u001b[39;49mkwargs)\n",
      "File \u001b[0;32m~/.local/lib/python3.10/site-packages/matplotlib/axes/_axes.py:1632\u001b[0m, in \u001b[0;36mAxes.plot\u001b[0;34m(self, scalex, scaley, data, *args, **kwargs)\u001b[0m\n\u001b[1;32m   1390\u001b[0m \u001b[39m\u001b[39m\u001b[39m\"\"\"\u001b[39;00m\n\u001b[1;32m   1391\u001b[0m \u001b[39mPlot y versus x as lines and/or markers.\u001b[39;00m\n\u001b[1;32m   1392\u001b[0m \n\u001b[0;32m   (...)\u001b[0m\n\u001b[1;32m   1629\u001b[0m \u001b[39m(``'green'``) or hex strings (``'#008000'``).\u001b[39;00m\n\u001b[1;32m   1630\u001b[0m \u001b[39m\"\"\"\u001b[39;00m\n\u001b[1;32m   1631\u001b[0m kwargs \u001b[39m=\u001b[39m cbook\u001b[39m.\u001b[39mnormalize_kwargs(kwargs, mlines\u001b[39m.\u001b[39mLine2D)\n\u001b[0;32m-> 1632\u001b[0m lines \u001b[39m=\u001b[39m [\u001b[39m*\u001b[39m\u001b[39mself\u001b[39m\u001b[39m.\u001b[39m_get_lines(\u001b[39m*\u001b[39margs, data\u001b[39m=\u001b[39mdata, \u001b[39m*\u001b[39m\u001b[39m*\u001b[39mkwargs)]\n\u001b[1;32m   1633\u001b[0m \u001b[39mfor\u001b[39;00m line \u001b[39min\u001b[39;00m lines:\n\u001b[1;32m   1634\u001b[0m     \u001b[39mself\u001b[39m\u001b[39m.\u001b[39madd_line(line)\n",
      "File \u001b[0;32m~/.local/lib/python3.10/site-packages/matplotlib/axes/_base.py:312\u001b[0m, in \u001b[0;36m_process_plot_var_args.__call__\u001b[0;34m(self, data, *args, **kwargs)\u001b[0m\n\u001b[1;32m    310\u001b[0m     this \u001b[39m+\u001b[39m\u001b[39m=\u001b[39m args[\u001b[39m0\u001b[39m],\n\u001b[1;32m    311\u001b[0m     args \u001b[39m=\u001b[39m args[\u001b[39m1\u001b[39m:]\n\u001b[0;32m--> 312\u001b[0m \u001b[39myield from\u001b[39;00m \u001b[39mself\u001b[39;49m\u001b[39m.\u001b[39;49m_plot_args(this, kwargs)\n",
      "File \u001b[0;32m~/.local/lib/python3.10/site-packages/matplotlib/axes/_base.py:488\u001b[0m, in \u001b[0;36m_process_plot_var_args._plot_args\u001b[0;34m(self, tup, kwargs, return_kwargs)\u001b[0m\n\u001b[1;32m    486\u001b[0m \u001b[39mif\u001b[39;00m \u001b[39mlen\u001b[39m(xy) \u001b[39m==\u001b[39m \u001b[39m2\u001b[39m:\n\u001b[1;32m    487\u001b[0m     x \u001b[39m=\u001b[39m _check_1d(xy[\u001b[39m0\u001b[39m])\n\u001b[0;32m--> 488\u001b[0m     y \u001b[39m=\u001b[39m _check_1d(xy[\u001b[39m1\u001b[39;49m])\n\u001b[1;32m    489\u001b[0m \u001b[39melse\u001b[39;00m:\n\u001b[1;32m    490\u001b[0m     x, y \u001b[39m=\u001b[39m index_of(xy[\u001b[39m-\u001b[39m\u001b[39m1\u001b[39m])\n",
      "File \u001b[0;32m~/.local/lib/python3.10/site-packages/matplotlib/cbook/__init__.py:1306\u001b[0m, in \u001b[0;36m_check_1d\u001b[0;34m(x)\u001b[0m\n\u001b[1;32m   1304\u001b[0m x \u001b[39m=\u001b[39m _unpack_to_numpy(x)\n\u001b[1;32m   1305\u001b[0m \u001b[39mif\u001b[39;00m \u001b[39mnot\u001b[39;00m \u001b[39mhasattr\u001b[39m(x, \u001b[39m'\u001b[39m\u001b[39mshape\u001b[39m\u001b[39m'\u001b[39m) \u001b[39mor\u001b[39;00m \u001b[39mlen\u001b[39m(x\u001b[39m.\u001b[39mshape) \u001b[39m<\u001b[39m \u001b[39m1\u001b[39m:\n\u001b[0;32m-> 1306\u001b[0m     \u001b[39mreturn\u001b[39;00m np\u001b[39m.\u001b[39;49matleast_1d(x)\n\u001b[1;32m   1307\u001b[0m \u001b[39melse\u001b[39;00m:\n\u001b[1;32m   1308\u001b[0m     \u001b[39mreturn\u001b[39;00m x\n",
      "File \u001b[0;32m<__array_function__ internals>:180\u001b[0m, in \u001b[0;36matleast_1d\u001b[0;34m(*args, **kwargs)\u001b[0m\n",
      "File \u001b[0;32m~/.local/lib/python3.10/site-packages/numpy/core/shape_base.py:65\u001b[0m, in \u001b[0;36matleast_1d\u001b[0;34m(*arys)\u001b[0m\n\u001b[1;32m     63\u001b[0m res \u001b[39m=\u001b[39m []\n\u001b[1;32m     64\u001b[0m \u001b[39mfor\u001b[39;00m ary \u001b[39min\u001b[39;00m arys:\n\u001b[0;32m---> 65\u001b[0m     ary \u001b[39m=\u001b[39m asanyarray(ary)\n\u001b[1;32m     66\u001b[0m     \u001b[39mif\u001b[39;00m ary\u001b[39m.\u001b[39mndim \u001b[39m==\u001b[39m \u001b[39m0\u001b[39m:\n\u001b[1;32m     67\u001b[0m         result \u001b[39m=\u001b[39m ary\u001b[39m.\u001b[39mreshape(\u001b[39m1\u001b[39m)\n",
      "File \u001b[0;32m~/.local/lib/python3.10/site-packages/torch/_tensor.py:1030\u001b[0m, in \u001b[0;36mTensor.__array__\u001b[0;34m(self, dtype)\u001b[0m\n\u001b[1;32m   1028\u001b[0m     \u001b[39mreturn\u001b[39;00m handle_torch_function(Tensor\u001b[39m.\u001b[39m__array__, (\u001b[39mself\u001b[39m,), \u001b[39mself\u001b[39m, dtype\u001b[39m=\u001b[39mdtype)\n\u001b[1;32m   1029\u001b[0m \u001b[39mif\u001b[39;00m dtype \u001b[39mis\u001b[39;00m \u001b[39mNone\u001b[39;00m:\n\u001b[0;32m-> 1030\u001b[0m     \u001b[39mreturn\u001b[39;00m \u001b[39mself\u001b[39;49m\u001b[39m.\u001b[39;49mnumpy()\n\u001b[1;32m   1031\u001b[0m \u001b[39melse\u001b[39;00m:\n\u001b[1;32m   1032\u001b[0m     \u001b[39mreturn\u001b[39;00m \u001b[39mself\u001b[39m\u001b[39m.\u001b[39mnumpy()\u001b[39m.\u001b[39mastype(dtype, copy\u001b[39m=\u001b[39m\u001b[39mFalse\u001b[39;00m)\n",
      "\u001b[0;31mTypeError\u001b[0m: can't convert cuda:0 device type tensor to numpy. Use Tensor.cpu() to copy the tensor to host memory first."
     ]
    },
    {
     "data": {
      "image/png": "[encoded data removed]",
      "text/plain": [
       "<Figure size 432x288 with 1 Axes>"
      ]
     },
     "metadata": {
      "needs_background": "light"
     },
     "output_type": "display_data"
    }
   ],
   "source": [
    "plt.yscale(\"log\")\n",
    "plt.plot(range(len(losses)), losses)"
   ]
  },
  {
   "cell_type": "markdown",
   "metadata": {},
   "source": [
    "Great. Now we've got an autoencoder, what do we do with it?"
   ]
  },
  {
   "cell_type": "code",
   "execution_count": 131,
   "metadata": {},
   "outputs": [],
   "source": [
    "@torch.no_grad()\n",
    "def get_freqs(num_batches=25, local_encoder=None):\n",
    "    if local_encoder is None:\n",
    "        local_encoder = encoder\n",
    "    act_freq_scores = torch.zeros(\n",
    "        local_encoder.W_in.shape[1], dtype=torch.float32\n",
    "    ).cuda()\n",
    "    total = 0\n",
    "    for i in tqdm.trange(num_batches):\n",
    "        tokens = act_data[torch.randperm(len(act_data))][: 2**14].to(\"cuda\")\n",
    "\n",
    "        hidden = local_encoder.get_act_density(tokens)\n",
    "\n",
    "        act_freq_scores += hidden\n",
    "        total += tokens.shape[0]\n",
    "    act_freq_scores /= total\n",
    "    num_dead = (act_freq_scores == 0).float().mean()\n",
    "    print(\"Num dead\", num_dead)\n",
    "    return act_freq_scores"
   ]
  },
  {
   "cell_type": "code",
   "execution_count": 132,
   "metadata": {},
   "outputs": [
    {
     "name": "stderr",
     "output_type": "stream",
     "text": [
      "100%|██████████| 25/25 [00:23<00:00,  1.07it/s]"
     ]
    },
    {
     "name": "stdout",
     "output_type": "stream",
     "text": [
      "Num dead tensor(0.1621, device='cuda:0')\n"
     ]
    },
    {
     "name": "stderr",
     "output_type": "stream",
     "text": [
      "\n"
     ]
    }
   ],
   "source": [
    "freqs = get_freqs(local_encoder=autoenc)"
   ]
  },
  {
   "cell_type": "code",
   "execution_count": 52,
   "metadata": {},
   "outputs": [
    {
     "name": "stdout",
     "output_type": "stream",
     "text": [
      "Tensor (dtype: torch.float32)\n",
      "    |  (device: cuda:0)\n",
      "    |__dim_0 (1024)\n"
     ]
    }
   ],
   "source": [
    "tt(freqs)"
   ]
  },
  {
   "cell_type": "code",
   "execution_count": 133,
   "metadata": {},
   "outputs": [
    {
     "name": "stdout",
     "output_type": "stream",
     "text": [
      "tensor(2202.3345, device='cuda:0')\n"
     ]
    }
   ],
   "source": [
    "print(freqs[112]*act_data.shape[0])"
   ]
  },
  {
   "cell_type": "code",
   "execution_count": 134,
   "metadata": {},
   "outputs": [
    {
     "data": {
      "image/png": "[encoded data removed]",
      "text/plain": [
       "<Figure size 720x432 with 1 Axes>"
      ]
     },
     "metadata": {
      "needs_background": "light"
     },
     "output_type": "display_data"
    }
   ],
   "source": [
    "x = interpretability.numpy(freqs)*act_data.shape[0];\n",
    "# x = interpretability.numpy(freqs)\n",
    "x = x[np.isfinite(x)];\n",
    "fig, ax = plt.subplots();\n",
    "#set figure size\n",
    "fig.set_size_inches(10, 6);\n",
    "ax.hist(x, bins=np.logspace(np.log10(5), np.log10(10000000), 100));\n",
    "ax.set_xscale(\"log\");\n",
    "#x label\n",
    "#ax.xlabel(\"Number of Moves (log 10 scale)\");\n",
    "#y label\n",
    "#ax.ylabel(\"Count of Features(neuron acts)\");\n",
    "#set xtick and labels of ticks\n",
    "tick_positions = [1, 10, 100, 1000, 10000, 100000, 1000000]\n",
    "tick_labels = ['1', '10', '100', '1k', '10k', '100k', '1M']\n",
    "ax.set_xticks(tick_positions);\n",
    "ax.set_xticklabels(tick_labels);\n",
    "#ax.get_xaxis().set_major_formatter(plt.ScalarFormatter());\n",
    "ax.set_xlabel(\"Number of Times Fired Out of 2,361,456\");\n",
    "ax.set_ylabel(\"Count of Features(neuron acts)\");"
   ]
  },
  {
   "cell_type": "code",
   "execution_count": 136,
   "metadata": {},
   "outputs": [],
   "source": [
    "torch.save(autoenc, \"sparse_autoencoder_on_activations_02NOV2023.pt\")"
   ]
  },
  {
   "cell_type": "code",
   "execution_count": null,
   "metadata": {},
   "outputs": [],
   "source": []
  }
 ],
 "metadata": {
  "kernelspec": {
   "display_name": "base",
   "language": "python",
   "name": "python3"
  },
  "language_info": {
   "codemirror_mode": {
    "name": "ipython",
    "version": 3
   },
   "file_extension": ".py",
   "mimetype": "text/x-python",
   "name": "python",
   "nbconvert_exporter": "python",
   "pygments_lexer": "ipython3",
   "version": "3.10.9"
  },
  "orig_nbformat": 4
 },
 "nbformat": 4,
 "nbformat_minor": 2
}
