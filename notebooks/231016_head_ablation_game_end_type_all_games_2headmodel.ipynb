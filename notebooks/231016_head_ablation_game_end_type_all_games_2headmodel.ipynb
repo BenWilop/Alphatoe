{
 "cells": [
  {
   "cell_type": "code",
   "execution_count": 1,
   "metadata": {},
   "outputs": [],
   "source": [
    "import numpy as np\n",
    "import torch\n",
    "from alphatoe import plot, game\n",
    "from transformer_lens import HookedTransformer, HookedTransformerConfig\n",
    "import json\n",
    "import einops\n",
    "import circuitsvis as cv\n",
    "from plotly.subplots import make_subplots\n",
    "import plotly.graph_objects as go\n",
    "import pandas as pd\n",
    "import torch.nn.functional as F\n",
    "\n",
    "import matplotlib.pyplot as plt\n",
    "from importlib import reload\n",
    "from tqdm import tqdm"
   ]
  },
  {
   "cell_type": "code",
   "execution_count": 2,
   "metadata": {},
   "outputs": [
    {
     "name": "stderr",
     "output_type": "stream",
     "text": [
      "/tmp/ipykernel_118452/1104573101.py:2: DtypeWarning: Columns (11) have mixed types. Specify dtype option on import or set low_memory=False.\n",
      "  df = pd.read_csv('../data/prob all 8 layer control-20230718-185339_stats.csv')\n"
     ]
    }
   ],
   "source": [
    "#pd csv\n",
    "df = pd.read_csv('../data/prob all 8 layer control-20230718-185339_stats.csv')"
   ]
  },
  {
   "cell_type": "code",
   "execution_count": 3,
   "metadata": {},
   "outputs": [
    {
     "data": {
      "text/html": [
       "<div>\n",
       "<style scoped>\n",
       "    .dataframe tbody tr th:only-of-type {\n",
       "        vertical-align: middle;\n",
       "    }\n",
       "\n",
       "    .dataframe tbody tr th {\n",
       "        vertical-align: top;\n",
       "    }\n",
       "\n",
       "    .dataframe thead th {\n",
       "        text-align: right;\n",
       "    }\n",
       "</style>\n",
       "<table border=\"1\" class=\"dataframe\">\n",
       "  <thead>\n",
       "    <tr style=\"text-align: right;\">\n",
       "      <th></th>\n",
       "      <th>moves played</th>\n",
       "      <th>steps till end state</th>\n",
       "      <th>winner</th>\n",
       "      <th>rotation 1</th>\n",
       "      <th>rotation 2</th>\n",
       "      <th>rotation 3</th>\n",
       "      <th>horizontal flip</th>\n",
       "      <th>vertical flip</th>\n",
       "      <th>training index</th>\n",
       "      <th>train or test</th>\n",
       "      <th>first win condition</th>\n",
       "      <th>second win condition</th>\n",
       "      <th>end move loss</th>\n",
       "    </tr>\n",
       "  </thead>\n",
       "  <tbody>\n",
       "    <tr>\n",
       "      <th>0</th>\n",
       "      <td>[0, 1, 3, 2, 6]</td>\n",
       "      <td>5</td>\n",
       "      <td>X</td>\n",
       "      <td>399</td>\n",
       "      <td>1439</td>\n",
       "      <td>1040</td>\n",
       "      <td>1114</td>\n",
       "      <td>325</td>\n",
       "      <td>241912</td>\n",
       "      <td>test</td>\n",
       "      <td>left column</td>\n",
       "      <td>NaN</td>\n",
       "      <td>0.000005</td>\n",
       "    </tr>\n",
       "    <tr>\n",
       "      <th>1</th>\n",
       "      <td>[0, 1, 3, 4, 6]</td>\n",
       "      <td>5</td>\n",
       "      <td>X</td>\n",
       "      <td>396</td>\n",
       "      <td>1438</td>\n",
       "      <td>1043</td>\n",
       "      <td>1112</td>\n",
       "      <td>327</td>\n",
       "      <td>190522</td>\n",
       "      <td>train</td>\n",
       "      <td>left column</td>\n",
       "      <td>NaN</td>\n",
       "      <td>0.000114</td>\n",
       "    </tr>\n",
       "    <tr>\n",
       "      <th>2</th>\n",
       "      <td>[0, 1, 3, 5, 6]</td>\n",
       "      <td>5</td>\n",
       "      <td>X</td>\n",
       "      <td>398</td>\n",
       "      <td>1437</td>\n",
       "      <td>1041</td>\n",
       "      <td>1113</td>\n",
       "      <td>326</td>\n",
       "      <td>90275</td>\n",
       "      <td>train</td>\n",
       "      <td>left column</td>\n",
       "      <td>NaN</td>\n",
       "      <td>0.000007</td>\n",
       "    </tr>\n",
       "    <tr>\n",
       "      <th>3</th>\n",
       "      <td>[0, 1, 3, 7, 6]</td>\n",
       "      <td>5</td>\n",
       "      <td>X</td>\n",
       "      <td>395</td>\n",
       "      <td>1436</td>\n",
       "      <td>1044</td>\n",
       "      <td>1110</td>\n",
       "      <td>329</td>\n",
       "      <td>21994</td>\n",
       "      <td>train</td>\n",
       "      <td>left column</td>\n",
       "      <td>NaN</td>\n",
       "      <td>0.000008</td>\n",
       "    </tr>\n",
       "    <tr>\n",
       "      <th>4</th>\n",
       "      <td>[0, 1, 3, 8, 6]</td>\n",
       "      <td>5</td>\n",
       "      <td>X</td>\n",
       "      <td>397</td>\n",
       "      <td>1435</td>\n",
       "      <td>1042</td>\n",
       "      <td>1111</td>\n",
       "      <td>328</td>\n",
       "      <td>48696</td>\n",
       "      <td>train</td>\n",
       "      <td>left column</td>\n",
       "      <td>NaN</td>\n",
       "      <td>0.000013</td>\n",
       "    </tr>\n",
       "  </tbody>\n",
       "</table>\n",
       "</div>"
      ],
      "text/plain": [
       "      moves played  steps till end state winner  rotation 1  rotation 2  \\\n",
       "0  [0, 1, 3, 2, 6]                     5      X         399        1439   \n",
       "1  [0, 1, 3, 4, 6]                     5      X         396        1438   \n",
       "2  [0, 1, 3, 5, 6]                     5      X         398        1437   \n",
       "3  [0, 1, 3, 7, 6]                     5      X         395        1436   \n",
       "4  [0, 1, 3, 8, 6]                     5      X         397        1435   \n",
       "\n",
       "   rotation 3  horizontal flip  vertical flip  training index train or test  \\\n",
       "0        1040             1114            325          241912          test   \n",
       "1        1043             1112            327          190522         train   \n",
       "2        1041             1113            326           90275         train   \n",
       "3        1044             1110            329           21994         train   \n",
       "4        1042             1111            328           48696         train   \n",
       "\n",
       "  first win condition second win condition  end move loss  \n",
       "0         left column                  NaN       0.000005  \n",
       "1         left column                  NaN       0.000114  \n",
       "2         left column                  NaN       0.000007  \n",
       "3         left column                  NaN       0.000008  \n",
       "4         left column                  NaN       0.000013  "
      ]
     },
     "execution_count": 3,
     "metadata": {},
     "output_type": "execute_result"
    }
   ],
   "source": [
    "df.head()"
   ]
  },
  {
   "cell_type": "code",
   "execution_count": 4,
   "metadata": {},
   "outputs": [],
   "source": [
    "torch.set_grad_enabled(False)\n",
    "\n",
    "def numpy(t):\n",
    "    return t.cpu().numpy()\n"
   ]
  },
  {
   "cell_type": "code",
   "execution_count": 5,
   "metadata": {},
   "outputs": [],
   "source": [
    "def ablate_one_head(head, seq, model):\n",
    "    def hook(module, input, output):\n",
    "        result = output.clone()\n",
    "        result[:, :, head, :] = 0\n",
    "        return result\n",
    "\n",
    "    model.cfg.use_attn_result = True\n",
    "    try:\n",
    "        handle = model.blocks[0].attn.hook_result.register_forward_hook(hook)\n",
    "        logits = model(torch.tensor(seq))\n",
    "        handle.remove()\n",
    "    except Exception as e:\n",
    "        handle.remove()\n",
    "        raise e\n",
    "\n",
    "    return logits\n",
    "\n",
    "def plot_ablate_one_head(head, seq):\n",
    "    plt.figure(figsize=(14, 5))\n",
    "\n",
    "    logits = ablate_one_head(head, seq)\n",
    "    preds = torch.softmax(logits, axis=-1)\n",
    "\n",
    "    plt.subplot(1, 2, 1)\n",
    "    plt.yticks(np.arange(10), labels=seq)\n",
    "    plt.imshow(numpy(logits)[0], cmap=\"jet\")\n",
    "    plt.yticks(np.arange(10))\n",
    "    plt.ylabel(\"Position\", fontsize=15)\n",
    "    plt.xlabel(\"Predicted token\", fontsize=15)\n",
    "    plt.title(\"Logits w/ pos embed\", fontsize=20)\n",
    "    plt.colorbar()\n",
    "\n",
    "    plt.subplot(1, 2, 2)\n",
    "    plt.yticks(np.arange(10), labels=seq)\n",
    "    plt.imshow(numpy(preds)[0], cmap=\"jet\")\n",
    "    plt.yticks(np.arange(10))\n",
    "    plt.ylabel(\"Position\", fontsize=15)\n",
    "    plt.xlabel(\"Predicted token\", fontsize=15)\n",
    "    plt.title(\"Preds w/ pos embed\", fontsize=20)\n",
    "    plt.colorbar()\n",
    "\n",
    "    plt.suptitle(str(head), fontsize=20)\n",
    "\n",
    "    plt.show()\n",
    "    \n",
    "\n",
    "loss_fn = F.cross_entropy\n",
    "\n",
    "\n",
    "def head_ablated_loss(data, head, model):\n",
    "    data_size = data.shape[0]\n",
    "    target = einops.repeat(\n",
    "        torch.tensor([0.0] * 9 + [1.0]),\n",
    "        \"logit_dim -> data_size logit_dim\",\n",
    "        data_size=data_size,\n",
    "    ).to(\"cuda\")\n",
    "    logits = ablate_one_head(head, data, model)[:, -1, :]\n",
    "    loss = F.cross_entropy(logits, target, reduction=\"none\")\n",
    "    loss.to(\"cpu\").detach().numpy()\n",
    "    return loss\n",
    "\n",
    "heads = [0,1,2,3,4,5,6,7]"
   ]
  },
  {
   "cell_type": "code",
   "execution_count": 6,
   "metadata": {},
   "outputs": [
    {
     "data": {
      "text/plain": [
       "<All keys matched successfully>"
      ]
     },
     "execution_count": 6,
     "metadata": {},
     "output_type": "execute_result"
    }
   ],
   "source": [
    "weights_two_head = torch.load(\"../scripts/models/2 head model proper dhead-20231014-201142.pt\")\n",
    "with open(\"../scripts/models/2 head model proper dhead-20231014-201142.json\", \"r\") as f:\n",
    "    args= json.load(f)\n",
    "model_cfg = HookedTransformerConfig(\n",
    "        n_layers=args[\"n_layers\"],\n",
    "        n_heads=args[\"n_heads\"],\n",
    "        d_model=args[\"d_model\"],\n",
    "        d_head=args[\"d_head\"],\n",
    "        d_mlp=args[\"d_mlp\"],\n",
    "        act_fn=args[\"act_fn\"],\n",
    "        normalization_type=args[\"normalization_type\"],\n",
    "        d_vocab=11,\n",
    "        d_vocab_out=10,\n",
    "        n_ctx=10,\n",
    "        init_weights=True,\n",
    "        device=args[\"device\"],\n",
    "        seed=args[\"seed\"])\n",
    "\n",
    "model_two_head =  HookedTransformer(model_cfg)\n",
    "model_two_head.load_state_dict(weights_two_head)\n"
   ]
  },
  {
   "cell_type": "code",
   "execution_count": 7,
   "metadata": {},
   "outputs": [
    {
     "name": "stderr",
     "output_type": "stream",
     "text": [
      "  0%|          | 0/2 [00:00<?, ?it/s]/tmp/ipykernel_118452/1889970134.py:10: UserWarning: To copy construct from a tensor, it is recommended to use sourceTensor.clone().detach() or sourceTensor.clone().detach().requires_grad_(True), rather than torch.tensor(sourceTensor).\n",
      "  logits = model(torch.tensor(seq))\n",
      "100%|██████████| 5/5 [00:05<00:00,  1.03s/it]\n",
      "100%|██████████| 5/5 [00:06<00:00,  1.25s/it]\n",
      "100%|██████████| 2/2 [00:15<00:00,  7.60s/it]\n"
     ]
    }
   ],
   "source": [
    "heads = [0,1]\n",
    "# long run time\n",
    "batch_restarts = (\n",
    "    [0]\n",
    "    + [df.loc[df[\"steps till end state\"] == i].index[0] for i in [6, 7, 8, 9]]\n",
    "    + [len(df)]\n",
    ")\n",
    "batch_size = 4096\n",
    "df_ablation_two_head_losses = pd.DataFrame(columns=[\"moves played\"] + heads)\n",
    "with torch.no_grad():\n",
    "    for head in tqdm(heads):\n",
    "        head_losses = []\n",
    "        for j in tqdm(range(len(batch_restarts) - 1)):\n",
    "            batch_size = min(batch_restarts[j + 1], batch_size)\n",
    "            for i in range(batch_restarts[j], batch_restarts[j + 1], batch_size):\n",
    "                batch_gap = batch_restarts[j + 1] - i\n",
    "                batch_size = batch_gap if batch_gap < batch_size else batch_size\n",
    "                games = torch.stack(\n",
    "                    [\n",
    "                        torch.tensor([10] + eval(game))\n",
    "                        for game in df[\"moves played\"].iloc[i : i + batch_size]\n",
    "                    ]\n",
    "                ).to(\"cuda\")\n",
    "                loss = head_ablated_loss(games, head, model_two_head)\n",
    "                head_losses.append(loss)\n",
    "        inter = [\n",
    "            loss.item()\n",
    "            for loss in torch.cat(\n",
    "                [torch.flatten(batch_losses) for batch_losses in head_losses]\n",
    "            )\n",
    "        ]\n",
    "\n",
    "        df_ablation_two_head_losses[head] = inter"
   ]
  },
  {
   "cell_type": "code",
   "execution_count": 8,
   "metadata": {},
   "outputs": [],
   "source": [
    "df_ablation_two_head_losses[\"first win condition\"] = df['first win condition']"
   ]
  },
  {
   "cell_type": "code",
   "execution_count": 10,
   "metadata": {},
   "outputs": [
    {
     "data": {
      "image/png": "[encoded data removed]",
      "text/plain": [
       "<Figure size 900x600 with 2 Axes>"
      ]
     },
     "metadata": {
      "needs_background": "light"
     },
     "output_type": "display_data"
    }
   ],
   "source": [
    "grouped_two_head = df_ablation_two_head_losses.groupby([\"first win condition\"])\n",
    "plt.imshow(grouped_two_head.mean(), cmap=\"jet\", interpolation=\"nearest\")\n",
    "plt.colorbar()\n",
    "# legend\n",
    "plt.xticks(heads, labels=grouped_two_head.mean().columns)\n",
    "# yticks\n",
    "plt.yticks(np.arange(0, 8), labels=grouped_two_head.mean().index)\n",
    "# dpi\n",
    "plt.rcParams[\"figure.dpi\"] = 150\n",
    "#add number labels in two grid\n",
    "for i in range(0, 8):\n",
    "    for j in range(0, 2):\n",
    "        plt.text(j, i, grouped_two_head.mean().iloc[i, j].round(2), ha=\"center\", va=\"center\", color=\"w\")"
   ]
  }
 ],
 "metadata": {
  "kernelspec": {
   "display_name": "Python 3",
   "language": "python",
   "name": "python3"
  },
  "language_info": {
   "codemirror_mode": {
    "name": "ipython",
    "version": 3
   },
   "file_extension": ".py",
   "mimetype": "text/x-python",
   "name": "python",
   "nbconvert_exporter": "python",
   "pygments_lexer": "ipython3",
   "version": "3.10.9"
  },
  "orig_nbformat": 4
 },
 "nbformat": 4,
 "nbformat_minor": 2
}
