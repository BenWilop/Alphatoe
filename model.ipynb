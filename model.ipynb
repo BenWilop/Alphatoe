{
 "cells": [
  {
   "cell_type": "code",
   "execution_count": 15,
   "metadata": {},
   "outputs": [],
   "source": [
    "import torch\n",
    "import transformer_lens\n",
    "from src.game import Board, get_best_moves, apply_best_moves, play_game, State\n",
    "import tqdm"
   ]
  },
  {
   "cell_type": "code",
   "execution_count": 2,
   "metadata": {},
   "outputs": [
    {
     "name": "stdout",
     "output_type": "stream",
     "text": [
      "we're on the 1th loop!\n",
      "we've got 9 boards, y'all!\n",
      "we're on the 2th loop!\n",
      "we've got 72 boards, y'all!\n",
      "we're on the 3th loop!\n",
      "we've got 456 boards, y'all!\n",
      "we're on the 4th loop!\n",
      "we've got 2016 boards, y'all!\n",
      "we're on the 5th loop!\n",
      "we've got 7584 boards, y'all!\n",
      "we're on the 6th loop!\n",
      "we've got 18720 boards, y'all!\n",
      "we're on the 7th loop!\n",
      "we've got 41472 boards, y'all!\n",
      "we're on the 8th loop!\n",
      "we've got 46080 boards, y'all!\n",
      "we're on the 9th loop!\n",
      "we've got 46080 boards, y'all!\n",
      "we've got 46080 boards, y'all!\n"
     ]
    }
   ],
   "source": [
    "boards = [Board()]\n",
    "game_list = apply_best_moves(boards)"
   ]
  },
  {
   "cell_type": "code",
   "execution_count": 34,
   "metadata": {},
   "outputs": [
    {
     "ename": "SyntaxError",
     "evalue": "invalid syntax (1709403322.py, line 5)",
     "output_type": "error",
     "traceback": [
      "\u001b[0;36m  Cell \u001b[0;32mIn[34], line 5\u001b[0;36m\u001b[0m\n\u001b[0;31m    a = all(board.game_state == State.DRAW) for board in game_list\u001b[0m\n\u001b[0m                                            ^\u001b[0m\n\u001b[0;31mSyntaxError\u001b[0m\u001b[0;31m:\u001b[0m invalid syntax\n"
     ]
    }
   ],
   "source": [
    "print(len(game_list))\n",
    "print(game_list[-1].moves_played)\n",
    "print(len({tuple(game.moves_played) for game in game_list}))\n",
    "print(len(list(filter(lambda game: game.game_state == State.DRAW, game_list))))\n",
    "a = all((board.game_state == State.DRAW) for board in game_list)\n"
   ]
  },
  {
   "cell_type": "code",
   "execution_count": null,
   "metadata": {},
   "outputs": [
    {
     "name": "stdout",
     "output_type": "stream",
     "text": [
      "[1, 2, 3, 4, 5, 6, 7]\n"
     ]
    }
   ],
   "source": [
    "board = Board()\n",
    "print(get_best_moves(board.make_move(0).make_move(8)))"
   ]
  },
  {
   "cell_type": "code",
   "execution_count": null,
   "metadata": {},
   "outputs": [
    {
     "name": "stdout",
     "output_type": "stream",
     "text": [
      "[0, 1, 2, 3, 4, 5, 6, 7, 8]\n",
      "[0, 1, 2, 3, 4, 5, 6, 7, 8]\n",
      "[0, 1, 2, 3, 4, 5, 6, 7, 8]\n",
      "[0, 1, 2, 3, 4, 5, 6, 7, 8]\n",
      "[0, 1, 2, 3, 4, 5, 6, 7, 8]\n",
      "[0, 1, 2, 3, 4, 5, 6, 7, 8]\n",
      "[0, 1, 2, 3, 4, 5, 6, 7, 8]\n",
      "[0, 1, 2, 3, 4, 5, 6, 7, 8]\n",
      "[0, 1, 2, 3, 4, 5, 6, 7, 8]\n"
     ]
    }
   ],
   "source": [
    "for game in game_list:\n",
    "    print(game.moves_played)"
   ]
  },
  {
   "cell_type": "code",
   "execution_count": null,
   "metadata": {},
   "outputs": [],
   "source": [
    "boards = [Board()]\n",
    "boards = [board.make_move(move).moves_played for board in boards for move in get_best_moves(board)]\n"
   ]
  },
  {
   "cell_type": "code",
   "execution_count": null,
   "metadata": {},
   "outputs": [
    {
     "name": "stdout",
     "output_type": "stream",
     "text": [
      "[[0, 1, 2, 3, 4, 5, 6, 7, 8], [0, 1, 2, 3, 4, 5, 6, 7, 8], [0, 1, 2, 3, 4, 5, 6, 7, 8], [0, 1, 2, 3, 4, 5, 6, 7, 8], [0, 1, 2, 3, 4, 5, 6, 7, 8], [0, 1, 2, 3, 4, 5, 6, 7, 8], [0, 1, 2, 3, 4, 5, 6, 7, 8], [0, 1, 2, 3, 4, 5, 6, 7, 8], [0, 1, 2, 3, 4, 5, 6, 7, 8]]\n"
     ]
    }
   ],
   "source": [
    "print(boards)"
   ]
  }
 ],
 "metadata": {
  "kernelspec": {
   "display_name": "base",
   "language": "python",
   "name": "python3"
  },
  "language_info": {
   "codemirror_mode": {
    "name": "ipython",
    "version": 3
   },
   "file_extension": ".py",
   "mimetype": "text/x-python",
   "name": "python",
   "nbconvert_exporter": "python",
   "pygments_lexer": "ipython3",
   "version": "3.10.9"
  },
  "orig_nbformat": 4
 },
 "nbformat": 4,
 "nbformat_minor": 2
}
