{
 "cells": [
  {
   "cell_type": "code",
   "execution_count": 3,
   "metadata": {},
   "outputs": [],
   "source": [
    "import numpy as np\n",
    "import torch\n",
    "from alphatoe import plot, game, interpretability\n",
    "from transformer_lens import HookedTransformer, HookedTransformerConfig\n",
    "import json\n",
    "import einops\n",
    "import circuitsvis as cv\n",
    "from plotly.subplots import make_subplots\n",
    "import plotly.graph_objects as go\n",
    "\n",
    "import matplotlib.pyplot as plt\n",
    "from importlib import reload\n",
    "from copy import copy\n",
    "import pandas as pd\n",
    "import random"
   ]
  },
  {
   "cell_type": "code",
   "execution_count": 4,
   "metadata": {},
   "outputs": [],
   "source": [
    "model = interpretability.load_model(\n",
    "    \"../scripts/models/tiny model prob all games-20230811-173207\"\n",
    ")"
   ]
  },
  {
   "cell_type": "code",
   "execution_count": 5,
   "metadata": {},
   "outputs": [],
   "source": [
    "seq_fwd = [10, 0, 1, 2, 3, 4, 5, 6, 7, 8]"
   ]
  },
  {
   "cell_type": "code",
   "execution_count": 6,
   "metadata": {},
   "outputs": [
    {
     "data": {
      "text/plain": [
       "(torch.Size([1, 10, 10]), torch.Size([1, 10, 10]))"
      ]
     },
     "execution_count": 6,
     "metadata": {},
     "output_type": "execute_result"
    }
   ],
   "source": [
    "pos_emb = model.pos_embed(torch.zeros(1, 10), 0)\n",
    "logits_mlp_pos = model.blocks[0].mlp(pos_emb) @ model.W_U\n",
    "preds_mlp_pos = torch.softmax(logits_mlp_pos, axis=-1)\n",
    "logits_mlp_pos.shape, preds_mlp_pos.shape"
   ]
  },
  {
   "cell_type": "code",
   "execution_count": 69,
   "metadata": {},
   "outputs": [
    {
     "data": {
      "text/plain": [
       "<matplotlib.colorbar.Colorbar at 0x7fde2034df30>"
      ]
     },
     "execution_count": 69,
     "metadata": {},
     "output_type": "execute_result"
    },
    {
     "data": {
      "image/png": "[encoded data removed]",
      "text/plain": [
       "<Figure size 720x360 with 2 Axes>"
      ]
     },
     "metadata": {
      "needs_background": "light"
     },
     "output_type": "display_data"
    }
   ],
   "source": [
    "plt.imshow(pos_emb[0].detach().cpu().numpy(), cmap=\"jet\")\n",
    "plt.colorbar()"
   ]
  },
  {
   "cell_type": "code",
   "execution_count": 18,
   "metadata": {},
   "outputs": [],
   "source": [
    "def neuron_posembed_activations(seq):\n",
    "    def hook(module, input, output):\n",
    "        result = output.clone()\n",
    "        module.captured_activations = result\n",
    "        \n",
    "    try:\n",
    "        handle = model.blocks[0].mlp.hook_post.register_forward_hook(hook)\n",
    "        _ = model.blocks[0].mlp(seq)\n",
    "        activations = model.blocks[0].mlp.hook_post.captured_activations\n",
    "        handle.remove()\n",
    "    except Exception as e:\n",
    "        handle.remove()\n",
    "        raise e\n",
    "\n",
    "    return activations\n",
    "\n",
    "def neuron_activations(seq):\n",
    "    def hook(module, input, output):\n",
    "        result = output.clone()\n",
    "        module.captured_activations = result\n",
    "        \n",
    "    try:\n",
    "        handle = model.blocks[0].mlp.hook_post.register_forward_hook(hook)\n",
    "        _ = model(seq)\n",
    "        activations = model.blocks[0].mlp.hook_post.captured_activations\n",
    "        handle.remove()\n",
    "    except Exception as e:\n",
    "        handle.remove()\n",
    "        raise e\n",
    "\n",
    "    return activations"
   ]
  },
  {
   "cell_type": "code",
   "execution_count": 9,
   "metadata": {},
   "outputs": [
    {
     "data": {
      "text/plain": [
       "torch.Size([1, 10, 16])"
      ]
     },
     "execution_count": 9,
     "metadata": {},
     "output_type": "execute_result"
    }
   ],
   "source": [
    "test = neuron_posembed_activations(pos_emb)\n",
    "test.shape"
   ]
  },
  {
   "cell_type": "code",
   "execution_count": 10,
   "metadata": {},
   "outputs": [],
   "source": [
    "last_token_acts = test[0][-1].detach().cpu().numpy()"
   ]
  },
  {
   "cell_type": "code",
   "execution_count": 11,
   "metadata": {},
   "outputs": [
    {
     "name": "stdout",
     "output_type": "stream",
     "text": [
      "10\n",
      "0.625\n"
     ]
    }
   ],
   "source": [
    "print(np.count_nonzero(last_token_acts))\n",
    "print(np.count_nonzero(last_token_acts) / last_token_acts.size)"
   ]
  },
  {
   "cell_type": "code",
   "execution_count": 12,
   "metadata": {},
   "outputs": [
    {
     "data": {
      "text/plain": [
       "(1, 16)"
      ]
     },
     "execution_count": 12,
     "metadata": {},
     "output_type": "execute_result"
    }
   ],
   "source": [
    "last_token_2d = last_token_acts[np.newaxis, :]\n",
    "last_token_2d.shape"
   ]
  },
  {
   "cell_type": "code",
   "execution_count": 13,
   "metadata": {},
   "outputs": [
    {
     "data": {
      "text/plain": [
       "Text(0.5, 0, 'Neuron')"
      ]
     },
     "execution_count": 13,
     "metadata": {},
     "output_type": "execute_result"
    },
    {
     "data": {
      "image/png": "[encoded data removed]",
      "text/plain": [
       "<Figure size 432x288 with 2 Axes>"
      ]
     },
     "metadata": {},
     "output_type": "display_data"
    }
   ],
   "source": [
    "#plot last token acts imshow\n",
    "plt.imshow(last_token_2d, aspect=\"auto\", cmap=\"jet\")\n",
    "plt.colorbar()\n",
    "#figsize params\n",
    "plt.rcParams['figure.figsize'] = 10, 5\n",
    "#title\n",
    "plt.title(\"Positional Embedding MLP Activations\", fontsize=20)\n",
    "plt.gcf().set_facecolor(\"white\")\n",
    "#y tick\n",
    "plt.yticks([1])\n",
    "#x label\n",
    "plt.xlabel(\"Neuron\", fontsize=15)"
   ]
  },
  {
   "cell_type": "code",
   "execution_count": 14,
   "metadata": {},
   "outputs": [
    {
     "name": "stderr",
     "output_type": "stream",
     "text": [
      "/tmp/ipykernel_15490/1995611786.py:1: DtypeWarning: Columns (11) have mixed types. Specify dtype option on import or set low_memory=False.\n",
      "  games = pd.read_csv('../data/prob all 8 layer control-20230718-185339_stats.csv')\n"
     ]
    },
    {
     "data": {
      "text/html": [
       "<div>\n",
       "<style scoped>\n",
       "    .dataframe tbody tr th:only-of-type {\n",
       "        vertical-align: middle;\n",
       "    }\n",
       "\n",
       "    .dataframe tbody tr th {\n",
       "        vertical-align: top;\n",
       "    }\n",
       "\n",
       "    .dataframe thead th {\n",
       "        text-align: right;\n",
       "    }\n",
       "</style>\n",
       "<table border=\"1\" class=\"dataframe\">\n",
       "  <thead>\n",
       "    <tr style=\"text-align: right;\">\n",
       "      <th></th>\n",
       "      <th>moves played</th>\n",
       "      <th>steps till end state</th>\n",
       "      <th>winner</th>\n",
       "      <th>rotation 1</th>\n",
       "      <th>rotation 2</th>\n",
       "      <th>rotation 3</th>\n",
       "      <th>horizontal flip</th>\n",
       "      <th>vertical flip</th>\n",
       "      <th>training index</th>\n",
       "      <th>train or test</th>\n",
       "      <th>first win condition</th>\n",
       "      <th>second win condition</th>\n",
       "      <th>end move loss</th>\n",
       "    </tr>\n",
       "  </thead>\n",
       "  <tbody>\n",
       "    <tr>\n",
       "      <th>0</th>\n",
       "      <td>[0, 1, 3, 2, 6]</td>\n",
       "      <td>5</td>\n",
       "      <td>X</td>\n",
       "      <td>399</td>\n",
       "      <td>1439</td>\n",
       "      <td>1040</td>\n",
       "      <td>1114</td>\n",
       "      <td>325</td>\n",
       "      <td>241912</td>\n",
       "      <td>test</td>\n",
       "      <td>left column</td>\n",
       "      <td>NaN</td>\n",
       "      <td>0.000005</td>\n",
       "    </tr>\n",
       "    <tr>\n",
       "      <th>1</th>\n",
       "      <td>[0, 1, 3, 4, 6]</td>\n",
       "      <td>5</td>\n",
       "      <td>X</td>\n",
       "      <td>396</td>\n",
       "      <td>1438</td>\n",
       "      <td>1043</td>\n",
       "      <td>1112</td>\n",
       "      <td>327</td>\n",
       "      <td>190522</td>\n",
       "      <td>train</td>\n",
       "      <td>left column</td>\n",
       "      <td>NaN</td>\n",
       "      <td>0.000114</td>\n",
       "    </tr>\n",
       "    <tr>\n",
       "      <th>2</th>\n",
       "      <td>[0, 1, 3, 5, 6]</td>\n",
       "      <td>5</td>\n",
       "      <td>X</td>\n",
       "      <td>398</td>\n",
       "      <td>1437</td>\n",
       "      <td>1041</td>\n",
       "      <td>1113</td>\n",
       "      <td>326</td>\n",
       "      <td>90275</td>\n",
       "      <td>train</td>\n",
       "      <td>left column</td>\n",
       "      <td>NaN</td>\n",
       "      <td>0.000007</td>\n",
       "    </tr>\n",
       "    <tr>\n",
       "      <th>3</th>\n",
       "      <td>[0, 1, 3, 7, 6]</td>\n",
       "      <td>5</td>\n",
       "      <td>X</td>\n",
       "      <td>395</td>\n",
       "      <td>1436</td>\n",
       "      <td>1044</td>\n",
       "      <td>1110</td>\n",
       "      <td>329</td>\n",
       "      <td>21994</td>\n",
       "      <td>train</td>\n",
       "      <td>left column</td>\n",
       "      <td>NaN</td>\n",
       "      <td>0.000008</td>\n",
       "    </tr>\n",
       "    <tr>\n",
       "      <th>4</th>\n",
       "      <td>[0, 1, 3, 8, 6]</td>\n",
       "      <td>5</td>\n",
       "      <td>X</td>\n",
       "      <td>397</td>\n",
       "      <td>1435</td>\n",
       "      <td>1042</td>\n",
       "      <td>1111</td>\n",
       "      <td>328</td>\n",
       "      <td>48696</td>\n",
       "      <td>train</td>\n",
       "      <td>left column</td>\n",
       "      <td>NaN</td>\n",
       "      <td>0.000013</td>\n",
       "    </tr>\n",
       "  </tbody>\n",
       "</table>\n",
       "</div>"
      ],
      "text/plain": [
       "      moves played  steps till end state winner  rotation 1  rotation 2  \\\n",
       "0  [0, 1, 3, 2, 6]                     5      X         399        1439   \n",
       "1  [0, 1, 3, 4, 6]                     5      X         396        1438   \n",
       "2  [0, 1, 3, 5, 6]                     5      X         398        1437   \n",
       "3  [0, 1, 3, 7, 6]                     5      X         395        1436   \n",
       "4  [0, 1, 3, 8, 6]                     5      X         397        1435   \n",
       "\n",
       "   rotation 3  horizontal flip  vertical flip  training index train or test  \\\n",
       "0        1040             1114            325          241912          test   \n",
       "1        1043             1112            327          190522         train   \n",
       "2        1041             1113            326           90275         train   \n",
       "3        1044             1110            329           21994         train   \n",
       "4        1042             1111            328           48696         train   \n",
       "\n",
       "  first win condition second win condition  end move loss  \n",
       "0         left column                  NaN       0.000005  \n",
       "1         left column                  NaN       0.000114  \n",
       "2         left column                  NaN       0.000007  \n",
       "3         left column                  NaN       0.000008  \n",
       "4         left column                  NaN       0.000013  "
      ]
     },
     "execution_count": 14,
     "metadata": {},
     "output_type": "execute_result"
    }
   ],
   "source": [
    "games = pd.read_csv('../data/prob all 8 layer control-20230718-185339_stats.csv')\n",
    "games.head()"
   ]
  },
  {
   "cell_type": "code",
   "execution_count": 15,
   "metadata": {},
   "outputs": [],
   "source": [
    "nine_move_games = [[10]+eval(move) for move in games[games['steps till end state'] == 9]['moves played']]"
   ]
  },
  {
   "cell_type": "code",
   "execution_count": 56,
   "metadata": {},
   "outputs": [],
   "source": [
    "activations = []\n",
    "for _ in range(50):\n",
    "    data = torch.tensor(random.choice(nine_move_games))\n",
    "    activations.append(neuron_activations(data)[0][-1])"
   ]
  },
  {
   "cell_type": "code",
   "execution_count": 57,
   "metadata": {},
   "outputs": [],
   "source": [
    "stacked_acts = torch.stack(activations)\n",
    "stacked_acts = stacked_acts.detach().cpu().numpy()\n",
    "stacked_acts = stacked_acts.T"
   ]
  },
  {
   "cell_type": "code",
   "execution_count": 64,
   "metadata": {},
   "outputs": [
    {
     "data": {
      "text/plain": [
       "<Figure size 720x360 with 0 Axes>"
      ]
     },
     "metadata": {},
     "output_type": "display_data"
    },
    {
     "data": {
      "image/png": "[encoded data removed]",
      "text/plain": [
       "<Figure size 1000x500 with 2 Axes>"
      ]
     },
     "metadata": {},
     "output_type": "display_data"
    }
   ],
   "source": [
    "plt.figure(figsize=(10, 5))\n",
    "#dpi\n",
    "plt.figure(dpi=100)\n",
    "plt.imshow(stacked_acts, cmap=\"jet\")\n",
    "#colorbar\n",
    "plt.colorbar()\n",
    "#xticks\n",
    "plt.yticks(np.arange(0, 16, 1));\n",
    "#title\n",
    "plt.title(\"Activations Across 50 Nine Move Games in dMLP=16 Model\", fontsize=12)\n",
    "plt.gcf().set_facecolor(\"white\")"
   ]
  }
 ],
 "metadata": {
  "kernelspec": {
   "display_name": "Python 3",
   "language": "python",
   "name": "python3"
  },
  "language_info": {
   "codemirror_mode": {
    "name": "ipython",
    "version": 3
   },
   "file_extension": ".py",
   "mimetype": "text/x-python",
   "name": "python",
   "nbconvert_exporter": "python",
   "pygments_lexer": "ipython3",
   "version": "3.10.9"
  },
  "orig_nbformat": 4
 },
 "nbformat": 4,
 "nbformat_minor": 2
}
