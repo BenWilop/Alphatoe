{
 "cells": [
  {
   "cell_type": "code",
   "execution_count": 2,
   "metadata": {},
   "outputs": [
    {
     "name": "stderr",
     "output_type": "stream",
     "text": [
      "/Users/omarayyub/p/Tic-Tac-Transformer/.venv/lib/python3.11/site-packages/tqdm/auto.py:21: TqdmWarning: IProgress not found. Please update jupyter and ipywidgets. See https://ipywidgets.readthedocs.io/en/stable/user_install.html\n",
      "  from .autonotebook import tqdm as notebook_tqdm\n"
     ]
    }
   ],
   "source": [
    "%load_ext autoreload\n",
    "%autoreload 2\n",
    "import torch\n",
    "from torch import Tensor\n",
    "import transformer_lens\n",
    "import transformer_lens.utils as utils\n",
    "from transformer_lens.hook_points import (\n",
    "    HookedRootModule,\n",
    "    HookPoint,\n",
    ")  # Hooking utilities\n",
    "from transformer_lens import HookedTransformer, HookedTransformerConfig, FactoredMatrix, ActivationCache\n",
    "import numpy as np\n",
    "import torch as t\n",
    "import tqdm\n",
    "#functional\n",
    "import torch.nn.functional as F\n",
    "import matplotlib.pyplot as plt\n",
    "import plotly.io as pio\n",
    "import plotly.express as px\n",
    "import plotly.graph_objects as go\n",
    "from functools import partial\n",
    "from copy import deepcopy\n",
    "from pympler import asizeof\n",
    "import einops\n",
    "import circuitsvis as cv\n",
    "from src.game import Board, apply_best_moves, get_best_moves, generate_all_games, tree_walk, get_possible_moves, generate_tree\n",
    "from typing import Optional, Any\n",
    "from src.trie import Trie, TrieNode\n",
    "from sklearn.model_selection import train_test_split\n",
    "import math"
   ]
  },
  {
   "attachments": {},
   "cell_type": "markdown",
   "metadata": {},
   "source": [
    "# Graphing stuff"
   ]
  },
  {
   "cell_type": "code",
   "execution_count": 16,
   "metadata": {},
   "outputs": [],
   "source": [
    "def to_numpy(tensor: Tensor, flat: bool=False):\n",
    "    if type(tensor)!=torch.Tensor:\n",
    "        return tensor\n",
    "    if flat:\n",
    "        return tensor.flatten().detach().cpu().numpy()\n",
    "    else:\n",
    "        return tensor.detach().cpu().numpy()\n",
    "\n",
    "def imshow(tensor: Tensor, xaxis: Optional[str]=None, yaxis: Optional[str]=None, animation_name: str='Snapshot', **kwargs: Any):\n",
    "    tensor = torch.squeeze(tensor)\n",
    "    px.imshow(to_numpy(tensor, flat=False),aspect='auto', \n",
    "              labels={'x':xaxis, 'y':yaxis, 'animation_name':animation_name}, \n",
    "              **kwargs).show()\n",
    "# Set default colour scheme\n",
    "imshow = partial(imshow, color_continuous_scale='Blues')\n",
    "# Creates good defaults for showing divergent colour scales (ie with both \n",
    "# positive and negative values, where 0 is white)\n",
    "imshow_div = partial(imshow, color_continuous_scale='RdBu', color_continuous_midpoint=0.0)\n",
    "# Presets a bunch of defaults to imshow to make it suitable for showing heatmaps \n",
    "# of activations with x axis being input 1 and y axis being input 2.\n",
    "inputs_heatmap = partial(imshow, xaxis='Input 1', yaxis='Input 2', color_continuous_scale='RdBu', color_continuous_midpoint=0.0)\n",
    "\n",
    "def line(x, y=None, hover=None, xaxis='', yaxis='', **kwargs):\n",
    "    if type(y)==torch.Tensor:\n",
    "        y = to_numpy(y, flat=True)\n",
    "    if type(x)==torch.Tensor:\n",
    "        x = to_numpy(x, flat=True)\n",
    "    fig = px.line(x, y=y, hover_name=hover, **kwargs)\n",
    "    fig.update_layout(xaxis_title=xaxis, yaxis_title=yaxis)\n",
    "    fig.show()\n",
    "def lines(lines_list, x=None, mode='lines', labels=None, xaxis='', yaxis='', title = '', log_y=False, hover=None, **kwargs):\n",
    "    if type(lines_list)==torch.Tensor:\n",
    "        lines_list = [lines_list[i] for i in range(lines_list.shape[0])]\n",
    "    if x is None:\n",
    "        x=np.arange(len(lines_list[0]))\n",
    "    fig = go.Figure(layout={'title':title})\n",
    "    fig.update_xaxes(title=xaxis)\n",
    "    fig.update_yaxes(title=yaxis)\n",
    "    for c, line in enumerate(lines_list):\n",
    "        if type(line)==torch.Tensor:\n",
    "            line = to_numpy(line)\n",
    "        if labels is not None:\n",
    "            label = labels[c]\n",
    "        else:\n",
    "            label = c\n",
    "        fig.add_trace(go.Scatter(x=x, y=line, mode=mode, name=label, hovertext=hover, **kwargs))\n",
    "    if log_y:\n",
    "        fig.update_layout(yaxis_type=\"log\")\n",
    "    fig.show()"
   ]
  },
  {
   "attachments": {},
   "cell_type": "markdown",
   "metadata": {},
   "source": [
    "# Training Config Stuff"
   ]
  },
  {
   "cell_type": "code",
   "execution_count": 17,
   "metadata": {},
   "outputs": [],
   "source": [
    "cfg = HookedTransformerConfig(\n",
    "    n_layers = 1,\n",
    "    n_heads = 8,\n",
    "    d_model = 128,\n",
    "    d_head = 16,\n",
    "    d_mlp = 512,\n",
    "    act_fn = \"relu\",\n",
    "    # normalization_type=None,\n",
    "    normalization_type='LN',\n",
    "    d_vocab=11,\n",
    "    d_vocab_out=10,\n",
    "    n_ctx=10,\n",
    "    init_weights=True,\n",
    "    device=\"cuda\",\n",
    "    seed = 1337,\n",
    ")\n",
    "\n",
    "lr = 1e-5\n",
    "weight_decay = 1e-4\n",
    "test_train_split = 0.8\n",
    "epochs = 40\n",
    "batch_size = 4096 * 4\n",
    "total_moves = 9\n",
    "\n"
   ]
  },
  {
   "cell_type": "code",
   "execution_count": 18,
   "metadata": {},
   "outputs": [],
   "source": [
    "def generate_strat_games_data():\n",
    "    board = [Board()]\n",
    "    print('Generating stategic games...')\n",
    "    games = apply_best_moves(board)\n",
    "    print('Generated ' + str(len(games)) + ' games')\n",
    "    moves = np.array([[10] + game.moves_played + [9] for game in games])\n",
    "    print('Generated array of moves')\n",
    "    return games, moves\n",
    "\n",
    "def generate_all_games_data():\n",
    "    board = [Board()]\n",
    "    print('Generating all games...')\n",
    "    games = generate_all_games(board)\n",
    "    print('Generated ' + str(len(games)) + ' games')\n",
    "    moves = np.array([[10] + game.moves_played + ([9] * (cfg.n_ctx - len(game.moves_played))) for game in games])\n",
    "    print('Generated array of moves')\n",
    "    return games, moves\n",
    "\n",
    "def gen_data_labels(moves):\n",
    "    data = np.array(moves[:, :-1])\n",
    "    labels = moves[:, 1:]\n",
    "    print(labels.shape())\n",
    "    print('Generated data and labels')\n",
    "    return data, labels\n",
    "\n",
    "def gen_data_labels_one_hot(labels):\n",
    "    encoded_labels = np.array(F.one_hot(t.tensor(labels)))\n",
    "    print('One hot encoded labels')\n",
    "    return encoded_labels\n",
    "\n",
    "def _train_test_split(data, encoded_labels, test_train_split=test_train_split):\n",
    "    data = t.from_numpy(data)\n",
    "    encoded_labels = t.from_numpy(encoded_labels).to(t.float)\n",
    "    total_data = list(zip(data, encoded_labels))\n",
    "    num_samples = len(total_data)\n",
    "    train_size = int(test_train_split * num_samples)\n",
    "    test_size = num_samples - train_size\n",
    "    split_data = list(t.utils.data.random_split(total_data, [train_size, test_size]))\n",
    "    train_pairs = split_data[0]\n",
    "    test_pairs= split_data[1]\n",
    "    train_data, train_labels = zip(*train_pairs)\n",
    "    test_data, test_labels = zip(*test_pairs)\n",
    "\n",
    "    train_data = t.stack(train_data).to(cfg.device)\n",
    "    train_labels = t.stack(train_labels).to(cfg.device)\n",
    "    test_data = t.stack(test_data).to(cfg.device)\n",
    "    test_labels = t.stack(test_labels).to(cfg.device)\n",
    "\n",
    "    print('Split data and labels into train and test sets')\n",
    "\n",
    "    return train_data, train_labels, test_data, test_labels\n",
    "\n",
    "def do_it_all(games_type):\n",
    "    if games_type == 'all':\n",
    "        _, moves = generate_all_games_data()\n",
    "    elif games_type == 'strat':\n",
    "        _, moves = generate_strat_games_data()\n",
    "    data, labels = gen_data_labels(moves)\n",
    "    encoded_labels = gen_data_labels_one_hot(labels)\n",
    "    train_data, train_labels, test_data, test_labels = _train_test_split(data, encoded_labels)\n",
    "    return train_data, train_labels, test_data, test_labels\n",
    "\n",
    "def loss_fn(logits: Tensor, labels: Tensor):\n",
    "    return t.nn.functional.cross_entropy(logits, labels)"
   ]
  },
  {
   "cell_type": "code",
   "execution_count": 19,
   "metadata": {},
   "outputs": [
    {
     "name": "stdout",
     "output_type": "stream",
     "text": [
      "Generating all games...\n"
     ]
    },
    {
     "name": "stdout",
     "output_type": "stream",
     "text": [
      "Generated 255168 games\n",
      "Generated array of moves\n",
      "Generated data and labels\n",
      "One hot encoded labels\n",
      "Split data and labels into train and test sets\n"
     ]
    }
   ],
   "source": [
    "train_data, train_labels, test_data, test_labels = do_it_all('all')"
   ]
  },
  {
   "cell_type": "code",
   "execution_count": 29,
   "metadata": {},
   "outputs": [],
   "source": [
    "train_labels_all = deepcopy(train_labels)\n",
    "train_data_all = deepcopy(train_data)\n",
    "test_data_all = deepcopy(test_data)\n",
    "test_labels_all = deepcopy(test_labels)"
   ]
  },
  {
   "cell_type": "code",
   "execution_count": 7,
   "metadata": {},
   "outputs": [
    {
     "name": "stdout",
     "output_type": "stream",
     "text": [
      "torch.Size([204134, 9])\n",
      "torch.Size([204134, 9, 10])\n"
     ]
    }
   ],
   "source": [
    "print(train_data.shape)\n",
    "print(train_labels.shape)"
   ]
  },
  {
   "cell_type": "code",
   "execution_count": 21,
   "metadata": {},
   "outputs": [
    {
     "name": "stdout",
     "output_type": "stream",
     "text": [
      "Moving model to device:  cuda\n"
     ]
    },
    {
     "name": "stdout",
     "output_type": "stream",
     "text": [
      "Epoch 0 | Train Loss: 2.025951862335205 | Test Loss: 2.01716685295105\n"
     ]
    },
    {
     "ename": "KeyboardInterrupt",
     "evalue": "",
     "output_type": "error",
     "traceback": [
      "\u001b[0;31m---------------------------------------------------------------------------\u001b[0m",
      "\u001b[0;31mKeyboardInterrupt\u001b[0m                         Traceback (most recent call last)",
      "\u001b[1;32m/home/obayyub/p/Tic-Tac-Transformer/model_clean.ipynb Cell 9\u001b[0m in \u001b[0;36m<module>\u001b[0;34m\u001b[0m\n\u001b[1;32m     <a href='vscode-notebook-cell:/home/obayyub/p/Tic-Tac-Transformer/model_clean.ipynb#X10sZmlsZQ%3D%3D?line=19'>20</a>\u001b[0m     test_logits \u001b[39m=\u001b[39m model(test_data)\n\u001b[1;32m     <a href='vscode-notebook-cell:/home/obayyub/p/Tic-Tac-Transformer/model_clean.ipynb#X10sZmlsZQ%3D%3D?line=20'>21</a>\u001b[0m     test_loss \u001b[39m=\u001b[39m loss_fn(test_logits, test_labels)\n\u001b[0;32m---> <a href='vscode-notebook-cell:/home/obayyub/p/Tic-Tac-Transformer/model_clean.ipynb#X10sZmlsZQ%3D%3D?line=21'>22</a>\u001b[0m     test_losses\u001b[39m.\u001b[39mappend(test_loss\u001b[39m.\u001b[39;49mitem())\n\u001b[1;32m     <a href='vscode-notebook-cell:/home/obayyub/p/Tic-Tac-Transformer/model_clean.ipynb#X10sZmlsZQ%3D%3D?line=23'>24</a>\u001b[0m \u001b[39mprint\u001b[39m(\u001b[39mf\u001b[39m\u001b[39m\"\u001b[39m\u001b[39mEpoch \u001b[39m\u001b[39m{\u001b[39;00mepoch\u001b[39m}\u001b[39;00m\u001b[39m | Train Loss: \u001b[39m\u001b[39m{\u001b[39;00mtrain_loss\u001b[39m.\u001b[39mitem()\u001b[39m}\u001b[39;00m\u001b[39m | Test Loss: \u001b[39m\u001b[39m{\u001b[39;00mtest_loss\u001b[39m.\u001b[39mitem()\u001b[39m}\u001b[39;00m\u001b[39m\"\u001b[39m)\n",
      "\u001b[0;31mKeyboardInterrupt\u001b[0m: "
     ]
    }
   ],
   "source": [
    "train_losses = []\n",
    "test_losses = []\n",
    "# ALPHATOE\n",
    "model = HookedTransformer(cfg).to(cfg.device)\n",
    "optimizer = t.optim.AdamW(model.parameters(), lr=lr, weight_decay=0)\n",
    "\n",
    "# for epoch in tqdm.tqdm(range(epochs)):\n",
    "for epoch in range(epochs):\n",
    "    for batch in range(0, len(train_data), batch_size):\n",
    "        train_logits = train_data_all[batch:batch+batch_size]\n",
    "        train_labels = train_labels_all[batch:batch+batch_size]\n",
    "        rearranged_train_logits = einops.rearrange(model(train_logits), \"batch seq_len one_hots -> (batch seq_len) one_hots\")\n",
    "        rearranged_train_labels = einops.rearrange(train_labels, \"batch seq_len one_hots -> (batch seq_len) one_hots\")\n",
    "        train_loss = loss_fn(rearranged_train_logits,rearranged_train_labels)\n",
    "\n",
    "        train_loss.backward()\n",
    "\n",
    "        train_losses.append(train_loss.item())\n",
    "        optimizer.step()\n",
    "        optimizer.zero_grad()\n",
    "\n",
    "        with t.inference_mode():\n",
    "            test_logits = model(test_data)\n",
    "\n",
    "            rearranged_test_logits = einops.rearrange(test_logits, \"batch seq_len one_hots -> (batch seq_len) one_hots\")\n",
    "            rearranged_test_labels = einops.rearrange(test_labels_all, \"batch seq_len one_hots -> (batch seq_len) one_hots\")\n",
    "\n",
    "            test_loss = loss_fn(rearranged_test_logits, rearranged_test_labels)\n",
    "            test_losses.append(test_loss.item())\n",
    "\n",
    "    print(f\"Epoch {epoch} | Train Loss: {train_loss.item()} | Test Loss: {test_loss.item()}\")"
   ]
  },
  {
   "cell_type": "code",
   "execution_count": 21,
   "metadata": {},
   "outputs": [],
   "source": [
    "torch.save(model, \"no_ln_model.pt\")"
   ]
  },
  {
   "cell_type": "code",
   "execution_count": null,
   "metadata": {},
   "outputs": [
    {
     "name": "stdout",
     "output_type": "stream",
     "text": [
      "Moving model to device:  cuda\n"
     ]
    }
   ],
   "source": [
    "model = HookedTransformer(cfg).to(cfg.device)"
   ]
  },
  {
   "cell_type": "code",
   "execution_count": null,
   "metadata": {},
   "outputs": [
    {
     "name": "stdout",
     "output_type": "stream",
     "text": [
      "tensor(9, device='cuda:0')\n"
     ]
    }
   ],
   "source": [
    "logits = model(t.tensor([10,4,8,1,7,6,2,5,3,0]))[0, -1]\n",
    "probs = t.softmax(logits, dim=-1)\n",
    "\n",
    "print(t.argmax(logits))\n",
    "\n",
    "\n"
   ]
  },
  {
   "cell_type": "code",
   "execution_count": null,
   "metadata": {},
   "outputs": [],
   "source": [
    "t.save(model, 'model_no_games.pt')"
   ]
  },
  {
   "cell_type": "code",
   "execution_count": null,
   "metadata": {},
   "outputs": [],
   "source": [
    "model_load = torch.load('./model_good_games.pt')"
   ]
  },
  {
   "cell_type": "code",
   "execution_count": null,
   "metadata": {},
   "outputs": [
    {
     "name": "stdout",
     "output_type": "stream",
     "text": [
      "tensor(144.6259, device='cuda:0', grad_fn=<MaxBackward1>)\n"
     ]
    }
   ],
   "source": [
    "print(t.max(model_load(t.tensor(seq_test))[0, -1]))"
   ]
  },
  {
   "cell_type": "code",
   "execution_count": 8,
   "metadata": {},
   "outputs": [
    {
     "data": {
      "application/vnd.plotly.v1+json": {
       "config": {
        "plotlyServerURL": "https://plot.ly"
       },
       "data": [
        {
         "mode": "lines",
         "name": "test",
         "type": "scatter",
         "x": [
          0,
          1,
          2,
          3,
          4,
          5,
          6,
          7,
          8,
          9,
          10,
          11,
          12,
          13,
          14,
          15,
          16,
          17,
          18,
          19,
          20,
          21,
          22,
          23,
          24,
          25,
          26,
          27,
          28,
          29,
          30,
          31,
          32,
          33,
          34,
          35,
          36,
          37,
          38,
          39,
          40,
          41,
          42,
          43,
          44,
          45,
          46,
          47,
          48,
          49,
          50,
          51,
          52,
          53,
          54,
          55,
          56,
          57,
          58,
          59,
          60,
          61,
          62,
          63,
          64,
          65,
          66,
          67,
          68,
          69,
          70,
          71,
          72,
          73,
          74,
          75,
          76,
          77,
          78,
          79,
          80,
          81,
          82,
          83,
          84,
          85,
          86,
          87,
          88,
          89,
          90,
          91,
          92,
          93,
          94,
          95,
          96,
          97,
          98,
          99,
          100,
          101,
          102,
          103,
          104,
          105,
          106,
          107,
          108,
          109,
          110,
          111,
          112,
          113,
          114,
          115,
          116,
          117,
          118,
          119,
          120,
          121,
          122,
          123,
          124,
          125,
          126,
          127,
          128,
          129,
          130,
          131,
          132,
          133,
          134,
          135,
          136,
          137,
          138,
          139,
          140,
          141,
          142,
          143,
          144,
          145,
          146,
          147,
          148,
          149,
          150,
          151,
          152,
          153,
          154,
          155,
          156,
          157,
          158,
          159,
          160,
          161,
          162,
          163,
          164,
          165,
          166,
          167,
          168,
          169,
          170,
          171,
          172,
          173,
          174,
          175,
          176,
          177,
          178,
          179,
          180,
          181,
          182,
          183,
          184,
          185,
          186,
          187,
          188,
          189,
          190,
          191,
          192,
          193,
          194,
          195,
          196,
          197,
          198,
          199,
          200,
          201,
          202,
          203,
          204,
          205,
          206,
          207,
          208,
          209,
          210,
          211,
          212,
          213,
          214,
          215,
          216,
          217,
          218,
          219,
          220,
          221,
          222,
          223,
          224,
          225,
          226,
          227,
          228,
          229,
          230,
          231,
          232,
          233,
          234,
          235,
          236,
          237,
          238,
          239,
          240,
          241,
          242,
          243,
          244,
          245,
          246,
          247,
          248,
          249,
          250,
          251,
          252,
          253,
          254,
          255,
          256,
          257,
          258,
          259,
          260,
          261,
          262,
          263,
          264,
          265,
          266,
          267,
          268,
          269,
          270,
          271,
          272,
          273,
          274,
          275,
          276,
          277,
          278,
          279,
          280,
          281,
          282,
          283,
          284,
          285,
          286,
          287,
          288,
          289,
          290,
          291,
          292,
          293,
          294,
          295,
          296,
          297,
          298,
          299,
          300,
          301,
          302,
          303,
          304,
          305,
          306,
          307,
          308,
          309,
          310,
          311,
          312,
          313,
          314,
          315,
          316,
          317,
          318,
          319,
          320,
          321,
          322,
          323,
          324,
          325,
          326,
          327,
          328,
          329,
          330,
          331,
          332,
          333,
          334,
          335,
          336,
          337,
          338,
          339,
          340,
          341,
          342,
          343,
          344,
          345,
          346,
          347,
          348,
          349,
          350,
          351,
          352,
          353,
          354,
          355,
          356,
          357,
          358,
          359,
          360,
          361,
          362,
          363,
          364,
          365,
          366,
          367,
          368,
          369,
          370,
          371,
          372,
          373,
          374,
          375,
          376,
          377,
          378,
          379,
          380,
          381,
          382,
          383,
          384,
          385,
          386,
          387,
          388,
          389,
          390,
          391,
          392,
          393,
          394,
          395,
          396,
          397,
          398,
          399,
          400,
          401,
          402,
          403,
          404,
          405,
          406,
          407,
          408,
          409,
          410,
          411,
          412,
          413,
          414,
          415,
          416,
          417,
          418,
          419,
          420,
          421,
          422,
          423,
          424,
          425,
          426,
          427,
          428,
          429,
          430,
          431,
          432,
          433,
          434,
          435,
          436,
          437,
          438,
          439,
          440,
          441,
          442,
          443,
          444,
          445,
          446,
          447,
          448,
          449,
          450,
          451,
          452,
          453,
          454,
          455,
          456,
          457,
          458,
          459,
          460,
          461,
          462,
          463,
          464,
          465,
          466,
          467,
          468,
          469,
          470,
          471,
          472,
          473,
          474,
          475,
          476,
          477,
          478,
          479,
          480,
          481,
          482,
          483,
          484,
          485,
          486,
          487,
          488,
          489,
          490,
          491,
          492,
          493,
          494,
          495,
          496,
          497,
          498,
          499,
          500,
          501,
          502,
          503,
          504,
          505,
          506,
          507,
          508,
          509,
          510,
          511,
          512,
          513,
          514,
          515,
          516,
          517,
          518,
          519
         ],
         "y": [
          2.4488182067871094,
          2.4217050075531006,
          2.3972249031066895,
          2.375192403793335,
          2.3554723262786865,
          2.33782696723938,
          2.3220572471618652,
          2.3079004287719727,
          2.2951152324676514,
          2.2834692001342773,
          2.2727582454681396,
          2.2628252506256104,
          2.253465414047241,
          2.244551658630371,
          2.235990047454834,
          2.2277259826660156,
          2.219715118408203,
          2.2119100093841553,
          2.2043027877807617,
          2.196885347366333,
          2.1896538734436035,
          2.1825990676879883,
          2.1757123470306396,
          2.1689612865448,
          2.16232967376709,
          2.1558046340942383,
          2.149367570877075,
          2.1429924964904785,
          2.1366703510284424,
          2.130359172821045,
          2.124077081680298,
          2.1178247928619385,
          2.111576795578003,
          2.1053266525268555,
          2.0990912914276123,
          2.092869281768799,
          2.0866594314575195,
          2.0804755687713623,
          2.0743205547332764,
          2.0681986808776855,
          2.0621144771575928,
          2.0560779571533203,
          2.0500850677490234,
          2.0441532135009766,
          2.038278102874756,
          2.0324625968933105,
          2.0267059803009033,
          2.021001100540161,
          2.015352725982666,
          2.0097718238830566,
          2.0042507648468018,
          1.998780369758606,
          1.9933602809906006,
          1.9879957437515259,
          1.9826910495758057,
          1.97744882106781,
          1.972264051437378,
          1.9671456813812256,
          1.9620904922485352,
          1.957098364830017,
          1.9521692991256714,
          1.9473073482513428,
          1.942516803741455,
          1.937798261642456,
          1.9331440925598145,
          1.9285526275634766,
          1.9240235090255737,
          1.9195613861083984,
          1.9151605367660522,
          1.910819411277771,
          1.9065439701080322,
          1.9023292064666748,
          1.898175597190857,
          1.8940808773040771,
          1.8900429010391235,
          1.886059284210205,
          1.882130742073059,
          1.8782553672790527,
          1.8744282722473145,
          1.8706544637680054,
          1.8669288158416748,
          1.86324942111969,
          1.8596174716949463,
          1.8560314178466797,
          1.852487564086914,
          1.8489888906478882,
          1.8455299139022827,
          1.8421076536178589,
          1.8387221097946167,
          1.8353692293167114,
          1.832047462463379,
          1.8287557363510132,
          1.8254971504211426,
          1.8222682476043701,
          1.8190683126449585,
          1.8158972263336182,
          1.8127530813217163,
          1.8096370697021484,
          1.8065484762191772,
          1.8034847974777222,
          1.8004484176635742,
          1.7974355220794678,
          1.7944450378417969,
          1.791472315788269,
          1.7885217666625977,
          1.785591959953308,
          1.7826811075210571,
          1.7797913551330566,
          1.7769224643707275,
          1.7740691900253296,
          1.771235466003418,
          1.76842200756073,
          1.765625238418579,
          1.7628477811813354,
          1.760090708732605,
          1.7573506832122803,
          1.754622220993042,
          1.7519100904464722,
          1.74921452999115,
          1.7465331554412842,
          1.743868350982666,
          1.7412177324295044,
          1.7385810613632202,
          1.735959768295288,
          1.7333555221557617,
          1.7307666540145874,
          1.7281911373138428,
          1.725631594657898,
          1.723084568977356,
          1.7205488681793213,
          1.7180273532867432,
          1.715521216392517,
          1.7130268812179565,
          1.7105493545532227,
          1.7080847024917603,
          1.705628752708435,
          1.7031843662261963,
          1.7007521390914917,
          1.6983333826065063,
          1.6959294080734253,
          1.6935412883758545,
          1.6911643743515015,
          1.688795804977417,
          1.6864421367645264,
          1.6841024160385132,
          1.6817731857299805,
          1.6794601678848267,
          1.6771571636199951,
          1.6748615503311157,
          1.6725797653198242,
          1.6703137159347534,
          1.6680642366409302,
          1.6658307313919067,
          1.6636110544204712,
          1.6614000797271729,
          1.659194827079773,
          1.657006025314331,
          1.6548340320587158,
          1.6526724100112915,
          1.650529146194458,
          1.6483938694000244,
          1.6462680101394653,
          1.6441603899002075,
          1.6420726776123047,
          1.6400032043457031,
          1.6379495859146118,
          1.6359093189239502,
          1.6338797807693481,
          1.6318613290786743,
          1.6298655271530151,
          1.6278871297836304,
          1.6259180307388306,
          1.6239664554595947,
          1.6220227479934692,
          1.6200922727584839,
          1.618186354637146,
          1.6163028478622437,
          1.6144319772720337,
          1.6125719547271729,
          1.6107256412506104,
          1.6088979244232178,
          1.6070888042449951,
          1.6052988767623901,
          1.6035218238830566,
          1.6017507314682007,
          1.6000001430511475,
          1.5982640981674194,
          1.5965499877929688,
          1.5948607921600342,
          1.5931843519210815,
          1.5915110111236572,
          1.5898512601852417,
          1.5882134437561035,
          1.5866007804870605,
          1.5850049257278442,
          1.5834153890609741,
          1.5818336009979248,
          1.5802603960037231,
          1.5787138938903809,
          1.5771876573562622,
          1.575682520866394,
          1.5741900205612183,
          1.5727041959762573,
          1.5712238550186157,
          1.5697661638259888,
          1.568333387374878,
          1.5669234991073608,
          1.5655184984207153,
          1.5641119480133057,
          1.5627175569534302,
          1.5613411664962769,
          1.5599937438964844,
          1.5586646795272827,
          1.557347297668457,
          1.5560322999954224,
          1.5547230243682861,
          1.5534268617630005,
          1.5521576404571533,
          1.5509086847305298,
          1.549674391746521,
          1.548437237739563,
          1.5471982955932617,
          1.5459775924682617,
          1.544779896736145,
          1.5436112880706787,
          1.542453408241272,
          1.541297435760498,
          1.5401400327682495,
          1.538994312286377,
          1.5378669500350952,
          1.5367668867111206,
          1.5356802940368652,
          1.534600853919983,
          1.533514380455017,
          1.5324283838272095,
          1.5313655138015747,
          1.5303294658660889,
          1.529317855834961,
          1.528304100036621,
          1.527282953262329,
          1.5262631177902222,
          1.5252615213394165,
          1.5242807865142822,
          1.5233253240585327,
          1.5223747491836548,
          1.5214252471923828,
          1.520465612411499,
          1.5195103883743286,
          1.5185843706130981,
          1.5176877975463867,
          1.5168046951293945,
          1.5159087181091309,
          1.5150007009506226,
          1.5140994787216187,
          1.5132248401641846,
          1.5123738050460815,
          1.5115410089492798,
          1.5107014179229736,
          1.5098588466644287,
          1.509006381034851,
          1.5081673860549927,
          1.5073609352111816,
          1.5065813064575195,
          1.5058025121688843,
          1.5050044059753418,
          1.5041954517364502,
          1.503401279449463,
          1.5026376247406006,
          1.5018936395645142,
          1.50115966796875,
          1.5004124641418457,
          1.4996626377105713,
          1.4989078044891357,
          1.4981714487075806,
          1.4974654912948608,
          1.496780514717102,
          1.4960895776748657,
          1.4953787326812744,
          1.4946582317352295,
          1.4939569234848022,
          1.4932855367660522,
          1.4926286935806274,
          1.491976022720337,
          1.4913103580474854,
          1.4906448125839233,
          1.489977240562439,
          1.4893295764923096,
          1.4887079000473022,
          1.4880998134613037,
          1.4874813556671143,
          1.4868444204330444,
          1.4862010478973389,
          1.4855821132659912,
          1.4849909543991089,
          1.4844073057174683,
          1.4838236570358276,
          1.483228087425232,
          1.4826347827911377,
          1.4820430278778076,
          1.481471061706543,
          1.4809205532073975,
          1.4803768396377563,
          1.4798192977905273,
          1.479245662689209,
          1.4786685705184937,
          1.4781181812286377,
          1.4775930643081665,
          1.4770700931549072,
          1.4765452146530151,
          1.4760098457336426,
          1.4754787683486938,
          1.47495436668396,
          1.4744466543197632,
          1.473955750465393,
          1.4734649658203125,
          1.4729584455490112,
          1.472440242767334,
          1.4719213247299194,
          1.471430778503418,
          1.4709631204605103,
          1.4704937934875488,
          1.4700218439102173,
          1.4695394039154053,
          1.4690639972686768,
          1.4685956239700317,
          1.468140721321106,
          1.4676976203918457,
          1.4672516584396362,
          1.4667922258377075,
          1.4663245677947998,
          1.4658567905426025,
          1.4654181003570557,
          1.4649995565414429,
          1.4645730257034302,
          1.4641435146331787,
          1.46370530128479,
          1.463279128074646,
          1.4628612995147705,
          1.4624521732330322,
          1.4620494842529297,
          1.461641550064087,
          1.461222529411316,
          1.4607980251312256,
          1.4603756666183472,
          1.4599823951721191,
          1.4596047401428223,
          1.459214687347412,
          1.4588229656219482,
          1.4584254026412964,
          1.4580426216125488,
          1.4576656818389893,
          1.457292914390564,
          1.4569242000579834,
          1.4565492868423462,
          1.4561651945114136,
          1.4557791948318481,
          1.4553946256637573,
          1.4550410509109497,
          1.4546995162963867,
          1.454339861869812,
          1.4539793729782104,
          1.4536173343658447,
          1.4532740116119385,
          1.4529341459274292,
          1.4525930881500244,
          1.4522536993026733,
          1.451907992362976,
          1.4515548944473267,
          1.451205849647522,
          1.4508590698242188,
          1.4505395889282227,
          1.4502259492874146,
          1.4498924016952515,
          1.4495609998703003,
          1.4492313861846924,
          1.448921799659729,
          1.4486138820648193,
          1.4483003616333008,
          1.4479856491088867,
          1.4476643800735474,
          1.4473412036895752,
          1.4470230340957642,
          1.4467052221298218,
          1.4464131593704224,
          1.4461233615875244,
          1.4458115100860596,
          1.4455060958862305,
          1.4452059268951416,
          1.4449275732040405,
          1.444643497467041,
          1.4443509578704834,
          1.444057583808899,
          1.4437609910964966,
          1.4434648752212524,
          1.4431753158569336,
          1.4428825378417969,
          1.4426147937774658,
          1.442346453666687,
          1.4420545101165771,
          1.4417736530303955,
          1.4415003061294556,
          1.4412466287612915,
          1.4409836530685425,
          1.4407107830047607,
          1.4404371976852417,
          1.4401617050170898,
          1.4398905038833618,
          1.4396264553070068,
          1.4393545389175415,
          1.4391062259674072,
          1.4388573169708252,
          1.4385820627212524,
          1.4383219480514526,
          1.4380723237991333,
          1.4378418922424316,
          1.4375981092453003,
          1.4373424053192139,
          1.437087059020996,
          1.436830997467041,
          1.4365808963775635,
          1.4363389015197754,
          1.4360871315002441,
          1.4358572959899902,
          1.4356242418289185,
          1.4353649616241455,
          1.4351246356964111,
          1.4348961114883423,
          1.4346861839294434,
          1.4344600439071655,
          1.434220790863037,
          1.4339802265167236,
          1.4337414503097534,
          1.4335116147994995,
          1.433288335800171,
          1.4330544471740723,
          1.4328417778015137,
          1.432621717453003,
          1.4323757886886597,
          1.4321542978286743,
          1.431945562362671,
          1.4317516088485718,
          1.431538701057434,
          1.431313395500183,
          1.4310868978500366,
          1.4308644533157349,
          1.4306538105010986,
          1.4304473400115967,
          1.4302254915237427,
          1.430025339126587,
          1.4298176765441895,
          1.4295854568481445,
          1.4293832778930664,
          1.4291912317276,
          1.4290093183517456,
          1.428806185722351,
          1.4285948276519775,
          1.428383469581604,
          1.4281773567199707,
          1.4279837608337402,
          1.4277905225753784,
          1.427578330039978,
          1.427391529083252,
          1.4271981716156006,
          1.4269784688949585,
          1.4267916679382324,
          1.426614761352539,
          1.4264442920684814,
          1.4262516498565674,
          1.426052451133728,
          1.4258546829223633,
          1.425662875175476,
          1.4254834651947021,
          1.425301432609558,
          1.425097942352295,
          1.4249228239059448,
          1.424741506576538,
          1.4245349168777466,
          1.424363613128662,
          1.4241987466812134,
          1.4240368604660034,
          1.423854112625122,
          1.4236687421798706,
          1.4234830141067505,
          1.423304557800293,
          1.4231388568878174,
          1.4229661226272583,
          1.4227718114852905,
          1.4226114749908447,
          1.422441840171814,
          1.4222432374954224,
          1.4220857620239258,
          1.4219337701797485,
          1.4217793941497803,
          1.421606183052063,
          1.421433448791504,
          1.4212580919265747,
          1.4210892915725708,
          1.4209359884262085,
          1.420771837234497,
          1.4205842018127441,
          1.420437216758728,
          1.4202795028686523,
          1.4200886487960815,
          1.4199424982070923,
          1.4198009967803955,
          1.4196549654006958,
          1.419490933418274,
          1.4193291664123535,
          1.419162631034851,
          1.419004201889038,
          1.418860673904419,
          1.4187021255493164,
          1.4185242652893066,
          1.4183918237686157,
          1.4182417392730713,
          1.4180580377578735,
          1.4179242849349976,
          1.4177905321121216,
          1.4176490306854248,
          1.4174973964691162
         ]
        },
        {
         "mode": "lines",
         "name": "train",
         "type": "scatter",
         "x": [
          0,
          1,
          2,
          3,
          4,
          5,
          6,
          7,
          8,
          9,
          10,
          11,
          12,
          13,
          14,
          15,
          16,
          17,
          18,
          19,
          20,
          21,
          22,
          23,
          24,
          25,
          26,
          27,
          28,
          29,
          30,
          31,
          32,
          33,
          34,
          35,
          36,
          37,
          38,
          39,
          40,
          41,
          42,
          43,
          44,
          45,
          46,
          47,
          48,
          49,
          50,
          51,
          52,
          53,
          54,
          55,
          56,
          57,
          58,
          59,
          60,
          61,
          62,
          63,
          64,
          65,
          66,
          67,
          68,
          69,
          70,
          71,
          72,
          73,
          74,
          75,
          76,
          77,
          78,
          79,
          80,
          81,
          82,
          83,
          84,
          85,
          86,
          87,
          88,
          89,
          90,
          91,
          92,
          93,
          94,
          95,
          96,
          97,
          98,
          99,
          100,
          101,
          102,
          103,
          104,
          105,
          106,
          107,
          108,
          109,
          110,
          111,
          112,
          113,
          114,
          115,
          116,
          117,
          118,
          119,
          120,
          121,
          122,
          123,
          124,
          125,
          126,
          127,
          128,
          129,
          130,
          131,
          132,
          133,
          134,
          135,
          136,
          137,
          138,
          139,
          140,
          141,
          142,
          143,
          144,
          145,
          146,
          147,
          148,
          149,
          150,
          151,
          152,
          153,
          154,
          155,
          156,
          157,
          158,
          159,
          160,
          161,
          162,
          163,
          164,
          165,
          166,
          167,
          168,
          169,
          170,
          171,
          172,
          173,
          174,
          175,
          176,
          177,
          178,
          179,
          180,
          181,
          182,
          183,
          184,
          185,
          186,
          187,
          188,
          189,
          190,
          191,
          192,
          193,
          194,
          195,
          196,
          197,
          198,
          199,
          200,
          201,
          202,
          203,
          204,
          205,
          206,
          207,
          208,
          209,
          210,
          211,
          212,
          213,
          214,
          215,
          216,
          217,
          218,
          219,
          220,
          221,
          222,
          223,
          224,
          225,
          226,
          227,
          228,
          229,
          230,
          231,
          232,
          233,
          234,
          235,
          236,
          237,
          238,
          239,
          240,
          241,
          242,
          243,
          244,
          245,
          246,
          247,
          248,
          249,
          250,
          251,
          252,
          253,
          254,
          255,
          256,
          257,
          258,
          259,
          260,
          261,
          262,
          263,
          264,
          265,
          266,
          267,
          268,
          269,
          270,
          271,
          272,
          273,
          274,
          275,
          276,
          277,
          278,
          279,
          280,
          281,
          282,
          283,
          284,
          285,
          286,
          287,
          288,
          289,
          290,
          291,
          292,
          293,
          294,
          295,
          296,
          297,
          298,
          299,
          300,
          301,
          302,
          303,
          304,
          305,
          306,
          307,
          308,
          309,
          310,
          311,
          312,
          313,
          314,
          315,
          316,
          317,
          318,
          319,
          320,
          321,
          322,
          323,
          324,
          325,
          326,
          327,
          328,
          329,
          330,
          331,
          332,
          333,
          334,
          335,
          336,
          337,
          338,
          339,
          340,
          341,
          342,
          343,
          344,
          345,
          346,
          347,
          348,
          349,
          350,
          351,
          352,
          353,
          354,
          355,
          356,
          357,
          358,
          359,
          360,
          361,
          362,
          363,
          364,
          365,
          366,
          367,
          368,
          369,
          370,
          371,
          372,
          373,
          374,
          375,
          376,
          377,
          378,
          379,
          380,
          381,
          382,
          383,
          384,
          385,
          386,
          387,
          388,
          389,
          390,
          391,
          392,
          393,
          394,
          395,
          396,
          397,
          398,
          399,
          400,
          401,
          402,
          403,
          404,
          405,
          406,
          407,
          408,
          409,
          410,
          411,
          412,
          413,
          414,
          415,
          416,
          417,
          418,
          419,
          420,
          421,
          422,
          423,
          424,
          425,
          426,
          427,
          428,
          429,
          430,
          431,
          432,
          433,
          434,
          435,
          436,
          437,
          438,
          439,
          440,
          441,
          442,
          443,
          444,
          445,
          446,
          447,
          448,
          449,
          450,
          451,
          452,
          453,
          454,
          455,
          456,
          457,
          458,
          459,
          460,
          461,
          462,
          463,
          464,
          465,
          466,
          467,
          468,
          469,
          470,
          471,
          472,
          473,
          474,
          475,
          476,
          477,
          478,
          479,
          480,
          481,
          482,
          483,
          484,
          485,
          486,
          487,
          488,
          489,
          490,
          491,
          492,
          493,
          494,
          495,
          496,
          497,
          498,
          499,
          500,
          501,
          502,
          503,
          504,
          505,
          506,
          507,
          508,
          509,
          510,
          511,
          512,
          513,
          514,
          515,
          516,
          517,
          518,
          519
         ],
         "y": [
          2.4783642292022705,
          2.4488255977630615,
          2.421773910522461,
          2.3975298404693604,
          2.3755366802215576,
          2.357300281524658,
          2.3378186225891113,
          2.3231594562530518,
          2.3086788654327393,
          2.296647310256958,
          2.2821900844573975,
          2.2734763622283936,
          2.2624928951263428,
          2.2538974285125732,
          2.2452542781829834,
          2.235537528991699,
          2.2280967235565186,
          2.220069169998169,
          2.213319778442383,
          2.2047488689422607,
          2.1978015899658203,
          2.1909689903259277,
          2.184209108352661,
          2.17458176612854,
          2.1697537899017334,
          2.161674737930298,
          2.1562981605529785,
          2.1503732204437256,
          2.142437696456909,
          2.137021780014038,
          2.1305272579193115,
          2.1252858638763428,
          2.1183831691741943,
          2.112244129180908,
          2.1066761016845703,
          2.100559949874878,
          2.091783046722412,
          2.0876882076263428,
          2.0795483589172363,
          2.0748748779296875,
          2.0693371295928955,
          2.0614538192749023,
          2.056313991546631,
          2.050124406814575,
          2.045353651046753,
          2.038933515548706,
          2.033205032348633,
          2.0279786586761475,
          2.022397994995117,
          2.01416277885437,
          2.011180877685547,
          2.003098487854004,
          1.999367594718933,
          1.9946346282958984,
          1.987386703491211,
          1.9828203916549683,
          1.977270483970642,
          1.973628282546997,
          1.9679279327392578,
          1.9630101919174194,
          1.9580754041671753,
          1.9533723592758179,
          1.9461479187011719,
          1.9443542957305908,
          1.936471939086914,
          1.9335867166519165,
          1.9298843145370483,
          1.9234739542007446,
          1.9195679426193237,
          1.9147144556045532,
          1.9123789072036743,
          1.9073795080184937,
          1.9032570123672485,
          1.898729681968689,
          1.895090103149414,
          1.888885498046875,
          1.8881641626358032,
          1.8806408643722534,
          1.8783934116363525,
          1.875788927078247,
          1.8701763153076172,
          1.8668736219406128,
          1.8625668287277222,
          1.8614033460617065,
          1.856814980506897,
          1.853554129600525,
          1.8491079807281494,
          1.846300482749939,
          1.8408946990966797,
          1.8410133123397827,
          1.8336716890335083,
          1.8319374322891235,
          1.8300905227661133,
          1.8250105381011963,
          1.8221886157989502,
          1.8181952238082886,
          1.8177515268325806,
          1.8134205341339111,
          1.8108001947402954,
          1.8062511682510376,
          1.8039559125900269,
          1.7991434335708618,
          1.799687385559082,
          1.792486548423767,
          1.7910540103912354,
          1.7896976470947266,
          1.7849746942520142,
          1.7824405431747437,
          1.7786976099014282,
          1.7786396741867065,
          1.7745612859725952,
          1.7724310159683228,
          1.7677677869796753,
          1.7658510208129883,
          1.7614755630493164,
          1.7621663808822632,
          1.7551296949386597,
          1.7538626194000244,
          1.7528690099716187,
          1.7484562397003174,
          1.746160864830017,
          1.7426395416259766,
          1.7427433729171753,
          1.738871455192566,
          1.7371491193771362,
          1.7323827743530273,
          1.7307475805282593,
          1.7267407178878784,
          1.7274353504180908,
          1.720633625984192,
          1.7195297479629517,
          1.7187660932540894,
          1.7145699262619019,
          1.712534785270691,
          1.709210991859436,
          1.7093877792358398,
          1.7056862115859985,
          1.7043228149414062,
          1.6994856595993042,
          1.698041558265686,
          1.694414734840393,
          1.6950225830078125,
          1.6884976625442505,
          1.6875747442245483,
          1.6869686841964722,
          1.6830110549926758,
          1.6811965703964233,
          1.6780637502670288,
          1.6783136129379272,
          1.6747101545333862,
          1.673662543296814,
          1.6688024997711182,
          1.6674940586090088,
          1.6643097400665283,
          1.6647443771362305,
          1.6585962772369385,
          1.657862901687622,
          1.6573575735092163,
          1.6536248922348022,
          1.6520127058029175,
          1.6491174697875977,
          1.64946711063385,
          1.6459568738937378,
          1.6451797485351562,
          1.640376329421997,
          1.6391853094100952,
          1.6364895105361938,
          1.6367069482803345,
          1.6309725046157837,
          1.6304439306259155,
          1.6300960779190063,
          1.626560091972351,
          1.6252107620239258,
          1.6225616931915283,
          1.6230205297470093,
          1.6196285486221313,
          1.6191221475601196,
          1.614426851272583,
          1.61337149143219,
          1.6112126111984253,
          1.6111921072006226,
          1.6058831214904785,
          1.605542778968811,
          1.6053743362426758,
          1.602068543434143,
          1.6010116338729858,
          1.5985937118530273,
          1.5991657972335815,
          1.5959843397140503,
          1.5956604480743408,
          1.591169834136963,
          1.590262770652771,
          1.5885931253433228,
          1.5883663892745972,
          1.5835187435150146,
          1.5833415985107422,
          1.5833038091659546,
          1.5802661180496216,
          1.5794633626937866,
          1.5773200988769531,
          1.57797110080719,
          1.5750563144683838,
          1.5748569965362549,
          1.57058846950531,
          1.5698094367980957,
          1.5686115026474,
          1.568212628364563,
          1.5638254880905151,
          1.563733458518982,
          1.5638427734375,
          1.56108558177948,
          1.5604825019836426,
          1.5586135387420654,
          1.5593328475952148,
          1.556705355644226,
          1.5565898418426514,
          1.5525486469268799,
          1.5518659353256226,
          1.5511115789413452,
          1.5505932569503784,
          1.5465424060821533,
          1.5465587377548218,
          1.546782374382019,
          1.5443302392959595,
          1.5438705682754517,
          1.5422492027282715,
          1.5430124998092651,
          1.5406832695007324,
          1.5406259298324585,
          1.5367865562438965,
          1.5362118482589722,
          1.53581964969635,
          1.535214900970459,
          1.5314371585845947,
          1.531562089920044,
          1.5318628549575806,
          1.5296993255615234,
          1.529352068901062,
          1.527974009513855,
          1.5287531614303589,
          1.5267118215560913,
          1.5266779661178589,
          1.523039698600769,
          1.5225660800933838,
          1.5224708318710327,
          1.5218056440353394,
          1.5182727575302124,
          1.518475890159607,
          1.5187956094741821,
          1.5169095993041992,
          1.5166524648666382,
          1.5154768228530884,
          1.516255259513855,
          1.5144662857055664,
          1.5144487619400024,
          1.511014461517334,
          1.5106323957443237,
          1.5107721090316772,
          1.5100828409194946,
          1.5067453384399414,
          1.5069926977157593,
          1.5073442459106445,
          1.5057176351547241,
          1.5054974555969238,
          1.504499912261963,
          1.505275845527649,
          1.5036890506744385,
          1.5036715269088745,
          1.5004513263702393,
          1.5001274347305298,
          1.5004609823226929,
          1.499772071838379,
          1.4965897798538208,
          1.4968883991241455,
          1.4972546100616455,
          1.495858073234558,
          1.495648980140686,
          1.4947916269302368,
          1.4955886602401733,
          1.4941740036010742,
          1.4941492080688477,
          1.4911103248596191,
          1.4908527135849,
          1.4913309812545776,
          1.4906667470932007,
          1.4875987768173218,
          1.4879744052886963,
          1.488324761390686,
          1.4871305227279663,
          1.4869153499603271,
          1.486168384552002,
          1.4870001077651978,
          1.4857438802719116,
          1.4857004880905151,
          1.4828227758407593,
          1.4826369285583496,
          1.4832149744033813,
          1.4825752973556519,
          1.4796072244644165,
          1.480059266090393,
          1.4803931713104248,
          1.47938072681427,
          1.4791494607925415,
          1.4784857034683228,
          1.4793661832809448,
          1.4782532453536987,
          1.4781593084335327,
          1.475442886352539,
          1.4753313064575195,
          1.4759728908538818,
          1.4753507375717163,
          1.4724888801574707,
          1.4730051755905151,
          1.4733145236968994,
          1.472459077835083,
          1.4722050428390503,
          1.4716087579727173,
          1.4725407361984253,
          1.4715425968170166,
          1.4714120626449585,
          1.4688273668289185,
          1.4687817096710205,
          1.4694916009902954,
          1.4688599109649658,
          1.466117024421692,
          1.4666777849197388,
          1.4669731855392456,
          1.4662374258041382,
          1.4659503698349,
          1.4654314517974854,
          1.4664171934127808,
          1.4655040502548218,
          1.4653518199920654,
          1.4628797769546509,
          1.4628952741622925,
          1.4636558294296265,
          1.4630128145217896,
          1.4603533744812012,
          1.460974931716919,
          1.4612627029418945,
          1.4606201648712158,
          1.460305094718933,
          1.4598489999771118,
          1.46088445186615,
          1.4600443840026855,
          1.4598737955093384,
          1.4575016498565674,
          1.4575706720352173,
          1.4583724737167358,
          1.4577373266220093,
          1.4551297426223755,
          1.4558098316192627,
          1.4560915231704712,
          1.4555349349975586,
          1.4551944732666016,
          1.454776644706726,
          1.4558641910552979,
          1.4550873041152954,
          1.454893946647644,
          1.4526208639144897,
          1.4527348279953003,
          1.4535630941390991,
          1.4529385566711426,
          1.4503803253173828,
          1.4511054754257202,
          1.451385498046875,
          1.4509016275405884,
          1.4505412578582764,
          1.450146198272705,
          1.451282262802124,
          1.4505609273910522,
          1.4503517150878906,
          1.4481728076934814,
          1.4483156204223633,
          1.4491798877716064,
          1.448551058769226,
          1.4460400342941284,
          1.4468005895614624,
          1.4470897912979126,
          1.4466609954833984,
          1.4462860822677612,
          1.4459173679351807,
          1.4470939636230469,
          1.4464111328125,
          1.446182370185852,
          1.4441026449203491,
          1.4442574977874756,
          1.4451535940170288,
          1.4445234537124634,
          1.4420760869979858,
          1.4428437948226929,
          1.4431426525115967,
          1.4427589178085327,
          1.4423799514770508,
          1.442029356956482,
          1.4432401657104492,
          1.442590355873108,
          1.4423452615737915,
          1.4403609037399292,
          1.4405099153518677,
          1.4414433240890503,
          1.4408153295516968,
          1.4384121894836426,
          1.4391964673995972,
          1.4395068883895874,
          1.4391603469848633,
          1.4387661218643188,
          1.4384431838989258,
          1.4396836757659912,
          1.4390696287155151,
          1.438799262046814,
          1.436904788017273,
          1.437042236328125,
          1.4380172491073608,
          1.4373921155929565,
          1.4350266456604004,
          1.4358301162719727,
          1.436141848564148,
          1.4358357191085815,
          1.4354208707809448,
          1.4351246356964111,
          1.4363832473754883,
          1.435804009437561,
          1.4355134963989258,
          1.4337033033370972,
          1.4338263273239136,
          1.4348455667495728,
          1.4342195987701416,
          1.4318846464157104,
          1.4327058792114258,
          1.433024287223816,
          1.4327484369277954,
          1.4323161840438843,
          1.4320489168167114,
          1.4333165884017944,
          1.4327701330184937,
          1.4324617385864258,
          1.4307281970977783,
          1.4308397769927979,
          1.4318984746932983,
          1.4312663078308105,
          1.4289658069610596,
          1.4297963380813599,
          1.4301166534423828,
          1.4298771619796753,
          1.4294308423995972,
          1.429184913635254,
          1.4304591417312622,
          1.4299415349960327,
          1.429613471031189,
          1.4279555082321167,
          1.428052544593811,
          1.4291490316390991,
          1.4285084009170532,
          1.4262388944625854,
          1.4270706176757812,
          1.4274046421051025,
          1.4271949529647827,
          1.4267452955245972,
          1.426512360572815,
          1.4277852773666382,
          1.427293062210083,
          1.4269485473632812,
          1.4253679513931274,
          1.4254450798034668,
          1.4265751838684082,
          1.425930380821228,
          1.4236875772476196,
          1.424521803855896,
          1.424862265586853,
          1.4246858358383179,
          1.4242383241653442,
          1.4240092039108276,
          1.4252761602401733,
          1.424813151359558,
          1.4244517087936401,
          1.4229423999786377,
          1.4229968786239624,
          1.4241617918014526,
          1.4235131740570068,
          1.4212881326675415,
          1.4221280813217163,
          1.4224803447723389,
          1.4223250150680542,
          1.4218791723251343,
          1.4216721057891846,
          1.4229251146316528,
          1.4224820137023926,
          1.42210853099823,
          1.4206674098968506,
          1.4206993579864502,
          1.4218896627426147,
          1.4212400913238525,
          1.419028639793396,
          1.4198846817016602,
          1.4202431440353394,
          1.4201099872589111,
          1.4196665287017822,
          1.4194740056991577,
          1.4207152128219604,
          1.4202821254730225,
          1.419903039932251,
          1.4185255765914917,
          1.4185360670089722,
          1.4197479486465454,
          1.4191001653671265,
          1.4169024229049683,
          1.4177712202072144,
          1.4181374311447144,
          1.4180216789245605,
          1.4175846576690674,
          1.4174025058746338,
          1.4186270236968994,
          1.4182056188583374,
          1.4178298711776733,
          1.416504144668579,
          1.4164936542510986,
          1.4177268743515015,
          1.417083740234375,
          1.414887547492981
         ]
        }
       ],
       "layout": {
        "template": {
         "data": {
          "bar": [
           {
            "error_x": {
             "color": "#2a3f5f"
            },
            "error_y": {
             "color": "#2a3f5f"
            },
            "marker": {
             "line": {
              "color": "#E5ECF6",
              "width": 0.5
             },
             "pattern": {
              "fillmode": "overlay",
              "size": 10,
              "solidity": 0.2
             }
            },
            "type": "bar"
           }
          ],
          "barpolar": [
           {
            "marker": {
             "line": {
              "color": "#E5ECF6",
              "width": 0.5
             },
             "pattern": {
              "fillmode": "overlay",
              "size": 10,
              "solidity": 0.2
             }
            },
            "type": "barpolar"
           }
          ],
          "carpet": [
           {
            "aaxis": {
             "endlinecolor": "#2a3f5f",
             "gridcolor": "white",
             "linecolor": "white",
             "minorgridcolor": "white",
             "startlinecolor": "#2a3f5f"
            },
            "baxis": {
             "endlinecolor": "#2a3f5f",
             "gridcolor": "white",
             "linecolor": "white",
             "minorgridcolor": "white",
             "startlinecolor": "#2a3f5f"
            },
            "type": "carpet"
           }
          ],
          "choropleth": [
           {
            "colorbar": {
             "outlinewidth": 0,
             "ticks": ""
            },
            "type": "choropleth"
           }
          ],
          "contour": [
           {
            "colorbar": {
             "outlinewidth": 0,
             "ticks": ""
            },
            "colorscale": [
             [
              0,
              "#0d0887"
             ],
             [
              0.1111111111111111,
              "#46039f"
             ],
             [
              0.2222222222222222,
              "#7201a8"
             ],
             [
              0.3333333333333333,
              "#9c179e"
             ],
             [
              0.4444444444444444,
              "#bd3786"
             ],
             [
              0.5555555555555556,
              "#d8576b"
             ],
             [
              0.6666666666666666,
              "#ed7953"
             ],
             [
              0.7777777777777778,
              "#fb9f3a"
             ],
             [
              0.8888888888888888,
              "#fdca26"
             ],
             [
              1,
              "#f0f921"
             ]
            ],
            "type": "contour"
           }
          ],
          "contourcarpet": [
           {
            "colorbar": {
             "outlinewidth": 0,
             "ticks": ""
            },
            "type": "contourcarpet"
           }
          ],
          "heatmap": [
           {
            "colorbar": {
             "outlinewidth": 0,
             "ticks": ""
            },
            "colorscale": [
             [
              0,
              "#0d0887"
             ],
             [
              0.1111111111111111,
              "#46039f"
             ],
             [
              0.2222222222222222,
              "#7201a8"
             ],
             [
              0.3333333333333333,
              "#9c179e"
             ],
             [
              0.4444444444444444,
              "#bd3786"
             ],
             [
              0.5555555555555556,
              "#d8576b"
             ],
             [
              0.6666666666666666,
              "#ed7953"
             ],
             [
              0.7777777777777778,
              "#fb9f3a"
             ],
             [
              0.8888888888888888,
              "#fdca26"
             ],
             [
              1,
              "#f0f921"
             ]
            ],
            "type": "heatmap"
           }
          ],
          "heatmapgl": [
           {
            "colorbar": {
             "outlinewidth": 0,
             "ticks": ""
            },
            "colorscale": [
             [
              0,
              "#0d0887"
             ],
             [
              0.1111111111111111,
              "#46039f"
             ],
             [
              0.2222222222222222,
              "#7201a8"
             ],
             [
              0.3333333333333333,
              "#9c179e"
             ],
             [
              0.4444444444444444,
              "#bd3786"
             ],
             [
              0.5555555555555556,
              "#d8576b"
             ],
             [
              0.6666666666666666,
              "#ed7953"
             ],
             [
              0.7777777777777778,
              "#fb9f3a"
             ],
             [
              0.8888888888888888,
              "#fdca26"
             ],
             [
              1,
              "#f0f921"
             ]
            ],
            "type": "heatmapgl"
           }
          ],
          "histogram": [
           {
            "marker": {
             "pattern": {
              "fillmode": "overlay",
              "size": 10,
              "solidity": 0.2
             }
            },
            "type": "histogram"
           }
          ],
          "histogram2d": [
           {
            "colorbar": {
             "outlinewidth": 0,
             "ticks": ""
            },
            "colorscale": [
             [
              0,
              "#0d0887"
             ],
             [
              0.1111111111111111,
              "#46039f"
             ],
             [
              0.2222222222222222,
              "#7201a8"
             ],
             [
              0.3333333333333333,
              "#9c179e"
             ],
             [
              0.4444444444444444,
              "#bd3786"
             ],
             [
              0.5555555555555556,
              "#d8576b"
             ],
             [
              0.6666666666666666,
              "#ed7953"
             ],
             [
              0.7777777777777778,
              "#fb9f3a"
             ],
             [
              0.8888888888888888,
              "#fdca26"
             ],
             [
              1,
              "#f0f921"
             ]
            ],
            "type": "histogram2d"
           }
          ],
          "histogram2dcontour": [
           {
            "colorbar": {
             "outlinewidth": 0,
             "ticks": ""
            },
            "colorscale": [
             [
              0,
              "#0d0887"
             ],
             [
              0.1111111111111111,
              "#46039f"
             ],
             [
              0.2222222222222222,
              "#7201a8"
             ],
             [
              0.3333333333333333,
              "#9c179e"
             ],
             [
              0.4444444444444444,
              "#bd3786"
             ],
             [
              0.5555555555555556,
              "#d8576b"
             ],
             [
              0.6666666666666666,
              "#ed7953"
             ],
             [
              0.7777777777777778,
              "#fb9f3a"
             ],
             [
              0.8888888888888888,
              "#fdca26"
             ],
             [
              1,
              "#f0f921"
             ]
            ],
            "type": "histogram2dcontour"
           }
          ],
          "mesh3d": [
           {
            "colorbar": {
             "outlinewidth": 0,
             "ticks": ""
            },
            "type": "mesh3d"
           }
          ],
          "parcoords": [
           {
            "line": {
             "colorbar": {
              "outlinewidth": 0,
              "ticks": ""
             }
            },
            "type": "parcoords"
           }
          ],
          "pie": [
           {
            "automargin": true,
            "type": "pie"
           }
          ],
          "scatter": [
           {
            "fillpattern": {
             "fillmode": "overlay",
             "size": 10,
             "solidity": 0.2
            },
            "type": "scatter"
           }
          ],
          "scatter3d": [
           {
            "line": {
             "colorbar": {
              "outlinewidth": 0,
              "ticks": ""
             }
            },
            "marker": {
             "colorbar": {
              "outlinewidth": 0,
              "ticks": ""
             }
            },
            "type": "scatter3d"
           }
          ],
          "scattercarpet": [
           {
            "marker": {
             "colorbar": {
              "outlinewidth": 0,
              "ticks": ""
             }
            },
            "type": "scattercarpet"
           }
          ],
          "scattergeo": [
           {
            "marker": {
             "colorbar": {
              "outlinewidth": 0,
              "ticks": ""
             }
            },
            "type": "scattergeo"
           }
          ],
          "scattergl": [
           {
            "marker": {
             "colorbar": {
              "outlinewidth": 0,
              "ticks": ""
             }
            },
            "type": "scattergl"
           }
          ],
          "scattermapbox": [
           {
            "marker": {
             "colorbar": {
              "outlinewidth": 0,
              "ticks": ""
             }
            },
            "type": "scattermapbox"
           }
          ],
          "scatterpolar": [
           {
            "marker": {
             "colorbar": {
              "outlinewidth": 0,
              "ticks": ""
             }
            },
            "type": "scatterpolar"
           }
          ],
          "scatterpolargl": [
           {
            "marker": {
             "colorbar": {
              "outlinewidth": 0,
              "ticks": ""
             }
            },
            "type": "scatterpolargl"
           }
          ],
          "scatterternary": [
           {
            "marker": {
             "colorbar": {
              "outlinewidth": 0,
              "ticks": ""
             }
            },
            "type": "scatterternary"
           }
          ],
          "surface": [
           {
            "colorbar": {
             "outlinewidth": 0,
             "ticks": ""
            },
            "colorscale": [
             [
              0,
              "#0d0887"
             ],
             [
              0.1111111111111111,
              "#46039f"
             ],
             [
              0.2222222222222222,
              "#7201a8"
             ],
             [
              0.3333333333333333,
              "#9c179e"
             ],
             [
              0.4444444444444444,
              "#bd3786"
             ],
             [
              0.5555555555555556,
              "#d8576b"
             ],
             [
              0.6666666666666666,
              "#ed7953"
             ],
             [
              0.7777777777777778,
              "#fb9f3a"
             ],
             [
              0.8888888888888888,
              "#fdca26"
             ],
             [
              1,
              "#f0f921"
             ]
            ],
            "type": "surface"
           }
          ],
          "table": [
           {
            "cells": {
             "fill": {
              "color": "#EBF0F8"
             },
             "line": {
              "color": "white"
             }
            },
            "header": {
             "fill": {
              "color": "#C8D4E3"
             },
             "line": {
              "color": "white"
             }
            },
            "type": "table"
           }
          ]
         },
         "layout": {
          "annotationdefaults": {
           "arrowcolor": "#2a3f5f",
           "arrowhead": 0,
           "arrowwidth": 1
          },
          "autotypenumbers": "strict",
          "coloraxis": {
           "colorbar": {
            "outlinewidth": 0,
            "ticks": ""
           }
          },
          "colorscale": {
           "diverging": [
            [
             0,
             "#8e0152"
            ],
            [
             0.1,
             "#c51b7d"
            ],
            [
             0.2,
             "#de77ae"
            ],
            [
             0.3,
             "#f1b6da"
            ],
            [
             0.4,
             "#fde0ef"
            ],
            [
             0.5,
             "#f7f7f7"
            ],
            [
             0.6,
             "#e6f5d0"
            ],
            [
             0.7,
             "#b8e186"
            ],
            [
             0.8,
             "#7fbc41"
            ],
            [
             0.9,
             "#4d9221"
            ],
            [
             1,
             "#276419"
            ]
           ],
           "sequential": [
            [
             0,
             "#0d0887"
            ],
            [
             0.1111111111111111,
             "#46039f"
            ],
            [
             0.2222222222222222,
             "#7201a8"
            ],
            [
             0.3333333333333333,
             "#9c179e"
            ],
            [
             0.4444444444444444,
             "#bd3786"
            ],
            [
             0.5555555555555556,
             "#d8576b"
            ],
            [
             0.6666666666666666,
             "#ed7953"
            ],
            [
             0.7777777777777778,
             "#fb9f3a"
            ],
            [
             0.8888888888888888,
             "#fdca26"
            ],
            [
             1,
             "#f0f921"
            ]
           ],
           "sequentialminus": [
            [
             0,
             "#0d0887"
            ],
            [
             0.1111111111111111,
             "#46039f"
            ],
            [
             0.2222222222222222,
             "#7201a8"
            ],
            [
             0.3333333333333333,
             "#9c179e"
            ],
            [
             0.4444444444444444,
             "#bd3786"
            ],
            [
             0.5555555555555556,
             "#d8576b"
            ],
            [
             0.6666666666666666,
             "#ed7953"
            ],
            [
             0.7777777777777778,
             "#fb9f3a"
            ],
            [
             0.8888888888888888,
             "#fdca26"
            ],
            [
             1,
             "#f0f921"
            ]
           ]
          },
          "colorway": [
           "#636efa",
           "#EF553B",
           "#00cc96",
           "#ab63fa",
           "#FFA15A",
           "#19d3f3",
           "#FF6692",
           "#B6E880",
           "#FF97FF",
           "#FECB52"
          ],
          "font": {
           "color": "#2a3f5f"
          },
          "geo": {
           "bgcolor": "white",
           "lakecolor": "white",
           "landcolor": "#E5ECF6",
           "showlakes": true,
           "showland": true,
           "subunitcolor": "white"
          },
          "hoverlabel": {
           "align": "left"
          },
          "hovermode": "closest",
          "mapbox": {
           "style": "light"
          },
          "paper_bgcolor": "white",
          "plot_bgcolor": "#E5ECF6",
          "polar": {
           "angularaxis": {
            "gridcolor": "white",
            "linecolor": "white",
            "ticks": ""
           },
           "bgcolor": "#E5ECF6",
           "radialaxis": {
            "gridcolor": "white",
            "linecolor": "white",
            "ticks": ""
           }
          },
          "scene": {
           "xaxis": {
            "backgroundcolor": "#E5ECF6",
            "gridcolor": "white",
            "gridwidth": 2,
            "linecolor": "white",
            "showbackground": true,
            "ticks": "",
            "zerolinecolor": "white"
           },
           "yaxis": {
            "backgroundcolor": "#E5ECF6",
            "gridcolor": "white",
            "gridwidth": 2,
            "linecolor": "white",
            "showbackground": true,
            "ticks": "",
            "zerolinecolor": "white"
           },
           "zaxis": {
            "backgroundcolor": "#E5ECF6",
            "gridcolor": "white",
            "gridwidth": 2,
            "linecolor": "white",
            "showbackground": true,
            "ticks": "",
            "zerolinecolor": "white"
           }
          },
          "shapedefaults": {
           "line": {
            "color": "#2a3f5f"
           }
          },
          "ternary": {
           "aaxis": {
            "gridcolor": "white",
            "linecolor": "white",
            "ticks": ""
           },
           "baxis": {
            "gridcolor": "white",
            "linecolor": "white",
            "ticks": ""
           },
           "bgcolor": "#E5ECF6",
           "caxis": {
            "gridcolor": "white",
            "linecolor": "white",
            "ticks": ""
           }
          },
          "title": {
           "x": 0.05
          },
          "xaxis": {
           "automargin": true,
           "gridcolor": "white",
           "linecolor": "white",
           "ticks": "",
           "title": {
            "standoff": 15
           },
           "zerolinecolor": "white",
           "zerolinewidth": 2
          },
          "yaxis": {
           "automargin": true,
           "gridcolor": "white",
           "linecolor": "white",
           "ticks": "",
           "title": {
            "standoff": 15
           },
           "zerolinecolor": "white",
           "zerolinewidth": 2
          }
         }
        },
        "title": {
         "text": ""
        },
        "xaxis": {
         "title": {
          "text": ""
         }
        },
        "yaxis": {
         "title": {
          "text": ""
         }
        }
       }
      }
     },
     "metadata": {},
     "output_type": "display_data"
    }
   ],
   "source": [
    "#lines([test_losses, train_losses])\n",
    "#legend labels\n",
    "lines([test_losses, train_losses], labels=['test', 'train'])"
   ]
  },
  {
   "cell_type": "code",
   "execution_count": null,
   "metadata": {},
   "outputs": [
    {
     "data": {
      "text/plain": [
       "(0.0, 100.0)"
      ]
     },
     "execution_count": 65,
     "metadata": {},
     "output_type": "execute_result"
    },
    {
     "data": {
      "image/png": "[encoded data removed]",
      "text/plain": [
       "<Figure size 720x720 with 1 Axes>"
      ]
     },
     "metadata": {
      "needs_background": "light"
     },
     "output_type": "display_data"
    }
   ],
   "source": [
    "#difference of lists test_losses and train_losses\n",
    "diff = [test_losses[i] - train_losses[i] for i in range(len(test_losses))]\n",
    "plt.figure(figsize=(10, 10))\n",
    "plt.plot(diff)\n",
    "#xlim\n",
    "plt.xlim(0, 100)"
   ]
  },
  {
   "cell_type": "code",
   "execution_count": null,
   "metadata": {},
   "outputs": [],
   "source": [
    "seq = t.tensor([10] * 10).to(cfg.device)\n",
    "out = model(seq)"
   ]
  },
  {
   "cell_type": "code",
   "execution_count": null,
   "metadata": {},
   "outputs": [
    {
     "data": {
      "text/plain": [
       "tensor([[-68.5691, -53.3248, -33.7109,  28.4673, -47.1521,  49.8403,  20.7787,\n",
       "          18.6870, -19.6562,  14.9037]], device='cuda:0',\n",
       "       grad_fn=<SliceBackward0>)"
      ]
     },
     "execution_count": 16,
     "metadata": {},
     "output_type": "execute_result"
    }
   ],
   "source": [
    "out[:,-1,:]"
   ]
  },
  {
   "cell_type": "code",
   "execution_count": null,
   "metadata": {},
   "outputs": [
    {
     "data": {
      "application/vnd.plotly.v1+json": {
       "config": {
        "plotlyServerURL": "https://plot.ly"
       },
       "data": [
        {
         "hovertemplate": "variable=0<br>index=%{x}<br>value=%{y}<extra></extra>",
         "legendgroup": "0",
         "line": {
          "color": "#636efa",
          "dash": "solid"
         },
         "marker": {
          "symbol": "circle"
         },
         "mode": "lines",
         "name": "0",
         "orientation": "v",
         "showlegend": true,
         "type": "scatter",
         "x": [
          0,
          1,
          2,
          3,
          4,
          5,
          6,
          7,
          8,
          9,
          10,
          11,
          12,
          13,
          14,
          15,
          16,
          17,
          18,
          19,
          20,
          21,
          22,
          23,
          24,
          25,
          26,
          27,
          28,
          29,
          30,
          31,
          32,
          33,
          34,
          35,
          36,
          37,
          38,
          39,
          40,
          41,
          42,
          43,
          44,
          45,
          46,
          47,
          48,
          49,
          50,
          51,
          52,
          53,
          54,
          55,
          56,
          57,
          58,
          59,
          60,
          61,
          62,
          63,
          64,
          65,
          66,
          67,
          68,
          69,
          70,
          71,
          72,
          73,
          74,
          75,
          76,
          77,
          78,
          79,
          80,
          81,
          82,
          83,
          84,
          85,
          86,
          87,
          88,
          89,
          90,
          91,
          92,
          93,
          94,
          95,
          96,
          97,
          98,
          99,
          100,
          101,
          102,
          103,
          104,
          105,
          106,
          107,
          108,
          109,
          110,
          111,
          112,
          113,
          114,
          115,
          116,
          117,
          118,
          119,
          120,
          121,
          122,
          123,
          124,
          125,
          126,
          127,
          128,
          129,
          130,
          131,
          132,
          133,
          134,
          135,
          136,
          137,
          138,
          139,
          140,
          141,
          142,
          143,
          144,
          145,
          146,
          147,
          148,
          149,
          150,
          151,
          152,
          153,
          154,
          155,
          156,
          157,
          158,
          159,
          160,
          161,
          162,
          163,
          164,
          165,
          166,
          167,
          168,
          169,
          170,
          171,
          172,
          173,
          174,
          175,
          176,
          177,
          178,
          179,
          180,
          181,
          182,
          183,
          184,
          185,
          186,
          187,
          188,
          189,
          190,
          191,
          192,
          193,
          194,
          195,
          196,
          197,
          198,
          199,
          200,
          201,
          202,
          203,
          204,
          205,
          206,
          207,
          208,
          209,
          210,
          211,
          212,
          213,
          214,
          215,
          216,
          217,
          218,
          219,
          220,
          221,
          222,
          223,
          224,
          225,
          226,
          227,
          228,
          229,
          230,
          231,
          232,
          233,
          234,
          235,
          236,
          237,
          238,
          239,
          240,
          241,
          242,
          243,
          244,
          245,
          246,
          247,
          248,
          249,
          250,
          251,
          252,
          253,
          254,
          255,
          256,
          257,
          258,
          259,
          260,
          261,
          262,
          263,
          264,
          265,
          266,
          267,
          268,
          269,
          270,
          271,
          272,
          273,
          274,
          275,
          276,
          277,
          278,
          279,
          280,
          281,
          282,
          283,
          284,
          285,
          286,
          287,
          288,
          289,
          290,
          291,
          292,
          293,
          294,
          295,
          296,
          297,
          298,
          299,
          300,
          301,
          302,
          303,
          304,
          305,
          306,
          307,
          308,
          309,
          310,
          311,
          312,
          313,
          314,
          315,
          316,
          317,
          318,
          319,
          320,
          321,
          322,
          323,
          324,
          325,
          326,
          327,
          328,
          329,
          330,
          331,
          332,
          333,
          334,
          335,
          336,
          337,
          338,
          339,
          340,
          341,
          342,
          343,
          344,
          345,
          346,
          347,
          348,
          349,
          350,
          351,
          352,
          353,
          354,
          355,
          356,
          357,
          358,
          359,
          360,
          361,
          362,
          363,
          364,
          365,
          366,
          367,
          368,
          369,
          370,
          371,
          372,
          373,
          374,
          375,
          376,
          377,
          378,
          379,
          380,
          381,
          382,
          383,
          384,
          385,
          386,
          387,
          388,
          389,
          390,
          391,
          392,
          393,
          394,
          395,
          396,
          397,
          398,
          399,
          400,
          401,
          402,
          403,
          404,
          405,
          406,
          407,
          408,
          409,
          410,
          411,
          412,
          413,
          414,
          415,
          416,
          417,
          418,
          419,
          420,
          421,
          422,
          423,
          424,
          425,
          426,
          427,
          428,
          429,
          430,
          431,
          432,
          433,
          434,
          435,
          436,
          437,
          438,
          439,
          440,
          441,
          442,
          443,
          444,
          445,
          446,
          447,
          448,
          449,
          450,
          451,
          452,
          453,
          454,
          455,
          456,
          457,
          458,
          459,
          460,
          461,
          462,
          463,
          464,
          465,
          466,
          467,
          468,
          469,
          470,
          471,
          472,
          473,
          474,
          475,
          476,
          477,
          478,
          479,
          480,
          481,
          482,
          483,
          484,
          485,
          486,
          487,
          488,
          489,
          490,
          491,
          492,
          493,
          494,
          495,
          496,
          497,
          498,
          499,
          500,
          501,
          502,
          503,
          504,
          505,
          506,
          507,
          508,
          509,
          510,
          511,
          512,
          513,
          514,
          515,
          516,
          517,
          518,
          519,
          520,
          521,
          522,
          523,
          524,
          525,
          526,
          527,
          528,
          529,
          530,
          531,
          532,
          533,
          534,
          535,
          536,
          537,
          538,
          539,
          540,
          541,
          542,
          543,
          544,
          545,
          546,
          547,
          548,
          549,
          550,
          551,
          552,
          553,
          554,
          555,
          556,
          557,
          558,
          559,
          560,
          561,
          562,
          563,
          564,
          565,
          566,
          567,
          568,
          569,
          570,
          571,
          572,
          573,
          574,
          575,
          576,
          577,
          578,
          579,
          580,
          581,
          582,
          583,
          584,
          585,
          586,
          587,
          588,
          589,
          590,
          591,
          592,
          593,
          594,
          595,
          596,
          597,
          598,
          599,
          600,
          601,
          602,
          603,
          604,
          605,
          606,
          607,
          608,
          609,
          610,
          611,
          612,
          613,
          614,
          615,
          616,
          617,
          618,
          619,
          620,
          621,
          622,
          623,
          624,
          625,
          626,
          627,
          628,
          629,
          630,
          631,
          632,
          633,
          634,
          635,
          636,
          637,
          638,
          639,
          640,
          641,
          642,
          643,
          644,
          645,
          646,
          647,
          648,
          649,
          650,
          651,
          652,
          653,
          654,
          655,
          656,
          657,
          658,
          659,
          660,
          661,
          662,
          663,
          664,
          665,
          666,
          667,
          668,
          669,
          670,
          671,
          672,
          673,
          674,
          675,
          676,
          677,
          678,
          679,
          680,
          681,
          682,
          683,
          684,
          685,
          686,
          687,
          688,
          689,
          690,
          691,
          692,
          693,
          694,
          695,
          696,
          697,
          698,
          699,
          700,
          701,
          702,
          703,
          704,
          705,
          706,
          707,
          708,
          709,
          710,
          711,
          712,
          713,
          714,
          715,
          716,
          717,
          718,
          719,
          720,
          721,
          722,
          723,
          724,
          725,
          726,
          727,
          728,
          729,
          730,
          731,
          732,
          733,
          734,
          735,
          736,
          737,
          738,
          739,
          740,
          741,
          742,
          743,
          744,
          745,
          746,
          747,
          748,
          749,
          750,
          751,
          752,
          753,
          754,
          755,
          756,
          757,
          758,
          759,
          760,
          761,
          762,
          763,
          764,
          765,
          766,
          767,
          768,
          769,
          770,
          771,
          772,
          773,
          774,
          775,
          776,
          777,
          778,
          779,
          780,
          781,
          782,
          783,
          784,
          785,
          786,
          787,
          788,
          789,
          790,
          791,
          792,
          793,
          794,
          795,
          796,
          797,
          798,
          799,
          800,
          801,
          802,
          803,
          804,
          805,
          806,
          807,
          808,
          809,
          810,
          811,
          812,
          813,
          814,
          815,
          816,
          817,
          818,
          819,
          820,
          821,
          822,
          823,
          824,
          825,
          826,
          827,
          828,
          829,
          830,
          831,
          832,
          833,
          834,
          835,
          836,
          837,
          838,
          839,
          840,
          841,
          842,
          843,
          844,
          845,
          846,
          847,
          848,
          849,
          850,
          851,
          852,
          853,
          854,
          855,
          856,
          857,
          858,
          859,
          860,
          861,
          862,
          863,
          864,
          865,
          866,
          867,
          868,
          869,
          870,
          871,
          872,
          873,
          874,
          875,
          876,
          877,
          878,
          879,
          880,
          881,
          882,
          883,
          884,
          885,
          886,
          887,
          888,
          889,
          890,
          891,
          892,
          893,
          894,
          895,
          896,
          897,
          898,
          899
         ],
         "xaxis": "x",
         "y": [
          2.2703514099121094,
          2.2395405769348145,
          2.2085189819335938,
          2.1764636039733887,
          2.142791748046875,
          2.10731840133667,
          2.0705783367156982,
          2.0336356163024902,
          1.9981554746627808,
          1.965922474861145,
          1.937679648399353,
          1.9128265380859375,
          1.8900750875473022,
          1.8686412572860718,
          1.8483537435531616,
          1.8294475078582764,
          1.812081217765808,
          1.7959147691726685,
          1.7800649404525757,
          1.7634681463241577,
          1.7454668283462524,
          1.7260545492172241,
          1.7056715488433838,
          1.6847436428070068,
          1.6626578569412231,
          1.63853919506073,
          1.61211359500885,
          1.583520531654358,
          1.5527479648590088,
          1.519374966621399,
          1.4836188554763794,
          1.4458200931549072,
          1.406359076499939,
          1.364904522895813,
          1.3204925060272217,
          1.2731270790100098,
          1.22353994846344,
          1.1708508729934692,
          1.1150083541870117,
          1.0571264028549194,
          0.9966414570808411,
          0.9336987137794495,
          0.8701422810554504,
          0.8066260814666748,
          0.7441383600234985,
          0.6831145286560059,
          0.6247608065605164,
          0.5698306560516357,
          0.5179246664047241,
          0.46841806173324585,
          0.4207397699356079,
          0.3750752806663513,
          0.33206844329833984,
          0.291416198015213,
          0.25355300307273865,
          0.21901148557662964,
          0.18773473799228668,
          0.15960176289081573,
          0.13492557406425476,
          0.11380327492952347,
          0.09573955833911896,
          0.08052349090576172,
          0.06809712946414948,
          0.05818776786327362,
          0.04973116144537926,
          0.04219410941004753,
          0.035934869199991226,
          0.031008217483758926,
          0.027041928842663765,
          0.023780616000294685,
          0.02103719301521778,
          0.01870683953166008,
          0.016702858731150627,
          0.014957020059227943,
          0.01343599148094654,
          0.012132631614804268,
          0.011043697595596313,
          0.010113473050296307,
          0.00927244033664465,
          0.008504824712872505,
          0.007827955298125744,
          0.007231445051729679,
          0.00669760862365365,
          0.006213771644979715,
          0.005779371131211519,
          0.0053921290673315525,
          0.00504921842366457,
          0.004745654296129942,
          0.004474232438951731,
          0.004229612648487091,
          0.004006821196526289,
          0.003802781691774726,
          0.0036154550034552813,
          0.003442961722612381,
          0.0032842967193573713,
          0.0031389787327498198,
          0.003006163751706481,
          0.0028854282572865486,
          0.002775507280603051,
          0.0026750783436000347,
          0.0025827172212302685,
          0.002497381065040827,
          0.0024180614855140448,
          0.00234392611309886,
          0.0022742105647921562,
          0.0022089567501097918,
          0.0021481411531567574,
          0.002091736299917102,
          0.002039363607764244,
          0.0019905806984752417,
          0.0019450061954557896,
          0.0019021208863705397,
          0.00186159648001194,
          0.0018231758149340749,
          0.0017866413109004498,
          0.0017519420944154263,
          0.0017189469654113054,
          0.001687486656010151,
          0.001657444634474814,
          0.0016287794569507241,
          0.0016013813437893987,
          0.0015751435421407223,
          0.001549951615743339,
          0.0015257014892995358,
          0.0015023474115878344,
          0.0014798303600400686,
          0.001458054524846375,
          0.0014369753189384937,
          0.001416612882167101,
          0.0013969428837299347,
          0.0013779043219983578,
          0.0013594356132671237,
          0.0013415053253993392,
          0.0013240998378023505,
          0.0013071896973997355,
          0.001290717045776546,
          0.0012746559223160148,
          0.001258987351320684,
          0.0012436764081940055,
          0.0012287106364965439,
          0.0012140895705670118,
          0.0011997767724096775,
          0.0011858086800202727,
          0.0011721622431650758,
          0.0011588024208322167,
          0.0011457238579168916,
          0.0011329231783747673,
          0.0011203923495486379,
          0.001108107273466885,
          0.0010960428044199944,
          0.0010841808980330825,
          0.0010725517058745027,
          0.0010611464967951179,
          0.0010499432682991028,
          0.0010389399249106646,
          0.0010281448485329747,
          0.0010175458155572414,
          0.0010071264114230871,
          0.0009968697559088469,
          0.000986766186542809,
          0.000976838287897408,
          0.0009670790750533342,
          0.0009574713767506182,
          0.0009480128646828234,
          0.0009387098252773285,
          0.0009295524214394391,
          0.0009205344831570983,
          0.000911643379367888,
          0.0009028696804307401,
          0.0008942388813011348,
          0.0008857441716827452,
          0.0008773694862611592,
          0.0008691144757904112,
          0.000860988802742213,
          0.0008529868791811168,
          0.000845093687530607,
          0.000837305560708046,
          0.0008296119049191475,
          0.000822033325675875,
          0.0008145676692947745,
          0.00080720434198156,
          0.0007999375811778009,
          0.0007927807746455073,
          0.000785722688306123,
          0.000778756570070982,
          0.0007718782871961594,
          0.0007650773040950298,
          0.000758373353164643,
          0.0007517627673223615,
          0.0007452411227859557,
          0.0007388003286905587,
          0.0007324504549615085,
          0.000726187601685524,
          0.0007200014661066234,
          0.0007138896617107093,
          0.0007078427588567138,
          0.0007018781616352499,
          0.0006959927850402892,
          0.0006901820888742805,
          0.0006844415329396725,
          0.0006787788588553667,
          0.0006731878966093063,
          0.0006676629418507218,
          0.0006621999200433493,
          0.0006567931268364191,
          0.0006514590932056308,
          0.0006461917073465884,
          0.0006409883499145508,
          0.0006358455284498632,
          0.000630769704002887,
          0.0006257587228901684,
          0.000620804843492806,
          0.000615903118159622,
          0.0006110514514148235,
          0.0006062620086595416,
          0.0006015316466800869,
          0.0005968562327325344,
          0.0005922324489802122,
          0.0005876714130863547,
          0.0005831631715409458,
          0.0005787057452835143,
          0.0005742929060943425,
          0.000569922907743603,
          0.0005656053544953465,
          0.0005613414687104523,
          0.000557125371415168,
          0.0005529549089260399,
          0.000548834097571671,
          0.0005447638686746359,
          0.0005407357239164412,
          0.0005367479170672596,
          0.0005327966646291316,
          0.0005288926186040044,
          0.0005250347894616425,
          0.0005212196265347302,
          0.0005174422403797507,
          0.0005137121770530939,
          0.0005100247217342257,
          0.0005063759163022041,
          0.0005027607548981905,
          0.0004991774912923574,
          0.0004956367774866521,
          0.0004921347717754543,
          0.0004886719980277121,
          0.0004852437705267221,
          0.00048185570631176233,
          0.0004785051860380918,
          0.0004751876404043287,
          0.00047190109035000205,
          0.000468641024781391,
          0.00046541940537281334,
          0.00046223122626543045,
          0.0004590777098201215,
          0.0004559553926810622,
          0.00045286849490366876,
          0.0004498138732742518,
          0.0004467903927434236,
          0.0004437931929714978,
          0.0004408188397064805,
          0.000437877926742658,
          0.0004349696100689471,
          0.00043208911665715277,
          0.00042923673754557967,
          0.0004264171584509313,
          0.00042362604290246964,
          0.0004208609461784363,
          0.00041811863775365055,
          0.0004153990594204515,
          0.0004127078573219478,
          0.000410045322496444,
          0.00040740828262642026,
          0.0004047964175697416,
          0.00040221205563284457,
          0.00039965510950423777,
          0.0003971206024289131,
          0.0003946075157728046,
          0.0003921138704754412,
          0.000389645661925897,
          0.0003872033266816288,
          0.00038478177157230675,
          0.00038238507113419473,
          0.00038001281791366637,
          0.0003776629746425897,
          0.0003753348719328642,
          0.00037302623968571424,
          0.0003707318683154881,
          0.0003684640978462994,
          0.0003662157978396863,
          0.00036398976226337254,
          0.00036178308073431253,
          0.0003595988964661956,
          0.00035743621992878616,
          0.0003552911221049726,
          0.0003531624097377062,
          0.0003510491515044123,
          0.00034895632416009903,
          0.00034688482992351055,
          0.00034483091440051794,
          0.00034279562532901764,
          0.000340779748512432,
          0.0003387836623005569,
          0.0003368027973920107,
          0.00033483767765574157,
          0.0003328874008730054,
          0.0003309535386506468,
          0.0003290392633061856,
          0.0003271415189374238,
          0.0003252580645494163,
          0.00032339521567337215,
          0.00032155014923773706,
          0.0003197167534381151,
          0.0003178993647452444,
          0.00031609315192326903,
          0.00031430349918082356,
          0.0003125302609987557,
          0.0003107719530817121,
          0.00030902816797606647,
          0.0003073005354963243,
          0.0003055886772926897,
          0.0003038910508621484,
          0.000302202592138201,
          0.0003005281905643642,
          0.000298868166282773,
          0.0002972227812279016,
          0.0002955911331810057,
          0.00029397165053524077,
          0.0002923674474004656,
          0.00029077869839966297,
          0.0002892013581003994,
          0.00028763432055711746,
          0.0002860776148736477,
          0.00028453487902879715,
          0.0002830049197655171,
          0.0002814882027450949,
          0.00027998225414194167,
          0.0002784915850497782,
          0.0002770129940472543,
          0.0002755463938228786,
          0.00027408829191699624,
          0.00027263900847174227,
          0.0002712029963731766,
          0.00026977804373018444,
          0.00026836697361432016,
          0.000266965595073998,
          0.00026557472301647067,
          0.00026419784990139306,
          0.00026282991166226566,
          0.00026147073367610574,
          0.000260121509199962,
          0.0002587822964414954,
          0.0002574539103079587,
          0.00025613655452616513,
          0.00025482839555479586,
          0.0002535332168918103,
          0.0002522474096622318,
          0.0002509711775928736,
          0.0002497025125194341,
          0.00024844237486831844,
          0.00024719134671613574,
          0.00024595099966973066,
          0.00024472008226439357,
          0.00024349801242351532,
          0.00024228819529525936,
          0.00024108534853439778,
          0.00023989318287931383,
          0.00023870653240010142,
          0.00023752832203172147,
          0.00023635885736439377,
          0.00023519707610830665,
          0.00023404670355375856,
          0.00023290314129553735,
          0.00023176969261839986,
          0.0002306456008227542,
          0.00022952807194087654,
          0.0002284167130710557,
          0.00022731312492396683,
          0.00022621717653237283,
          0.0002251297264592722,
          0.0002240507019450888,
          0.000222981019760482,
          0.00022191782773006707,
          0.00022086358512751758,
          0.00021981667669024318,
          0.000218775006942451,
          0.00021774003107566386,
          0.00021671106514986604,
          0.00021569266391452402,
          0.00021468033082783222,
          0.00021367458975873888,
          0.0002126771432813257,
          0.0002116867690347135,
          0.0002107047475874424,
          0.00020972710626665503,
          0.00020875393238384277,
          0.00020778887846972793,
          0.0002068315225187689,
          0.00020588030747603625,
          0.00020493488409556448,
          0.00020399958884809166,
          0.00020306839724071324,
          0.00020214510732330382,
          0.00020122523710597306,
          0.00020031226449646056,
          0.0001994050689972937,
          0.00019850354874506593,
          0.00019761022122111171,
          0.00019672133203130215,
          0.00019584133406169713,
          0.00019496624008752406,
          0.00019409632659517229,
          0.00019323098240420222,
          0.00019237142987549305,
          0.00019151595188304782,
          0.00019066780805587769,
          0.0001898268674267456,
          0.00018898963753599674,
          0.00018816010560840368,
          0.00018733479373622686,
          0.0001865155209088698,
          0.00018570059910416603,
          0.00018488845671527088,
          0.0001840836921473965,
          0.0001832839334383607,
          0.0001824907521950081,
          0.00018170078692492098,
          0.0001809180248528719,
          0.00018014013767242432,
          0.00017936722724698484,
          0.00017859786748886108,
          0.00017783221846912056,
          0.00017707253573462367,
          0.000176317582372576,
          0.0001755676930770278,
          0.00017482374096289277,
          0.0001740831066854298,
          0.0001733500830596313,
          0.0001726202026475221,
          0.00017189189384225756,
          0.0001711696822894737,
          0.00017045212734956294,
          0.00016973901074379683,
          0.0001690309145487845,
          0.00016832680557854474,
          0.0001676274259807542,
          0.00016693337238393724,
          0.0001662420982029289,
          0.00016555600450374186,
          0.00016487273387610912,
          0.00016419304301962256,
          0.00016351933300029486,
          0.00016285052697639912,
          0.00016218343807850033,
          0.00016152230091392994,
          0.0001608665188541636,
          0.0001602129195816815,
          0.00015956370043568313,
          0.00015891641669441015,
          0.0001582736149430275,
          0.00015763497503940016,
          0.00015700106450822204,
          0.00015636993339285254,
          0.00015574412827845663,
          0.00015512316895183176,
          0.00015450383943971246,
          0.0001538883661851287,
          0.00015327564324252307,
          0.0001526666892459616,
          0.0001520612568128854,
          0.0001514599280199036,
          0.0001508630666648969,
          0.0001502690720371902,
          0.00014967971947044134,
          0.00014909377205185592,
          0.00014851041487418115,
          0.0001479279453633353,
          0.00014735069999005646,
          0.00014677834406029433,
          0.00014620661386288702,
          0.0001456402096664533,
          0.00014507726882584393,
          0.00014451798051595688,
          0.0001439620100427419,
          0.0001434069126844406,
          0.0001428549294359982,
          0.00014230776287149638,
          0.00014176327385939658,
          0.00014122112770564854,
          0.00014068307064007968,
          0.00014014898624736816,
          0.00013961701188236475,
          0.0001390880352118984,
          0.00013856159057468176,
          0.00013803664478473365,
          0.00013751622464042157,
          0.00013699947157874703,
          0.0001364853815175593,
          0.00013597344513982534,
          0.00013546491391025484,
          0.00013495991879608482,
          0.00013445767399389297,
          0.00013395535643212497,
          0.00013345840852707624,
          0.00013296173710841686,
          0.0001324689801549539,
          0.0001319803559454158,
          0.00013149381265975535,
          0.00013101020886097103,
          0.00013052980648353696,
          0.0001300506992265582,
          0.00012957466242369264,
          0.00012910037185065448,
          0.0001286291517317295,
          0.00012816049274988472,
          0.00012769544264301658,
          0.00012723154213745147,
          0.0001267706393264234,
          0.00012631391291506588,
          0.00012585839431267232,
          0.00012540401075966656,
          0.00012495268310885876,
          0.00012450305803213269,
          0.00012405644520185888,
          0.00012361217522993684,
          0.00012317078653723001,
          0.0001227331958943978,
          0.000122297162306495,
          0.00012186289677629247,
          0.00012143031199229881,
          0.00012100039020879194,
          0.00012057104322593659,
          0.00012014565436402336,
          0.00011972244101343676,
          0.00011930118489544839,
          0.00011888358858413994,
          0.00011846734560094774,
          0.00011805156827904284,
          0.00011763966176658869,
          0.00011722950875991955,
          0.00011682001786539331,
          0.00011641505261650309,
          0.00011601150617934763,
          0.0001156078651547432,
          0.00011520938278408721,
          0.00011481294495752081,
          0.00011441731476224959,
          0.00011402335803722963,
          0.00011363098019501194,
          0.00011324074876029044,
          0.00011285315849818289,
          0.00011246812937315553,
          0.00011208317300770432,
          0.00011170162906637415,
          0.0001113230682676658,
          0.00011094583169324324,
          0.00011056895891670138,
          0.0001101940797525458,
          0.00010982179082930088,
          0.00010945076792268082,
          0.00010908194235526025,
          0.00010871562699321657,
          0.00010835030116140842,
          0.00010798784933285788,
          0.00010762727470137179,
          0.00010726747859735042,
          0.00010690993804018945,
          0.0001065531323547475,
          0.00010619939712341875,
          0.00010584726260276511,
          0.00010549685976002365,
          0.000105148101283703,
          0.00010480011405888945,
          0.00010445644147694111,
          0.00010411145922262222,
          0.00010376901627751067,
          0.00010342831956222653,
          0.00010308927448932081,
          0.0001027525941026397,
          0.00010241592826787382,
          0.00010208332241745666,
          0.00010175068018725142,
          0.00010142206883756444,
          0.0001010914784274064,
          0.0001007636237773113,
          0.00010043707879958674,
          0.00010011216363636777,
          0.00009978978778235614,
          0.0000994682777673006,
          0.00009914778638631105,
          0.00009882986341835931,
          0.00009851455979514867,
          0.00009819842671277002,
          0.00009788454917725176,
          0.00009757113002706319,
          0.00009726065763970837,
          0.00009695099288364872,
          0.0000966433944995515,
          0.00009633646550355479,
          0.00009603229409549385,
          0.0000957283700699918,
          0.00009542668703943491,
          0.00009512484393781051,
          0.00009482490713708103,
          0.00009452673111809418,
          0.00009423040319234133,
          0.00009393509390065446,
          0.00009364181460114196,
          0.00009334916830994189,
          0.00009305899584433064,
          0.0000927686269278638,
          0.00009247891284758225,
          0.00009219249477609992,
          0.00009190665878122672,
          0.00009162179776467383,
          0.00009133891580859199,
          0.00009105657954933122,
          0.00009077702998183668,
          0.00009049779328051955,
          0.00009021856385516003,
          0.00008994252129923552,
          0.00008966594032244757,
          0.00008939144754549488,
          0.00008911819895729423,
          0.00008884574344847351,
          0.00008857509237714112,
          0.00008830673323245719,
          0.00008803904347587377,
          0.00008777180482866243,
          0.00008750568667892367,
          0.00008724067447474226,
          0.00008697700104676187,
          0.0000867146736709401,
          0.00008645302295917645,
          0.000086194348114077,
          0.00008593669190304354,
          0.00008567737677367404,
          0.00008542118303012103,
          0.00008516534580849111,
          0.00008491146581945941,
          0.00008465755672659725,
          0.00008440639066975564,
          0.00008415467164013535,
          0.0000839052299852483,
          0.0000836564286146313,
          0.00008340929343830794,
          0.00008316228922922164,
          0.00008291725680464879,
          0.0000826726682134904,
          0.00008242733747465536,
          0.00008218600851250812,
          0.00008194510155590251,
          0.00008170521323336288,
          0.0000814660670584999,
          0.0000812283469713293,
          0.00008099075785139576,
          0.00008075494406512007,
          0.00008051852637436241,
          0.00008028510637814179,
          0.00008005173003766686,
          0.00007981985254446045,
          0.00007958876813063398,
          0.00007935972098493949,
          0.0000791306301834993,
          0.0000789026526035741,
          0.00007867461681598797,
          0.00007844873471185565,
          0.00007822277984814718,
          0.00007799967715982348,
          0.0000777757159085013,
          0.00007755433034617454,
          0.00007733221718808636,
          0.00007711263606324792,
          0.00007689172343816608,
          0.00007667347381357104,
          0.00007645547884749249,
          0.00007623796409461647,
          0.00007602317782584578,
          0.00007580833334941417,
          0.00007559406367363408,
          0.00007538139470852911,
          0.0000751689076423645,
          0.00007495813770219684,
          0.0000747469239286147,
          0.00007453673606505617,
          0.00007432940765284002,
          0.00007412122067762539,
          0.00007391339750029147,
          0.00007370692765107378,
          0.00007350283703999594,
          0.00007329812069656327,
          0.00007309435022762045,
          0.00007289140921784565,
          0.00007268793706316501,
          0.00007248748443089426,
          0.00007228793401736766,
          0.00007208852184703574,
          0.00007188934250734746,
          0.00007169215678004548,
          0.00007149457087507471,
          0.00007129891309887171,
          0.00007110235310392454,
          0.00007090784492902458,
          0.00007071351137710735,
          0.00007052087312331423,
          0.00007032808935036883,
          0.00007013633876340464,
          0.00006994667637627572,
          0.00006975589349167421,
          0.00006956636207178235,
          0.0000693779657012783,
          0.0000691903114784509,
          0.00006900267180753872,
          0.00006881551234982908,
          0.00006863150338176638,
          0.00006844630115665495,
          0.00006826176831964403,
          0.00006807931640651077,
          0.00006789638428017497,
          0.00006771401240257546,
          0.00006753300840500742,
          0.00006735307397320867,
          0.0000671722082188353,
          0.00006699362711515278,
          0.00006681502418359742,
          0.00006663887324975803,
          0.00006646040128543973,
          0.00006628474511671811,
          0.00006611046410398558,
          0.00006593309808522463,
          0.00006575923907803372,
          0.00006558666791534051,
          0.00006541279435623437,
          0.00006524119817186147,
          0.00006506993668153882,
          0.00006490003579529002,
          0.00006472897075582296,
          0.00006455900438595563,
          0.00006438972195610404,
          0.00006422298611141741,
          0.0000640547732473351,
          0.00006388621841324493,
          0.00006372118514264002,
          0.00006355615187203512,
          0.00006338992534438148,
          0.00006322610715869814,
          0.00006306219438556582,
          0.00006289935845416039,
          0.00006273452891036868,
          0.00006257386121433228,
          0.00006241184019017965,
          0.00006225262768566608,
          0.00006209143612068146,
          0.00006193338049342856,
          0.0000617737096035853,
          0.000061615755839739,
          0.00006145717634353787,
          0.0000613012962276116,
          0.00006114276038715616,
          0.0000609880116826389,
          0.000060832542658317834,
          0.00006067817594157532,
          0.00006052486423868686,
          0.00006037066486896947,
          0.00006021603985573165,
          0.000060064725403208286,
          0.00005991220677969977,
          0.00005976149986963719,
          0.00005961009082966484,
          0.00005946042438154109,
          0.000059311481891199946,
          0.00005916235750191845,
          0.00005901376425754279,
          0.000058864236052613705,
          0.00005871767643839121,
          0.00005857040741830133,
          0.00005842433893121779,
          0.00005827758286613971,
          0.00005813304233015515,
          0.00005798911661258899,
          0.00005784438326372765,
          0.000057700050092535093,
          0.000057557681429898366,
          0.000057415007177041844,
          0.00005727259485865943,
          0.00005713083010050468,
          0.00005698936729459092,
          0.00005685014548362233,
          0.00005670926839229651,
          0.0000565696791454684,
          0.00005643088661599904,
          0.00005629241422866471,
          0.0000561540546186734,
          0.000056016349844867364,
          0.00005587952182395384,
          0.000055742275435477495,
          0.0000556067461729981,
          0.000055471416999353096,
          0.00005533589865081012,
          0.00005520130071090534,
          0.00005506748129846528,
          0.00005493345815921202,
          0.00005480086474562995,
          0.00005466671791509725,
          0.000054535645176656544,
          0.00005440476525109261,
          0.00005427300129667856,
          0.0000541422632522881,
          0.00005401071030064486,
          0.000053881762141827494,
          0.000053751191444462165,
          0.000053623287385562435,
          0.00005349344064597972,
          0.00005336624235496856,
          0.000053238611144479364,
          0.000053111041779629886,
          0.00005298515679896809,
          0.00005285854422254488,
          0.000052732459153048694,
          0.00005260774923954159,
          0.00005248177330940962,
          0.000052356688684085384,
          0.00005223318294156343,
          0.000052109982789261267,
          0.000051985945901833475,
          0.000051864171837223694,
          0.00005174168472876772,
          0.00005161904118722305,
          0.00005149667413206771,
          0.000051376267947489396,
          0.000051255196012789384,
          0.000051135706598870456,
          0.00005101603164803237,
          0.000050896447646664456,
          0.000050776889111148193,
          0.00005065797449788079,
          0.000050540165830170736,
          0.00005042129851062782,
          0.00005030533793615177,
          0.00005018713272875175,
          0.00005006990613765083,
          0.00004995435301680118,
          0.00004983928010915406,
          0.000049723614210961387,
          0.000049607919208938256,
          0.00004949361755279824,
          0.000049379017582396045,
          0.00004926435212837532,
          0.00004915124372928403,
          0.00004903860462945886,
          0.000048925492592388764,
          0.00004881285349256359,
          0.000048700003389967605,
          0.00004859014370595105,
          0.0000484778756799642,
          0.000048365298425778747,
          0.00004825624273507856,
          0.00004814544445252977,
          0.00004803640331374481,
          0.00004792683830601163,
          0.00004781710231327452,
          0.00004770937084686011,
          0.00004760175943374634,
          0.00004749251820612699,
          0.00004738548523164354,
          0.000047277691919589415,
          0.00004717012416222133,
          0.00004706411709776148,
          0.00004695865209214389,
          0.000046852510422468185,
          0.00004674650699598715,
          0.00004664259176934138,
          0.00004653623545891605,
          0.00004643200009013526,
          0.00004632792479242198,
          0.00004622337291948497,
          0.00004612081102095544,
          0.00004601804539561272,
          0.00004591475226334296,
          0.000045811910240445286,
          0.000045709151891060174,
          0.00004560881279758178,
          0.000045507018512580544,
          0.00004540707959677093,
          0.000045304757804842666,
          0.00004520450602285564,
          0.00004510373037192039,
          0.00004500426075537689,
          0.00004490549326874316,
          0.00004480564166442491,
          0.00004470654312171973,
          0.000044608521420741454,
          0.00004451032873475924,
          0.00004441173223312944,
          0.00004431409979588352,
          0.00004421750418259762,
          0.00004411974805407226,
          0.000044024262024322525,
          0.00004392766277305782,
          0.0000438314164057374,
          0.000043735602957895026,
          0.00004364071719464846
         ],
         "yaxis": "y"
        }
       ],
       "layout": {
        "legend": {
         "title": {
          "text": "variable"
         },
         "tracegroupgap": 0
        },
        "margin": {
         "t": 60
        },
        "template": {
         "data": {
          "bar": [
           {
            "error_x": {
             "color": "#2a3f5f"
            },
            "error_y": {
             "color": "#2a3f5f"
            },
            "marker": {
             "line": {
              "color": "#E5ECF6",
              "width": 0.5
             },
             "pattern": {
              "fillmode": "overlay",
              "size": 10,
              "solidity": 0.2
             }
            },
            "type": "bar"
           }
          ],
          "barpolar": [
           {
            "marker": {
             "line": {
              "color": "#E5ECF6",
              "width": 0.5
             },
             "pattern": {
              "fillmode": "overlay",
              "size": 10,
              "solidity": 0.2
             }
            },
            "type": "barpolar"
           }
          ],
          "carpet": [
           {
            "aaxis": {
             "endlinecolor": "#2a3f5f",
             "gridcolor": "white",
             "linecolor": "white",
             "minorgridcolor": "white",
             "startlinecolor": "#2a3f5f"
            },
            "baxis": {
             "endlinecolor": "#2a3f5f",
             "gridcolor": "white",
             "linecolor": "white",
             "minorgridcolor": "white",
             "startlinecolor": "#2a3f5f"
            },
            "type": "carpet"
           }
          ],
          "choropleth": [
           {
            "colorbar": {
             "outlinewidth": 0,
             "ticks": ""
            },
            "type": "choropleth"
           }
          ],
          "contour": [
           {
            "colorbar": {
             "outlinewidth": 0,
             "ticks": ""
            },
            "colorscale": [
             [
              0,
              "#0d0887"
             ],
             [
              0.1111111111111111,
              "#46039f"
             ],
             [
              0.2222222222222222,
              "#7201a8"
             ],
             [
              0.3333333333333333,
              "#9c179e"
             ],
             [
              0.4444444444444444,
              "#bd3786"
             ],
             [
              0.5555555555555556,
              "#d8576b"
             ],
             [
              0.6666666666666666,
              "#ed7953"
             ],
             [
              0.7777777777777778,
              "#fb9f3a"
             ],
             [
              0.8888888888888888,
              "#fdca26"
             ],
             [
              1,
              "#f0f921"
             ]
            ],
            "type": "contour"
           }
          ],
          "contourcarpet": [
           {
            "colorbar": {
             "outlinewidth": 0,
             "ticks": ""
            },
            "type": "contourcarpet"
           }
          ],
          "heatmap": [
           {
            "colorbar": {
             "outlinewidth": 0,
             "ticks": ""
            },
            "colorscale": [
             [
              0,
              "#0d0887"
             ],
             [
              0.1111111111111111,
              "#46039f"
             ],
             [
              0.2222222222222222,
              "#7201a8"
             ],
             [
              0.3333333333333333,
              "#9c179e"
             ],
             [
              0.4444444444444444,
              "#bd3786"
             ],
             [
              0.5555555555555556,
              "#d8576b"
             ],
             [
              0.6666666666666666,
              "#ed7953"
             ],
             [
              0.7777777777777778,
              "#fb9f3a"
             ],
             [
              0.8888888888888888,
              "#fdca26"
             ],
             [
              1,
              "#f0f921"
             ]
            ],
            "type": "heatmap"
           }
          ],
          "heatmapgl": [
           {
            "colorbar": {
             "outlinewidth": 0,
             "ticks": ""
            },
            "colorscale": [
             [
              0,
              "#0d0887"
             ],
             [
              0.1111111111111111,
              "#46039f"
             ],
             [
              0.2222222222222222,
              "#7201a8"
             ],
             [
              0.3333333333333333,
              "#9c179e"
             ],
             [
              0.4444444444444444,
              "#bd3786"
             ],
             [
              0.5555555555555556,
              "#d8576b"
             ],
             [
              0.6666666666666666,
              "#ed7953"
             ],
             [
              0.7777777777777778,
              "#fb9f3a"
             ],
             [
              0.8888888888888888,
              "#fdca26"
             ],
             [
              1,
              "#f0f921"
             ]
            ],
            "type": "heatmapgl"
           }
          ],
          "histogram": [
           {
            "marker": {
             "pattern": {
              "fillmode": "overlay",
              "size": 10,
              "solidity": 0.2
             }
            },
            "type": "histogram"
           }
          ],
          "histogram2d": [
           {
            "colorbar": {
             "outlinewidth": 0,
             "ticks": ""
            },
            "colorscale": [
             [
              0,
              "#0d0887"
             ],
             [
              0.1111111111111111,
              "#46039f"
             ],
             [
              0.2222222222222222,
              "#7201a8"
             ],
             [
              0.3333333333333333,
              "#9c179e"
             ],
             [
              0.4444444444444444,
              "#bd3786"
             ],
             [
              0.5555555555555556,
              "#d8576b"
             ],
             [
              0.6666666666666666,
              "#ed7953"
             ],
             [
              0.7777777777777778,
              "#fb9f3a"
             ],
             [
              0.8888888888888888,
              "#fdca26"
             ],
             [
              1,
              "#f0f921"
             ]
            ],
            "type": "histogram2d"
           }
          ],
          "histogram2dcontour": [
           {
            "colorbar": {
             "outlinewidth": 0,
             "ticks": ""
            },
            "colorscale": [
             [
              0,
              "#0d0887"
             ],
             [
              0.1111111111111111,
              "#46039f"
             ],
             [
              0.2222222222222222,
              "#7201a8"
             ],
             [
              0.3333333333333333,
              "#9c179e"
             ],
             [
              0.4444444444444444,
              "#bd3786"
             ],
             [
              0.5555555555555556,
              "#d8576b"
             ],
             [
              0.6666666666666666,
              "#ed7953"
             ],
             [
              0.7777777777777778,
              "#fb9f3a"
             ],
             [
              0.8888888888888888,
              "#fdca26"
             ],
             [
              1,
              "#f0f921"
             ]
            ],
            "type": "histogram2dcontour"
           }
          ],
          "mesh3d": [
           {
            "colorbar": {
             "outlinewidth": 0,
             "ticks": ""
            },
            "type": "mesh3d"
           }
          ],
          "parcoords": [
           {
            "line": {
             "colorbar": {
              "outlinewidth": 0,
              "ticks": ""
             }
            },
            "type": "parcoords"
           }
          ],
          "pie": [
           {
            "automargin": true,
            "type": "pie"
           }
          ],
          "scatter": [
           {
            "fillpattern": {
             "fillmode": "overlay",
             "size": 10,
             "solidity": 0.2
            },
            "type": "scatter"
           }
          ],
          "scatter3d": [
           {
            "line": {
             "colorbar": {
              "outlinewidth": 0,
              "ticks": ""
             }
            },
            "marker": {
             "colorbar": {
              "outlinewidth": 0,
              "ticks": ""
             }
            },
            "type": "scatter3d"
           }
          ],
          "scattercarpet": [
           {
            "marker": {
             "colorbar": {
              "outlinewidth": 0,
              "ticks": ""
             }
            },
            "type": "scattercarpet"
           }
          ],
          "scattergeo": [
           {
            "marker": {
             "colorbar": {
              "outlinewidth": 0,
              "ticks": ""
             }
            },
            "type": "scattergeo"
           }
          ],
          "scattergl": [
           {
            "marker": {
             "colorbar": {
              "outlinewidth": 0,
              "ticks": ""
             }
            },
            "type": "scattergl"
           }
          ],
          "scattermapbox": [
           {
            "marker": {
             "colorbar": {
              "outlinewidth": 0,
              "ticks": ""
             }
            },
            "type": "scattermapbox"
           }
          ],
          "scatterpolar": [
           {
            "marker": {
             "colorbar": {
              "outlinewidth": 0,
              "ticks": ""
             }
            },
            "type": "scatterpolar"
           }
          ],
          "scatterpolargl": [
           {
            "marker": {
             "colorbar": {
              "outlinewidth": 0,
              "ticks": ""
             }
            },
            "type": "scatterpolargl"
           }
          ],
          "scatterternary": [
           {
            "marker": {
             "colorbar": {
              "outlinewidth": 0,
              "ticks": ""
             }
            },
            "type": "scatterternary"
           }
          ],
          "surface": [
           {
            "colorbar": {
             "outlinewidth": 0,
             "ticks": ""
            },
            "colorscale": [
             [
              0,
              "#0d0887"
             ],
             [
              0.1111111111111111,
              "#46039f"
             ],
             [
              0.2222222222222222,
              "#7201a8"
             ],
             [
              0.3333333333333333,
              "#9c179e"
             ],
             [
              0.4444444444444444,
              "#bd3786"
             ],
             [
              0.5555555555555556,
              "#d8576b"
             ],
             [
              0.6666666666666666,
              "#ed7953"
             ],
             [
              0.7777777777777778,
              "#fb9f3a"
             ],
             [
              0.8888888888888888,
              "#fdca26"
             ],
             [
              1,
              "#f0f921"
             ]
            ],
            "type": "surface"
           }
          ],
          "table": [
           {
            "cells": {
             "fill": {
              "color": "#EBF0F8"
             },
             "line": {
              "color": "white"
             }
            },
            "header": {
             "fill": {
              "color": "#C8D4E3"
             },
             "line": {
              "color": "white"
             }
            },
            "type": "table"
           }
          ]
         },
         "layout": {
          "annotationdefaults": {
           "arrowcolor": "#2a3f5f",
           "arrowhead": 0,
           "arrowwidth": 1
          },
          "autotypenumbers": "strict",
          "coloraxis": {
           "colorbar": {
            "outlinewidth": 0,
            "ticks": ""
           }
          },
          "colorscale": {
           "diverging": [
            [
             0,
             "#8e0152"
            ],
            [
             0.1,
             "#c51b7d"
            ],
            [
             0.2,
             "#de77ae"
            ],
            [
             0.3,
             "#f1b6da"
            ],
            [
             0.4,
             "#fde0ef"
            ],
            [
             0.5,
             "#f7f7f7"
            ],
            [
             0.6,
             "#e6f5d0"
            ],
            [
             0.7,
             "#b8e186"
            ],
            [
             0.8,
             "#7fbc41"
            ],
            [
             0.9,
             "#4d9221"
            ],
            [
             1,
             "#276419"
            ]
           ],
           "sequential": [
            [
             0,
             "#0d0887"
            ],
            [
             0.1111111111111111,
             "#46039f"
            ],
            [
             0.2222222222222222,
             "#7201a8"
            ],
            [
             0.3333333333333333,
             "#9c179e"
            ],
            [
             0.4444444444444444,
             "#bd3786"
            ],
            [
             0.5555555555555556,
             "#d8576b"
            ],
            [
             0.6666666666666666,
             "#ed7953"
            ],
            [
             0.7777777777777778,
             "#fb9f3a"
            ],
            [
             0.8888888888888888,
             "#fdca26"
            ],
            [
             1,
             "#f0f921"
            ]
           ],
           "sequentialminus": [
            [
             0,
             "#0d0887"
            ],
            [
             0.1111111111111111,
             "#46039f"
            ],
            [
             0.2222222222222222,
             "#7201a8"
            ],
            [
             0.3333333333333333,
             "#9c179e"
            ],
            [
             0.4444444444444444,
             "#bd3786"
            ],
            [
             0.5555555555555556,
             "#d8576b"
            ],
            [
             0.6666666666666666,
             "#ed7953"
            ],
            [
             0.7777777777777778,
             "#fb9f3a"
            ],
            [
             0.8888888888888888,
             "#fdca26"
            ],
            [
             1,
             "#f0f921"
            ]
           ]
          },
          "colorway": [
           "#636efa",
           "#EF553B",
           "#00cc96",
           "#ab63fa",
           "#FFA15A",
           "#19d3f3",
           "#FF6692",
           "#B6E880",
           "#FF97FF",
           "#FECB52"
          ],
          "font": {
           "color": "#2a3f5f"
          },
          "geo": {
           "bgcolor": "white",
           "lakecolor": "white",
           "landcolor": "#E5ECF6",
           "showlakes": true,
           "showland": true,
           "subunitcolor": "white"
          },
          "hoverlabel": {
           "align": "left"
          },
          "hovermode": "closest",
          "mapbox": {
           "style": "light"
          },
          "paper_bgcolor": "white",
          "plot_bgcolor": "#E5ECF6",
          "polar": {
           "angularaxis": {
            "gridcolor": "white",
            "linecolor": "white",
            "ticks": ""
           },
           "bgcolor": "#E5ECF6",
           "radialaxis": {
            "gridcolor": "white",
            "linecolor": "white",
            "ticks": ""
           }
          },
          "scene": {
           "xaxis": {
            "backgroundcolor": "#E5ECF6",
            "gridcolor": "white",
            "gridwidth": 2,
            "linecolor": "white",
            "showbackground": true,
            "ticks": "",
            "zerolinecolor": "white"
           },
           "yaxis": {
            "backgroundcolor": "#E5ECF6",
            "gridcolor": "white",
            "gridwidth": 2,
            "linecolor": "white",
            "showbackground": true,
            "ticks": "",
            "zerolinecolor": "white"
           },
           "zaxis": {
            "backgroundcolor": "#E5ECF6",
            "gridcolor": "white",
            "gridwidth": 2,
            "linecolor": "white",
            "showbackground": true,
            "ticks": "",
            "zerolinecolor": "white"
           }
          },
          "shapedefaults": {
           "line": {
            "color": "#2a3f5f"
           }
          },
          "ternary": {
           "aaxis": {
            "gridcolor": "white",
            "linecolor": "white",
            "ticks": ""
           },
           "baxis": {
            "gridcolor": "white",
            "linecolor": "white",
            "ticks": ""
           },
           "bgcolor": "#E5ECF6",
           "caxis": {
            "gridcolor": "white",
            "linecolor": "white",
            "ticks": ""
           }
          },
          "title": {
           "x": 0.05
          },
          "xaxis": {
           "automargin": true,
           "gridcolor": "white",
           "linecolor": "white",
           "ticks": "",
           "title": {
            "standoff": 15
           },
           "zerolinecolor": "white",
           "zerolinewidth": 2
          },
          "yaxis": {
           "automargin": true,
           "gridcolor": "white",
           "linecolor": "white",
           "ticks": "",
           "title": {
            "standoff": 15
           },
           "zerolinecolor": "white",
           "zerolinewidth": 2
          }
         }
        },
        "xaxis": {
         "anchor": "y",
         "domain": [
          0,
          1
         ],
         "title": {
          "text": ""
         }
        },
        "yaxis": {
         "anchor": "x",
         "domain": [
          0,
          1
         ],
         "title": {
          "text": ""
         },
         "type": "log"
        }
       }
      }
     },
     "metadata": {},
     "output_type": "display_data"
    }
   ],
   "source": [
    "line(test_losses, log_y=True)\n",
    "# plt.plot(train_losses)"
   ]
  },
  {
   "cell_type": "code",
   "execution_count": null,
   "metadata": {},
   "outputs": [
    {
     "data": {
      "application/vnd.plotly.v1+json": {
       "config": {
        "plotlyServerURL": "https://plot.ly"
       },
       "data": [
        {
         "hovertemplate": "variable=0<br>index=%{x}<br>value=%{y}<extra></extra>",
         "legendgroup": "0",
         "line": {
          "color": "#636efa",
          "dash": "solid"
         },
         "marker": {
          "symbol": "circle"
         },
         "mode": "lines",
         "name": "0",
         "orientation": "v",
         "showlegend": true,
         "type": "scatter",
         "x": [
          0,
          1,
          2,
          3,
          4,
          5,
          6,
          7,
          8,
          9,
          10,
          11,
          12,
          13,
          14,
          15,
          16,
          17,
          18,
          19,
          20,
          21,
          22,
          23,
          24,
          25,
          26,
          27,
          28,
          29,
          30,
          31,
          32,
          33,
          34,
          35,
          36,
          37,
          38,
          39,
          40,
          41,
          42,
          43,
          44,
          45,
          46,
          47,
          48,
          49,
          50,
          51,
          52,
          53,
          54,
          55,
          56,
          57,
          58,
          59,
          60,
          61,
          62,
          63,
          64,
          65,
          66,
          67,
          68,
          69,
          70,
          71,
          72,
          73,
          74,
          75,
          76,
          77,
          78,
          79,
          80,
          81,
          82,
          83,
          84,
          85,
          86,
          87,
          88,
          89,
          90,
          91,
          92,
          93,
          94,
          95,
          96,
          97,
          98,
          99,
          100,
          101,
          102,
          103,
          104,
          105,
          106,
          107,
          108,
          109,
          110,
          111,
          112,
          113,
          114,
          115,
          116,
          117,
          118,
          119,
          120,
          121,
          122,
          123,
          124,
          125,
          126,
          127,
          128,
          129,
          130,
          131,
          132,
          133,
          134,
          135,
          136,
          137,
          138,
          139,
          140,
          141,
          142,
          143,
          144,
          145,
          146,
          147,
          148,
          149,
          150,
          151,
          152,
          153,
          154,
          155,
          156,
          157,
          158,
          159,
          160,
          161,
          162,
          163,
          164,
          165,
          166,
          167,
          168,
          169,
          170,
          171,
          172,
          173,
          174,
          175,
          176,
          177,
          178,
          179,
          180,
          181,
          182,
          183,
          184,
          185,
          186,
          187,
          188,
          189,
          190,
          191,
          192,
          193,
          194,
          195,
          196,
          197,
          198,
          199,
          200,
          201,
          202,
          203,
          204,
          205,
          206,
          207,
          208,
          209,
          210,
          211,
          212,
          213,
          214,
          215,
          216,
          217,
          218,
          219,
          220,
          221,
          222,
          223,
          224,
          225,
          226,
          227,
          228,
          229,
          230,
          231,
          232,
          233,
          234,
          235,
          236,
          237,
          238,
          239,
          240,
          241,
          242,
          243,
          244,
          245,
          246,
          247,
          248,
          249,
          250,
          251,
          252,
          253,
          254,
          255,
          256,
          257,
          258,
          259,
          260,
          261,
          262,
          263,
          264,
          265,
          266,
          267,
          268,
          269,
          270,
          271,
          272,
          273,
          274,
          275,
          276,
          277,
          278,
          279,
          280,
          281,
          282,
          283,
          284,
          285,
          286,
          287,
          288,
          289,
          290,
          291,
          292,
          293,
          294,
          295,
          296,
          297,
          298,
          299,
          300,
          301,
          302,
          303,
          304,
          305,
          306,
          307,
          308,
          309,
          310,
          311,
          312,
          313,
          314,
          315,
          316,
          317,
          318,
          319,
          320,
          321,
          322,
          323,
          324,
          325,
          326,
          327,
          328,
          329,
          330,
          331,
          332,
          333,
          334,
          335,
          336,
          337,
          338,
          339,
          340,
          341,
          342,
          343,
          344,
          345,
          346,
          347,
          348,
          349,
          350,
          351,
          352,
          353,
          354,
          355,
          356,
          357,
          358,
          359,
          360,
          361,
          362,
          363,
          364,
          365,
          366,
          367,
          368,
          369,
          370,
          371,
          372,
          373,
          374,
          375,
          376,
          377,
          378,
          379,
          380,
          381,
          382,
          383,
          384,
          385,
          386,
          387,
          388,
          389,
          390,
          391,
          392,
          393,
          394,
          395,
          396,
          397,
          398,
          399,
          400,
          401,
          402,
          403,
          404,
          405,
          406,
          407,
          408,
          409,
          410,
          411,
          412,
          413,
          414,
          415,
          416,
          417,
          418,
          419,
          420,
          421,
          422,
          423,
          424,
          425,
          426,
          427,
          428,
          429,
          430,
          431,
          432,
          433,
          434,
          435,
          436,
          437,
          438,
          439,
          440,
          441,
          442,
          443,
          444,
          445,
          446,
          447,
          448,
          449,
          450,
          451,
          452,
          453,
          454,
          455,
          456,
          457,
          458,
          459,
          460,
          461,
          462,
          463,
          464,
          465,
          466,
          467,
          468,
          469,
          470,
          471,
          472,
          473,
          474,
          475,
          476,
          477,
          478,
          479,
          480,
          481,
          482,
          483,
          484,
          485,
          486,
          487,
          488,
          489,
          490,
          491,
          492,
          493,
          494,
          495,
          496,
          497,
          498,
          499,
          500,
          501,
          502,
          503,
          504,
          505,
          506,
          507,
          508,
          509,
          510,
          511,
          512,
          513,
          514,
          515,
          516,
          517,
          518,
          519,
          520,
          521,
          522,
          523,
          524,
          525,
          526,
          527,
          528,
          529,
          530,
          531,
          532,
          533,
          534,
          535,
          536,
          537,
          538,
          539,
          540,
          541,
          542,
          543,
          544,
          545,
          546,
          547,
          548,
          549,
          550,
          551,
          552,
          553,
          554,
          555,
          556,
          557,
          558,
          559,
          560,
          561,
          562,
          563,
          564,
          565,
          566,
          567,
          568,
          569,
          570,
          571,
          572,
          573,
          574,
          575,
          576,
          577,
          578,
          579,
          580,
          581,
          582,
          583,
          584,
          585,
          586,
          587,
          588,
          589,
          590,
          591,
          592,
          593,
          594,
          595,
          596,
          597,
          598,
          599,
          600,
          601,
          602,
          603,
          604,
          605,
          606,
          607,
          608,
          609,
          610,
          611,
          612,
          613,
          614,
          615,
          616,
          617,
          618,
          619,
          620,
          621,
          622,
          623,
          624,
          625,
          626,
          627,
          628,
          629,
          630,
          631,
          632,
          633,
          634,
          635,
          636,
          637,
          638,
          639,
          640,
          641,
          642,
          643,
          644,
          645,
          646,
          647,
          648,
          649,
          650,
          651,
          652,
          653,
          654,
          655,
          656,
          657,
          658,
          659,
          660,
          661,
          662,
          663,
          664,
          665,
          666,
          667,
          668,
          669,
          670,
          671,
          672,
          673,
          674,
          675,
          676,
          677,
          678,
          679,
          680,
          681,
          682,
          683,
          684,
          685,
          686,
          687,
          688,
          689,
          690,
          691,
          692,
          693,
          694,
          695,
          696,
          697,
          698,
          699,
          700,
          701,
          702,
          703,
          704,
          705,
          706,
          707,
          708,
          709,
          710,
          711,
          712,
          713,
          714,
          715,
          716,
          717,
          718,
          719,
          720,
          721,
          722,
          723,
          724,
          725,
          726,
          727,
          728,
          729,
          730,
          731,
          732,
          733,
          734,
          735,
          736,
          737,
          738,
          739,
          740,
          741,
          742,
          743,
          744,
          745,
          746,
          747,
          748,
          749,
          750,
          751,
          752,
          753,
          754,
          755,
          756,
          757,
          758,
          759,
          760,
          761,
          762,
          763,
          764,
          765,
          766,
          767,
          768,
          769,
          770,
          771,
          772,
          773,
          774,
          775,
          776,
          777,
          778,
          779,
          780,
          781,
          782,
          783,
          784,
          785,
          786,
          787,
          788,
          789,
          790,
          791,
          792,
          793,
          794,
          795,
          796,
          797,
          798,
          799,
          800,
          801,
          802,
          803,
          804,
          805,
          806,
          807,
          808,
          809,
          810,
          811,
          812,
          813,
          814,
          815,
          816,
          817,
          818,
          819,
          820,
          821,
          822,
          823,
          824,
          825,
          826,
          827,
          828,
          829,
          830,
          831,
          832,
          833,
          834,
          835,
          836,
          837,
          838,
          839,
          840,
          841,
          842,
          843,
          844,
          845,
          846,
          847,
          848,
          849,
          850,
          851,
          852,
          853,
          854,
          855,
          856,
          857,
          858,
          859,
          860,
          861,
          862,
          863,
          864,
          865,
          866,
          867,
          868,
          869,
          870,
          871,
          872,
          873,
          874,
          875,
          876,
          877,
          878,
          879,
          880,
          881,
          882,
          883,
          884,
          885,
          886,
          887,
          888,
          889,
          890,
          891,
          892,
          893,
          894,
          895,
          896,
          897,
          898,
          899
         ],
         "xaxis": "x",
         "y": [
          2.301990032196045,
          2.271068572998047,
          2.23994779586792,
          2.2092206478118896,
          2.176811695098877,
          2.1434266567230225,
          2.1076362133026123,
          2.070155382156372,
          2.0340754985809326,
          1.9980801343917847,
          1.9673292636871338,
          1.9375600814819336,
          1.9140328168869019,
          1.890297293663025,
          1.8703263998031616,
          1.8486641645431519,
          1.8285305500030518,
          1.813177466392517,
          1.7977007627487183,
          1.7850780487060547,
          1.7640475034713745,
          1.7470600605010986,
          1.7282990217208862,
          1.707759141921997,
          1.684143304824829,
          1.6615384817123413,
          1.6412895917892456,
          1.615416407585144,
          1.589840292930603,
          1.5554484128952026,
          1.5207288265228271,
          1.4847495555877686,
          1.447853684425354,
          1.4046601057052612,
          1.3644217252731323,
          1.321488857269287,
          1.273688554763794,
          1.2271744012832642,
          1.1740831136703491,
          1.1145362854003906,
          1.055804967880249,
          0.998585045337677,
          0.9344625473022461,
          0.8709927797317505,
          0.8093199729919434,
          0.745267391204834,
          0.6857129335403442,
          0.6265265345573425,
          0.5715181231498718,
          0.517713725566864,
          0.468394011259079,
          0.42351245880126953,
          0.37480154633522034,
          0.33606210350990295,
          0.291221559047699,
          0.2551015317440033,
          0.22010841965675354,
          0.18895862996578217,
          0.1602020114660263,
          0.13458159565925598,
          0.11567258834838867,
          0.0959727093577385,
          0.08155813813209534,
          0.06833237409591675,
          0.05873221904039383,
          0.04990093410015106,
          0.04259960353374481,
          0.036075372248888016,
          0.031222213059663773,
          0.02733251266181469,
          0.023842643946409225,
          0.021040376275777817,
          0.018808340653777122,
          0.016962168738245964,
          0.014978194609284401,
          0.013585934415459633,
          0.012280702590942383,
          0.011148259043693542,
          0.010222080163657665,
          0.009298953227698803,
          0.008500603027641773,
          0.007950401864945889,
          0.007358204107731581,
          0.006756930146366358,
          0.006286424584686756,
          0.005878004245460033,
          0.005444241221994162,
          0.005101026501506567,
          0.004754047840833664,
          0.004473147448152304,
          0.0042833187617361546,
          0.004071654286235571,
          0.0038156979717314243,
          0.0036514431703835726,
          0.0034920405596494675,
          0.0033131130039691925,
          0.0031851574312895536,
          0.003001949517056346,
          0.0028868354856967926,
          0.002803441369906068,
          0.0027193098794668913,
          0.0025895119179040194,
          0.002522281603887677,
          0.0024464253801852465,
          0.002365282503888011,
          0.0023117659147828817,
          0.0022096955217421055,
          0.0021499854046851397,
          0.0021094840485602617,
          0.002068719593808055,
          0.001994180493056774,
          0.001963801681995392,
          0.0019234666833654046,
          0.0018742409301921725,
          0.001853539957664907,
          0.0017879009246826172,
          0.0017546433955430984,
          0.0017314881552010775,
          0.0017078530509024858,
          0.0016591619933024049,
          0.0016421641921624541,
          0.0016184309497475624,
          0.001583910547196865,
          0.001575800939463079,
          0.0015281018568202853,
          0.0015064658364281058,
          0.0014901889953762293,
          0.001474240212701261,
          0.0014386108377948403,
          0.0014276693109422922,
          0.0014114391524344683,
          0.0013845361536368728,
          0.0013822632608935237,
          0.0013434424763545394,
          0.001328883576206863,
          0.0013156587956473231,
          0.001303959870710969,
          0.0012757342774420977,
          0.0012688622809946537,
          0.0012565639335662127,
          0.0012337457155808806,
          0.0012346971780061722,
          0.00120096979662776,
          0.0011905819410458207,
          0.0011792590375989676,
          0.0011705746874213219,
          0.0011463674018159509,
          0.0011415740009397268,
          0.001132023986428976,
          0.001112615573219955,
          0.0011146877659484744,
          0.001085318741388619,
          0.0010770575609058142,
          0.0010671202326193452,
          0.001060417271219194,
          0.0010392090771347284,
          0.0010360372252762318,
          0.0010282632429152727,
          0.0010110483272001147,
          0.0010136757045984268,
          0.000987728824838996,
          0.0009809726616367698,
          0.0009720977395772934,
          0.0009667680715210736,
          0.0009480101871304214,
          0.0009458890999667346,
          0.0009394578519277275,
          0.0009238924249075353,
          0.0009269340080209076,
          0.0009037085110321641,
          0.0008980572456493974,
          0.0008900508400984108,
          0.0008857574430294335,
          0.0008689725073054433,
          0.0008675504359416664,
          0.0008621698361821473,
          0.0008480476099066436,
          0.0008513244101777673,
          0.0008304223301820457,
          0.00082563137402758,
          0.0008183288737200201,
          0.0008147937478497624,
          0.0007997145876288414,
          0.0007988822762854397,
          0.0007942959782667458,
          0.000781369861215353,
          0.0007847623201087117,
          0.0007658340036869049,
          0.0007617971277795732,
          0.000755111628677696,
          0.0007521556690335274,
          0.000738547823857516,
          0.0007381337927654386,
          0.0007342075114138424,
          0.0007223595748655498,
          0.0007257675752043724,
          0.0007085629622451961,
          0.0007051440188661218,
          0.0006990195834077895,
          0.0006965243956074119,
          0.0006841927533969283,
          0.000684079306665808,
          0.0006807096651755273,
          0.0006698283250443637,
          0.0006731941248290241,
          0.000657488708384335,
          0.0006545586511492729,
          0.0006489493534900248,
          0.0006468213396146894,
          0.000635601463727653,
          0.0006357257370837033,
          0.0006328379386104643,
          0.0006228075362741947,
          0.0006261146045289934,
          0.0006117022130638361,
          0.000609199982136488,
          0.0006040645530447364,
          0.0006022504530847073,
          0.0005919968243688345,
          0.0005923061980865896,
          0.0005898429080843925,
          0.0005805619293823838,
          0.0005838011275045574,
          0.0005705235525965691,
          0.0005683886120095849,
          0.0005636804853565991,
          0.000562127330340445,
          0.0005527297034859657,
          0.0005531699862331152,
          0.0005510695627890527,
          0.0005424552364274859,
          0.0005456233047880232,
          0.0005333537119440734,
          0.0005315309972502291,
          0.000527199765201658,
          0.0005258712917566299,
          0.0005172318196855485,
          0.0005177754792384803,
          0.0005159850115887821,
          0.0005079704569652677,
          0.000511059770360589,
          0.0004996950156055391,
          0.0004981373785994947,
          0.000494147592689842,
          0.0004930117866024375,
          0.0004850531986448914,
          0.0004856671148445457,
          0.00048414740012958646,
          0.0004766701895277947,
          0.0004796783032361418,
          0.00046912222751416266,
          0.0004677890974562615,
          0.00046411162475124,
          0.00046313609345816076,
          0.00045578545541502535,
          0.0004564494302030653,
          0.00045515852980315685,
          0.00044817267917096615,
          0.00045109959319233894,
          0.00044126613647677004,
          0.0004401266050990671,
          0.00043673402979038656,
          0.00043589179404079914,
          0.0004290817305445671,
          0.0004297848790884018,
          0.0004286973853595555,
          0.0004221529816277325,
          0.00042499788105487823,
          0.0004158135561738163,
          0.00041483977111056447,
          0.0004117040953133255,
          0.000410973938414827,
          0.00040465276106260717,
          0.00040537910535931587,
          0.00040447135688737035,
          0.00039832876063883305,
          0.0004010929842479527,
          0.0003924966440536082,
          0.00039166491478681564,
          0.0003887642815243453,
          0.00038812780985608697,
          0.0003822518337983638,
          0.0003829921188298613,
          0.0003822420258074999,
          0.00037646389682777226,
          0.0003791486378759146,
          0.000371084752259776,
          0.0003703770926222205,
          0.0003676869091577828,
          0.0003671359736472368,
          0.00036165924393571913,
          0.00036240750341676176,
          0.00036179713788442314,
          0.0003563494828995317,
          0.0003589499683585018,
          0.00035137261147610843,
          0.0003507730725686997,
          0.0003482690663076937,
          0.0003477955178823322,
          0.00034268127637915313,
          0.0003434311074670404,
          0.00034294271608814597,
          0.00033779931254684925,
          0.0003403176961001009,
          0.0003331846965011209,
          0.000332680472638458,
          0.0003303417470306158,
          0.000329941714880988,
          0.0003251537855248898,
          0.0003259000077378005,
          0.00032551976619288325,
          0.0003206559631507844,
          0.0003230949805583805,
          0.00031636565108783543,
          0.00031594614847563207,
          0.00031375783146359026,
          0.00031342310830950737,
          0.00030893218354322016,
          0.0003096718282904476,
          0.00030937898554839194,
          0.0003047810459975153,
          0.00030713420710526407,
          0.0003007777559105307,
          0.00030043229344300926,
          0.0002983839367516339,
          0.0002981042198371142,
          0.00029388206894509494,
          0.00029461688245646656,
          0.0002944006701000035,
          0.00029004650423303246,
          0.0002923195715993643,
          0.00028630546876229346,
          0.000286028312984854,
          0.00028410652885213494,
          0.0002838734944816679,
          0.0002798969217110425,
          0.0002806284464895725,
          0.0002804772520903498,
          0.0002763477386906743,
          0.00027854222571477294,
          0.00027284384123049676,
          0.0002726298407651484,
          0.00027082403539679945,
          0.0002706336963456124,
          0.00026688427897170186,
          0.00026760660693980753,
          0.0002675143477972597,
          0.00026358963805250823,
          0.00026571014313958585,
          0.0002603039611130953,
          0.0002601470332592726,
          0.00025844815536402166,
          0.00025829518563114107,
          0.00025474984431639314,
          0.0002554673992563039,
          0.00025542356888763607,
          0.0002516921085771173,
          0.0002537420659791678,
          0.00024860582198016346,
          0.00024849988403730094,
          0.00024689818383194506,
          0.0002467793528921902,
          0.00024342343385796994,
          0.00024413126811850816,
          0.0002441310789436102,
          0.00024057865084614605,
          0.00024255788594018668,
          0.00023767542734276503,
          0.00023761378542985767,
          0.00023610061907675117,
          0.00023601397697348148,
          0.00023283051268663257,
          0.0002335268072783947,
          0.0002335682074772194,
          0.00023018075444269925,
          0.00023209214850794524,
          0.00022744557645637542,
          0.00022742045985069126,
          0.0002259925240650773,
          0.00022593094035983086,
          0.000222908376599662,
          0.00022359447029884905,
          0.00022366979101207107,
          0.00022043616627343,
          0.00022228500165510923,
          0.00021785787248518318,
          0.00021786575962323695,
          0.00021651785937137902,
          0.00021647852554451674,
          0.0002136028342647478,
          0.00021427958563435823,
          0.00021438280236907303,
          0.00021129508968442678,
          0.00021308135183062404,
          0.00020885842968709767,
          0.00020889700681436807,
          0.00020762217172887176,
          0.00020760312327183783,
          0.00020486643188633025,
          0.00020553162903524935,
          0.00020566035527735949,
          0.00020270806271582842,
          0.00020443453104235232,
          0.00020040613890159875,
          0.00020046760619152337,
          0.0001992624020203948,
          0.00019926088862121105,
          0.0001966545096365735,
          0.0001973066246137023,
          0.00019745994359254837,
          0.00019463167700450867,
          0.00019630312453955412,
          0.00019245412840973586,
          0.00019253518257755786,
          0.00019139597134198993,
          0.00019141126540489495,
          0.00018892389198299497,
          0.00018956430722028017,
          0.00018973635451402515,
          0.00018702638044487685,
          0.00018864368030335754,
          0.000184961871127598,
          0.00018506291962694377,
          0.0001839831384131685,
          0.00018401276611257344,
          0.00018163624918088317,
          0.00018226401880383492,
          0.0001824552018661052,
          0.0001798549055820331,
          0.00018141807231586426,
          0.0001778965670382604,
          0.00017801379726734012,
          0.00017698899318929762,
          0.00017703097546473145,
          0.00017475987260695547,
          0.0001753754186211154,
          0.00017558271065354347,
          0.00017308622773271054,
          0.00017459677474107593,
          0.00017122688586823642,
          0.00017135788220912218,
          0.00017038661462720484,
          0.0001704374299151823,
          0.0001682633883319795,
          0.00016886909725144506,
          0.00016908835095819086,
          0.00016668780881445855,
          0.0001681517605902627,
          0.00016492295253556222,
          0.0001650651392992586,
          0.00016414219862781465,
          0.00016420264728367329,
          0.00016212051559705287,
          0.00016271538333967328,
          0.0001629468606552109,
          0.00016063857765402645,
          0.00016205667634494603,
          0.0001589602034073323,
          0.00015911283844616264,
          0.0001582356489961967,
          0.0001583019911777228,
          0.0001563067053211853,
          0.0001568914158269763,
          0.0001571332395542413,
          0.0001549104053992778,
          0.00015628435357939452,
          0.00015331286704167724,
          0.00015347350563388318,
          0.00015263927343767136,
          0.00015271086886059493,
          0.00015079951845109463,
          0.0001513726165285334,
          0.00015162226918619126,
          0.0001494823954999447,
          0.0001508150016888976,
          0.0001479599013691768,
          0.00014812688459642231,
          0.00014733619173057377,
          0.0001474116725148633,
          0.0001455760357202962,
          0.00014613995153922588,
          0.00014639760775025934,
          0.000144334597280249,
          0.00014562490105163306,
          0.00014288185047917068,
          0.0001430543779861182,
          0.00014230083615984768,
          0.00014238145377021283,
          0.00014061776164453477,
          0.00014117239334154874,
          0.0001414365106029436,
          0.0001394440623698756,
          0.00014069740427657962,
          0.00013805933122057468,
          0.000138235351187177,
          0.00013751850929111242,
          0.0001376036088913679,
          0.00013590687012765557,
          0.0001364522468065843,
          0.00013672148634213954,
          0.00013479792687576264,
          0.00013601405953522772,
          0.00013347754429560155,
          0.00013365519407670945,
          0.00013297161785885692,
          0.0001330589147983119,
          0.0001314260734943673,
          0.0001319626608164981,
          0.00013223545101936907,
          0.0001303771568927914,
          0.0001315593544859439,
          0.000129115825984627,
          0.00012929728836752474,
          0.0001286463375436142,
          0.00012873606465291232,
          0.00012716064520645887,
          0.00012768949090968817,
          0.00012796740338671952,
          0.00012617082393262535,
          0.00012731879542116076,
          0.000124965314171277,
          0.00012514674745034426,
          0.00012452545342966914,
          0.00012461686856113374,
          0.00012309869634918869,
          0.00012361937842797488,
          0.00012389985204208642,
          0.00012216343020554632,
          0.00012327880540397018,
          0.0001210101690958254,
          0.00012119189341319725,
          0.00012059907021466643,
          0.00012069315562257543,
          0.00011922812700504437,
          0.00011973911750828847,
          0.00012002227595075965,
          0.00011833906319225207,
          0.00011942535638809204,
          0.00011723684292519465,
          0.00011741912749130279,
          0.00011685430217767134,
          0.00011694955173879862,
          0.0001155335339717567,
          0.00011603676102822646,
          0.00011632197856670246,
          0.00011469283344922587,
          0.0001157494043582119,
          0.00011363637167960405,
          0.00011382007505744696,
          0.00011327788524795324,
          0.0001133746700361371,
          0.0001120075976359658,
          0.0001125007911468856,
          0.00011278777674306184,
          0.00011121023271698505,
          0.0001122385510825552,
          0.00011019755766028538,
          0.00011038122465834022,
          0.00010986238339683041,
          0.00010995881166309118,
          0.00010863868374144658,
          0.00010912407014984637,
          0.00010940999345621094,
          0.00010788103099912405,
          0.00010888336692005396,
          0.00010691144416341558,
          0.00010709406342357397,
          0.00010659772669896483,
          0.0001066961485776119,
          0.00010542001109570265,
          0.00010589690646156669,
          0.00010618211672408506,
          0.00010469984408700839,
          0.00010567633580649272,
          0.0001037681577145122,
          0.00010395183926448226,
          0.00010347592615289614,
          0.00010357455175835639,
          0.00010233847569907084,
          0.00010280816786689684,
          0.00010309489880455658,
          0.00010165637650061399,
          0.00010260617273161188,
          0.00010076124453917146,
          0.00010094331082655117,
          0.00010048670083051547,
          0.0001005862868623808,
          0.00009938951552612707,
          0.00009985054202843457,
          0.00010013727296609432,
          0.00009873984527075663,
          0.00009966702054953203,
          0.00009787989984033629,
          0.00009806102752918378,
          0.00009762388799572363,
          0.00009772311750566587,
          0.00009656447218731046,
          0.00009701723320176825,
          0.0000973042770056054,
          0.00009594548464519903,
          0.00009685056284070015,
          0.00009511932148598135,
          0.0000952991031226702,
          0.0000948795277508907,
          0.00009497906285105273,
          0.00009385561861563474,
          0.00009430235513718799,
          0.0000945873252931051,
          0.0000932676630327478,
          0.0000941497492021881,
          0.00009247234993381426,
          0.00009265122207580134,
          0.00009224807581631467,
          0.00009234821482095867,
          0.00009125890210270882,
          0.00009169741679215804,
          0.00009198264160659164,
          0.00009069905354408547,
          0.00009155816223938018,
          0.00008993388473754749,
          0.0000901096427696757,
          0.00008972325304057449,
          0.00008982264262158424,
          0.000088765453256201,
          0.00008919710671762004,
          0.00008948146569309756,
          0.00008823328244034201,
          0.00008907149458536878,
          0.00008749649714445695,
          0.00008767056715441868,
          0.00008729867840884253,
          0.00008739794429857284,
          0.00008637202699901536,
          0.00008679823076818138,
          0.00008708085806574672,
          0.00008586419426137581,
          0.00008668270311318338,
          0.00008515497029293329,
          0.00008532760693924502,
          0.00008497003000229597,
          0.00008506996528012678,
          0.00008407289715250954,
          0.0000844916285132058,
          0.00008477184746880084,
          0.00008358899503946304,
          0.00008438771328656003,
          0.00008290573896374553,
          0.00008307619282277301,
          0.0000827311523607932,
          0.00008282998169306666,
          0.00008186345075955614,
          0.00008227559010265395,
          0.00008255357533926144,
          0.00008140203863149509,
          0.00008218085713451728,
          0.00008074261131696403,
          0.00008090945630101487,
          0.00008057924424065277,
          0.00008067831367952749,
          0.00007973733590915799,
          0.00008014315244508907,
          0.00008042050467338413,
          0.0000792976570664905,
          0.00008005924610188231,
          0.00007866100349929184,
          0.00007882807403802872,
          0.00007850825932109728,
          0.00007860839104978368,
          0.00007769309013383463,
          0.00007809328963048756,
          0.00007836746226530522,
          0.00007727299089310691,
          0.00007801698666298762,
          0.00007665866723982617,
          0.00007682364230277017,
          0.00007651581836398691,
          0.0000766144585213624,
          0.00007572530739707872,
          0.00007611827459186316,
          0.00007639094110345468,
          0.00007532360177719966,
          0.00007605203427374363,
          0.00007473136065527797,
          0.00007489421841455624,
          0.00007459901098627597,
          0.00007469661068171263,
          0.00007383071351796389,
          0.00007421689224429429,
          0.00007448897667927667,
          0.00007344682671828195,
          0.00007415891013806686,
          0.00007287473272299394,
          0.00007303550228243694,
          0.00007274961535586044,
          0.00007284804451046512,
          0.00007200597610790282,
          0.0000723857301636599,
          0.00007265424210345373,
          0.00007163833652157336,
          0.00007233552605612203,
          0.0000710843742126599,
          0.00007124624971766025,
          0.00007096906483639032,
          0.00007106604607542977,
          0.00007024521619314328,
          0.00007062072836561128,
          0.00007088622805895284,
          0.0000698945441399701,
          0.00007057568291202188,
          0.00006935915007488802,
          0.00006951892282813787,
          0.00006925214984221384,
          0.00006934661359991878,
          0.00006854895036667585,
          0.00006891774683026597,
          0.0000691800523782149,
          0.00006821381248300895,
          0.00006887941708555445,
          0.00006769465107936412,
          0.00006785267032682896,
          0.00006759525422239676,
          0.00006768861203454435,
          0.00006691108137601987,
          0.0000672740425216034,
          0.00006753613706678152,
          0.00006659032078459859,
          0.00006724255945300683,
          0.00006608951662201434,
          0.00006624406523769721,
          0.00006599527841899544,
          0.00006608924741158262,
          0.00006533063424285501,
          0.00006568824028363451,
          0.00006594687147298828,
          0.00006502569158328697,
          0.00006566262163687497,
          0.00006453745299950242,
          0.00006469259096775204,
          0.000064452899096068,
          0.0000645443651592359,
          0.0000638034543953836,
          0.00006415706593543291,
          0.00006441424193326384,
          0.0000635113101452589,
          0.00006413574010366574,
          0.00006304005364654586,
          0.00006319398380583152,
          0.00006295914499787614,
          0.00006305065471678972,
          0.00006232900341274217,
          0.00006267743447097018,
          0.00006293020851444453,
          0.00006205063255038112,
          0.00006266161653911695,
          0.00006159243639558554,
          0.00006174383452162147,
          0.00006152060814201832,
          0.00006160731572890654,
          0.000060904480051249266,
          0.00006124709034338593,
          0.000061498794821091,
          0.00006063778346288018,
          0.00006123663479229435,
          0.00006019217107677832,
          0.000060344140365486965,
          0.000060125708841951564,
          0.00006021382432663813,
          0.0000595268102188129,
          0.000059864858485525474,
          0.000060114263760624453,
          0.000059271755162626505,
          0.000059858051827177405,
          0.000058838904806179926,
          0.00005898890594835393,
          0.00005877863077330403,
          0.00005886489088879898,
          0.000058194105804432184,
          0.000058528130466584116,
          0.00005877532021258958,
          0.00005795078686787747,
          0.00005852470712852664,
          0.000057531229685992,
          0.000057680044847074896,
          0.000057475710491416976,
          0.00005756008977186866,
          0.00005690605757990852,
          0.00005723576759919524,
          0.00005747838440584019,
          0.000056671906349947676,
          0.00005723509821109474,
          0.00005626518031931482,
          0.000056412332924082875,
          0.000056214277719845995,
          0.00005629828592645936,
          0.00005565887113334611,
          0.00005598340794676915,
          0.00005622449316433631,
          0.00005543442603084259,
          0.00005598719508270733,
          0.000055039996368577704,
          0.00005518439138540998,
          0.00005499413964571431,
          0.00005507491368916817,
          0.000054452371841762215,
          0.000054772128351032734,
          0.00005500989573192783,
          0.00005423790935310535,
          0.00005477888771565631,
          0.00005385379699873738,
          0.00005399627843871713,
          0.000053811760153621435,
          0.000053891355491941795,
          0.000053282052249414846,
          0.000053598032536683604,
          0.00005383332245401107,
          0.0000530778088432271,
          0.00005360872091841884,
          0.000052702973334817216,
          0.000052846404287265614,
          0.000052666349802166224,
          0.00005274572686175816,
          0.000052149513066979125,
          0.00005246133150649257,
          0.000052693369070766494,
          0.000051953607908217236,
          0.00005247439185041003,
          0.00005158861677045934,
          0.00005172856253921054,
          0.00005155688995728269,
          0.00005163446985534392,
          0.00005105164018459618,
          0.00005135930405231193,
          0.00005158887506695464,
          0.000050863975047832355,
          0.000051374907343415543,
          0.00005050955951446667,
          0.00005064783545094542,
          0.000050481397920520976,
          0.00005055640576756559,
          0.00004998631993657909,
          0.000050290487706661224,
          0.00005051810512668453,
          0.0000498075460200198,
          0.00005030847023590468,
          0.00004946239278069697,
          0.00004959994839737192,
          0.00004943623207509518,
          0.00004951289156451821,
          0.00004895469101029448,
          0.00004925378743791953,
          0.000049478327127872035,
          0.0000487815668748226,
          0.000049275255150860175,
          0.00004844596332986839,
          0.00004858102693106048,
          0.000048424219130538404,
          0.000048499197873752564,
          0.000047953602916095406,
          0.000048247802624246106,
          0.00004846909359912388,
          0.00004778803850058466,
          0.00004827157317777164,
          0.000047460209316341206,
          0.00004759611329063773,
          0.00004744193938677199,
          0.00004751505912281573,
          0.00004698144766734913,
          0.00004727340638055466,
          0.00004749152503791265,
          0.00004682282451540232,
          0.00004729807915282436,
          0.000046502846089424565,
          0.00004663770232582465,
          0.00004648849062505178,
          0.00004656014425563626,
          0.00004603829074767418,
          0.000046326244046213105,
          0.000046541401388822123,
          0.00004588545925798826,
          0.00004635014192899689,
          0.00004557508509606123,
          0.00004570792953018099,
          0.00004556403655442409,
          0.000045633543777512386,
          0.0000451212799816858,
          0.00004540538429864682,
          0.000045619421143783256,
          0.000044976233766647056,
          0.000045432938350131735,
          0.00004467231337912381,
          0.000044805212382925674,
          0.00004466392783797346,
          0.00004473371882340871,
          0.00004423230348038487,
          0.00004451301720109768,
          0.000044723052269546315,
          0.00004409309622133151,
          0.0000445414443674963,
          0.00004379630263429135,
          0.0000439273972006049
         ],
         "yaxis": "y"
        }
       ],
       "layout": {
        "legend": {
         "title": {
          "text": "variable"
         },
         "tracegroupgap": 0
        },
        "margin": {
         "t": 60
        },
        "template": {
         "data": {
          "bar": [
           {
            "error_x": {
             "color": "#2a3f5f"
            },
            "error_y": {
             "color": "#2a3f5f"
            },
            "marker": {
             "line": {
              "color": "#E5ECF6",
              "width": 0.5
             },
             "pattern": {
              "fillmode": "overlay",
              "size": 10,
              "solidity": 0.2
             }
            },
            "type": "bar"
           }
          ],
          "barpolar": [
           {
            "marker": {
             "line": {
              "color": "#E5ECF6",
              "width": 0.5
             },
             "pattern": {
              "fillmode": "overlay",
              "size": 10,
              "solidity": 0.2
             }
            },
            "type": "barpolar"
           }
          ],
          "carpet": [
           {
            "aaxis": {
             "endlinecolor": "#2a3f5f",
             "gridcolor": "white",
             "linecolor": "white",
             "minorgridcolor": "white",
             "startlinecolor": "#2a3f5f"
            },
            "baxis": {
             "endlinecolor": "#2a3f5f",
             "gridcolor": "white",
             "linecolor": "white",
             "minorgridcolor": "white",
             "startlinecolor": "#2a3f5f"
            },
            "type": "carpet"
           }
          ],
          "choropleth": [
           {
            "colorbar": {
             "outlinewidth": 0,
             "ticks": ""
            },
            "type": "choropleth"
           }
          ],
          "contour": [
           {
            "colorbar": {
             "outlinewidth": 0,
             "ticks": ""
            },
            "colorscale": [
             [
              0,
              "#0d0887"
             ],
             [
              0.1111111111111111,
              "#46039f"
             ],
             [
              0.2222222222222222,
              "#7201a8"
             ],
             [
              0.3333333333333333,
              "#9c179e"
             ],
             [
              0.4444444444444444,
              "#bd3786"
             ],
             [
              0.5555555555555556,
              "#d8576b"
             ],
             [
              0.6666666666666666,
              "#ed7953"
             ],
             [
              0.7777777777777778,
              "#fb9f3a"
             ],
             [
              0.8888888888888888,
              "#fdca26"
             ],
             [
              1,
              "#f0f921"
             ]
            ],
            "type": "contour"
           }
          ],
          "contourcarpet": [
           {
            "colorbar": {
             "outlinewidth": 0,
             "ticks": ""
            },
            "type": "contourcarpet"
           }
          ],
          "heatmap": [
           {
            "colorbar": {
             "outlinewidth": 0,
             "ticks": ""
            },
            "colorscale": [
             [
              0,
              "#0d0887"
             ],
             [
              0.1111111111111111,
              "#46039f"
             ],
             [
              0.2222222222222222,
              "#7201a8"
             ],
             [
              0.3333333333333333,
              "#9c179e"
             ],
             [
              0.4444444444444444,
              "#bd3786"
             ],
             [
              0.5555555555555556,
              "#d8576b"
             ],
             [
              0.6666666666666666,
              "#ed7953"
             ],
             [
              0.7777777777777778,
              "#fb9f3a"
             ],
             [
              0.8888888888888888,
              "#fdca26"
             ],
             [
              1,
              "#f0f921"
             ]
            ],
            "type": "heatmap"
           }
          ],
          "heatmapgl": [
           {
            "colorbar": {
             "outlinewidth": 0,
             "ticks": ""
            },
            "colorscale": [
             [
              0,
              "#0d0887"
             ],
             [
              0.1111111111111111,
              "#46039f"
             ],
             [
              0.2222222222222222,
              "#7201a8"
             ],
             [
              0.3333333333333333,
              "#9c179e"
             ],
             [
              0.4444444444444444,
              "#bd3786"
             ],
             [
              0.5555555555555556,
              "#d8576b"
             ],
             [
              0.6666666666666666,
              "#ed7953"
             ],
             [
              0.7777777777777778,
              "#fb9f3a"
             ],
             [
              0.8888888888888888,
              "#fdca26"
             ],
             [
              1,
              "#f0f921"
             ]
            ],
            "type": "heatmapgl"
           }
          ],
          "histogram": [
           {
            "marker": {
             "pattern": {
              "fillmode": "overlay",
              "size": 10,
              "solidity": 0.2
             }
            },
            "type": "histogram"
           }
          ],
          "histogram2d": [
           {
            "colorbar": {
             "outlinewidth": 0,
             "ticks": ""
            },
            "colorscale": [
             [
              0,
              "#0d0887"
             ],
             [
              0.1111111111111111,
              "#46039f"
             ],
             [
              0.2222222222222222,
              "#7201a8"
             ],
             [
              0.3333333333333333,
              "#9c179e"
             ],
             [
              0.4444444444444444,
              "#bd3786"
             ],
             [
              0.5555555555555556,
              "#d8576b"
             ],
             [
              0.6666666666666666,
              "#ed7953"
             ],
             [
              0.7777777777777778,
              "#fb9f3a"
             ],
             [
              0.8888888888888888,
              "#fdca26"
             ],
             [
              1,
              "#f0f921"
             ]
            ],
            "type": "histogram2d"
           }
          ],
          "histogram2dcontour": [
           {
            "colorbar": {
             "outlinewidth": 0,
             "ticks": ""
            },
            "colorscale": [
             [
              0,
              "#0d0887"
             ],
             [
              0.1111111111111111,
              "#46039f"
             ],
             [
              0.2222222222222222,
              "#7201a8"
             ],
             [
              0.3333333333333333,
              "#9c179e"
             ],
             [
              0.4444444444444444,
              "#bd3786"
             ],
             [
              0.5555555555555556,
              "#d8576b"
             ],
             [
              0.6666666666666666,
              "#ed7953"
             ],
             [
              0.7777777777777778,
              "#fb9f3a"
             ],
             [
              0.8888888888888888,
              "#fdca26"
             ],
             [
              1,
              "#f0f921"
             ]
            ],
            "type": "histogram2dcontour"
           }
          ],
          "mesh3d": [
           {
            "colorbar": {
             "outlinewidth": 0,
             "ticks": ""
            },
            "type": "mesh3d"
           }
          ],
          "parcoords": [
           {
            "line": {
             "colorbar": {
              "outlinewidth": 0,
              "ticks": ""
             }
            },
            "type": "parcoords"
           }
          ],
          "pie": [
           {
            "automargin": true,
            "type": "pie"
           }
          ],
          "scatter": [
           {
            "fillpattern": {
             "fillmode": "overlay",
             "size": 10,
             "solidity": 0.2
            },
            "type": "scatter"
           }
          ],
          "scatter3d": [
           {
            "line": {
             "colorbar": {
              "outlinewidth": 0,
              "ticks": ""
             }
            },
            "marker": {
             "colorbar": {
              "outlinewidth": 0,
              "ticks": ""
             }
            },
            "type": "scatter3d"
           }
          ],
          "scattercarpet": [
           {
            "marker": {
             "colorbar": {
              "outlinewidth": 0,
              "ticks": ""
             }
            },
            "type": "scattercarpet"
           }
          ],
          "scattergeo": [
           {
            "marker": {
             "colorbar": {
              "outlinewidth": 0,
              "ticks": ""
             }
            },
            "type": "scattergeo"
           }
          ],
          "scattergl": [
           {
            "marker": {
             "colorbar": {
              "outlinewidth": 0,
              "ticks": ""
             }
            },
            "type": "scattergl"
           }
          ],
          "scattermapbox": [
           {
            "marker": {
             "colorbar": {
              "outlinewidth": 0,
              "ticks": ""
             }
            },
            "type": "scattermapbox"
           }
          ],
          "scatterpolar": [
           {
            "marker": {
             "colorbar": {
              "outlinewidth": 0,
              "ticks": ""
             }
            },
            "type": "scatterpolar"
           }
          ],
          "scatterpolargl": [
           {
            "marker": {
             "colorbar": {
              "outlinewidth": 0,
              "ticks": ""
             }
            },
            "type": "scatterpolargl"
           }
          ],
          "scatterternary": [
           {
            "marker": {
             "colorbar": {
              "outlinewidth": 0,
              "ticks": ""
             }
            },
            "type": "scatterternary"
           }
          ],
          "surface": [
           {
            "colorbar": {
             "outlinewidth": 0,
             "ticks": ""
            },
            "colorscale": [
             [
              0,
              "#0d0887"
             ],
             [
              0.1111111111111111,
              "#46039f"
             ],
             [
              0.2222222222222222,
              "#7201a8"
             ],
             [
              0.3333333333333333,
              "#9c179e"
             ],
             [
              0.4444444444444444,
              "#bd3786"
             ],
             [
              0.5555555555555556,
              "#d8576b"
             ],
             [
              0.6666666666666666,
              "#ed7953"
             ],
             [
              0.7777777777777778,
              "#fb9f3a"
             ],
             [
              0.8888888888888888,
              "#fdca26"
             ],
             [
              1,
              "#f0f921"
             ]
            ],
            "type": "surface"
           }
          ],
          "table": [
           {
            "cells": {
             "fill": {
              "color": "#EBF0F8"
             },
             "line": {
              "color": "white"
             }
            },
            "header": {
             "fill": {
              "color": "#C8D4E3"
             },
             "line": {
              "color": "white"
             }
            },
            "type": "table"
           }
          ]
         },
         "layout": {
          "annotationdefaults": {
           "arrowcolor": "#2a3f5f",
           "arrowhead": 0,
           "arrowwidth": 1
          },
          "autotypenumbers": "strict",
          "coloraxis": {
           "colorbar": {
            "outlinewidth": 0,
            "ticks": ""
           }
          },
          "colorscale": {
           "diverging": [
            [
             0,
             "#8e0152"
            ],
            [
             0.1,
             "#c51b7d"
            ],
            [
             0.2,
             "#de77ae"
            ],
            [
             0.3,
             "#f1b6da"
            ],
            [
             0.4,
             "#fde0ef"
            ],
            [
             0.5,
             "#f7f7f7"
            ],
            [
             0.6,
             "#e6f5d0"
            ],
            [
             0.7,
             "#b8e186"
            ],
            [
             0.8,
             "#7fbc41"
            ],
            [
             0.9,
             "#4d9221"
            ],
            [
             1,
             "#276419"
            ]
           ],
           "sequential": [
            [
             0,
             "#0d0887"
            ],
            [
             0.1111111111111111,
             "#46039f"
            ],
            [
             0.2222222222222222,
             "#7201a8"
            ],
            [
             0.3333333333333333,
             "#9c179e"
            ],
            [
             0.4444444444444444,
             "#bd3786"
            ],
            [
             0.5555555555555556,
             "#d8576b"
            ],
            [
             0.6666666666666666,
             "#ed7953"
            ],
            [
             0.7777777777777778,
             "#fb9f3a"
            ],
            [
             0.8888888888888888,
             "#fdca26"
            ],
            [
             1,
             "#f0f921"
            ]
           ],
           "sequentialminus": [
            [
             0,
             "#0d0887"
            ],
            [
             0.1111111111111111,
             "#46039f"
            ],
            [
             0.2222222222222222,
             "#7201a8"
            ],
            [
             0.3333333333333333,
             "#9c179e"
            ],
            [
             0.4444444444444444,
             "#bd3786"
            ],
            [
             0.5555555555555556,
             "#d8576b"
            ],
            [
             0.6666666666666666,
             "#ed7953"
            ],
            [
             0.7777777777777778,
             "#fb9f3a"
            ],
            [
             0.8888888888888888,
             "#fdca26"
            ],
            [
             1,
             "#f0f921"
            ]
           ]
          },
          "colorway": [
           "#636efa",
           "#EF553B",
           "#00cc96",
           "#ab63fa",
           "#FFA15A",
           "#19d3f3",
           "#FF6692",
           "#B6E880",
           "#FF97FF",
           "#FECB52"
          ],
          "font": {
           "color": "#2a3f5f"
          },
          "geo": {
           "bgcolor": "white",
           "lakecolor": "white",
           "landcolor": "#E5ECF6",
           "showlakes": true,
           "showland": true,
           "subunitcolor": "white"
          },
          "hoverlabel": {
           "align": "left"
          },
          "hovermode": "closest",
          "mapbox": {
           "style": "light"
          },
          "paper_bgcolor": "white",
          "plot_bgcolor": "#E5ECF6",
          "polar": {
           "angularaxis": {
            "gridcolor": "white",
            "linecolor": "white",
            "ticks": ""
           },
           "bgcolor": "#E5ECF6",
           "radialaxis": {
            "gridcolor": "white",
            "linecolor": "white",
            "ticks": ""
           }
          },
          "scene": {
           "xaxis": {
            "backgroundcolor": "#E5ECF6",
            "gridcolor": "white",
            "gridwidth": 2,
            "linecolor": "white",
            "showbackground": true,
            "ticks": "",
            "zerolinecolor": "white"
           },
           "yaxis": {
            "backgroundcolor": "#E5ECF6",
            "gridcolor": "white",
            "gridwidth": 2,
            "linecolor": "white",
            "showbackground": true,
            "ticks": "",
            "zerolinecolor": "white"
           },
           "zaxis": {
            "backgroundcolor": "#E5ECF6",
            "gridcolor": "white",
            "gridwidth": 2,
            "linecolor": "white",
            "showbackground": true,
            "ticks": "",
            "zerolinecolor": "white"
           }
          },
          "shapedefaults": {
           "line": {
            "color": "#2a3f5f"
           }
          },
          "ternary": {
           "aaxis": {
            "gridcolor": "white",
            "linecolor": "white",
            "ticks": ""
           },
           "baxis": {
            "gridcolor": "white",
            "linecolor": "white",
            "ticks": ""
           },
           "bgcolor": "#E5ECF6",
           "caxis": {
            "gridcolor": "white",
            "linecolor": "white",
            "ticks": ""
           }
          },
          "title": {
           "x": 0.05
          },
          "xaxis": {
           "automargin": true,
           "gridcolor": "white",
           "linecolor": "white",
           "ticks": "",
           "title": {
            "standoff": 15
           },
           "zerolinecolor": "white",
           "zerolinewidth": 2
          },
          "yaxis": {
           "automargin": true,
           "gridcolor": "white",
           "linecolor": "white",
           "ticks": "",
           "title": {
            "standoff": 15
           },
           "zerolinecolor": "white",
           "zerolinewidth": 2
          }
         }
        },
        "xaxis": {
         "anchor": "y",
         "domain": [
          0,
          1
         ],
         "title": {
          "text": ""
         }
        },
        "yaxis": {
         "anchor": "x",
         "domain": [
          0,
          1
         ],
         "title": {
          "text": ""
         },
         "type": "log"
        }
       }
      }
     },
     "metadata": {},
     "output_type": "display_data"
    }
   ],
   "source": [
    "line(train_losses, log_y=True)"
   ]
  },
  {
   "cell_type": "code",
   "execution_count": null,
   "metadata": {},
   "outputs": [
    {
     "data": {
      "application/vnd.plotly.v1+json": {
       "config": {
        "plotlyServerURL": "https://plot.ly"
       },
       "data": [
        {
         "coloraxis": "coloraxis",
         "hovertemplate": "x: %{x}<br>y: %{y}<br>color: %{z}<extra></extra>",
         "name": "0",
         "type": "heatmap",
         "xaxis": "x",
         "yaxis": "y",
         "z": [
          [
           0.133224219083786,
           0.10964787006378174,
           0.06534895300865173,
           -0.13893011212348938,
           0.05478915572166443,
           -0.09173020720481873,
           -0.010163621976971626,
           -0.10476472228765488,
           -0.05898988991975784,
           0.10758490860462189,
           -0.026502348482608795,
           -0.09892110526561737,
           -0.05663814768195152,
           -0.04445812106132507,
           -0.054288413375616074,
           0.0678272694349289,
           0.09895040094852448,
           -0.01297184731811285,
           -0.032144419848918915,
           0.02828165888786316,
           -0.047252070158720016,
           0.07352343946695328,
           0.05880679190158844,
           0.11843807995319366,
           0.07925167679786682,
           0.09779732674360275,
           0.04363695904612541,
           0.09366507828235626,
           -0.01544518768787384,
           -0.0029939457308501005,
           -0.01533743180334568,
           0.05642326548695564,
           -0.09245546907186508,
           -0.057298120111227036,
           -0.023128759115934372,
           0.12192408740520477,
           0.013486660085618496,
           -0.033587582409381866,
           0.013865617103874683,
           -0.049905333667993546,
           -0.10691969841718674,
           0.06394738703966141,
           -0.06304187327623367,
           -0.04775652289390564,
           -0.09771571308374405,
           0.1418694257736206,
           -0.08672723174095154,
           -0.024885715916752815,
           -0.0603853240609169,
           -0.0516788475215435,
           0.012729676440358162,
           0.03973513841629028,
           -0.03171290084719658,
           0.08616026490926743,
           -0.055861882865428925,
           -0.05103571340441704,
           -0.09194506704807281,
           -0.005196071695536375,
           -0.003293465357273817,
           0.04809936508536339,
           -0.012316721491515636,
           0.12896287441253662,
           -0.08721153438091278,
           0.09266091138124466,
           0.11565414071083069,
           0.0619349330663681,
           0.15133216977119446,
           0.026196299120783806,
           0.010124686174094677,
           -0.006979948841035366,
           -0.07842105627059937,
           0.08133396506309509,
           -0.005757823586463928,
           0.03132602572441101,
           -0.0022876362781971693,
           0.029925720766186714,
           0.04472882300615311,
           -0.04350382462143898,
           -0.14994467794895172,
           -0.05093594267964363,
           -0.003226288128644228,
           -0.017181819304823875,
           -0.09948468208312988,
           -0.035171110183000565,
           0.03618445247411728,
           0.03168629854917526,
           0.07573601603507996,
           0.007331883534789085,
           0.051107753068208694,
           -0.03829875960946083,
           -0.06957753747701645,
           0.03967824578285217,
           -0.11966300010681152,
           -0.06470482796430588,
           0.09143534302711487,
           0.038729723542928696,
           -0.16875822842121124,
           0.04239613190293312,
           0.06444894522428513,
           -0.003655749838799238,
           0.05287506431341171,
           0.03351340815424919,
           0.08947677165269852,
           -0.034194495528936386,
           -0.02057952992618084,
           0.04740539938211441,
           0.032699283212423325,
           0.003426114795729518,
           0.021673792973160744,
           0.09547778218984604,
           -0.002376288641244173,
           -0.014635791070759296,
           -0.09378805011510849,
           -0.0022429192904382944,
           -0.05045420676469803,
           0.034902218729257584,
           0.05316669121384621,
           0.003152942517772317,
           -0.0317998044192791,
           0.03893962502479553,
           0.0010295762913301587,
           0.021259723231196404,
           0.006973142735660076,
           0.060002848505973816,
           0.07087425142526627,
           0.020024828612804413,
           0.05407596006989479,
           0.03470687195658684
          ],
          [
           0.13587257266044617,
           0.06908649951219559,
           -0.11012592166662216,
           -0.07824689149856567,
           -0.007311597466468811,
           0.11487863957881927,
           0.044835593551397324,
           0.04675058275461197,
           0.07699403166770935,
           -0.005989347584545612,
           -0.12496071308851242,
           0.06669404357671738,
           -0.030040495097637177,
           0.07730965316295624,
           -0.04380778968334198,
           0.0528641939163208,
           -0.05830308422446251,
           0.07055652141571045,
           0.11343377083539963,
           0.09264906495809555,
           0.016558347269892693,
           -0.010995789431035519,
           -0.04475102573633194,
           0.013882624916732311,
           0.03021596558392048,
           0.07204056531190872,
           -0.03985060378909111,
           0.10956740379333496,
           -0.18029776215553284,
           -0.019927849993109703,
           -0.07875557988882065,
           0.05041152983903885,
           -0.1302882730960846,
           0.012815743684768677,
           -0.006400201469659805,
           -0.038584284484386444,
           0.01592082716524601,
           -0.05717012658715248,
           0.009245512075722218,
           -0.06825035065412521,
           -0.1080300435423851,
           0.09472153335809708,
           0.0827920213341713,
           0.005855847150087357,
           -0.10709396749734879,
           0.0636187270283699,
           0.04319768399000168,
           0.14229388535022736,
           -0.0016091774450615048,
           0.00854739360511303,
           -0.05616771802306175,
           -0.012245658785104752,
           -0.061616089195013046,
           -0.12010455876588821,
           -0.08813557773828506,
           -0.040029674768447876,
           -0.0461311936378479,
           -0.10996993631124496,
           -0.13732068240642548,
           0.014524932019412518,
           0.09322322905063629,
           -0.03945183381438255,
           0.04368569701910019,
           0.05231344699859619,
           0.11806881427764893,
           -0.060042381286621094,
           0.07169409096240997,
           -0.014598450623452663,
           -0.0759587287902832,
           0.02280300296843052,
           0.03003195859491825,
           0.10810988396406174,
           0.04166097566485405,
           0.14973273873329163,
           -0.040569934993982315,
           -0.060086920857429504,
           0.014712964184582233,
           0.07743516564369202,
           0.08998451381921768,
           0.03624521940946579,
           -0.05530925467610359,
           -0.07455535233020782,
           -0.025872336700558662,
           -0.03686665743589401,
           0.012191236019134521,
           0.03292568400502205,
           -0.015921330079436302,
           -0.15196755528450012,
           -0.03460589423775673,
           0.07282862812280655,
           -0.1337679922580719,
           0.1103680431842804,
           0.024790331721305847,
           -0.027094796299934387,
           0.06814999133348465,
           0.10776027292013168,
           0.0007900975761003792,
           0.12110436707735062,
           0.005461294669657946,
           -0.08096202462911606,
           -0.04375495761632919,
           0.011089454405009747,
           0.0329756960272789,
           0.13833972811698914,
           -0.005859019700437784,
           -0.053213391453027725,
           -0.13937833905220032,
           -0.0829153060913086,
           0.007445638068020344,
           0.003811370115727186,
           0.011878612451255322,
           0.01786637119948864,
           -0.07262715697288513,
           0.010720527730882168,
           -0.03645525500178337,
           0.031121740117669106,
           -0.0675927922129631,
           -0.01074700616300106,
           -0.031777508556842804,
           0.10510098189115524,
           0.08227020502090454,
           -0.048072271049022675,
           0.05278154835104942,
           0.04444124177098274,
           0.04348274692893028,
           0.04694762080907822,
           0.03843455761671066,
           0.026288339868187904
          ],
          [
           -0.04596182703971863,
           0.0284497682005167,
           -0.10186758637428284,
           -0.11636249721050262,
           -0.10674181580543518,
           0.034971948713064194,
           -0.009822431951761246,
           0.05576084926724434,
           -0.11241548508405685,
           -0.010936343111097813,
           0.047934871166944504,
           0.0005081373965367675,
           0.089499332010746,
           0.018655598163604736,
           -0.1373351663351059,
           0.002801856491714716,
           -0.09488184005022049,
           0.038854461163282394,
           -0.17375734448432922,
           -0.002236219123005867,
           -0.004321467597037554,
           -0.05327240750193596,
           0.11925479769706726,
           0.001910994527861476,
           0.0778355747461319,
           0.13888637721538544,
           0.06359445303678513,
           0.07487666606903076,
           0.038499269634485245,
           0.06955496221780777,
           0.018791906535625458,
           -0.009252793155610561,
           0.07459564507007599,
           -0.06576011329889297,
           -0.04123499616980553,
           -0.023753609508275986,
           -0.0241538118571043,
           -0.001361497794277966,
           -0.04741797596216202,
           -0.0035055363550782204,
           0.1393302083015442,
           0.013138623908162117,
           0.05948931351304054,
           0.03328358754515648,
           -0.009061034768819809,
           -0.003921532072126865,
           0.09897437691688538,
           0.05918601155281067,
           0.0279754139482975,
           -0.05665067955851555,
           0.04985562339425087,
           -0.06377581506967545,
           0.029226703569293022,
           0.09246224910020828,
           -0.16067275404930115,
           -0.09870719164609909,
           0.0077814701944589615,
           -0.15329688787460327,
           -0.013009034097194672,
           -0.07313556224107742,
           -0.059215277433395386,
           0.0014903672272339463,
           0.07932483404874802,
           -0.0738285556435585,
           0.03358176350593567,
           -0.05730944126844406,
           0.07513311505317688,
           -0.08912766724824905,
           0.035175155848264694,
           0.02178879827260971,
           0.008363701403141022,
           0.01704452373087406,
           0.028465311974287033,
           0.050981130450963974,
           -0.11930456757545471,
           -0.0622120276093483,
           0.019090186804533005,
           0.011574232950806618,
           -0.03002159297466278,
           0.013509610667824745,
           0.06566290557384491,
           0.02562735229730606,
           0.053277481347322464,
           -0.009120347909629345,
           0.03428845852613449,
           -0.04542772099375725,
           -0.03188357502222061,
           0.011863850988447666,
           0.048205289989709854,
           0.10744714736938477,
           0.0020033386535942554,
           0.0792505145072937,
           0.07027197629213333,
           -0.048529744148254395,
           -0.03952934965491295,
           -0.021572355180978775,
           -0.046918727457523346,
           0.020964546129107475,
           -0.0025972367729991674,
           -0.08594656735658646,
           -0.017167380079627037,
           -0.0655222237110138,
           -0.040656622499227524,
           0.1400027722120285,
           0.11719773709774017,
           0.11646871268749237,
           0.005651772953569889,
           -0.01415608637034893,
           -0.12812313437461853,
           -0.0435069315135479,
           -0.0320734940469265,
           0.1417728215456009,
           -0.015030710026621819,
           0.011625314131379128,
           0.15027958154678345,
           0.12260463088750839,
           0.029710909351706505,
           0.03942590579390526,
           -0.005550665780901909,
           0.049210984259843826,
           -0.020968537777662277,
           -0.07088768482208252,
           -0.08415601402521133,
           0.030673189088702202,
           -0.04826829954981804,
           0.058059100061655045,
           -0.02398880198597908,
           -0.017710980027914047
          ],
          [
           0.04527705907821655,
           -0.01602444238960743,
           -0.008528477512300014,
           0.010818188078701496,
           0.09386909008026123,
           -0.060236357152462006,
           -0.04783997684717178,
           -0.008757899515330791,
           -0.06553999334573746,
           -0.18488138914108276,
           -0.030113723129034042,
           0.05862540751695633,
           0.07076682150363922,
           -0.017111031338572502,
           -0.06456051766872406,
           0.06389129906892776,
           -0.0020117934327572584,
           -0.070370614528656,
           -0.04899508133530617,
           -0.027085985988378525,
           0.07042071223258972,
           -0.022685540840029716,
           0.0055289119482040405,
           0.00177428696770221,
           0.07200464606285095,
           -0.11344325542449951,
           0.0808701366186142,
           0.08005666732788086,
           -0.008852904662489891,
           -0.02502726949751377,
           -0.021233709529042244,
           0.05590367689728737,
           0.04642082750797272,
           -0.09399856626987457,
           -0.03449327498674393,
           0.04071720689535141,
           -0.029097849503159523,
           -0.037978749722242355,
           -0.006773628294467926,
           -0.11706480383872986,
           -0.03181794658303261,
           -0.0448785163462162,
           0.017200425267219543,
           0.015439784154295921,
           0.0773404911160469,
           -0.04533921927213669,
           -0.03755627200007439,
           0.053937483578920364,
           -0.03130330145359039,
           0.0878344252705574,
           -0.03516652435064316,
           0.10766024142503738,
           0.05607743188738823,
           -0.003509890055283904,
           0.04452570527791977,
           0.07204840332269669,
           0.04993492364883423,
           -0.08104973286390305,
           -0.0023018771316856146,
           -0.07745395600795746,
           -0.0014761917991563678,
           0.08392506837844849,
           0.04925232008099556,
           -0.060143403708934784,
           -0.11080978810787201,
           0.03698740527033806,
           -0.06934934854507446,
           0.007517875637859106,
           -0.03923194110393524,
           -0.0704495832324028,
           -0.04294131323695183,
           0.06331445276737213,
           0.11208492517471313,
           -0.0061470805667340755,
           -0.04092878848314285,
           0.0024318648502230644,
           0.0021287878043949604,
           -0.05662814900279045,
           -0.0963178277015686,
           0.07742710411548615,
           0.07790523022413254,
           -0.05581887438893318,
           0.008508647792041302,
           -0.006508932448923588,
           0.011193202808499336,
           0.08435320109128952,
           -0.09616188704967499,
           -0.09825948625802994,
           -0.07065483927726746,
           0.016876108944416046,
           0.016277318820357323,
           -0.04230518639087677,
           0.20237307250499725,
           0.14216166734695435,
           0.14201708137989044,
           -0.07017171382904053,
           0.10715988278388977,
           0.06299260258674622,
           -0.02333374135196209,
           -0.04509473219513893,
           -0.0344284288585186,
           -0.04793446511030197,
           -0.1111273318529129,
           -0.06913252919912338,
           -0.03844952583312988,
           -0.008350251242518425,
           -0.032764457166194916,
           -0.08053240180015564,
           -0.027118943631649017,
           -0.0005513987271115184,
           0.026404814794659615,
           -0.0056013199500739574,
           0.08811026066541672,
           -0.009334301576018333,
           0.043416451662778854,
           -0.00027681319625116885,
           -0.05606912821531296,
           -0.040223684161901474,
           -0.09332428872585297,
           0.14202794432640076,
           -0.06850370019674301,
           -0.1809873878955841,
           0.047868821769952774,
           0.06097819656133652,
           0.047523800283670425,
           0.026843778789043427,
           -0.02086745575070381,
           0.028524570167064667
          ],
          [
           -0.08892672508955002,
           0.014609490521252155,
           -0.0406215526163578,
           -0.0038188109174370766,
           0.10535205155611038,
           0.012248736806213856,
           -0.04272421821951866,
           -0.060140471905469894,
           0.04378927871584892,
           -0.02860582061111927,
           0.003590074134990573,
           -0.036464910954236984,
           -0.13026602566242218,
           0.016700657084584236,
           -0.13506759703159332,
           -0.051209501922130585,
           0.09834671765565872,
           -0.09255454689264297,
           0.06406635046005249,
           0.036152299493551254,
           0.03269873932003975,
           -0.18341080844402313,
           -0.09251128882169724,
           -0.06510047614574432,
           0.01720227487385273,
           -0.011889970861375332,
           0.08922133594751358,
           -0.03837629780173302,
           0.07942607253789902,
           0.0434047132730484,
           0.07880408316850662,
           -0.03623133525252342,
           -0.11589514464139938,
           -0.015295218676328659,
           -0.10123781114816666,
           0.07376297563314438,
           -0.045559369027614594,
           -0.050163254141807556,
           -0.0028797918930649757,
           0.12049546837806702,
           0.1319788247346878,
           -0.08656910061836243,
           0.07405690103769302,
           0.12061626464128494,
           -0.15003080666065216,
           -0.02591049112379551,
           -0.07228843867778778,
           0.003334406530484557,
           0.12497765570878983,
           0.18438687920570374,
           0.028613461181521416,
           0.03124398924410343,
           0.021881025284528732,
           -0.017532523721456528,
           0.026637056842446327,
           -0.03241180628538132,
           0.025758927688002586,
           0.04151847958564758,
           0.07151705771684647,
           0.0026699684094637632,
           0.04050266370177269,
           -0.0396856851875782,
           -0.004950810223817825,
           0.037112899124622345,
           -0.04579649120569229,
           -0.06618187576532364,
           0.016830749809741974,
           -0.044343430548906326,
           -0.13148878514766693,
           -0.01862158812582493,
           -0.03673616051673889,
           0.1451956033706665,
           -0.03664274513721466,
           -0.09542879462242126,
           0.0578843429684639,
           0.0011703503550961614,
           -0.01805129647254944,
           -0.026370814070105553,
           -0.08410763740539551,
           -0.06896784156560898,
           0.001971539342775941,
           0.01562827080488205,
           0.05147656053304672,
           -0.019528385251760483,
           -0.059903424233198166,
           0.028483623638749123,
           0.05031090974807739,
           -0.07401420921087265,
           0.025226078927516937,
           -0.0835421085357666,
           0.019457776099443436,
           0.029020890593528748,
           0.04530198127031326,
           0.019746946170926094,
           0.11483225971460342,
           0.03466104716062546,
           -0.13645823299884796,
           0.1576852798461914,
           -0.06163707748055458,
           0.04898105189204216,
           -0.03899070993065834,
           -0.16380906105041504,
           0.09163900464773178,
           0.020020397379994392,
           -0.06675218045711517,
           0.12120897322893143,
           0.1054660901427269,
           -0.017141858115792274,
           0.0357949398458004,
           0.023818176239728928,
           0.04589807242155075,
           0.08065127581357956,
           -0.032043278217315674,
           0.02800753153860569,
           -0.04095638915896416,
           -0.026878774166107178,
           0.011237428523600101,
           0.005317004397511482,
           0.04790223017334938,
           -0.033669471740722656,
           -0.07284176349639893,
           -0.023369941860437393,
           0.044095590710639954,
           0.09252297133207321,
           0.004931050818413496,
           0.1005835011601448,
           0.028698625043034554,
           0.029633410274982452
          ],
          [
           -0.08950383216142654,
           0.004422245547175407,
           0.1338575780391693,
           0.028552556410431862,
           0.006825162097811699,
           -0.051820069551467896,
           -0.08106721937656403,
           0.0549534410238266,
           0.025739192962646484,
           0.019372904673218727,
           -0.09881356358528137,
           0.12122950702905655,
           -0.007415825966745615,
           -0.0051988777704536915,
           -0.059624139219522476,
           -0.05042427405714989,
           -0.03788743540644646,
           -0.052895717322826385,
           -0.01829221099615097,
           -0.15838682651519775,
           0.01041958574205637,
           0.08483611047267914,
           -0.0065970635041594505,
           -0.02524636872112751,
           -0.0622979961335659,
           -0.006980586796998978,
           -0.07020246237516403,
           7.386017841781722e-7,
           -0.03753795102238655,
           0.05435364320874214,
           0.0024259595666080713,
           -0.12763230502605438,
           0.1483854353427887,
           -0.11065322160720825,
           -0.0011364304227754474,
           -0.08638904243707657,
           -0.038049355149269104,
           0.0746431052684784,
           0.014083081856369972,
           -0.04806805029511452,
           -0.196077361702919,
           -0.05299205705523491,
           0.04026103764772415,
           -0.12675292789936066,
           0.05378985404968262,
           -0.012520115822553635,
           0.00017496534564998,
           0.07039571553468704,
           0.0019800476729869843,
           0.051569439470767975,
           0.022069260478019714,
           0.19736982882022858,
           0.033242370933294296,
           -0.021596025675535202,
           -0.010874801315367222,
           0.10695915669202805,
           -0.008465487509965897,
           -0.024164337664842606,
           0.09102585166692734,
           -0.04926929995417595,
           -0.08128206431865692,
           0.21709300577640533,
           0.09747320413589478,
           0.06772755086421967,
           0.02820354327559471,
           0.03125546872615814,
           0.11167000979185104,
           0.08110226690769196,
           -0.004957578610628843,
           0.10306555032730103,
           -0.03824235126376152,
           -0.06027720496058464,
           -0.10449983179569244,
           0.006647197529673576,
           -0.03227702155709267,
           -0.0479319803416729,
           -0.012523742392659187,
           0.0321759395301342,
           0.06849312037229538,
           0.09768614172935486,
           0.06070894002914429,
           0.0025746955070644617,
           0.059055011719465256,
           0.14423708617687225,
           0.053053341805934906,
           0.012298233807086945,
           0.013106594793498516,
           0.02581900544464588,
           -0.0013317257398739457,
           0.11539671570062637,
           -0.08578180521726608,
           0.025869224220514297,
           0.0204328503459692,
           -0.10663869976997375,
           -0.1061587706208229,
           -0.0084912721067667,
           0.017352493479847908,
           -0.008719884790480137,
           0.07590068131685257,
           0.0835658386349678,
           0.019673092290759087,
           0.059781890362501144,
           -0.04319194704294205,
           -0.0911329835653305,
           0.014415504410862923,
           0.04509752616286278,
           -0.08857706189155579,
           0.13791728019714355,
           0.12471097707748413,
           -0.06477663666009903,
           -0.08363805711269379,
           -0.15462200343608856,
           0.0019687681924551725,
           -0.06828751415014267,
           -0.11365246772766113,
           0.007639044430106878,
           0.08416412770748138,
           0.02474052831530571,
           -0.023039143532514572,
           0.20216479897499084,
           0.0598788745701313,
           0.048954688012599945,
           0.13206727802753448,
           0.03927548602223396,
           0.008023465983569622,
           -0.11902516335248947,
           -0.0407833606004715,
           0.045827191323041916
          ],
          [
           0.0242234505712986,
           -0.20682398974895477,
           -0.10209502279758453,
           -0.09614646434783936,
           -0.03957454115152359,
           -0.012872294522821903,
           -0.047335632145404816,
           -0.02754686027765274,
           0.03814167529344559,
           -0.05153166502714157,
           -0.0267891027033329,
           0.04148368909955025,
           -0.021255437284708023,
           0.05930609628558159,
           -0.05990961194038391,
           -0.07333383709192276,
           0.007742550224065781,
           0.016887245699763298,
           0.04524282366037369,
           0.10362176597118378,
           0.007712105754762888,
           -0.16659224033355713,
           0.039084989577531815,
           0.1340455710887909,
           -0.05850303918123245,
           0.00596635090187192,
           -0.11136339604854584,
           0.02223353087902069,
           0.05487045273184776,
           0.09498720616102219,
           0.04724113643169403,
           -0.01245492696762085,
           0.063256174325943,
           0.039572231471538544,
           -0.009309914894402027,
           -0.10781589150428772,
           -0.053264059126377106,
           -0.013292520307004452,
           0.024287447333335876,
           -0.08523299545049667,
           -0.02419382706284523,
           0.10729338973760605,
           0.02261398918926716,
           -0.06811431050300598,
           -0.045999132096767426,
           -0.04207523539662361,
           -0.09855230152606964,
           0.07551637291908264,
           -0.062364790588617325,
           -0.14087949693202972,
           0.019170591607689857,
           0.026070697233080864,
           0.004540267400443554,
           -0.06933057308197021,
           0.010295255109667778,
           -0.055390194058418274,
           0.09393537789583206,
           -0.03175211325287819,
           -0.06567765027284622,
           0.13239461183547974,
           -0.11983475834131241,
           0.15360665321350098,
           -0.058140866458415985,
           -0.0010181766701862216,
           -0.007344777695834637,
           0.040154218673706055,
           0.02881915681064129,
           0.11578918248414993,
           -0.01239065919071436,
           -0.030316656455397606,
           -0.0848463922739029,
           -0.03158342465758324,
           -0.025746120139956474,
           0.00932573527097702,
           0.028257016092538834,
           0.03410794213414192,
           0.024345826357603073,
           0.06460300832986832,
           -0.048117078840732574,
           0.02538909949362278,
           0.06368943303823471,
           -0.06493611633777618,
           0.10233213007450104,
           0.05776803568005562,
           -0.019955657422542572,
           0.07473458349704742,
           0.04865251109004021,
           -0.009882311336696148,
           -0.08967193961143494,
           -0.1585812121629715,
           -0.028454115614295006,
           -0.0010023749200627208,
           -0.014410397969186306,
           0.07745148986577988,
           -0.027939490973949432,
           0.11395391821861267,
           -0.03704805299639702,
           -0.14578352868556976,
           -0.12014009803533554,
           -0.05125530809164047,
           0.025263894349336624,
           -0.02425258234143257,
           0.04293123260140419,
           -0.179425910115242,
           -0.05077913776040077,
           -0.031178874894976616,
           0.08326641470193863,
           0.08937195688486099,
           -0.08681964129209518,
           -0.008801682852208614,
           -0.07084532082080841,
           0.10877887904644012,
           0.1053479015827179,
           -0.09080135822296143,
           -0.0928254947066307,
           -0.08459550887346268,
           -0.10478131473064423,
           -0.17885369062423706,
           0.0987834706902504,
           -0.03524443879723549,
           0.04444890096783638,
           -0.06581466645002365,
           -0.008318454027175903,
           0.09528849273920059,
           0.07351889461278915,
           -0.018507175147533417,
           -0.10796552151441574,
           -0.05885406211018562
          ],
          [
           -0.059588342905044556,
           -0.029661687090992928,
           0.06107595935463905,
           -0.06296626478433609,
           -0.1674289107322693,
           0.019803892821073532,
           0.12720467150211334,
           0.08035964518785477,
           -0.032052382826805115,
           -0.05519701912999153,
           0.010224439203739166,
           -0.021591514348983765,
           0.03537045791745186,
           0.1275988221168518,
           0.10218431800603867,
           -0.023926377296447754,
           0.12413053959608078,
           -0.08098607510328293,
           0.07038343697786331,
           -0.06409652531147003,
           0.08233784884214401,
           -0.07053493708372116,
           -0.04573647305369377,
           0.020391101017594337,
           0.07550572603940964,
           -0.09381737560033798,
           0.1889662742614746,
           -0.0032349906396120787,
           -0.009092164225876331,
           0.09669864177703857,
           0.07115095853805542,
           -0.05918899178504944,
           -0.0021760740783065557,
           -0.028918517753481865,
           -0.14811912178993225,
           -0.04026217386126518,
           0.03829405456781387,
           -0.026920316740870476,
           -0.014382448978722095,
           -0.026895945891737938,
           0.04981587454676628,
           -0.08061344921588898,
           -0.09910983592271805,
           0.059926752001047134,
           0.019161630421876907,
           0.03778037428855896,
           0.06658565998077393,
           0.056583765894174576,
           0.00954948179423809,
           0.0017060316167771816,
           0.004629059229046106,
           0.032269760966300964,
           0.010379714891314507,
           -0.04168371856212616,
           0.03953377157449722,
           -0.05879884585738182,
           -0.007175247184932232,
           -0.08786531537771225,
           -0.033361759036779404,
           -0.006717885844409466,
           0.01084153912961483,
           0.11161673069000244,
           -0.01722470112144947,
           -0.025138944387435913,
           -0.035210542380809784,
           -0.04126106575131416,
           -0.004749164450913668,
           -0.025499144569039345,
           -0.04088345170021057,
           -0.05834399536252022,
           0.08900067210197449,
           -0.05974150076508522,
           -0.020780470222234726,
           0.06352048367261887,
           -0.022518783807754517,
           -0.06088069826364517,
           -0.0461769737303257,
           0.1517893522977829,
           -0.046230755746364594,
           0.03156489506363869,
           0.06521331518888474,
           -0.1263023316860199,
           0.08196260035037994,
           -0.1890333741903305,
           -0.03119141235947609,
           -0.05946289747953415,
           -0.1183222159743309,
           -0.028049394488334656,
           0.008599560707807541,
           0.05229359492659569,
           0.12854941189289093,
           -0.13169744610786438,
           -0.10210616141557693,
           0.049822576344013214,
           0.024169426411390305,
           -0.15382105112075806,
           -0.02011551335453987,
           -0.011928391642868519,
           0.006513437256217003,
           -0.032949574291706085,
           0.014226295053958893,
           -0.0046805511228740215,
           -0.04501227289438248,
           -0.015105864964425564,
           -0.06544013321399689,
           0.022128982469439507,
           0.14218741655349731,
           -0.03183137625455856,
           0.08045963943004608,
           0.09649883210659027,
           0.057582464069128036,
           0.017751460894942284,
           0.026312392204999924,
           -0.03254356235265732,
           0.028243759647011757,
           0.012542465701699257,
           0.044868990778923035,
           -0.036881547421216965,
           0.0859815776348114,
           0.05296213552355766,
           0.05297711864113808,
           -0.06067822501063347,
           -0.09013666212558746,
           -0.028009122237563133,
           0.009696968831121922,
           0.08365637809038162,
           0.03598886728286743,
           0.12143036723136902
          ],
          [
           -0.08630690723657608,
           0.0664428323507309,
           -0.10684556514024734,
           0.04663025215268135,
           -0.007229704409837723,
           0.002284033689647913,
           -0.12039817124605179,
           -0.05477500334382057,
           0.08167391270399094,
           0.029098739847540855,
           -0.005510081071406603,
           0.0023424767423421144,
           -0.09464208781719208,
           0.05088769271969795,
           0.0004971177550032735,
           0.014882932417094707,
           -0.023744894191622734,
           -0.007700375281274319,
           0.0905146598815918,
           -0.09170877933502197,
           0.025042925029993057,
           -0.012016200460493565,
           0.09066008776426315,
           -0.10799136012792587,
           -0.0010195882059633732,
           0.1544570028781891,
           -0.01633213832974434,
           0.048204079270362854,
           0.054413411766290665,
           0.053977880626916885,
           -0.004699620418250561,
           -0.0038975398056209087,
           0.04453470557928085,
           0.01048337947577238,
           0.018060652539134026,
           0.008196582086384296,
           0.026083171367645264,
           0.0892024114727974,
           0.0966230183839798,
           0.07128880172967911,
           0.061988260596990585,
           -0.057370852679014206,
           0.062764972448349,
           -0.01594620943069458,
           -0.030715346336364746,
           -0.07934784144163132,
           -0.12680265307426453,
           -0.17259511351585388,
           0.002642611972987652,
           -0.06653283536434174,
           0.02169019728899002,
           0.1010807678103447,
           -0.06872133165597916,
           0.03984535112977028,
           0.03347035124897957,
           0.015049372799694538,
           0.08967627584934235,
           0.08914367854595184,
           0.05391404777765274,
           0.03577316924929619,
           -0.0206314604729414,
           -0.07170291990041733,
           -0.01491057500243187,
           -0.06113634258508682,
           0.011677484959363937,
           0.00010687849862733856,
           -0.02829436957836151,
           0.05805549770593643,
           0.0048585752956569195,
           0.015190090984106064,
           0.08528122305870056,
           0.09225093573331833,
           0.04729750379920006,
           0.001960504800081253,
           -0.10369700938463211,
           -0.10824139416217804,
           0.022238582372665405,
           -0.09677281230688095,
           0.13271602988243103,
           -0.000028373373424983583,
           -0.017449023202061653,
           0.10144374519586563,
           -0.0625583678483963,
           -0.05448776111006737,
           -0.025179989635944366,
           0.07227855920791626,
           0.02243175357580185,
           -0.016266800463199615,
           0.06303076446056366,
           -0.0715399906039238,
           0.05955673009157181,
           -0.08426836133003235,
           0.06723503768444061,
           -0.07623936980962753,
           -0.05092596262693405,
           -0.012976530008018017,
           -0.004956072196364403,
           -0.01329772174358368,
           0.09316959977149963,
           0.04727156087756157,
           -0.12900517880916595,
           0.021439965814352036,
           0.11455611139535904,
           -0.0711326003074646,
           -0.05888467654585838,
           -0.032788876444101334,
           0.021599166095256805,
           0.0032253246754407883,
           0.07484011352062225,
           0.004327269736677408,
           -0.0004768334038089961,
           0.24254603683948517,
           -0.07630326598882675,
           -0.029122475534677505,
           -0.002808670047670603,
           0.03605673834681511,
           0.004922425840049982,
           -0.06803972274065018,
           0.08131289482116699,
           0.030186546966433525,
           -0.01497900765389204,
           0.1808166801929474,
           0.04930049926042557,
           0.02390691079199314,
           -0.1022389605641365,
           -0.0389026440680027,
           0.03497711196541786,
           -0.01797540858387947
          ],
          [
           -0.0995478704571724,
           -0.0056646899320185184,
           0.03672800958156586,
           0.08279435336589813,
           0.15400643646717072,
           0.12580829858779907,
           0.018266331404447556,
           -0.1721150130033493,
           -0.024731064215302467,
           -0.09461484849452972,
           -0.03103564865887165,
           -0.04136698320508003,
           0.12778474390506744,
           -0.051804348826408386,
           0.028948722407221794,
           -0.04130179062485695,
           0.007504820358008146,
           -0.021687593311071396,
           0.061110127717256546,
           -0.07536809891462326,
           -0.07162949442863464,
           -0.07028060406446457,
           0.2056455910205841,
           0.1024126335978508,
           -0.03970066457986832,
           -0.0669245719909668,
           -0.052465423941612244,
           0.011004174128174782,
           -0.018274374306201935,
           -0.0530439056456089,
           0.08736130595207214,
           0.07170945405960083,
           0.07164665311574936,
           0.04487580433487892,
           0.062004733830690384,
           0.057578638195991516,
           0.01395621057599783,
           -0.04502575099468231,
           -0.06200098991394043,
           -0.1096709668636322,
           -0.05573299899697304,
           0.04019460454583168,
           0.05389853194355965,
           0.03937552124261856,
           0.09180811047554016,
           0.12417721003293991,
           0.014940633438527584,
           0.10507738590240479,
           0.03949279710650444,
           0.024688435718417168,
           0.0599885918200016,
           0.14393045008182526,
           0.026672685518860817,
           0.03424861282110214,
           -0.002149516949430108,
           0.07725296914577484,
           -0.03580797091126442,
           -0.059691909700632095,
           -0.015658069401979446,
           0.1608378142118454,
           -0.055383604019880295,
           -0.018935127183794975,
           0.11090635508298874,
           -0.02004747837781906,
           -0.006790684070438147,
           0.07526686042547226,
           0.10527580231428146,
           0.062406495213508606,
           -0.01685757003724575,
           0.03866979479789734,
           -0.004283667076379061,
           -0.03751128539443016,
           -0.14399316906929016,
           0.03710104897618294,
           -0.049287132918834686,
           -0.006217697635293007,
           -0.019396871328353882,
           0.09137875586748123,
           -0.10224053263664246,
           -0.022250305861234665,
           0.007962033152580261,
           -0.10379745811223984,
           -0.12139728665351868,
           -0.0389082096517086,
           0.03783578425645828,
           -0.09469690173864365,
           0.08738196641206741,
           -0.14404167234897614,
           0.10020731389522552,
           0.011927161365747452,
           -0.08075875043869019,
           0.04291883856058121,
           -0.0589149035513401,
           -0.03388529270887375,
           0.02120225317776203,
           0.05100908875465393,
           -0.04373079910874367,
           0.03858416900038719,
           -0.054385919123888016,
           0.005609920714050531,
           -0.053631704300642014,
           0.06660877913236618,
           0.030687768012285233,
           0.07943832129240036,
           0.03576246276497841,
           -0.08040495216846466,
           -0.053611576557159424,
           0.0029898888897150755,
           -0.04879680648446083,
           -0.03975027799606323,
           0.05835721641778946,
           0.16039642691612244,
           -0.12538932263851166,
           -0.0700550228357315,
           0.04489148408174515,
           0.07239703834056854,
           0.06770367175340652,
           0.0013526645489037037,
           -0.07566258311271667,
           -0.053166747093200684,
           0.17253896594047546,
           -0.135259747505188,
           0.02197447419166565,
           -0.10438759624958038,
           -0.033820487558841705,
           -0.008292894810438156,
           -0.04458367079496384,
           -0.08948183804750443
          ],
          [
           -0.018345722928643227,
           -0.018703632056713104,
           0.08145071566104889,
           0.0117443623021245,
           0.03585253283381462,
           -0.06600960344076157,
           0.07946033030748367,
           0.02366063930094242,
           -0.03917117416858673,
           -0.06291096657514572,
           -0.01251752208918333,
           -0.050487518310546875,
           -0.009960589930415154,
           0.11631433665752411,
           -0.11075684428215027,
           -0.012979011051356792,
           0.004937630612403154,
           0.005989684257656336,
           0.042192697525024414,
           0.07026656717061996,
           -0.055496696382761,
           -0.08600106090307236,
           -0.04403691366314888,
           0.09315285086631775,
           0.019553791731595993,
           -0.03344804793596268,
           -0.08042445778846741,
           0.10177373886108398,
           -0.009295571595430374,
           -0.0015620101476088166,
           -0.06898318976163864,
           -0.02253807708621025,
           0.055832717567682266,
           -0.06517040729522705,
           -0.16714085638523102,
           -0.054218899458646774,
           0.05865400284528732,
           0.08370623737573624,
           -0.004053351003676653,
           0.07810301333665848,
           0.08896053582429886,
           -0.022306859493255615,
           -0.05223643034696579,
           -0.02118929848074913,
           0.0337250791490078,
           0.012948674149811268,
           -0.03840254992246628,
           -0.036560095846652985,
           0.0022871801629662514,
           -0.10131488740444183,
           0.03827856108546257,
           -0.03219018876552582,
           -0.13360850512981415,
           -0.0023119724355638027,
           -0.03692522644996643,
           -0.08465754985809326,
           -0.02708573266863823,
           -0.0001765643246471882,
           -0.002257152460515499,
           0.0843496024608612,
           0.12412184476852417,
           0.14392781257629395,
           -0.019106196239590645,
           -0.09669052064418793,
           -0.03577256575226784,
           -0.0507420152425766,
           0.03307073190808296,
           -0.10379107296466827,
           0.010210519656538963,
           0.04360504820942879,
           -0.07582025974988937,
           -0.03376585245132446,
           -0.07672534883022308,
           -0.007519640494138002,
           -0.048238448798656464,
           0.025860736146569252,
           0.022430509328842163,
           -0.05873292684555054,
           -0.030178477987647057,
           0.04733899608254433,
           0.03889153525233269,
           0.08706950396299362,
           -0.01560026966035366,
           0.10049926489591599,
           -0.058909136801958084,
           0.028351930901408195,
           -0.018047695979475975,
           -0.0182644035667181,
           -0.023017605766654015,
           -0.0486726351082325,
           -0.0007798903970979154,
           -0.019674092531204224,
           0.10338453203439713,
           0.002809233032166958,
           -0.04421786218881607,
           -0.035190608352422714,
           0.20365072786808014,
           -0.08014968037605286,
           0.13806472718715668,
           -0.07773662358522415,
           -0.11263510584831238,
           0.011068516410887241,
           -0.06693178415298462,
           -0.023381782695651054,
           -0.06963837146759033,
           0.01691543124616146,
           0.04820181801915169,
           -0.09571249037981033,
           0.07978958636522293,
           0.0026389239355921745,
           0.14477023482322693,
           -0.009064449928700924,
           -0.08587291091680527,
           0.06233739107847214,
           -0.014251536689698696,
           -0.09051413834095001,
           0.04348205775022507,
           -0.024163659662008286,
           -0.036549851298332214,
           -0.030645381659269333,
           0.11995474994182587,
           0.014551276341080666,
           0.11940882354974747,
           -0.01146596111357212,
           0.07941172271966934,
           0.08670013397932053,
           0.02068684995174408,
           0.010442090220749378
          ]
         ]
        }
       ],
       "layout": {
        "coloraxis": {
         "colorscale": [
          [
           0,
           "rgb(247,251,255)"
          ],
          [
           0.125,
           "rgb(222,235,247)"
          ],
          [
           0.25,
           "rgb(198,219,239)"
          ],
          [
           0.375,
           "rgb(158,202,225)"
          ],
          [
           0.5,
           "rgb(107,174,214)"
          ],
          [
           0.625,
           "rgb(66,146,198)"
          ],
          [
           0.75,
           "rgb(33,113,181)"
          ],
          [
           0.875,
           "rgb(8,81,156)"
          ],
          [
           1,
           "rgb(8,48,107)"
          ]
         ]
        },
        "margin": {
         "t": 60
        },
        "template": {
         "data": {
          "bar": [
           {
            "error_x": {
             "color": "#2a3f5f"
            },
            "error_y": {
             "color": "#2a3f5f"
            },
            "marker": {
             "line": {
              "color": "#E5ECF6",
              "width": 0.5
             },
             "pattern": {
              "fillmode": "overlay",
              "size": 10,
              "solidity": 0.2
             }
            },
            "type": "bar"
           }
          ],
          "barpolar": [
           {
            "marker": {
             "line": {
              "color": "#E5ECF6",
              "width": 0.5
             },
             "pattern": {
              "fillmode": "overlay",
              "size": 10,
              "solidity": 0.2
             }
            },
            "type": "barpolar"
           }
          ],
          "carpet": [
           {
            "aaxis": {
             "endlinecolor": "#2a3f5f",
             "gridcolor": "white",
             "linecolor": "white",
             "minorgridcolor": "white",
             "startlinecolor": "#2a3f5f"
            },
            "baxis": {
             "endlinecolor": "#2a3f5f",
             "gridcolor": "white",
             "linecolor": "white",
             "minorgridcolor": "white",
             "startlinecolor": "#2a3f5f"
            },
            "type": "carpet"
           }
          ],
          "choropleth": [
           {
            "colorbar": {
             "outlinewidth": 0,
             "ticks": ""
            },
            "type": "choropleth"
           }
          ],
          "contour": [
           {
            "colorbar": {
             "outlinewidth": 0,
             "ticks": ""
            },
            "colorscale": [
             [
              0,
              "#0d0887"
             ],
             [
              0.1111111111111111,
              "#46039f"
             ],
             [
              0.2222222222222222,
              "#7201a8"
             ],
             [
              0.3333333333333333,
              "#9c179e"
             ],
             [
              0.4444444444444444,
              "#bd3786"
             ],
             [
              0.5555555555555556,
              "#d8576b"
             ],
             [
              0.6666666666666666,
              "#ed7953"
             ],
             [
              0.7777777777777778,
              "#fb9f3a"
             ],
             [
              0.8888888888888888,
              "#fdca26"
             ],
             [
              1,
              "#f0f921"
             ]
            ],
            "type": "contour"
           }
          ],
          "contourcarpet": [
           {
            "colorbar": {
             "outlinewidth": 0,
             "ticks": ""
            },
            "type": "contourcarpet"
           }
          ],
          "heatmap": [
           {
            "colorbar": {
             "outlinewidth": 0,
             "ticks": ""
            },
            "colorscale": [
             [
              0,
              "#0d0887"
             ],
             [
              0.1111111111111111,
              "#46039f"
             ],
             [
              0.2222222222222222,
              "#7201a8"
             ],
             [
              0.3333333333333333,
              "#9c179e"
             ],
             [
              0.4444444444444444,
              "#bd3786"
             ],
             [
              0.5555555555555556,
              "#d8576b"
             ],
             [
              0.6666666666666666,
              "#ed7953"
             ],
             [
              0.7777777777777778,
              "#fb9f3a"
             ],
             [
              0.8888888888888888,
              "#fdca26"
             ],
             [
              1,
              "#f0f921"
             ]
            ],
            "type": "heatmap"
           }
          ],
          "heatmapgl": [
           {
            "colorbar": {
             "outlinewidth": 0,
             "ticks": ""
            },
            "colorscale": [
             [
              0,
              "#0d0887"
             ],
             [
              0.1111111111111111,
              "#46039f"
             ],
             [
              0.2222222222222222,
              "#7201a8"
             ],
             [
              0.3333333333333333,
              "#9c179e"
             ],
             [
              0.4444444444444444,
              "#bd3786"
             ],
             [
              0.5555555555555556,
              "#d8576b"
             ],
             [
              0.6666666666666666,
              "#ed7953"
             ],
             [
              0.7777777777777778,
              "#fb9f3a"
             ],
             [
              0.8888888888888888,
              "#fdca26"
             ],
             [
              1,
              "#f0f921"
             ]
            ],
            "type": "heatmapgl"
           }
          ],
          "histogram": [
           {
            "marker": {
             "pattern": {
              "fillmode": "overlay",
              "size": 10,
              "solidity": 0.2
             }
            },
            "type": "histogram"
           }
          ],
          "histogram2d": [
           {
            "colorbar": {
             "outlinewidth": 0,
             "ticks": ""
            },
            "colorscale": [
             [
              0,
              "#0d0887"
             ],
             [
              0.1111111111111111,
              "#46039f"
             ],
             [
              0.2222222222222222,
              "#7201a8"
             ],
             [
              0.3333333333333333,
              "#9c179e"
             ],
             [
              0.4444444444444444,
              "#bd3786"
             ],
             [
              0.5555555555555556,
              "#d8576b"
             ],
             [
              0.6666666666666666,
              "#ed7953"
             ],
             [
              0.7777777777777778,
              "#fb9f3a"
             ],
             [
              0.8888888888888888,
              "#fdca26"
             ],
             [
              1,
              "#f0f921"
             ]
            ],
            "type": "histogram2d"
           }
          ],
          "histogram2dcontour": [
           {
            "colorbar": {
             "outlinewidth": 0,
             "ticks": ""
            },
            "colorscale": [
             [
              0,
              "#0d0887"
             ],
             [
              0.1111111111111111,
              "#46039f"
             ],
             [
              0.2222222222222222,
              "#7201a8"
             ],
             [
              0.3333333333333333,
              "#9c179e"
             ],
             [
              0.4444444444444444,
              "#bd3786"
             ],
             [
              0.5555555555555556,
              "#d8576b"
             ],
             [
              0.6666666666666666,
              "#ed7953"
             ],
             [
              0.7777777777777778,
              "#fb9f3a"
             ],
             [
              0.8888888888888888,
              "#fdca26"
             ],
             [
              1,
              "#f0f921"
             ]
            ],
            "type": "histogram2dcontour"
           }
          ],
          "mesh3d": [
           {
            "colorbar": {
             "outlinewidth": 0,
             "ticks": ""
            },
            "type": "mesh3d"
           }
          ],
          "parcoords": [
           {
            "line": {
             "colorbar": {
              "outlinewidth": 0,
              "ticks": ""
             }
            },
            "type": "parcoords"
           }
          ],
          "pie": [
           {
            "automargin": true,
            "type": "pie"
           }
          ],
          "scatter": [
           {
            "fillpattern": {
             "fillmode": "overlay",
             "size": 10,
             "solidity": 0.2
            },
            "type": "scatter"
           }
          ],
          "scatter3d": [
           {
            "line": {
             "colorbar": {
              "outlinewidth": 0,
              "ticks": ""
             }
            },
            "marker": {
             "colorbar": {
              "outlinewidth": 0,
              "ticks": ""
             }
            },
            "type": "scatter3d"
           }
          ],
          "scattercarpet": [
           {
            "marker": {
             "colorbar": {
              "outlinewidth": 0,
              "ticks": ""
             }
            },
            "type": "scattercarpet"
           }
          ],
          "scattergeo": [
           {
            "marker": {
             "colorbar": {
              "outlinewidth": 0,
              "ticks": ""
             }
            },
            "type": "scattergeo"
           }
          ],
          "scattergl": [
           {
            "marker": {
             "colorbar": {
              "outlinewidth": 0,
              "ticks": ""
             }
            },
            "type": "scattergl"
           }
          ],
          "scattermapbox": [
           {
            "marker": {
             "colorbar": {
              "outlinewidth": 0,
              "ticks": ""
             }
            },
            "type": "scattermapbox"
           }
          ],
          "scatterpolar": [
           {
            "marker": {
             "colorbar": {
              "outlinewidth": 0,
              "ticks": ""
             }
            },
            "type": "scatterpolar"
           }
          ],
          "scatterpolargl": [
           {
            "marker": {
             "colorbar": {
              "outlinewidth": 0,
              "ticks": ""
             }
            },
            "type": "scatterpolargl"
           }
          ],
          "scatterternary": [
           {
            "marker": {
             "colorbar": {
              "outlinewidth": 0,
              "ticks": ""
             }
            },
            "type": "scatterternary"
           }
          ],
          "surface": [
           {
            "colorbar": {
             "outlinewidth": 0,
             "ticks": ""
            },
            "colorscale": [
             [
              0,
              "#0d0887"
             ],
             [
              0.1111111111111111,
              "#46039f"
             ],
             [
              0.2222222222222222,
              "#7201a8"
             ],
             [
              0.3333333333333333,
              "#9c179e"
             ],
             [
              0.4444444444444444,
              "#bd3786"
             ],
             [
              0.5555555555555556,
              "#d8576b"
             ],
             [
              0.6666666666666666,
              "#ed7953"
             ],
             [
              0.7777777777777778,
              "#fb9f3a"
             ],
             [
              0.8888888888888888,
              "#fdca26"
             ],
             [
              1,
              "#f0f921"
             ]
            ],
            "type": "surface"
           }
          ],
          "table": [
           {
            "cells": {
             "fill": {
              "color": "#EBF0F8"
             },
             "line": {
              "color": "white"
             }
            },
            "header": {
             "fill": {
              "color": "#C8D4E3"
             },
             "line": {
              "color": "white"
             }
            },
            "type": "table"
           }
          ]
         },
         "layout": {
          "annotationdefaults": {
           "arrowcolor": "#2a3f5f",
           "arrowhead": 0,
           "arrowwidth": 1
          },
          "autotypenumbers": "strict",
          "coloraxis": {
           "colorbar": {
            "outlinewidth": 0,
            "ticks": ""
           }
          },
          "colorscale": {
           "diverging": [
            [
             0,
             "#8e0152"
            ],
            [
             0.1,
             "#c51b7d"
            ],
            [
             0.2,
             "#de77ae"
            ],
            [
             0.3,
             "#f1b6da"
            ],
            [
             0.4,
             "#fde0ef"
            ],
            [
             0.5,
             "#f7f7f7"
            ],
            [
             0.6,
             "#e6f5d0"
            ],
            [
             0.7,
             "#b8e186"
            ],
            [
             0.8,
             "#7fbc41"
            ],
            [
             0.9,
             "#4d9221"
            ],
            [
             1,
             "#276419"
            ]
           ],
           "sequential": [
            [
             0,
             "#0d0887"
            ],
            [
             0.1111111111111111,
             "#46039f"
            ],
            [
             0.2222222222222222,
             "#7201a8"
            ],
            [
             0.3333333333333333,
             "#9c179e"
            ],
            [
             0.4444444444444444,
             "#bd3786"
            ],
            [
             0.5555555555555556,
             "#d8576b"
            ],
            [
             0.6666666666666666,
             "#ed7953"
            ],
            [
             0.7777777777777778,
             "#fb9f3a"
            ],
            [
             0.8888888888888888,
             "#fdca26"
            ],
            [
             1,
             "#f0f921"
            ]
           ],
           "sequentialminus": [
            [
             0,
             "#0d0887"
            ],
            [
             0.1111111111111111,
             "#46039f"
            ],
            [
             0.2222222222222222,
             "#7201a8"
            ],
            [
             0.3333333333333333,
             "#9c179e"
            ],
            [
             0.4444444444444444,
             "#bd3786"
            ],
            [
             0.5555555555555556,
             "#d8576b"
            ],
            [
             0.6666666666666666,
             "#ed7953"
            ],
            [
             0.7777777777777778,
             "#fb9f3a"
            ],
            [
             0.8888888888888888,
             "#fdca26"
            ],
            [
             1,
             "#f0f921"
            ]
           ]
          },
          "colorway": [
           "#636efa",
           "#EF553B",
           "#00cc96",
           "#ab63fa",
           "#FFA15A",
           "#19d3f3",
           "#FF6692",
           "#B6E880",
           "#FF97FF",
           "#FECB52"
          ],
          "font": {
           "color": "#2a3f5f"
          },
          "geo": {
           "bgcolor": "white",
           "lakecolor": "white",
           "landcolor": "#E5ECF6",
           "showlakes": true,
           "showland": true,
           "subunitcolor": "white"
          },
          "hoverlabel": {
           "align": "left"
          },
          "hovermode": "closest",
          "mapbox": {
           "style": "light"
          },
          "paper_bgcolor": "white",
          "plot_bgcolor": "#E5ECF6",
          "polar": {
           "angularaxis": {
            "gridcolor": "white",
            "linecolor": "white",
            "ticks": ""
           },
           "bgcolor": "#E5ECF6",
           "radialaxis": {
            "gridcolor": "white",
            "linecolor": "white",
            "ticks": ""
           }
          },
          "scene": {
           "xaxis": {
            "backgroundcolor": "#E5ECF6",
            "gridcolor": "white",
            "gridwidth": 2,
            "linecolor": "white",
            "showbackground": true,
            "ticks": "",
            "zerolinecolor": "white"
           },
           "yaxis": {
            "backgroundcolor": "#E5ECF6",
            "gridcolor": "white",
            "gridwidth": 2,
            "linecolor": "white",
            "showbackground": true,
            "ticks": "",
            "zerolinecolor": "white"
           },
           "zaxis": {
            "backgroundcolor": "#E5ECF6",
            "gridcolor": "white",
            "gridwidth": 2,
            "linecolor": "white",
            "showbackground": true,
            "ticks": "",
            "zerolinecolor": "white"
           }
          },
          "shapedefaults": {
           "line": {
            "color": "#2a3f5f"
           }
          },
          "ternary": {
           "aaxis": {
            "gridcolor": "white",
            "linecolor": "white",
            "ticks": ""
           },
           "baxis": {
            "gridcolor": "white",
            "linecolor": "white",
            "ticks": ""
           },
           "bgcolor": "#E5ECF6",
           "caxis": {
            "gridcolor": "white",
            "linecolor": "white",
            "ticks": ""
           }
          },
          "title": {
           "x": 0.05
          },
          "xaxis": {
           "automargin": true,
           "gridcolor": "white",
           "linecolor": "white",
           "ticks": "",
           "title": {
            "standoff": 15
           },
           "zerolinecolor": "white",
           "zerolinewidth": 2
          },
          "yaxis": {
           "automargin": true,
           "gridcolor": "white",
           "linecolor": "white",
           "ticks": "",
           "title": {
            "standoff": 15
           },
           "zerolinecolor": "white",
           "zerolinewidth": 2
          }
         }
        },
        "xaxis": {
         "anchor": "y",
         "domain": [
          0,
          1
         ]
        },
        "yaxis": {
         "anchor": "x",
         "autorange": "reversed",
         "domain": [
          0,
          1
         ]
        }
       }
      }
     },
     "metadata": {},
     "output_type": "display_data"
    }
   ],
   "source": [
    "imshow(model.embed.W_E)"
   ]
  },
  {
   "cell_type": "code",
   "execution_count": null,
   "metadata": {},
   "outputs": [
    {
     "name": "stdout",
     "output_type": "stream",
     "text": [
      "The embedding shape is torch.Size([11, 128]), so our vectors of length 128\n"
     ]
    }
   ],
   "source": [
    "# Take the dot product of all the embedding vectors\n",
    "emb = model.embed.W_E\n",
    "vec_count = emb.shape[0]\n",
    "vec_dim = emb.shape[1]\n",
    "print(f\"The embedding shape is {emb.shape}, so our vectors of length {emb.shape[1]}\")\n",
    "\n",
    "dot_products = einops.einsum(emb, emb, \"v2 embs, v1 emb -> v1 v2\")"
   ]
  },
  {
   "cell_type": "code",
   "execution_count": null,
   "metadata": {},
   "outputs": [
    {
     "name": "stdout",
     "output_type": "stream",
     "text": [
      "torch.Size([11, 11])\n"
     ]
    },
    {
     "data": {
      "application/vnd.plotly.v1+json": {
       "config": {
        "plotlyServerURL": "https://plot.ly"
       },
       "data": [
        {
         "coloraxis": "coloraxis",
         "hovertemplate": "x: %{x}<br>y: %{y}<br>color: %{z}<extra></extra>",
         "name": "0",
         "type": "heatmap",
         "xaxis": "x",
         "yaxis": "y",
         "z": [
          [
           0.49613872170448303,
           0.29348844289779663,
           0.1860346794128418,
           -0.27038267254829407,
           0.109434112906456,
           0.5187894701957703,
           -0.9739484190940857,
           0.05530465021729469,
           0.49624136090278625,
           0.30793097615242004,
           -0.1385946273803711
          ],
          [
           0.29348844289779663,
           0.17361165583133698,
           0.11004790663719177,
           -0.15994355082511902,
           0.06473521143198013,
           0.30688735842704773,
           -0.576134443283081,
           0.032715197652578354,
           0.29354915022850037,
           0.1821550577878952,
           -0.0819849744439125
          ],
          [
           0.1860346794128418,
           0.11004790663719177,
           0.06975650042295456,
           -0.10138405114412308,
           0.041033968329429626,
           0.19452790915966034,
           -0.3651966154575348,
           0.020737310871481895,
           0.1860731691122055,
           0.11546334624290466,
           -0.05196814239025116
          ],
          [
           -0.27038267254829407,
           -0.15994355082511902,
           -0.10138405114412308,
           0.14735151827335358,
           -0.05963874235749245,
           -0.2827267348766327,
           0.5307765007019043,
           -0.03013959340751171,
           -0.27043861150741577,
           -0.16781435906887054,
           0.07553046196699142
          ],
          [
           0.109434112906456,
           0.06473521143198013,
           0.041033968329429626,
           -0.05963874235749245,
           0.024138057604432106,
           0.11443021893501282,
           -0.2148253619670868,
           0.012198635376989841,
           0.10945675522089005,
           0.06792082637548447,
           -0.03057003952562809
          ],
          [
           0.5187894701957703,
           0.30688735842704773,
           0.19452790915966034,
           -0.2827267348766327,
           0.11443021893501282,
           0.5424742698669434,
           -1.0184130668640137,
           0.05782952904701233,
           0.518896758556366,
           0.3219892382621765,
           -0.14492203295230865
          ],
          [
           -0.9739484190940857,
           -0.576134443283081,
           -0.3651966154575348,
           0.5307765007019043,
           -0.2148253619670868,
           -1.0184130668640137,
           1.911915898323059,
           -0.10856616497039795,
           -0.9741499423980713,
           -0.6044859290122986,
           0.2720690965652466
          ],
          [
           0.05530465021729469,
           0.032715197652578354,
           0.020737310871481895,
           -0.03013959340751171,
           0.012198635376989841,
           0.05782952904701233,
           -0.10856616497039795,
           0.00616481713950634,
           0.05531609430909157,
           0.03432510793209076,
           -0.0154491625726223
          ],
          [
           0.49624136090278625,
           0.29354915022850037,
           0.1860731691122055,
           -0.27043861150741577,
           0.10945675522089005,
           0.518896758556366,
           -0.9741499423980713,
           0.05531609430909157,
           0.49634405970573425,
           0.30799466371536255,
           -0.13862329721450806
          ],
          [
           0.30793097615242004,
           0.1821550577878952,
           0.11546334624290466,
           -0.16781435906887054,
           0.06792082637548447,
           0.3219892382621765,
           -0.6044859290122986,
           0.03432510793209076,
           0.30799466371536255,
           0.19111888110637665,
           -0.08601944893598557
          ],
          [
           -0.1385946273803711,
           -0.0819849744439125,
           -0.05196814239025116,
           0.07553046196699142,
           -0.03057003952562809,
           -0.14492203295230865,
           0.2720690965652466,
           -0.0154491625726223,
           -0.13862329721450806,
           -0.08601944893598557,
           0.03871592879295349
          ]
         ]
        }
       ],
       "layout": {
        "coloraxis": {
         "cmid": 0,
         "colorscale": [
          [
           0,
           "rgb(103,0,31)"
          ],
          [
           0.1,
           "rgb(178,24,43)"
          ],
          [
           0.2,
           "rgb(214,96,77)"
          ],
          [
           0.3,
           "rgb(244,165,130)"
          ],
          [
           0.4,
           "rgb(253,219,199)"
          ],
          [
           0.5,
           "rgb(247,247,247)"
          ],
          [
           0.6,
           "rgb(209,229,240)"
          ],
          [
           0.7,
           "rgb(146,197,222)"
          ],
          [
           0.8,
           "rgb(67,147,195)"
          ],
          [
           0.9,
           "rgb(33,102,172)"
          ],
          [
           1,
           "rgb(5,48,97)"
          ]
         ]
        },
        "margin": {
         "t": 60
        },
        "template": {
         "data": {
          "bar": [
           {
            "error_x": {
             "color": "#2a3f5f"
            },
            "error_y": {
             "color": "#2a3f5f"
            },
            "marker": {
             "line": {
              "color": "#E5ECF6",
              "width": 0.5
             },
             "pattern": {
              "fillmode": "overlay",
              "size": 10,
              "solidity": 0.2
             }
            },
            "type": "bar"
           }
          ],
          "barpolar": [
           {
            "marker": {
             "line": {
              "color": "#E5ECF6",
              "width": 0.5
             },
             "pattern": {
              "fillmode": "overlay",
              "size": 10,
              "solidity": 0.2
             }
            },
            "type": "barpolar"
           }
          ],
          "carpet": [
           {
            "aaxis": {
             "endlinecolor": "#2a3f5f",
             "gridcolor": "white",
             "linecolor": "white",
             "minorgridcolor": "white",
             "startlinecolor": "#2a3f5f"
            },
            "baxis": {
             "endlinecolor": "#2a3f5f",
             "gridcolor": "white",
             "linecolor": "white",
             "minorgridcolor": "white",
             "startlinecolor": "#2a3f5f"
            },
            "type": "carpet"
           }
          ],
          "choropleth": [
           {
            "colorbar": {
             "outlinewidth": 0,
             "ticks": ""
            },
            "type": "choropleth"
           }
          ],
          "contour": [
           {
            "colorbar": {
             "outlinewidth": 0,
             "ticks": ""
            },
            "colorscale": [
             [
              0,
              "#0d0887"
             ],
             [
              0.1111111111111111,
              "#46039f"
             ],
             [
              0.2222222222222222,
              "#7201a8"
             ],
             [
              0.3333333333333333,
              "#9c179e"
             ],
             [
              0.4444444444444444,
              "#bd3786"
             ],
             [
              0.5555555555555556,
              "#d8576b"
             ],
             [
              0.6666666666666666,
              "#ed7953"
             ],
             [
              0.7777777777777778,
              "#fb9f3a"
             ],
             [
              0.8888888888888888,
              "#fdca26"
             ],
             [
              1,
              "#f0f921"
             ]
            ],
            "type": "contour"
           }
          ],
          "contourcarpet": [
           {
            "colorbar": {
             "outlinewidth": 0,
             "ticks": ""
            },
            "type": "contourcarpet"
           }
          ],
          "heatmap": [
           {
            "colorbar": {
             "outlinewidth": 0,
             "ticks": ""
            },
            "colorscale": [
             [
              0,
              "#0d0887"
             ],
             [
              0.1111111111111111,
              "#46039f"
             ],
             [
              0.2222222222222222,
              "#7201a8"
             ],
             [
              0.3333333333333333,
              "#9c179e"
             ],
             [
              0.4444444444444444,
              "#bd3786"
             ],
             [
              0.5555555555555556,
              "#d8576b"
             ],
             [
              0.6666666666666666,
              "#ed7953"
             ],
             [
              0.7777777777777778,
              "#fb9f3a"
             ],
             [
              0.8888888888888888,
              "#fdca26"
             ],
             [
              1,
              "#f0f921"
             ]
            ],
            "type": "heatmap"
           }
          ],
          "heatmapgl": [
           {
            "colorbar": {
             "outlinewidth": 0,
             "ticks": ""
            },
            "colorscale": [
             [
              0,
              "#0d0887"
             ],
             [
              0.1111111111111111,
              "#46039f"
             ],
             [
              0.2222222222222222,
              "#7201a8"
             ],
             [
              0.3333333333333333,
              "#9c179e"
             ],
             [
              0.4444444444444444,
              "#bd3786"
             ],
             [
              0.5555555555555556,
              "#d8576b"
             ],
             [
              0.6666666666666666,
              "#ed7953"
             ],
             [
              0.7777777777777778,
              "#fb9f3a"
             ],
             [
              0.8888888888888888,
              "#fdca26"
             ],
             [
              1,
              "#f0f921"
             ]
            ],
            "type": "heatmapgl"
           }
          ],
          "histogram": [
           {
            "marker": {
             "pattern": {
              "fillmode": "overlay",
              "size": 10,
              "solidity": 0.2
             }
            },
            "type": "histogram"
           }
          ],
          "histogram2d": [
           {
            "colorbar": {
             "outlinewidth": 0,
             "ticks": ""
            },
            "colorscale": [
             [
              0,
              "#0d0887"
             ],
             [
              0.1111111111111111,
              "#46039f"
             ],
             [
              0.2222222222222222,
              "#7201a8"
             ],
             [
              0.3333333333333333,
              "#9c179e"
             ],
             [
              0.4444444444444444,
              "#bd3786"
             ],
             [
              0.5555555555555556,
              "#d8576b"
             ],
             [
              0.6666666666666666,
              "#ed7953"
             ],
             [
              0.7777777777777778,
              "#fb9f3a"
             ],
             [
              0.8888888888888888,
              "#fdca26"
             ],
             [
              1,
              "#f0f921"
             ]
            ],
            "type": "histogram2d"
           }
          ],
          "histogram2dcontour": [
           {
            "colorbar": {
             "outlinewidth": 0,
             "ticks": ""
            },
            "colorscale": [
             [
              0,
              "#0d0887"
             ],
             [
              0.1111111111111111,
              "#46039f"
             ],
             [
              0.2222222222222222,
              "#7201a8"
             ],
             [
              0.3333333333333333,
              "#9c179e"
             ],
             [
              0.4444444444444444,
              "#bd3786"
             ],
             [
              0.5555555555555556,
              "#d8576b"
             ],
             [
              0.6666666666666666,
              "#ed7953"
             ],
             [
              0.7777777777777778,
              "#fb9f3a"
             ],
             [
              0.8888888888888888,
              "#fdca26"
             ],
             [
              1,
              "#f0f921"
             ]
            ],
            "type": "histogram2dcontour"
           }
          ],
          "mesh3d": [
           {
            "colorbar": {
             "outlinewidth": 0,
             "ticks": ""
            },
            "type": "mesh3d"
           }
          ],
          "parcoords": [
           {
            "line": {
             "colorbar": {
              "outlinewidth": 0,
              "ticks": ""
             }
            },
            "type": "parcoords"
           }
          ],
          "pie": [
           {
            "automargin": true,
            "type": "pie"
           }
          ],
          "scatter": [
           {
            "fillpattern": {
             "fillmode": "overlay",
             "size": 10,
             "solidity": 0.2
            },
            "type": "scatter"
           }
          ],
          "scatter3d": [
           {
            "line": {
             "colorbar": {
              "outlinewidth": 0,
              "ticks": ""
             }
            },
            "marker": {
             "colorbar": {
              "outlinewidth": 0,
              "ticks": ""
             }
            },
            "type": "scatter3d"
           }
          ],
          "scattercarpet": [
           {
            "marker": {
             "colorbar": {
              "outlinewidth": 0,
              "ticks": ""
             }
            },
            "type": "scattercarpet"
           }
          ],
          "scattergeo": [
           {
            "marker": {
             "colorbar": {
              "outlinewidth": 0,
              "ticks": ""
             }
            },
            "type": "scattergeo"
           }
          ],
          "scattergl": [
           {
            "marker": {
             "colorbar": {
              "outlinewidth": 0,
              "ticks": ""
             }
            },
            "type": "scattergl"
           }
          ],
          "scattermapbox": [
           {
            "marker": {
             "colorbar": {
              "outlinewidth": 0,
              "ticks": ""
             }
            },
            "type": "scattermapbox"
           }
          ],
          "scatterpolar": [
           {
            "marker": {
             "colorbar": {
              "outlinewidth": 0,
              "ticks": ""
             }
            },
            "type": "scatterpolar"
           }
          ],
          "scatterpolargl": [
           {
            "marker": {
             "colorbar": {
              "outlinewidth": 0,
              "ticks": ""
             }
            },
            "type": "scatterpolargl"
           }
          ],
          "scatterternary": [
           {
            "marker": {
             "colorbar": {
              "outlinewidth": 0,
              "ticks": ""
             }
            },
            "type": "scatterternary"
           }
          ],
          "surface": [
           {
            "colorbar": {
             "outlinewidth": 0,
             "ticks": ""
            },
            "colorscale": [
             [
              0,
              "#0d0887"
             ],
             [
              0.1111111111111111,
              "#46039f"
             ],
             [
              0.2222222222222222,
              "#7201a8"
             ],
             [
              0.3333333333333333,
              "#9c179e"
             ],
             [
              0.4444444444444444,
              "#bd3786"
             ],
             [
              0.5555555555555556,
              "#d8576b"
             ],
             [
              0.6666666666666666,
              "#ed7953"
             ],
             [
              0.7777777777777778,
              "#fb9f3a"
             ],
             [
              0.8888888888888888,
              "#fdca26"
             ],
             [
              1,
              "#f0f921"
             ]
            ],
            "type": "surface"
           }
          ],
          "table": [
           {
            "cells": {
             "fill": {
              "color": "#EBF0F8"
             },
             "line": {
              "color": "white"
             }
            },
            "header": {
             "fill": {
              "color": "#C8D4E3"
             },
             "line": {
              "color": "white"
             }
            },
            "type": "table"
           }
          ]
         },
         "layout": {
          "annotationdefaults": {
           "arrowcolor": "#2a3f5f",
           "arrowhead": 0,
           "arrowwidth": 1
          },
          "autotypenumbers": "strict",
          "coloraxis": {
           "colorbar": {
            "outlinewidth": 0,
            "ticks": ""
           }
          },
          "colorscale": {
           "diverging": [
            [
             0,
             "#8e0152"
            ],
            [
             0.1,
             "#c51b7d"
            ],
            [
             0.2,
             "#de77ae"
            ],
            [
             0.3,
             "#f1b6da"
            ],
            [
             0.4,
             "#fde0ef"
            ],
            [
             0.5,
             "#f7f7f7"
            ],
            [
             0.6,
             "#e6f5d0"
            ],
            [
             0.7,
             "#b8e186"
            ],
            [
             0.8,
             "#7fbc41"
            ],
            [
             0.9,
             "#4d9221"
            ],
            [
             1,
             "#276419"
            ]
           ],
           "sequential": [
            [
             0,
             "#0d0887"
            ],
            [
             0.1111111111111111,
             "#46039f"
            ],
            [
             0.2222222222222222,
             "#7201a8"
            ],
            [
             0.3333333333333333,
             "#9c179e"
            ],
            [
             0.4444444444444444,
             "#bd3786"
            ],
            [
             0.5555555555555556,
             "#d8576b"
            ],
            [
             0.6666666666666666,
             "#ed7953"
            ],
            [
             0.7777777777777778,
             "#fb9f3a"
            ],
            [
             0.8888888888888888,
             "#fdca26"
            ],
            [
             1,
             "#f0f921"
            ]
           ],
           "sequentialminus": [
            [
             0,
             "#0d0887"
            ],
            [
             0.1111111111111111,
             "#46039f"
            ],
            [
             0.2222222222222222,
             "#7201a8"
            ],
            [
             0.3333333333333333,
             "#9c179e"
            ],
            [
             0.4444444444444444,
             "#bd3786"
            ],
            [
             0.5555555555555556,
             "#d8576b"
            ],
            [
             0.6666666666666666,
             "#ed7953"
            ],
            [
             0.7777777777777778,
             "#fb9f3a"
            ],
            [
             0.8888888888888888,
             "#fdca26"
            ],
            [
             1,
             "#f0f921"
            ]
           ]
          },
          "colorway": [
           "#636efa",
           "#EF553B",
           "#00cc96",
           "#ab63fa",
           "#FFA15A",
           "#19d3f3",
           "#FF6692",
           "#B6E880",
           "#FF97FF",
           "#FECB52"
          ],
          "font": {
           "color": "#2a3f5f"
          },
          "geo": {
           "bgcolor": "white",
           "lakecolor": "white",
           "landcolor": "#E5ECF6",
           "showlakes": true,
           "showland": true,
           "subunitcolor": "white"
          },
          "hoverlabel": {
           "align": "left"
          },
          "hovermode": "closest",
          "mapbox": {
           "style": "light"
          },
          "paper_bgcolor": "white",
          "plot_bgcolor": "#E5ECF6",
          "polar": {
           "angularaxis": {
            "gridcolor": "white",
            "linecolor": "white",
            "ticks": ""
           },
           "bgcolor": "#E5ECF6",
           "radialaxis": {
            "gridcolor": "white",
            "linecolor": "white",
            "ticks": ""
           }
          },
          "scene": {
           "xaxis": {
            "backgroundcolor": "#E5ECF6",
            "gridcolor": "white",
            "gridwidth": 2,
            "linecolor": "white",
            "showbackground": true,
            "ticks": "",
            "zerolinecolor": "white"
           },
           "yaxis": {
            "backgroundcolor": "#E5ECF6",
            "gridcolor": "white",
            "gridwidth": 2,
            "linecolor": "white",
            "showbackground": true,
            "ticks": "",
            "zerolinecolor": "white"
           },
           "zaxis": {
            "backgroundcolor": "#E5ECF6",
            "gridcolor": "white",
            "gridwidth": 2,
            "linecolor": "white",
            "showbackground": true,
            "ticks": "",
            "zerolinecolor": "white"
           }
          },
          "shapedefaults": {
           "line": {
            "color": "#2a3f5f"
           }
          },
          "ternary": {
           "aaxis": {
            "gridcolor": "white",
            "linecolor": "white",
            "ticks": ""
           },
           "baxis": {
            "gridcolor": "white",
            "linecolor": "white",
            "ticks": ""
           },
           "bgcolor": "#E5ECF6",
           "caxis": {
            "gridcolor": "white",
            "linecolor": "white",
            "ticks": ""
           }
          },
          "title": {
           "x": 0.05
          },
          "xaxis": {
           "automargin": true,
           "gridcolor": "white",
           "linecolor": "white",
           "ticks": "",
           "title": {
            "standoff": 15
           },
           "zerolinecolor": "white",
           "zerolinewidth": 2
          },
          "yaxis": {
           "automargin": true,
           "gridcolor": "white",
           "linecolor": "white",
           "ticks": "",
           "title": {
            "standoff": 15
           },
           "zerolinecolor": "white",
           "zerolinewidth": 2
          }
         }
        },
        "xaxis": {
         "anchor": "y",
         "domain": [
          0,
          1
         ]
        },
        "yaxis": {
         "anchor": "x",
         "autorange": "reversed",
         "domain": [
          0,
          1
         ]
        }
       }
      }
     },
     "metadata": {},
     "output_type": "display_data"
    }
   ],
   "source": [
    "print(dot_products.shape)\n",
    "imshow_div(dot_products)"
   ]
  },
  {
   "attachments": {},
   "cell_type": "markdown",
   "metadata": {},
   "source": [
    "## What would your hypothesis around the attention head activations be based on seeing this?\n",
    "+ Jack - My poorly informed guess is that tokens with low dot products and/or low norms won't have any strong attentional interaction\n",
    "+ Omar - I think that corner moves [0, 2, 6, 8] will have similar attention patterns\n",
    "+ Ari - I think same as Omar, plus center attends to everything, middle edges have attention symmetry too"
   ]
  },
  {
   "cell_type": "code",
   "execution_count": null,
   "metadata": {},
   "outputs": [
    {
     "name": "stdout",
     "output_type": "stream",
     "text": [
      "<class 'transformer_lens.ActivationCache.ActivationCache'>\n",
      "torch.Size([8, 6, 6])\n"
     ]
    },
    {
     "data": {
      "text/html": [
       "<div id=\"circuits-vis-4c920c45-c6bc\" style=\"margin: 15px 0;\"/>\n",
       "    <script crossorigin type=\"module\">\n",
       "    import { render, AttentionPatterns } from \"https://unpkg.com/circuitsvis@1.40.0/dist/cdn/esm.js\";\n",
       "    render(\n",
       "      \"circuits-vis-4c920c45-c6bc\",\n",
       "      AttentionPatterns,\n",
       "      {\"tokens\": [\"10\", \"3\", \"0\", \"4\", \"1\", \"5\"], \"attention\": [[[1.0, 0.0, 0.0, 0.0, 0.0, 0.0], [0.6231914758682251, 0.3768085241317749, 0.0, 0.0, 0.0, 0.0], [0.21712267398834229, 0.13723857700824738, 0.6456387042999268, 0.0, 0.0, 0.0], [0.1271132528781891, 0.20582231879234314, 0.1446070671081543, 0.5224573612213135, 0.0, 0.0], [0.738166868686676, 0.08191418647766113, 0.033398088067770004, 0.09309333562850952, 0.0534275583922863, 0.0], [0.343390554189682, 0.05492411181330681, 0.08306495100259781, 0.16252031922340393, 0.15074756741523743, 0.2053525447845459]], [[1.0, 0.0, 0.0, 0.0, 0.0, 0.0], [0.7168532013893127, 0.28314679861068726, 0.0, 0.0, 0.0, 0.0], [0.07463879883289337, 0.791669487953186, 0.13369174301624298, 0.0, 0.0, 0.0], [0.11780055612325668, 0.5259373188018799, 0.12925393879413605, 0.2270081341266632, 0.0, 0.0], [0.05797989293932915, 0.1309308111667633, 0.18700581789016724, 0.19898207485675812, 0.4251013398170471, 0.0], [0.10878144204616547, 0.24373650550842285, 0.12848980724811554, 0.1904936283826828, 0.18228472769260406, 0.14621390402317047]], [[1.0, 0.0, 0.0, 0.0, 0.0, 0.0], [0.9319105744361877, 0.06808944791555405, 0.0, 0.0, 0.0, 0.0], [0.20970065891742706, 0.2812938094139099, 0.5090055465698242, 0.0, 0.0, 0.0], [0.1396029144525528, 0.10814572870731354, 0.25498488545417786, 0.4972664713859558, 0.0, 0.0], [0.1113145723938942, 0.29332512617111206, 0.3114471137523651, 0.19319240748882294, 0.09072080254554749, 0.0], [0.08756981790065765, 0.2539384961128235, 0.17027917504310608, 0.19590187072753906, 0.1184883639216423, 0.1738223135471344]], [[1.0, 0.0, 0.0, 0.0, 0.0, 0.0], [0.7759712934494019, 0.22402876615524292, 0.0, 0.0, 0.0, 0.0], [0.0712195560336113, 0.4603566527366638, 0.4684237837791443, 0.0, 0.0, 0.0], [0.6396620869636536, 0.07813938707113266, 0.20240476727485657, 0.07979375869035721, 0.0, 0.0], [0.10778707265853882, 0.05334019660949707, 0.12187238037586212, 0.09863746166229248, 0.6183628439903259, 0.0], [0.027546921744942665, 0.023234643042087555, 0.09414195269346237, 0.10472813248634338, 0.34117498993873596, 0.4091733694076538]], [[1.0, 0.0, 0.0, 0.0, 0.0, 0.0], [0.640457272529602, 0.35954272747039795, 0.0, 0.0, 0.0, 0.0], [0.24254080653190613, 0.3386666476726532, 0.4187924861907959, 0.0, 0.0, 0.0], [0.8967034816741943, 0.02942015789449215, 0.01945493370294571, 0.05442139133810997, 0.0, 0.0], [0.1464509814977646, 0.1900925189256668, 0.11605629324913025, 0.24913568794727325, 0.2982645034790039, 0.0], [0.07955433428287506, 0.2062888890504837, 0.0886145755648613, 0.24499768018722534, 0.1753024011850357, 0.20524215698242188]], [[1.0, 0.0, 0.0, 0.0, 0.0, 0.0], [0.8351045250892639, 0.16489551961421967, 0.0, 0.0, 0.0, 0.0], [0.6342106461524963, 0.19927076995372772, 0.16651862859725952, 0.0, 0.0, 0.0], [0.45099586248397827, 0.15608538687229156, 0.020029742270708084, 0.37288907170295715, 0.0, 0.0], [0.6224439740180969, 0.17920193076133728, 0.029136450961232185, 0.13509269058704376, 0.034124936908483505, 0.0], [0.44208016991615295, 0.16207559406757355, 0.0681324377655983, 0.15002232789993286, 0.09652332216501236, 0.08116617798805237]], [[1.0, 0.0, 0.0, 0.0, 0.0, 0.0], [0.5212610363960266, 0.4787389636039734, 0.0, 0.0, 0.0, 0.0], [0.20073989033699036, 0.24925628304481506, 0.5500037670135498, 0.0, 0.0, 0.0], [0.4496675729751587, 0.16487443447113037, 0.2822380065917969, 0.10321991890668869, 0.0, 0.0], [0.19743002951145172, 0.07828518748283386, 0.3383771777153015, 0.15731264650821686, 0.22859495878219604, 0.0], [0.18646089732646942, 0.06106850132346153, 0.10833349823951721, 0.14437825977802277, 0.2744261920452118, 0.22533264756202698]], [[1.0, 0.0, 0.0, 0.0, 0.0, 0.0], [0.34138259291648865, 0.658617377281189, 0.0, 0.0, 0.0, 0.0], [0.43768253922462463, 0.3442498743534088, 0.21806763112545013, 0.0, 0.0, 0.0], [0.20362427830696106, 0.13303877413272858, 0.37507888674736023, 0.2882581055164337, 0.0, 0.0], [0.2683725357055664, 0.08865617215633392, 0.06459099799394608, 0.38212764263153076, 0.1962527334690094, 0.0], [0.3194919526576996, 0.0799221396446228, 0.05687372758984566, 0.3051990270614624, 0.08143827319145203, 0.15707488358020782]]]}\n",
       "    )\n",
       "    </script>"
      ],
      "text/plain": [
       "<circuitsvis.utils.render.RenderedHTML at 0x7f3be2778550>"
      ]
     },
     "execution_count": 137,
     "metadata": {},
     "output_type": "execute_result"
    }
   ],
   "source": [
    "tokens = [10,3,0,4,1,5]\n",
    "# tokens = ([10] * 5) + [1,2,5,8,7]\n",
    "str_tokens = [str(token) for token in tokens]\n",
    "logits, cache = model.run_with_cache(torch.tensor(tokens).to('cuda'), remove_batch_dim=True)\n",
    "\n",
    "print(type(cache))\n",
    "attention_pattern = cache[\"pattern\", 3, \"attn\"]\n",
    "print(attention_pattern.shape)\n",
    "cv.attention.attention_patterns(tokens=str_tokens, attention=attention_pattern)"
   ]
  },
  {
   "cell_type": "code",
   "execution_count": 9,
   "metadata": {},
   "outputs": [],
   "source": [
    "def sample_game(model: HookedTransformer, temp: float) -> list[int]:\n",
    "    assert temp > 0\n",
    "    seq = [10]\n",
    "    #no grad\n",
    "    with t.no_grad():\n",
    "        for _ in range(8):\n",
    "            logits = model(t.tensor(seq))[0, -1]\n",
    "            probs = t.softmax(logits / temp, dim=0)\n",
    "            token = t.multinomial(probs, num_samples=1).item()\n",
    "    return seq"
   ]
  },
  {
   "cell_type": "code",
   "execution_count": 10,
   "metadata": {},
   "outputs": [],
   "source": [
    "ln_model = torch.load(\"with_ln.pt\")"
   ]
  },
  {
   "cell_type": "code",
   "execution_count": 12,
   "metadata": {},
   "outputs": [
    {
     "name": "stdout",
     "output_type": "stream",
     "text": [
      "tensor([0.0038, 0.2533, 0.3361, 0.0118, 0.1392, 0.0060, 0.0099, 0.0040, 0.2162,\n",
      "        0.0197], device='cuda:0', grad_fn=<SoftmaxBackward0>)\n",
      "2\n"
     ]
    }
   ],
   "source": [
    "seq = [10, 0, 7, 3, 5, 6]\n",
    "logits = model(t.tensor(seq))[0, -1]\n",
    "probs = t.softmax(logits, dim=0)\n",
    "print(probs)\n",
    "token = t.multinomial(probs, num_samples=1).item()\n",
    "print(token)"
   ]
  },
  {
   "cell_type": "code",
   "execution_count": 71,
   "metadata": {},
   "outputs": [
    {
     "name": "stdout",
     "output_type": "stream",
     "text": [
      "| X |   |   |\n",
      "| X |   | O |\n",
      "| X | O |   |\n"
     ]
    }
   ],
   "source": [
    "board.make_move(6)\n",
    "board.draw_board()"
   ]
  },
  {
   "cell_type": "code",
   "execution_count": 66,
   "metadata": {},
   "outputs": [],
   "source": [
    "board = Board()"
   ]
  },
  {
   "cell_type": "code",
   "execution_count": 11,
   "metadata": {},
   "outputs": [],
   "source": [
    "def sample_games(model: HookedTransformer, temp: float, num_games: int) -> list[list[int]]:\n",
    "    games=[]\n",
    "    for _ in tqdm.tqdm(range(num_games)):\n",
    "        games.append(sample_game(model, temp))\n",
    "    return games\n"
   ]
  },
  {
   "cell_type": "code",
   "execution_count": null,
   "metadata": {},
   "outputs": [],
   "source": [
    "model_all_games = torch.load('./model_all_games.pt')\n",
    "model_good_games = torch.load('./model_good_games.pt')\n",
    "model_no_games = torch.load('./model_no_games.pt')"
   ]
  },
  {
   "cell_type": "code",
   "execution_count": null,
   "metadata": {},
   "outputs": [
    {
     "name": "stderr",
     "output_type": "stream",
     "text": [
      "  0%|          | 0/1000 [00:00<?, ?it/s]"
     ]
    },
    {
     "name": "stderr",
     "output_type": "stream",
     "text": [
      "100%|██████████| 1000/1000 [00:52<00:00, 19.21it/s]\n",
      "100%|██████████| 1000/1000 [00:27<00:00, 36.04it/s]\n",
      "100%|██████████| 1000/1000 [00:28<00:00, 34.63it/s]\n"
     ]
    }
   ],
   "source": [
    "all_games_samples = sample_games(model_all_games, temp=1, num_games=1000)\n",
    "good_games_samples = sample_games(model_good_games, temp=1, num_games=1000)\n",
    "no_games_samples = sample_games(model_no_games, temp=1, num_games=1000)"
   ]
  },
  {
   "cell_type": "code",
   "execution_count": 24,
   "metadata": {},
   "outputs": [
    {
     "name": "stderr",
     "output_type": "stream",
     "text": [
      "100%|██████████| 1000/1000 [00:22<00:00, 44.13it/s]\n"
     ]
    }
   ],
   "source": [
    "new_model_samples = sample_games(model, temp=1, num_games=1000)"
   ]
  },
  {
   "cell_type": "code",
   "execution_count": 25,
   "metadata": {},
   "outputs": [],
   "source": [
    "def check_illegal_moves(game: list[int]) -> bool:\n",
    "    clean_game = [token for token in game if token != 9]\n",
    "    set_length = len(set(clean_game))\n",
    "    return set_length == len(clean_game)\n",
    "\n",
    "def check_illegal_moves_again(games: list[list[int]]) -> list[bool]:\n",
    "    return [check_illegal_moves(game) for game in games]"
   ]
  },
  {
   "cell_type": "code",
   "execution_count": 26,
   "metadata": {},
   "outputs": [],
   "source": [
    "def error_rate(games: list[list[int]]) -> float:\n",
    "    return check_illegal_moves_again(games).count(False) / len(games)"
   ]
  },
  {
   "cell_type": "code",
   "execution_count": null,
   "metadata": {},
   "outputs": [
    {
     "name": "stdout",
     "output_type": "stream",
     "text": [
      "Error rate for new model: 0.025\n"
     ]
    }
   ],
   "source": [
    "print(f\"Error rate for new model: {error_rate(new_model_samples)}\")"
   ]
  },
  {
   "cell_type": "code",
   "execution_count": 28,
   "metadata": {},
   "outputs": [
    {
     "name": "stdout",
     "output_type": "stream",
     "text": [
      "[10, 4, 1, 2, 6, 0, 5, 8, 9]\n",
      "[10, 8, 2, 3, 1, 6, 7, 4, 5]\n"
     ]
    }
   ],
   "source": [
    "print(new_model_samples[9])\n",
    "print(new_model_samples[99])"
   ]
  },
  {
   "cell_type": "code",
   "execution_count": null,
   "metadata": {},
   "outputs": [
    {
     "name": "stdout",
     "output_type": "stream",
     "text": [
      "Error rate for all games: 1.0\n",
      "Error rate for good games: 1.0\n",
      "Error rate for no games: 0.973\n"
     ]
    }
   ],
   "source": [
    "error_rate_all_games =  check_illegal_moves_again(all_games_samples).count(False)/ len(all_games_samples)\n",
    "error_rate_good_games =  check_illegal_moves_again(good_games_samples).count(False)/ len(good_games_samples)\n",
    "error_rate_no_games =  check_illegal_moves_again(no_games_samples).count(False)/ len(no_games_samples)\n",
    "\n",
    "print(f\"Error rate for all games: {error_rate_all_games}\")\n",
    "print(f\"Error rate for good games: {error_rate_good_games}\")\n",
    "print(f\"Error rate for no games: {error_rate_no_games}\")\n"
   ]
  },
  {
   "cell_type": "code",
   "execution_count": null,
   "metadata": {},
   "outputs": [
    {
     "name": "stdout",
     "output_type": "stream",
     "text": [
      "[10, 3, 1, 7, 6, 3, 1, 0, 3]\n",
      "[10, 3, 1, 7, 3, 6, 1, 0, 3]\n"
     ]
    }
   ],
   "source": [
    "print(all_games_samples[9])\n",
    "print(all_games_samples[99])"
   ]
  },
  {
   "cell_type": "code",
   "execution_count": null,
   "metadata": {},
   "outputs": [
    {
     "name": "stdout",
     "output_type": "stream",
     "text": [
      "tensor([9.8593e-15, 6.2340e-11, 0.0000e+00, 9.1016e-09, 0.0000e+00, 5.3438e-36,\n",
      "        1.0420e-11, 1.0000e+00, 1.5051e-34, 7.2200e-39], device='cuda:0',\n",
      "       grad_fn=<SoftmaxBackward0>)\n"
     ]
    }
   ],
   "source": [
    "logits = model_all_games(t.tensor([10, 3, 1]))[0, -1]\n",
    "t.argmax(logits)\n",
    "probs = t.softmax(logits, dim=0)\n",
    "\n",
    "print(probs)"
   ]
  },
  {
   "cell_type": "code",
   "execution_count": null,
   "metadata": {},
   "outputs": [
    {
     "name": "stdout",
     "output_type": "stream",
     "text": [
      "1090.491104007059\n",
      "12134\n",
      "0.08987070248945599\n"
     ]
    }
   ],
   "source": [
    "board = Board()\n",
    "\n",
    "tree_entropy, games_seen = tree_walk(board, get_best_moves)\n",
    "print(tree_entropy)\n",
    "print(games_seen)\n",
    "print(tree_entropy/games_seen)"
   ]
  },
  {
   "cell_type": "code",
   "execution_count": null,
   "metadata": {},
   "outputs": [
    {
     "name": "stdout",
     "output_type": "stream",
     "text": [
      "212007.99713631268\n",
      "740170\n",
      "0.2864314915982986\n"
     ]
    }
   ],
   "source": [
    "board = Board()\n",
    "\n",
    "tree_entropy, games_seen = tree_walk(board, get_possible_moves)\n",
    "print(tree_entropy)\n",
    "print(games_seen)\n",
    "print(tree_entropy/games_seen)"
   ]
  },
  {
   "cell_type": "code",
   "execution_count": null,
   "metadata": {},
   "outputs": [],
   "source": [
    "board = Board()\n",
    "generate_tree(board, get_best_moves)"
   ]
  },
  {
   "cell_type": "code",
   "execution_count": 3,
   "metadata": {},
   "outputs": [],
   "source": [
    "trie = Trie()\n",
    "boards = [Board()]\n",
    "games = generate_all_games(boards)\n",
    "\n",
    "moves = [[10] + game.moves_played + ([9] * (10 - len(game.moves_played))) for game in games]\n",
    "\n",
    "\n",
    "#split moves into train and test randomly\n",
    "train_moves, _ = train_test_split(moves, test_size=0.2, random_state=42)\n",
    "\n",
    "for move in train_moves:\n",
    "    trie.insert(move)"
   ]
  },
  {
   "cell_type": "code",
   "execution_count": null,
   "metadata": {},
   "outputs": [
    {
     "data": {
      "text/plain": [
       "[10, 0, 1, 3, 2, 6, 9, 9, 9, 9]"
      ]
     },
     "execution_count": 9,
     "metadata": {},
     "output_type": "execute_result"
    }
   ],
   "source": [
    "moves[0]"
   ]
  },
  {
   "cell_type": "code",
   "execution_count": null,
   "metadata": {},
   "outputs": [
    {
     "data": {
      "image/png": "[encoded data removed]",
      "text/plain": [
       "<Figure size 432x288 with 2 Axes>"
      ]
     },
     "metadata": {
      "needs_background": "light"
     },
     "output_type": "display_data"
    }
   ],
   "source": [
    "#torch tensor 3 by 3\n",
    "first_move_entropy = t.tensor([[trie.partial_game_entropy([10, 0]), trie.partial_game_entropy([10, 1]), trie.partial_game_entropy([10, 2])], \n",
    "                               [trie.partial_game_entropy([10, 3]), trie.partial_game_entropy([10, 4]), trie.partial_game_entropy([10, 5])],\n",
    "                               [trie.partial_game_entropy([10, 6]), trie.partial_game_entropy([10, 7]), trie.partial_game_entropy([10, 8])]])\n",
    "\n",
    "#imshow tensor\n",
    "plt.imshow(first_move_entropy, cmap='ocean', interpolation='nearest');\n",
    "plt.colorbar();\n"
   ]
  },
  {
   "attachments": {},
   "cell_type": "markdown",
   "metadata": {},
   "source": [
    "#### Tic Tac Toe Entropy\n",
    "Calculated entropy for each first move on the board corresponding to a sequence of [10, n] where n is any position on the board. Symmetry of entropy can be seen in the image show plot above. Minor variations in entropy symmetry is due to the test train split. Below the training games for the transformer model are represented as a Trie data structure and average entropy is calculated over all tokens in the training set. This entropy represents the lower bound of cross entropy loss for the model. "
   ]
  },
  {
   "cell_type": "code",
   "execution_count": 4,
   "metadata": {},
   "outputs": [
    {
     "name": "stdout",
     "output_type": "stream",
     "text": [
      "Total Entropy: 2495850.8669433054\n",
      "Game Count: 204134\n",
      "Total Tokens: 2041340\n",
      "Average Entropy: 1.2226531919931543\n"
     ]
    }
   ],
   "source": [
    "print(f'Total Entropy: {trie.total_entropy()}')\n",
    "print(f'Game Count: {trie.root.game_count}')\n",
    "print(f'Total Tokens: {trie.root.game_count * 10}')\n",
    "print(f'Average Entropy: {trie.average_entropy()}')"
   ]
  }
 ],
 "metadata": {
  "kernelspec": {
   "display_name": "Python 3",
   "language": "python",
   "name": "python3"
  },
  "language_info": {
   "codemirror_mode": {
    "name": "ipython",
    "version": 3
   },
   "file_extension": ".py",
   "mimetype": "text/x-python",
   "name": "python",
   "nbconvert_exporter": "python",
   "pygments_lexer": "ipython3",
   "version": "3.11.2"
  },
  "orig_nbformat": 4
 },
 "nbformat": 4,
 "nbformat_minor": 2
}
