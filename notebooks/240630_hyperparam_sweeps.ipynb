{
 "cells": [
  {
   "cell_type": "code",
   "execution_count": 51,
   "metadata": {},
   "outputs": [],
   "source": [
    "from alphatoe import data, train, evals, interpretability\n",
    "import pandas as pd\n",
    "import numpy as np\n",
    "import matplotlib.pyplot as plt\n",
    "import os\n",
    "import re\n",
    "from tqdm import tqdm\n",
    "import json"
   ]
  },
  {
   "cell_type": "code",
   "execution_count": 52,
   "metadata": {},
   "outputs": [],
   "source": [
    "#look in directory for files containing \"hyperparam sweep\"\n",
    "files = os.listdir(\"../scripts/models\")\n",
    "files = [f for f in files if re.search(\"hyperparam sweep\", f)]\n",
    "models = [model for model in files if \".pt\" in model]\n",
    "jsons = [json for json in files if \".json\" in json]"
   ]
  },
  {
   "cell_type": "code",
   "execution_count": 53,
   "metadata": {},
   "outputs": [],
   "source": [
    "def run_evals(models, num_games = 200):\n",
    "    print(\"sampling games...\")\n",
    "    game_sets = []\n",
    "    for model in tqdm(models):\n",
    "        #load model\n",
    "        #drop .pt from model name\n",
    "        model = model.replace(\".pt\", \"\")\n",
    "        loaded_model = interpretability.load_model(\"../scripts/models/\" + model)\n",
    "        #sample games\n",
    "        game_sets.append(evals.sample_games(loaded_model, 1, num_games))\n",
    "    print(\"evaluating games...\")\n",
    "    results = [evals.eval_model(game_set) for game_set in game_sets]\n",
    "    return results"
   ]
  },
  {
   "cell_type": "code",
   "execution_count": 54,
   "metadata": {},
   "outputs": [
    {
     "name": "stdout",
     "output_type": "stream",
     "text": [
      "sampling games...\n"
     ]
    },
    {
     "name": "stderr",
     "output_type": "stream",
     "text": [
      "100%|██████████| 200/200 [00:02<00:00, 77.95it/s]\n",
      "100%|██████████| 200/200 [00:02<00:00, 77.14it/s]\n",
      "100%|██████████| 200/200 [00:02<00:00, 76.80it/s]\n",
      "100%|██████████| 200/200 [00:02<00:00, 77.34it/s]\n",
      "100%|██████████| 200/200 [00:02<00:00, 76.98it/s]\n",
      "100%|██████████| 200/200 [00:02<00:00, 78.43it/s]\n",
      "100%|██████████| 200/200 [00:02<00:00, 78.64it/s]\n",
      "100%|██████████| 200/200 [00:02<00:00, 79.99it/s]\n",
      "100%|██████████| 200/200 [00:02<00:00, 80.48it/s]\n",
      "100%|██████████| 200/200 [00:02<00:00, 78.62it/s]\n",
      "100%|██████████| 10/10 [00:25<00:00,  2.57s/it]\n"
     ]
    },
    {
     "name": "stdout",
     "output_type": "stream",
     "text": [
      "evaluating games...\n"
     ]
    },
    {
     "name": "stderr",
     "output_type": "stream",
     "text": [
      "200it [00:00, 11589.36it/s]\n",
      "200it [00:00, 11974.49it/s]\n",
      "200it [00:00, 11801.31it/s]\n",
      "200it [00:00, 11932.93it/s]\n",
      "200it [00:00, 12041.35it/s]\n",
      "200it [00:00, 12426.83it/s]\n",
      "200it [00:00, 12053.12it/s]\n",
      "200it [00:00, 11775.80it/s]\n",
      "200it [00:00, 12649.64it/s]\n",
      "200it [00:00, 11784.07it/s]\n"
     ]
    }
   ],
   "source": [
    "eval_results = run_evals(models)"
   ]
  },
  {
   "cell_type": "code",
   "execution_count": 55,
   "metadata": {},
   "outputs": [
    {
     "name": "stdout",
     "output_type": "stream",
     "text": [
      "<zip object at 0x7f1a9226b4c0>\n"
     ]
    }
   ],
   "source": [
    "eval_results = zip(models, eval_results)\n",
    "print(eval_results)"
   ]
  },
  {
   "cell_type": "code",
   "execution_count": 56,
   "metadata": {},
   "outputs": [
    {
     "name": "stdout",
     "output_type": "stream",
     "text": [
      "hyperparam sweep-20240628-173455.pt {'_check_played_repeat_moves': 0.0, '_check_played_after_player_victory': 0.105, '_check_played_after_draw_game': 0.0, 'inappropriate_end_state': 0.015, '_check_if_illegal_moves': 0.12}\n",
      "hyperparam sweep-20240628-024800.pt {'_check_played_repeat_moves': 0.0, '_check_played_after_player_victory': 0.0, '_check_played_after_draw_game': 0.0, 'inappropriate_end_state': 0.0, '_check_if_illegal_moves': 0.0}\n",
      "hyperparam sweep-20240627-190411.pt {'_check_played_repeat_moves': 0.03, '_check_played_after_player_victory': 0.155, '_check_played_after_draw_game': 0.0, 'inappropriate_end_state': 0.05, '_check_if_illegal_moves': 0.225}\n",
      "hyperparam sweep-20240628-142857.pt {'_check_played_repeat_moves': 0.0, '_check_played_after_player_victory': 0.0, '_check_played_after_draw_game': 0.0, 'inappropriate_end_state': 0.0, '_check_if_illegal_moves': 0.0}\n",
      "hyperparam sweep-20240627-173715.pt {'_check_played_repeat_moves': 0.0, '_check_played_after_player_victory': 0.0, '_check_played_after_draw_game': 0.0, 'inappropriate_end_state': 0.0, '_check_if_illegal_moves': 0.0}\n",
      "hyperparam sweep-20240627-194355.pt {'_check_played_repeat_moves': 0.0, '_check_played_after_player_victory': 0.485, '_check_played_after_draw_game': 0.0, 'inappropriate_end_state': 0.225, '_check_if_illegal_moves': 0.71}\n",
      "hyperparam sweep-20240629-021155.pt {'_check_played_repeat_moves': 0.0, '_check_played_after_player_victory': 0.1, '_check_played_after_draw_game': 0.0, 'inappropriate_end_state': 0.015, '_check_if_illegal_moves': 0.115}\n",
      "hyperparam sweep-20240629-055457.pt {'_check_played_repeat_moves': 0.0, '_check_played_after_player_victory': 0.0, '_check_played_after_draw_game': 0.0, 'inappropriate_end_state': 0.0, '_check_if_illegal_moves': 0.0}\n",
      "hyperparam sweep-20240628-193909.pt {'_check_played_repeat_moves': 0.1, '_check_played_after_player_victory': 0.485, '_check_played_after_draw_game': 0.0, 'inappropriate_end_state': 0.195, '_check_if_illegal_moves': 0.765}\n",
      "hyperparam sweep-20240627-200808.pt {'_check_played_repeat_moves': 0.0, '_check_played_after_player_victory': 0.0, '_check_played_after_draw_game': 0.0, 'inappropriate_end_state': 0.0, '_check_if_illegal_moves': 0.0}\n"
     ]
    }
   ],
   "source": [
    "for model, result in eval_results:\n",
    "    print(model, result)"
   ]
  }
 ],
 "metadata": {
  "kernelspec": {
   "display_name": ".venv",
   "language": "python",
   "name": "python3"
  },
  "language_info": {
   "codemirror_mode": {
    "name": "ipython",
    "version": 3
   },
   "file_extension": ".py",
   "mimetype": "text/x-python",
   "name": "python",
   "nbconvert_exporter": "python",
   "pygments_lexer": "ipython3",
   "version": "3.10.9"
  }
 },
 "nbformat": 4,
 "nbformat_minor": 2
}
